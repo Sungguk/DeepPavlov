{
 "cells": [
  {
   "cell_type": "code",
   "execution_count": 1,
   "metadata": {},
   "outputs": [],
   "source": [
    "import json\n",
    "from pathlib import Path\n",
    "import numpy as np\n",
    "from copy import deepcopy\n",
    "import pandas as pd\n",
    "\n",
    "from deeppavlov.core.commands.train import read_data_by_config, train_evaluate_model_from_config\n",
    "from deeppavlov.core.commands.infer import interact_model, build_model_from_config\n",
    "from deeppavlov.core.commands.utils import expand_path\n",
    "from deeppavlov.core.common.params import from_params\n",
    "from deeppavlov.core.common.errors import ConfigError"
   ]
  },
  {
   "cell_type": "code",
   "execution_count": 2,
   "metadata": {},
   "outputs": [],
   "source": [
    "# read unlabelled data for label propagation\n",
    "def read_unlabelled_data(UNLABELLED_DATA_PATH):\n",
    "    with open(UNLABELLED_DATA_PATH, \"r\") as f:\n",
    "        unlabelled_data = f.read().splitlines()\n",
    "    unlabelled_data = [x for x in unlabelled_data if x != '']\n",
    "    return unlabelled_data"
   ]
  },
  {
   "cell_type": "code",
   "execution_count": 3,
   "metadata": {
    "scrolled": true
   },
   "outputs": [],
   "source": [
    "def make_pl_config(CONFIG_PATH):\n",
    "    config_path_pl = Path(CONFIG_PATH).parent / Path(Path(CONFIG_PATH).stem + \"_pl.json\")\n",
    "\n",
    "    with open(CONFIG_PATH, \"r\") as f:\n",
    "        config = json.load(f)\n",
    "    \n",
    "    config_pl = deepcopy(config)\n",
    "    config_pl[\"dataset_reader\"][\"train\"] = Path(config_pl[\"dataset_reader\"].get(\"train\", \"train.csv\")).stem + \"_pl.csv\"\n",
    "    \n",
    "    with open(config_path_pl, \"w\") as f:\n",
    "        json.dump(config_pl, f, indent=2)\n",
    "    \n",
    "    return config, config_pl"
   ]
  },
  {
   "cell_type": "code",
   "execution_count": 4,
   "metadata": {},
   "outputs": [],
   "source": [
    "def save_extended_data(config, samples, labels, new_config = None):\n",
    "    train_data = read_data_by_config(deepcopy(config))\n",
    "    \n",
    "    for i in range(len(samples)):\n",
    "        train_data[\"train\"].append((samples[i], labels[i]))\n",
    "    df = pd.DataFrame(train_data[\"train\"], \n",
    "                      columns=[config[\"dataset_reader\"][\"x\"], \n",
    "                               config[\"dataset_reader\"][\"y\"]])\n",
    "    df[config[\"dataset_reader\"][\"y\"]] = df[config[\"dataset_reader\"][\"y\"]].apply(\n",
    "        lambda x: config[\"dataset_reader\"].get(\"class_sep\", \",\").join(x))\n",
    "    \n",
    "    if new_config is not None:\n",
    "        config = new_config\n",
    "    file = expand_path(Path(config[\"dataset_reader\"][\"data_path\"]) / \n",
    "                       Path(config[\"dataset_reader\"][\"train\"]))\n",
    "\n",
    "    if config[\"dataset_reader\"].get(\"format\", \"csv\") == \"csv\":\n",
    "        keys = ('sep', 'header', 'names')\n",
    "        df.to_csv(file, \n",
    "                  index=False,\n",
    "                  sep=config[\"dataset_reader\"].get(\"sep\", \",\")\n",
    "                 )\n",
    "    elif config[\"dataset_reader\"].get(\"format\", \"csv\") == \"json\":\n",
    "        keys = ('orient', 'lines')\n",
    "        df.to_json(file, \n",
    "                  index=False,\n",
    "                  orient=config[\"dataset_reader\"].get(\"orient\", None),\n",
    "                  lines=config[\"dataset_reader\"].get(\"lines\", False)\n",
    "                  )\n",
    "    else:\n",
    "        raise ConfigError(\"Can not work with current data format\")"
   ]
  },
  {
   "cell_type": "code",
   "execution_count": 5,
   "metadata": {},
   "outputs": [],
   "source": [
    "# manually given parameters for pseudo-labeling\n",
    "\n",
    "# path to config file\n",
    "CONFIG_PATH = \"../deeppavlov/configs/classifiers/yahoo_answers_L31_fulltext.json\"\n",
    "# path to file with unlabelled data\n",
    "UNLABELLED_DATA_PATH = \"../download/YahooAnswers/yahoo_answers_data/question_L6.txt\"\n",
    "# number of samples that are going to be labelled during one iteration of label propagation\n",
    "ONE_ITERATION_PORTION = 2000\n",
    "# number of iterations\n",
    "N_ITERATIONS = 10\n",
    "CLASSES_VOCAB_ID_IN_PIPE = 0\n",
    "CONFIDENT_PROBA = 0.9"
   ]
  },
  {
   "cell_type": "code",
   "execution_count": 6,
   "metadata": {},
   "outputs": [],
   "source": [
    "# read unlabelled dataset\n",
    "unlabelled_data = read_unlabelled_data(UNLABELLED_DATA_PATH)\n",
    "# read config, compose new one, save it\n",
    "config, config_pl = make_pl_config(CONFIG_PATH)\n",
    "# save initial dataset as extended\n",
    "save_extended_data(config, [], [], new_config=config_pl)"
   ]
  },
  {
   "cell_type": "code",
   "execution_count": null,
   "metadata": {
    "scrolled": true
   },
   "outputs": [
    {
     "name": "stderr",
     "output_type": "stream",
     "text": [
      "2018-11-09 11:09:18.792 INFO in 'deeppavlov.core.data.simple_vocab'['simple_vocab'] at line 89: [saving vocabulary to /home/dilyara/Documents/GitHub/DeepPavlov/download/YahooAnswers/models/model_v8/yahoo_answers_classes.dict]\n",
      "[nltk_data] Downloading package punkt to /home/dilyara/nltk_data...\n",
      "[nltk_data]   Package punkt is already up-to-date!\n",
      "[nltk_data] Downloading package stopwords to\n",
      "[nltk_data]     /home/dilyara/nltk_data...\n",
      "[nltk_data]   Package stopwords is already up-to-date!\n",
      "[nltk_data] Downloading package perluniprops to\n",
      "[nltk_data]     /home/dilyara/nltk_data...\n",
      "[nltk_data]   Package perluniprops is already up-to-date!\n",
      "[nltk_data] Downloading package nonbreaking_prefixes to\n",
      "[nltk_data]     /home/dilyara/nltk_data...\n",
      "[nltk_data]   Package nonbreaking_prefixes is already up-to-date!\n",
      "Using TensorFlow backend.\n",
      "2018-11-09 11:09:20.16 INFO in 'tensorflow'['tf_logging'] at line 159: Using /tmp/tfhub_modules to cache modules.\n",
      "2018-11-09 11:09:20.476 DEBUG in 'tensorflow'['tf_logging'] at line 100: Initialize variable module/aggregation/scaling:0 from checkpoint b'/tmp/tfhub_modules/9bb74bc86f9caffc8c47dd7b33ec4bb354d9602d/variables/variables' with aggregation/scaling\n",
      "2018-11-09 11:09:20.479 DEBUG in 'tensorflow'['tf_logging'] at line 100: Initialize variable module/aggregation/weights:0 from checkpoint b'/tmp/tfhub_modules/9bb74bc86f9caffc8c47dd7b33ec4bb354d9602d/variables/variables' with aggregation/weights\n",
      "2018-11-09 11:09:20.482 DEBUG in 'tensorflow'['tf_logging'] at line 100: Initialize variable module/bilm/CNN/W_cnn_0:0 from checkpoint b'/tmp/tfhub_modules/9bb74bc86f9caffc8c47dd7b33ec4bb354d9602d/variables/variables' with bilm/CNN/W_cnn_0\n",
      "2018-11-09 11:09:20.486 DEBUG in 'tensorflow'['tf_logging'] at line 100: Initialize variable module/bilm/CNN/W_cnn_1:0 from checkpoint b'/tmp/tfhub_modules/9bb74bc86f9caffc8c47dd7b33ec4bb354d9602d/variables/variables' with bilm/CNN/W_cnn_1\n",
      "2018-11-09 11:09:20.491 DEBUG in 'tensorflow'['tf_logging'] at line 100: Initialize variable module/bilm/CNN/W_cnn_2:0 from checkpoint b'/tmp/tfhub_modules/9bb74bc86f9caffc8c47dd7b33ec4bb354d9602d/variables/variables' with bilm/CNN/W_cnn_2\n",
      "2018-11-09 11:09:20.494 DEBUG in 'tensorflow'['tf_logging'] at line 100: Initialize variable module/bilm/CNN/W_cnn_3:0 from checkpoint b'/tmp/tfhub_modules/9bb74bc86f9caffc8c47dd7b33ec4bb354d9602d/variables/variables' with bilm/CNN/W_cnn_3\n",
      "2018-11-09 11:09:20.499 DEBUG in 'tensorflow'['tf_logging'] at line 100: Initialize variable module/bilm/CNN/W_cnn_4:0 from checkpoint b'/tmp/tfhub_modules/9bb74bc86f9caffc8c47dd7b33ec4bb354d9602d/variables/variables' with bilm/CNN/W_cnn_4\n",
      "2018-11-09 11:09:20.503 DEBUG in 'tensorflow'['tf_logging'] at line 100: Initialize variable module/bilm/CNN/W_cnn_5:0 from checkpoint b'/tmp/tfhub_modules/9bb74bc86f9caffc8c47dd7b33ec4bb354d9602d/variables/variables' with bilm/CNN/W_cnn_5\n",
      "2018-11-09 11:09:20.506 DEBUG in 'tensorflow'['tf_logging'] at line 100: Initialize variable module/bilm/CNN/W_cnn_6:0 from checkpoint b'/tmp/tfhub_modules/9bb74bc86f9caffc8c47dd7b33ec4bb354d9602d/variables/variables' with bilm/CNN/W_cnn_6\n",
      "2018-11-09 11:09:20.509 DEBUG in 'tensorflow'['tf_logging'] at line 100: Initialize variable module/bilm/CNN/b_cnn_0:0 from checkpoint b'/tmp/tfhub_modules/9bb74bc86f9caffc8c47dd7b33ec4bb354d9602d/variables/variables' with bilm/CNN/b_cnn_0\n",
      "2018-11-09 11:09:20.514 DEBUG in 'tensorflow'['tf_logging'] at line 100: Initialize variable module/bilm/CNN/b_cnn_1:0 from checkpoint b'/tmp/tfhub_modules/9bb74bc86f9caffc8c47dd7b33ec4bb354d9602d/variables/variables' with bilm/CNN/b_cnn_1\n",
      "2018-11-09 11:09:20.517 DEBUG in 'tensorflow'['tf_logging'] at line 100: Initialize variable module/bilm/CNN/b_cnn_2:0 from checkpoint b'/tmp/tfhub_modules/9bb74bc86f9caffc8c47dd7b33ec4bb354d9602d/variables/variables' with bilm/CNN/b_cnn_2\n",
      "2018-11-09 11:09:20.522 DEBUG in 'tensorflow'['tf_logging'] at line 100: Initialize variable module/bilm/CNN/b_cnn_3:0 from checkpoint b'/tmp/tfhub_modules/9bb74bc86f9caffc8c47dd7b33ec4bb354d9602d/variables/variables' with bilm/CNN/b_cnn_3\n",
      "2018-11-09 11:09:20.526 DEBUG in 'tensorflow'['tf_logging'] at line 100: Initialize variable module/bilm/CNN/b_cnn_4:0 from checkpoint b'/tmp/tfhub_modules/9bb74bc86f9caffc8c47dd7b33ec4bb354d9602d/variables/variables' with bilm/CNN/b_cnn_4\n",
      "2018-11-09 11:09:20.530 DEBUG in 'tensorflow'['tf_logging'] at line 100: Initialize variable module/bilm/CNN/b_cnn_5:0 from checkpoint b'/tmp/tfhub_modules/9bb74bc86f9caffc8c47dd7b33ec4bb354d9602d/variables/variables' with bilm/CNN/b_cnn_5\n",
      "2018-11-09 11:09:20.533 DEBUG in 'tensorflow'['tf_logging'] at line 100: Initialize variable module/bilm/CNN/b_cnn_6:0 from checkpoint b'/tmp/tfhub_modules/9bb74bc86f9caffc8c47dd7b33ec4bb354d9602d/variables/variables' with bilm/CNN/b_cnn_6\n",
      "2018-11-09 11:09:20.535 DEBUG in 'tensorflow'['tf_logging'] at line 100: Initialize variable module/bilm/CNN_high_0/W_carry:0 from checkpoint b'/tmp/tfhub_modules/9bb74bc86f9caffc8c47dd7b33ec4bb354d9602d/variables/variables' with bilm/CNN_high_0/W_carry\n",
      "2018-11-09 11:09:20.539 DEBUG in 'tensorflow'['tf_logging'] at line 100: Initialize variable module/bilm/CNN_high_0/W_transform:0 from checkpoint b'/tmp/tfhub_modules/9bb74bc86f9caffc8c47dd7b33ec4bb354d9602d/variables/variables' with bilm/CNN_high_0/W_transform\n",
      "2018-11-09 11:09:20.542 DEBUG in 'tensorflow'['tf_logging'] at line 100: Initialize variable module/bilm/CNN_high_0/b_carry:0 from checkpoint b'/tmp/tfhub_modules/9bb74bc86f9caffc8c47dd7b33ec4bb354d9602d/variables/variables' with bilm/CNN_high_0/b_carry\n",
      "2018-11-09 11:09:20.547 DEBUG in 'tensorflow'['tf_logging'] at line 100: Initialize variable module/bilm/CNN_high_0/b_transform:0 from checkpoint b'/tmp/tfhub_modules/9bb74bc86f9caffc8c47dd7b33ec4bb354d9602d/variables/variables' with bilm/CNN_high_0/b_transform\n",
      "2018-11-09 11:09:20.550 DEBUG in 'tensorflow'['tf_logging'] at line 100: Initialize variable module/bilm/CNN_high_1/W_carry:0 from checkpoint b'/tmp/tfhub_modules/9bb74bc86f9caffc8c47dd7b33ec4bb354d9602d/variables/variables' with bilm/CNN_high_1/W_carry\n",
      "2018-11-09 11:09:20.552 DEBUG in 'tensorflow'['tf_logging'] at line 100: Initialize variable module/bilm/CNN_high_1/W_transform:0 from checkpoint b'/tmp/tfhub_modules/9bb74bc86f9caffc8c47dd7b33ec4bb354d9602d/variables/variables' with bilm/CNN_high_1/W_transform\n",
      "2018-11-09 11:09:20.556 DEBUG in 'tensorflow'['tf_logging'] at line 100: Initialize variable module/bilm/CNN_high_1/b_carry:0 from checkpoint b'/tmp/tfhub_modules/9bb74bc86f9caffc8c47dd7b33ec4bb354d9602d/variables/variables' with bilm/CNN_high_1/b_carry\n",
      "2018-11-09 11:09:20.561 DEBUG in 'tensorflow'['tf_logging'] at line 100: Initialize variable module/bilm/CNN_high_1/b_transform:0 from checkpoint b'/tmp/tfhub_modules/9bb74bc86f9caffc8c47dd7b33ec4bb354d9602d/variables/variables' with bilm/CNN_high_1/b_transform\n",
      "2018-11-09 11:09:20.564 DEBUG in 'tensorflow'['tf_logging'] at line 100: Initialize variable module/bilm/CNN_proj/W_proj:0 from checkpoint b'/tmp/tfhub_modules/9bb74bc86f9caffc8c47dd7b33ec4bb354d9602d/variables/variables' with bilm/CNN_proj/W_proj\n",
      "2018-11-09 11:09:20.567 DEBUG in 'tensorflow'['tf_logging'] at line 100: Initialize variable module/bilm/CNN_proj/b_proj:0 from checkpoint b'/tmp/tfhub_modules/9bb74bc86f9caffc8c47dd7b33ec4bb354d9602d/variables/variables' with bilm/CNN_proj/b_proj\n",
      "2018-11-09 11:09:20.570 DEBUG in 'tensorflow'['tf_logging'] at line 100: Initialize variable module/bilm/RNN_0/RNN/MultiRNNCell/Cell0/rnn/lstm_cell/bias:0 from checkpoint b'/tmp/tfhub_modules/9bb74bc86f9caffc8c47dd7b33ec4bb354d9602d/variables/variables' with bilm/RNN_0/RNN/MultiRNNCell/Cell0/rnn/lstm_cell/bias\n",
      "2018-11-09 11:09:20.573 DEBUG in 'tensorflow'['tf_logging'] at line 100: Initialize variable module/bilm/RNN_0/RNN/MultiRNNCell/Cell0/rnn/lstm_cell/kernel:0 from checkpoint b'/tmp/tfhub_modules/9bb74bc86f9caffc8c47dd7b33ec4bb354d9602d/variables/variables' with bilm/RNN_0/RNN/MultiRNNCell/Cell0/rnn/lstm_cell/kernel\n",
      "2018-11-09 11:09:20.576 DEBUG in 'tensorflow'['tf_logging'] at line 100: Initialize variable module/bilm/RNN_0/RNN/MultiRNNCell/Cell0/rnn/lstm_cell/projection/kernel:0 from checkpoint b'/tmp/tfhub_modules/9bb74bc86f9caffc8c47dd7b33ec4bb354d9602d/variables/variables' with bilm/RNN_0/RNN/MultiRNNCell/Cell0/rnn/lstm_cell/projection/kernel\n"
     ]
    },
    {
     "name": "stderr",
     "output_type": "stream",
     "text": [
      "2018-11-09 11:09:20.578 DEBUG in 'tensorflow'['tf_logging'] at line 100: Initialize variable module/bilm/RNN_0/RNN/MultiRNNCell/Cell1/rnn/lstm_cell/bias:0 from checkpoint b'/tmp/tfhub_modules/9bb74bc86f9caffc8c47dd7b33ec4bb354d9602d/variables/variables' with bilm/RNN_0/RNN/MultiRNNCell/Cell1/rnn/lstm_cell/bias\n",
      "2018-11-09 11:09:20.581 DEBUG in 'tensorflow'['tf_logging'] at line 100: Initialize variable module/bilm/RNN_0/RNN/MultiRNNCell/Cell1/rnn/lstm_cell/kernel:0 from checkpoint b'/tmp/tfhub_modules/9bb74bc86f9caffc8c47dd7b33ec4bb354d9602d/variables/variables' with bilm/RNN_0/RNN/MultiRNNCell/Cell1/rnn/lstm_cell/kernel\n",
      "2018-11-09 11:09:20.585 DEBUG in 'tensorflow'['tf_logging'] at line 100: Initialize variable module/bilm/RNN_0/RNN/MultiRNNCell/Cell1/rnn/lstm_cell/projection/kernel:0 from checkpoint b'/tmp/tfhub_modules/9bb74bc86f9caffc8c47dd7b33ec4bb354d9602d/variables/variables' with bilm/RNN_0/RNN/MultiRNNCell/Cell1/rnn/lstm_cell/projection/kernel\n",
      "2018-11-09 11:09:20.588 DEBUG in 'tensorflow'['tf_logging'] at line 100: Initialize variable module/bilm/RNN_1/RNN/MultiRNNCell/Cell0/rnn/lstm_cell/bias:0 from checkpoint b'/tmp/tfhub_modules/9bb74bc86f9caffc8c47dd7b33ec4bb354d9602d/variables/variables' with bilm/RNN_1/RNN/MultiRNNCell/Cell0/rnn/lstm_cell/bias\n",
      "2018-11-09 11:09:20.591 DEBUG in 'tensorflow'['tf_logging'] at line 100: Initialize variable module/bilm/RNN_1/RNN/MultiRNNCell/Cell0/rnn/lstm_cell/kernel:0 from checkpoint b'/tmp/tfhub_modules/9bb74bc86f9caffc8c47dd7b33ec4bb354d9602d/variables/variables' with bilm/RNN_1/RNN/MultiRNNCell/Cell0/rnn/lstm_cell/kernel\n",
      "2018-11-09 11:09:20.594 DEBUG in 'tensorflow'['tf_logging'] at line 100: Initialize variable module/bilm/RNN_1/RNN/MultiRNNCell/Cell0/rnn/lstm_cell/projection/kernel:0 from checkpoint b'/tmp/tfhub_modules/9bb74bc86f9caffc8c47dd7b33ec4bb354d9602d/variables/variables' with bilm/RNN_1/RNN/MultiRNNCell/Cell0/rnn/lstm_cell/projection/kernel\n",
      "2018-11-09 11:09:20.597 DEBUG in 'tensorflow'['tf_logging'] at line 100: Initialize variable module/bilm/RNN_1/RNN/MultiRNNCell/Cell1/rnn/lstm_cell/bias:0 from checkpoint b'/tmp/tfhub_modules/9bb74bc86f9caffc8c47dd7b33ec4bb354d9602d/variables/variables' with bilm/RNN_1/RNN/MultiRNNCell/Cell1/rnn/lstm_cell/bias\n",
      "2018-11-09 11:09:20.600 DEBUG in 'tensorflow'['tf_logging'] at line 100: Initialize variable module/bilm/RNN_1/RNN/MultiRNNCell/Cell1/rnn/lstm_cell/kernel:0 from checkpoint b'/tmp/tfhub_modules/9bb74bc86f9caffc8c47dd7b33ec4bb354d9602d/variables/variables' with bilm/RNN_1/RNN/MultiRNNCell/Cell1/rnn/lstm_cell/kernel\n",
      "2018-11-09 11:09:20.603 DEBUG in 'tensorflow'['tf_logging'] at line 100: Initialize variable module/bilm/RNN_1/RNN/MultiRNNCell/Cell1/rnn/lstm_cell/projection/kernel:0 from checkpoint b'/tmp/tfhub_modules/9bb74bc86f9caffc8c47dd7b33ec4bb354d9602d/variables/variables' with bilm/RNN_1/RNN/MultiRNNCell/Cell1/rnn/lstm_cell/projection/kernel\n",
      "2018-11-09 11:09:20.608 DEBUG in 'tensorflow'['tf_logging'] at line 100: Initialize variable module/bilm/char_embed:0 from checkpoint b'/tmp/tfhub_modules/9bb74bc86f9caffc8c47dd7b33ec4bb354d9602d/variables/variables' with bilm/char_embed\n",
      "2018-11-09 11:09:21.257 INFO in 'tensorflow'['tf_logging'] at line 115: Saver not created because there are no variables in the graph to restore\n",
      "2018-11-09 11:09:21.436 INFO in 'deeppavlov.models.classifiers.keras_classification_model'['keras_classification_model'] at line 261: [initializing `KerasClassificationModel` from scratch as gru_with_masking_model]\n",
      "2018-11-09 11:09:22.36 INFO in 'deeppavlov.models.classifiers.keras_classification_model'['keras_classification_model'] at line 135: Model was successfully initialized!\n",
      "Model summary:\n",
      "__________________________________________________________________________________________________\n",
      "Layer (type)                    Output Shape         Param #     Connected to                     \n",
      "==================================================================================================\n",
      "input_1 (InputLayer)            (None, 100, 1024)    0                                            \n",
      "__________________________________________________________________________________________________\n",
      "dropout_1 (Dropout)             (None, 100, 1024)    0           input_1[0][0]                    \n",
      "__________________________________________________________________________________________________\n",
      "bidirectional_1 (Bidirectional) [(None, 100, 512), ( 1967616     dropout_1[0][0]                  \n",
      "__________________________________________________________________________________________________\n",
      "global_max_pooling1d_1 (GlobalM (None, 512)          0           bidirectional_1[0][0]            \n",
      "__________________________________________________________________________________________________\n",
      "global_average_pooling1d_1 (Glo (None, 512)          0           bidirectional_1[0][0]            \n",
      "__________________________________________________________________________________________________\n",
      "concatenate_1 (Concatenate)     (None, 1536)         0           global_max_pooling1d_1[0][0]     \n",
      "                                                                 global_average_pooling1d_1[0][0] \n",
      "                                                                 bidirectional_1[0][1]            \n",
      "                                                                 bidirectional_1[0][2]            \n",
      "__________________________________________________________________________________________________\n",
      "dropout_2 (Dropout)             (None, 1536)         0           concatenate_1[0][0]              \n",
      "__________________________________________________________________________________________________\n",
      "dense_1 (Dense)                 (None, 100)          153700      dropout_2[0][0]                  \n",
      "__________________________________________________________________________________________________\n",
      "activation_1 (Activation)       (None, 100)          0           dense_1[0][0]                    \n",
      "__________________________________________________________________________________________________\n",
      "dropout_3 (Dropout)             (None, 100)          0           activation_1[0][0]               \n",
      "__________________________________________________________________________________________________\n",
      "dense_2 (Dense)                 (None, 2)            202         dropout_3[0][0]                  \n",
      "__________________________________________________________________________________________________\n",
      "activation_2 (Activation)       (None, 2)            0           dense_2[0][0]                    \n",
      "==================================================================================================\n",
      "Total params: 2,121,518\n",
      "Trainable params: 2,121,518\n",
      "Non-trainable params: 0\n",
      "__________________________________________________________________________________________________\n",
      "2018-11-09 11:09:41.233 INFO in 'deeppavlov.core.commands.train'['train'] at line 360: New best roc_auc of 0.61\n",
      "2018-11-09 11:09:41.234 INFO in 'deeppavlov.core.commands.train'['train'] at line 362: Saving model\n",
      "2018-11-09 11:09:41.235 INFO in 'deeppavlov.models.classifiers.keras_classification_model'['keras_classification_model'] at line 375: [saving model to /home/dilyara/Documents/GitHub/DeepPavlov/download/YahooAnswers/models/model_v8/model_opt.json]\n"
     ]
    },
    {
     "name": "stdout",
     "output_type": "stream",
     "text": [
      "{\"valid\": {\"eval_examples_count\": 403, \"metrics\": {\"roc_auc\": 0.61, \"sets_accuracy\": 0.5012, \"f1_macro\": 0.4685}, \"time_spent\": \"0:00:20\", \"epochs_done\": 0, \"batches_seen\": 0, \"train_examples_seen\": 0, \"impatience\": 0, \"patience_limit\": 5}}\n",
      "{\"train\": {\"epochs_done\": 1, \"batches_seen\": 4, \"train_examples_seen\": 3613, \"metrics\": {\"roc_auc\": 0.5523, \"sets_accuracy\": 0.5408, \"f1_macro\": 0.5266}, \"time_spent\": \"0:06:41\", \"loss\": 2.6326469630002975}}\n"
     ]
    },
    {
     "name": "stderr",
     "output_type": "stream",
     "text": [
      "/home/dilyara/anaconda3/envs/deep36/lib/python3.6/site-packages/sklearn/metrics/classification.py:1135: UndefinedMetricWarning: F-score is ill-defined and being set to 0.0 in labels with no predicted samples.\n",
      "  'precision', 'predicted', average, warn_for)\n",
      "2018-11-09 11:16:19.815 INFO in 'deeppavlov.core.commands.train'['train'] at line 525: Did not improve on the roc_auc of 0.61\n"
     ]
    },
    {
     "name": "stdout",
     "output_type": "stream",
     "text": [
      "{\"valid\": {\"eval_examples_count\": 403, \"metrics\": {\"roc_auc\": 0.5954, \"sets_accuracy\": 0.4442, \"f1_macro\": 0.3076}, \"time_spent\": \"0:06:58\", \"epochs_done\": 1, \"batches_seen\": 4, \"train_examples_seen\": 3613, \"impatience\": 1, \"patience_limit\": 5}}\n",
      "{\"train\": {\"epochs_done\": 2, \"batches_seen\": 8, \"train_examples_seen\": 7226, \"metrics\": {\"roc_auc\": 0.478, \"sets_accuracy\": 0.4791, \"f1_macro\": 0.4776}, \"time_spent\": \"0:13:08\", \"loss\": 0.7315232902765274}}\n"
     ]
    },
    {
     "name": "stderr",
     "output_type": "stream",
     "text": [
      "2018-11-09 11:22:46.678 INFO in 'deeppavlov.core.commands.train'['train'] at line 525: Did not improve on the roc_auc of 0.61\n"
     ]
    },
    {
     "name": "stdout",
     "output_type": "stream",
     "text": [
      "{\"valid\": {\"eval_examples_count\": 403, \"metrics\": {\"roc_auc\": 0.5555, \"sets_accuracy\": 0.603, \"f1_macro\": 0.4783}, \"time_spent\": \"0:13:25\", \"epochs_done\": 2, \"batches_seen\": 8, \"train_examples_seen\": 7226, \"impatience\": 2, \"patience_limit\": 5}}\n",
      "{\"train\": {\"epochs_done\": 3, \"batches_seen\": 12, \"train_examples_seen\": 10839, \"metrics\": {\"roc_auc\": 0.6096, \"sets_accuracy\": 0.6308, \"f1_macro\": 0.5706}, \"time_spent\": \"0:19:45\", \"loss\": 0.7229214012622833}}\n"
     ]
    },
    {
     "name": "stderr",
     "output_type": "stream",
     "text": [
      "2018-11-09 11:29:23.750 INFO in 'deeppavlov.core.commands.train'['train'] at line 525: Did not improve on the roc_auc of 0.61\n"
     ]
    },
    {
     "name": "stdout",
     "output_type": "stream",
     "text": [
      "{\"valid\": {\"eval_examples_count\": 403, \"metrics\": {\"roc_auc\": 0.5433, \"sets_accuracy\": 0.5732, \"f1_macro\": 0.4921}, \"time_spent\": \"0:20:02\", \"epochs_done\": 3, \"batches_seen\": 12, \"train_examples_seen\": 10839, \"impatience\": 3, \"patience_limit\": 5}}\n",
      "{\"train\": {\"epochs_done\": 4, \"batches_seen\": 16, \"train_examples_seen\": 14452, \"metrics\": {\"roc_auc\": 0.605, \"sets_accuracy\": 0.6371, \"f1_macro\": 0.5758}, \"time_spent\": \"0:26:09\", \"loss\": 0.7257255017757416}}\n"
     ]
    },
    {
     "name": "stderr",
     "output_type": "stream",
     "text": [
      "2018-11-09 11:35:46.633 INFO in 'deeppavlov.core.commands.train'['train'] at line 525: Did not improve on the roc_auc of 0.61\n"
     ]
    },
    {
     "name": "stdout",
     "output_type": "stream",
     "text": [
      "{\"valid\": {\"eval_examples_count\": 403, \"metrics\": {\"roc_auc\": 0.5526, \"sets_accuracy\": 0.5881, \"f1_macro\": 0.4869}, \"time_spent\": \"0:26:25\", \"epochs_done\": 4, \"batches_seen\": 16, \"train_examples_seen\": 14452, \"impatience\": 4, \"patience_limit\": 5}}\n",
      "{\"train\": {\"epochs_done\": 5, \"batches_seen\": 20, \"train_examples_seen\": 18065, \"metrics\": {\"roc_auc\": 0.6174, \"sets_accuracy\": 0.6402, \"f1_macro\": 0.5877}, \"time_spent\": \"0:32:31\", \"loss\": 0.7147586047649384}}\n"
     ]
    },
    {
     "name": "stderr",
     "output_type": "stream",
     "text": [
      "2018-11-09 11:42:08.549 INFO in 'deeppavlov.core.commands.train'['train'] at line 525: Did not improve on the roc_auc of 0.61\n",
      "2018-11-09 11:42:08.550 INFO in 'deeppavlov.core.commands.train'['train'] at line 536: Ran out of patience\n",
      "2018-11-09 11:42:08.552 INFO in 'deeppavlov.core.data.simple_vocab'['simple_vocab'] at line 100: [loading vocabulary from /home/dilyara/Documents/GitHub/DeepPavlov/download/YahooAnswers/models/model_v8/yahoo_answers_classes.dict]\n"
     ]
    },
    {
     "name": "stdout",
     "output_type": "stream",
     "text": [
      "{\"valid\": {\"eval_examples_count\": 403, \"metrics\": {\"roc_auc\": 0.5578, \"sets_accuracy\": 0.5931, \"f1_macro\": 0.5037}, \"time_spent\": \"0:32:47\", \"epochs_done\": 5, \"batches_seen\": 20, \"train_examples_seen\": 18065, \"impatience\": 5, \"patience_limit\": 5}}\n"
     ]
    },
    {
     "name": "stderr",
     "output_type": "stream",
     "text": [
      "2018-11-09 11:42:08.792 DEBUG in 'tensorflow'['tf_logging'] at line 100: Initialize variable module/aggregation/scaling:0 from checkpoint b'/tmp/tfhub_modules/9bb74bc86f9caffc8c47dd7b33ec4bb354d9602d/variables/variables' with aggregation/scaling\n",
      "2018-11-09 11:42:08.795 DEBUG in 'tensorflow'['tf_logging'] at line 100: Initialize variable module/aggregation/weights:0 from checkpoint b'/tmp/tfhub_modules/9bb74bc86f9caffc8c47dd7b33ec4bb354d9602d/variables/variables' with aggregation/weights\n",
      "2018-11-09 11:42:08.798 DEBUG in 'tensorflow'['tf_logging'] at line 100: Initialize variable module/bilm/CNN/W_cnn_0:0 from checkpoint b'/tmp/tfhub_modules/9bb74bc86f9caffc8c47dd7b33ec4bb354d9602d/variables/variables' with bilm/CNN/W_cnn_0\n",
      "2018-11-09 11:42:08.801 DEBUG in 'tensorflow'['tf_logging'] at line 100: Initialize variable module/bilm/CNN/W_cnn_1:0 from checkpoint b'/tmp/tfhub_modules/9bb74bc86f9caffc8c47dd7b33ec4bb354d9602d/variables/variables' with bilm/CNN/W_cnn_1\n",
      "2018-11-09 11:42:08.803 DEBUG in 'tensorflow'['tf_logging'] at line 100: Initialize variable module/bilm/CNN/W_cnn_2:0 from checkpoint b'/tmp/tfhub_modules/9bb74bc86f9caffc8c47dd7b33ec4bb354d9602d/variables/variables' with bilm/CNN/W_cnn_2\n",
      "2018-11-09 11:42:08.806 DEBUG in 'tensorflow'['tf_logging'] at line 100: Initialize variable module/bilm/CNN/W_cnn_3:0 from checkpoint b'/tmp/tfhub_modules/9bb74bc86f9caffc8c47dd7b33ec4bb354d9602d/variables/variables' with bilm/CNN/W_cnn_3\n",
      "2018-11-09 11:42:08.809 DEBUG in 'tensorflow'['tf_logging'] at line 100: Initialize variable module/bilm/CNN/W_cnn_4:0 from checkpoint b'/tmp/tfhub_modules/9bb74bc86f9caffc8c47dd7b33ec4bb354d9602d/variables/variables' with bilm/CNN/W_cnn_4\n",
      "2018-11-09 11:42:08.811 DEBUG in 'tensorflow'['tf_logging'] at line 100: Initialize variable module/bilm/CNN/W_cnn_5:0 from checkpoint b'/tmp/tfhub_modules/9bb74bc86f9caffc8c47dd7b33ec4bb354d9602d/variables/variables' with bilm/CNN/W_cnn_5\n",
      "2018-11-09 11:42:08.962 DEBUG in 'tensorflow'['tf_logging'] at line 100: Initialize variable module/bilm/CNN/W_cnn_6:0 from checkpoint b'/tmp/tfhub_modules/9bb74bc86f9caffc8c47dd7b33ec4bb354d9602d/variables/variables' with bilm/CNN/W_cnn_6\n",
      "2018-11-09 11:42:08.965 DEBUG in 'tensorflow'['tf_logging'] at line 100: Initialize variable module/bilm/CNN/b_cnn_0:0 from checkpoint b'/tmp/tfhub_modules/9bb74bc86f9caffc8c47dd7b33ec4bb354d9602d/variables/variables' with bilm/CNN/b_cnn_0\n",
      "2018-11-09 11:42:08.967 DEBUG in 'tensorflow'['tf_logging'] at line 100: Initialize variable module/bilm/CNN/b_cnn_1:0 from checkpoint b'/tmp/tfhub_modules/9bb74bc86f9caffc8c47dd7b33ec4bb354d9602d/variables/variables' with bilm/CNN/b_cnn_1\n",
      "2018-11-09 11:42:08.970 DEBUG in 'tensorflow'['tf_logging'] at line 100: Initialize variable module/bilm/CNN/b_cnn_2:0 from checkpoint b'/tmp/tfhub_modules/9bb74bc86f9caffc8c47dd7b33ec4bb354d9602d/variables/variables' with bilm/CNN/b_cnn_2\n",
      "2018-11-09 11:42:08.972 DEBUG in 'tensorflow'['tf_logging'] at line 100: Initialize variable module/bilm/CNN/b_cnn_3:0 from checkpoint b'/tmp/tfhub_modules/9bb74bc86f9caffc8c47dd7b33ec4bb354d9602d/variables/variables' with bilm/CNN/b_cnn_3\n",
      "2018-11-09 11:42:08.975 DEBUG in 'tensorflow'['tf_logging'] at line 100: Initialize variable module/bilm/CNN/b_cnn_4:0 from checkpoint b'/tmp/tfhub_modules/9bb74bc86f9caffc8c47dd7b33ec4bb354d9602d/variables/variables' with bilm/CNN/b_cnn_4\n",
      "2018-11-09 11:42:08.978 DEBUG in 'tensorflow'['tf_logging'] at line 100: Initialize variable module/bilm/CNN/b_cnn_5:0 from checkpoint b'/tmp/tfhub_modules/9bb74bc86f9caffc8c47dd7b33ec4bb354d9602d/variables/variables' with bilm/CNN/b_cnn_5\n",
      "2018-11-09 11:42:08.981 DEBUG in 'tensorflow'['tf_logging'] at line 100: Initialize variable module/bilm/CNN/b_cnn_6:0 from checkpoint b'/tmp/tfhub_modules/9bb74bc86f9caffc8c47dd7b33ec4bb354d9602d/variables/variables' with bilm/CNN/b_cnn_6\n",
      "2018-11-09 11:42:08.983 DEBUG in 'tensorflow'['tf_logging'] at line 100: Initialize variable module/bilm/CNN_high_0/W_carry:0 from checkpoint b'/tmp/tfhub_modules/9bb74bc86f9caffc8c47dd7b33ec4bb354d9602d/variables/variables' with bilm/CNN_high_0/W_carry\n",
      "2018-11-09 11:42:08.986 DEBUG in 'tensorflow'['tf_logging'] at line 100: Initialize variable module/bilm/CNN_high_0/W_transform:0 from checkpoint b'/tmp/tfhub_modules/9bb74bc86f9caffc8c47dd7b33ec4bb354d9602d/variables/variables' with bilm/CNN_high_0/W_transform\n",
      "2018-11-09 11:42:08.988 DEBUG in 'tensorflow'['tf_logging'] at line 100: Initialize variable module/bilm/CNN_high_0/b_carry:0 from checkpoint b'/tmp/tfhub_modules/9bb74bc86f9caffc8c47dd7b33ec4bb354d9602d/variables/variables' with bilm/CNN_high_0/b_carry\n",
      "2018-11-09 11:42:08.990 DEBUG in 'tensorflow'['tf_logging'] at line 100: Initialize variable module/bilm/CNN_high_0/b_transform:0 from checkpoint b'/tmp/tfhub_modules/9bb74bc86f9caffc8c47dd7b33ec4bb354d9602d/variables/variables' with bilm/CNN_high_0/b_transform\n",
      "2018-11-09 11:42:08.993 DEBUG in 'tensorflow'['tf_logging'] at line 100: Initialize variable module/bilm/CNN_high_1/W_carry:0 from checkpoint b'/tmp/tfhub_modules/9bb74bc86f9caffc8c47dd7b33ec4bb354d9602d/variables/variables' with bilm/CNN_high_1/W_carry\n",
      "2018-11-09 11:42:08.995 DEBUG in 'tensorflow'['tf_logging'] at line 100: Initialize variable module/bilm/CNN_high_1/W_transform:0 from checkpoint b'/tmp/tfhub_modules/9bb74bc86f9caffc8c47dd7b33ec4bb354d9602d/variables/variables' with bilm/CNN_high_1/W_transform\n",
      "2018-11-09 11:42:08.997 DEBUG in 'tensorflow'['tf_logging'] at line 100: Initialize variable module/bilm/CNN_high_1/b_carry:0 from checkpoint b'/tmp/tfhub_modules/9bb74bc86f9caffc8c47dd7b33ec4bb354d9602d/variables/variables' with bilm/CNN_high_1/b_carry\n",
      "2018-11-09 11:42:09.0 DEBUG in 'tensorflow'['tf_logging'] at line 100: Initialize variable module/bilm/CNN_high_1/b_transform:0 from checkpoint b'/tmp/tfhub_modules/9bb74bc86f9caffc8c47dd7b33ec4bb354d9602d/variables/variables' with bilm/CNN_high_1/b_transform\n",
      "2018-11-09 11:42:09.2 DEBUG in 'tensorflow'['tf_logging'] at line 100: Initialize variable module/bilm/CNN_proj/W_proj:0 from checkpoint b'/tmp/tfhub_modules/9bb74bc86f9caffc8c47dd7b33ec4bb354d9602d/variables/variables' with bilm/CNN_proj/W_proj\n",
      "2018-11-09 11:42:09.5 DEBUG in 'tensorflow'['tf_logging'] at line 100: Initialize variable module/bilm/CNN_proj/b_proj:0 from checkpoint b'/tmp/tfhub_modules/9bb74bc86f9caffc8c47dd7b33ec4bb354d9602d/variables/variables' with bilm/CNN_proj/b_proj\n",
      "2018-11-09 11:42:09.7 DEBUG in 'tensorflow'['tf_logging'] at line 100: Initialize variable module/bilm/RNN_0/RNN/MultiRNNCell/Cell0/rnn/lstm_cell/bias:0 from checkpoint b'/tmp/tfhub_modules/9bb74bc86f9caffc8c47dd7b33ec4bb354d9602d/variables/variables' with bilm/RNN_0/RNN/MultiRNNCell/Cell0/rnn/lstm_cell/bias\n",
      "2018-11-09 11:42:09.10 DEBUG in 'tensorflow'['tf_logging'] at line 100: Initialize variable module/bilm/RNN_0/RNN/MultiRNNCell/Cell0/rnn/lstm_cell/kernel:0 from checkpoint b'/tmp/tfhub_modules/9bb74bc86f9caffc8c47dd7b33ec4bb354d9602d/variables/variables' with bilm/RNN_0/RNN/MultiRNNCell/Cell0/rnn/lstm_cell/kernel\n",
      "2018-11-09 11:42:09.14 DEBUG in 'tensorflow'['tf_logging'] at line 100: Initialize variable module/bilm/RNN_0/RNN/MultiRNNCell/Cell0/rnn/lstm_cell/projection/kernel:0 from checkpoint b'/tmp/tfhub_modules/9bb74bc86f9caffc8c47dd7b33ec4bb354d9602d/variables/variables' with bilm/RNN_0/RNN/MultiRNNCell/Cell0/rnn/lstm_cell/projection/kernel\n",
      "2018-11-09 11:42:09.17 DEBUG in 'tensorflow'['tf_logging'] at line 100: Initialize variable module/bilm/RNN_0/RNN/MultiRNNCell/Cell1/rnn/lstm_cell/bias:0 from checkpoint b'/tmp/tfhub_modules/9bb74bc86f9caffc8c47dd7b33ec4bb354d9602d/variables/variables' with bilm/RNN_0/RNN/MultiRNNCell/Cell1/rnn/lstm_cell/bias\n",
      "2018-11-09 11:42:09.21 DEBUG in 'tensorflow'['tf_logging'] at line 100: Initialize variable module/bilm/RNN_0/RNN/MultiRNNCell/Cell1/rnn/lstm_cell/kernel:0 from checkpoint b'/tmp/tfhub_modules/9bb74bc86f9caffc8c47dd7b33ec4bb354d9602d/variables/variables' with bilm/RNN_0/RNN/MultiRNNCell/Cell1/rnn/lstm_cell/kernel\n",
      "2018-11-09 11:42:09.24 DEBUG in 'tensorflow'['tf_logging'] at line 100: Initialize variable module/bilm/RNN_0/RNN/MultiRNNCell/Cell1/rnn/lstm_cell/projection/kernel:0 from checkpoint b'/tmp/tfhub_modules/9bb74bc86f9caffc8c47dd7b33ec4bb354d9602d/variables/variables' with bilm/RNN_0/RNN/MultiRNNCell/Cell1/rnn/lstm_cell/projection/kernel\n"
     ]
    },
    {
     "name": "stderr",
     "output_type": "stream",
     "text": [
      "2018-11-09 11:42:09.27 DEBUG in 'tensorflow'['tf_logging'] at line 100: Initialize variable module/bilm/RNN_1/RNN/MultiRNNCell/Cell0/rnn/lstm_cell/bias:0 from checkpoint b'/tmp/tfhub_modules/9bb74bc86f9caffc8c47dd7b33ec4bb354d9602d/variables/variables' with bilm/RNN_1/RNN/MultiRNNCell/Cell0/rnn/lstm_cell/bias\n",
      "2018-11-09 11:42:09.29 DEBUG in 'tensorflow'['tf_logging'] at line 100: Initialize variable module/bilm/RNN_1/RNN/MultiRNNCell/Cell0/rnn/lstm_cell/kernel:0 from checkpoint b'/tmp/tfhub_modules/9bb74bc86f9caffc8c47dd7b33ec4bb354d9602d/variables/variables' with bilm/RNN_1/RNN/MultiRNNCell/Cell0/rnn/lstm_cell/kernel\n",
      "2018-11-09 11:42:09.32 DEBUG in 'tensorflow'['tf_logging'] at line 100: Initialize variable module/bilm/RNN_1/RNN/MultiRNNCell/Cell0/rnn/lstm_cell/projection/kernel:0 from checkpoint b'/tmp/tfhub_modules/9bb74bc86f9caffc8c47dd7b33ec4bb354d9602d/variables/variables' with bilm/RNN_1/RNN/MultiRNNCell/Cell0/rnn/lstm_cell/projection/kernel\n",
      "2018-11-09 11:42:09.34 DEBUG in 'tensorflow'['tf_logging'] at line 100: Initialize variable module/bilm/RNN_1/RNN/MultiRNNCell/Cell1/rnn/lstm_cell/bias:0 from checkpoint b'/tmp/tfhub_modules/9bb74bc86f9caffc8c47dd7b33ec4bb354d9602d/variables/variables' with bilm/RNN_1/RNN/MultiRNNCell/Cell1/rnn/lstm_cell/bias\n",
      "2018-11-09 11:42:09.36 DEBUG in 'tensorflow'['tf_logging'] at line 100: Initialize variable module/bilm/RNN_1/RNN/MultiRNNCell/Cell1/rnn/lstm_cell/kernel:0 from checkpoint b'/tmp/tfhub_modules/9bb74bc86f9caffc8c47dd7b33ec4bb354d9602d/variables/variables' with bilm/RNN_1/RNN/MultiRNNCell/Cell1/rnn/lstm_cell/kernel\n",
      "2018-11-09 11:42:09.39 DEBUG in 'tensorflow'['tf_logging'] at line 100: Initialize variable module/bilm/RNN_1/RNN/MultiRNNCell/Cell1/rnn/lstm_cell/projection/kernel:0 from checkpoint b'/tmp/tfhub_modules/9bb74bc86f9caffc8c47dd7b33ec4bb354d9602d/variables/variables' with bilm/RNN_1/RNN/MultiRNNCell/Cell1/rnn/lstm_cell/projection/kernel\n",
      "2018-11-09 11:42:09.41 DEBUG in 'tensorflow'['tf_logging'] at line 100: Initialize variable module/bilm/char_embed:0 from checkpoint b'/tmp/tfhub_modules/9bb74bc86f9caffc8c47dd7b33ec4bb354d9602d/variables/variables' with bilm/char_embed\n",
      "2018-11-09 11:42:09.284 INFO in 'tensorflow'['tf_logging'] at line 115: Saver not created because there are no variables in the graph to restore\n",
      "2018-11-09 11:42:09.461 INFO in 'deeppavlov.models.classifiers.keras_classification_model'['keras_classification_model'] at line 291: [initializing `KerasClassificationModel` from saved]\n",
      "2018-11-09 11:42:09.924 INFO in 'deeppavlov.models.classifiers.keras_classification_model'['keras_classification_model'] at line 301: [loading weights from model.h5]\n",
      "2018-11-09 11:42:10.19 INFO in 'deeppavlov.models.classifiers.keras_classification_model'['keras_classification_model'] at line 135: Model was successfully initialized!\n",
      "Model summary:\n",
      "__________________________________________________________________________________________________\n",
      "Layer (type)                    Output Shape         Param #     Connected to                     \n",
      "==================================================================================================\n",
      "input_1 (InputLayer)            (None, 100, 1024)    0                                            \n",
      "__________________________________________________________________________________________________\n",
      "dropout_1 (Dropout)             (None, 100, 1024)    0           input_1[0][0]                    \n",
      "__________________________________________________________________________________________________\n",
      "bidirectional_1 (Bidirectional) [(None, 100, 512), ( 1967616     dropout_1[0][0]                  \n",
      "__________________________________________________________________________________________________\n",
      "global_max_pooling1d_1 (GlobalM (None, 512)          0           bidirectional_1[0][0]            \n",
      "__________________________________________________________________________________________________\n",
      "global_average_pooling1d_1 (Glo (None, 512)          0           bidirectional_1[0][0]            \n",
      "__________________________________________________________________________________________________\n",
      "concatenate_1 (Concatenate)     (None, 1536)         0           global_max_pooling1d_1[0][0]     \n",
      "                                                                 global_average_pooling1d_1[0][0] \n",
      "                                                                 bidirectional_1[0][1]            \n",
      "                                                                 bidirectional_1[0][2]            \n",
      "__________________________________________________________________________________________________\n",
      "dropout_2 (Dropout)             (None, 1536)         0           concatenate_1[0][0]              \n",
      "__________________________________________________________________________________________________\n",
      "dense_1 (Dense)                 (None, 100)          153700      dropout_2[0][0]                  \n",
      "__________________________________________________________________________________________________\n",
      "activation_1 (Activation)       (None, 100)          0           dense_1[0][0]                    \n",
      "__________________________________________________________________________________________________\n",
      "dropout_3 (Dropout)             (None, 100)          0           activation_1[0][0]               \n",
      "__________________________________________________________________________________________________\n",
      "dense_2 (Dense)                 (None, 2)            202         dropout_3[0][0]                  \n",
      "__________________________________________________________________________________________________\n",
      "activation_2 (Activation)       (None, 2)            0           dense_2[0][0]                    \n",
      "==================================================================================================\n",
      "Total params: 2,121,518\n",
      "Trainable params: 2,121,518\n",
      "Non-trainable params: 0\n",
      "__________________________________________________________________________________________________\n",
      "2018-11-09 11:42:10.19 INFO in 'deeppavlov.core.commands.train'['train'] at line 221: Testing the best saved model\n"
     ]
    },
    {
     "name": "stdout",
     "output_type": "stream",
     "text": [
      "{\"valid\": {\"eval_examples_count\": 403, \"metrics\": {\"roc_auc\": 0.61, \"sets_accuracy\": 0.5012, \"f1_macro\": 0.4685}, \"time_spent\": \"0:00:17\"}}\n"
     ]
    },
    {
     "name": "stderr",
     "output_type": "stream",
     "text": [
      "2018-11-09 11:42:28.352 INFO in 'deeppavlov.core.data.simple_vocab'['simple_vocab'] at line 100: [loading vocabulary from /home/dilyara/Documents/GitHub/DeepPavlov/download/YahooAnswers/models/model_v8/yahoo_answers_classes.dict]\n"
     ]
    },
    {
     "name": "stdout",
     "output_type": "stream",
     "text": [
      "{\"test\": {\"eval_examples_count\": 100, \"metrics\": {\"roc_auc\": 0.6341, \"sets_accuracy\": 0.53, \"f1_macro\": 0.5296}, \"time_spent\": \"0:00:02\"}}\n"
     ]
    },
    {
     "name": "stderr",
     "output_type": "stream",
     "text": [
      "2018-11-09 11:42:28.597 DEBUG in 'tensorflow'['tf_logging'] at line 100: Initialize variable module/aggregation/scaling:0 from checkpoint b'/tmp/tfhub_modules/9bb74bc86f9caffc8c47dd7b33ec4bb354d9602d/variables/variables' with aggregation/scaling\n",
      "2018-11-09 11:42:28.599 DEBUG in 'tensorflow'['tf_logging'] at line 100: Initialize variable module/aggregation/weights:0 from checkpoint b'/tmp/tfhub_modules/9bb74bc86f9caffc8c47dd7b33ec4bb354d9602d/variables/variables' with aggregation/weights\n",
      "2018-11-09 11:42:28.602 DEBUG in 'tensorflow'['tf_logging'] at line 100: Initialize variable module/bilm/CNN/W_cnn_0:0 from checkpoint b'/tmp/tfhub_modules/9bb74bc86f9caffc8c47dd7b33ec4bb354d9602d/variables/variables' with bilm/CNN/W_cnn_0\n",
      "2018-11-09 11:42:28.605 DEBUG in 'tensorflow'['tf_logging'] at line 100: Initialize variable module/bilm/CNN/W_cnn_1:0 from checkpoint b'/tmp/tfhub_modules/9bb74bc86f9caffc8c47dd7b33ec4bb354d9602d/variables/variables' with bilm/CNN/W_cnn_1\n",
      "2018-11-09 11:42:28.608 DEBUG in 'tensorflow'['tf_logging'] at line 100: Initialize variable module/bilm/CNN/W_cnn_2:0 from checkpoint b'/tmp/tfhub_modules/9bb74bc86f9caffc8c47dd7b33ec4bb354d9602d/variables/variables' with bilm/CNN/W_cnn_2\n",
      "2018-11-09 11:42:28.610 DEBUG in 'tensorflow'['tf_logging'] at line 100: Initialize variable module/bilm/CNN/W_cnn_3:0 from checkpoint b'/tmp/tfhub_modules/9bb74bc86f9caffc8c47dd7b33ec4bb354d9602d/variables/variables' with bilm/CNN/W_cnn_3\n",
      "2018-11-09 11:42:28.613 DEBUG in 'tensorflow'['tf_logging'] at line 100: Initialize variable module/bilm/CNN/W_cnn_4:0 from checkpoint b'/tmp/tfhub_modules/9bb74bc86f9caffc8c47dd7b33ec4bb354d9602d/variables/variables' with bilm/CNN/W_cnn_4\n",
      "2018-11-09 11:42:28.615 DEBUG in 'tensorflow'['tf_logging'] at line 100: Initialize variable module/bilm/CNN/W_cnn_5:0 from checkpoint b'/tmp/tfhub_modules/9bb74bc86f9caffc8c47dd7b33ec4bb354d9602d/variables/variables' with bilm/CNN/W_cnn_5\n",
      "2018-11-09 11:42:28.618 DEBUG in 'tensorflow'['tf_logging'] at line 100: Initialize variable module/bilm/CNN/W_cnn_6:0 from checkpoint b'/tmp/tfhub_modules/9bb74bc86f9caffc8c47dd7b33ec4bb354d9602d/variables/variables' with bilm/CNN/W_cnn_6\n",
      "2018-11-09 11:42:28.621 DEBUG in 'tensorflow'['tf_logging'] at line 100: Initialize variable module/bilm/CNN/b_cnn_0:0 from checkpoint b'/tmp/tfhub_modules/9bb74bc86f9caffc8c47dd7b33ec4bb354d9602d/variables/variables' with bilm/CNN/b_cnn_0\n",
      "2018-11-09 11:42:28.623 DEBUG in 'tensorflow'['tf_logging'] at line 100: Initialize variable module/bilm/CNN/b_cnn_1:0 from checkpoint b'/tmp/tfhub_modules/9bb74bc86f9caffc8c47dd7b33ec4bb354d9602d/variables/variables' with bilm/CNN/b_cnn_1\n",
      "2018-11-09 11:42:28.626 DEBUG in 'tensorflow'['tf_logging'] at line 100: Initialize variable module/bilm/CNN/b_cnn_2:0 from checkpoint b'/tmp/tfhub_modules/9bb74bc86f9caffc8c47dd7b33ec4bb354d9602d/variables/variables' with bilm/CNN/b_cnn_2\n",
      "2018-11-09 11:42:28.628 DEBUG in 'tensorflow'['tf_logging'] at line 100: Initialize variable module/bilm/CNN/b_cnn_3:0 from checkpoint b'/tmp/tfhub_modules/9bb74bc86f9caffc8c47dd7b33ec4bb354d9602d/variables/variables' with bilm/CNN/b_cnn_3\n",
      "2018-11-09 11:42:28.631 DEBUG in 'tensorflow'['tf_logging'] at line 100: Initialize variable module/bilm/CNN/b_cnn_4:0 from checkpoint b'/tmp/tfhub_modules/9bb74bc86f9caffc8c47dd7b33ec4bb354d9602d/variables/variables' with bilm/CNN/b_cnn_4\n",
      "2018-11-09 11:42:28.634 DEBUG in 'tensorflow'['tf_logging'] at line 100: Initialize variable module/bilm/CNN/b_cnn_5:0 from checkpoint b'/tmp/tfhub_modules/9bb74bc86f9caffc8c47dd7b33ec4bb354d9602d/variables/variables' with bilm/CNN/b_cnn_5\n",
      "2018-11-09 11:42:28.636 DEBUG in 'tensorflow'['tf_logging'] at line 100: Initialize variable module/bilm/CNN/b_cnn_6:0 from checkpoint b'/tmp/tfhub_modules/9bb74bc86f9caffc8c47dd7b33ec4bb354d9602d/variables/variables' with bilm/CNN/b_cnn_6\n",
      "2018-11-09 11:42:28.639 DEBUG in 'tensorflow'['tf_logging'] at line 100: Initialize variable module/bilm/CNN_high_0/W_carry:0 from checkpoint b'/tmp/tfhub_modules/9bb74bc86f9caffc8c47dd7b33ec4bb354d9602d/variables/variables' with bilm/CNN_high_0/W_carry\n",
      "2018-11-09 11:42:28.641 DEBUG in 'tensorflow'['tf_logging'] at line 100: Initialize variable module/bilm/CNN_high_0/W_transform:0 from checkpoint b'/tmp/tfhub_modules/9bb74bc86f9caffc8c47dd7b33ec4bb354d9602d/variables/variables' with bilm/CNN_high_0/W_transform\n",
      "2018-11-09 11:42:28.644 DEBUG in 'tensorflow'['tf_logging'] at line 100: Initialize variable module/bilm/CNN_high_0/b_carry:0 from checkpoint b'/tmp/tfhub_modules/9bb74bc86f9caffc8c47dd7b33ec4bb354d9602d/variables/variables' with bilm/CNN_high_0/b_carry\n",
      "2018-11-09 11:42:28.646 DEBUG in 'tensorflow'['tf_logging'] at line 100: Initialize variable module/bilm/CNN_high_0/b_transform:0 from checkpoint b'/tmp/tfhub_modules/9bb74bc86f9caffc8c47dd7b33ec4bb354d9602d/variables/variables' with bilm/CNN_high_0/b_transform\n",
      "2018-11-09 11:42:28.649 DEBUG in 'tensorflow'['tf_logging'] at line 100: Initialize variable module/bilm/CNN_high_1/W_carry:0 from checkpoint b'/tmp/tfhub_modules/9bb74bc86f9caffc8c47dd7b33ec4bb354d9602d/variables/variables' with bilm/CNN_high_1/W_carry\n",
      "2018-11-09 11:42:28.651 DEBUG in 'tensorflow'['tf_logging'] at line 100: Initialize variable module/bilm/CNN_high_1/W_transform:0 from checkpoint b'/tmp/tfhub_modules/9bb74bc86f9caffc8c47dd7b33ec4bb354d9602d/variables/variables' with bilm/CNN_high_1/W_transform\n",
      "2018-11-09 11:42:28.653 DEBUG in 'tensorflow'['tf_logging'] at line 100: Initialize variable module/bilm/CNN_high_1/b_carry:0 from checkpoint b'/tmp/tfhub_modules/9bb74bc86f9caffc8c47dd7b33ec4bb354d9602d/variables/variables' with bilm/CNN_high_1/b_carry\n",
      "2018-11-09 11:42:28.656 DEBUG in 'tensorflow'['tf_logging'] at line 100: Initialize variable module/bilm/CNN_high_1/b_transform:0 from checkpoint b'/tmp/tfhub_modules/9bb74bc86f9caffc8c47dd7b33ec4bb354d9602d/variables/variables' with bilm/CNN_high_1/b_transform\n",
      "2018-11-09 11:42:28.658 DEBUG in 'tensorflow'['tf_logging'] at line 100: Initialize variable module/bilm/CNN_proj/W_proj:0 from checkpoint b'/tmp/tfhub_modules/9bb74bc86f9caffc8c47dd7b33ec4bb354d9602d/variables/variables' with bilm/CNN_proj/W_proj\n",
      "2018-11-09 11:42:28.661 DEBUG in 'tensorflow'['tf_logging'] at line 100: Initialize variable module/bilm/CNN_proj/b_proj:0 from checkpoint b'/tmp/tfhub_modules/9bb74bc86f9caffc8c47dd7b33ec4bb354d9602d/variables/variables' with bilm/CNN_proj/b_proj\n",
      "2018-11-09 11:42:28.663 DEBUG in 'tensorflow'['tf_logging'] at line 100: Initialize variable module/bilm/RNN_0/RNN/MultiRNNCell/Cell0/rnn/lstm_cell/bias:0 from checkpoint b'/tmp/tfhub_modules/9bb74bc86f9caffc8c47dd7b33ec4bb354d9602d/variables/variables' with bilm/RNN_0/RNN/MultiRNNCell/Cell0/rnn/lstm_cell/bias\n",
      "2018-11-09 11:42:28.665 DEBUG in 'tensorflow'['tf_logging'] at line 100: Initialize variable module/bilm/RNN_0/RNN/MultiRNNCell/Cell0/rnn/lstm_cell/kernel:0 from checkpoint b'/tmp/tfhub_modules/9bb74bc86f9caffc8c47dd7b33ec4bb354d9602d/variables/variables' with bilm/RNN_0/RNN/MultiRNNCell/Cell0/rnn/lstm_cell/kernel\n",
      "2018-11-09 11:42:28.668 DEBUG in 'tensorflow'['tf_logging'] at line 100: Initialize variable module/bilm/RNN_0/RNN/MultiRNNCell/Cell0/rnn/lstm_cell/projection/kernel:0 from checkpoint b'/tmp/tfhub_modules/9bb74bc86f9caffc8c47dd7b33ec4bb354d9602d/variables/variables' with bilm/RNN_0/RNN/MultiRNNCell/Cell0/rnn/lstm_cell/projection/kernel\n",
      "2018-11-09 11:42:28.670 DEBUG in 'tensorflow'['tf_logging'] at line 100: Initialize variable module/bilm/RNN_0/RNN/MultiRNNCell/Cell1/rnn/lstm_cell/bias:0 from checkpoint b'/tmp/tfhub_modules/9bb74bc86f9caffc8c47dd7b33ec4bb354d9602d/variables/variables' with bilm/RNN_0/RNN/MultiRNNCell/Cell1/rnn/lstm_cell/bias\n",
      "2018-11-09 11:42:28.673 DEBUG in 'tensorflow'['tf_logging'] at line 100: Initialize variable module/bilm/RNN_0/RNN/MultiRNNCell/Cell1/rnn/lstm_cell/kernel:0 from checkpoint b'/tmp/tfhub_modules/9bb74bc86f9caffc8c47dd7b33ec4bb354d9602d/variables/variables' with bilm/RNN_0/RNN/MultiRNNCell/Cell1/rnn/lstm_cell/kernel\n",
      "2018-11-09 11:42:28.675 DEBUG in 'tensorflow'['tf_logging'] at line 100: Initialize variable module/bilm/RNN_0/RNN/MultiRNNCell/Cell1/rnn/lstm_cell/projection/kernel:0 from checkpoint b'/tmp/tfhub_modules/9bb74bc86f9caffc8c47dd7b33ec4bb354d9602d/variables/variables' with bilm/RNN_0/RNN/MultiRNNCell/Cell1/rnn/lstm_cell/projection/kernel\n"
     ]
    },
    {
     "name": "stderr",
     "output_type": "stream",
     "text": [
      "2018-11-09 11:42:28.678 DEBUG in 'tensorflow'['tf_logging'] at line 100: Initialize variable module/bilm/RNN_1/RNN/MultiRNNCell/Cell0/rnn/lstm_cell/bias:0 from checkpoint b'/tmp/tfhub_modules/9bb74bc86f9caffc8c47dd7b33ec4bb354d9602d/variables/variables' with bilm/RNN_1/RNN/MultiRNNCell/Cell0/rnn/lstm_cell/bias\n",
      "2018-11-09 11:42:28.681 DEBUG in 'tensorflow'['tf_logging'] at line 100: Initialize variable module/bilm/RNN_1/RNN/MultiRNNCell/Cell0/rnn/lstm_cell/kernel:0 from checkpoint b'/tmp/tfhub_modules/9bb74bc86f9caffc8c47dd7b33ec4bb354d9602d/variables/variables' with bilm/RNN_1/RNN/MultiRNNCell/Cell0/rnn/lstm_cell/kernel\n",
      "2018-11-09 11:42:28.684 DEBUG in 'tensorflow'['tf_logging'] at line 100: Initialize variable module/bilm/RNN_1/RNN/MultiRNNCell/Cell0/rnn/lstm_cell/projection/kernel:0 from checkpoint b'/tmp/tfhub_modules/9bb74bc86f9caffc8c47dd7b33ec4bb354d9602d/variables/variables' with bilm/RNN_1/RNN/MultiRNNCell/Cell0/rnn/lstm_cell/projection/kernel\n",
      "2018-11-09 11:42:28.687 DEBUG in 'tensorflow'['tf_logging'] at line 100: Initialize variable module/bilm/RNN_1/RNN/MultiRNNCell/Cell1/rnn/lstm_cell/bias:0 from checkpoint b'/tmp/tfhub_modules/9bb74bc86f9caffc8c47dd7b33ec4bb354d9602d/variables/variables' with bilm/RNN_1/RNN/MultiRNNCell/Cell1/rnn/lstm_cell/bias\n",
      "2018-11-09 11:42:28.689 DEBUG in 'tensorflow'['tf_logging'] at line 100: Initialize variable module/bilm/RNN_1/RNN/MultiRNNCell/Cell1/rnn/lstm_cell/kernel:0 from checkpoint b'/tmp/tfhub_modules/9bb74bc86f9caffc8c47dd7b33ec4bb354d9602d/variables/variables' with bilm/RNN_1/RNN/MultiRNNCell/Cell1/rnn/lstm_cell/kernel\n",
      "2018-11-09 11:42:28.692 DEBUG in 'tensorflow'['tf_logging'] at line 100: Initialize variable module/bilm/RNN_1/RNN/MultiRNNCell/Cell1/rnn/lstm_cell/projection/kernel:0 from checkpoint b'/tmp/tfhub_modules/9bb74bc86f9caffc8c47dd7b33ec4bb354d9602d/variables/variables' with bilm/RNN_1/RNN/MultiRNNCell/Cell1/rnn/lstm_cell/projection/kernel\n",
      "2018-11-09 11:42:28.695 DEBUG in 'tensorflow'['tf_logging'] at line 100: Initialize variable module/bilm/char_embed:0 from checkpoint b'/tmp/tfhub_modules/9bb74bc86f9caffc8c47dd7b33ec4bb354d9602d/variables/variables' with bilm/char_embed\n",
      "2018-11-09 11:42:28.915 INFO in 'tensorflow'['tf_logging'] at line 115: Saver not created because there are no variables in the graph to restore\n",
      "2018-11-09 11:42:29.103 INFO in 'deeppavlov.models.classifiers.keras_classification_model'['keras_classification_model'] at line 291: [initializing `KerasClassificationModel` from saved]\n",
      "2018-11-09 11:42:29.813 INFO in 'deeppavlov.models.classifiers.keras_classification_model'['keras_classification_model'] at line 301: [loading weights from model.h5]\n",
      "2018-11-09 11:42:29.909 INFO in 'deeppavlov.models.classifiers.keras_classification_model'['keras_classification_model'] at line 135: Model was successfully initialized!\n",
      "Model summary:\n",
      "__________________________________________________________________________________________________\n",
      "Layer (type)                    Output Shape         Param #     Connected to                     \n",
      "==================================================================================================\n",
      "input_1 (InputLayer)            (None, 100, 1024)    0                                            \n",
      "__________________________________________________________________________________________________\n",
      "dropout_1 (Dropout)             (None, 100, 1024)    0           input_1[0][0]                    \n",
      "__________________________________________________________________________________________________\n",
      "bidirectional_1 (Bidirectional) [(None, 100, 512), ( 1967616     dropout_1[0][0]                  \n",
      "__________________________________________________________________________________________________\n",
      "global_max_pooling1d_1 (GlobalM (None, 512)          0           bidirectional_1[0][0]            \n",
      "__________________________________________________________________________________________________\n",
      "global_average_pooling1d_1 (Glo (None, 512)          0           bidirectional_1[0][0]            \n",
      "__________________________________________________________________________________________________\n",
      "concatenate_1 (Concatenate)     (None, 1536)         0           global_max_pooling1d_1[0][0]     \n",
      "                                                                 global_average_pooling1d_1[0][0] \n",
      "                                                                 bidirectional_1[0][1]            \n",
      "                                                                 bidirectional_1[0][2]            \n",
      "__________________________________________________________________________________________________\n",
      "dropout_2 (Dropout)             (None, 1536)         0           concatenate_1[0][0]              \n",
      "__________________________________________________________________________________________________\n",
      "dense_1 (Dense)                 (None, 100)          153700      dropout_2[0][0]                  \n",
      "__________________________________________________________________________________________________\n",
      "activation_1 (Activation)       (None, 100)          0           dense_1[0][0]                    \n",
      "__________________________________________________________________________________________________\n",
      "dropout_3 (Dropout)             (None, 100)          0           activation_1[0][0]               \n",
      "__________________________________________________________________________________________________\n",
      "dense_2 (Dense)                 (None, 2)            202         dropout_3[0][0]                  \n",
      "__________________________________________________________________________________________________\n",
      "activation_2 (Activation)       (None, 2)            0           dense_2[0][0]                    \n",
      "==================================================================================================\n",
      "Total params: 2,121,518\n",
      "Trainable params: 2,121,518\n",
      "Non-trainable params: 0\n",
      "__________________________________________________________________________________________________\n",
      "2018-11-09 11:42:29.910 INFO in 'deeppavlov.core.data.simple_vocab'['simple_vocab'] at line 100: [loading vocabulary from /home/dilyara/Documents/GitHub/DeepPavlov/download/YahooAnswers/models/model_v8/yahoo_answers_classes.dict]\n"
     ]
    },
    {
     "name": "stdout",
     "output_type": "stream",
     "text": [
      "Iteration 0: add 0 samples to train dataset\n"
     ]
    },
    {
     "name": "stderr",
     "output_type": "stream",
     "text": [
      "2018-11-09 11:47:05.647 INFO in 'deeppavlov.core.data.simple_vocab'['simple_vocab'] at line 100: [loading vocabulary from /home/dilyara/Documents/GitHub/DeepPavlov/download/YahooAnswers/models/model_v8/yahoo_answers_classes.dict]\n",
      "2018-11-09 11:47:05.652 INFO in 'deeppavlov.core.data.simple_vocab'['simple_vocab'] at line 89: [saving vocabulary to /home/dilyara/Documents/GitHub/DeepPavlov/download/YahooAnswers/models/model_v8/yahoo_answers_classes.dict]\n",
      "2018-11-09 11:47:05.910 DEBUG in 'tensorflow'['tf_logging'] at line 100: Initialize variable module/aggregation/scaling:0 from checkpoint b'/tmp/tfhub_modules/9bb74bc86f9caffc8c47dd7b33ec4bb354d9602d/variables/variables' with aggregation/scaling\n",
      "2018-11-09 11:47:05.913 DEBUG in 'tensorflow'['tf_logging'] at line 100: Initialize variable module/aggregation/weights:0 from checkpoint b'/tmp/tfhub_modules/9bb74bc86f9caffc8c47dd7b33ec4bb354d9602d/variables/variables' with aggregation/weights\n",
      "2018-11-09 11:47:05.915 DEBUG in 'tensorflow'['tf_logging'] at line 100: Initialize variable module/bilm/CNN/W_cnn_0:0 from checkpoint b'/tmp/tfhub_modules/9bb74bc86f9caffc8c47dd7b33ec4bb354d9602d/variables/variables' with bilm/CNN/W_cnn_0\n",
      "2018-11-09 11:47:05.918 DEBUG in 'tensorflow'['tf_logging'] at line 100: Initialize variable module/bilm/CNN/W_cnn_1:0 from checkpoint b'/tmp/tfhub_modules/9bb74bc86f9caffc8c47dd7b33ec4bb354d9602d/variables/variables' with bilm/CNN/W_cnn_1\n",
      "2018-11-09 11:47:05.921 DEBUG in 'tensorflow'['tf_logging'] at line 100: Initialize variable module/bilm/CNN/W_cnn_2:0 from checkpoint b'/tmp/tfhub_modules/9bb74bc86f9caffc8c47dd7b33ec4bb354d9602d/variables/variables' with bilm/CNN/W_cnn_2\n",
      "2018-11-09 11:47:05.926 DEBUG in 'tensorflow'['tf_logging'] at line 100: Initialize variable module/bilm/CNN/W_cnn_3:0 from checkpoint b'/tmp/tfhub_modules/9bb74bc86f9caffc8c47dd7b33ec4bb354d9602d/variables/variables' with bilm/CNN/W_cnn_3\n",
      "2018-11-09 11:47:05.928 DEBUG in 'tensorflow'['tf_logging'] at line 100: Initialize variable module/bilm/CNN/W_cnn_4:0 from checkpoint b'/tmp/tfhub_modules/9bb74bc86f9caffc8c47dd7b33ec4bb354d9602d/variables/variables' with bilm/CNN/W_cnn_4\n",
      "2018-11-09 11:47:05.931 DEBUG in 'tensorflow'['tf_logging'] at line 100: Initialize variable module/bilm/CNN/W_cnn_5:0 from checkpoint b'/tmp/tfhub_modules/9bb74bc86f9caffc8c47dd7b33ec4bb354d9602d/variables/variables' with bilm/CNN/W_cnn_5\n",
      "2018-11-09 11:47:05.934 DEBUG in 'tensorflow'['tf_logging'] at line 100: Initialize variable module/bilm/CNN/W_cnn_6:0 from checkpoint b'/tmp/tfhub_modules/9bb74bc86f9caffc8c47dd7b33ec4bb354d9602d/variables/variables' with bilm/CNN/W_cnn_6\n",
      "2018-11-09 11:47:05.936 DEBUG in 'tensorflow'['tf_logging'] at line 100: Initialize variable module/bilm/CNN/b_cnn_0:0 from checkpoint b'/tmp/tfhub_modules/9bb74bc86f9caffc8c47dd7b33ec4bb354d9602d/variables/variables' with bilm/CNN/b_cnn_0\n",
      "2018-11-09 11:47:05.942 DEBUG in 'tensorflow'['tf_logging'] at line 100: Initialize variable module/bilm/CNN/b_cnn_1:0 from checkpoint b'/tmp/tfhub_modules/9bb74bc86f9caffc8c47dd7b33ec4bb354d9602d/variables/variables' with bilm/CNN/b_cnn_1\n",
      "2018-11-09 11:47:05.944 DEBUG in 'tensorflow'['tf_logging'] at line 100: Initialize variable module/bilm/CNN/b_cnn_2:0 from checkpoint b'/tmp/tfhub_modules/9bb74bc86f9caffc8c47dd7b33ec4bb354d9602d/variables/variables' with bilm/CNN/b_cnn_2\n",
      "2018-11-09 11:47:05.947 DEBUG in 'tensorflow'['tf_logging'] at line 100: Initialize variable module/bilm/CNN/b_cnn_3:0 from checkpoint b'/tmp/tfhub_modules/9bb74bc86f9caffc8c47dd7b33ec4bb354d9602d/variables/variables' with bilm/CNN/b_cnn_3\n",
      "2018-11-09 11:47:05.950 DEBUG in 'tensorflow'['tf_logging'] at line 100: Initialize variable module/bilm/CNN/b_cnn_4:0 from checkpoint b'/tmp/tfhub_modules/9bb74bc86f9caffc8c47dd7b33ec4bb354d9602d/variables/variables' with bilm/CNN/b_cnn_4\n",
      "2018-11-09 11:47:05.953 DEBUG in 'tensorflow'['tf_logging'] at line 100: Initialize variable module/bilm/CNN/b_cnn_5:0 from checkpoint b'/tmp/tfhub_modules/9bb74bc86f9caffc8c47dd7b33ec4bb354d9602d/variables/variables' with bilm/CNN/b_cnn_5\n",
      "2018-11-09 11:47:05.956 DEBUG in 'tensorflow'['tf_logging'] at line 100: Initialize variable module/bilm/CNN/b_cnn_6:0 from checkpoint b'/tmp/tfhub_modules/9bb74bc86f9caffc8c47dd7b33ec4bb354d9602d/variables/variables' with bilm/CNN/b_cnn_6\n",
      "2018-11-09 11:47:05.961 DEBUG in 'tensorflow'['tf_logging'] at line 100: Initialize variable module/bilm/CNN_high_0/W_carry:0 from checkpoint b'/tmp/tfhub_modules/9bb74bc86f9caffc8c47dd7b33ec4bb354d9602d/variables/variables' with bilm/CNN_high_0/W_carry\n",
      "2018-11-09 11:47:05.963 DEBUG in 'tensorflow'['tf_logging'] at line 100: Initialize variable module/bilm/CNN_high_0/W_transform:0 from checkpoint b'/tmp/tfhub_modules/9bb74bc86f9caffc8c47dd7b33ec4bb354d9602d/variables/variables' with bilm/CNN_high_0/W_transform\n",
      "2018-11-09 11:47:05.966 DEBUG in 'tensorflow'['tf_logging'] at line 100: Initialize variable module/bilm/CNN_high_0/b_carry:0 from checkpoint b'/tmp/tfhub_modules/9bb74bc86f9caffc8c47dd7b33ec4bb354d9602d/variables/variables' with bilm/CNN_high_0/b_carry\n",
      "2018-11-09 11:47:05.969 DEBUG in 'tensorflow'['tf_logging'] at line 100: Initialize variable module/bilm/CNN_high_0/b_transform:0 from checkpoint b'/tmp/tfhub_modules/9bb74bc86f9caffc8c47dd7b33ec4bb354d9602d/variables/variables' with bilm/CNN_high_0/b_transform\n",
      "2018-11-09 11:47:05.971 DEBUG in 'tensorflow'['tf_logging'] at line 100: Initialize variable module/bilm/CNN_high_1/W_carry:0 from checkpoint b'/tmp/tfhub_modules/9bb74bc86f9caffc8c47dd7b33ec4bb354d9602d/variables/variables' with bilm/CNN_high_1/W_carry\n",
      "2018-11-09 11:47:05.976 DEBUG in 'tensorflow'['tf_logging'] at line 100: Initialize variable module/bilm/CNN_high_1/W_transform:0 from checkpoint b'/tmp/tfhub_modules/9bb74bc86f9caffc8c47dd7b33ec4bb354d9602d/variables/variables' with bilm/CNN_high_1/W_transform\n",
      "2018-11-09 11:47:05.979 DEBUG in 'tensorflow'['tf_logging'] at line 100: Initialize variable module/bilm/CNN_high_1/b_carry:0 from checkpoint b'/tmp/tfhub_modules/9bb74bc86f9caffc8c47dd7b33ec4bb354d9602d/variables/variables' with bilm/CNN_high_1/b_carry\n",
      "2018-11-09 11:47:05.981 DEBUG in 'tensorflow'['tf_logging'] at line 100: Initialize variable module/bilm/CNN_high_1/b_transform:0 from checkpoint b'/tmp/tfhub_modules/9bb74bc86f9caffc8c47dd7b33ec4bb354d9602d/variables/variables' with bilm/CNN_high_1/b_transform\n",
      "2018-11-09 11:47:05.984 DEBUG in 'tensorflow'['tf_logging'] at line 100: Initialize variable module/bilm/CNN_proj/W_proj:0 from checkpoint b'/tmp/tfhub_modules/9bb74bc86f9caffc8c47dd7b33ec4bb354d9602d/variables/variables' with bilm/CNN_proj/W_proj\n",
      "2018-11-09 11:47:05.986 DEBUG in 'tensorflow'['tf_logging'] at line 100: Initialize variable module/bilm/CNN_proj/b_proj:0 from checkpoint b'/tmp/tfhub_modules/9bb74bc86f9caffc8c47dd7b33ec4bb354d9602d/variables/variables' with bilm/CNN_proj/b_proj\n",
      "2018-11-09 11:47:05.989 DEBUG in 'tensorflow'['tf_logging'] at line 100: Initialize variable module/bilm/RNN_0/RNN/MultiRNNCell/Cell0/rnn/lstm_cell/bias:0 from checkpoint b'/tmp/tfhub_modules/9bb74bc86f9caffc8c47dd7b33ec4bb354d9602d/variables/variables' with bilm/RNN_0/RNN/MultiRNNCell/Cell0/rnn/lstm_cell/bias\n",
      "2018-11-09 11:47:05.991 DEBUG in 'tensorflow'['tf_logging'] at line 100: Initialize variable module/bilm/RNN_0/RNN/MultiRNNCell/Cell0/rnn/lstm_cell/kernel:0 from checkpoint b'/tmp/tfhub_modules/9bb74bc86f9caffc8c47dd7b33ec4bb354d9602d/variables/variables' with bilm/RNN_0/RNN/MultiRNNCell/Cell0/rnn/lstm_cell/kernel\n",
      "2018-11-09 11:47:05.995 DEBUG in 'tensorflow'['tf_logging'] at line 100: Initialize variable module/bilm/RNN_0/RNN/MultiRNNCell/Cell0/rnn/lstm_cell/projection/kernel:0 from checkpoint b'/tmp/tfhub_modules/9bb74bc86f9caffc8c47dd7b33ec4bb354d9602d/variables/variables' with bilm/RNN_0/RNN/MultiRNNCell/Cell0/rnn/lstm_cell/projection/kernel\n",
      "2018-11-09 11:47:05.999 DEBUG in 'tensorflow'['tf_logging'] at line 100: Initialize variable module/bilm/RNN_0/RNN/MultiRNNCell/Cell1/rnn/lstm_cell/bias:0 from checkpoint b'/tmp/tfhub_modules/9bb74bc86f9caffc8c47dd7b33ec4bb354d9602d/variables/variables' with bilm/RNN_0/RNN/MultiRNNCell/Cell1/rnn/lstm_cell/bias\n",
      "2018-11-09 11:47:06.2 DEBUG in 'tensorflow'['tf_logging'] at line 100: Initialize variable module/bilm/RNN_0/RNN/MultiRNNCell/Cell1/rnn/lstm_cell/kernel:0 from checkpoint b'/tmp/tfhub_modules/9bb74bc86f9caffc8c47dd7b33ec4bb354d9602d/variables/variables' with bilm/RNN_0/RNN/MultiRNNCell/Cell1/rnn/lstm_cell/kernel\n"
     ]
    },
    {
     "name": "stderr",
     "output_type": "stream",
     "text": [
      "2018-11-09 11:47:06.4 DEBUG in 'tensorflow'['tf_logging'] at line 100: Initialize variable module/bilm/RNN_0/RNN/MultiRNNCell/Cell1/rnn/lstm_cell/projection/kernel:0 from checkpoint b'/tmp/tfhub_modules/9bb74bc86f9caffc8c47dd7b33ec4bb354d9602d/variables/variables' with bilm/RNN_0/RNN/MultiRNNCell/Cell1/rnn/lstm_cell/projection/kernel\n",
      "2018-11-09 11:47:06.7 DEBUG in 'tensorflow'['tf_logging'] at line 100: Initialize variable module/bilm/RNN_1/RNN/MultiRNNCell/Cell0/rnn/lstm_cell/bias:0 from checkpoint b'/tmp/tfhub_modules/9bb74bc86f9caffc8c47dd7b33ec4bb354d9602d/variables/variables' with bilm/RNN_1/RNN/MultiRNNCell/Cell0/rnn/lstm_cell/bias\n",
      "2018-11-09 11:47:06.9 DEBUG in 'tensorflow'['tf_logging'] at line 100: Initialize variable module/bilm/RNN_1/RNN/MultiRNNCell/Cell0/rnn/lstm_cell/kernel:0 from checkpoint b'/tmp/tfhub_modules/9bb74bc86f9caffc8c47dd7b33ec4bb354d9602d/variables/variables' with bilm/RNN_1/RNN/MultiRNNCell/Cell0/rnn/lstm_cell/kernel\n",
      "2018-11-09 11:47:06.14 DEBUG in 'tensorflow'['tf_logging'] at line 100: Initialize variable module/bilm/RNN_1/RNN/MultiRNNCell/Cell0/rnn/lstm_cell/projection/kernel:0 from checkpoint b'/tmp/tfhub_modules/9bb74bc86f9caffc8c47dd7b33ec4bb354d9602d/variables/variables' with bilm/RNN_1/RNN/MultiRNNCell/Cell0/rnn/lstm_cell/projection/kernel\n",
      "2018-11-09 11:47:06.16 DEBUG in 'tensorflow'['tf_logging'] at line 100: Initialize variable module/bilm/RNN_1/RNN/MultiRNNCell/Cell1/rnn/lstm_cell/bias:0 from checkpoint b'/tmp/tfhub_modules/9bb74bc86f9caffc8c47dd7b33ec4bb354d9602d/variables/variables' with bilm/RNN_1/RNN/MultiRNNCell/Cell1/rnn/lstm_cell/bias\n",
      "2018-11-09 11:47:06.19 DEBUG in 'tensorflow'['tf_logging'] at line 100: Initialize variable module/bilm/RNN_1/RNN/MultiRNNCell/Cell1/rnn/lstm_cell/kernel:0 from checkpoint b'/tmp/tfhub_modules/9bb74bc86f9caffc8c47dd7b33ec4bb354d9602d/variables/variables' with bilm/RNN_1/RNN/MultiRNNCell/Cell1/rnn/lstm_cell/kernel\n",
      "2018-11-09 11:47:06.21 DEBUG in 'tensorflow'['tf_logging'] at line 100: Initialize variable module/bilm/RNN_1/RNN/MultiRNNCell/Cell1/rnn/lstm_cell/projection/kernel:0 from checkpoint b'/tmp/tfhub_modules/9bb74bc86f9caffc8c47dd7b33ec4bb354d9602d/variables/variables' with bilm/RNN_1/RNN/MultiRNNCell/Cell1/rnn/lstm_cell/projection/kernel\n",
      "2018-11-09 11:47:06.24 DEBUG in 'tensorflow'['tf_logging'] at line 100: Initialize variable module/bilm/char_embed:0 from checkpoint b'/tmp/tfhub_modules/9bb74bc86f9caffc8c47dd7b33ec4bb354d9602d/variables/variables' with bilm/char_embed\n",
      "2018-11-09 11:47:06.490 INFO in 'tensorflow'['tf_logging'] at line 115: Saver not created because there are no variables in the graph to restore\n",
      "2018-11-09 11:47:06.693 INFO in 'deeppavlov.models.classifiers.keras_classification_model'['keras_classification_model'] at line 291: [initializing `KerasClassificationModel` from saved]\n",
      "2018-11-09 11:47:07.300 INFO in 'deeppavlov.models.classifiers.keras_classification_model'['keras_classification_model'] at line 301: [loading weights from model.h5]\n",
      "2018-11-09 11:47:07.404 INFO in 'deeppavlov.models.classifiers.keras_classification_model'['keras_classification_model'] at line 135: Model was successfully initialized!\n",
      "Model summary:\n",
      "__________________________________________________________________________________________________\n",
      "Layer (type)                    Output Shape         Param #     Connected to                     \n",
      "==================================================================================================\n",
      "input_1 (InputLayer)            (None, 100, 1024)    0                                            \n",
      "__________________________________________________________________________________________________\n",
      "dropout_1 (Dropout)             (None, 100, 1024)    0           input_1[0][0]                    \n",
      "__________________________________________________________________________________________________\n",
      "bidirectional_1 (Bidirectional) [(None, 100, 512), ( 1967616     dropout_1[0][0]                  \n",
      "__________________________________________________________________________________________________\n",
      "global_max_pooling1d_1 (GlobalM (None, 512)          0           bidirectional_1[0][0]            \n",
      "__________________________________________________________________________________________________\n",
      "global_average_pooling1d_1 (Glo (None, 512)          0           bidirectional_1[0][0]            \n",
      "__________________________________________________________________________________________________\n",
      "concatenate_1 (Concatenate)     (None, 1536)         0           global_max_pooling1d_1[0][0]     \n",
      "                                                                 global_average_pooling1d_1[0][0] \n",
      "                                                                 bidirectional_1[0][1]            \n",
      "                                                                 bidirectional_1[0][2]            \n",
      "__________________________________________________________________________________________________\n",
      "dropout_2 (Dropout)             (None, 1536)         0           concatenate_1[0][0]              \n",
      "__________________________________________________________________________________________________\n",
      "dense_1 (Dense)                 (None, 100)          153700      dropout_2[0][0]                  \n",
      "__________________________________________________________________________________________________\n",
      "activation_1 (Activation)       (None, 100)          0           dense_1[0][0]                    \n",
      "__________________________________________________________________________________________________\n",
      "dropout_3 (Dropout)             (None, 100)          0           activation_1[0][0]               \n",
      "__________________________________________________________________________________________________\n",
      "dense_2 (Dense)                 (None, 2)            202         dropout_3[0][0]                  \n",
      "__________________________________________________________________________________________________\n",
      "activation_2 (Activation)       (None, 2)            0           dense_2[0][0]                    \n",
      "==================================================================================================\n",
      "Total params: 2,121,518\n",
      "Trainable params: 2,121,518\n",
      "Non-trainable params: 0\n",
      "__________________________________________________________________________________________________\n",
      "2018-11-09 11:47:25.261 INFO in 'deeppavlov.core.commands.train'['train'] at line 360: New best roc_auc of 0.61\n",
      "2018-11-09 11:47:25.261 INFO in 'deeppavlov.core.commands.train'['train'] at line 362: Saving model\n",
      "2018-11-09 11:47:25.262 INFO in 'deeppavlov.models.classifiers.keras_classification_model'['keras_classification_model'] at line 375: [saving model to /home/dilyara/Documents/GitHub/DeepPavlov/download/YahooAnswers/models/model_v8/model_opt.json]\n"
     ]
    },
    {
     "name": "stdout",
     "output_type": "stream",
     "text": [
      "{\"valid\": {\"eval_examples_count\": 403, \"metrics\": {\"roc_auc\": 0.61, \"sets_accuracy\": 0.5012, \"f1_macro\": 0.4685}, \"time_spent\": \"0:00:18\", \"epochs_done\": 0, \"batches_seen\": 0, \"train_examples_seen\": 0, \"impatience\": 0, \"patience_limit\": 5}}\n",
      "{\"train\": {\"epochs_done\": 1, \"batches_seen\": 4, \"train_examples_seen\": 3613, \"metrics\": {\"roc_auc\": 0.5414, \"sets_accuracy\": 0.5267, \"f1_macro\": 0.5082}, \"time_spent\": \"0:06:37\", \"loss\": 3.4515210390090942}}\n"
     ]
    },
    {
     "name": "stderr",
     "output_type": "stream",
     "text": [
      "2018-11-09 11:54:00.268 INFO in 'deeppavlov.core.commands.train'['train'] at line 525: Did not improve on the roc_auc of 0.61\n"
     ]
    },
    {
     "name": "stdout",
     "output_type": "stream",
     "text": [
      "{\"valid\": {\"eval_examples_count\": 403, \"metrics\": {\"roc_auc\": 0.3837, \"sets_accuracy\": 0.469, \"f1_macro\": 0.3651}, \"time_spent\": \"0:06:53\", \"epochs_done\": 1, \"batches_seen\": 4, \"train_examples_seen\": 3613, \"impatience\": 1, \"patience_limit\": 5}}\n",
      "{\"train\": {\"epochs_done\": 2, \"batches_seen\": 8, \"train_examples_seen\": 7226, \"metrics\": {\"roc_auc\": 0.558, \"sets_accuracy\": 0.571, \"f1_macro\": 0.5622}, \"time_spent\": \"0:12:53\", \"loss\": 0.7258788794279099}}\n"
     ]
    },
    {
     "name": "stderr",
     "output_type": "stream",
     "text": [
      "2018-11-09 12:00:16.56 INFO in 'deeppavlov.core.commands.train'['train'] at line 518: New best roc_auc of 0.6118\n",
      "2018-11-09 12:00:16.56 INFO in 'deeppavlov.core.commands.train'['train'] at line 520: Saving model\n",
      "2018-11-09 12:00:16.57 INFO in 'deeppavlov.models.classifiers.keras_classification_model'['keras_classification_model'] at line 375: [saving model to /home/dilyara/Documents/GitHub/DeepPavlov/download/YahooAnswers/models/model_v8/model_opt.json]\n"
     ]
    },
    {
     "name": "stdout",
     "output_type": "stream",
     "text": [
      "{\"valid\": {\"eval_examples_count\": 403, \"metrics\": {\"roc_auc\": 0.6118, \"sets_accuracy\": 0.5633, \"f1_macro\": 0.3803}, \"time_spent\": \"0:13:09\", \"epochs_done\": 2, \"batches_seen\": 8, \"train_examples_seen\": 7226, \"impatience\": 0, \"patience_limit\": 5}}\n",
      "{\"train\": {\"epochs_done\": 3, \"batches_seen\": 12, \"train_examples_seen\": 10839, \"metrics\": {\"roc_auc\": 0.6298, \"sets_accuracy\": 0.605, \"f1_macro\": 0.5519}, \"time_spent\": \"0:19:19\", \"loss\": 0.730575680732727}}\n"
     ]
    },
    {
     "name": "stderr",
     "output_type": "stream",
     "text": [
      "2018-11-09 12:06:42.35 INFO in 'deeppavlov.core.commands.train'['train'] at line 518: New best roc_auc of 0.7126\n",
      "2018-11-09 12:06:42.35 INFO in 'deeppavlov.core.commands.train'['train'] at line 520: Saving model\n",
      "2018-11-09 12:06:42.36 INFO in 'deeppavlov.models.classifiers.keras_classification_model'['keras_classification_model'] at line 375: [saving model to /home/dilyara/Documents/GitHub/DeepPavlov/download/YahooAnswers/models/model_v8/model_opt.json]\n"
     ]
    },
    {
     "name": "stdout",
     "output_type": "stream",
     "text": [
      "{\"valid\": {\"eval_examples_count\": 403, \"metrics\": {\"roc_auc\": 0.7126, \"sets_accuracy\": 0.603, \"f1_macro\": 0.488}, \"time_spent\": \"0:19:35\", \"epochs_done\": 3, \"batches_seen\": 12, \"train_examples_seen\": 10839, \"impatience\": 0, \"patience_limit\": 5}}\n",
      "{\"train\": {\"epochs_done\": 4, \"batches_seen\": 16, \"train_examples_seen\": 14452, \"metrics\": {\"roc_auc\": 0.7447, \"sets_accuracy\": 0.6579, \"f1_macro\": 0.5972}, \"time_spent\": \"0:25:44\", \"loss\": 0.6782405525445938}}\n"
     ]
    },
    {
     "name": "stderr",
     "output_type": "stream",
     "text": [
      "2018-11-09 12:13:06.277 INFO in 'deeppavlov.core.commands.train'['train'] at line 518: New best roc_auc of 0.764\n",
      "2018-11-09 12:13:06.278 INFO in 'deeppavlov.core.commands.train'['train'] at line 520: Saving model\n",
      "2018-11-09 12:13:06.278 INFO in 'deeppavlov.models.classifiers.keras_classification_model'['keras_classification_model'] at line 375: [saving model to /home/dilyara/Documents/GitHub/DeepPavlov/download/YahooAnswers/models/model_v8/model_opt.json]\n"
     ]
    },
    {
     "name": "stdout",
     "output_type": "stream",
     "text": [
      "{\"valid\": {\"eval_examples_count\": 403, \"metrics\": {\"roc_auc\": 0.764, \"sets_accuracy\": 0.5806, \"f1_macro\": 0.4998}, \"time_spent\": \"0:25:59\", \"epochs_done\": 4, \"batches_seen\": 16, \"train_examples_seen\": 14452, \"impatience\": 0, \"patience_limit\": 5}}\n",
      "{\"train\": {\"epochs_done\": 5, \"batches_seen\": 20, \"train_examples_seen\": 18065, \"metrics\": {\"roc_auc\": 0.7854, \"sets_accuracy\": 0.6565, \"f1_macro\": 0.5992}, \"time_spent\": \"0:31:59\", \"loss\": 0.670505702495575}}\n"
     ]
    },
    {
     "name": "stderr",
     "output_type": "stream",
     "text": [
      "2018-11-09 12:19:21.762 INFO in 'deeppavlov.core.commands.train'['train'] at line 518: New best roc_auc of 0.8102\n",
      "2018-11-09 12:19:21.763 INFO in 'deeppavlov.core.commands.train'['train'] at line 520: Saving model\n",
      "2018-11-09 12:19:21.763 INFO in 'deeppavlov.models.classifiers.keras_classification_model'['keras_classification_model'] at line 375: [saving model to /home/dilyara/Documents/GitHub/DeepPavlov/download/YahooAnswers/models/model_v8/model_opt.json]\n"
     ]
    },
    {
     "name": "stdout",
     "output_type": "stream",
     "text": [
      "{\"valid\": {\"eval_examples_count\": 403, \"metrics\": {\"roc_auc\": 0.8102, \"sets_accuracy\": 0.598, \"f1_macro\": 0.4992}, \"time_spent\": \"0:32:15\", \"epochs_done\": 5, \"batches_seen\": 20, \"train_examples_seen\": 18065, \"impatience\": 0, \"patience_limit\": 5}}\n",
      "{\"train\": {\"epochs_done\": 6, \"batches_seen\": 24, \"train_examples_seen\": 21678, \"metrics\": {\"roc_auc\": 0.8337, \"sets_accuracy\": 0.6789, \"f1_macro\": 0.6303}, \"time_spent\": \"0:38:13\", \"loss\": 0.6476360112428665}}\n"
     ]
    },
    {
     "name": "stderr",
     "output_type": "stream",
     "text": [
      "2018-11-09 12:25:35.581 INFO in 'deeppavlov.core.commands.train'['train'] at line 518: New best roc_auc of 0.8341\n",
      "2018-11-09 12:25:35.581 INFO in 'deeppavlov.core.commands.train'['train'] at line 520: Saving model\n",
      "2018-11-09 12:25:35.582 INFO in 'deeppavlov.models.classifiers.keras_classification_model'['keras_classification_model'] at line 375: [saving model to /home/dilyara/Documents/GitHub/DeepPavlov/download/YahooAnswers/models/model_v8/model_opt.json]\n"
     ]
    },
    {
     "name": "stdout",
     "output_type": "stream",
     "text": [
      "{\"valid\": {\"eval_examples_count\": 403, \"metrics\": {\"roc_auc\": 0.8341, \"sets_accuracy\": 0.7221, \"f1_macro\": 0.6935}, \"time_spent\": \"0:38:29\", \"epochs_done\": 6, \"batches_seen\": 24, \"train_examples_seen\": 21678, \"impatience\": 0, \"patience_limit\": 5}}\n",
      "{\"train\": {\"epochs_done\": 7, \"batches_seen\": 28, \"train_examples_seen\": 25291, \"metrics\": {\"roc_auc\": 0.8542, \"sets_accuracy\": 0.7758, \"f1_macro\": 0.7683}, \"time_spent\": \"0:44:27\", \"loss\": 0.6108423620462418}}\n"
     ]
    },
    {
     "name": "stderr",
     "output_type": "stream",
     "text": [
      "2018-11-09 12:31:49.713 INFO in 'deeppavlov.core.commands.train'['train'] at line 518: New best roc_auc of 0.8459\n",
      "2018-11-09 12:31:49.714 INFO in 'deeppavlov.core.commands.train'['train'] at line 520: Saving model\n",
      "2018-11-09 12:31:49.714 INFO in 'deeppavlov.models.classifiers.keras_classification_model'['keras_classification_model'] at line 375: [saving model to /home/dilyara/Documents/GitHub/DeepPavlov/download/YahooAnswers/models/model_v8/model_opt.json]\n"
     ]
    },
    {
     "name": "stdout",
     "output_type": "stream",
     "text": [
      "{\"valid\": {\"eval_examples_count\": 403, \"metrics\": {\"roc_auc\": 0.8459, \"sets_accuracy\": 0.7593, \"f1_macro\": 0.7552}, \"time_spent\": \"0:44:43\", \"epochs_done\": 7, \"batches_seen\": 28, \"train_examples_seen\": 25291, \"impatience\": 0, \"patience_limit\": 5}}\n",
      "{\"train\": {\"epochs_done\": 8, \"batches_seen\": 32, \"train_examples_seen\": 28904, \"metrics\": {\"roc_auc\": 0.8719, \"sets_accuracy\": 0.7398, \"f1_macro\": 0.7155}, \"time_spent\": \"0:50:43\", \"loss\": 0.5974832624197006}}\n"
     ]
    },
    {
     "name": "stderr",
     "output_type": "stream",
     "text": [
      "2018-11-09 12:38:05.886 INFO in 'deeppavlov.core.commands.train'['train'] at line 518: New best roc_auc of 0.8493\n",
      "2018-11-09 12:38:05.887 INFO in 'deeppavlov.core.commands.train'['train'] at line 520: Saving model\n",
      "2018-11-09 12:38:05.887 INFO in 'deeppavlov.models.classifiers.keras_classification_model'['keras_classification_model'] at line 375: [saving model to /home/dilyara/Documents/GitHub/DeepPavlov/download/YahooAnswers/models/model_v8/model_opt.json]\n"
     ]
    },
    {
     "name": "stdout",
     "output_type": "stream",
     "text": [
      "{\"valid\": {\"eval_examples_count\": 403, \"metrics\": {\"roc_auc\": 0.8493, \"sets_accuracy\": 0.7643, \"f1_macro\": 0.7536}, \"time_spent\": \"0:50:59\", \"epochs_done\": 8, \"batches_seen\": 32, \"train_examples_seen\": 28904, \"impatience\": 0, \"patience_limit\": 5}}\n",
      "{\"train\": {\"epochs_done\": 9, \"batches_seen\": 36, \"train_examples_seen\": 32517, \"metrics\": {\"roc_auc\": 0.8796, \"sets_accuracy\": 0.8085, \"f1_macro\": 0.8058}, \"time_spent\": \"0:57:01\", \"loss\": 0.5913848280906677}}\n"
     ]
    },
    {
     "name": "stderr",
     "output_type": "stream",
     "text": [
      "2018-11-09 12:44:24.812 INFO in 'deeppavlov.core.commands.train'['train'] at line 518: New best roc_auc of 0.8765\n",
      "2018-11-09 12:44:24.812 INFO in 'deeppavlov.core.commands.train'['train'] at line 520: Saving model\n",
      "2018-11-09 12:44:24.813 INFO in 'deeppavlov.models.classifiers.keras_classification_model'['keras_classification_model'] at line 375: [saving model to /home/dilyara/Documents/GitHub/DeepPavlov/download/YahooAnswers/models/model_v8/model_opt.json]\n"
     ]
    },
    {
     "name": "stdout",
     "output_type": "stream",
     "text": [
      "{\"valid\": {\"eval_examples_count\": 403, \"metrics\": {\"roc_auc\": 0.8765, \"sets_accuracy\": 0.7891, \"f1_macro\": 0.7858}, \"time_spent\": \"0:57:18\", \"epochs_done\": 9, \"batches_seen\": 36, \"train_examples_seen\": 32517, \"impatience\": 0, \"patience_limit\": 5}}\n",
      "{\"train\": {\"epochs_done\": 10, \"batches_seen\": 40, \"train_examples_seen\": 36130, \"metrics\": {\"roc_auc\": 0.9026, \"sets_accuracy\": 0.8237, \"f1_macro\": 0.8227}, \"time_spent\": \"1:03:27\", \"loss\": 0.5801916271448135}}\n"
     ]
    },
    {
     "name": "stderr",
     "output_type": "stream",
     "text": [
      "2018-11-09 12:50:50.842 INFO in 'deeppavlov.core.commands.train'['train'] at line 518: New best roc_auc of 0.8844\n",
      "2018-11-09 12:50:50.843 INFO in 'deeppavlov.core.commands.train'['train'] at line 520: Saving model\n",
      "2018-11-09 12:50:50.843 INFO in 'deeppavlov.models.classifiers.keras_classification_model'['keras_classification_model'] at line 375: [saving model to /home/dilyara/Documents/GitHub/DeepPavlov/download/YahooAnswers/models/model_v8/model_opt.json]\n"
     ]
    },
    {
     "name": "stdout",
     "output_type": "stream",
     "text": [
      "{\"valid\": {\"eval_examples_count\": 403, \"metrics\": {\"roc_auc\": 0.8844, \"sets_accuracy\": 0.8065, \"f1_macro\": 0.7995}, \"time_spent\": \"1:03:44\", \"epochs_done\": 10, \"batches_seen\": 40, \"train_examples_seen\": 36130, \"impatience\": 0, \"patience_limit\": 5}}\n",
      "{\"train\": {\"epochs_done\": 11, \"batches_seen\": 44, \"train_examples_seen\": 39743, \"metrics\": {\"roc_auc\": 0.9083, \"sets_accuracy\": 0.832, \"f1_macro\": 0.8281}, \"time_spent\": \"1:09:37\", \"loss\": 0.5590071678161621}}\n"
     ]
    },
    {
     "name": "stderr",
     "output_type": "stream",
     "text": [
      "2018-11-09 12:57:00.653 INFO in 'deeppavlov.core.commands.train'['train'] at line 525: Did not improve on the roc_auc of 0.8844\n"
     ]
    },
    {
     "name": "stdout",
     "output_type": "stream",
     "text": [
      "{\"valid\": {\"eval_examples_count\": 403, \"metrics\": {\"roc_auc\": 0.8834, \"sets_accuracy\": 0.804, \"f1_macro\": 0.8009}, \"time_spent\": \"1:09:54\", \"epochs_done\": 11, \"batches_seen\": 44, \"train_examples_seen\": 39743, \"impatience\": 1, \"patience_limit\": 5}}\n",
      "{\"train\": {\"epochs_done\": 12, \"batches_seen\": 48, \"train_examples_seen\": 43356, \"metrics\": {\"roc_auc\": 0.9194, \"sets_accuracy\": 0.8331, \"f1_macro\": 0.8295}, \"time_spent\": \"1:15:45\", \"loss\": 0.5396828055381775}}\n"
     ]
    },
    {
     "name": "stderr",
     "output_type": "stream",
     "text": [
      "2018-11-09 13:03:07.405 INFO in 'deeppavlov.core.commands.train'['train'] at line 518: New best roc_auc of 0.9007\n",
      "2018-11-09 13:03:07.406 INFO in 'deeppavlov.core.commands.train'['train'] at line 520: Saving model\n",
      "2018-11-09 13:03:07.406 INFO in 'deeppavlov.models.classifiers.keras_classification_model'['keras_classification_model'] at line 375: [saving model to /home/dilyara/Documents/GitHub/DeepPavlov/download/YahooAnswers/models/model_v8/model_opt.json]\n"
     ]
    },
    {
     "name": "stdout",
     "output_type": "stream",
     "text": [
      "{\"valid\": {\"eval_examples_count\": 403, \"metrics\": {\"roc_auc\": 0.9007, \"sets_accuracy\": 0.8114, \"f1_macro\": 0.8046}, \"time_spent\": \"1:16:01\", \"epochs_done\": 12, \"batches_seen\": 48, \"train_examples_seen\": 43356, \"impatience\": 0, \"patience_limit\": 5}}\n",
      "{\"train\": {\"epochs_done\": 13, \"batches_seen\": 52, \"train_examples_seen\": 46969, \"metrics\": {\"roc_auc\": 0.9296, \"sets_accuracy\": 0.8552, \"f1_macro\": 0.8518}, \"time_spent\": \"1:21:54\", \"loss\": 0.5348038375377655}}\n"
     ]
    },
    {
     "name": "stderr",
     "output_type": "stream",
     "text": [
      "2018-11-09 13:09:16.416 INFO in 'deeppavlov.core.commands.train'['train'] at line 518: New best roc_auc of 0.9054\n",
      "2018-11-09 13:09:16.416 INFO in 'deeppavlov.core.commands.train'['train'] at line 520: Saving model\n",
      "2018-11-09 13:09:16.417 INFO in 'deeppavlov.models.classifiers.keras_classification_model'['keras_classification_model'] at line 375: [saving model to /home/dilyara/Documents/GitHub/DeepPavlov/download/YahooAnswers/models/model_v8/model_opt.json]\n"
     ]
    },
    {
     "name": "stdout",
     "output_type": "stream",
     "text": [
      "{\"valid\": {\"eval_examples_count\": 403, \"metrics\": {\"roc_auc\": 0.9054, \"sets_accuracy\": 0.8213, \"f1_macro\": 0.8142}, \"time_spent\": \"1:22:10\", \"epochs_done\": 13, \"batches_seen\": 52, \"train_examples_seen\": 46969, \"impatience\": 0, \"patience_limit\": 5}}\n",
      "{\"train\": {\"epochs_done\": 14, \"batches_seen\": 56, \"train_examples_seen\": 50582, \"metrics\": {\"roc_auc\": 0.9323, \"sets_accuracy\": 0.8547, \"f1_macro\": 0.8516}, \"time_spent\": \"1:28:00\", \"loss\": 0.5285445004701614}}\n"
     ]
    },
    {
     "name": "stderr",
     "output_type": "stream",
     "text": [
      "2018-11-09 13:15:22.991 INFO in 'deeppavlov.core.commands.train'['train'] at line 525: Did not improve on the roc_auc of 0.9054\n"
     ]
    },
    {
     "name": "stdout",
     "output_type": "stream",
     "text": [
      "{\"valid\": {\"eval_examples_count\": 403, \"metrics\": {\"roc_auc\": 0.9028, \"sets_accuracy\": 0.8213, \"f1_macro\": 0.813}, \"time_spent\": \"1:28:16\", \"epochs_done\": 14, \"batches_seen\": 56, \"train_examples_seen\": 50582, \"impatience\": 1, \"patience_limit\": 5}}\n",
      "{\"train\": {\"epochs_done\": 15, \"batches_seen\": 60, \"train_examples_seen\": 54195, \"metrics\": {\"roc_auc\": 0.9388, \"sets_accuracy\": 0.8658, \"f1_macro\": 0.8626}, \"time_spent\": \"1:34:06\", \"loss\": 0.5376535058021545}}\n"
     ]
    },
    {
     "name": "stderr",
     "output_type": "stream",
     "text": [
      "2018-11-09 13:21:28.300 INFO in 'deeppavlov.core.commands.train'['train'] at line 525: Did not improve on the roc_auc of 0.9054\n"
     ]
    },
    {
     "name": "stdout",
     "output_type": "stream",
     "text": [
      "{\"valid\": {\"eval_examples_count\": 403, \"metrics\": {\"roc_auc\": 0.9046, \"sets_accuracy\": 0.8065, \"f1_macro\": 0.8051}, \"time_spent\": \"1:34:21\", \"epochs_done\": 15, \"batches_seen\": 60, \"train_examples_seen\": 54195, \"impatience\": 2, \"patience_limit\": 5}}\n",
      "{\"train\": {\"epochs_done\": 16, \"batches_seen\": 64, \"train_examples_seen\": 57808, \"metrics\": {\"roc_auc\": 0.941, \"sets_accuracy\": 0.8696, \"f1_macro\": 0.8675}, \"time_spent\": \"1:40:08\", \"loss\": 0.5316675156354904}}\n"
     ]
    },
    {
     "name": "stderr",
     "output_type": "stream",
     "text": [
      "2018-11-09 13:27:30.77 INFO in 'deeppavlov.core.commands.train'['train'] at line 518: New best roc_auc of 0.9087\n",
      "2018-11-09 13:27:30.78 INFO in 'deeppavlov.core.commands.train'['train'] at line 520: Saving model\n",
      "2018-11-09 13:27:30.78 INFO in 'deeppavlov.models.classifiers.keras_classification_model'['keras_classification_model'] at line 375: [saving model to /home/dilyara/Documents/GitHub/DeepPavlov/download/YahooAnswers/models/model_v8/model_opt.json]\n"
     ]
    },
    {
     "name": "stdout",
     "output_type": "stream",
     "text": [
      "{\"valid\": {\"eval_examples_count\": 403, \"metrics\": {\"roc_auc\": 0.9087, \"sets_accuracy\": 0.8238, \"f1_macro\": 0.8215}, \"time_spent\": \"1:40:23\", \"epochs_done\": 16, \"batches_seen\": 64, \"train_examples_seen\": 57808, \"impatience\": 0, \"patience_limit\": 5}}\n",
      "{\"train\": {\"epochs_done\": 17, \"batches_seen\": 68, \"train_examples_seen\": 61421, \"metrics\": {\"roc_auc\": 0.946, \"sets_accuracy\": 0.876, \"f1_macro\": 0.8743}, \"time_spent\": \"1:46:16\", \"loss\": 0.5258772075176239}}\n"
     ]
    },
    {
     "name": "stderr",
     "output_type": "stream",
     "text": [
      "2018-11-09 13:33:38.59 INFO in 'deeppavlov.core.commands.train'['train'] at line 518: New best roc_auc of 0.9099\n",
      "2018-11-09 13:33:38.60 INFO in 'deeppavlov.core.commands.train'['train'] at line 520: Saving model\n",
      "2018-11-09 13:33:38.60 INFO in 'deeppavlov.models.classifiers.keras_classification_model'['keras_classification_model'] at line 375: [saving model to /home/dilyara/Documents/GitHub/DeepPavlov/download/YahooAnswers/models/model_v8/model_opt.json]\n"
     ]
    },
    {
     "name": "stdout",
     "output_type": "stream",
     "text": [
      "{\"valid\": {\"eval_examples_count\": 403, \"metrics\": {\"roc_auc\": 0.9099, \"sets_accuracy\": 0.794, \"f1_macro\": 0.7754}, \"time_spent\": \"1:46:31\", \"epochs_done\": 17, \"batches_seen\": 68, \"train_examples_seen\": 61421, \"impatience\": 0, \"patience_limit\": 5}}\n",
      "{\"train\": {\"epochs_done\": 18, \"batches_seen\": 72, \"train_examples_seen\": 65034, \"metrics\": {\"roc_auc\": 0.9443, \"sets_accuracy\": 0.8671, \"f1_macro\": 0.8639}, \"time_spent\": \"1:52:19\", \"loss\": 0.5230657607316971}}\n"
     ]
    },
    {
     "name": "stderr",
     "output_type": "stream",
     "text": [
      "2018-11-09 13:39:41.594 INFO in 'deeppavlov.core.commands.train'['train'] at line 518: New best roc_auc of 0.9158\n",
      "2018-11-09 13:39:41.595 INFO in 'deeppavlov.core.commands.train'['train'] at line 520: Saving model\n",
      "2018-11-09 13:39:41.595 INFO in 'deeppavlov.models.classifiers.keras_classification_model'['keras_classification_model'] at line 375: [saving model to /home/dilyara/Documents/GitHub/DeepPavlov/download/YahooAnswers/models/model_v8/model_opt.json]\n"
     ]
    },
    {
     "name": "stdout",
     "output_type": "stream",
     "text": [
      "{\"valid\": {\"eval_examples_count\": 403, \"metrics\": {\"roc_auc\": 0.9158, \"sets_accuracy\": 0.8387, \"f1_macro\": 0.834}, \"time_spent\": \"1:52:35\", \"epochs_done\": 18, \"batches_seen\": 72, \"train_examples_seen\": 65034, \"impatience\": 0, \"patience_limit\": 5}}\n",
      "{\"train\": {\"epochs_done\": 19, \"batches_seen\": 76, \"train_examples_seen\": 68647, \"metrics\": {\"roc_auc\": 0.9495, \"sets_accuracy\": 0.8649, \"f1_macro\": 0.8602}, \"time_spent\": \"1:58:26\", \"loss\": 0.5308225750923157}}\n"
     ]
    },
    {
     "name": "stderr",
     "output_type": "stream",
     "text": [
      "2018-11-09 13:45:48.333 INFO in 'deeppavlov.core.commands.train'['train'] at line 525: Did not improve on the roc_auc of 0.9158\n"
     ]
    },
    {
     "name": "stdout",
     "output_type": "stream",
     "text": [
      "{\"valid\": {\"eval_examples_count\": 403, \"metrics\": {\"roc_auc\": 0.9123, \"sets_accuracy\": 0.8238, \"f1_macro\": 0.8187}, \"time_spent\": \"1:58:41\", \"epochs_done\": 19, \"batches_seen\": 76, \"train_examples_seen\": 68647, \"impatience\": 1, \"patience_limit\": 5}}\n",
      "{\"train\": {\"epochs_done\": 20, \"batches_seen\": 80, \"train_examples_seen\": 72260, \"metrics\": {\"roc_auc\": 0.9512, \"sets_accuracy\": 0.8779, \"f1_macro\": 0.8751}, \"time_spent\": \"2:04:30\", \"loss\": 0.5095527619123459}}\n"
     ]
    },
    {
     "name": "stderr",
     "output_type": "stream",
     "text": [
      "2018-11-09 13:51:52.506 INFO in 'deeppavlov.core.commands.train'['train'] at line 525: Did not improve on the roc_auc of 0.9158\n",
      "2018-11-09 13:51:52.507 INFO in 'deeppavlov.core.data.simple_vocab'['simple_vocab'] at line 100: [loading vocabulary from /home/dilyara/Documents/GitHub/DeepPavlov/download/YahooAnswers/models/model_v8/yahoo_answers_classes.dict]\n"
     ]
    },
    {
     "name": "stdout",
     "output_type": "stream",
     "text": [
      "{\"valid\": {\"eval_examples_count\": 403, \"metrics\": {\"roc_auc\": 0.9075, \"sets_accuracy\": 0.8213, \"f1_macro\": 0.8179}, \"time_spent\": \"2:04:46\", \"epochs_done\": 20, \"batches_seen\": 80, \"train_examples_seen\": 72260, \"impatience\": 2, \"patience_limit\": 5}}\n"
     ]
    },
    {
     "name": "stderr",
     "output_type": "stream",
     "text": [
      "2018-11-09 13:51:52.736 DEBUG in 'tensorflow'['tf_logging'] at line 100: Initialize variable module/aggregation/scaling:0 from checkpoint b'/tmp/tfhub_modules/9bb74bc86f9caffc8c47dd7b33ec4bb354d9602d/variables/variables' with aggregation/scaling\n",
      "2018-11-09 13:51:52.739 DEBUG in 'tensorflow'['tf_logging'] at line 100: Initialize variable module/aggregation/weights:0 from checkpoint b'/tmp/tfhub_modules/9bb74bc86f9caffc8c47dd7b33ec4bb354d9602d/variables/variables' with aggregation/weights\n",
      "2018-11-09 13:51:52.742 DEBUG in 'tensorflow'['tf_logging'] at line 100: Initialize variable module/bilm/CNN/W_cnn_0:0 from checkpoint b'/tmp/tfhub_modules/9bb74bc86f9caffc8c47dd7b33ec4bb354d9602d/variables/variables' with bilm/CNN/W_cnn_0\n",
      "2018-11-09 13:51:52.745 DEBUG in 'tensorflow'['tf_logging'] at line 100: Initialize variable module/bilm/CNN/W_cnn_1:0 from checkpoint b'/tmp/tfhub_modules/9bb74bc86f9caffc8c47dd7b33ec4bb354d9602d/variables/variables' with bilm/CNN/W_cnn_1\n",
      "2018-11-09 13:51:52.748 DEBUG in 'tensorflow'['tf_logging'] at line 100: Initialize variable module/bilm/CNN/W_cnn_2:0 from checkpoint b'/tmp/tfhub_modules/9bb74bc86f9caffc8c47dd7b33ec4bb354d9602d/variables/variables' with bilm/CNN/W_cnn_2\n",
      "2018-11-09 13:51:52.750 DEBUG in 'tensorflow'['tf_logging'] at line 100: Initialize variable module/bilm/CNN/W_cnn_3:0 from checkpoint b'/tmp/tfhub_modules/9bb74bc86f9caffc8c47dd7b33ec4bb354d9602d/variables/variables' with bilm/CNN/W_cnn_3\n",
      "2018-11-09 13:51:52.753 DEBUG in 'tensorflow'['tf_logging'] at line 100: Initialize variable module/bilm/CNN/W_cnn_4:0 from checkpoint b'/tmp/tfhub_modules/9bb74bc86f9caffc8c47dd7b33ec4bb354d9602d/variables/variables' with bilm/CNN/W_cnn_4\n",
      "2018-11-09 13:51:52.755 DEBUG in 'tensorflow'['tf_logging'] at line 100: Initialize variable module/bilm/CNN/W_cnn_5:0 from checkpoint b'/tmp/tfhub_modules/9bb74bc86f9caffc8c47dd7b33ec4bb354d9602d/variables/variables' with bilm/CNN/W_cnn_5\n",
      "2018-11-09 13:51:52.758 DEBUG in 'tensorflow'['tf_logging'] at line 100: Initialize variable module/bilm/CNN/W_cnn_6:0 from checkpoint b'/tmp/tfhub_modules/9bb74bc86f9caffc8c47dd7b33ec4bb354d9602d/variables/variables' with bilm/CNN/W_cnn_6\n",
      "2018-11-09 13:51:52.760 DEBUG in 'tensorflow'['tf_logging'] at line 100: Initialize variable module/bilm/CNN/b_cnn_0:0 from checkpoint b'/tmp/tfhub_modules/9bb74bc86f9caffc8c47dd7b33ec4bb354d9602d/variables/variables' with bilm/CNN/b_cnn_0\n",
      "2018-11-09 13:51:52.763 DEBUG in 'tensorflow'['tf_logging'] at line 100: Initialize variable module/bilm/CNN/b_cnn_1:0 from checkpoint b'/tmp/tfhub_modules/9bb74bc86f9caffc8c47dd7b33ec4bb354d9602d/variables/variables' with bilm/CNN/b_cnn_1\n",
      "2018-11-09 13:51:52.765 DEBUG in 'tensorflow'['tf_logging'] at line 100: Initialize variable module/bilm/CNN/b_cnn_2:0 from checkpoint b'/tmp/tfhub_modules/9bb74bc86f9caffc8c47dd7b33ec4bb354d9602d/variables/variables' with bilm/CNN/b_cnn_2\n",
      "2018-11-09 13:51:52.767 DEBUG in 'tensorflow'['tf_logging'] at line 100: Initialize variable module/bilm/CNN/b_cnn_3:0 from checkpoint b'/tmp/tfhub_modules/9bb74bc86f9caffc8c47dd7b33ec4bb354d9602d/variables/variables' with bilm/CNN/b_cnn_3\n",
      "2018-11-09 13:51:52.770 DEBUG in 'tensorflow'['tf_logging'] at line 100: Initialize variable module/bilm/CNN/b_cnn_4:0 from checkpoint b'/tmp/tfhub_modules/9bb74bc86f9caffc8c47dd7b33ec4bb354d9602d/variables/variables' with bilm/CNN/b_cnn_4\n",
      "2018-11-09 13:51:52.772 DEBUG in 'tensorflow'['tf_logging'] at line 100: Initialize variable module/bilm/CNN/b_cnn_5:0 from checkpoint b'/tmp/tfhub_modules/9bb74bc86f9caffc8c47dd7b33ec4bb354d9602d/variables/variables' with bilm/CNN/b_cnn_5\n",
      "2018-11-09 13:51:52.775 DEBUG in 'tensorflow'['tf_logging'] at line 100: Initialize variable module/bilm/CNN/b_cnn_6:0 from checkpoint b'/tmp/tfhub_modules/9bb74bc86f9caffc8c47dd7b33ec4bb354d9602d/variables/variables' with bilm/CNN/b_cnn_6\n",
      "2018-11-09 13:51:52.777 DEBUG in 'tensorflow'['tf_logging'] at line 100: Initialize variable module/bilm/CNN_high_0/W_carry:0 from checkpoint b'/tmp/tfhub_modules/9bb74bc86f9caffc8c47dd7b33ec4bb354d9602d/variables/variables' with bilm/CNN_high_0/W_carry\n",
      "2018-11-09 13:51:52.779 DEBUG in 'tensorflow'['tf_logging'] at line 100: Initialize variable module/bilm/CNN_high_0/W_transform:0 from checkpoint b'/tmp/tfhub_modules/9bb74bc86f9caffc8c47dd7b33ec4bb354d9602d/variables/variables' with bilm/CNN_high_0/W_transform\n",
      "2018-11-09 13:51:52.782 DEBUG in 'tensorflow'['tf_logging'] at line 100: Initialize variable module/bilm/CNN_high_0/b_carry:0 from checkpoint b'/tmp/tfhub_modules/9bb74bc86f9caffc8c47dd7b33ec4bb354d9602d/variables/variables' with bilm/CNN_high_0/b_carry\n",
      "2018-11-09 13:51:52.784 DEBUG in 'tensorflow'['tf_logging'] at line 100: Initialize variable module/bilm/CNN_high_0/b_transform:0 from checkpoint b'/tmp/tfhub_modules/9bb74bc86f9caffc8c47dd7b33ec4bb354d9602d/variables/variables' with bilm/CNN_high_0/b_transform\n",
      "2018-11-09 13:51:52.786 DEBUG in 'tensorflow'['tf_logging'] at line 100: Initialize variable module/bilm/CNN_high_1/W_carry:0 from checkpoint b'/tmp/tfhub_modules/9bb74bc86f9caffc8c47dd7b33ec4bb354d9602d/variables/variables' with bilm/CNN_high_1/W_carry\n",
      "2018-11-09 13:51:52.789 DEBUG in 'tensorflow'['tf_logging'] at line 100: Initialize variable module/bilm/CNN_high_1/W_transform:0 from checkpoint b'/tmp/tfhub_modules/9bb74bc86f9caffc8c47dd7b33ec4bb354d9602d/variables/variables' with bilm/CNN_high_1/W_transform\n",
      "2018-11-09 13:51:52.791 DEBUG in 'tensorflow'['tf_logging'] at line 100: Initialize variable module/bilm/CNN_high_1/b_carry:0 from checkpoint b'/tmp/tfhub_modules/9bb74bc86f9caffc8c47dd7b33ec4bb354d9602d/variables/variables' with bilm/CNN_high_1/b_carry\n",
      "2018-11-09 13:51:52.793 DEBUG in 'tensorflow'['tf_logging'] at line 100: Initialize variable module/bilm/CNN_high_1/b_transform:0 from checkpoint b'/tmp/tfhub_modules/9bb74bc86f9caffc8c47dd7b33ec4bb354d9602d/variables/variables' with bilm/CNN_high_1/b_transform\n",
      "2018-11-09 13:51:52.796 DEBUG in 'tensorflow'['tf_logging'] at line 100: Initialize variable module/bilm/CNN_proj/W_proj:0 from checkpoint b'/tmp/tfhub_modules/9bb74bc86f9caffc8c47dd7b33ec4bb354d9602d/variables/variables' with bilm/CNN_proj/W_proj\n",
      "2018-11-09 13:51:52.798 DEBUG in 'tensorflow'['tf_logging'] at line 100: Initialize variable module/bilm/CNN_proj/b_proj:0 from checkpoint b'/tmp/tfhub_modules/9bb74bc86f9caffc8c47dd7b33ec4bb354d9602d/variables/variables' with bilm/CNN_proj/b_proj\n",
      "2018-11-09 13:51:52.800 DEBUG in 'tensorflow'['tf_logging'] at line 100: Initialize variable module/bilm/RNN_0/RNN/MultiRNNCell/Cell0/rnn/lstm_cell/bias:0 from checkpoint b'/tmp/tfhub_modules/9bb74bc86f9caffc8c47dd7b33ec4bb354d9602d/variables/variables' with bilm/RNN_0/RNN/MultiRNNCell/Cell0/rnn/lstm_cell/bias\n",
      "2018-11-09 13:51:52.803 DEBUG in 'tensorflow'['tf_logging'] at line 100: Initialize variable module/bilm/RNN_0/RNN/MultiRNNCell/Cell0/rnn/lstm_cell/kernel:0 from checkpoint b'/tmp/tfhub_modules/9bb74bc86f9caffc8c47dd7b33ec4bb354d9602d/variables/variables' with bilm/RNN_0/RNN/MultiRNNCell/Cell0/rnn/lstm_cell/kernel\n",
      "2018-11-09 13:51:52.805 DEBUG in 'tensorflow'['tf_logging'] at line 100: Initialize variable module/bilm/RNN_0/RNN/MultiRNNCell/Cell0/rnn/lstm_cell/projection/kernel:0 from checkpoint b'/tmp/tfhub_modules/9bb74bc86f9caffc8c47dd7b33ec4bb354d9602d/variables/variables' with bilm/RNN_0/RNN/MultiRNNCell/Cell0/rnn/lstm_cell/projection/kernel\n",
      "2018-11-09 13:51:52.807 DEBUG in 'tensorflow'['tf_logging'] at line 100: Initialize variable module/bilm/RNN_0/RNN/MultiRNNCell/Cell1/rnn/lstm_cell/bias:0 from checkpoint b'/tmp/tfhub_modules/9bb74bc86f9caffc8c47dd7b33ec4bb354d9602d/variables/variables' with bilm/RNN_0/RNN/MultiRNNCell/Cell1/rnn/lstm_cell/bias\n",
      "2018-11-09 13:51:52.810 DEBUG in 'tensorflow'['tf_logging'] at line 100: Initialize variable module/bilm/RNN_0/RNN/MultiRNNCell/Cell1/rnn/lstm_cell/kernel:0 from checkpoint b'/tmp/tfhub_modules/9bb74bc86f9caffc8c47dd7b33ec4bb354d9602d/variables/variables' with bilm/RNN_0/RNN/MultiRNNCell/Cell1/rnn/lstm_cell/kernel\n",
      "2018-11-09 13:51:52.812 DEBUG in 'tensorflow'['tf_logging'] at line 100: Initialize variable module/bilm/RNN_0/RNN/MultiRNNCell/Cell1/rnn/lstm_cell/projection/kernel:0 from checkpoint b'/tmp/tfhub_modules/9bb74bc86f9caffc8c47dd7b33ec4bb354d9602d/variables/variables' with bilm/RNN_0/RNN/MultiRNNCell/Cell1/rnn/lstm_cell/projection/kernel\n"
     ]
    },
    {
     "name": "stderr",
     "output_type": "stream",
     "text": [
      "2018-11-09 13:51:52.814 DEBUG in 'tensorflow'['tf_logging'] at line 100: Initialize variable module/bilm/RNN_1/RNN/MultiRNNCell/Cell0/rnn/lstm_cell/bias:0 from checkpoint b'/tmp/tfhub_modules/9bb74bc86f9caffc8c47dd7b33ec4bb354d9602d/variables/variables' with bilm/RNN_1/RNN/MultiRNNCell/Cell0/rnn/lstm_cell/bias\n",
      "2018-11-09 13:51:52.817 DEBUG in 'tensorflow'['tf_logging'] at line 100: Initialize variable module/bilm/RNN_1/RNN/MultiRNNCell/Cell0/rnn/lstm_cell/kernel:0 from checkpoint b'/tmp/tfhub_modules/9bb74bc86f9caffc8c47dd7b33ec4bb354d9602d/variables/variables' with bilm/RNN_1/RNN/MultiRNNCell/Cell0/rnn/lstm_cell/kernel\n",
      "2018-11-09 13:51:52.820 DEBUG in 'tensorflow'['tf_logging'] at line 100: Initialize variable module/bilm/RNN_1/RNN/MultiRNNCell/Cell0/rnn/lstm_cell/projection/kernel:0 from checkpoint b'/tmp/tfhub_modules/9bb74bc86f9caffc8c47dd7b33ec4bb354d9602d/variables/variables' with bilm/RNN_1/RNN/MultiRNNCell/Cell0/rnn/lstm_cell/projection/kernel\n",
      "2018-11-09 13:51:52.822 DEBUG in 'tensorflow'['tf_logging'] at line 100: Initialize variable module/bilm/RNN_1/RNN/MultiRNNCell/Cell1/rnn/lstm_cell/bias:0 from checkpoint b'/tmp/tfhub_modules/9bb74bc86f9caffc8c47dd7b33ec4bb354d9602d/variables/variables' with bilm/RNN_1/RNN/MultiRNNCell/Cell1/rnn/lstm_cell/bias\n",
      "2018-11-09 13:51:52.825 DEBUG in 'tensorflow'['tf_logging'] at line 100: Initialize variable module/bilm/RNN_1/RNN/MultiRNNCell/Cell1/rnn/lstm_cell/kernel:0 from checkpoint b'/tmp/tfhub_modules/9bb74bc86f9caffc8c47dd7b33ec4bb354d9602d/variables/variables' with bilm/RNN_1/RNN/MultiRNNCell/Cell1/rnn/lstm_cell/kernel\n",
      "2018-11-09 13:51:52.827 DEBUG in 'tensorflow'['tf_logging'] at line 100: Initialize variable module/bilm/RNN_1/RNN/MultiRNNCell/Cell1/rnn/lstm_cell/projection/kernel:0 from checkpoint b'/tmp/tfhub_modules/9bb74bc86f9caffc8c47dd7b33ec4bb354d9602d/variables/variables' with bilm/RNN_1/RNN/MultiRNNCell/Cell1/rnn/lstm_cell/projection/kernel\n",
      "2018-11-09 13:51:52.829 DEBUG in 'tensorflow'['tf_logging'] at line 100: Initialize variable module/bilm/char_embed:0 from checkpoint b'/tmp/tfhub_modules/9bb74bc86f9caffc8c47dd7b33ec4bb354d9602d/variables/variables' with bilm/char_embed\n",
      "2018-11-09 13:51:53.46 INFO in 'tensorflow'['tf_logging'] at line 115: Saver not created because there are no variables in the graph to restore\n",
      "2018-11-09 13:51:53.217 INFO in 'deeppavlov.models.classifiers.keras_classification_model'['keras_classification_model'] at line 291: [initializing `KerasClassificationModel` from saved]\n",
      "2018-11-09 13:51:53.917 INFO in 'deeppavlov.models.classifiers.keras_classification_model'['keras_classification_model'] at line 301: [loading weights from model.h5]\n",
      "2018-11-09 13:51:54.10 INFO in 'deeppavlov.models.classifiers.keras_classification_model'['keras_classification_model'] at line 135: Model was successfully initialized!\n",
      "Model summary:\n",
      "__________________________________________________________________________________________________\n",
      "Layer (type)                    Output Shape         Param #     Connected to                     \n",
      "==================================================================================================\n",
      "input_1 (InputLayer)            (None, 100, 1024)    0                                            \n",
      "__________________________________________________________________________________________________\n",
      "dropout_1 (Dropout)             (None, 100, 1024)    0           input_1[0][0]                    \n",
      "__________________________________________________________________________________________________\n",
      "bidirectional_1 (Bidirectional) [(None, 100, 512), ( 1967616     dropout_1[0][0]                  \n",
      "__________________________________________________________________________________________________\n",
      "global_max_pooling1d_1 (GlobalM (None, 512)          0           bidirectional_1[0][0]            \n",
      "__________________________________________________________________________________________________\n",
      "global_average_pooling1d_1 (Glo (None, 512)          0           bidirectional_1[0][0]            \n",
      "__________________________________________________________________________________________________\n",
      "concatenate_1 (Concatenate)     (None, 1536)         0           global_max_pooling1d_1[0][0]     \n",
      "                                                                 global_average_pooling1d_1[0][0] \n",
      "                                                                 bidirectional_1[0][1]            \n",
      "                                                                 bidirectional_1[0][2]            \n",
      "__________________________________________________________________________________________________\n",
      "dropout_2 (Dropout)             (None, 1536)         0           concatenate_1[0][0]              \n",
      "__________________________________________________________________________________________________\n",
      "dense_1 (Dense)                 (None, 100)          153700      dropout_2[0][0]                  \n",
      "__________________________________________________________________________________________________\n",
      "activation_1 (Activation)       (None, 100)          0           dense_1[0][0]                    \n",
      "__________________________________________________________________________________________________\n",
      "dropout_3 (Dropout)             (None, 100)          0           activation_1[0][0]               \n",
      "__________________________________________________________________________________________________\n",
      "dense_2 (Dense)                 (None, 2)            202         dropout_3[0][0]                  \n",
      "__________________________________________________________________________________________________\n",
      "activation_2 (Activation)       (None, 2)            0           dense_2[0][0]                    \n",
      "==================================================================================================\n",
      "Total params: 2,121,518\n",
      "Trainable params: 2,121,518\n",
      "Non-trainable params: 0\n",
      "__________________________________________________________________________________________________\n",
      "2018-11-09 13:51:54.11 INFO in 'deeppavlov.core.commands.train'['train'] at line 221: Testing the best saved model\n"
     ]
    },
    {
     "name": "stdout",
     "output_type": "stream",
     "text": [
      "{\"valid\": {\"eval_examples_count\": 403, \"metrics\": {\"roc_auc\": 0.9158, \"sets_accuracy\": 0.8387, \"f1_macro\": 0.834}, \"time_spent\": \"0:00:16\"}}\n"
     ]
    },
    {
     "name": "stderr",
     "output_type": "stream",
     "text": [
      "2018-11-09 13:52:11.68 INFO in 'deeppavlov.core.data.simple_vocab'['simple_vocab'] at line 100: [loading vocabulary from /home/dilyara/Documents/GitHub/DeepPavlov/download/YahooAnswers/models/model_v8/yahoo_answers_classes.dict]\n"
     ]
    },
    {
     "name": "stdout",
     "output_type": "stream",
     "text": [
      "{\"test\": {\"eval_examples_count\": 100, \"metrics\": {\"roc_auc\": 0.9346, \"sets_accuracy\": 0.87, \"f1_macro\": 0.864}, \"time_spent\": \"0:00:02\"}}\n"
     ]
    },
    {
     "name": "stderr",
     "output_type": "stream",
     "text": [
      "2018-11-09 13:52:11.296 DEBUG in 'tensorflow'['tf_logging'] at line 100: Initialize variable module/aggregation/scaling:0 from checkpoint b'/tmp/tfhub_modules/9bb74bc86f9caffc8c47dd7b33ec4bb354d9602d/variables/variables' with aggregation/scaling\n",
      "2018-11-09 13:52:11.299 DEBUG in 'tensorflow'['tf_logging'] at line 100: Initialize variable module/aggregation/weights:0 from checkpoint b'/tmp/tfhub_modules/9bb74bc86f9caffc8c47dd7b33ec4bb354d9602d/variables/variables' with aggregation/weights\n",
      "2018-11-09 13:52:11.301 DEBUG in 'tensorflow'['tf_logging'] at line 100: Initialize variable module/bilm/CNN/W_cnn_0:0 from checkpoint b'/tmp/tfhub_modules/9bb74bc86f9caffc8c47dd7b33ec4bb354d9602d/variables/variables' with bilm/CNN/W_cnn_0\n",
      "2018-11-09 13:52:11.304 DEBUG in 'tensorflow'['tf_logging'] at line 100: Initialize variable module/bilm/CNN/W_cnn_1:0 from checkpoint b'/tmp/tfhub_modules/9bb74bc86f9caffc8c47dd7b33ec4bb354d9602d/variables/variables' with bilm/CNN/W_cnn_1\n",
      "2018-11-09 13:52:11.306 DEBUG in 'tensorflow'['tf_logging'] at line 100: Initialize variable module/bilm/CNN/W_cnn_2:0 from checkpoint b'/tmp/tfhub_modules/9bb74bc86f9caffc8c47dd7b33ec4bb354d9602d/variables/variables' with bilm/CNN/W_cnn_2\n",
      "2018-11-09 13:52:11.309 DEBUG in 'tensorflow'['tf_logging'] at line 100: Initialize variable module/bilm/CNN/W_cnn_3:0 from checkpoint b'/tmp/tfhub_modules/9bb74bc86f9caffc8c47dd7b33ec4bb354d9602d/variables/variables' with bilm/CNN/W_cnn_3\n",
      "2018-11-09 13:52:11.311 DEBUG in 'tensorflow'['tf_logging'] at line 100: Initialize variable module/bilm/CNN/W_cnn_4:0 from checkpoint b'/tmp/tfhub_modules/9bb74bc86f9caffc8c47dd7b33ec4bb354d9602d/variables/variables' with bilm/CNN/W_cnn_4\n",
      "2018-11-09 13:52:11.314 DEBUG in 'tensorflow'['tf_logging'] at line 100: Initialize variable module/bilm/CNN/W_cnn_5:0 from checkpoint b'/tmp/tfhub_modules/9bb74bc86f9caffc8c47dd7b33ec4bb354d9602d/variables/variables' with bilm/CNN/W_cnn_5\n",
      "2018-11-09 13:52:11.316 DEBUG in 'tensorflow'['tf_logging'] at line 100: Initialize variable module/bilm/CNN/W_cnn_6:0 from checkpoint b'/tmp/tfhub_modules/9bb74bc86f9caffc8c47dd7b33ec4bb354d9602d/variables/variables' with bilm/CNN/W_cnn_6\n",
      "2018-11-09 13:52:11.319 DEBUG in 'tensorflow'['tf_logging'] at line 100: Initialize variable module/bilm/CNN/b_cnn_0:0 from checkpoint b'/tmp/tfhub_modules/9bb74bc86f9caffc8c47dd7b33ec4bb354d9602d/variables/variables' with bilm/CNN/b_cnn_0\n",
      "2018-11-09 13:52:11.321 DEBUG in 'tensorflow'['tf_logging'] at line 100: Initialize variable module/bilm/CNN/b_cnn_1:0 from checkpoint b'/tmp/tfhub_modules/9bb74bc86f9caffc8c47dd7b33ec4bb354d9602d/variables/variables' with bilm/CNN/b_cnn_1\n",
      "2018-11-09 13:52:11.324 DEBUG in 'tensorflow'['tf_logging'] at line 100: Initialize variable module/bilm/CNN/b_cnn_2:0 from checkpoint b'/tmp/tfhub_modules/9bb74bc86f9caffc8c47dd7b33ec4bb354d9602d/variables/variables' with bilm/CNN/b_cnn_2\n",
      "2018-11-09 13:52:11.326 DEBUG in 'tensorflow'['tf_logging'] at line 100: Initialize variable module/bilm/CNN/b_cnn_3:0 from checkpoint b'/tmp/tfhub_modules/9bb74bc86f9caffc8c47dd7b33ec4bb354d9602d/variables/variables' with bilm/CNN/b_cnn_3\n",
      "2018-11-09 13:52:11.329 DEBUG in 'tensorflow'['tf_logging'] at line 100: Initialize variable module/bilm/CNN/b_cnn_4:0 from checkpoint b'/tmp/tfhub_modules/9bb74bc86f9caffc8c47dd7b33ec4bb354d9602d/variables/variables' with bilm/CNN/b_cnn_4\n",
      "2018-11-09 13:52:11.331 DEBUG in 'tensorflow'['tf_logging'] at line 100: Initialize variable module/bilm/CNN/b_cnn_5:0 from checkpoint b'/tmp/tfhub_modules/9bb74bc86f9caffc8c47dd7b33ec4bb354d9602d/variables/variables' with bilm/CNN/b_cnn_5\n",
      "2018-11-09 13:52:11.333 DEBUG in 'tensorflow'['tf_logging'] at line 100: Initialize variable module/bilm/CNN/b_cnn_6:0 from checkpoint b'/tmp/tfhub_modules/9bb74bc86f9caffc8c47dd7b33ec4bb354d9602d/variables/variables' with bilm/CNN/b_cnn_6\n",
      "2018-11-09 13:52:11.336 DEBUG in 'tensorflow'['tf_logging'] at line 100: Initialize variable module/bilm/CNN_high_0/W_carry:0 from checkpoint b'/tmp/tfhub_modules/9bb74bc86f9caffc8c47dd7b33ec4bb354d9602d/variables/variables' with bilm/CNN_high_0/W_carry\n",
      "2018-11-09 13:52:11.338 DEBUG in 'tensorflow'['tf_logging'] at line 100: Initialize variable module/bilm/CNN_high_0/W_transform:0 from checkpoint b'/tmp/tfhub_modules/9bb74bc86f9caffc8c47dd7b33ec4bb354d9602d/variables/variables' with bilm/CNN_high_0/W_transform\n",
      "2018-11-09 13:52:11.341 DEBUG in 'tensorflow'['tf_logging'] at line 100: Initialize variable module/bilm/CNN_high_0/b_carry:0 from checkpoint b'/tmp/tfhub_modules/9bb74bc86f9caffc8c47dd7b33ec4bb354d9602d/variables/variables' with bilm/CNN_high_0/b_carry\n",
      "2018-11-09 13:52:11.343 DEBUG in 'tensorflow'['tf_logging'] at line 100: Initialize variable module/bilm/CNN_high_0/b_transform:0 from checkpoint b'/tmp/tfhub_modules/9bb74bc86f9caffc8c47dd7b33ec4bb354d9602d/variables/variables' with bilm/CNN_high_0/b_transform\n",
      "2018-11-09 13:52:11.346 DEBUG in 'tensorflow'['tf_logging'] at line 100: Initialize variable module/bilm/CNN_high_1/W_carry:0 from checkpoint b'/tmp/tfhub_modules/9bb74bc86f9caffc8c47dd7b33ec4bb354d9602d/variables/variables' with bilm/CNN_high_1/W_carry\n",
      "2018-11-09 13:52:11.349 DEBUG in 'tensorflow'['tf_logging'] at line 100: Initialize variable module/bilm/CNN_high_1/W_transform:0 from checkpoint b'/tmp/tfhub_modules/9bb74bc86f9caffc8c47dd7b33ec4bb354d9602d/variables/variables' with bilm/CNN_high_1/W_transform\n",
      "2018-11-09 13:52:11.351 DEBUG in 'tensorflow'['tf_logging'] at line 100: Initialize variable module/bilm/CNN_high_1/b_carry:0 from checkpoint b'/tmp/tfhub_modules/9bb74bc86f9caffc8c47dd7b33ec4bb354d9602d/variables/variables' with bilm/CNN_high_1/b_carry\n",
      "2018-11-09 13:52:11.354 DEBUG in 'tensorflow'['tf_logging'] at line 100: Initialize variable module/bilm/CNN_high_1/b_transform:0 from checkpoint b'/tmp/tfhub_modules/9bb74bc86f9caffc8c47dd7b33ec4bb354d9602d/variables/variables' with bilm/CNN_high_1/b_transform\n",
      "2018-11-09 13:52:11.357 DEBUG in 'tensorflow'['tf_logging'] at line 100: Initialize variable module/bilm/CNN_proj/W_proj:0 from checkpoint b'/tmp/tfhub_modules/9bb74bc86f9caffc8c47dd7b33ec4bb354d9602d/variables/variables' with bilm/CNN_proj/W_proj\n",
      "2018-11-09 13:52:11.359 DEBUG in 'tensorflow'['tf_logging'] at line 100: Initialize variable module/bilm/CNN_proj/b_proj:0 from checkpoint b'/tmp/tfhub_modules/9bb74bc86f9caffc8c47dd7b33ec4bb354d9602d/variables/variables' with bilm/CNN_proj/b_proj\n",
      "2018-11-09 13:52:11.362 DEBUG in 'tensorflow'['tf_logging'] at line 100: Initialize variable module/bilm/RNN_0/RNN/MultiRNNCell/Cell0/rnn/lstm_cell/bias:0 from checkpoint b'/tmp/tfhub_modules/9bb74bc86f9caffc8c47dd7b33ec4bb354d9602d/variables/variables' with bilm/RNN_0/RNN/MultiRNNCell/Cell0/rnn/lstm_cell/bias\n",
      "2018-11-09 13:52:11.365 DEBUG in 'tensorflow'['tf_logging'] at line 100: Initialize variable module/bilm/RNN_0/RNN/MultiRNNCell/Cell0/rnn/lstm_cell/kernel:0 from checkpoint b'/tmp/tfhub_modules/9bb74bc86f9caffc8c47dd7b33ec4bb354d9602d/variables/variables' with bilm/RNN_0/RNN/MultiRNNCell/Cell0/rnn/lstm_cell/kernel\n",
      "2018-11-09 13:52:11.368 DEBUG in 'tensorflow'['tf_logging'] at line 100: Initialize variable module/bilm/RNN_0/RNN/MultiRNNCell/Cell0/rnn/lstm_cell/projection/kernel:0 from checkpoint b'/tmp/tfhub_modules/9bb74bc86f9caffc8c47dd7b33ec4bb354d9602d/variables/variables' with bilm/RNN_0/RNN/MultiRNNCell/Cell0/rnn/lstm_cell/projection/kernel\n",
      "2018-11-09 13:52:11.371 DEBUG in 'tensorflow'['tf_logging'] at line 100: Initialize variable module/bilm/RNN_0/RNN/MultiRNNCell/Cell1/rnn/lstm_cell/bias:0 from checkpoint b'/tmp/tfhub_modules/9bb74bc86f9caffc8c47dd7b33ec4bb354d9602d/variables/variables' with bilm/RNN_0/RNN/MultiRNNCell/Cell1/rnn/lstm_cell/bias\n",
      "2018-11-09 13:52:11.374 DEBUG in 'tensorflow'['tf_logging'] at line 100: Initialize variable module/bilm/RNN_0/RNN/MultiRNNCell/Cell1/rnn/lstm_cell/kernel:0 from checkpoint b'/tmp/tfhub_modules/9bb74bc86f9caffc8c47dd7b33ec4bb354d9602d/variables/variables' with bilm/RNN_0/RNN/MultiRNNCell/Cell1/rnn/lstm_cell/kernel\n",
      "2018-11-09 13:52:11.377 DEBUG in 'tensorflow'['tf_logging'] at line 100: Initialize variable module/bilm/RNN_0/RNN/MultiRNNCell/Cell1/rnn/lstm_cell/projection/kernel:0 from checkpoint b'/tmp/tfhub_modules/9bb74bc86f9caffc8c47dd7b33ec4bb354d9602d/variables/variables' with bilm/RNN_0/RNN/MultiRNNCell/Cell1/rnn/lstm_cell/projection/kernel\n"
     ]
    },
    {
     "name": "stderr",
     "output_type": "stream",
     "text": [
      "2018-11-09 13:52:11.380 DEBUG in 'tensorflow'['tf_logging'] at line 100: Initialize variable module/bilm/RNN_1/RNN/MultiRNNCell/Cell0/rnn/lstm_cell/bias:0 from checkpoint b'/tmp/tfhub_modules/9bb74bc86f9caffc8c47dd7b33ec4bb354d9602d/variables/variables' with bilm/RNN_1/RNN/MultiRNNCell/Cell0/rnn/lstm_cell/bias\n",
      "2018-11-09 13:52:11.383 DEBUG in 'tensorflow'['tf_logging'] at line 100: Initialize variable module/bilm/RNN_1/RNN/MultiRNNCell/Cell0/rnn/lstm_cell/kernel:0 from checkpoint b'/tmp/tfhub_modules/9bb74bc86f9caffc8c47dd7b33ec4bb354d9602d/variables/variables' with bilm/RNN_1/RNN/MultiRNNCell/Cell0/rnn/lstm_cell/kernel\n",
      "2018-11-09 13:52:11.385 DEBUG in 'tensorflow'['tf_logging'] at line 100: Initialize variable module/bilm/RNN_1/RNN/MultiRNNCell/Cell0/rnn/lstm_cell/projection/kernel:0 from checkpoint b'/tmp/tfhub_modules/9bb74bc86f9caffc8c47dd7b33ec4bb354d9602d/variables/variables' with bilm/RNN_1/RNN/MultiRNNCell/Cell0/rnn/lstm_cell/projection/kernel\n",
      "2018-11-09 13:52:11.388 DEBUG in 'tensorflow'['tf_logging'] at line 100: Initialize variable module/bilm/RNN_1/RNN/MultiRNNCell/Cell1/rnn/lstm_cell/bias:0 from checkpoint b'/tmp/tfhub_modules/9bb74bc86f9caffc8c47dd7b33ec4bb354d9602d/variables/variables' with bilm/RNN_1/RNN/MultiRNNCell/Cell1/rnn/lstm_cell/bias\n",
      "2018-11-09 13:52:11.391 DEBUG in 'tensorflow'['tf_logging'] at line 100: Initialize variable module/bilm/RNN_1/RNN/MultiRNNCell/Cell1/rnn/lstm_cell/kernel:0 from checkpoint b'/tmp/tfhub_modules/9bb74bc86f9caffc8c47dd7b33ec4bb354d9602d/variables/variables' with bilm/RNN_1/RNN/MultiRNNCell/Cell1/rnn/lstm_cell/kernel\n",
      "2018-11-09 13:52:11.394 DEBUG in 'tensorflow'['tf_logging'] at line 100: Initialize variable module/bilm/RNN_1/RNN/MultiRNNCell/Cell1/rnn/lstm_cell/projection/kernel:0 from checkpoint b'/tmp/tfhub_modules/9bb74bc86f9caffc8c47dd7b33ec4bb354d9602d/variables/variables' with bilm/RNN_1/RNN/MultiRNNCell/Cell1/rnn/lstm_cell/projection/kernel\n",
      "2018-11-09 13:52:11.396 DEBUG in 'tensorflow'['tf_logging'] at line 100: Initialize variable module/bilm/char_embed:0 from checkpoint b'/tmp/tfhub_modules/9bb74bc86f9caffc8c47dd7b33ec4bb354d9602d/variables/variables' with bilm/char_embed\n",
      "2018-11-09 13:52:11.613 INFO in 'tensorflow'['tf_logging'] at line 115: Saver not created because there are no variables in the graph to restore\n",
      "2018-11-09 13:52:11.783 INFO in 'deeppavlov.models.classifiers.keras_classification_model'['keras_classification_model'] at line 291: [initializing `KerasClassificationModel` from saved]\n",
      "2018-11-09 13:52:12.228 INFO in 'deeppavlov.models.classifiers.keras_classification_model'['keras_classification_model'] at line 301: [loading weights from model.h5]\n",
      "2018-11-09 13:52:12.321 INFO in 'deeppavlov.models.classifiers.keras_classification_model'['keras_classification_model'] at line 135: Model was successfully initialized!\n",
      "Model summary:\n",
      "__________________________________________________________________________________________________\n",
      "Layer (type)                    Output Shape         Param #     Connected to                     \n",
      "==================================================================================================\n",
      "input_1 (InputLayer)            (None, 100, 1024)    0                                            \n",
      "__________________________________________________________________________________________________\n",
      "dropout_1 (Dropout)             (None, 100, 1024)    0           input_1[0][0]                    \n",
      "__________________________________________________________________________________________________\n",
      "bidirectional_1 (Bidirectional) [(None, 100, 512), ( 1967616     dropout_1[0][0]                  \n",
      "__________________________________________________________________________________________________\n",
      "global_max_pooling1d_1 (GlobalM (None, 512)          0           bidirectional_1[0][0]            \n",
      "__________________________________________________________________________________________________\n",
      "global_average_pooling1d_1 (Glo (None, 512)          0           bidirectional_1[0][0]            \n",
      "__________________________________________________________________________________________________\n",
      "concatenate_1 (Concatenate)     (None, 1536)         0           global_max_pooling1d_1[0][0]     \n",
      "                                                                 global_average_pooling1d_1[0][0] \n",
      "                                                                 bidirectional_1[0][1]            \n",
      "                                                                 bidirectional_1[0][2]            \n",
      "__________________________________________________________________________________________________\n",
      "dropout_2 (Dropout)             (None, 1536)         0           concatenate_1[0][0]              \n",
      "__________________________________________________________________________________________________\n",
      "dense_1 (Dense)                 (None, 100)          153700      dropout_2[0][0]                  \n",
      "__________________________________________________________________________________________________\n",
      "activation_1 (Activation)       (None, 100)          0           dense_1[0][0]                    \n",
      "__________________________________________________________________________________________________\n",
      "dropout_3 (Dropout)             (None, 100)          0           activation_1[0][0]               \n",
      "__________________________________________________________________________________________________\n",
      "dense_2 (Dense)                 (None, 2)            202         dropout_3[0][0]                  \n",
      "__________________________________________________________________________________________________\n",
      "activation_2 (Activation)       (None, 2)            0           dense_2[0][0]                    \n",
      "==================================================================================================\n",
      "Total params: 2,121,518\n",
      "Trainable params: 2,121,518\n",
      "Non-trainable params: 0\n",
      "__________________________________________________________________________________________________\n",
      "2018-11-09 13:52:12.321 INFO in 'deeppavlov.core.data.simple_vocab'['simple_vocab'] at line 100: [loading vocabulary from /home/dilyara/Documents/GitHub/DeepPavlov/download/YahooAnswers/models/model_v8/yahoo_answers_classes.dict]\n"
     ]
    },
    {
     "name": "stdout",
     "output_type": "stream",
     "text": [
      "Iteration 1: add 454 samples to train dataset\n"
     ]
    },
    {
     "name": "stderr",
     "output_type": "stream",
     "text": [
      "/home/dilyara/anaconda3/envs/deep36/lib/python3.6/site-packages/ipykernel_launcher.py:13: DeprecationWarning: in the future out of bounds indices will raise an error instead of being ignored by `numpy.delete`.\n",
      "  del sys.path[0]\n",
      "2018-11-09 13:56:36.714 INFO in 'deeppavlov.core.data.simple_vocab'['simple_vocab'] at line 100: [loading vocabulary from /home/dilyara/Documents/GitHub/DeepPavlov/download/YahooAnswers/models/model_v8/yahoo_answers_classes.dict]\n",
      "2018-11-09 13:56:36.718 INFO in 'deeppavlov.core.data.simple_vocab'['simple_vocab'] at line 89: [saving vocabulary to /home/dilyara/Documents/GitHub/DeepPavlov/download/YahooAnswers/models/model_v8/yahoo_answers_classes.dict]\n",
      "2018-11-09 13:56:36.945 DEBUG in 'tensorflow'['tf_logging'] at line 100: Initialize variable module/aggregation/scaling:0 from checkpoint b'/tmp/tfhub_modules/9bb74bc86f9caffc8c47dd7b33ec4bb354d9602d/variables/variables' with aggregation/scaling\n",
      "2018-11-09 13:56:36.948 DEBUG in 'tensorflow'['tf_logging'] at line 100: Initialize variable module/aggregation/weights:0 from checkpoint b'/tmp/tfhub_modules/9bb74bc86f9caffc8c47dd7b33ec4bb354d9602d/variables/variables' with aggregation/weights\n",
      "2018-11-09 13:56:36.950 DEBUG in 'tensorflow'['tf_logging'] at line 100: Initialize variable module/bilm/CNN/W_cnn_0:0 from checkpoint b'/tmp/tfhub_modules/9bb74bc86f9caffc8c47dd7b33ec4bb354d9602d/variables/variables' with bilm/CNN/W_cnn_0\n",
      "2018-11-09 13:56:36.953 DEBUG in 'tensorflow'['tf_logging'] at line 100: Initialize variable module/bilm/CNN/W_cnn_1:0 from checkpoint b'/tmp/tfhub_modules/9bb74bc86f9caffc8c47dd7b33ec4bb354d9602d/variables/variables' with bilm/CNN/W_cnn_1\n",
      "2018-11-09 13:56:36.955 DEBUG in 'tensorflow'['tf_logging'] at line 100: Initialize variable module/bilm/CNN/W_cnn_2:0 from checkpoint b'/tmp/tfhub_modules/9bb74bc86f9caffc8c47dd7b33ec4bb354d9602d/variables/variables' with bilm/CNN/W_cnn_2\n",
      "2018-11-09 13:56:36.958 DEBUG in 'tensorflow'['tf_logging'] at line 100: Initialize variable module/bilm/CNN/W_cnn_3:0 from checkpoint b'/tmp/tfhub_modules/9bb74bc86f9caffc8c47dd7b33ec4bb354d9602d/variables/variables' with bilm/CNN/W_cnn_3\n",
      "2018-11-09 13:56:36.960 DEBUG in 'tensorflow'['tf_logging'] at line 100: Initialize variable module/bilm/CNN/W_cnn_4:0 from checkpoint b'/tmp/tfhub_modules/9bb74bc86f9caffc8c47dd7b33ec4bb354d9602d/variables/variables' with bilm/CNN/W_cnn_4\n",
      "2018-11-09 13:56:36.963 DEBUG in 'tensorflow'['tf_logging'] at line 100: Initialize variable module/bilm/CNN/W_cnn_5:0 from checkpoint b'/tmp/tfhub_modules/9bb74bc86f9caffc8c47dd7b33ec4bb354d9602d/variables/variables' with bilm/CNN/W_cnn_5\n",
      "2018-11-09 13:56:36.966 DEBUG in 'tensorflow'['tf_logging'] at line 100: Initialize variable module/bilm/CNN/W_cnn_6:0 from checkpoint b'/tmp/tfhub_modules/9bb74bc86f9caffc8c47dd7b33ec4bb354d9602d/variables/variables' with bilm/CNN/W_cnn_6\n",
      "2018-11-09 13:56:36.968 DEBUG in 'tensorflow'['tf_logging'] at line 100: Initialize variable module/bilm/CNN/b_cnn_0:0 from checkpoint b'/tmp/tfhub_modules/9bb74bc86f9caffc8c47dd7b33ec4bb354d9602d/variables/variables' with bilm/CNN/b_cnn_0\n",
      "2018-11-09 13:56:36.971 DEBUG in 'tensorflow'['tf_logging'] at line 100: Initialize variable module/bilm/CNN/b_cnn_1:0 from checkpoint b'/tmp/tfhub_modules/9bb74bc86f9caffc8c47dd7b33ec4bb354d9602d/variables/variables' with bilm/CNN/b_cnn_1\n",
      "2018-11-09 13:56:36.973 DEBUG in 'tensorflow'['tf_logging'] at line 100: Initialize variable module/bilm/CNN/b_cnn_2:0 from checkpoint b'/tmp/tfhub_modules/9bb74bc86f9caffc8c47dd7b33ec4bb354d9602d/variables/variables' with bilm/CNN/b_cnn_2\n",
      "2018-11-09 13:56:36.975 DEBUG in 'tensorflow'['tf_logging'] at line 100: Initialize variable module/bilm/CNN/b_cnn_3:0 from checkpoint b'/tmp/tfhub_modules/9bb74bc86f9caffc8c47dd7b33ec4bb354d9602d/variables/variables' with bilm/CNN/b_cnn_3\n",
      "2018-11-09 13:56:36.978 DEBUG in 'tensorflow'['tf_logging'] at line 100: Initialize variable module/bilm/CNN/b_cnn_4:0 from checkpoint b'/tmp/tfhub_modules/9bb74bc86f9caffc8c47dd7b33ec4bb354d9602d/variables/variables' with bilm/CNN/b_cnn_4\n",
      "2018-11-09 13:56:36.980 DEBUG in 'tensorflow'['tf_logging'] at line 100: Initialize variable module/bilm/CNN/b_cnn_5:0 from checkpoint b'/tmp/tfhub_modules/9bb74bc86f9caffc8c47dd7b33ec4bb354d9602d/variables/variables' with bilm/CNN/b_cnn_5\n",
      "2018-11-09 13:56:36.983 DEBUG in 'tensorflow'['tf_logging'] at line 100: Initialize variable module/bilm/CNN/b_cnn_6:0 from checkpoint b'/tmp/tfhub_modules/9bb74bc86f9caffc8c47dd7b33ec4bb354d9602d/variables/variables' with bilm/CNN/b_cnn_6\n",
      "2018-11-09 13:56:36.985 DEBUG in 'tensorflow'['tf_logging'] at line 100: Initialize variable module/bilm/CNN_high_0/W_carry:0 from checkpoint b'/tmp/tfhub_modules/9bb74bc86f9caffc8c47dd7b33ec4bb354d9602d/variables/variables' with bilm/CNN_high_0/W_carry\n",
      "2018-11-09 13:56:36.988 DEBUG in 'tensorflow'['tf_logging'] at line 100: Initialize variable module/bilm/CNN_high_0/W_transform:0 from checkpoint b'/tmp/tfhub_modules/9bb74bc86f9caffc8c47dd7b33ec4bb354d9602d/variables/variables' with bilm/CNN_high_0/W_transform\n",
      "2018-11-09 13:56:36.990 DEBUG in 'tensorflow'['tf_logging'] at line 100: Initialize variable module/bilm/CNN_high_0/b_carry:0 from checkpoint b'/tmp/tfhub_modules/9bb74bc86f9caffc8c47dd7b33ec4bb354d9602d/variables/variables' with bilm/CNN_high_0/b_carry\n",
      "2018-11-09 13:56:36.993 DEBUG in 'tensorflow'['tf_logging'] at line 100: Initialize variable module/bilm/CNN_high_0/b_transform:0 from checkpoint b'/tmp/tfhub_modules/9bb74bc86f9caffc8c47dd7b33ec4bb354d9602d/variables/variables' with bilm/CNN_high_0/b_transform\n",
      "2018-11-09 13:56:36.995 DEBUG in 'tensorflow'['tf_logging'] at line 100: Initialize variable module/bilm/CNN_high_1/W_carry:0 from checkpoint b'/tmp/tfhub_modules/9bb74bc86f9caffc8c47dd7b33ec4bb354d9602d/variables/variables' with bilm/CNN_high_1/W_carry\n",
      "2018-11-09 13:56:36.997 DEBUG in 'tensorflow'['tf_logging'] at line 100: Initialize variable module/bilm/CNN_high_1/W_transform:0 from checkpoint b'/tmp/tfhub_modules/9bb74bc86f9caffc8c47dd7b33ec4bb354d9602d/variables/variables' with bilm/CNN_high_1/W_transform\n",
      "2018-11-09 13:56:37.0 DEBUG in 'tensorflow'['tf_logging'] at line 100: Initialize variable module/bilm/CNN_high_1/b_carry:0 from checkpoint b'/tmp/tfhub_modules/9bb74bc86f9caffc8c47dd7b33ec4bb354d9602d/variables/variables' with bilm/CNN_high_1/b_carry\n",
      "2018-11-09 13:56:37.2 DEBUG in 'tensorflow'['tf_logging'] at line 100: Initialize variable module/bilm/CNN_high_1/b_transform:0 from checkpoint b'/tmp/tfhub_modules/9bb74bc86f9caffc8c47dd7b33ec4bb354d9602d/variables/variables' with bilm/CNN_high_1/b_transform\n",
      "2018-11-09 13:56:37.4 DEBUG in 'tensorflow'['tf_logging'] at line 100: Initialize variable module/bilm/CNN_proj/W_proj:0 from checkpoint b'/tmp/tfhub_modules/9bb74bc86f9caffc8c47dd7b33ec4bb354d9602d/variables/variables' with bilm/CNN_proj/W_proj\n",
      "2018-11-09 13:56:37.7 DEBUG in 'tensorflow'['tf_logging'] at line 100: Initialize variable module/bilm/CNN_proj/b_proj:0 from checkpoint b'/tmp/tfhub_modules/9bb74bc86f9caffc8c47dd7b33ec4bb354d9602d/variables/variables' with bilm/CNN_proj/b_proj\n",
      "2018-11-09 13:56:37.9 DEBUG in 'tensorflow'['tf_logging'] at line 100: Initialize variable module/bilm/RNN_0/RNN/MultiRNNCell/Cell0/rnn/lstm_cell/bias:0 from checkpoint b'/tmp/tfhub_modules/9bb74bc86f9caffc8c47dd7b33ec4bb354d9602d/variables/variables' with bilm/RNN_0/RNN/MultiRNNCell/Cell0/rnn/lstm_cell/bias\n",
      "2018-11-09 13:56:37.11 DEBUG in 'tensorflow'['tf_logging'] at line 100: Initialize variable module/bilm/RNN_0/RNN/MultiRNNCell/Cell0/rnn/lstm_cell/kernel:0 from checkpoint b'/tmp/tfhub_modules/9bb74bc86f9caffc8c47dd7b33ec4bb354d9602d/variables/variables' with bilm/RNN_0/RNN/MultiRNNCell/Cell0/rnn/lstm_cell/kernel\n",
      "2018-11-09 13:56:37.14 DEBUG in 'tensorflow'['tf_logging'] at line 100: Initialize variable module/bilm/RNN_0/RNN/MultiRNNCell/Cell0/rnn/lstm_cell/projection/kernel:0 from checkpoint b'/tmp/tfhub_modules/9bb74bc86f9caffc8c47dd7b33ec4bb354d9602d/variables/variables' with bilm/RNN_0/RNN/MultiRNNCell/Cell0/rnn/lstm_cell/projection/kernel\n",
      "2018-11-09 13:56:37.16 DEBUG in 'tensorflow'['tf_logging'] at line 100: Initialize variable module/bilm/RNN_0/RNN/MultiRNNCell/Cell1/rnn/lstm_cell/bias:0 from checkpoint b'/tmp/tfhub_modules/9bb74bc86f9caffc8c47dd7b33ec4bb354d9602d/variables/variables' with bilm/RNN_0/RNN/MultiRNNCell/Cell1/rnn/lstm_cell/bias\n"
     ]
    },
    {
     "name": "stderr",
     "output_type": "stream",
     "text": [
      "2018-11-09 13:56:37.18 DEBUG in 'tensorflow'['tf_logging'] at line 100: Initialize variable module/bilm/RNN_0/RNN/MultiRNNCell/Cell1/rnn/lstm_cell/kernel:0 from checkpoint b'/tmp/tfhub_modules/9bb74bc86f9caffc8c47dd7b33ec4bb354d9602d/variables/variables' with bilm/RNN_0/RNN/MultiRNNCell/Cell1/rnn/lstm_cell/kernel\n",
      "2018-11-09 13:56:37.20 DEBUG in 'tensorflow'['tf_logging'] at line 100: Initialize variable module/bilm/RNN_0/RNN/MultiRNNCell/Cell1/rnn/lstm_cell/projection/kernel:0 from checkpoint b'/tmp/tfhub_modules/9bb74bc86f9caffc8c47dd7b33ec4bb354d9602d/variables/variables' with bilm/RNN_0/RNN/MultiRNNCell/Cell1/rnn/lstm_cell/projection/kernel\n",
      "2018-11-09 13:56:37.23 DEBUG in 'tensorflow'['tf_logging'] at line 100: Initialize variable module/bilm/RNN_1/RNN/MultiRNNCell/Cell0/rnn/lstm_cell/bias:0 from checkpoint b'/tmp/tfhub_modules/9bb74bc86f9caffc8c47dd7b33ec4bb354d9602d/variables/variables' with bilm/RNN_1/RNN/MultiRNNCell/Cell0/rnn/lstm_cell/bias\n",
      "2018-11-09 13:56:37.25 DEBUG in 'tensorflow'['tf_logging'] at line 100: Initialize variable module/bilm/RNN_1/RNN/MultiRNNCell/Cell0/rnn/lstm_cell/kernel:0 from checkpoint b'/tmp/tfhub_modules/9bb74bc86f9caffc8c47dd7b33ec4bb354d9602d/variables/variables' with bilm/RNN_1/RNN/MultiRNNCell/Cell0/rnn/lstm_cell/kernel\n",
      "2018-11-09 13:56:37.27 DEBUG in 'tensorflow'['tf_logging'] at line 100: Initialize variable module/bilm/RNN_1/RNN/MultiRNNCell/Cell0/rnn/lstm_cell/projection/kernel:0 from checkpoint b'/tmp/tfhub_modules/9bb74bc86f9caffc8c47dd7b33ec4bb354d9602d/variables/variables' with bilm/RNN_1/RNN/MultiRNNCell/Cell0/rnn/lstm_cell/projection/kernel\n",
      "2018-11-09 13:56:37.30 DEBUG in 'tensorflow'['tf_logging'] at line 100: Initialize variable module/bilm/RNN_1/RNN/MultiRNNCell/Cell1/rnn/lstm_cell/bias:0 from checkpoint b'/tmp/tfhub_modules/9bb74bc86f9caffc8c47dd7b33ec4bb354d9602d/variables/variables' with bilm/RNN_1/RNN/MultiRNNCell/Cell1/rnn/lstm_cell/bias\n",
      "2018-11-09 13:56:37.32 DEBUG in 'tensorflow'['tf_logging'] at line 100: Initialize variable module/bilm/RNN_1/RNN/MultiRNNCell/Cell1/rnn/lstm_cell/kernel:0 from checkpoint b'/tmp/tfhub_modules/9bb74bc86f9caffc8c47dd7b33ec4bb354d9602d/variables/variables' with bilm/RNN_1/RNN/MultiRNNCell/Cell1/rnn/lstm_cell/kernel\n",
      "2018-11-09 13:56:37.34 DEBUG in 'tensorflow'['tf_logging'] at line 100: Initialize variable module/bilm/RNN_1/RNN/MultiRNNCell/Cell1/rnn/lstm_cell/projection/kernel:0 from checkpoint b'/tmp/tfhub_modules/9bb74bc86f9caffc8c47dd7b33ec4bb354d9602d/variables/variables' with bilm/RNN_1/RNN/MultiRNNCell/Cell1/rnn/lstm_cell/projection/kernel\n",
      "2018-11-09 13:56:37.37 DEBUG in 'tensorflow'['tf_logging'] at line 100: Initialize variable module/bilm/char_embed:0 from checkpoint b'/tmp/tfhub_modules/9bb74bc86f9caffc8c47dd7b33ec4bb354d9602d/variables/variables' with bilm/char_embed\n",
      "2018-11-09 13:56:37.743 INFO in 'tensorflow'['tf_logging'] at line 115: Saver not created because there are no variables in the graph to restore\n",
      "2018-11-09 13:56:37.917 INFO in 'deeppavlov.models.classifiers.keras_classification_model'['keras_classification_model'] at line 291: [initializing `KerasClassificationModel` from saved]\n",
      "2018-11-09 13:56:38.362 INFO in 'deeppavlov.models.classifiers.keras_classification_model'['keras_classification_model'] at line 301: [loading weights from model.h5]\n",
      "2018-11-09 13:56:38.455 INFO in 'deeppavlov.models.classifiers.keras_classification_model'['keras_classification_model'] at line 135: Model was successfully initialized!\n",
      "Model summary:\n",
      "__________________________________________________________________________________________________\n",
      "Layer (type)                    Output Shape         Param #     Connected to                     \n",
      "==================================================================================================\n",
      "input_1 (InputLayer)            (None, 100, 1024)    0                                            \n",
      "__________________________________________________________________________________________________\n",
      "dropout_1 (Dropout)             (None, 100, 1024)    0           input_1[0][0]                    \n",
      "__________________________________________________________________________________________________\n",
      "bidirectional_1 (Bidirectional) [(None, 100, 512), ( 1967616     dropout_1[0][0]                  \n",
      "__________________________________________________________________________________________________\n",
      "global_max_pooling1d_1 (GlobalM (None, 512)          0           bidirectional_1[0][0]            \n",
      "__________________________________________________________________________________________________\n",
      "global_average_pooling1d_1 (Glo (None, 512)          0           bidirectional_1[0][0]            \n",
      "__________________________________________________________________________________________________\n",
      "concatenate_1 (Concatenate)     (None, 1536)         0           global_max_pooling1d_1[0][0]     \n",
      "                                                                 global_average_pooling1d_1[0][0] \n",
      "                                                                 bidirectional_1[0][1]            \n",
      "                                                                 bidirectional_1[0][2]            \n",
      "__________________________________________________________________________________________________\n",
      "dropout_2 (Dropout)             (None, 1536)         0           concatenate_1[0][0]              \n",
      "__________________________________________________________________________________________________\n",
      "dense_1 (Dense)                 (None, 100)          153700      dropout_2[0][0]                  \n",
      "__________________________________________________________________________________________________\n",
      "activation_1 (Activation)       (None, 100)          0           dense_1[0][0]                    \n",
      "__________________________________________________________________________________________________\n",
      "dropout_3 (Dropout)             (None, 100)          0           activation_1[0][0]               \n",
      "__________________________________________________________________________________________________\n",
      "dense_2 (Dense)                 (None, 2)            202         dropout_3[0][0]                  \n",
      "__________________________________________________________________________________________________\n",
      "activation_2 (Activation)       (None, 2)            0           dense_2[0][0]                    \n",
      "==================================================================================================\n",
      "Total params: 2,121,518\n",
      "Trainable params: 2,121,518\n",
      "Non-trainable params: 0\n",
      "__________________________________________________________________________________________________\n",
      "2018-11-09 13:56:54.283 INFO in 'deeppavlov.core.commands.train'['train'] at line 360: New best roc_auc of 0.9158\n",
      "2018-11-09 13:56:54.284 INFO in 'deeppavlov.core.commands.train'['train'] at line 362: Saving model\n",
      "2018-11-09 13:56:54.284 INFO in 'deeppavlov.models.classifiers.keras_classification_model'['keras_classification_model'] at line 375: [saving model to /home/dilyara/Documents/GitHub/DeepPavlov/download/YahooAnswers/models/model_v8/model_opt.json]\n"
     ]
    },
    {
     "name": "stdout",
     "output_type": "stream",
     "text": [
      "{\"valid\": {\"eval_examples_count\": 403, \"metrics\": {\"roc_auc\": 0.9158, \"sets_accuracy\": 0.8387, \"f1_macro\": 0.834}, \"time_spent\": \"0:00:16\", \"epochs_done\": 0, \"batches_seen\": 0, \"train_examples_seen\": 0, \"impatience\": 0, \"patience_limit\": 5}}\n",
      "{\"train\": {\"epochs_done\": 1, \"batches_seen\": 4, \"train_examples_seen\": 4067, \"metrics\": {\"roc_auc\": 0.913, \"sets_accuracy\": 0.838, \"f1_macro\": 0.8374}, \"time_spent\": \"0:06:36\", \"loss\": 0.6649393513798714}}\n"
     ]
    },
    {
     "name": "stderr",
     "output_type": "stream",
     "text": [
      "2018-11-09 14:03:29.547 INFO in 'deeppavlov.core.commands.train'['train'] at line 525: Did not improve on the roc_auc of 0.9158\n"
     ]
    },
    {
     "name": "stdout",
     "output_type": "stream",
     "text": [
      "{\"valid\": {\"eval_examples_count\": 403, \"metrics\": {\"roc_auc\": 0.9021, \"sets_accuracy\": 0.6476, \"f1_macro\": 0.5536}, \"time_spent\": \"0:06:52\", \"epochs_done\": 1, \"batches_seen\": 4, \"train_examples_seen\": 4067, \"impatience\": 1, \"patience_limit\": 5}}\n",
      "{\"train\": {\"epochs_done\": 2, \"batches_seen\": 8, \"train_examples_seen\": 8134, \"metrics\": {\"roc_auc\": 0.8923, \"sets_accuracy\": 0.6449, \"f1_macro\": 0.5751}, \"time_spent\": \"0:13:17\", \"loss\": 0.6874826550483704}}\n"
     ]
    },
    {
     "name": "stderr",
     "output_type": "stream",
     "text": [
      "2018-11-09 14:10:10.494 INFO in 'deeppavlov.core.commands.train'['train'] at line 525: Did not improve on the roc_auc of 0.9158\n"
     ]
    },
    {
     "name": "stdout",
     "output_type": "stream",
     "text": [
      "{\"valid\": {\"eval_examples_count\": 403, \"metrics\": {\"roc_auc\": 0.8696, \"sets_accuracy\": 0.67, \"f1_macro\": 0.5944}, \"time_spent\": \"0:13:33\", \"epochs_done\": 2, \"batches_seen\": 8, \"train_examples_seen\": 8134, \"impatience\": 2, \"patience_limit\": 5}}\n",
      "{\"train\": {\"epochs_done\": 3, \"batches_seen\": 12, \"train_examples_seen\": 12201, \"metrics\": {\"roc_auc\": 0.9318, \"sets_accuracy\": 0.8129, \"f1_macro\": 0.8064}, \"time_spent\": \"0:20:08\", \"loss\": 0.6316696405410767}}\n"
     ]
    },
    {
     "name": "stderr",
     "output_type": "stream",
     "text": [
      "2018-11-09 14:17:02.9 INFO in 'deeppavlov.core.commands.train'['train'] at line 525: Did not improve on the roc_auc of 0.9158\n"
     ]
    },
    {
     "name": "stdout",
     "output_type": "stream",
     "text": [
      "{\"valid\": {\"eval_examples_count\": 403, \"metrics\": {\"roc_auc\": 0.9072, \"sets_accuracy\": 0.7742, \"f1_macro\": 0.7741}, \"time_spent\": \"0:20:24\", \"epochs_done\": 3, \"batches_seen\": 12, \"train_examples_seen\": 12201, \"impatience\": 3, \"patience_limit\": 5}}\n",
      "{\"train\": {\"epochs_done\": 4, \"batches_seen\": 16, \"train_examples_seen\": 16268, \"metrics\": {\"roc_auc\": 0.9345, \"sets_accuracy\": 0.8697, \"f1_macro\": 0.8696}, \"time_spent\": \"0:27:06\", \"loss\": 0.5446999073028564}}\n"
     ]
    },
    {
     "name": "stderr",
     "output_type": "stream",
     "text": [
      "2018-11-09 14:24:00.816 INFO in 'deeppavlov.core.commands.train'['train'] at line 525: Did not improve on the roc_auc of 0.9158\n"
     ]
    },
    {
     "name": "stdout",
     "output_type": "stream",
     "text": [
      "{\"valid\": {\"eval_examples_count\": 403, \"metrics\": {\"roc_auc\": 0.9069, \"sets_accuracy\": 0.8238, \"f1_macro\": 0.8127}, \"time_spent\": \"0:27:23\", \"epochs_done\": 4, \"batches_seen\": 16, \"train_examples_seen\": 16268, \"impatience\": 4, \"patience_limit\": 5}}\n"
     ]
    }
   ],
   "source": [
    "available_unlabelled_ids = np.arange(len(unlabelled_data))\n",
    "\n",
    "np.random.seed(42)\n",
    "\n",
    "for i in range(N_ITERATIONS):\n",
    "    samples = []\n",
    "    labels = []\n",
    "    \n",
    "    ids_to_label = available_unlabelled_ids[\n",
    "        np.random.randint(low=0, \n",
    "                          high=len(available_unlabelled_ids), \n",
    "                          size=ONE_ITERATION_PORTION)]\n",
    "    available_unlabelled_ids = np.delete(available_unlabelled_ids, ids_to_label)\n",
    "    train_evaluate_model_from_config(deepcopy(config_pl))\n",
    "    model = build_model_from_config(deepcopy(config_pl))\n",
    "    classes = np.array(list(from_params(\n",
    "        deepcopy(config_pl[\"chainer\"][\"pipe\"][CLASSES_VOCAB_ID_IN_PIPE])).keys()))\n",
    "\n",
    "    for j, sample_id in enumerate(ids_to_label):\n",
    "        prediction = model([unlabelled_data[sample_id]])[0]\n",
    "        if len(np.where(np.array(prediction) > CONFIDENT_PROBA)[0]):\n",
    "            samples.append(unlabelled_data[sample_id])\n",
    "            labels.append(classes[np.where(np.array(prediction) > CONFIDENT_PROBA)])\n",
    "    \n",
    "    print(\"Iteration {}: add {} samples to train dataset\".format(i, len(samples)))\n",
    "    save_extended_data(config_pl, samples, labels)"
   ]
  },
  {
   "cell_type": "code",
   "execution_count": null,
   "metadata": {},
   "outputs": [],
   "source": []
  }
 ],
 "metadata": {
  "kernelspec": {
   "display_name": "deep36",
   "language": "python",
   "name": "deep36"
  },
  "language_info": {
   "codemirror_mode": {
    "name": "ipython",
    "version": 3
   },
   "file_extension": ".py",
   "mimetype": "text/x-python",
   "name": "python",
   "nbconvert_exporter": "python",
   "pygments_lexer": "ipython3",
   "version": "3.6.6"
  }
 },
 "nbformat": 4,
 "nbformat_minor": 2
}
