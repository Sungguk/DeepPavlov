{
 "cells": [
  {
   "cell_type": "code",
   "execution_count": 1,
   "metadata": {
    "collapsed": true
   },
   "outputs": [],
   "source": [
    "import json\n",
    "from pathlib import Path\n",
    "import numpy as np\n",
    "from copy import deepcopy\n",
    "import pandas as pd\n",
    "\n",
    "from deeppavlov.core.commands.train import read_data_by_config, train_evaluate_model_from_config\n",
    "from deeppavlov.core.commands.infer import interact_model, build_model_from_config\n",
    "from deeppavlov.core.commands.utils import expand_path\n",
    "from deeppavlov.core.common.params import from_params\n",
    "from deeppavlov.core.common.errors import ConfigError"
   ]
  },
  {
   "cell_type": "code",
   "execution_count": 2,
   "metadata": {
    "collapsed": true
   },
   "outputs": [],
   "source": [
    "# read unlabelled data for label propagation\n",
    "def read_unlabelled_data(UNLABELLED_DATA_PATH):\n",
    "    with open(UNLABELLED_DATA_PATH, \"r\") as f:\n",
    "        unlabelled_data = f.read().splitlines()\n",
    "    unlabelled_data = [x for x in unlabelled_data if x != '']\n",
    "    return unlabelled_data"
   ]
  },
  {
   "cell_type": "code",
   "execution_count": 3,
   "metadata": {
    "collapsed": true,
    "scrolled": true
   },
   "outputs": [],
   "source": [
    "def make_pl_config(CONFIG_PATH):\n",
    "    config_path_pl = Path(CONFIG_PATH).parent / Path(Path(CONFIG_PATH).stem + \"_pl.json\")\n",
    "\n",
    "    with open(CONFIG_PATH, \"r\") as f:\n",
    "        config = json.load(f)\n",
    "    \n",
    "    config_pl = deepcopy(config)\n",
    "    config_pl[\"dataset_reader\"][\"train\"] = Path(config_pl[\"dataset_reader\"].get(\"train\", \"train.csv\")).stem + \"_pl.csv\"\n",
    "    \n",
    "    with open(config_path_pl, \"w\") as f:\n",
    "        json.dump(config_pl, f, indent=2)\n",
    "    \n",
    "    return config, config_pl"
   ]
  },
  {
   "cell_type": "code",
   "execution_count": 4,
   "metadata": {
    "collapsed": true
   },
   "outputs": [],
   "source": [
    "def save_extended_data(config, samples, labels, new_config = None):\n",
    "    train_data = read_data_by_config(deepcopy(config))\n",
    "    \n",
    "    for i in range(len(samples)):\n",
    "        train_data[\"train\"].append((samples[i], labels[i]))\n",
    "    df = pd.DataFrame(train_data[\"train\"], \n",
    "                      columns=[config[\"dataset_reader\"][\"x\"], \n",
    "                               config[\"dataset_reader\"][\"y\"]])\n",
    "    df[config[\"dataset_reader\"][\"y\"]] = df[config[\"dataset_reader\"][\"y\"]].apply(\n",
    "        lambda x: config[\"dataset_reader\"].get(\"class_sep\", \",\").join(x))\n",
    "    \n",
    "    if new_config is not None:\n",
    "        config = new_config\n",
    "    file = expand_path(Path(config[\"dataset_reader\"][\"data_path\"]) / \n",
    "                       Path(config[\"dataset_reader\"][\"train\"]))\n",
    "\n",
    "    if config[\"dataset_reader\"].get(\"format\", \"csv\") == \"csv\":\n",
    "        keys = ('sep', 'header', 'names')\n",
    "        df.to_csv(file, \n",
    "                  index=False,\n",
    "                  sep=config[\"dataset_reader\"].get(\"sep\", \",\")\n",
    "                 )\n",
    "    elif config[\"dataset_reader\"].get(\"format\", \"csv\") == \"json\":\n",
    "        keys = ('orient', 'lines')\n",
    "        df.to_json(file, \n",
    "                  index=False,\n",
    "                  orient=config[\"dataset_reader\"].get(\"orient\", None),\n",
    "                  lines=config[\"dataset_reader\"].get(\"lines\", False)\n",
    "                  )\n",
    "    else:\n",
    "        raise ConfigError(\"Can not work with current data format\")"
   ]
  },
  {
   "cell_type": "code",
   "execution_count": 8,
   "metadata": {
    "collapsed": true
   },
   "outputs": [],
   "source": [
    "# manually given parameters for pseudo-labeling\n",
    "\n",
    "# path to config file\n",
    "CONFIG_PATH = \"../deeppavlov/configs/classifiers/yahoo_answers_L31_elmo_pretrained_n9.json\"\n",
    "# path to file with unlabelled data\n",
    "UNLABELLED_DATA_PATH = \"../download/YahooAnswers/yahoo_answers_data/question_L6.txt\"\n",
    "# number of samples that are going to be labelled during one iteration of label propagation\n",
    "ONE_ITERATION_PORTION = 2000\n",
    "# number of iterations\n",
    "N_ITERATIONS = 10\n",
    "CLASSES_VOCAB_ID_IN_PIPE = 0\n",
    "CONFIDENT_PROBA = 0.9"
   ]
  },
  {
   "cell_type": "code",
   "execution_count": 9,
   "metadata": {
    "collapsed": true
   },
   "outputs": [],
   "source": [
    "# read unlabelled dataset\n",
    "unlabelled_data = read_unlabelled_data(UNLABELLED_DATA_PATH)\n",
    "# read config, compose new one, save it\n",
    "config, config_pl = make_pl_config(CONFIG_PATH)\n",
    "# save initial dataset as extended\n",
    "save_extended_data(config, [], [], new_config=config_pl)"
   ]
  },
  {
   "cell_type": "code",
   "execution_count": 10,
   "metadata": {
    "scrolled": true
   },
   "outputs": [
    {
     "data": {
      "text/plain": [
       "{'dataset_reader': {'name': 'basic_classification_reader',\n",
       "  'x': 'Title',\n",
       "  'y': 'Label',\n",
       "  'data_path': './YahooAnswers/yahoo_answers_data/',\n",
       "  'train': 'train.csv',\n",
       "  'valid': 'valid.csv'},\n",
       " 'dataset_iterator': {'name': 'basic_classification_iterator', 'seed': 42},\n",
       " 'chainer': {'in': ['x'],\n",
       "  'in_y': ['y'],\n",
       "  'pipe': [{'id': 'classes_vocab',\n",
       "    'name': 'simple_vocab',\n",
       "    'fit_on': ['y'],\n",
       "    'save_path': 'YahooAnswers/models/model_v39/yahoo_answers_classes.dict',\n",
       "    'load_path': 'YahooAnswers/models/model_v39/yahoo_answers_classes.dict',\n",
       "    'in': 'y',\n",
       "    'out': 'y_ids'},\n",
       "   {'in': ['x'],\n",
       "    'out': ['x_prep'],\n",
       "    'name': 'dirty_comments_preprocessor',\n",
       "    'remove_punctuation': False},\n",
       "   {'in': 'x_prep',\n",
       "    'out': 'x_tok',\n",
       "    'id': 'my_tokenizer',\n",
       "    'name': 'nltk_moses_tokenizer'},\n",
       "   {'in': ['x_tok'],\n",
       "    'out': ['x_emb'],\n",
       "    'id': 'my_embedder',\n",
       "    'name': 'elmo',\n",
       "    'elmo_output_names': ['elmo'],\n",
       "    'mini_batch_size': 8,\n",
       "    'spec': '/home/kuznetsov/models_env/yahoo-sber-questions_elmo/models/mod_from_git/hubs/yahooo-sber-questions_epoches_n_9'},\n",
       "   {'in': 'y_ids',\n",
       "    'out': 'y_onehot',\n",
       "    'name': 'one_hotter',\n",
       "    'id': 'my_one_hotter',\n",
       "    'depth': '#classes_vocab.len'},\n",
       "   {'in': ['x_emb'],\n",
       "    'in_y': ['y_onehot'],\n",
       "    'out': ['y_pred_probas'],\n",
       "    'main': True,\n",
       "    'name': 'keras_classification_model',\n",
       "    'save_path': 'YahooAnswers/models/model_v39/model',\n",
       "    'load_path': 'YahooAnswers/models/model_v39/model',\n",
       "    'embedding_size': '#my_embedder.dim',\n",
       "    'n_classes': '#classes_vocab.len',\n",
       "    'units_gru': 256,\n",
       "    'optimizer': 'Adam',\n",
       "    'lear_rate': 0.001,\n",
       "    'lear_rate_decay': 0.001,\n",
       "    'loss': 'categorical_crossentropy',\n",
       "    'text_size': 20,\n",
       "    'coef_reg_lstm': 1e-05,\n",
       "    'coef_reg_den': 1e-05,\n",
       "    'dropout_rate': 0.5,\n",
       "    'rec_dropout_rate': 0.5,\n",
       "    'dense_size': 100,\n",
       "    'model_name': 'gru_with_masking_model',\n",
       "    'last_layer_activation': 'softmax',\n",
       "    'restore_lr': True},\n",
       "   {'in': 'y_pred_probas',\n",
       "    'out': 'y_pred_ids',\n",
       "    'name': 'proba2labels',\n",
       "    'max_proba': True},\n",
       "   {'in': 'y_pred_ids', 'out': 'y_pred_labels', 'ref': 'classes_vocab'},\n",
       "   {'ref': 'my_one_hotter', 'in': 'y_pred_ids', 'out': 'y_pred_onehot'}],\n",
       "  'out': ['y_pred_probas']},\n",
       " 'train': {'epochs': 20,\n",
       "  'batch_size': 1024,\n",
       "  'metrics': [{'name': 'roc_auc', 'inputs': ['y_onehot', 'y_pred_probas']},\n",
       "   {'name': 'sets_accuracy', 'inputs': ['y', 'y_pred_labels']},\n",
       "   {'name': 'f1_macro', 'inputs': ['y', 'y_pred_labels']}],\n",
       "  'validation_patience': 5,\n",
       "  'val_every_n_epochs': 1,\n",
       "  'log_every_n_epochs': 1,\n",
       "  'show_examples': False,\n",
       "  'validate_best': True,\n",
       "  'test_best': True,\n",
       "  'tensorboard_log_dir': 'YahooAnswers/models/model_v39/'},\n",
       " 'metadata': {'requirements': ['../dp_requirements/tf.txt',\n",
       "   '../dp_requirements/fasttext.txt'],\n",
       "  'labels': {'telegram_utils': 'IntentModel',\n",
       "   'server_utils': 'KerasIntentModel'},\n",
       "  'download': ['http://files.deeppavlov.ai/deeppavlov_data/YahooAnswers.tar.gz']}}"
      ]
     },
     "execution_count": 10,
     "metadata": {},
     "output_type": "execute_result"
    }
   ],
   "source": [
    "config"
   ]
  },
  {
   "cell_type": "code",
   "execution_count": null,
   "metadata": {
    "scrolled": true
   },
   "outputs": [
    {
     "name": "stderr",
     "output_type": "stream",
     "text": [
      "2018-11-16 10:57:38.847 INFO in 'deeppavlov.core.data.simple_vocab'['simple_vocab'] at line 89: [saving vocabulary to /cephfs/home/dilyara.baymurzina/GitHub/reserve/DeepPavlov/download/YahooAnswers/models/model_v39/yahoo_answers_classes.dict]\n",
      "2018-11-16 10:57:41.645 DEBUG in 'tensorflow'['tf_logging'] at line 100: Initialize variable module/aggregation/elmo_output_ELMo_W:0 from checkpoint b'/home/kuznetsov/models_env/yahoo-sber-questions_elmo/models/mod_from_git/hubs/yahooo-sber-questions_epoches_n_9/variables/variables' with aggregation/elmo_output_ELMo_W\n",
      "2018-11-16 10:57:41.652 DEBUG in 'tensorflow'['tf_logging'] at line 100: Initialize variable module/aggregation/elmo_output_ELMo_gamma:0 from checkpoint b'/home/kuznetsov/models_env/yahoo-sber-questions_elmo/models/mod_from_git/hubs/yahooo-sber-questions_epoches_n_9/variables/variables' with aggregation/elmo_output_ELMo_gamma\n",
      "2018-11-16 10:57:41.658 DEBUG in 'tensorflow'['tf_logging'] at line 100: Initialize variable module/bilm/CNN/W_cnn_0:0 from checkpoint b'/home/kuznetsov/models_env/yahoo-sber-questions_elmo/models/mod_from_git/hubs/yahooo-sber-questions_epoches_n_9/variables/variables' with bilm/CNN/W_cnn_0\n",
      "2018-11-16 10:57:41.664 DEBUG in 'tensorflow'['tf_logging'] at line 100: Initialize variable module/bilm/CNN/W_cnn_1:0 from checkpoint b'/home/kuznetsov/models_env/yahoo-sber-questions_elmo/models/mod_from_git/hubs/yahooo-sber-questions_epoches_n_9/variables/variables' with bilm/CNN/W_cnn_1\n",
      "2018-11-16 10:57:41.670 DEBUG in 'tensorflow'['tf_logging'] at line 100: Initialize variable module/bilm/CNN/W_cnn_2:0 from checkpoint b'/home/kuznetsov/models_env/yahoo-sber-questions_elmo/models/mod_from_git/hubs/yahooo-sber-questions_epoches_n_9/variables/variables' with bilm/CNN/W_cnn_2\n",
      "2018-11-16 10:57:41.675 DEBUG in 'tensorflow'['tf_logging'] at line 100: Initialize variable module/bilm/CNN/W_cnn_3:0 from checkpoint b'/home/kuznetsov/models_env/yahoo-sber-questions_elmo/models/mod_from_git/hubs/yahooo-sber-questions_epoches_n_9/variables/variables' with bilm/CNN/W_cnn_3\n",
      "2018-11-16 10:57:41.681 DEBUG in 'tensorflow'['tf_logging'] at line 100: Initialize variable module/bilm/CNN/W_cnn_4:0 from checkpoint b'/home/kuznetsov/models_env/yahoo-sber-questions_elmo/models/mod_from_git/hubs/yahooo-sber-questions_epoches_n_9/variables/variables' with bilm/CNN/W_cnn_4\n",
      "2018-11-16 10:57:41.686 DEBUG in 'tensorflow'['tf_logging'] at line 100: Initialize variable module/bilm/CNN/W_cnn_5:0 from checkpoint b'/home/kuznetsov/models_env/yahoo-sber-questions_elmo/models/mod_from_git/hubs/yahooo-sber-questions_epoches_n_9/variables/variables' with bilm/CNN/W_cnn_5\n",
      "2018-11-16 10:57:41.692 DEBUG in 'tensorflow'['tf_logging'] at line 100: Initialize variable module/bilm/CNN/W_cnn_6:0 from checkpoint b'/home/kuznetsov/models_env/yahoo-sber-questions_elmo/models/mod_from_git/hubs/yahooo-sber-questions_epoches_n_9/variables/variables' with bilm/CNN/W_cnn_6\n",
      "2018-11-16 10:57:41.698 DEBUG in 'tensorflow'['tf_logging'] at line 100: Initialize variable module/bilm/CNN/b_cnn_0:0 from checkpoint b'/home/kuznetsov/models_env/yahoo-sber-questions_elmo/models/mod_from_git/hubs/yahooo-sber-questions_epoches_n_9/variables/variables' with bilm/CNN/b_cnn_0\n",
      "2018-11-16 10:57:41.703 DEBUG in 'tensorflow'['tf_logging'] at line 100: Initialize variable module/bilm/CNN/b_cnn_1:0 from checkpoint b'/home/kuznetsov/models_env/yahoo-sber-questions_elmo/models/mod_from_git/hubs/yahooo-sber-questions_epoches_n_9/variables/variables' with bilm/CNN/b_cnn_1\n",
      "2018-11-16 10:57:41.710 DEBUG in 'tensorflow'['tf_logging'] at line 100: Initialize variable module/bilm/CNN/b_cnn_2:0 from checkpoint b'/home/kuznetsov/models_env/yahoo-sber-questions_elmo/models/mod_from_git/hubs/yahooo-sber-questions_epoches_n_9/variables/variables' with bilm/CNN/b_cnn_2\n",
      "2018-11-16 10:57:41.715 DEBUG in 'tensorflow'['tf_logging'] at line 100: Initialize variable module/bilm/CNN/b_cnn_3:0 from checkpoint b'/home/kuznetsov/models_env/yahoo-sber-questions_elmo/models/mod_from_git/hubs/yahooo-sber-questions_epoches_n_9/variables/variables' with bilm/CNN/b_cnn_3\n",
      "2018-11-16 10:57:41.721 DEBUG in 'tensorflow'['tf_logging'] at line 100: Initialize variable module/bilm/CNN/b_cnn_4:0 from checkpoint b'/home/kuznetsov/models_env/yahoo-sber-questions_elmo/models/mod_from_git/hubs/yahooo-sber-questions_epoches_n_9/variables/variables' with bilm/CNN/b_cnn_4\n",
      "2018-11-16 10:57:41.726 DEBUG in 'tensorflow'['tf_logging'] at line 100: Initialize variable module/bilm/CNN/b_cnn_5:0 from checkpoint b'/home/kuznetsov/models_env/yahoo-sber-questions_elmo/models/mod_from_git/hubs/yahooo-sber-questions_epoches_n_9/variables/variables' with bilm/CNN/b_cnn_5\n",
      "2018-11-16 10:57:41.732 DEBUG in 'tensorflow'['tf_logging'] at line 100: Initialize variable module/bilm/CNN/b_cnn_6:0 from checkpoint b'/home/kuznetsov/models_env/yahoo-sber-questions_elmo/models/mod_from_git/hubs/yahooo-sber-questions_epoches_n_9/variables/variables' with bilm/CNN/b_cnn_6\n",
      "2018-11-16 10:57:41.737 DEBUG in 'tensorflow'['tf_logging'] at line 100: Initialize variable module/bilm/CNN_high_0/W_carry:0 from checkpoint b'/home/kuznetsov/models_env/yahoo-sber-questions_elmo/models/mod_from_git/hubs/yahooo-sber-questions_epoches_n_9/variables/variables' with bilm/CNN_high_0/W_carry\n",
      "2018-11-16 10:57:41.743 DEBUG in 'tensorflow'['tf_logging'] at line 100: Initialize variable module/bilm/CNN_high_0/W_transform:0 from checkpoint b'/home/kuznetsov/models_env/yahoo-sber-questions_elmo/models/mod_from_git/hubs/yahooo-sber-questions_epoches_n_9/variables/variables' with bilm/CNN_high_0/W_transform\n",
      "2018-11-16 10:57:41.749 DEBUG in 'tensorflow'['tf_logging'] at line 100: Initialize variable module/bilm/CNN_high_0/b_carry:0 from checkpoint b'/home/kuznetsov/models_env/yahoo-sber-questions_elmo/models/mod_from_git/hubs/yahooo-sber-questions_epoches_n_9/variables/variables' with bilm/CNN_high_0/b_carry\n",
      "2018-11-16 10:57:41.754 DEBUG in 'tensorflow'['tf_logging'] at line 100: Initialize variable module/bilm/CNN_high_0/b_transform:0 from checkpoint b'/home/kuznetsov/models_env/yahoo-sber-questions_elmo/models/mod_from_git/hubs/yahooo-sber-questions_epoches_n_9/variables/variables' with bilm/CNN_high_0/b_transform\n",
      "2018-11-16 10:57:41.760 DEBUG in 'tensorflow'['tf_logging'] at line 100: Initialize variable module/bilm/CNN_high_1/W_carry:0 from checkpoint b'/home/kuznetsov/models_env/yahoo-sber-questions_elmo/models/mod_from_git/hubs/yahooo-sber-questions_epoches_n_9/variables/variables' with bilm/CNN_high_1/W_carry\n",
      "2018-11-16 10:57:41.766 DEBUG in 'tensorflow'['tf_logging'] at line 100: Initialize variable module/bilm/CNN_high_1/W_transform:0 from checkpoint b'/home/kuznetsov/models_env/yahoo-sber-questions_elmo/models/mod_from_git/hubs/yahooo-sber-questions_epoches_n_9/variables/variables' with bilm/CNN_high_1/W_transform\n",
      "2018-11-16 10:57:41.771 DEBUG in 'tensorflow'['tf_logging'] at line 100: Initialize variable module/bilm/CNN_high_1/b_carry:0 from checkpoint b'/home/kuznetsov/models_env/yahoo-sber-questions_elmo/models/mod_from_git/hubs/yahooo-sber-questions_epoches_n_9/variables/variables' with bilm/CNN_high_1/b_carry\n",
      "2018-11-16 10:57:41.777 DEBUG in 'tensorflow'['tf_logging'] at line 100: Initialize variable module/bilm/CNN_high_1/b_transform:0 from checkpoint b'/home/kuznetsov/models_env/yahoo-sber-questions_elmo/models/mod_from_git/hubs/yahooo-sber-questions_epoches_n_9/variables/variables' with bilm/CNN_high_1/b_transform\n",
      "2018-11-16 10:57:41.782 DEBUG in 'tensorflow'['tf_logging'] at line 100: Initialize variable module/bilm/CNN_proj/W_proj:0 from checkpoint b'/home/kuznetsov/models_env/yahoo-sber-questions_elmo/models/mod_from_git/hubs/yahooo-sber-questions_epoches_n_9/variables/variables' with bilm/CNN_proj/W_proj\n",
      "2018-11-16 10:57:41.787 DEBUG in 'tensorflow'['tf_logging'] at line 100: Initialize variable module/bilm/CNN_proj/b_proj:0 from checkpoint b'/home/kuznetsov/models_env/yahoo-sber-questions_elmo/models/mod_from_git/hubs/yahooo-sber-questions_epoches_n_9/variables/variables' with bilm/CNN_proj/b_proj\n",
      "2018-11-16 10:57:41.793 DEBUG in 'tensorflow'['tf_logging'] at line 100: Initialize variable module/bilm/RNN_0/RNN/MultiRNNCell/Cell0/rnn/lstm_cell/bias:0 from checkpoint b'/home/kuznetsov/models_env/yahoo-sber-questions_elmo/models/mod_from_git/hubs/yahooo-sber-questions_epoches_n_9/variables/variables' with bilm/RNN_0/RNN/MultiRNNCell/Cell0/rnn/lstm_cell/bias\n"
     ]
    },
    {
     "name": "stderr",
     "output_type": "stream",
     "text": [
      "2018-11-16 10:57:41.798 DEBUG in 'tensorflow'['tf_logging'] at line 100: Initialize variable module/bilm/RNN_0/RNN/MultiRNNCell/Cell0/rnn/lstm_cell/kernel:0 from checkpoint b'/home/kuznetsov/models_env/yahoo-sber-questions_elmo/models/mod_from_git/hubs/yahooo-sber-questions_epoches_n_9/variables/variables' with bilm/RNN_0/RNN/MultiRNNCell/Cell0/rnn/lstm_cell/kernel\n",
      "2018-11-16 10:57:41.804 DEBUG in 'tensorflow'['tf_logging'] at line 100: Initialize variable module/bilm/RNN_0/RNN/MultiRNNCell/Cell0/rnn/lstm_cell/projection/kernel:0 from checkpoint b'/home/kuznetsov/models_env/yahoo-sber-questions_elmo/models/mod_from_git/hubs/yahooo-sber-questions_epoches_n_9/variables/variables' with bilm/RNN_0/RNN/MultiRNNCell/Cell0/rnn/lstm_cell/projection/kernel\n",
      "2018-11-16 10:57:41.810 DEBUG in 'tensorflow'['tf_logging'] at line 100: Initialize variable module/bilm/RNN_0/RNN/MultiRNNCell/Cell1/rnn/lstm_cell/bias:0 from checkpoint b'/home/kuznetsov/models_env/yahoo-sber-questions_elmo/models/mod_from_git/hubs/yahooo-sber-questions_epoches_n_9/variables/variables' with bilm/RNN_0/RNN/MultiRNNCell/Cell1/rnn/lstm_cell/bias\n",
      "2018-11-16 10:57:41.815 DEBUG in 'tensorflow'['tf_logging'] at line 100: Initialize variable module/bilm/RNN_0/RNN/MultiRNNCell/Cell1/rnn/lstm_cell/kernel:0 from checkpoint b'/home/kuznetsov/models_env/yahoo-sber-questions_elmo/models/mod_from_git/hubs/yahooo-sber-questions_epoches_n_9/variables/variables' with bilm/RNN_0/RNN/MultiRNNCell/Cell1/rnn/lstm_cell/kernel\n",
      "2018-11-16 10:57:41.821 DEBUG in 'tensorflow'['tf_logging'] at line 100: Initialize variable module/bilm/RNN_0/RNN/MultiRNNCell/Cell1/rnn/lstm_cell/projection/kernel:0 from checkpoint b'/home/kuznetsov/models_env/yahoo-sber-questions_elmo/models/mod_from_git/hubs/yahooo-sber-questions_epoches_n_9/variables/variables' with bilm/RNN_0/RNN/MultiRNNCell/Cell1/rnn/lstm_cell/projection/kernel\n",
      "2018-11-16 10:57:41.827 DEBUG in 'tensorflow'['tf_logging'] at line 100: Initialize variable module/bilm/RNN_1/RNN/MultiRNNCell/Cell0/rnn/lstm_cell/bias:0 from checkpoint b'/home/kuznetsov/models_env/yahoo-sber-questions_elmo/models/mod_from_git/hubs/yahooo-sber-questions_epoches_n_9/variables/variables' with bilm/RNN_1/RNN/MultiRNNCell/Cell0/rnn/lstm_cell/bias\n",
      "2018-11-16 10:57:41.833 DEBUG in 'tensorflow'['tf_logging'] at line 100: Initialize variable module/bilm/RNN_1/RNN/MultiRNNCell/Cell0/rnn/lstm_cell/kernel:0 from checkpoint b'/home/kuznetsov/models_env/yahoo-sber-questions_elmo/models/mod_from_git/hubs/yahooo-sber-questions_epoches_n_9/variables/variables' with bilm/RNN_1/RNN/MultiRNNCell/Cell0/rnn/lstm_cell/kernel\n",
      "2018-11-16 10:57:41.839 DEBUG in 'tensorflow'['tf_logging'] at line 100: Initialize variable module/bilm/RNN_1/RNN/MultiRNNCell/Cell0/rnn/lstm_cell/projection/kernel:0 from checkpoint b'/home/kuznetsov/models_env/yahoo-sber-questions_elmo/models/mod_from_git/hubs/yahooo-sber-questions_epoches_n_9/variables/variables' with bilm/RNN_1/RNN/MultiRNNCell/Cell0/rnn/lstm_cell/projection/kernel\n",
      "2018-11-16 10:57:41.844 DEBUG in 'tensorflow'['tf_logging'] at line 100: Initialize variable module/bilm/RNN_1/RNN/MultiRNNCell/Cell1/rnn/lstm_cell/bias:0 from checkpoint b'/home/kuznetsov/models_env/yahoo-sber-questions_elmo/models/mod_from_git/hubs/yahooo-sber-questions_epoches_n_9/variables/variables' with bilm/RNN_1/RNN/MultiRNNCell/Cell1/rnn/lstm_cell/bias\n",
      "2018-11-16 10:57:41.850 DEBUG in 'tensorflow'['tf_logging'] at line 100: Initialize variable module/bilm/RNN_1/RNN/MultiRNNCell/Cell1/rnn/lstm_cell/kernel:0 from checkpoint b'/home/kuznetsov/models_env/yahoo-sber-questions_elmo/models/mod_from_git/hubs/yahooo-sber-questions_epoches_n_9/variables/variables' with bilm/RNN_1/RNN/MultiRNNCell/Cell1/rnn/lstm_cell/kernel\n",
      "2018-11-16 10:57:41.856 DEBUG in 'tensorflow'['tf_logging'] at line 100: Initialize variable module/bilm/RNN_1/RNN/MultiRNNCell/Cell1/rnn/lstm_cell/projection/kernel:0 from checkpoint b'/home/kuznetsov/models_env/yahoo-sber-questions_elmo/models/mod_from_git/hubs/yahooo-sber-questions_epoches_n_9/variables/variables' with bilm/RNN_1/RNN/MultiRNNCell/Cell1/rnn/lstm_cell/projection/kernel\n",
      "2018-11-16 10:57:41.862 DEBUG in 'tensorflow'['tf_logging'] at line 100: Initialize variable module/bilm/Variable:0 from checkpoint b'/home/kuznetsov/models_env/yahoo-sber-questions_elmo/models/mod_from_git/hubs/yahooo-sber-questions_epoches_n_9/variables/variables' with bilm/Variable\n",
      "2018-11-16 10:57:41.868 DEBUG in 'tensorflow'['tf_logging'] at line 100: Initialize variable module/bilm/Variable_1:0 from checkpoint b'/home/kuznetsov/models_env/yahoo-sber-questions_elmo/models/mod_from_git/hubs/yahooo-sber-questions_epoches_n_9/variables/variables' with bilm/Variable_1\n",
      "2018-11-16 10:57:41.874 DEBUG in 'tensorflow'['tf_logging'] at line 100: Initialize variable module/bilm/Variable_2:0 from checkpoint b'/home/kuznetsov/models_env/yahoo-sber-questions_elmo/models/mod_from_git/hubs/yahooo-sber-questions_epoches_n_9/variables/variables' with bilm/Variable_2\n",
      "2018-11-16 10:57:41.880 DEBUG in 'tensorflow'['tf_logging'] at line 100: Initialize variable module/bilm/Variable_3:0 from checkpoint b'/home/kuznetsov/models_env/yahoo-sber-questions_elmo/models/mod_from_git/hubs/yahooo-sber-questions_epoches_n_9/variables/variables' with bilm/Variable_3\n",
      "2018-11-16 10:57:41.886 DEBUG in 'tensorflow'['tf_logging'] at line 100: Initialize variable module/bilm/Variable_4:0 from checkpoint b'/home/kuznetsov/models_env/yahoo-sber-questions_elmo/models/mod_from_git/hubs/yahooo-sber-questions_epoches_n_9/variables/variables' with bilm/Variable_4\n",
      "2018-11-16 10:57:41.892 DEBUG in 'tensorflow'['tf_logging'] at line 100: Initialize variable module/bilm/Variable_5:0 from checkpoint b'/home/kuznetsov/models_env/yahoo-sber-questions_elmo/models/mod_from_git/hubs/yahooo-sber-questions_epoches_n_9/variables/variables' with bilm/Variable_5\n",
      "2018-11-16 10:57:41.898 DEBUG in 'tensorflow'['tf_logging'] at line 100: Initialize variable module/bilm/Variable_6:0 from checkpoint b'/home/kuznetsov/models_env/yahoo-sber-questions_elmo/models/mod_from_git/hubs/yahooo-sber-questions_epoches_n_9/variables/variables' with bilm/Variable_6\n",
      "2018-11-16 10:57:41.903 DEBUG in 'tensorflow'['tf_logging'] at line 100: Initialize variable module/bilm/Variable_7:0 from checkpoint b'/home/kuznetsov/models_env/yahoo-sber-questions_elmo/models/mod_from_git/hubs/yahooo-sber-questions_epoches_n_9/variables/variables' with bilm/Variable_7\n",
      "2018-11-16 10:57:41.909 DEBUG in 'tensorflow'['tf_logging'] at line 100: Initialize variable module/bilm/char_embed:0 from checkpoint b'/home/kuznetsov/models_env/yahoo-sber-questions_elmo/models/mod_from_git/hubs/yahooo-sber-questions_epoches_n_9/variables/variables' with bilm/char_embed\n",
      "2018-11-16 10:57:41.915 DEBUG in 'tensorflow'['tf_logging'] at line 100: Initialize variable module/bilm_1/Variable:0 from checkpoint b'/home/kuznetsov/models_env/yahoo-sber-questions_elmo/models/mod_from_git/hubs/yahooo-sber-questions_epoches_n_9/variables/variables' with bilm_1/Variable\n",
      "2018-11-16 10:57:41.921 DEBUG in 'tensorflow'['tf_logging'] at line 100: Initialize variable module/bilm_1/Variable_1:0 from checkpoint b'/home/kuznetsov/models_env/yahoo-sber-questions_elmo/models/mod_from_git/hubs/yahooo-sber-questions_epoches_n_9/variables/variables' with bilm_1/Variable_1\n",
      "2018-11-16 10:57:41.927 DEBUG in 'tensorflow'['tf_logging'] at line 100: Initialize variable module/bilm_1/Variable_2:0 from checkpoint b'/home/kuznetsov/models_env/yahoo-sber-questions_elmo/models/mod_from_git/hubs/yahooo-sber-questions_epoches_n_9/variables/variables' with bilm_1/Variable_2\n",
      "2018-11-16 10:57:41.933 DEBUG in 'tensorflow'['tf_logging'] at line 100: Initialize variable module/bilm_1/Variable_3:0 from checkpoint b'/home/kuznetsov/models_env/yahoo-sber-questions_elmo/models/mod_from_git/hubs/yahooo-sber-questions_epoches_n_9/variables/variables' with bilm_1/Variable_3\n",
      "2018-11-16 10:57:41.938 DEBUG in 'tensorflow'['tf_logging'] at line 100: Initialize variable module/bilm_1/Variable_4:0 from checkpoint b'/home/kuznetsov/models_env/yahoo-sber-questions_elmo/models/mod_from_git/hubs/yahooo-sber-questions_epoches_n_9/variables/variables' with bilm_1/Variable_4\n"
     ]
    },
    {
     "name": "stderr",
     "output_type": "stream",
     "text": [
      "2018-11-16 10:57:41.945 DEBUG in 'tensorflow'['tf_logging'] at line 100: Initialize variable module/bilm_1/Variable_5:0 from checkpoint b'/home/kuznetsov/models_env/yahoo-sber-questions_elmo/models/mod_from_git/hubs/yahooo-sber-questions_epoches_n_9/variables/variables' with bilm_1/Variable_5\n",
      "2018-11-16 10:57:41.950 DEBUG in 'tensorflow'['tf_logging'] at line 100: Initialize variable module/bilm_1/Variable_6:0 from checkpoint b'/home/kuznetsov/models_env/yahoo-sber-questions_elmo/models/mod_from_git/hubs/yahooo-sber-questions_epoches_n_9/variables/variables' with bilm_1/Variable_6\n",
      "2018-11-16 10:57:41.957 DEBUG in 'tensorflow'['tf_logging'] at line 100: Initialize variable module/bilm_1/Variable_7:0 from checkpoint b'/home/kuznetsov/models_env/yahoo-sber-questions_elmo/models/mod_from_git/hubs/yahooo-sber-questions_epoches_n_9/variables/variables' with bilm_1/Variable_7\n",
      "2018-11-16 10:57:43.664 INFO in 'tensorflow'['tf_logging'] at line 115: Saver not created because there are no variables in the graph to restore\n",
      "2018-11-16 10:57:45.85 INFO in 'deeppavlov.models.classifiers.keras_classification_model'['keras_classification_model'] at line 261: [initializing `KerasClassificationModel` from scratch as gru_with_masking_model]\n",
      "2018-11-16 10:57:47.384 INFO in 'deeppavlov.models.classifiers.keras_classification_model'['keras_classification_model'] at line 135: Model was successfully initialized!\n",
      "Model summary:\n",
      "__________________________________________________________________________________________________\n",
      "Layer (type)                    Output Shape         Param #     Connected to                     \n",
      "==================================================================================================\n",
      "input_1 (InputLayer)            (None, 20, 1024)     0                                            \n",
      "__________________________________________________________________________________________________\n",
      "dropout_1 (Dropout)             (None, 20, 1024)     0           input_1[0][0]                    \n",
      "__________________________________________________________________________________________________\n",
      "bidirectional_1 (Bidirectional) [(None, 20, 512), (N 1967616     dropout_1[0][0]                  \n",
      "__________________________________________________________________________________________________\n",
      "global_max_pooling1d_1 (GlobalM (None, 512)          0           bidirectional_1[0][0]            \n",
      "__________________________________________________________________________________________________\n",
      "global_average_pooling1d_1 (Glo (None, 512)          0           bidirectional_1[0][0]            \n",
      "__________________________________________________________________________________________________\n",
      "concatenate_1 (Concatenate)     (None, 1536)         0           global_max_pooling1d_1[0][0]     \n",
      "                                                                 global_average_pooling1d_1[0][0] \n",
      "                                                                 bidirectional_1[0][1]            \n",
      "                                                                 bidirectional_1[0][2]            \n",
      "__________________________________________________________________________________________________\n",
      "dropout_2 (Dropout)             (None, 1536)         0           concatenate_1[0][0]              \n",
      "__________________________________________________________________________________________________\n",
      "dense_1 (Dense)                 (None, 100)          153700      dropout_2[0][0]                  \n",
      "__________________________________________________________________________________________________\n",
      "activation_1 (Activation)       (None, 100)          0           dense_1[0][0]                    \n",
      "__________________________________________________________________________________________________\n",
      "dropout_3 (Dropout)             (None, 100)          0           activation_1[0][0]               \n",
      "__________________________________________________________________________________________________\n",
      "dense_2 (Dense)                 (None, 2)            202         dropout_3[0][0]                  \n",
      "__________________________________________________________________________________________________\n",
      "activation_2 (Activation)       (None, 2)            0           dense_2[0][0]                    \n",
      "==================================================================================================\n",
      "Total params: 2,121,518\n",
      "Trainable params: 2,121,518\n",
      "Non-trainable params: 0\n",
      "__________________________________________________________________________________________________\n",
      "2018-11-16 10:57:55.631 INFO in 'deeppavlov.core.commands.train'['train'] at line 360: New best roc_auc of 0.6418\n",
      "2018-11-16 10:57:55.632 INFO in 'deeppavlov.core.commands.train'['train'] at line 362: Saving model\n",
      "2018-11-16 10:57:55.633 INFO in 'deeppavlov.models.classifiers.keras_classification_model'['keras_classification_model'] at line 375: [saving model to /cephfs/home/dilyara.baymurzina/GitHub/reserve/DeepPavlov/download/YahooAnswers/models/model_v39/model_opt.json]\n"
     ]
    },
    {
     "name": "stdout",
     "output_type": "stream",
     "text": [
      "{\"valid\": {\"eval_examples_count\": 403, \"metrics\": {\"roc_auc\": 0.6418, \"sets_accuracy\": 0.6005, \"f1_macro\": 0.5991}, \"time_spent\": \"0:00:09\", \"epochs_done\": 0, \"batches_seen\": 0, \"train_examples_seen\": 0, \"impatience\": 0, \"patience_limit\": 5}}\n",
      "{\"train\": {\"epochs_done\": 1, \"batches_seen\": 4, \"train_examples_seen\": 3613, \"metrics\": {\"roc_auc\": 0.5636, \"sets_accuracy\": 0.5278, \"f1_macro\": 0.5278}, \"time_spent\": \"0:01:51\", \"loss\": 2.0503659397363663}}\n"
     ]
    },
    {
     "name": "stderr",
     "output_type": "stream",
     "text": [
      "2018-11-16 10:59:44.96 INFO in 'deeppavlov.core.commands.train'['train'] at line 518: New best roc_auc of 0.6867\n",
      "2018-11-16 10:59:44.99 INFO in 'deeppavlov.core.commands.train'['train'] at line 520: Saving model\n",
      "2018-11-16 10:59:44.99 INFO in 'deeppavlov.models.classifiers.keras_classification_model'['keras_classification_model'] at line 375: [saving model to /cephfs/home/dilyara.baymurzina/GitHub/reserve/DeepPavlov/download/YahooAnswers/models/model_v39/model_opt.json]\n"
     ]
    },
    {
     "name": "stdout",
     "output_type": "stream",
     "text": [
      "{\"valid\": {\"eval_examples_count\": 403, \"metrics\": {\"roc_auc\": 0.6867, \"sets_accuracy\": 0.5112, \"f1_macro\": 0.4419}, \"time_spent\": \"0:01:57\", \"epochs_done\": 1, \"batches_seen\": 4, \"train_examples_seen\": 3613, \"impatience\": 0, \"patience_limit\": 5}}\n",
      "{\"train\": {\"epochs_done\": 2, \"batches_seen\": 8, \"train_examples_seen\": 7226, \"metrics\": {\"roc_auc\": 0.5548, \"sets_accuracy\": 0.5657, \"f1_macro\": 0.5268}, \"time_spent\": \"0:03:34\", \"loss\": 0.7207412421703339}}\n"
     ]
    },
    {
     "name": "stderr",
     "output_type": "stream",
     "text": [
      "2018-11-16 11:01:27.259 INFO in 'deeppavlov.core.commands.train'['train'] at line 518: New best roc_auc of 0.8298\n",
      "2018-11-16 11:01:27.261 INFO in 'deeppavlov.core.commands.train'['train'] at line 520: Saving model\n",
      "2018-11-16 11:01:27.263 INFO in 'deeppavlov.models.classifiers.keras_classification_model'['keras_classification_model'] at line 375: [saving model to /cephfs/home/dilyara.baymurzina/GitHub/reserve/DeepPavlov/download/YahooAnswers/models/model_v39/model_opt.json]\n"
     ]
    },
    {
     "name": "stdout",
     "output_type": "stream",
     "text": [
      "{\"valid\": {\"eval_examples_count\": 403, \"metrics\": {\"roc_auc\": 0.8298, \"sets_accuracy\": 0.7196, \"f1_macro\": 0.718}, \"time_spent\": \"0:03:40\", \"epochs_done\": 2, \"batches_seen\": 8, \"train_examples_seen\": 7226, \"impatience\": 0, \"patience_limit\": 5}}\n",
      "{\"train\": {\"epochs_done\": 3, \"batches_seen\": 12, \"train_examples_seen\": 10839, \"metrics\": {\"roc_auc\": 0.8619, \"sets_accuracy\": 0.7836, \"f1_macro\": 0.7831}, \"time_spent\": \"0:05:16\", \"loss\": 0.6320870965719223}}\n"
     ]
    },
    {
     "name": "stderr",
     "output_type": "stream",
     "text": [
      "2018-11-16 11:03:08.967 INFO in 'deeppavlov.core.commands.train'['train'] at line 518: New best roc_auc of 0.8758\n",
      "2018-11-16 11:03:08.969 INFO in 'deeppavlov.core.commands.train'['train'] at line 520: Saving model\n",
      "2018-11-16 11:03:08.971 INFO in 'deeppavlov.models.classifiers.keras_classification_model'['keras_classification_model'] at line 375: [saving model to /cephfs/home/dilyara.baymurzina/GitHub/reserve/DeepPavlov/download/YahooAnswers/models/model_v39/model_opt.json]\n"
     ]
    },
    {
     "name": "stdout",
     "output_type": "stream",
     "text": [
      "{\"valid\": {\"eval_examples_count\": 403, \"metrics\": {\"roc_auc\": 0.8758, \"sets_accuracy\": 0.8015, \"f1_macro\": 0.8006}, \"time_spent\": \"0:05:22\", \"epochs_done\": 3, \"batches_seen\": 12, \"train_examples_seen\": 10839, \"impatience\": 0, \"patience_limit\": 5}}\n",
      "{\"train\": {\"epochs_done\": 4, \"batches_seen\": 16, \"train_examples_seen\": 14452, \"metrics\": {\"roc_auc\": 0.887, \"sets_accuracy\": 0.8079, \"f1_macro\": 0.8069}, \"time_spent\": \"0:06:58\", \"loss\": 0.549004003405571}}\n"
     ]
    },
    {
     "name": "stderr",
     "output_type": "stream",
     "text": [
      "2018-11-16 11:04:50.187 INFO in 'deeppavlov.core.commands.train'['train'] at line 518: New best roc_auc of 0.8902\n",
      "2018-11-16 11:04:50.189 INFO in 'deeppavlov.core.commands.train'['train'] at line 520: Saving model\n",
      "2018-11-16 11:04:50.191 INFO in 'deeppavlov.models.classifiers.keras_classification_model'['keras_classification_model'] at line 375: [saving model to /cephfs/home/dilyara.baymurzina/GitHub/reserve/DeepPavlov/download/YahooAnswers/models/model_v39/model_opt.json]\n"
     ]
    },
    {
     "name": "stdout",
     "output_type": "stream",
     "text": [
      "{\"valid\": {\"eval_examples_count\": 403, \"metrics\": {\"roc_auc\": 0.8902, \"sets_accuracy\": 0.7767, \"f1_macro\": 0.7767}, \"time_spent\": \"0:07:03\", \"epochs_done\": 4, \"batches_seen\": 16, \"train_examples_seen\": 14452, \"impatience\": 0, \"patience_limit\": 5}}\n",
      "{\"train\": {\"epochs_done\": 5, \"batches_seen\": 20, \"train_examples_seen\": 18065, \"metrics\": {\"roc_auc\": 0.9057, \"sets_accuracy\": 0.8173, \"f1_macro\": 0.8168}, \"time_spent\": \"0:08:38\", \"loss\": 0.5304698646068573}}\n"
     ]
    },
    {
     "name": "stderr",
     "output_type": "stream",
     "text": [
      "2018-11-16 11:06:30.805 INFO in 'deeppavlov.core.commands.train'['train'] at line 518: New best roc_auc of 0.9051\n",
      "2018-11-16 11:06:30.807 INFO in 'deeppavlov.core.commands.train'['train'] at line 520: Saving model\n",
      "2018-11-16 11:06:30.808 INFO in 'deeppavlov.models.classifiers.keras_classification_model'['keras_classification_model'] at line 375: [saving model to /cephfs/home/dilyara.baymurzina/GitHub/reserve/DeepPavlov/download/YahooAnswers/models/model_v39/model_opt.json]\n"
     ]
    },
    {
     "name": "stdout",
     "output_type": "stream",
     "text": [
      "{\"valid\": {\"eval_examples_count\": 403, \"metrics\": {\"roc_auc\": 0.9051, \"sets_accuracy\": 0.8164, \"f1_macro\": 0.8146}, \"time_spent\": \"0:08:44\", \"epochs_done\": 5, \"batches_seen\": 20, \"train_examples_seen\": 18065, \"impatience\": 0, \"patience_limit\": 5}}\n",
      "{\"train\": {\"epochs_done\": 6, \"batches_seen\": 24, \"train_examples_seen\": 21678, \"metrics\": {\"roc_auc\": 0.9221, \"sets_accuracy\": 0.8397, \"f1_macro\": 0.8388}, \"time_spent\": \"0:10:16\", \"loss\": 0.511454775929451}}\n"
     ]
    },
    {
     "name": "stderr",
     "output_type": "stream",
     "text": [
      "2018-11-16 11:08:08.619 INFO in 'deeppavlov.core.commands.train'['train'] at line 518: New best roc_auc of 0.9141\n",
      "2018-11-16 11:08:08.621 INFO in 'deeppavlov.core.commands.train'['train'] at line 520: Saving model\n",
      "2018-11-16 11:08:08.623 INFO in 'deeppavlov.models.classifiers.keras_classification_model'['keras_classification_model'] at line 375: [saving model to /cephfs/home/dilyara.baymurzina/GitHub/reserve/DeepPavlov/download/YahooAnswers/models/model_v39/model_opt.json]\n"
     ]
    },
    {
     "name": "stdout",
     "output_type": "stream",
     "text": [
      "{\"valid\": {\"eval_examples_count\": 403, \"metrics\": {\"roc_auc\": 0.9141, \"sets_accuracy\": 0.8189, \"f1_macro\": 0.8142}, \"time_spent\": \"0:10:22\", \"epochs_done\": 6, \"batches_seen\": 24, \"train_examples_seen\": 21678, \"impatience\": 0, \"patience_limit\": 5}}\n",
      "{\"train\": {\"epochs_done\": 7, \"batches_seen\": 28, \"train_examples_seen\": 25291, \"metrics\": {\"roc_auc\": 0.9307, \"sets_accuracy\": 0.8497, \"f1_macro\": 0.8461}, \"time_spent\": \"0:11:55\", \"loss\": 0.4922504797577858}}\n"
     ]
    },
    {
     "name": "stderr",
     "output_type": "stream",
     "text": [
      "2018-11-16 11:09:47.907 INFO in 'deeppavlov.core.commands.train'['train'] at line 518: New best roc_auc of 0.9205\n",
      "2018-11-16 11:09:47.910 INFO in 'deeppavlov.core.commands.train'['train'] at line 520: Saving model\n",
      "2018-11-16 11:09:47.911 INFO in 'deeppavlov.models.classifiers.keras_classification_model'['keras_classification_model'] at line 375: [saving model to /cephfs/home/dilyara.baymurzina/GitHub/reserve/DeepPavlov/download/YahooAnswers/models/model_v39/model_opt.json]\n"
     ]
    },
    {
     "name": "stdout",
     "output_type": "stream",
     "text": [
      "{\"valid\": {\"eval_examples_count\": 403, \"metrics\": {\"roc_auc\": 0.9205, \"sets_accuracy\": 0.8238, \"f1_macro\": 0.8234}, \"time_spent\": \"0:12:01\", \"epochs_done\": 7, \"batches_seen\": 28, \"train_examples_seen\": 25291, \"impatience\": 0, \"patience_limit\": 5}}\n",
      "{\"train\": {\"epochs_done\": 8, \"batches_seen\": 32, \"train_examples_seen\": 28904, \"metrics\": {\"roc_auc\": 0.9365, \"sets_accuracy\": 0.8572, \"f1_macro\": 0.8557}, \"time_spent\": \"0:13:34\", \"loss\": 0.48662616312503815}}\n"
     ]
    },
    {
     "name": "stderr",
     "output_type": "stream",
     "text": [
      "2018-11-16 11:11:26.717 INFO in 'deeppavlov.core.commands.train'['train'] at line 518: New best roc_auc of 0.9228\n",
      "2018-11-16 11:11:26.719 INFO in 'deeppavlov.core.commands.train'['train'] at line 520: Saving model\n",
      "2018-11-16 11:11:26.720 INFO in 'deeppavlov.models.classifiers.keras_classification_model'['keras_classification_model'] at line 375: [saving model to /cephfs/home/dilyara.baymurzina/GitHub/reserve/DeepPavlov/download/YahooAnswers/models/model_v39/model_opt.json]\n"
     ]
    },
    {
     "name": "stdout",
     "output_type": "stream",
     "text": [
      "{\"valid\": {\"eval_examples_count\": 403, \"metrics\": {\"roc_auc\": 0.9228, \"sets_accuracy\": 0.8263, \"f1_macro\": 0.8207}, \"time_spent\": \"0:13:40\", \"epochs_done\": 8, \"batches_seen\": 32, \"train_examples_seen\": 28904, \"impatience\": 0, \"patience_limit\": 5}}\n",
      "{\"train\": {\"epochs_done\": 9, \"batches_seen\": 36, \"train_examples_seen\": 32517, \"metrics\": {\"roc_auc\": 0.9395, \"sets_accuracy\": 0.8558, \"f1_macro\": 0.8541}, \"time_spent\": \"0:15:14\", \"loss\": 0.4632214456796646}}\n"
     ]
    },
    {
     "name": "stderr",
     "output_type": "stream",
     "text": [
      "2018-11-16 11:13:06.113 INFO in 'deeppavlov.core.commands.train'['train'] at line 518: New best roc_auc of 0.9262\n",
      "2018-11-16 11:13:06.115 INFO in 'deeppavlov.core.commands.train'['train'] at line 520: Saving model\n",
      "2018-11-16 11:13:06.116 INFO in 'deeppavlov.models.classifiers.keras_classification_model'['keras_classification_model'] at line 375: [saving model to /cephfs/home/dilyara.baymurzina/GitHub/reserve/DeepPavlov/download/YahooAnswers/models/model_v39/model_opt.json]\n"
     ]
    },
    {
     "name": "stdout",
     "output_type": "stream",
     "text": [
      "{\"valid\": {\"eval_examples_count\": 403, \"metrics\": {\"roc_auc\": 0.9262, \"sets_accuracy\": 0.8362, \"f1_macro\": 0.834}, \"time_spent\": \"0:15:19\", \"epochs_done\": 9, \"batches_seen\": 36, \"train_examples_seen\": 32517, \"impatience\": 0, \"patience_limit\": 5}}\n",
      "{\"train\": {\"epochs_done\": 10, \"batches_seen\": 40, \"train_examples_seen\": 36130, \"metrics\": {\"roc_auc\": 0.947, \"sets_accuracy\": 0.8685, \"f1_macro\": 0.8661}, \"time_spent\": \"0:16:54\", \"loss\": 0.46976305544376373}}\n"
     ]
    },
    {
     "name": "stderr",
     "output_type": "stream",
     "text": [
      "2018-11-16 11:14:46.146 INFO in 'deeppavlov.core.commands.train'['train'] at line 518: New best roc_auc of 0.9275\n",
      "2018-11-16 11:14:46.148 INFO in 'deeppavlov.core.commands.train'['train'] at line 520: Saving model\n",
      "2018-11-16 11:14:46.149 INFO in 'deeppavlov.models.classifiers.keras_classification_model'['keras_classification_model'] at line 375: [saving model to /cephfs/home/dilyara.baymurzina/GitHub/reserve/DeepPavlov/download/YahooAnswers/models/model_v39/model_opt.json]\n"
     ]
    },
    {
     "name": "stdout",
     "output_type": "stream",
     "text": [
      "{\"valid\": {\"eval_examples_count\": 403, \"metrics\": {\"roc_auc\": 0.9275, \"sets_accuracy\": 0.8412, \"f1_macro\": 0.8407}, \"time_spent\": \"0:16:59\", \"epochs_done\": 10, \"batches_seen\": 40, \"train_examples_seen\": 36130, \"impatience\": 0, \"patience_limit\": 5}}\n",
      "{\"train\": {\"epochs_done\": 11, \"batches_seen\": 44, \"train_examples_seen\": 39743, \"metrics\": {\"roc_auc\": 0.9518, \"sets_accuracy\": 0.8721, \"f1_macro\": 0.8706}, \"time_spent\": \"0:18:35\", \"loss\": 0.44267282634973526}}\n"
     ]
    },
    {
     "name": "stderr",
     "output_type": "stream",
     "text": [
      "2018-11-16 11:16:27.219 INFO in 'deeppavlov.core.commands.train'['train'] at line 518: New best roc_auc of 0.9282\n",
      "2018-11-16 11:16:27.222 INFO in 'deeppavlov.core.commands.train'['train'] at line 520: Saving model\n",
      "2018-11-16 11:16:27.225 INFO in 'deeppavlov.models.classifiers.keras_classification_model'['keras_classification_model'] at line 375: [saving model to /cephfs/home/dilyara.baymurzina/GitHub/reserve/DeepPavlov/download/YahooAnswers/models/model_v39/model_opt.json]\n"
     ]
    },
    {
     "name": "stdout",
     "output_type": "stream",
     "text": [
      "{\"valid\": {\"eval_examples_count\": 403, \"metrics\": {\"roc_auc\": 0.9282, \"sets_accuracy\": 0.8462, \"f1_macro\": 0.844}, \"time_spent\": \"0:18:40\", \"epochs_done\": 11, \"batches_seen\": 44, \"train_examples_seen\": 39743, \"impatience\": 0, \"patience_limit\": 5}}\n",
      "{\"train\": {\"epochs_done\": 12, \"batches_seen\": 48, \"train_examples_seen\": 43356, \"metrics\": {\"roc_auc\": 0.9556, \"sets_accuracy\": 0.8779, \"f1_macro\": 0.8764}, \"time_spent\": \"0:20:16\", \"loss\": 0.428846538066864}}\n"
     ]
    },
    {
     "name": "stderr",
     "output_type": "stream",
     "text": [
      "2018-11-16 11:18:08.513 INFO in 'deeppavlov.core.commands.train'['train'] at line 525: Did not improve on the roc_auc of 0.9282\n"
     ]
    },
    {
     "name": "stdout",
     "output_type": "stream",
     "text": [
      "{\"valid\": {\"eval_examples_count\": 403, \"metrics\": {\"roc_auc\": 0.9282, \"sets_accuracy\": 0.8561, \"f1_macro\": 0.8533}, \"time_spent\": \"0:20:22\", \"epochs_done\": 12, \"batches_seen\": 48, \"train_examples_seen\": 43356, \"impatience\": 1, \"patience_limit\": 5}}\n",
      "{\"train\": {\"epochs_done\": 13, \"batches_seen\": 52, \"train_examples_seen\": 46969, \"metrics\": {\"roc_auc\": 0.9587, \"sets_accuracy\": 0.8851, \"f1_macro\": 0.883}, \"time_spent\": \"0:21:57\", \"loss\": 0.4211873933672905}}\n"
     ]
    },
    {
     "name": "stderr",
     "output_type": "stream",
     "text": [
      "2018-11-16 11:19:49.10 INFO in 'deeppavlov.core.commands.train'['train'] at line 525: Did not improve on the roc_auc of 0.9282\n"
     ]
    },
    {
     "name": "stdout",
     "output_type": "stream",
     "text": [
      "{\"valid\": {\"eval_examples_count\": 403, \"metrics\": {\"roc_auc\": 0.9282, \"sets_accuracy\": 0.8462, \"f1_macro\": 0.8454}, \"time_spent\": \"0:22:02\", \"epochs_done\": 13, \"batches_seen\": 52, \"train_examples_seen\": 46969, \"impatience\": 2, \"patience_limit\": 5}}\n",
      "{\"train\": {\"epochs_done\": 14, \"batches_seen\": 56, \"train_examples_seen\": 50582, \"metrics\": {\"roc_auc\": 0.9614, \"sets_accuracy\": 0.8882, \"f1_macro\": 0.8872}, \"time_spent\": \"0:23:37\", \"loss\": 0.4193674251437187}}\n"
     ]
    },
    {
     "name": "stderr",
     "output_type": "stream",
     "text": [
      "2018-11-16 11:21:29.560 INFO in 'deeppavlov.core.commands.train'['train'] at line 518: New best roc_auc of 0.9297\n",
      "2018-11-16 11:21:29.562 INFO in 'deeppavlov.core.commands.train'['train'] at line 520: Saving model\n",
      "2018-11-16 11:21:29.564 INFO in 'deeppavlov.models.classifiers.keras_classification_model'['keras_classification_model'] at line 375: [saving model to /cephfs/home/dilyara.baymurzina/GitHub/reserve/DeepPavlov/download/YahooAnswers/models/model_v39/model_opt.json]\n"
     ]
    },
    {
     "name": "stdout",
     "output_type": "stream",
     "text": [
      "{\"valid\": {\"eval_examples_count\": 403, \"metrics\": {\"roc_auc\": 0.9297, \"sets_accuracy\": 0.8462, \"f1_macro\": 0.8428}, \"time_spent\": \"0:23:43\", \"epochs_done\": 14, \"batches_seen\": 56, \"train_examples_seen\": 50582, \"impatience\": 0, \"patience_limit\": 5}}\n",
      "{\"train\": {\"epochs_done\": 15, \"batches_seen\": 60, \"train_examples_seen\": 54195, \"metrics\": {\"roc_auc\": 0.9647, \"sets_accuracy\": 0.8934, \"f1_macro\": 0.8922}, \"time_spent\": \"0:25:17\", \"loss\": 0.417608879506588}}\n"
     ]
    },
    {
     "name": "stderr",
     "output_type": "stream",
     "text": [
      "2018-11-16 11:23:09.846 INFO in 'deeppavlov.core.commands.train'['train'] at line 518: New best roc_auc of 0.9302\n",
      "2018-11-16 11:23:09.849 INFO in 'deeppavlov.core.commands.train'['train'] at line 520: Saving model\n",
      "2018-11-16 11:23:09.850 INFO in 'deeppavlov.models.classifiers.keras_classification_model'['keras_classification_model'] at line 375: [saving model to /cephfs/home/dilyara.baymurzina/GitHub/reserve/DeepPavlov/download/YahooAnswers/models/model_v39/model_opt.json]\n"
     ]
    },
    {
     "name": "stdout",
     "output_type": "stream",
     "text": [
      "{\"valid\": {\"eval_examples_count\": 403, \"metrics\": {\"roc_auc\": 0.9302, \"sets_accuracy\": 0.8486, \"f1_macro\": 0.848}, \"time_spent\": \"0:25:23\", \"epochs_done\": 15, \"batches_seen\": 60, \"train_examples_seen\": 54195, \"impatience\": 0, \"patience_limit\": 5}}\n",
      "{\"train\": {\"epochs_done\": 16, \"batches_seen\": 64, \"train_examples_seen\": 57808, \"metrics\": {\"roc_auc\": 0.9681, \"sets_accuracy\": 0.894, \"f1_macro\": 0.8928}, \"time_spent\": \"0:27:00\", \"loss\": 0.40764079988002777}}\n"
     ]
    },
    {
     "name": "stderr",
     "output_type": "stream",
     "text": [
      "2018-11-16 11:24:52.50 INFO in 'deeppavlov.core.commands.train'['train'] at line 518: New best roc_auc of 0.9308\n",
      "2018-11-16 11:24:52.52 INFO in 'deeppavlov.core.commands.train'['train'] at line 520: Saving model\n",
      "2018-11-16 11:24:52.53 INFO in 'deeppavlov.models.classifiers.keras_classification_model'['keras_classification_model'] at line 375: [saving model to /cephfs/home/dilyara.baymurzina/GitHub/reserve/DeepPavlov/download/YahooAnswers/models/model_v39/model_opt.json]\n"
     ]
    },
    {
     "name": "stdout",
     "output_type": "stream",
     "text": [
      "{\"valid\": {\"eval_examples_count\": 403, \"metrics\": {\"roc_auc\": 0.9308, \"sets_accuracy\": 0.8486, \"f1_macro\": 0.8466}, \"time_spent\": \"0:27:05\", \"epochs_done\": 16, \"batches_seen\": 64, \"train_examples_seen\": 57808, \"impatience\": 0, \"patience_limit\": 5}}\n",
      "{\"train\": {\"epochs_done\": 17, \"batches_seen\": 68, \"train_examples_seen\": 61421, \"metrics\": {\"roc_auc\": 0.9708, \"sets_accuracy\": 0.8995, \"f1_macro\": 0.8984}, \"time_spent\": \"0:28:40\", \"loss\": 0.4119631350040436}}\n"
     ]
    },
    {
     "name": "stderr",
     "output_type": "stream",
     "text": [
      "2018-11-16 11:26:32.896 INFO in 'deeppavlov.core.commands.train'['train'] at line 518: New best roc_auc of 0.9318\n",
      "2018-11-16 11:26:32.898 INFO in 'deeppavlov.core.commands.train'['train'] at line 520: Saving model\n",
      "2018-11-16 11:26:32.899 INFO in 'deeppavlov.models.classifiers.keras_classification_model'['keras_classification_model'] at line 375: [saving model to /cephfs/home/dilyara.baymurzina/GitHub/reserve/DeepPavlov/download/YahooAnswers/models/model_v39/model_opt.json]\n"
     ]
    },
    {
     "name": "stdout",
     "output_type": "stream",
     "text": [
      "{\"valid\": {\"eval_examples_count\": 403, \"metrics\": {\"roc_auc\": 0.9318, \"sets_accuracy\": 0.8437, \"f1_macro\": 0.8416}, \"time_spent\": \"0:28:46\", \"epochs_done\": 17, \"batches_seen\": 68, \"train_examples_seen\": 61421, \"impatience\": 0, \"patience_limit\": 5}}\n",
      "{\"train\": {\"epochs_done\": 18, \"batches_seen\": 72, \"train_examples_seen\": 65034, \"metrics\": {\"roc_auc\": 0.9727, \"sets_accuracy\": 0.8987, \"f1_macro\": 0.8965}, \"time_spent\": \"0:30:21\", \"loss\": 0.40338660776615143}}\n"
     ]
    },
    {
     "name": "stderr",
     "output_type": "stream",
     "text": [
      "2018-11-16 11:28:13.789 INFO in 'deeppavlov.core.commands.train'['train'] at line 525: Did not improve on the roc_auc of 0.9318\n"
     ]
    },
    {
     "name": "stdout",
     "output_type": "stream",
     "text": [
      "{\"valid\": {\"eval_examples_count\": 403, \"metrics\": {\"roc_auc\": 0.9317, \"sets_accuracy\": 0.8536, \"f1_macro\": 0.8532}, \"time_spent\": \"0:30:27\", \"epochs_done\": 18, \"batches_seen\": 72, \"train_examples_seen\": 65034, \"impatience\": 1, \"patience_limit\": 5}}\n",
      "{\"train\": {\"epochs_done\": 19, \"batches_seen\": 76, \"train_examples_seen\": 68647, \"metrics\": {\"roc_auc\": 0.9727, \"sets_accuracy\": 0.904, \"f1_macro\": 0.9026}, \"time_spent\": \"0:32:02\", \"loss\": 0.397201232612133}}\n"
     ]
    },
    {
     "name": "stderr",
     "output_type": "stream",
     "text": [
      "2018-11-16 11:29:54.756 INFO in 'deeppavlov.core.commands.train'['train'] at line 518: New best roc_auc of 0.9342\n",
      "2018-11-16 11:29:54.758 INFO in 'deeppavlov.core.commands.train'['train'] at line 520: Saving model\n",
      "2018-11-16 11:29:54.759 INFO in 'deeppavlov.models.classifiers.keras_classification_model'['keras_classification_model'] at line 375: [saving model to /cephfs/home/dilyara.baymurzina/GitHub/reserve/DeepPavlov/download/YahooAnswers/models/model_v39/model_opt.json]\n"
     ]
    },
    {
     "name": "stdout",
     "output_type": "stream",
     "text": [
      "{\"valid\": {\"eval_examples_count\": 403, \"metrics\": {\"roc_auc\": 0.9342, \"sets_accuracy\": 0.8586, \"f1_macro\": 0.8572}, \"time_spent\": \"0:32:08\", \"epochs_done\": 19, \"batches_seen\": 76, \"train_examples_seen\": 68647, \"impatience\": 0, \"patience_limit\": 5}}\n",
      "{\"train\": {\"epochs_done\": 20, \"batches_seen\": 80, \"train_examples_seen\": 72260, \"metrics\": {\"roc_auc\": 0.9762, \"sets_accuracy\": 0.9087, \"f1_macro\": 0.908}, \"time_spent\": \"0:33:43\", \"loss\": 0.4253610670566559}}\n"
     ]
    },
    {
     "name": "stderr",
     "output_type": "stream",
     "text": [
      "2018-11-16 11:31:35.846 INFO in 'deeppavlov.core.commands.train'['train'] at line 525: Did not improve on the roc_auc of 0.9342\n",
      "2018-11-16 11:31:35.852 INFO in 'deeppavlov.core.data.simple_vocab'['simple_vocab'] at line 100: [loading vocabulary from /cephfs/home/dilyara.baymurzina/GitHub/reserve/DeepPavlov/download/YahooAnswers/models/model_v39/yahoo_answers_classes.dict]\n"
     ]
    },
    {
     "name": "stdout",
     "output_type": "stream",
     "text": [
      "{\"valid\": {\"eval_examples_count\": 403, \"metrics\": {\"roc_auc\": 0.9341, \"sets_accuracy\": 0.8536, \"f1_macro\": 0.8503}, \"time_spent\": \"0:33:49\", \"epochs_done\": 20, \"batches_seen\": 80, \"train_examples_seen\": 72260, \"impatience\": 1, \"patience_limit\": 5}}\n"
     ]
    },
    {
     "name": "stderr",
     "output_type": "stream",
     "text": [
      "2018-11-16 11:31:39.410 DEBUG in 'tensorflow'['tf_logging'] at line 100: Initialize variable module/aggregation/elmo_output_ELMo_W:0 from checkpoint b'/home/kuznetsov/models_env/yahoo-sber-questions_elmo/models/mod_from_git/hubs/yahooo-sber-questions_epoches_n_9/variables/variables' with aggregation/elmo_output_ELMo_W\n",
      "2018-11-16 11:31:39.415 DEBUG in 'tensorflow'['tf_logging'] at line 100: Initialize variable module/aggregation/elmo_output_ELMo_gamma:0 from checkpoint b'/home/kuznetsov/models_env/yahoo-sber-questions_elmo/models/mod_from_git/hubs/yahooo-sber-questions_epoches_n_9/variables/variables' with aggregation/elmo_output_ELMo_gamma\n",
      "2018-11-16 11:31:39.421 DEBUG in 'tensorflow'['tf_logging'] at line 100: Initialize variable module/bilm/CNN/W_cnn_0:0 from checkpoint b'/home/kuznetsov/models_env/yahoo-sber-questions_elmo/models/mod_from_git/hubs/yahooo-sber-questions_epoches_n_9/variables/variables' with bilm/CNN/W_cnn_0\n",
      "2018-11-16 11:31:39.425 DEBUG in 'tensorflow'['tf_logging'] at line 100: Initialize variable module/bilm/CNN/W_cnn_1:0 from checkpoint b'/home/kuznetsov/models_env/yahoo-sber-questions_elmo/models/mod_from_git/hubs/yahooo-sber-questions_epoches_n_9/variables/variables' with bilm/CNN/W_cnn_1\n",
      "2018-11-16 11:31:39.430 DEBUG in 'tensorflow'['tf_logging'] at line 100: Initialize variable module/bilm/CNN/W_cnn_2:0 from checkpoint b'/home/kuznetsov/models_env/yahoo-sber-questions_elmo/models/mod_from_git/hubs/yahooo-sber-questions_epoches_n_9/variables/variables' with bilm/CNN/W_cnn_2\n",
      "2018-11-16 11:31:39.435 DEBUG in 'tensorflow'['tf_logging'] at line 100: Initialize variable module/bilm/CNN/W_cnn_3:0 from checkpoint b'/home/kuznetsov/models_env/yahoo-sber-questions_elmo/models/mod_from_git/hubs/yahooo-sber-questions_epoches_n_9/variables/variables' with bilm/CNN/W_cnn_3\n",
      "2018-11-16 11:31:39.441 DEBUG in 'tensorflow'['tf_logging'] at line 100: Initialize variable module/bilm/CNN/W_cnn_4:0 from checkpoint b'/home/kuznetsov/models_env/yahoo-sber-questions_elmo/models/mod_from_git/hubs/yahooo-sber-questions_epoches_n_9/variables/variables' with bilm/CNN/W_cnn_4\n",
      "2018-11-16 11:31:39.446 DEBUG in 'tensorflow'['tf_logging'] at line 100: Initialize variable module/bilm/CNN/W_cnn_5:0 from checkpoint b'/home/kuznetsov/models_env/yahoo-sber-questions_elmo/models/mod_from_git/hubs/yahooo-sber-questions_epoches_n_9/variables/variables' with bilm/CNN/W_cnn_5\n",
      "2018-11-16 11:31:39.450 DEBUG in 'tensorflow'['tf_logging'] at line 100: Initialize variable module/bilm/CNN/W_cnn_6:0 from checkpoint b'/home/kuznetsov/models_env/yahoo-sber-questions_elmo/models/mod_from_git/hubs/yahooo-sber-questions_epoches_n_9/variables/variables' with bilm/CNN/W_cnn_6\n",
      "2018-11-16 11:31:39.455 DEBUG in 'tensorflow'['tf_logging'] at line 100: Initialize variable module/bilm/CNN/b_cnn_0:0 from checkpoint b'/home/kuznetsov/models_env/yahoo-sber-questions_elmo/models/mod_from_git/hubs/yahooo-sber-questions_epoches_n_9/variables/variables' with bilm/CNN/b_cnn_0\n",
      "2018-11-16 11:31:39.459 DEBUG in 'tensorflow'['tf_logging'] at line 100: Initialize variable module/bilm/CNN/b_cnn_1:0 from checkpoint b'/home/kuznetsov/models_env/yahoo-sber-questions_elmo/models/mod_from_git/hubs/yahooo-sber-questions_epoches_n_9/variables/variables' with bilm/CNN/b_cnn_1\n",
      "2018-11-16 11:31:39.464 DEBUG in 'tensorflow'['tf_logging'] at line 100: Initialize variable module/bilm/CNN/b_cnn_2:0 from checkpoint b'/home/kuznetsov/models_env/yahoo-sber-questions_elmo/models/mod_from_git/hubs/yahooo-sber-questions_epoches_n_9/variables/variables' with bilm/CNN/b_cnn_2\n",
      "2018-11-16 11:31:39.469 DEBUG in 'tensorflow'['tf_logging'] at line 100: Initialize variable module/bilm/CNN/b_cnn_3:0 from checkpoint b'/home/kuznetsov/models_env/yahoo-sber-questions_elmo/models/mod_from_git/hubs/yahooo-sber-questions_epoches_n_9/variables/variables' with bilm/CNN/b_cnn_3\n",
      "2018-11-16 11:31:39.473 DEBUG in 'tensorflow'['tf_logging'] at line 100: Initialize variable module/bilm/CNN/b_cnn_4:0 from checkpoint b'/home/kuznetsov/models_env/yahoo-sber-questions_elmo/models/mod_from_git/hubs/yahooo-sber-questions_epoches_n_9/variables/variables' with bilm/CNN/b_cnn_4\n",
      "2018-11-16 11:31:39.478 DEBUG in 'tensorflow'['tf_logging'] at line 100: Initialize variable module/bilm/CNN/b_cnn_5:0 from checkpoint b'/home/kuznetsov/models_env/yahoo-sber-questions_elmo/models/mod_from_git/hubs/yahooo-sber-questions_epoches_n_9/variables/variables' with bilm/CNN/b_cnn_5\n",
      "2018-11-16 11:31:39.485 DEBUG in 'tensorflow'['tf_logging'] at line 100: Initialize variable module/bilm/CNN/b_cnn_6:0 from checkpoint b'/home/kuznetsov/models_env/yahoo-sber-questions_elmo/models/mod_from_git/hubs/yahooo-sber-questions_epoches_n_9/variables/variables' with bilm/CNN/b_cnn_6\n",
      "2018-11-16 11:31:39.492 DEBUG in 'tensorflow'['tf_logging'] at line 100: Initialize variable module/bilm/CNN_high_0/W_carry:0 from checkpoint b'/home/kuznetsov/models_env/yahoo-sber-questions_elmo/models/mod_from_git/hubs/yahooo-sber-questions_epoches_n_9/variables/variables' with bilm/CNN_high_0/W_carry\n",
      "2018-11-16 11:31:39.500 DEBUG in 'tensorflow'['tf_logging'] at line 100: Initialize variable module/bilm/CNN_high_0/W_transform:0 from checkpoint b'/home/kuznetsov/models_env/yahoo-sber-questions_elmo/models/mod_from_git/hubs/yahooo-sber-questions_epoches_n_9/variables/variables' with bilm/CNN_high_0/W_transform\n",
      "2018-11-16 11:31:39.508 DEBUG in 'tensorflow'['tf_logging'] at line 100: Initialize variable module/bilm/CNN_high_0/b_carry:0 from checkpoint b'/home/kuznetsov/models_env/yahoo-sber-questions_elmo/models/mod_from_git/hubs/yahooo-sber-questions_epoches_n_9/variables/variables' with bilm/CNN_high_0/b_carry\n",
      "2018-11-16 11:31:39.517 DEBUG in 'tensorflow'['tf_logging'] at line 100: Initialize variable module/bilm/CNN_high_0/b_transform:0 from checkpoint b'/home/kuznetsov/models_env/yahoo-sber-questions_elmo/models/mod_from_git/hubs/yahooo-sber-questions_epoches_n_9/variables/variables' with bilm/CNN_high_0/b_transform\n",
      "2018-11-16 11:31:39.529 DEBUG in 'tensorflow'['tf_logging'] at line 100: Initialize variable module/bilm/CNN_high_1/W_carry:0 from checkpoint b'/home/kuznetsov/models_env/yahoo-sber-questions_elmo/models/mod_from_git/hubs/yahooo-sber-questions_epoches_n_9/variables/variables' with bilm/CNN_high_1/W_carry\n",
      "2018-11-16 11:31:39.541 DEBUG in 'tensorflow'['tf_logging'] at line 100: Initialize variable module/bilm/CNN_high_1/W_transform:0 from checkpoint b'/home/kuznetsov/models_env/yahoo-sber-questions_elmo/models/mod_from_git/hubs/yahooo-sber-questions_epoches_n_9/variables/variables' with bilm/CNN_high_1/W_transform\n",
      "2018-11-16 11:31:39.548 DEBUG in 'tensorflow'['tf_logging'] at line 100: Initialize variable module/bilm/CNN_high_1/b_carry:0 from checkpoint b'/home/kuznetsov/models_env/yahoo-sber-questions_elmo/models/mod_from_git/hubs/yahooo-sber-questions_epoches_n_9/variables/variables' with bilm/CNN_high_1/b_carry\n",
      "2018-11-16 11:31:39.554 DEBUG in 'tensorflow'['tf_logging'] at line 100: Initialize variable module/bilm/CNN_high_1/b_transform:0 from checkpoint b'/home/kuznetsov/models_env/yahoo-sber-questions_elmo/models/mod_from_git/hubs/yahooo-sber-questions_epoches_n_9/variables/variables' with bilm/CNN_high_1/b_transform\n",
      "2018-11-16 11:31:39.560 DEBUG in 'tensorflow'['tf_logging'] at line 100: Initialize variable module/bilm/CNN_proj/W_proj:0 from checkpoint b'/home/kuznetsov/models_env/yahoo-sber-questions_elmo/models/mod_from_git/hubs/yahooo-sber-questions_epoches_n_9/variables/variables' with bilm/CNN_proj/W_proj\n",
      "2018-11-16 11:31:39.567 DEBUG in 'tensorflow'['tf_logging'] at line 100: Initialize variable module/bilm/CNN_proj/b_proj:0 from checkpoint b'/home/kuznetsov/models_env/yahoo-sber-questions_elmo/models/mod_from_git/hubs/yahooo-sber-questions_epoches_n_9/variables/variables' with bilm/CNN_proj/b_proj\n",
      "2018-11-16 11:31:39.573 DEBUG in 'tensorflow'['tf_logging'] at line 100: Initialize variable module/bilm/RNN_0/RNN/MultiRNNCell/Cell0/rnn/lstm_cell/bias:0 from checkpoint b'/home/kuznetsov/models_env/yahoo-sber-questions_elmo/models/mod_from_git/hubs/yahooo-sber-questions_epoches_n_9/variables/variables' with bilm/RNN_0/RNN/MultiRNNCell/Cell0/rnn/lstm_cell/bias\n",
      "2018-11-16 11:31:39.579 DEBUG in 'tensorflow'['tf_logging'] at line 100: Initialize variable module/bilm/RNN_0/RNN/MultiRNNCell/Cell0/rnn/lstm_cell/kernel:0 from checkpoint b'/home/kuznetsov/models_env/yahoo-sber-questions_elmo/models/mod_from_git/hubs/yahooo-sber-questions_epoches_n_9/variables/variables' with bilm/RNN_0/RNN/MultiRNNCell/Cell0/rnn/lstm_cell/kernel\n"
     ]
    },
    {
     "name": "stderr",
     "output_type": "stream",
     "text": [
      "2018-11-16 11:31:39.586 DEBUG in 'tensorflow'['tf_logging'] at line 100: Initialize variable module/bilm/RNN_0/RNN/MultiRNNCell/Cell0/rnn/lstm_cell/projection/kernel:0 from checkpoint b'/home/kuznetsov/models_env/yahoo-sber-questions_elmo/models/mod_from_git/hubs/yahooo-sber-questions_epoches_n_9/variables/variables' with bilm/RNN_0/RNN/MultiRNNCell/Cell0/rnn/lstm_cell/projection/kernel\n",
      "2018-11-16 11:31:39.592 DEBUG in 'tensorflow'['tf_logging'] at line 100: Initialize variable module/bilm/RNN_0/RNN/MultiRNNCell/Cell1/rnn/lstm_cell/bias:0 from checkpoint b'/home/kuznetsov/models_env/yahoo-sber-questions_elmo/models/mod_from_git/hubs/yahooo-sber-questions_epoches_n_9/variables/variables' with bilm/RNN_0/RNN/MultiRNNCell/Cell1/rnn/lstm_cell/bias\n",
      "2018-11-16 11:31:39.599 DEBUG in 'tensorflow'['tf_logging'] at line 100: Initialize variable module/bilm/RNN_0/RNN/MultiRNNCell/Cell1/rnn/lstm_cell/kernel:0 from checkpoint b'/home/kuznetsov/models_env/yahoo-sber-questions_elmo/models/mod_from_git/hubs/yahooo-sber-questions_epoches_n_9/variables/variables' with bilm/RNN_0/RNN/MultiRNNCell/Cell1/rnn/lstm_cell/kernel\n",
      "2018-11-16 11:31:39.605 DEBUG in 'tensorflow'['tf_logging'] at line 100: Initialize variable module/bilm/RNN_0/RNN/MultiRNNCell/Cell1/rnn/lstm_cell/projection/kernel:0 from checkpoint b'/home/kuznetsov/models_env/yahoo-sber-questions_elmo/models/mod_from_git/hubs/yahooo-sber-questions_epoches_n_9/variables/variables' with bilm/RNN_0/RNN/MultiRNNCell/Cell1/rnn/lstm_cell/projection/kernel\n",
      "2018-11-16 11:31:39.611 DEBUG in 'tensorflow'['tf_logging'] at line 100: Initialize variable module/bilm/RNN_1/RNN/MultiRNNCell/Cell0/rnn/lstm_cell/bias:0 from checkpoint b'/home/kuznetsov/models_env/yahoo-sber-questions_elmo/models/mod_from_git/hubs/yahooo-sber-questions_epoches_n_9/variables/variables' with bilm/RNN_1/RNN/MultiRNNCell/Cell0/rnn/lstm_cell/bias\n",
      "2018-11-16 11:31:39.617 DEBUG in 'tensorflow'['tf_logging'] at line 100: Initialize variable module/bilm/RNN_1/RNN/MultiRNNCell/Cell0/rnn/lstm_cell/kernel:0 from checkpoint b'/home/kuznetsov/models_env/yahoo-sber-questions_elmo/models/mod_from_git/hubs/yahooo-sber-questions_epoches_n_9/variables/variables' with bilm/RNN_1/RNN/MultiRNNCell/Cell0/rnn/lstm_cell/kernel\n",
      "2018-11-16 11:31:39.625 DEBUG in 'tensorflow'['tf_logging'] at line 100: Initialize variable module/bilm/RNN_1/RNN/MultiRNNCell/Cell0/rnn/lstm_cell/projection/kernel:0 from checkpoint b'/home/kuznetsov/models_env/yahoo-sber-questions_elmo/models/mod_from_git/hubs/yahooo-sber-questions_epoches_n_9/variables/variables' with bilm/RNN_1/RNN/MultiRNNCell/Cell0/rnn/lstm_cell/projection/kernel\n",
      "2018-11-16 11:31:39.631 DEBUG in 'tensorflow'['tf_logging'] at line 100: Initialize variable module/bilm/RNN_1/RNN/MultiRNNCell/Cell1/rnn/lstm_cell/bias:0 from checkpoint b'/home/kuznetsov/models_env/yahoo-sber-questions_elmo/models/mod_from_git/hubs/yahooo-sber-questions_epoches_n_9/variables/variables' with bilm/RNN_1/RNN/MultiRNNCell/Cell1/rnn/lstm_cell/bias\n",
      "2018-11-16 11:31:39.637 DEBUG in 'tensorflow'['tf_logging'] at line 100: Initialize variable module/bilm/RNN_1/RNN/MultiRNNCell/Cell1/rnn/lstm_cell/kernel:0 from checkpoint b'/home/kuznetsov/models_env/yahoo-sber-questions_elmo/models/mod_from_git/hubs/yahooo-sber-questions_epoches_n_9/variables/variables' with bilm/RNN_1/RNN/MultiRNNCell/Cell1/rnn/lstm_cell/kernel\n",
      "2018-11-16 11:31:39.644 DEBUG in 'tensorflow'['tf_logging'] at line 100: Initialize variable module/bilm/RNN_1/RNN/MultiRNNCell/Cell1/rnn/lstm_cell/projection/kernel:0 from checkpoint b'/home/kuznetsov/models_env/yahoo-sber-questions_elmo/models/mod_from_git/hubs/yahooo-sber-questions_epoches_n_9/variables/variables' with bilm/RNN_1/RNN/MultiRNNCell/Cell1/rnn/lstm_cell/projection/kernel\n",
      "2018-11-16 11:31:39.651 DEBUG in 'tensorflow'['tf_logging'] at line 100: Initialize variable module/bilm/Variable:0 from checkpoint b'/home/kuznetsov/models_env/yahoo-sber-questions_elmo/models/mod_from_git/hubs/yahooo-sber-questions_epoches_n_9/variables/variables' with bilm/Variable\n",
      "2018-11-16 11:31:39.658 DEBUG in 'tensorflow'['tf_logging'] at line 100: Initialize variable module/bilm/Variable_1:0 from checkpoint b'/home/kuznetsov/models_env/yahoo-sber-questions_elmo/models/mod_from_git/hubs/yahooo-sber-questions_epoches_n_9/variables/variables' with bilm/Variable_1\n",
      "2018-11-16 11:31:39.665 DEBUG in 'tensorflow'['tf_logging'] at line 100: Initialize variable module/bilm/Variable_2:0 from checkpoint b'/home/kuznetsov/models_env/yahoo-sber-questions_elmo/models/mod_from_git/hubs/yahooo-sber-questions_epoches_n_9/variables/variables' with bilm/Variable_2\n",
      "2018-11-16 11:31:39.673 DEBUG in 'tensorflow'['tf_logging'] at line 100: Initialize variable module/bilm/Variable_3:0 from checkpoint b'/home/kuznetsov/models_env/yahoo-sber-questions_elmo/models/mod_from_git/hubs/yahooo-sber-questions_epoches_n_9/variables/variables' with bilm/Variable_3\n",
      "2018-11-16 11:31:39.683 DEBUG in 'tensorflow'['tf_logging'] at line 100: Initialize variable module/bilm/Variable_4:0 from checkpoint b'/home/kuznetsov/models_env/yahoo-sber-questions_elmo/models/mod_from_git/hubs/yahooo-sber-questions_epoches_n_9/variables/variables' with bilm/Variable_4\n",
      "2018-11-16 11:31:39.691 DEBUG in 'tensorflow'['tf_logging'] at line 100: Initialize variable module/bilm/Variable_5:0 from checkpoint b'/home/kuznetsov/models_env/yahoo-sber-questions_elmo/models/mod_from_git/hubs/yahooo-sber-questions_epoches_n_9/variables/variables' with bilm/Variable_5\n",
      "2018-11-16 11:31:39.702 DEBUG in 'tensorflow'['tf_logging'] at line 100: Initialize variable module/bilm/Variable_6:0 from checkpoint b'/home/kuznetsov/models_env/yahoo-sber-questions_elmo/models/mod_from_git/hubs/yahooo-sber-questions_epoches_n_9/variables/variables' with bilm/Variable_6\n",
      "2018-11-16 11:31:39.710 DEBUG in 'tensorflow'['tf_logging'] at line 100: Initialize variable module/bilm/Variable_7:0 from checkpoint b'/home/kuznetsov/models_env/yahoo-sber-questions_elmo/models/mod_from_git/hubs/yahooo-sber-questions_epoches_n_9/variables/variables' with bilm/Variable_7\n",
      "2018-11-16 11:31:39.719 DEBUG in 'tensorflow'['tf_logging'] at line 100: Initialize variable module/bilm/char_embed:0 from checkpoint b'/home/kuznetsov/models_env/yahoo-sber-questions_elmo/models/mod_from_git/hubs/yahooo-sber-questions_epoches_n_9/variables/variables' with bilm/char_embed\n",
      "2018-11-16 11:31:39.728 DEBUG in 'tensorflow'['tf_logging'] at line 100: Initialize variable module/bilm_1/Variable:0 from checkpoint b'/home/kuznetsov/models_env/yahoo-sber-questions_elmo/models/mod_from_git/hubs/yahooo-sber-questions_epoches_n_9/variables/variables' with bilm_1/Variable\n",
      "2018-11-16 11:31:39.736 DEBUG in 'tensorflow'['tf_logging'] at line 100: Initialize variable module/bilm_1/Variable_1:0 from checkpoint b'/home/kuznetsov/models_env/yahoo-sber-questions_elmo/models/mod_from_git/hubs/yahooo-sber-questions_epoches_n_9/variables/variables' with bilm_1/Variable_1\n",
      "2018-11-16 11:31:39.743 DEBUG in 'tensorflow'['tf_logging'] at line 100: Initialize variable module/bilm_1/Variable_2:0 from checkpoint b'/home/kuznetsov/models_env/yahoo-sber-questions_elmo/models/mod_from_git/hubs/yahooo-sber-questions_epoches_n_9/variables/variables' with bilm_1/Variable_2\n",
      "2018-11-16 11:31:39.749 DEBUG in 'tensorflow'['tf_logging'] at line 100: Initialize variable module/bilm_1/Variable_3:0 from checkpoint b'/home/kuznetsov/models_env/yahoo-sber-questions_elmo/models/mod_from_git/hubs/yahooo-sber-questions_epoches_n_9/variables/variables' with bilm_1/Variable_3\n",
      "2018-11-16 11:31:39.756 DEBUG in 'tensorflow'['tf_logging'] at line 100: Initialize variable module/bilm_1/Variable_4:0 from checkpoint b'/home/kuznetsov/models_env/yahoo-sber-questions_elmo/models/mod_from_git/hubs/yahooo-sber-questions_epoches_n_9/variables/variables' with bilm_1/Variable_4\n",
      "2018-11-16 11:31:39.762 DEBUG in 'tensorflow'['tf_logging'] at line 100: Initialize variable module/bilm_1/Variable_5:0 from checkpoint b'/home/kuznetsov/models_env/yahoo-sber-questions_elmo/models/mod_from_git/hubs/yahooo-sber-questions_epoches_n_9/variables/variables' with bilm_1/Variable_5\n",
      "2018-11-16 11:31:39.769 DEBUG in 'tensorflow'['tf_logging'] at line 100: Initialize variable module/bilm_1/Variable_6:0 from checkpoint b'/home/kuznetsov/models_env/yahoo-sber-questions_elmo/models/mod_from_git/hubs/yahooo-sber-questions_epoches_n_9/variables/variables' with bilm_1/Variable_6\n"
     ]
    },
    {
     "name": "stderr",
     "output_type": "stream",
     "text": [
      "2018-11-16 11:31:39.777 DEBUG in 'tensorflow'['tf_logging'] at line 100: Initialize variable module/bilm_1/Variable_7:0 from checkpoint b'/home/kuznetsov/models_env/yahoo-sber-questions_elmo/models/mod_from_git/hubs/yahooo-sber-questions_epoches_n_9/variables/variables' with bilm_1/Variable_7\n",
      "2018-11-16 11:31:41.570 INFO in 'tensorflow'['tf_logging'] at line 115: Saver not created because there are no variables in the graph to restore\n",
      "2018-11-16 11:31:42.54 INFO in 'deeppavlov.models.classifiers.keras_classification_model'['keras_classification_model'] at line 291: [initializing `KerasClassificationModel` from saved]\n",
      "2018-11-16 11:31:42.969 INFO in 'deeppavlov.models.classifiers.keras_classification_model'['keras_classification_model'] at line 301: [loading weights from model.h5]\n",
      "2018-11-16 11:31:43.136 INFO in 'deeppavlov.models.classifiers.keras_classification_model'['keras_classification_model'] at line 135: Model was successfully initialized!\n",
      "Model summary:\n",
      "__________________________________________________________________________________________________\n",
      "Layer (type)                    Output Shape         Param #     Connected to                     \n",
      "==================================================================================================\n",
      "input_1 (InputLayer)            (None, 20, 1024)     0                                            \n",
      "__________________________________________________________________________________________________\n",
      "dropout_1 (Dropout)             (None, 20, 1024)     0           input_1[0][0]                    \n",
      "__________________________________________________________________________________________________\n",
      "bidirectional_1 (Bidirectional) [(None, 20, 512), (N 1967616     dropout_1[0][0]                  \n",
      "__________________________________________________________________________________________________\n",
      "global_max_pooling1d_1 (GlobalM (None, 512)          0           bidirectional_1[0][0]            \n",
      "__________________________________________________________________________________________________\n",
      "global_average_pooling1d_1 (Glo (None, 512)          0           bidirectional_1[0][0]            \n",
      "__________________________________________________________________________________________________\n",
      "concatenate_1 (Concatenate)     (None, 1536)         0           global_max_pooling1d_1[0][0]     \n",
      "                                                                 global_average_pooling1d_1[0][0] \n",
      "                                                                 bidirectional_1[0][1]            \n",
      "                                                                 bidirectional_1[0][2]            \n",
      "__________________________________________________________________________________________________\n",
      "dropout_2 (Dropout)             (None, 1536)         0           concatenate_1[0][0]              \n",
      "__________________________________________________________________________________________________\n",
      "dense_1 (Dense)                 (None, 100)          153700      dropout_2[0][0]                  \n",
      "__________________________________________________________________________________________________\n",
      "activation_1 (Activation)       (None, 100)          0           dense_1[0][0]                    \n",
      "__________________________________________________________________________________________________\n",
      "dropout_3 (Dropout)             (None, 100)          0           activation_1[0][0]               \n",
      "__________________________________________________________________________________________________\n",
      "dense_2 (Dense)                 (None, 2)            202         dropout_3[0][0]                  \n",
      "__________________________________________________________________________________________________\n",
      "activation_2 (Activation)       (None, 2)            0           dense_2[0][0]                    \n",
      "==================================================================================================\n",
      "Total params: 2,121,518\n",
      "Trainable params: 2,121,518\n",
      "Non-trainable params: 0\n",
      "__________________________________________________________________________________________________\n",
      "2018-11-16 11:31:43.138 INFO in 'deeppavlov.core.commands.train'['train'] at line 221: Testing the best saved model\n"
     ]
    },
    {
     "name": "stdout",
     "output_type": "stream",
     "text": [
      "{\"valid\": {\"eval_examples_count\": 403, \"metrics\": {\"roc_auc\": 0.9341, \"sets_accuracy\": 0.8586, \"f1_macro\": 0.8572}, \"time_spent\": \"0:00:07\"}}\n"
     ]
    },
    {
     "name": "stderr",
     "output_type": "stream",
     "text": [
      "2018-11-16 11:31:50.959 INFO in 'deeppavlov.core.data.simple_vocab'['simple_vocab'] at line 100: [loading vocabulary from /cephfs/home/dilyara.baymurzina/GitHub/reserve/DeepPavlov/download/YahooAnswers/models/model_v39/yahoo_answers_classes.dict]\n"
     ]
    },
    {
     "name": "stdout",
     "output_type": "stream",
     "text": [
      "{\"test\": {\"eval_examples_count\": 100, \"metrics\": {\"roc_auc\": 0.8964, \"sets_accuracy\": 0.8, \"f1_macro\": 0.7933}, \"time_spent\": \"0:00:02\"}}\n"
     ]
    },
    {
     "name": "stderr",
     "output_type": "stream",
     "text": [
      "2018-11-16 11:31:53.856 DEBUG in 'tensorflow'['tf_logging'] at line 100: Initialize variable module/aggregation/elmo_output_ELMo_W:0 from checkpoint b'/home/kuznetsov/models_env/yahoo-sber-questions_elmo/models/mod_from_git/hubs/yahooo-sber-questions_epoches_n_9/variables/variables' with aggregation/elmo_output_ELMo_W\n",
      "2018-11-16 11:31:53.862 DEBUG in 'tensorflow'['tf_logging'] at line 100: Initialize variable module/aggregation/elmo_output_ELMo_gamma:0 from checkpoint b'/home/kuznetsov/models_env/yahoo-sber-questions_elmo/models/mod_from_git/hubs/yahooo-sber-questions_epoches_n_9/variables/variables' with aggregation/elmo_output_ELMo_gamma\n",
      "2018-11-16 11:31:53.867 DEBUG in 'tensorflow'['tf_logging'] at line 100: Initialize variable module/bilm/CNN/W_cnn_0:0 from checkpoint b'/home/kuznetsov/models_env/yahoo-sber-questions_elmo/models/mod_from_git/hubs/yahooo-sber-questions_epoches_n_9/variables/variables' with bilm/CNN/W_cnn_0\n",
      "2018-11-16 11:31:53.872 DEBUG in 'tensorflow'['tf_logging'] at line 100: Initialize variable module/bilm/CNN/W_cnn_1:0 from checkpoint b'/home/kuznetsov/models_env/yahoo-sber-questions_elmo/models/mod_from_git/hubs/yahooo-sber-questions_epoches_n_9/variables/variables' with bilm/CNN/W_cnn_1\n",
      "2018-11-16 11:31:53.878 DEBUG in 'tensorflow'['tf_logging'] at line 100: Initialize variable module/bilm/CNN/W_cnn_2:0 from checkpoint b'/home/kuznetsov/models_env/yahoo-sber-questions_elmo/models/mod_from_git/hubs/yahooo-sber-questions_epoches_n_9/variables/variables' with bilm/CNN/W_cnn_2\n",
      "2018-11-16 11:31:53.883 DEBUG in 'tensorflow'['tf_logging'] at line 100: Initialize variable module/bilm/CNN/W_cnn_3:0 from checkpoint b'/home/kuznetsov/models_env/yahoo-sber-questions_elmo/models/mod_from_git/hubs/yahooo-sber-questions_epoches_n_9/variables/variables' with bilm/CNN/W_cnn_3\n",
      "2018-11-16 11:31:53.889 DEBUG in 'tensorflow'['tf_logging'] at line 100: Initialize variable module/bilm/CNN/W_cnn_4:0 from checkpoint b'/home/kuznetsov/models_env/yahoo-sber-questions_elmo/models/mod_from_git/hubs/yahooo-sber-questions_epoches_n_9/variables/variables' with bilm/CNN/W_cnn_4\n",
      "2018-11-16 11:31:53.894 DEBUG in 'tensorflow'['tf_logging'] at line 100: Initialize variable module/bilm/CNN/W_cnn_5:0 from checkpoint b'/home/kuznetsov/models_env/yahoo-sber-questions_elmo/models/mod_from_git/hubs/yahooo-sber-questions_epoches_n_9/variables/variables' with bilm/CNN/W_cnn_5\n",
      "2018-11-16 11:31:53.900 DEBUG in 'tensorflow'['tf_logging'] at line 100: Initialize variable module/bilm/CNN/W_cnn_6:0 from checkpoint b'/home/kuznetsov/models_env/yahoo-sber-questions_elmo/models/mod_from_git/hubs/yahooo-sber-questions_epoches_n_9/variables/variables' with bilm/CNN/W_cnn_6\n",
      "2018-11-16 11:31:53.905 DEBUG in 'tensorflow'['tf_logging'] at line 100: Initialize variable module/bilm/CNN/b_cnn_0:0 from checkpoint b'/home/kuznetsov/models_env/yahoo-sber-questions_elmo/models/mod_from_git/hubs/yahooo-sber-questions_epoches_n_9/variables/variables' with bilm/CNN/b_cnn_0\n",
      "2018-11-16 11:31:53.910 DEBUG in 'tensorflow'['tf_logging'] at line 100: Initialize variable module/bilm/CNN/b_cnn_1:0 from checkpoint b'/home/kuznetsov/models_env/yahoo-sber-questions_elmo/models/mod_from_git/hubs/yahooo-sber-questions_epoches_n_9/variables/variables' with bilm/CNN/b_cnn_1\n",
      "2018-11-16 11:31:53.915 DEBUG in 'tensorflow'['tf_logging'] at line 100: Initialize variable module/bilm/CNN/b_cnn_2:0 from checkpoint b'/home/kuznetsov/models_env/yahoo-sber-questions_elmo/models/mod_from_git/hubs/yahooo-sber-questions_epoches_n_9/variables/variables' with bilm/CNN/b_cnn_2\n",
      "2018-11-16 11:31:53.920 DEBUG in 'tensorflow'['tf_logging'] at line 100: Initialize variable module/bilm/CNN/b_cnn_3:0 from checkpoint b'/home/kuznetsov/models_env/yahoo-sber-questions_elmo/models/mod_from_git/hubs/yahooo-sber-questions_epoches_n_9/variables/variables' with bilm/CNN/b_cnn_3\n",
      "2018-11-16 11:31:53.926 DEBUG in 'tensorflow'['tf_logging'] at line 100: Initialize variable module/bilm/CNN/b_cnn_4:0 from checkpoint b'/home/kuznetsov/models_env/yahoo-sber-questions_elmo/models/mod_from_git/hubs/yahooo-sber-questions_epoches_n_9/variables/variables' with bilm/CNN/b_cnn_4\n",
      "2018-11-16 11:31:53.931 DEBUG in 'tensorflow'['tf_logging'] at line 100: Initialize variable module/bilm/CNN/b_cnn_5:0 from checkpoint b'/home/kuznetsov/models_env/yahoo-sber-questions_elmo/models/mod_from_git/hubs/yahooo-sber-questions_epoches_n_9/variables/variables' with bilm/CNN/b_cnn_5\n",
      "2018-11-16 11:31:53.936 DEBUG in 'tensorflow'['tf_logging'] at line 100: Initialize variable module/bilm/CNN/b_cnn_6:0 from checkpoint b'/home/kuznetsov/models_env/yahoo-sber-questions_elmo/models/mod_from_git/hubs/yahooo-sber-questions_epoches_n_9/variables/variables' with bilm/CNN/b_cnn_6\n",
      "2018-11-16 11:31:53.941 DEBUG in 'tensorflow'['tf_logging'] at line 100: Initialize variable module/bilm/CNN_high_0/W_carry:0 from checkpoint b'/home/kuznetsov/models_env/yahoo-sber-questions_elmo/models/mod_from_git/hubs/yahooo-sber-questions_epoches_n_9/variables/variables' with bilm/CNN_high_0/W_carry\n",
      "2018-11-16 11:31:53.947 DEBUG in 'tensorflow'['tf_logging'] at line 100: Initialize variable module/bilm/CNN_high_0/W_transform:0 from checkpoint b'/home/kuznetsov/models_env/yahoo-sber-questions_elmo/models/mod_from_git/hubs/yahooo-sber-questions_epoches_n_9/variables/variables' with bilm/CNN_high_0/W_transform\n",
      "2018-11-16 11:31:53.952 DEBUG in 'tensorflow'['tf_logging'] at line 100: Initialize variable module/bilm/CNN_high_0/b_carry:0 from checkpoint b'/home/kuznetsov/models_env/yahoo-sber-questions_elmo/models/mod_from_git/hubs/yahooo-sber-questions_epoches_n_9/variables/variables' with bilm/CNN_high_0/b_carry\n",
      "2018-11-16 11:31:53.957 DEBUG in 'tensorflow'['tf_logging'] at line 100: Initialize variable module/bilm/CNN_high_0/b_transform:0 from checkpoint b'/home/kuznetsov/models_env/yahoo-sber-questions_elmo/models/mod_from_git/hubs/yahooo-sber-questions_epoches_n_9/variables/variables' with bilm/CNN_high_0/b_transform\n",
      "2018-11-16 11:31:53.962 DEBUG in 'tensorflow'['tf_logging'] at line 100: Initialize variable module/bilm/CNN_high_1/W_carry:0 from checkpoint b'/home/kuznetsov/models_env/yahoo-sber-questions_elmo/models/mod_from_git/hubs/yahooo-sber-questions_epoches_n_9/variables/variables' with bilm/CNN_high_1/W_carry\n",
      "2018-11-16 11:31:53.968 DEBUG in 'tensorflow'['tf_logging'] at line 100: Initialize variable module/bilm/CNN_high_1/W_transform:0 from checkpoint b'/home/kuznetsov/models_env/yahoo-sber-questions_elmo/models/mod_from_git/hubs/yahooo-sber-questions_epoches_n_9/variables/variables' with bilm/CNN_high_1/W_transform\n",
      "2018-11-16 11:31:53.973 DEBUG in 'tensorflow'['tf_logging'] at line 100: Initialize variable module/bilm/CNN_high_1/b_carry:0 from checkpoint b'/home/kuznetsov/models_env/yahoo-sber-questions_elmo/models/mod_from_git/hubs/yahooo-sber-questions_epoches_n_9/variables/variables' with bilm/CNN_high_1/b_carry\n",
      "2018-11-16 11:31:53.978 DEBUG in 'tensorflow'['tf_logging'] at line 100: Initialize variable module/bilm/CNN_high_1/b_transform:0 from checkpoint b'/home/kuznetsov/models_env/yahoo-sber-questions_elmo/models/mod_from_git/hubs/yahooo-sber-questions_epoches_n_9/variables/variables' with bilm/CNN_high_1/b_transform\n",
      "2018-11-16 11:31:53.983 DEBUG in 'tensorflow'['tf_logging'] at line 100: Initialize variable module/bilm/CNN_proj/W_proj:0 from checkpoint b'/home/kuznetsov/models_env/yahoo-sber-questions_elmo/models/mod_from_git/hubs/yahooo-sber-questions_epoches_n_9/variables/variables' with bilm/CNN_proj/W_proj\n",
      "2018-11-16 11:31:53.988 DEBUG in 'tensorflow'['tf_logging'] at line 100: Initialize variable module/bilm/CNN_proj/b_proj:0 from checkpoint b'/home/kuznetsov/models_env/yahoo-sber-questions_elmo/models/mod_from_git/hubs/yahooo-sber-questions_epoches_n_9/variables/variables' with bilm/CNN_proj/b_proj\n",
      "2018-11-16 11:31:53.993 DEBUG in 'tensorflow'['tf_logging'] at line 100: Initialize variable module/bilm/RNN_0/RNN/MultiRNNCell/Cell0/rnn/lstm_cell/bias:0 from checkpoint b'/home/kuznetsov/models_env/yahoo-sber-questions_elmo/models/mod_from_git/hubs/yahooo-sber-questions_epoches_n_9/variables/variables' with bilm/RNN_0/RNN/MultiRNNCell/Cell0/rnn/lstm_cell/bias\n",
      "2018-11-16 11:31:53.998 DEBUG in 'tensorflow'['tf_logging'] at line 100: Initialize variable module/bilm/RNN_0/RNN/MultiRNNCell/Cell0/rnn/lstm_cell/kernel:0 from checkpoint b'/home/kuznetsov/models_env/yahoo-sber-questions_elmo/models/mod_from_git/hubs/yahooo-sber-questions_epoches_n_9/variables/variables' with bilm/RNN_0/RNN/MultiRNNCell/Cell0/rnn/lstm_cell/kernel\n"
     ]
    },
    {
     "name": "stderr",
     "output_type": "stream",
     "text": [
      "2018-11-16 11:31:54.3 DEBUG in 'tensorflow'['tf_logging'] at line 100: Initialize variable module/bilm/RNN_0/RNN/MultiRNNCell/Cell0/rnn/lstm_cell/projection/kernel:0 from checkpoint b'/home/kuznetsov/models_env/yahoo-sber-questions_elmo/models/mod_from_git/hubs/yahooo-sber-questions_epoches_n_9/variables/variables' with bilm/RNN_0/RNN/MultiRNNCell/Cell0/rnn/lstm_cell/projection/kernel\n",
      "2018-11-16 11:31:54.8 DEBUG in 'tensorflow'['tf_logging'] at line 100: Initialize variable module/bilm/RNN_0/RNN/MultiRNNCell/Cell1/rnn/lstm_cell/bias:0 from checkpoint b'/home/kuznetsov/models_env/yahoo-sber-questions_elmo/models/mod_from_git/hubs/yahooo-sber-questions_epoches_n_9/variables/variables' with bilm/RNN_0/RNN/MultiRNNCell/Cell1/rnn/lstm_cell/bias\n",
      "2018-11-16 11:31:54.14 DEBUG in 'tensorflow'['tf_logging'] at line 100: Initialize variable module/bilm/RNN_0/RNN/MultiRNNCell/Cell1/rnn/lstm_cell/kernel:0 from checkpoint b'/home/kuznetsov/models_env/yahoo-sber-questions_elmo/models/mod_from_git/hubs/yahooo-sber-questions_epoches_n_9/variables/variables' with bilm/RNN_0/RNN/MultiRNNCell/Cell1/rnn/lstm_cell/kernel\n",
      "2018-11-16 11:31:54.19 DEBUG in 'tensorflow'['tf_logging'] at line 100: Initialize variable module/bilm/RNN_0/RNN/MultiRNNCell/Cell1/rnn/lstm_cell/projection/kernel:0 from checkpoint b'/home/kuznetsov/models_env/yahoo-sber-questions_elmo/models/mod_from_git/hubs/yahooo-sber-questions_epoches_n_9/variables/variables' with bilm/RNN_0/RNN/MultiRNNCell/Cell1/rnn/lstm_cell/projection/kernel\n",
      "2018-11-16 11:31:54.25 DEBUG in 'tensorflow'['tf_logging'] at line 100: Initialize variable module/bilm/RNN_1/RNN/MultiRNNCell/Cell0/rnn/lstm_cell/bias:0 from checkpoint b'/home/kuznetsov/models_env/yahoo-sber-questions_elmo/models/mod_from_git/hubs/yahooo-sber-questions_epoches_n_9/variables/variables' with bilm/RNN_1/RNN/MultiRNNCell/Cell0/rnn/lstm_cell/bias\n",
      "2018-11-16 11:31:54.30 DEBUG in 'tensorflow'['tf_logging'] at line 100: Initialize variable module/bilm/RNN_1/RNN/MultiRNNCell/Cell0/rnn/lstm_cell/kernel:0 from checkpoint b'/home/kuznetsov/models_env/yahoo-sber-questions_elmo/models/mod_from_git/hubs/yahooo-sber-questions_epoches_n_9/variables/variables' with bilm/RNN_1/RNN/MultiRNNCell/Cell0/rnn/lstm_cell/kernel\n",
      "2018-11-16 11:31:54.36 DEBUG in 'tensorflow'['tf_logging'] at line 100: Initialize variable module/bilm/RNN_1/RNN/MultiRNNCell/Cell0/rnn/lstm_cell/projection/kernel:0 from checkpoint b'/home/kuznetsov/models_env/yahoo-sber-questions_elmo/models/mod_from_git/hubs/yahooo-sber-questions_epoches_n_9/variables/variables' with bilm/RNN_1/RNN/MultiRNNCell/Cell0/rnn/lstm_cell/projection/kernel\n",
      "2018-11-16 11:31:54.42 DEBUG in 'tensorflow'['tf_logging'] at line 100: Initialize variable module/bilm/RNN_1/RNN/MultiRNNCell/Cell1/rnn/lstm_cell/bias:0 from checkpoint b'/home/kuznetsov/models_env/yahoo-sber-questions_elmo/models/mod_from_git/hubs/yahooo-sber-questions_epoches_n_9/variables/variables' with bilm/RNN_1/RNN/MultiRNNCell/Cell1/rnn/lstm_cell/bias\n",
      "2018-11-16 11:31:54.47 DEBUG in 'tensorflow'['tf_logging'] at line 100: Initialize variable module/bilm/RNN_1/RNN/MultiRNNCell/Cell1/rnn/lstm_cell/kernel:0 from checkpoint b'/home/kuznetsov/models_env/yahoo-sber-questions_elmo/models/mod_from_git/hubs/yahooo-sber-questions_epoches_n_9/variables/variables' with bilm/RNN_1/RNN/MultiRNNCell/Cell1/rnn/lstm_cell/kernel\n",
      "2018-11-16 11:31:54.52 DEBUG in 'tensorflow'['tf_logging'] at line 100: Initialize variable module/bilm/RNN_1/RNN/MultiRNNCell/Cell1/rnn/lstm_cell/projection/kernel:0 from checkpoint b'/home/kuznetsov/models_env/yahoo-sber-questions_elmo/models/mod_from_git/hubs/yahooo-sber-questions_epoches_n_9/variables/variables' with bilm/RNN_1/RNN/MultiRNNCell/Cell1/rnn/lstm_cell/projection/kernel\n",
      "2018-11-16 11:31:54.58 DEBUG in 'tensorflow'['tf_logging'] at line 100: Initialize variable module/bilm/Variable:0 from checkpoint b'/home/kuznetsov/models_env/yahoo-sber-questions_elmo/models/mod_from_git/hubs/yahooo-sber-questions_epoches_n_9/variables/variables' with bilm/Variable\n",
      "2018-11-16 11:31:54.63 DEBUG in 'tensorflow'['tf_logging'] at line 100: Initialize variable module/bilm/Variable_1:0 from checkpoint b'/home/kuznetsov/models_env/yahoo-sber-questions_elmo/models/mod_from_git/hubs/yahooo-sber-questions_epoches_n_9/variables/variables' with bilm/Variable_1\n",
      "2018-11-16 11:31:54.69 DEBUG in 'tensorflow'['tf_logging'] at line 100: Initialize variable module/bilm/Variable_2:0 from checkpoint b'/home/kuznetsov/models_env/yahoo-sber-questions_elmo/models/mod_from_git/hubs/yahooo-sber-questions_epoches_n_9/variables/variables' with bilm/Variable_2\n",
      "2018-11-16 11:31:54.75 DEBUG in 'tensorflow'['tf_logging'] at line 100: Initialize variable module/bilm/Variable_3:0 from checkpoint b'/home/kuznetsov/models_env/yahoo-sber-questions_elmo/models/mod_from_git/hubs/yahooo-sber-questions_epoches_n_9/variables/variables' with bilm/Variable_3\n",
      "2018-11-16 11:31:54.81 DEBUG in 'tensorflow'['tf_logging'] at line 100: Initialize variable module/bilm/Variable_4:0 from checkpoint b'/home/kuznetsov/models_env/yahoo-sber-questions_elmo/models/mod_from_git/hubs/yahooo-sber-questions_epoches_n_9/variables/variables' with bilm/Variable_4\n",
      "2018-11-16 11:31:54.86 DEBUG in 'tensorflow'['tf_logging'] at line 100: Initialize variable module/bilm/Variable_5:0 from checkpoint b'/home/kuznetsov/models_env/yahoo-sber-questions_elmo/models/mod_from_git/hubs/yahooo-sber-questions_epoches_n_9/variables/variables' with bilm/Variable_5\n",
      "2018-11-16 11:31:54.92 DEBUG in 'tensorflow'['tf_logging'] at line 100: Initialize variable module/bilm/Variable_6:0 from checkpoint b'/home/kuznetsov/models_env/yahoo-sber-questions_elmo/models/mod_from_git/hubs/yahooo-sber-questions_epoches_n_9/variables/variables' with bilm/Variable_6\n",
      "2018-11-16 11:31:54.98 DEBUG in 'tensorflow'['tf_logging'] at line 100: Initialize variable module/bilm/Variable_7:0 from checkpoint b'/home/kuznetsov/models_env/yahoo-sber-questions_elmo/models/mod_from_git/hubs/yahooo-sber-questions_epoches_n_9/variables/variables' with bilm/Variable_7\n",
      "2018-11-16 11:31:54.103 DEBUG in 'tensorflow'['tf_logging'] at line 100: Initialize variable module/bilm/char_embed:0 from checkpoint b'/home/kuznetsov/models_env/yahoo-sber-questions_elmo/models/mod_from_git/hubs/yahooo-sber-questions_epoches_n_9/variables/variables' with bilm/char_embed\n",
      "2018-11-16 11:31:54.108 DEBUG in 'tensorflow'['tf_logging'] at line 100: Initialize variable module/bilm_1/Variable:0 from checkpoint b'/home/kuznetsov/models_env/yahoo-sber-questions_elmo/models/mod_from_git/hubs/yahooo-sber-questions_epoches_n_9/variables/variables' with bilm_1/Variable\n",
      "2018-11-16 11:31:54.114 DEBUG in 'tensorflow'['tf_logging'] at line 100: Initialize variable module/bilm_1/Variable_1:0 from checkpoint b'/home/kuznetsov/models_env/yahoo-sber-questions_elmo/models/mod_from_git/hubs/yahooo-sber-questions_epoches_n_9/variables/variables' with bilm_1/Variable_1\n",
      "2018-11-16 11:31:54.119 DEBUG in 'tensorflow'['tf_logging'] at line 100: Initialize variable module/bilm_1/Variable_2:0 from checkpoint b'/home/kuznetsov/models_env/yahoo-sber-questions_elmo/models/mod_from_git/hubs/yahooo-sber-questions_epoches_n_9/variables/variables' with bilm_1/Variable_2\n",
      "2018-11-16 11:31:54.125 DEBUG in 'tensorflow'['tf_logging'] at line 100: Initialize variable module/bilm_1/Variable_3:0 from checkpoint b'/home/kuznetsov/models_env/yahoo-sber-questions_elmo/models/mod_from_git/hubs/yahooo-sber-questions_epoches_n_9/variables/variables' with bilm_1/Variable_3\n",
      "2018-11-16 11:31:54.130 DEBUG in 'tensorflow'['tf_logging'] at line 100: Initialize variable module/bilm_1/Variable_4:0 from checkpoint b'/home/kuznetsov/models_env/yahoo-sber-questions_elmo/models/mod_from_git/hubs/yahooo-sber-questions_epoches_n_9/variables/variables' with bilm_1/Variable_4\n",
      "2018-11-16 11:31:54.136 DEBUG in 'tensorflow'['tf_logging'] at line 100: Initialize variable module/bilm_1/Variable_5:0 from checkpoint b'/home/kuznetsov/models_env/yahoo-sber-questions_elmo/models/mod_from_git/hubs/yahooo-sber-questions_epoches_n_9/variables/variables' with bilm_1/Variable_5\n",
      "2018-11-16 11:31:54.141 DEBUG in 'tensorflow'['tf_logging'] at line 100: Initialize variable module/bilm_1/Variable_6:0 from checkpoint b'/home/kuznetsov/models_env/yahoo-sber-questions_elmo/models/mod_from_git/hubs/yahooo-sber-questions_epoches_n_9/variables/variables' with bilm_1/Variable_6\n"
     ]
    },
    {
     "name": "stderr",
     "output_type": "stream",
     "text": [
      "2018-11-16 11:31:54.147 DEBUG in 'tensorflow'['tf_logging'] at line 100: Initialize variable module/bilm_1/Variable_7:0 from checkpoint b'/home/kuznetsov/models_env/yahoo-sber-questions_elmo/models/mod_from_git/hubs/yahooo-sber-questions_epoches_n_9/variables/variables' with bilm_1/Variable_7\n",
      "2018-11-16 11:31:55.513 INFO in 'tensorflow'['tf_logging'] at line 115: Saver not created because there are no variables in the graph to restore\n",
      "2018-11-16 11:31:55.956 INFO in 'deeppavlov.models.classifiers.keras_classification_model'['keras_classification_model'] at line 291: [initializing `KerasClassificationModel` from saved]\n",
      "2018-11-16 11:31:57.57 INFO in 'deeppavlov.models.classifiers.keras_classification_model'['keras_classification_model'] at line 301: [loading weights from model.h5]\n",
      "2018-11-16 11:31:57.218 INFO in 'deeppavlov.models.classifiers.keras_classification_model'['keras_classification_model'] at line 135: Model was successfully initialized!\n",
      "Model summary:\n",
      "__________________________________________________________________________________________________\n",
      "Layer (type)                    Output Shape         Param #     Connected to                     \n",
      "==================================================================================================\n",
      "input_1 (InputLayer)            (None, 20, 1024)     0                                            \n",
      "__________________________________________________________________________________________________\n",
      "dropout_1 (Dropout)             (None, 20, 1024)     0           input_1[0][0]                    \n",
      "__________________________________________________________________________________________________\n",
      "bidirectional_1 (Bidirectional) [(None, 20, 512), (N 1967616     dropout_1[0][0]                  \n",
      "__________________________________________________________________________________________________\n",
      "global_max_pooling1d_1 (GlobalM (None, 512)          0           bidirectional_1[0][0]            \n",
      "__________________________________________________________________________________________________\n",
      "global_average_pooling1d_1 (Glo (None, 512)          0           bidirectional_1[0][0]            \n",
      "__________________________________________________________________________________________________\n",
      "concatenate_1 (Concatenate)     (None, 1536)         0           global_max_pooling1d_1[0][0]     \n",
      "                                                                 global_average_pooling1d_1[0][0] \n",
      "                                                                 bidirectional_1[0][1]            \n",
      "                                                                 bidirectional_1[0][2]            \n",
      "__________________________________________________________________________________________________\n",
      "dropout_2 (Dropout)             (None, 1536)         0           concatenate_1[0][0]              \n",
      "__________________________________________________________________________________________________\n",
      "dense_1 (Dense)                 (None, 100)          153700      dropout_2[0][0]                  \n",
      "__________________________________________________________________________________________________\n",
      "activation_1 (Activation)       (None, 100)          0           dense_1[0][0]                    \n",
      "__________________________________________________________________________________________________\n",
      "dropout_3 (Dropout)             (None, 100)          0           activation_1[0][0]               \n",
      "__________________________________________________________________________________________________\n",
      "dense_2 (Dense)                 (None, 2)            202         dropout_3[0][0]                  \n",
      "__________________________________________________________________________________________________\n",
      "activation_2 (Activation)       (None, 2)            0           dense_2[0][0]                    \n",
      "==================================================================================================\n",
      "Total params: 2,121,518\n",
      "Trainable params: 2,121,518\n",
      "Non-trainable params: 0\n",
      "__________________________________________________________________________________________________\n",
      "2018-11-16 11:31:57.220 INFO in 'deeppavlov.core.data.simple_vocab'['simple_vocab'] at line 100: [loading vocabulary from /cephfs/home/dilyara.baymurzina/GitHub/reserve/DeepPavlov/download/YahooAnswers/models/model_v39/yahoo_answers_classes.dict]\n"
     ]
    },
    {
     "name": "stdout",
     "output_type": "stream",
     "text": [
      "Iteration 0: add 1163 samples to train dataset\n"
     ]
    },
    {
     "name": "stderr",
     "output_type": "stream",
     "text": [
      "2018-11-16 11:36:59.74 INFO in 'deeppavlov.core.data.simple_vocab'['simple_vocab'] at line 100: [loading vocabulary from /cephfs/home/dilyara.baymurzina/GitHub/reserve/DeepPavlov/download/YahooAnswers/models/model_v39/yahoo_answers_classes.dict]\n",
      "2018-11-16 11:36:59.87 INFO in 'deeppavlov.core.data.simple_vocab'['simple_vocab'] at line 89: [saving vocabulary to /cephfs/home/dilyara.baymurzina/GitHub/reserve/DeepPavlov/download/YahooAnswers/models/model_v39/yahoo_answers_classes.dict]\n",
      "2018-11-16 11:37:01.729 DEBUG in 'tensorflow'['tf_logging'] at line 100: Initialize variable module/aggregation/elmo_output_ELMo_W:0 from checkpoint b'/home/kuznetsov/models_env/yahoo-sber-questions_elmo/models/mod_from_git/hubs/yahooo-sber-questions_epoches_n_9/variables/variables' with aggregation/elmo_output_ELMo_W\n",
      "2018-11-16 11:37:01.735 DEBUG in 'tensorflow'['tf_logging'] at line 100: Initialize variable module/aggregation/elmo_output_ELMo_gamma:0 from checkpoint b'/home/kuznetsov/models_env/yahoo-sber-questions_elmo/models/mod_from_git/hubs/yahooo-sber-questions_epoches_n_9/variables/variables' with aggregation/elmo_output_ELMo_gamma\n",
      "2018-11-16 11:37:01.741 DEBUG in 'tensorflow'['tf_logging'] at line 100: Initialize variable module/bilm/CNN/W_cnn_0:0 from checkpoint b'/home/kuznetsov/models_env/yahoo-sber-questions_elmo/models/mod_from_git/hubs/yahooo-sber-questions_epoches_n_9/variables/variables' with bilm/CNN/W_cnn_0\n",
      "2018-11-16 11:37:01.747 DEBUG in 'tensorflow'['tf_logging'] at line 100: Initialize variable module/bilm/CNN/W_cnn_1:0 from checkpoint b'/home/kuznetsov/models_env/yahoo-sber-questions_elmo/models/mod_from_git/hubs/yahooo-sber-questions_epoches_n_9/variables/variables' with bilm/CNN/W_cnn_1\n",
      "2018-11-16 11:37:01.756 DEBUG in 'tensorflow'['tf_logging'] at line 100: Initialize variable module/bilm/CNN/W_cnn_2:0 from checkpoint b'/home/kuznetsov/models_env/yahoo-sber-questions_elmo/models/mod_from_git/hubs/yahooo-sber-questions_epoches_n_9/variables/variables' with bilm/CNN/W_cnn_2\n",
      "2018-11-16 11:37:01.765 DEBUG in 'tensorflow'['tf_logging'] at line 100: Initialize variable module/bilm/CNN/W_cnn_3:0 from checkpoint b'/home/kuznetsov/models_env/yahoo-sber-questions_elmo/models/mod_from_git/hubs/yahooo-sber-questions_epoches_n_9/variables/variables' with bilm/CNN/W_cnn_3\n",
      "2018-11-16 11:37:01.774 DEBUG in 'tensorflow'['tf_logging'] at line 100: Initialize variable module/bilm/CNN/W_cnn_4:0 from checkpoint b'/home/kuznetsov/models_env/yahoo-sber-questions_elmo/models/mod_from_git/hubs/yahooo-sber-questions_epoches_n_9/variables/variables' with bilm/CNN/W_cnn_4\n",
      "2018-11-16 11:37:01.784 DEBUG in 'tensorflow'['tf_logging'] at line 100: Initialize variable module/bilm/CNN/W_cnn_5:0 from checkpoint b'/home/kuznetsov/models_env/yahoo-sber-questions_elmo/models/mod_from_git/hubs/yahooo-sber-questions_epoches_n_9/variables/variables' with bilm/CNN/W_cnn_5\n",
      "2018-11-16 11:37:01.794 DEBUG in 'tensorflow'['tf_logging'] at line 100: Initialize variable module/bilm/CNN/W_cnn_6:0 from checkpoint b'/home/kuznetsov/models_env/yahoo-sber-questions_elmo/models/mod_from_git/hubs/yahooo-sber-questions_epoches_n_9/variables/variables' with bilm/CNN/W_cnn_6\n",
      "2018-11-16 11:37:01.803 DEBUG in 'tensorflow'['tf_logging'] at line 100: Initialize variable module/bilm/CNN/b_cnn_0:0 from checkpoint b'/home/kuznetsov/models_env/yahoo-sber-questions_elmo/models/mod_from_git/hubs/yahooo-sber-questions_epoches_n_9/variables/variables' with bilm/CNN/b_cnn_0\n",
      "2018-11-16 11:37:01.812 DEBUG in 'tensorflow'['tf_logging'] at line 100: Initialize variable module/bilm/CNN/b_cnn_1:0 from checkpoint b'/home/kuznetsov/models_env/yahoo-sber-questions_elmo/models/mod_from_git/hubs/yahooo-sber-questions_epoches_n_9/variables/variables' with bilm/CNN/b_cnn_1\n",
      "2018-11-16 11:37:01.821 DEBUG in 'tensorflow'['tf_logging'] at line 100: Initialize variable module/bilm/CNN/b_cnn_2:0 from checkpoint b'/home/kuznetsov/models_env/yahoo-sber-questions_elmo/models/mod_from_git/hubs/yahooo-sber-questions_epoches_n_9/variables/variables' with bilm/CNN/b_cnn_2\n",
      "2018-11-16 11:37:01.829 DEBUG in 'tensorflow'['tf_logging'] at line 100: Initialize variable module/bilm/CNN/b_cnn_3:0 from checkpoint b'/home/kuznetsov/models_env/yahoo-sber-questions_elmo/models/mod_from_git/hubs/yahooo-sber-questions_epoches_n_9/variables/variables' with bilm/CNN/b_cnn_3\n",
      "2018-11-16 11:37:01.837 DEBUG in 'tensorflow'['tf_logging'] at line 100: Initialize variable module/bilm/CNN/b_cnn_4:0 from checkpoint b'/home/kuznetsov/models_env/yahoo-sber-questions_elmo/models/mod_from_git/hubs/yahooo-sber-questions_epoches_n_9/variables/variables' with bilm/CNN/b_cnn_4\n",
      "2018-11-16 11:37:01.845 DEBUG in 'tensorflow'['tf_logging'] at line 100: Initialize variable module/bilm/CNN/b_cnn_5:0 from checkpoint b'/home/kuznetsov/models_env/yahoo-sber-questions_elmo/models/mod_from_git/hubs/yahooo-sber-questions_epoches_n_9/variables/variables' with bilm/CNN/b_cnn_5\n",
      "2018-11-16 11:37:01.853 DEBUG in 'tensorflow'['tf_logging'] at line 100: Initialize variable module/bilm/CNN/b_cnn_6:0 from checkpoint b'/home/kuznetsov/models_env/yahoo-sber-questions_elmo/models/mod_from_git/hubs/yahooo-sber-questions_epoches_n_9/variables/variables' with bilm/CNN/b_cnn_6\n",
      "2018-11-16 11:37:01.862 DEBUG in 'tensorflow'['tf_logging'] at line 100: Initialize variable module/bilm/CNN_high_0/W_carry:0 from checkpoint b'/home/kuznetsov/models_env/yahoo-sber-questions_elmo/models/mod_from_git/hubs/yahooo-sber-questions_epoches_n_9/variables/variables' with bilm/CNN_high_0/W_carry\n",
      "2018-11-16 11:37:01.869 DEBUG in 'tensorflow'['tf_logging'] at line 100: Initialize variable module/bilm/CNN_high_0/W_transform:0 from checkpoint b'/home/kuznetsov/models_env/yahoo-sber-questions_elmo/models/mod_from_git/hubs/yahooo-sber-questions_epoches_n_9/variables/variables' with bilm/CNN_high_0/W_transform\n",
      "2018-11-16 11:37:01.875 DEBUG in 'tensorflow'['tf_logging'] at line 100: Initialize variable module/bilm/CNN_high_0/b_carry:0 from checkpoint b'/home/kuznetsov/models_env/yahoo-sber-questions_elmo/models/mod_from_git/hubs/yahooo-sber-questions_epoches_n_9/variables/variables' with bilm/CNN_high_0/b_carry\n",
      "2018-11-16 11:37:01.881 DEBUG in 'tensorflow'['tf_logging'] at line 100: Initialize variable module/bilm/CNN_high_0/b_transform:0 from checkpoint b'/home/kuznetsov/models_env/yahoo-sber-questions_elmo/models/mod_from_git/hubs/yahooo-sber-questions_epoches_n_9/variables/variables' with bilm/CNN_high_0/b_transform\n",
      "2018-11-16 11:37:01.889 DEBUG in 'tensorflow'['tf_logging'] at line 100: Initialize variable module/bilm/CNN_high_1/W_carry:0 from checkpoint b'/home/kuznetsov/models_env/yahoo-sber-questions_elmo/models/mod_from_git/hubs/yahooo-sber-questions_epoches_n_9/variables/variables' with bilm/CNN_high_1/W_carry\n",
      "2018-11-16 11:37:01.895 DEBUG in 'tensorflow'['tf_logging'] at line 100: Initialize variable module/bilm/CNN_high_1/W_transform:0 from checkpoint b'/home/kuznetsov/models_env/yahoo-sber-questions_elmo/models/mod_from_git/hubs/yahooo-sber-questions_epoches_n_9/variables/variables' with bilm/CNN_high_1/W_transform\n",
      "2018-11-16 11:37:01.902 DEBUG in 'tensorflow'['tf_logging'] at line 100: Initialize variable module/bilm/CNN_high_1/b_carry:0 from checkpoint b'/home/kuznetsov/models_env/yahoo-sber-questions_elmo/models/mod_from_git/hubs/yahooo-sber-questions_epoches_n_9/variables/variables' with bilm/CNN_high_1/b_carry\n",
      "2018-11-16 11:37:01.908 DEBUG in 'tensorflow'['tf_logging'] at line 100: Initialize variable module/bilm/CNN_high_1/b_transform:0 from checkpoint b'/home/kuznetsov/models_env/yahoo-sber-questions_elmo/models/mod_from_git/hubs/yahooo-sber-questions_epoches_n_9/variables/variables' with bilm/CNN_high_1/b_transform\n",
      "2018-11-16 11:37:01.914 DEBUG in 'tensorflow'['tf_logging'] at line 100: Initialize variable module/bilm/CNN_proj/W_proj:0 from checkpoint b'/home/kuznetsov/models_env/yahoo-sber-questions_elmo/models/mod_from_git/hubs/yahooo-sber-questions_epoches_n_9/variables/variables' with bilm/CNN_proj/W_proj\n",
      "2018-11-16 11:37:01.921 DEBUG in 'tensorflow'['tf_logging'] at line 100: Initialize variable module/bilm/CNN_proj/b_proj:0 from checkpoint b'/home/kuznetsov/models_env/yahoo-sber-questions_elmo/models/mod_from_git/hubs/yahooo-sber-questions_epoches_n_9/variables/variables' with bilm/CNN_proj/b_proj\n"
     ]
    },
    {
     "name": "stderr",
     "output_type": "stream",
     "text": [
      "2018-11-16 11:37:01.927 DEBUG in 'tensorflow'['tf_logging'] at line 100: Initialize variable module/bilm/RNN_0/RNN/MultiRNNCell/Cell0/rnn/lstm_cell/bias:0 from checkpoint b'/home/kuznetsov/models_env/yahoo-sber-questions_elmo/models/mod_from_git/hubs/yahooo-sber-questions_epoches_n_9/variables/variables' with bilm/RNN_0/RNN/MultiRNNCell/Cell0/rnn/lstm_cell/bias\n",
      "2018-11-16 11:37:01.933 DEBUG in 'tensorflow'['tf_logging'] at line 100: Initialize variable module/bilm/RNN_0/RNN/MultiRNNCell/Cell0/rnn/lstm_cell/kernel:0 from checkpoint b'/home/kuznetsov/models_env/yahoo-sber-questions_elmo/models/mod_from_git/hubs/yahooo-sber-questions_epoches_n_9/variables/variables' with bilm/RNN_0/RNN/MultiRNNCell/Cell0/rnn/lstm_cell/kernel\n",
      "2018-11-16 11:37:01.939 DEBUG in 'tensorflow'['tf_logging'] at line 100: Initialize variable module/bilm/RNN_0/RNN/MultiRNNCell/Cell0/rnn/lstm_cell/projection/kernel:0 from checkpoint b'/home/kuznetsov/models_env/yahoo-sber-questions_elmo/models/mod_from_git/hubs/yahooo-sber-questions_epoches_n_9/variables/variables' with bilm/RNN_0/RNN/MultiRNNCell/Cell0/rnn/lstm_cell/projection/kernel\n",
      "2018-11-16 11:37:01.945 DEBUG in 'tensorflow'['tf_logging'] at line 100: Initialize variable module/bilm/RNN_0/RNN/MultiRNNCell/Cell1/rnn/lstm_cell/bias:0 from checkpoint b'/home/kuznetsov/models_env/yahoo-sber-questions_elmo/models/mod_from_git/hubs/yahooo-sber-questions_epoches_n_9/variables/variables' with bilm/RNN_0/RNN/MultiRNNCell/Cell1/rnn/lstm_cell/bias\n",
      "2018-11-16 11:37:01.951 DEBUG in 'tensorflow'['tf_logging'] at line 100: Initialize variable module/bilm/RNN_0/RNN/MultiRNNCell/Cell1/rnn/lstm_cell/kernel:0 from checkpoint b'/home/kuznetsov/models_env/yahoo-sber-questions_elmo/models/mod_from_git/hubs/yahooo-sber-questions_epoches_n_9/variables/variables' with bilm/RNN_0/RNN/MultiRNNCell/Cell1/rnn/lstm_cell/kernel\n",
      "2018-11-16 11:37:01.956 DEBUG in 'tensorflow'['tf_logging'] at line 100: Initialize variable module/bilm/RNN_0/RNN/MultiRNNCell/Cell1/rnn/lstm_cell/projection/kernel:0 from checkpoint b'/home/kuznetsov/models_env/yahoo-sber-questions_elmo/models/mod_from_git/hubs/yahooo-sber-questions_epoches_n_9/variables/variables' with bilm/RNN_0/RNN/MultiRNNCell/Cell1/rnn/lstm_cell/projection/kernel\n",
      "2018-11-16 11:37:01.963 DEBUG in 'tensorflow'['tf_logging'] at line 100: Initialize variable module/bilm/RNN_1/RNN/MultiRNNCell/Cell0/rnn/lstm_cell/bias:0 from checkpoint b'/home/kuznetsov/models_env/yahoo-sber-questions_elmo/models/mod_from_git/hubs/yahooo-sber-questions_epoches_n_9/variables/variables' with bilm/RNN_1/RNN/MultiRNNCell/Cell0/rnn/lstm_cell/bias\n",
      "2018-11-16 11:37:01.969 DEBUG in 'tensorflow'['tf_logging'] at line 100: Initialize variable module/bilm/RNN_1/RNN/MultiRNNCell/Cell0/rnn/lstm_cell/kernel:0 from checkpoint b'/home/kuznetsov/models_env/yahoo-sber-questions_elmo/models/mod_from_git/hubs/yahooo-sber-questions_epoches_n_9/variables/variables' with bilm/RNN_1/RNN/MultiRNNCell/Cell0/rnn/lstm_cell/kernel\n",
      "2018-11-16 11:37:01.975 DEBUG in 'tensorflow'['tf_logging'] at line 100: Initialize variable module/bilm/RNN_1/RNN/MultiRNNCell/Cell0/rnn/lstm_cell/projection/kernel:0 from checkpoint b'/home/kuznetsov/models_env/yahoo-sber-questions_elmo/models/mod_from_git/hubs/yahooo-sber-questions_epoches_n_9/variables/variables' with bilm/RNN_1/RNN/MultiRNNCell/Cell0/rnn/lstm_cell/projection/kernel\n",
      "2018-11-16 11:37:01.982 DEBUG in 'tensorflow'['tf_logging'] at line 100: Initialize variable module/bilm/RNN_1/RNN/MultiRNNCell/Cell1/rnn/lstm_cell/bias:0 from checkpoint b'/home/kuznetsov/models_env/yahoo-sber-questions_elmo/models/mod_from_git/hubs/yahooo-sber-questions_epoches_n_9/variables/variables' with bilm/RNN_1/RNN/MultiRNNCell/Cell1/rnn/lstm_cell/bias\n",
      "2018-11-16 11:37:01.988 DEBUG in 'tensorflow'['tf_logging'] at line 100: Initialize variable module/bilm/RNN_1/RNN/MultiRNNCell/Cell1/rnn/lstm_cell/kernel:0 from checkpoint b'/home/kuznetsov/models_env/yahoo-sber-questions_elmo/models/mod_from_git/hubs/yahooo-sber-questions_epoches_n_9/variables/variables' with bilm/RNN_1/RNN/MultiRNNCell/Cell1/rnn/lstm_cell/kernel\n",
      "2018-11-16 11:37:01.997 DEBUG in 'tensorflow'['tf_logging'] at line 100: Initialize variable module/bilm/RNN_1/RNN/MultiRNNCell/Cell1/rnn/lstm_cell/projection/kernel:0 from checkpoint b'/home/kuznetsov/models_env/yahoo-sber-questions_elmo/models/mod_from_git/hubs/yahooo-sber-questions_epoches_n_9/variables/variables' with bilm/RNN_1/RNN/MultiRNNCell/Cell1/rnn/lstm_cell/projection/kernel\n",
      "2018-11-16 11:37:02.7 DEBUG in 'tensorflow'['tf_logging'] at line 100: Initialize variable module/bilm/Variable:0 from checkpoint b'/home/kuznetsov/models_env/yahoo-sber-questions_elmo/models/mod_from_git/hubs/yahooo-sber-questions_epoches_n_9/variables/variables' with bilm/Variable\n",
      "2018-11-16 11:37:02.19 DEBUG in 'tensorflow'['tf_logging'] at line 100: Initialize variable module/bilm/Variable_1:0 from checkpoint b'/home/kuznetsov/models_env/yahoo-sber-questions_elmo/models/mod_from_git/hubs/yahooo-sber-questions_epoches_n_9/variables/variables' with bilm/Variable_1\n",
      "2018-11-16 11:37:02.28 DEBUG in 'tensorflow'['tf_logging'] at line 100: Initialize variable module/bilm/Variable_2:0 from checkpoint b'/home/kuznetsov/models_env/yahoo-sber-questions_elmo/models/mod_from_git/hubs/yahooo-sber-questions_epoches_n_9/variables/variables' with bilm/Variable_2\n",
      "2018-11-16 11:37:02.38 DEBUG in 'tensorflow'['tf_logging'] at line 100: Initialize variable module/bilm/Variable_3:0 from checkpoint b'/home/kuznetsov/models_env/yahoo-sber-questions_elmo/models/mod_from_git/hubs/yahooo-sber-questions_epoches_n_9/variables/variables' with bilm/Variable_3\n",
      "2018-11-16 11:37:02.48 DEBUG in 'tensorflow'['tf_logging'] at line 100: Initialize variable module/bilm/Variable_4:0 from checkpoint b'/home/kuznetsov/models_env/yahoo-sber-questions_elmo/models/mod_from_git/hubs/yahooo-sber-questions_epoches_n_9/variables/variables' with bilm/Variable_4\n",
      "2018-11-16 11:37:02.58 DEBUG in 'tensorflow'['tf_logging'] at line 100: Initialize variable module/bilm/Variable_5:0 from checkpoint b'/home/kuznetsov/models_env/yahoo-sber-questions_elmo/models/mod_from_git/hubs/yahooo-sber-questions_epoches_n_9/variables/variables' with bilm/Variable_5\n",
      "2018-11-16 11:37:02.67 DEBUG in 'tensorflow'['tf_logging'] at line 100: Initialize variable module/bilm/Variable_6:0 from checkpoint b'/home/kuznetsov/models_env/yahoo-sber-questions_elmo/models/mod_from_git/hubs/yahooo-sber-questions_epoches_n_9/variables/variables' with bilm/Variable_6\n",
      "2018-11-16 11:37:02.77 DEBUG in 'tensorflow'['tf_logging'] at line 100: Initialize variable module/bilm/Variable_7:0 from checkpoint b'/home/kuznetsov/models_env/yahoo-sber-questions_elmo/models/mod_from_git/hubs/yahooo-sber-questions_epoches_n_9/variables/variables' with bilm/Variable_7\n",
      "2018-11-16 11:37:02.86 DEBUG in 'tensorflow'['tf_logging'] at line 100: Initialize variable module/bilm/char_embed:0 from checkpoint b'/home/kuznetsov/models_env/yahoo-sber-questions_elmo/models/mod_from_git/hubs/yahooo-sber-questions_epoches_n_9/variables/variables' with bilm/char_embed\n",
      "2018-11-16 11:37:02.96 DEBUG in 'tensorflow'['tf_logging'] at line 100: Initialize variable module/bilm_1/Variable:0 from checkpoint b'/home/kuznetsov/models_env/yahoo-sber-questions_elmo/models/mod_from_git/hubs/yahooo-sber-questions_epoches_n_9/variables/variables' with bilm_1/Variable\n",
      "2018-11-16 11:37:02.108 DEBUG in 'tensorflow'['tf_logging'] at line 100: Initialize variable module/bilm_1/Variable_1:0 from checkpoint b'/home/kuznetsov/models_env/yahoo-sber-questions_elmo/models/mod_from_git/hubs/yahooo-sber-questions_epoches_n_9/variables/variables' with bilm_1/Variable_1\n",
      "2018-11-16 11:37:02.117 DEBUG in 'tensorflow'['tf_logging'] at line 100: Initialize variable module/bilm_1/Variable_2:0 from checkpoint b'/home/kuznetsov/models_env/yahoo-sber-questions_elmo/models/mod_from_git/hubs/yahooo-sber-questions_epoches_n_9/variables/variables' with bilm_1/Variable_2\n",
      "2018-11-16 11:37:02.127 DEBUG in 'tensorflow'['tf_logging'] at line 100: Initialize variable module/bilm_1/Variable_3:0 from checkpoint b'/home/kuznetsov/models_env/yahoo-sber-questions_elmo/models/mod_from_git/hubs/yahooo-sber-questions_epoches_n_9/variables/variables' with bilm_1/Variable_3\n"
     ]
    },
    {
     "name": "stderr",
     "output_type": "stream",
     "text": [
      "2018-11-16 11:37:02.136 DEBUG in 'tensorflow'['tf_logging'] at line 100: Initialize variable module/bilm_1/Variable_4:0 from checkpoint b'/home/kuznetsov/models_env/yahoo-sber-questions_elmo/models/mod_from_git/hubs/yahooo-sber-questions_epoches_n_9/variables/variables' with bilm_1/Variable_4\n",
      "2018-11-16 11:37:02.145 DEBUG in 'tensorflow'['tf_logging'] at line 100: Initialize variable module/bilm_1/Variable_5:0 from checkpoint b'/home/kuznetsov/models_env/yahoo-sber-questions_elmo/models/mod_from_git/hubs/yahooo-sber-questions_epoches_n_9/variables/variables' with bilm_1/Variable_5\n",
      "2018-11-16 11:37:02.155 DEBUG in 'tensorflow'['tf_logging'] at line 100: Initialize variable module/bilm_1/Variable_6:0 from checkpoint b'/home/kuznetsov/models_env/yahoo-sber-questions_elmo/models/mod_from_git/hubs/yahooo-sber-questions_epoches_n_9/variables/variables' with bilm_1/Variable_6\n",
      "2018-11-16 11:37:02.164 DEBUG in 'tensorflow'['tf_logging'] at line 100: Initialize variable module/bilm_1/Variable_7:0 from checkpoint b'/home/kuznetsov/models_env/yahoo-sber-questions_elmo/models/mod_from_git/hubs/yahooo-sber-questions_epoches_n_9/variables/variables' with bilm_1/Variable_7\n",
      "2018-11-16 11:37:05.314 INFO in 'tensorflow'['tf_logging'] at line 115: Saver not created because there are no variables in the graph to restore\n",
      "2018-11-16 11:37:05.865 INFO in 'deeppavlov.models.classifiers.keras_classification_model'['keras_classification_model'] at line 291: [initializing `KerasClassificationModel` from saved]\n",
      "2018-11-16 11:37:07.604 INFO in 'deeppavlov.models.classifiers.keras_classification_model'['keras_classification_model'] at line 301: [loading weights from model.h5]\n",
      "2018-11-16 11:37:07.867 INFO in 'deeppavlov.models.classifiers.keras_classification_model'['keras_classification_model'] at line 135: Model was successfully initialized!\n",
      "Model summary:\n",
      "__________________________________________________________________________________________________\n",
      "Layer (type)                    Output Shape         Param #     Connected to                     \n",
      "==================================================================================================\n",
      "input_1 (InputLayer)            (None, 20, 1024)     0                                            \n",
      "__________________________________________________________________________________________________\n",
      "dropout_1 (Dropout)             (None, 20, 1024)     0           input_1[0][0]                    \n",
      "__________________________________________________________________________________________________\n",
      "bidirectional_1 (Bidirectional) [(None, 20, 512), (N 1967616     dropout_1[0][0]                  \n",
      "__________________________________________________________________________________________________\n",
      "global_max_pooling1d_1 (GlobalM (None, 512)          0           bidirectional_1[0][0]            \n",
      "__________________________________________________________________________________________________\n",
      "global_average_pooling1d_1 (Glo (None, 512)          0           bidirectional_1[0][0]            \n",
      "__________________________________________________________________________________________________\n",
      "concatenate_1 (Concatenate)     (None, 1536)         0           global_max_pooling1d_1[0][0]     \n",
      "                                                                 global_average_pooling1d_1[0][0] \n",
      "                                                                 bidirectional_1[0][1]            \n",
      "                                                                 bidirectional_1[0][2]            \n",
      "__________________________________________________________________________________________________\n",
      "dropout_2 (Dropout)             (None, 1536)         0           concatenate_1[0][0]              \n",
      "__________________________________________________________________________________________________\n",
      "dense_1 (Dense)                 (None, 100)          153700      dropout_2[0][0]                  \n",
      "__________________________________________________________________________________________________\n",
      "activation_1 (Activation)       (None, 100)          0           dense_1[0][0]                    \n",
      "__________________________________________________________________________________________________\n",
      "dropout_3 (Dropout)             (None, 100)          0           activation_1[0][0]               \n",
      "__________________________________________________________________________________________________\n",
      "dense_2 (Dense)                 (None, 2)            202         dropout_3[0][0]                  \n",
      "__________________________________________________________________________________________________\n",
      "activation_2 (Activation)       (None, 2)            0           dense_2[0][0]                    \n",
      "==================================================================================================\n",
      "Total params: 2,121,518\n",
      "Trainable params: 2,121,518\n",
      "Non-trainable params: 0\n",
      "__________________________________________________________________________________________________\n",
      "2018-11-16 11:37:14.601 INFO in 'deeppavlov.core.commands.train'['train'] at line 360: New best roc_auc of 0.9341\n",
      "2018-11-16 11:37:14.602 INFO in 'deeppavlov.core.commands.train'['train'] at line 362: Saving model\n",
      "2018-11-16 11:37:14.603 INFO in 'deeppavlov.models.classifiers.keras_classification_model'['keras_classification_model'] at line 375: [saving model to /cephfs/home/dilyara.baymurzina/GitHub/reserve/DeepPavlov/download/YahooAnswers/models/model_v39/model_opt.json]\n"
     ]
    },
    {
     "name": "stdout",
     "output_type": "stream",
     "text": [
      "{\"valid\": {\"eval_examples_count\": 403, \"metrics\": {\"roc_auc\": 0.9341, \"sets_accuracy\": 0.8586, \"f1_macro\": 0.8572}, \"time_spent\": \"0:00:07\", \"epochs_done\": 0, \"batches_seen\": 0, \"train_examples_seen\": 0, \"impatience\": 0, \"patience_limit\": 5}}\n",
      "{\"train\": {\"epochs_done\": 1, \"batches_seen\": 5, \"train_examples_seen\": 4776, \"metrics\": {\"roc_auc\": 0.956, \"sets_accuracy\": 0.8897, \"f1_macro\": 0.8869}, \"time_spent\": \"0:03:46\", \"loss\": 0.4954363346099854}}\n"
     ]
    },
    {
     "name": "stderr",
     "output_type": "stream",
     "text": [
      "2018-11-16 11:40:59.114 INFO in 'deeppavlov.core.commands.train'['train'] at line 525: Did not improve on the roc_auc of 0.9341\n"
     ]
    },
    {
     "name": "stdout",
     "output_type": "stream",
     "text": [
      "{\"valid\": {\"eval_examples_count\": 403, \"metrics\": {\"roc_auc\": 0.9225, \"sets_accuracy\": 0.8337, \"f1_macro\": 0.8324}, \"time_spent\": \"0:03:52\", \"epochs_done\": 1, \"batches_seen\": 5, \"train_examples_seen\": 4776, \"impatience\": 1, \"patience_limit\": 5}}\n",
      "{\"train\": {\"epochs_done\": 2, \"batches_seen\": 10, \"train_examples_seen\": 9552, \"metrics\": {\"roc_auc\": 0.9752, \"sets_accuracy\": 0.9121, \"f1_macro\": 0.9111}, \"time_spent\": \"0:07:18\", \"loss\": 0.4409255743026733}}\n"
     ]
    },
    {
     "name": "stderr",
     "output_type": "stream",
     "text": [
      "2018-11-16 11:44:30.767 INFO in 'deeppavlov.core.commands.train'['train'] at line 525: Did not improve on the roc_auc of 0.9341\n"
     ]
    },
    {
     "name": "stdout",
     "output_type": "stream",
     "text": [
      "{\"valid\": {\"eval_examples_count\": 403, \"metrics\": {\"roc_auc\": 0.9285, \"sets_accuracy\": 0.8412, \"f1_macro\": 0.8355}, \"time_spent\": \"0:07:23\", \"epochs_done\": 2, \"batches_seen\": 10, \"train_examples_seen\": 9552, \"impatience\": 2, \"patience_limit\": 5}}\n",
      "{\"train\": {\"epochs_done\": 3, \"batches_seen\": 15, \"train_examples_seen\": 14328, \"metrics\": {\"roc_auc\": 0.9775, \"sets_accuracy\": 0.916, \"f1_macro\": 0.914}, \"time_spent\": \"0:10:53\", \"loss\": 0.3835549592971802}}\n"
     ]
    },
    {
     "name": "stderr",
     "output_type": "stream",
     "text": [
      "2018-11-16 11:48:06.342 INFO in 'deeppavlov.core.commands.train'['train'] at line 525: Did not improve on the roc_auc of 0.9341\n"
     ]
    },
    {
     "name": "stdout",
     "output_type": "stream",
     "text": [
      "{\"valid\": {\"eval_examples_count\": 403, \"metrics\": {\"roc_auc\": 0.926, \"sets_accuracy\": 0.8412, \"f1_macro\": 0.8394}, \"time_spent\": \"0:10:59\", \"epochs_done\": 3, \"batches_seen\": 15, \"train_examples_seen\": 14328, \"impatience\": 3, \"patience_limit\": 5}}\n",
      "{\"train\": {\"epochs_done\": 4, \"batches_seen\": 20, \"train_examples_seen\": 19104, \"metrics\": {\"roc_auc\": 0.9787, \"sets_accuracy\": 0.9202, \"f1_macro\": 0.9185}, \"time_spent\": \"0:14:38\", \"loss\": 0.3598339319229126}}\n"
     ]
    },
    {
     "name": "stderr",
     "output_type": "stream",
     "text": [
      "2018-11-16 11:51:51.372 INFO in 'deeppavlov.core.commands.train'['train'] at line 525: Did not improve on the roc_auc of 0.9341\n"
     ]
    },
    {
     "name": "stdout",
     "output_type": "stream",
     "text": [
      "{\"valid\": {\"eval_examples_count\": 403, \"metrics\": {\"roc_auc\": 0.9268, \"sets_accuracy\": 0.8536, \"f1_macro\": 0.8532}, \"time_spent\": \"0:14:44\", \"epochs_done\": 4, \"batches_seen\": 20, \"train_examples_seen\": 19104, \"impatience\": 4, \"patience_limit\": 5}}\n",
      "{\"train\": {\"epochs_done\": 5, \"batches_seen\": 25, \"train_examples_seen\": 23880, \"metrics\": {\"roc_auc\": 0.9789, \"sets_accuracy\": 0.9186, \"f1_macro\": 0.9174}, \"time_spent\": \"0:18:21\", \"loss\": 0.36242241859436036}}\n"
     ]
    },
    {
     "name": "stderr",
     "output_type": "stream",
     "text": [
      "2018-11-16 11:55:33.598 INFO in 'deeppavlov.core.commands.train'['train'] at line 525: Did not improve on the roc_auc of 0.9341\n",
      "2018-11-16 11:55:33.599 INFO in 'deeppavlov.core.commands.train'['train'] at line 536: Ran out of patience\n",
      "2018-11-16 11:55:33.603 INFO in 'deeppavlov.core.data.simple_vocab'['simple_vocab'] at line 100: [loading vocabulary from /cephfs/home/dilyara.baymurzina/GitHub/reserve/DeepPavlov/download/YahooAnswers/models/model_v39/yahoo_answers_classes.dict]\n"
     ]
    },
    {
     "name": "stdout",
     "output_type": "stream",
     "text": [
      "{\"valid\": {\"eval_examples_count\": 403, \"metrics\": {\"roc_auc\": 0.9256, \"sets_accuracy\": 0.8313, \"f1_macro\": 0.8255}, \"time_spent\": \"0:18:26\", \"epochs_done\": 5, \"batches_seen\": 25, \"train_examples_seen\": 23880, \"impatience\": 5, \"patience_limit\": 5}}\n"
     ]
    },
    {
     "name": "stderr",
     "output_type": "stream",
     "text": [
      "2018-11-16 11:55:37.291 DEBUG in 'tensorflow'['tf_logging'] at line 100: Initialize variable module/aggregation/elmo_output_ELMo_W:0 from checkpoint b'/home/kuznetsov/models_env/yahoo-sber-questions_elmo/models/mod_from_git/hubs/yahooo-sber-questions_epoches_n_9/variables/variables' with aggregation/elmo_output_ELMo_W\n",
      "2018-11-16 11:55:37.298 DEBUG in 'tensorflow'['tf_logging'] at line 100: Initialize variable module/aggregation/elmo_output_ELMo_gamma:0 from checkpoint b'/home/kuznetsov/models_env/yahoo-sber-questions_elmo/models/mod_from_git/hubs/yahooo-sber-questions_epoches_n_9/variables/variables' with aggregation/elmo_output_ELMo_gamma\n",
      "2018-11-16 11:55:37.305 DEBUG in 'tensorflow'['tf_logging'] at line 100: Initialize variable module/bilm/CNN/W_cnn_0:0 from checkpoint b'/home/kuznetsov/models_env/yahoo-sber-questions_elmo/models/mod_from_git/hubs/yahooo-sber-questions_epoches_n_9/variables/variables' with bilm/CNN/W_cnn_0\n",
      "2018-11-16 11:55:37.311 DEBUG in 'tensorflow'['tf_logging'] at line 100: Initialize variable module/bilm/CNN/W_cnn_1:0 from checkpoint b'/home/kuznetsov/models_env/yahoo-sber-questions_elmo/models/mod_from_git/hubs/yahooo-sber-questions_epoches_n_9/variables/variables' with bilm/CNN/W_cnn_1\n",
      "2018-11-16 11:55:37.317 DEBUG in 'tensorflow'['tf_logging'] at line 100: Initialize variable module/bilm/CNN/W_cnn_2:0 from checkpoint b'/home/kuznetsov/models_env/yahoo-sber-questions_elmo/models/mod_from_git/hubs/yahooo-sber-questions_epoches_n_9/variables/variables' with bilm/CNN/W_cnn_2\n",
      "2018-11-16 11:55:37.323 DEBUG in 'tensorflow'['tf_logging'] at line 100: Initialize variable module/bilm/CNN/W_cnn_3:0 from checkpoint b'/home/kuznetsov/models_env/yahoo-sber-questions_elmo/models/mod_from_git/hubs/yahooo-sber-questions_epoches_n_9/variables/variables' with bilm/CNN/W_cnn_3\n",
      "2018-11-16 11:55:37.329 DEBUG in 'tensorflow'['tf_logging'] at line 100: Initialize variable module/bilm/CNN/W_cnn_4:0 from checkpoint b'/home/kuznetsov/models_env/yahoo-sber-questions_elmo/models/mod_from_git/hubs/yahooo-sber-questions_epoches_n_9/variables/variables' with bilm/CNN/W_cnn_4\n",
      "2018-11-16 11:55:37.335 DEBUG in 'tensorflow'['tf_logging'] at line 100: Initialize variable module/bilm/CNN/W_cnn_5:0 from checkpoint b'/home/kuznetsov/models_env/yahoo-sber-questions_elmo/models/mod_from_git/hubs/yahooo-sber-questions_epoches_n_9/variables/variables' with bilm/CNN/W_cnn_5\n",
      "2018-11-16 11:55:37.342 DEBUG in 'tensorflow'['tf_logging'] at line 100: Initialize variable module/bilm/CNN/W_cnn_6:0 from checkpoint b'/home/kuznetsov/models_env/yahoo-sber-questions_elmo/models/mod_from_git/hubs/yahooo-sber-questions_epoches_n_9/variables/variables' with bilm/CNN/W_cnn_6\n",
      "2018-11-16 11:55:37.348 DEBUG in 'tensorflow'['tf_logging'] at line 100: Initialize variable module/bilm/CNN/b_cnn_0:0 from checkpoint b'/home/kuznetsov/models_env/yahoo-sber-questions_elmo/models/mod_from_git/hubs/yahooo-sber-questions_epoches_n_9/variables/variables' with bilm/CNN/b_cnn_0\n",
      "2018-11-16 11:55:37.353 DEBUG in 'tensorflow'['tf_logging'] at line 100: Initialize variable module/bilm/CNN/b_cnn_1:0 from checkpoint b'/home/kuznetsov/models_env/yahoo-sber-questions_elmo/models/mod_from_git/hubs/yahooo-sber-questions_epoches_n_9/variables/variables' with bilm/CNN/b_cnn_1\n",
      "2018-11-16 11:55:37.360 DEBUG in 'tensorflow'['tf_logging'] at line 100: Initialize variable module/bilm/CNN/b_cnn_2:0 from checkpoint b'/home/kuznetsov/models_env/yahoo-sber-questions_elmo/models/mod_from_git/hubs/yahooo-sber-questions_epoches_n_9/variables/variables' with bilm/CNN/b_cnn_2\n",
      "2018-11-16 11:55:37.370 DEBUG in 'tensorflow'['tf_logging'] at line 100: Initialize variable module/bilm/CNN/b_cnn_3:0 from checkpoint b'/home/kuznetsov/models_env/yahoo-sber-questions_elmo/models/mod_from_git/hubs/yahooo-sber-questions_epoches_n_9/variables/variables' with bilm/CNN/b_cnn_3\n",
      "2018-11-16 11:55:37.380 DEBUG in 'tensorflow'['tf_logging'] at line 100: Initialize variable module/bilm/CNN/b_cnn_4:0 from checkpoint b'/home/kuznetsov/models_env/yahoo-sber-questions_elmo/models/mod_from_git/hubs/yahooo-sber-questions_epoches_n_9/variables/variables' with bilm/CNN/b_cnn_4\n",
      "2018-11-16 11:55:37.388 DEBUG in 'tensorflow'['tf_logging'] at line 100: Initialize variable module/bilm/CNN/b_cnn_5:0 from checkpoint b'/home/kuznetsov/models_env/yahoo-sber-questions_elmo/models/mod_from_git/hubs/yahooo-sber-questions_epoches_n_9/variables/variables' with bilm/CNN/b_cnn_5\n",
      "2018-11-16 11:55:37.396 DEBUG in 'tensorflow'['tf_logging'] at line 100: Initialize variable module/bilm/CNN/b_cnn_6:0 from checkpoint b'/home/kuznetsov/models_env/yahoo-sber-questions_elmo/models/mod_from_git/hubs/yahooo-sber-questions_epoches_n_9/variables/variables' with bilm/CNN/b_cnn_6\n",
      "2018-11-16 11:55:37.406 DEBUG in 'tensorflow'['tf_logging'] at line 100: Initialize variable module/bilm/CNN_high_0/W_carry:0 from checkpoint b'/home/kuznetsov/models_env/yahoo-sber-questions_elmo/models/mod_from_git/hubs/yahooo-sber-questions_epoches_n_9/variables/variables' with bilm/CNN_high_0/W_carry\n",
      "2018-11-16 11:55:37.416 DEBUG in 'tensorflow'['tf_logging'] at line 100: Initialize variable module/bilm/CNN_high_0/W_transform:0 from checkpoint b'/home/kuznetsov/models_env/yahoo-sber-questions_elmo/models/mod_from_git/hubs/yahooo-sber-questions_epoches_n_9/variables/variables' with bilm/CNN_high_0/W_transform\n",
      "2018-11-16 11:55:37.426 DEBUG in 'tensorflow'['tf_logging'] at line 100: Initialize variable module/bilm/CNN_high_0/b_carry:0 from checkpoint b'/home/kuznetsov/models_env/yahoo-sber-questions_elmo/models/mod_from_git/hubs/yahooo-sber-questions_epoches_n_9/variables/variables' with bilm/CNN_high_0/b_carry\n",
      "2018-11-16 11:55:37.435 DEBUG in 'tensorflow'['tf_logging'] at line 100: Initialize variable module/bilm/CNN_high_0/b_transform:0 from checkpoint b'/home/kuznetsov/models_env/yahoo-sber-questions_elmo/models/mod_from_git/hubs/yahooo-sber-questions_epoches_n_9/variables/variables' with bilm/CNN_high_0/b_transform\n",
      "2018-11-16 11:55:37.444 DEBUG in 'tensorflow'['tf_logging'] at line 100: Initialize variable module/bilm/CNN_high_1/W_carry:0 from checkpoint b'/home/kuznetsov/models_env/yahoo-sber-questions_elmo/models/mod_from_git/hubs/yahooo-sber-questions_epoches_n_9/variables/variables' with bilm/CNN_high_1/W_carry\n",
      "2018-11-16 11:55:37.452 DEBUG in 'tensorflow'['tf_logging'] at line 100: Initialize variable module/bilm/CNN_high_1/W_transform:0 from checkpoint b'/home/kuznetsov/models_env/yahoo-sber-questions_elmo/models/mod_from_git/hubs/yahooo-sber-questions_epoches_n_9/variables/variables' with bilm/CNN_high_1/W_transform\n",
      "2018-11-16 11:55:37.462 DEBUG in 'tensorflow'['tf_logging'] at line 100: Initialize variable module/bilm/CNN_high_1/b_carry:0 from checkpoint b'/home/kuznetsov/models_env/yahoo-sber-questions_elmo/models/mod_from_git/hubs/yahooo-sber-questions_epoches_n_9/variables/variables' with bilm/CNN_high_1/b_carry\n",
      "2018-11-16 11:55:37.473 DEBUG in 'tensorflow'['tf_logging'] at line 100: Initialize variable module/bilm/CNN_high_1/b_transform:0 from checkpoint b'/home/kuznetsov/models_env/yahoo-sber-questions_elmo/models/mod_from_git/hubs/yahooo-sber-questions_epoches_n_9/variables/variables' with bilm/CNN_high_1/b_transform\n",
      "2018-11-16 11:55:37.483 DEBUG in 'tensorflow'['tf_logging'] at line 100: Initialize variable module/bilm/CNN_proj/W_proj:0 from checkpoint b'/home/kuznetsov/models_env/yahoo-sber-questions_elmo/models/mod_from_git/hubs/yahooo-sber-questions_epoches_n_9/variables/variables' with bilm/CNN_proj/W_proj\n",
      "2018-11-16 11:55:37.492 DEBUG in 'tensorflow'['tf_logging'] at line 100: Initialize variable module/bilm/CNN_proj/b_proj:0 from checkpoint b'/home/kuznetsov/models_env/yahoo-sber-questions_elmo/models/mod_from_git/hubs/yahooo-sber-questions_epoches_n_9/variables/variables' with bilm/CNN_proj/b_proj\n",
      "2018-11-16 11:55:37.501 DEBUG in 'tensorflow'['tf_logging'] at line 100: Initialize variable module/bilm/RNN_0/RNN/MultiRNNCell/Cell0/rnn/lstm_cell/bias:0 from checkpoint b'/home/kuznetsov/models_env/yahoo-sber-questions_elmo/models/mod_from_git/hubs/yahooo-sber-questions_epoches_n_9/variables/variables' with bilm/RNN_0/RNN/MultiRNNCell/Cell0/rnn/lstm_cell/bias\n",
      "2018-11-16 11:55:37.508 DEBUG in 'tensorflow'['tf_logging'] at line 100: Initialize variable module/bilm/RNN_0/RNN/MultiRNNCell/Cell0/rnn/lstm_cell/kernel:0 from checkpoint b'/home/kuznetsov/models_env/yahoo-sber-questions_elmo/models/mod_from_git/hubs/yahooo-sber-questions_epoches_n_9/variables/variables' with bilm/RNN_0/RNN/MultiRNNCell/Cell0/rnn/lstm_cell/kernel\n"
     ]
    },
    {
     "name": "stderr",
     "output_type": "stream",
     "text": [
      "2018-11-16 11:55:37.514 DEBUG in 'tensorflow'['tf_logging'] at line 100: Initialize variable module/bilm/RNN_0/RNN/MultiRNNCell/Cell0/rnn/lstm_cell/projection/kernel:0 from checkpoint b'/home/kuznetsov/models_env/yahoo-sber-questions_elmo/models/mod_from_git/hubs/yahooo-sber-questions_epoches_n_9/variables/variables' with bilm/RNN_0/RNN/MultiRNNCell/Cell0/rnn/lstm_cell/projection/kernel\n",
      "2018-11-16 11:55:37.520 DEBUG in 'tensorflow'['tf_logging'] at line 100: Initialize variable module/bilm/RNN_0/RNN/MultiRNNCell/Cell1/rnn/lstm_cell/bias:0 from checkpoint b'/home/kuznetsov/models_env/yahoo-sber-questions_elmo/models/mod_from_git/hubs/yahooo-sber-questions_epoches_n_9/variables/variables' with bilm/RNN_0/RNN/MultiRNNCell/Cell1/rnn/lstm_cell/bias\n",
      "2018-11-16 11:55:37.528 DEBUG in 'tensorflow'['tf_logging'] at line 100: Initialize variable module/bilm/RNN_0/RNN/MultiRNNCell/Cell1/rnn/lstm_cell/kernel:0 from checkpoint b'/home/kuznetsov/models_env/yahoo-sber-questions_elmo/models/mod_from_git/hubs/yahooo-sber-questions_epoches_n_9/variables/variables' with bilm/RNN_0/RNN/MultiRNNCell/Cell1/rnn/lstm_cell/kernel\n",
      "2018-11-16 11:55:37.534 DEBUG in 'tensorflow'['tf_logging'] at line 100: Initialize variable module/bilm/RNN_0/RNN/MultiRNNCell/Cell1/rnn/lstm_cell/projection/kernel:0 from checkpoint b'/home/kuznetsov/models_env/yahoo-sber-questions_elmo/models/mod_from_git/hubs/yahooo-sber-questions_epoches_n_9/variables/variables' with bilm/RNN_0/RNN/MultiRNNCell/Cell1/rnn/lstm_cell/projection/kernel\n",
      "2018-11-16 11:55:37.540 DEBUG in 'tensorflow'['tf_logging'] at line 100: Initialize variable module/bilm/RNN_1/RNN/MultiRNNCell/Cell0/rnn/lstm_cell/bias:0 from checkpoint b'/home/kuznetsov/models_env/yahoo-sber-questions_elmo/models/mod_from_git/hubs/yahooo-sber-questions_epoches_n_9/variables/variables' with bilm/RNN_1/RNN/MultiRNNCell/Cell0/rnn/lstm_cell/bias\n",
      "2018-11-16 11:55:37.547 DEBUG in 'tensorflow'['tf_logging'] at line 100: Initialize variable module/bilm/RNN_1/RNN/MultiRNNCell/Cell0/rnn/lstm_cell/kernel:0 from checkpoint b'/home/kuznetsov/models_env/yahoo-sber-questions_elmo/models/mod_from_git/hubs/yahooo-sber-questions_epoches_n_9/variables/variables' with bilm/RNN_1/RNN/MultiRNNCell/Cell0/rnn/lstm_cell/kernel\n",
      "2018-11-16 11:55:37.553 DEBUG in 'tensorflow'['tf_logging'] at line 100: Initialize variable module/bilm/RNN_1/RNN/MultiRNNCell/Cell0/rnn/lstm_cell/projection/kernel:0 from checkpoint b'/home/kuznetsov/models_env/yahoo-sber-questions_elmo/models/mod_from_git/hubs/yahooo-sber-questions_epoches_n_9/variables/variables' with bilm/RNN_1/RNN/MultiRNNCell/Cell0/rnn/lstm_cell/projection/kernel\n",
      "2018-11-16 11:55:37.561 DEBUG in 'tensorflow'['tf_logging'] at line 100: Initialize variable module/bilm/RNN_1/RNN/MultiRNNCell/Cell1/rnn/lstm_cell/bias:0 from checkpoint b'/home/kuznetsov/models_env/yahoo-sber-questions_elmo/models/mod_from_git/hubs/yahooo-sber-questions_epoches_n_9/variables/variables' with bilm/RNN_1/RNN/MultiRNNCell/Cell1/rnn/lstm_cell/bias\n",
      "2018-11-16 11:55:37.569 DEBUG in 'tensorflow'['tf_logging'] at line 100: Initialize variable module/bilm/RNN_1/RNN/MultiRNNCell/Cell1/rnn/lstm_cell/kernel:0 from checkpoint b'/home/kuznetsov/models_env/yahoo-sber-questions_elmo/models/mod_from_git/hubs/yahooo-sber-questions_epoches_n_9/variables/variables' with bilm/RNN_1/RNN/MultiRNNCell/Cell1/rnn/lstm_cell/kernel\n",
      "2018-11-16 11:55:37.577 DEBUG in 'tensorflow'['tf_logging'] at line 100: Initialize variable module/bilm/RNN_1/RNN/MultiRNNCell/Cell1/rnn/lstm_cell/projection/kernel:0 from checkpoint b'/home/kuznetsov/models_env/yahoo-sber-questions_elmo/models/mod_from_git/hubs/yahooo-sber-questions_epoches_n_9/variables/variables' with bilm/RNN_1/RNN/MultiRNNCell/Cell1/rnn/lstm_cell/projection/kernel\n",
      "2018-11-16 11:55:37.586 DEBUG in 'tensorflow'['tf_logging'] at line 100: Initialize variable module/bilm/Variable:0 from checkpoint b'/home/kuznetsov/models_env/yahoo-sber-questions_elmo/models/mod_from_git/hubs/yahooo-sber-questions_epoches_n_9/variables/variables' with bilm/Variable\n",
      "2018-11-16 11:55:37.596 DEBUG in 'tensorflow'['tf_logging'] at line 100: Initialize variable module/bilm/Variable_1:0 from checkpoint b'/home/kuznetsov/models_env/yahoo-sber-questions_elmo/models/mod_from_git/hubs/yahooo-sber-questions_epoches_n_9/variables/variables' with bilm/Variable_1\n",
      "2018-11-16 11:55:37.606 DEBUG in 'tensorflow'['tf_logging'] at line 100: Initialize variable module/bilm/Variable_2:0 from checkpoint b'/home/kuznetsov/models_env/yahoo-sber-questions_elmo/models/mod_from_git/hubs/yahooo-sber-questions_epoches_n_9/variables/variables' with bilm/Variable_2\n",
      "2018-11-16 11:55:37.617 DEBUG in 'tensorflow'['tf_logging'] at line 100: Initialize variable module/bilm/Variable_3:0 from checkpoint b'/home/kuznetsov/models_env/yahoo-sber-questions_elmo/models/mod_from_git/hubs/yahooo-sber-questions_epoches_n_9/variables/variables' with bilm/Variable_3\n",
      "2018-11-16 11:55:37.626 DEBUG in 'tensorflow'['tf_logging'] at line 100: Initialize variable module/bilm/Variable_4:0 from checkpoint b'/home/kuznetsov/models_env/yahoo-sber-questions_elmo/models/mod_from_git/hubs/yahooo-sber-questions_epoches_n_9/variables/variables' with bilm/Variable_4\n",
      "2018-11-16 11:55:37.635 DEBUG in 'tensorflow'['tf_logging'] at line 100: Initialize variable module/bilm/Variable_5:0 from checkpoint b'/home/kuznetsov/models_env/yahoo-sber-questions_elmo/models/mod_from_git/hubs/yahooo-sber-questions_epoches_n_9/variables/variables' with bilm/Variable_5\n",
      "2018-11-16 11:55:37.642 DEBUG in 'tensorflow'['tf_logging'] at line 100: Initialize variable module/bilm/Variable_6:0 from checkpoint b'/home/kuznetsov/models_env/yahoo-sber-questions_elmo/models/mod_from_git/hubs/yahooo-sber-questions_epoches_n_9/variables/variables' with bilm/Variable_6\n",
      "2018-11-16 11:55:37.649 DEBUG in 'tensorflow'['tf_logging'] at line 100: Initialize variable module/bilm/Variable_7:0 from checkpoint b'/home/kuznetsov/models_env/yahoo-sber-questions_elmo/models/mod_from_git/hubs/yahooo-sber-questions_epoches_n_9/variables/variables' with bilm/Variable_7\n",
      "2018-11-16 11:55:37.656 DEBUG in 'tensorflow'['tf_logging'] at line 100: Initialize variable module/bilm/char_embed:0 from checkpoint b'/home/kuznetsov/models_env/yahoo-sber-questions_elmo/models/mod_from_git/hubs/yahooo-sber-questions_epoches_n_9/variables/variables' with bilm/char_embed\n",
      "2018-11-16 11:55:37.665 DEBUG in 'tensorflow'['tf_logging'] at line 100: Initialize variable module/bilm_1/Variable:0 from checkpoint b'/home/kuznetsov/models_env/yahoo-sber-questions_elmo/models/mod_from_git/hubs/yahooo-sber-questions_epoches_n_9/variables/variables' with bilm_1/Variable\n",
      "2018-11-16 11:55:37.675 DEBUG in 'tensorflow'['tf_logging'] at line 100: Initialize variable module/bilm_1/Variable_1:0 from checkpoint b'/home/kuznetsov/models_env/yahoo-sber-questions_elmo/models/mod_from_git/hubs/yahooo-sber-questions_epoches_n_9/variables/variables' with bilm_1/Variable_1\n",
      "2018-11-16 11:55:37.685 DEBUG in 'tensorflow'['tf_logging'] at line 100: Initialize variable module/bilm_1/Variable_2:0 from checkpoint b'/home/kuznetsov/models_env/yahoo-sber-questions_elmo/models/mod_from_git/hubs/yahooo-sber-questions_epoches_n_9/variables/variables' with bilm_1/Variable_2\n",
      "2018-11-16 11:55:37.694 DEBUG in 'tensorflow'['tf_logging'] at line 100: Initialize variable module/bilm_1/Variable_3:0 from checkpoint b'/home/kuznetsov/models_env/yahoo-sber-questions_elmo/models/mod_from_git/hubs/yahooo-sber-questions_epoches_n_9/variables/variables' with bilm_1/Variable_3\n",
      "2018-11-16 11:55:37.704 DEBUG in 'tensorflow'['tf_logging'] at line 100: Initialize variable module/bilm_1/Variable_4:0 from checkpoint b'/home/kuznetsov/models_env/yahoo-sber-questions_elmo/models/mod_from_git/hubs/yahooo-sber-questions_epoches_n_9/variables/variables' with bilm_1/Variable_4\n",
      "2018-11-16 11:55:37.714 DEBUG in 'tensorflow'['tf_logging'] at line 100: Initialize variable module/bilm_1/Variable_5:0 from checkpoint b'/home/kuznetsov/models_env/yahoo-sber-questions_elmo/models/mod_from_git/hubs/yahooo-sber-questions_epoches_n_9/variables/variables' with bilm_1/Variable_5\n",
      "2018-11-16 11:55:37.724 DEBUG in 'tensorflow'['tf_logging'] at line 100: Initialize variable module/bilm_1/Variable_6:0 from checkpoint b'/home/kuznetsov/models_env/yahoo-sber-questions_elmo/models/mod_from_git/hubs/yahooo-sber-questions_epoches_n_9/variables/variables' with bilm_1/Variable_6\n"
     ]
    },
    {
     "name": "stderr",
     "output_type": "stream",
     "text": [
      "2018-11-16 11:55:37.734 DEBUG in 'tensorflow'['tf_logging'] at line 100: Initialize variable module/bilm_1/Variable_7:0 from checkpoint b'/home/kuznetsov/models_env/yahoo-sber-questions_elmo/models/mod_from_git/hubs/yahooo-sber-questions_epoches_n_9/variables/variables' with bilm_1/Variable_7\n",
      "2018-11-16 11:55:39.491 INFO in 'tensorflow'['tf_logging'] at line 115: Saver not created because there are no variables in the graph to restore\n",
      "2018-11-16 11:55:41.31 INFO in 'deeppavlov.models.classifiers.keras_classification_model'['keras_classification_model'] at line 291: [initializing `KerasClassificationModel` from saved]\n",
      "2018-11-16 11:55:42.942 INFO in 'deeppavlov.models.classifiers.keras_classification_model'['keras_classification_model'] at line 301: [loading weights from model.h5]\n",
      "2018-11-16 11:55:43.140 INFO in 'deeppavlov.models.classifiers.keras_classification_model'['keras_classification_model'] at line 135: Model was successfully initialized!\n",
      "Model summary:\n",
      "__________________________________________________________________________________________________\n",
      "Layer (type)                    Output Shape         Param #     Connected to                     \n",
      "==================================================================================================\n",
      "input_1 (InputLayer)            (None, 20, 1024)     0                                            \n",
      "__________________________________________________________________________________________________\n",
      "dropout_1 (Dropout)             (None, 20, 1024)     0           input_1[0][0]                    \n",
      "__________________________________________________________________________________________________\n",
      "bidirectional_1 (Bidirectional) [(None, 20, 512), (N 1967616     dropout_1[0][0]                  \n",
      "__________________________________________________________________________________________________\n",
      "global_max_pooling1d_1 (GlobalM (None, 512)          0           bidirectional_1[0][0]            \n",
      "__________________________________________________________________________________________________\n",
      "global_average_pooling1d_1 (Glo (None, 512)          0           bidirectional_1[0][0]            \n",
      "__________________________________________________________________________________________________\n",
      "concatenate_1 (Concatenate)     (None, 1536)         0           global_max_pooling1d_1[0][0]     \n",
      "                                                                 global_average_pooling1d_1[0][0] \n",
      "                                                                 bidirectional_1[0][1]            \n",
      "                                                                 bidirectional_1[0][2]            \n",
      "__________________________________________________________________________________________________\n",
      "dropout_2 (Dropout)             (None, 1536)         0           concatenate_1[0][0]              \n",
      "__________________________________________________________________________________________________\n",
      "dense_1 (Dense)                 (None, 100)          153700      dropout_2[0][0]                  \n",
      "__________________________________________________________________________________________________\n",
      "activation_1 (Activation)       (None, 100)          0           dense_1[0][0]                    \n",
      "__________________________________________________________________________________________________\n",
      "dropout_3 (Dropout)             (None, 100)          0           activation_1[0][0]               \n",
      "__________________________________________________________________________________________________\n",
      "dense_2 (Dense)                 (None, 2)            202         dropout_3[0][0]                  \n",
      "__________________________________________________________________________________________________\n",
      "activation_2 (Activation)       (None, 2)            0           dense_2[0][0]                    \n",
      "==================================================================================================\n",
      "Total params: 2,121,518\n",
      "Trainable params: 2,121,518\n",
      "Non-trainable params: 0\n",
      "__________________________________________________________________________________________________\n",
      "2018-11-16 11:55:43.141 INFO in 'deeppavlov.core.commands.train'['train'] at line 221: Testing the best saved model\n"
     ]
    },
    {
     "name": "stdout",
     "output_type": "stream",
     "text": [
      "{\"valid\": {\"eval_examples_count\": 403, \"metrics\": {\"roc_auc\": 0.9341, \"sets_accuracy\": 0.8586, \"f1_macro\": 0.8572}, \"time_spent\": \"0:00:08\"}}\n"
     ]
    },
    {
     "name": "stderr",
     "output_type": "stream",
     "text": [
      "2018-11-16 11:55:51.382 INFO in 'deeppavlov.core.data.simple_vocab'['simple_vocab'] at line 100: [loading vocabulary from /cephfs/home/dilyara.baymurzina/GitHub/reserve/DeepPavlov/download/YahooAnswers/models/model_v39/yahoo_answers_classes.dict]\n"
     ]
    },
    {
     "name": "stdout",
     "output_type": "stream",
     "text": [
      "{\"test\": {\"eval_examples_count\": 100, \"metrics\": {\"roc_auc\": 0.8964, \"sets_accuracy\": 0.8, \"f1_macro\": 0.7933}, \"time_spent\": \"0:00:02\"}}\n"
     ]
    },
    {
     "name": "stderr",
     "output_type": "stream",
     "text": [
      "2018-11-16 11:55:54.12 DEBUG in 'tensorflow'['tf_logging'] at line 100: Initialize variable module/aggregation/elmo_output_ELMo_W:0 from checkpoint b'/home/kuznetsov/models_env/yahoo-sber-questions_elmo/models/mod_from_git/hubs/yahooo-sber-questions_epoches_n_9/variables/variables' with aggregation/elmo_output_ELMo_W\n",
      "2018-11-16 11:55:54.18 DEBUG in 'tensorflow'['tf_logging'] at line 100: Initialize variable module/aggregation/elmo_output_ELMo_gamma:0 from checkpoint b'/home/kuznetsov/models_env/yahoo-sber-questions_elmo/models/mod_from_git/hubs/yahooo-sber-questions_epoches_n_9/variables/variables' with aggregation/elmo_output_ELMo_gamma\n",
      "2018-11-16 11:55:54.24 DEBUG in 'tensorflow'['tf_logging'] at line 100: Initialize variable module/bilm/CNN/W_cnn_0:0 from checkpoint b'/home/kuznetsov/models_env/yahoo-sber-questions_elmo/models/mod_from_git/hubs/yahooo-sber-questions_epoches_n_9/variables/variables' with bilm/CNN/W_cnn_0\n",
      "2018-11-16 11:55:54.31 DEBUG in 'tensorflow'['tf_logging'] at line 100: Initialize variable module/bilm/CNN/W_cnn_1:0 from checkpoint b'/home/kuznetsov/models_env/yahoo-sber-questions_elmo/models/mod_from_git/hubs/yahooo-sber-questions_epoches_n_9/variables/variables' with bilm/CNN/W_cnn_1\n",
      "2018-11-16 11:55:54.42 DEBUG in 'tensorflow'['tf_logging'] at line 100: Initialize variable module/bilm/CNN/W_cnn_2:0 from checkpoint b'/home/kuznetsov/models_env/yahoo-sber-questions_elmo/models/mod_from_git/hubs/yahooo-sber-questions_epoches_n_9/variables/variables' with bilm/CNN/W_cnn_2\n",
      "2018-11-16 11:55:54.52 DEBUG in 'tensorflow'['tf_logging'] at line 100: Initialize variable module/bilm/CNN/W_cnn_3:0 from checkpoint b'/home/kuznetsov/models_env/yahoo-sber-questions_elmo/models/mod_from_git/hubs/yahooo-sber-questions_epoches_n_9/variables/variables' with bilm/CNN/W_cnn_3\n",
      "2018-11-16 11:55:54.58 DEBUG in 'tensorflow'['tf_logging'] at line 100: Initialize variable module/bilm/CNN/W_cnn_4:0 from checkpoint b'/home/kuznetsov/models_env/yahoo-sber-questions_elmo/models/mod_from_git/hubs/yahooo-sber-questions_epoches_n_9/variables/variables' with bilm/CNN/W_cnn_4\n",
      "2018-11-16 11:55:54.64 DEBUG in 'tensorflow'['tf_logging'] at line 100: Initialize variable module/bilm/CNN/W_cnn_5:0 from checkpoint b'/home/kuznetsov/models_env/yahoo-sber-questions_elmo/models/mod_from_git/hubs/yahooo-sber-questions_epoches_n_9/variables/variables' with bilm/CNN/W_cnn_5\n",
      "2018-11-16 11:55:54.72 DEBUG in 'tensorflow'['tf_logging'] at line 100: Initialize variable module/bilm/CNN/W_cnn_6:0 from checkpoint b'/home/kuznetsov/models_env/yahoo-sber-questions_elmo/models/mod_from_git/hubs/yahooo-sber-questions_epoches_n_9/variables/variables' with bilm/CNN/W_cnn_6\n",
      "2018-11-16 11:55:54.82 DEBUG in 'tensorflow'['tf_logging'] at line 100: Initialize variable module/bilm/CNN/b_cnn_0:0 from checkpoint b'/home/kuznetsov/models_env/yahoo-sber-questions_elmo/models/mod_from_git/hubs/yahooo-sber-questions_epoches_n_9/variables/variables' with bilm/CNN/b_cnn_0\n",
      "2018-11-16 11:55:54.95 DEBUG in 'tensorflow'['tf_logging'] at line 100: Initialize variable module/bilm/CNN/b_cnn_1:0 from checkpoint b'/home/kuznetsov/models_env/yahoo-sber-questions_elmo/models/mod_from_git/hubs/yahooo-sber-questions_epoches_n_9/variables/variables' with bilm/CNN/b_cnn_1\n",
      "2018-11-16 11:55:54.104 DEBUG in 'tensorflow'['tf_logging'] at line 100: Initialize variable module/bilm/CNN/b_cnn_2:0 from checkpoint b'/home/kuznetsov/models_env/yahoo-sber-questions_elmo/models/mod_from_git/hubs/yahooo-sber-questions_epoches_n_9/variables/variables' with bilm/CNN/b_cnn_2\n",
      "2018-11-16 11:55:54.114 DEBUG in 'tensorflow'['tf_logging'] at line 100: Initialize variable module/bilm/CNN/b_cnn_3:0 from checkpoint b'/home/kuznetsov/models_env/yahoo-sber-questions_elmo/models/mod_from_git/hubs/yahooo-sber-questions_epoches_n_9/variables/variables' with bilm/CNN/b_cnn_3\n",
      "2018-11-16 11:55:54.123 DEBUG in 'tensorflow'['tf_logging'] at line 100: Initialize variable module/bilm/CNN/b_cnn_4:0 from checkpoint b'/home/kuznetsov/models_env/yahoo-sber-questions_elmo/models/mod_from_git/hubs/yahooo-sber-questions_epoches_n_9/variables/variables' with bilm/CNN/b_cnn_4\n",
      "2018-11-16 11:55:54.133 DEBUG in 'tensorflow'['tf_logging'] at line 100: Initialize variable module/bilm/CNN/b_cnn_5:0 from checkpoint b'/home/kuznetsov/models_env/yahoo-sber-questions_elmo/models/mod_from_git/hubs/yahooo-sber-questions_epoches_n_9/variables/variables' with bilm/CNN/b_cnn_5\n",
      "2018-11-16 11:55:54.142 DEBUG in 'tensorflow'['tf_logging'] at line 100: Initialize variable module/bilm/CNN/b_cnn_6:0 from checkpoint b'/home/kuznetsov/models_env/yahoo-sber-questions_elmo/models/mod_from_git/hubs/yahooo-sber-questions_epoches_n_9/variables/variables' with bilm/CNN/b_cnn_6\n",
      "2018-11-16 11:55:54.153 DEBUG in 'tensorflow'['tf_logging'] at line 100: Initialize variable module/bilm/CNN_high_0/W_carry:0 from checkpoint b'/home/kuznetsov/models_env/yahoo-sber-questions_elmo/models/mod_from_git/hubs/yahooo-sber-questions_epoches_n_9/variables/variables' with bilm/CNN_high_0/W_carry\n",
      "2018-11-16 11:55:54.163 DEBUG in 'tensorflow'['tf_logging'] at line 100: Initialize variable module/bilm/CNN_high_0/W_transform:0 from checkpoint b'/home/kuznetsov/models_env/yahoo-sber-questions_elmo/models/mod_from_git/hubs/yahooo-sber-questions_epoches_n_9/variables/variables' with bilm/CNN_high_0/W_transform\n",
      "2018-11-16 11:55:54.172 DEBUG in 'tensorflow'['tf_logging'] at line 100: Initialize variable module/bilm/CNN_high_0/b_carry:0 from checkpoint b'/home/kuznetsov/models_env/yahoo-sber-questions_elmo/models/mod_from_git/hubs/yahooo-sber-questions_epoches_n_9/variables/variables' with bilm/CNN_high_0/b_carry\n",
      "2018-11-16 11:55:54.180 DEBUG in 'tensorflow'['tf_logging'] at line 100: Initialize variable module/bilm/CNN_high_0/b_transform:0 from checkpoint b'/home/kuznetsov/models_env/yahoo-sber-questions_elmo/models/mod_from_git/hubs/yahooo-sber-questions_epoches_n_9/variables/variables' with bilm/CNN_high_0/b_transform\n",
      "2018-11-16 11:55:54.188 DEBUG in 'tensorflow'['tf_logging'] at line 100: Initialize variable module/bilm/CNN_high_1/W_carry:0 from checkpoint b'/home/kuznetsov/models_env/yahoo-sber-questions_elmo/models/mod_from_git/hubs/yahooo-sber-questions_epoches_n_9/variables/variables' with bilm/CNN_high_1/W_carry\n",
      "2018-11-16 11:55:54.199 DEBUG in 'tensorflow'['tf_logging'] at line 100: Initialize variable module/bilm/CNN_high_1/W_transform:0 from checkpoint b'/home/kuznetsov/models_env/yahoo-sber-questions_elmo/models/mod_from_git/hubs/yahooo-sber-questions_epoches_n_9/variables/variables' with bilm/CNN_high_1/W_transform\n",
      "2018-11-16 11:55:54.209 DEBUG in 'tensorflow'['tf_logging'] at line 100: Initialize variable module/bilm/CNN_high_1/b_carry:0 from checkpoint b'/home/kuznetsov/models_env/yahoo-sber-questions_elmo/models/mod_from_git/hubs/yahooo-sber-questions_epoches_n_9/variables/variables' with bilm/CNN_high_1/b_carry\n",
      "2018-11-16 11:55:54.217 DEBUG in 'tensorflow'['tf_logging'] at line 100: Initialize variable module/bilm/CNN_high_1/b_transform:0 from checkpoint b'/home/kuznetsov/models_env/yahoo-sber-questions_elmo/models/mod_from_git/hubs/yahooo-sber-questions_epoches_n_9/variables/variables' with bilm/CNN_high_1/b_transform\n",
      "2018-11-16 11:55:54.226 DEBUG in 'tensorflow'['tf_logging'] at line 100: Initialize variable module/bilm/CNN_proj/W_proj:0 from checkpoint b'/home/kuznetsov/models_env/yahoo-sber-questions_elmo/models/mod_from_git/hubs/yahooo-sber-questions_epoches_n_9/variables/variables' with bilm/CNN_proj/W_proj\n",
      "2018-11-16 11:55:54.235 DEBUG in 'tensorflow'['tf_logging'] at line 100: Initialize variable module/bilm/CNN_proj/b_proj:0 from checkpoint b'/home/kuznetsov/models_env/yahoo-sber-questions_elmo/models/mod_from_git/hubs/yahooo-sber-questions_epoches_n_9/variables/variables' with bilm/CNN_proj/b_proj\n",
      "2018-11-16 11:55:54.244 DEBUG in 'tensorflow'['tf_logging'] at line 100: Initialize variable module/bilm/RNN_0/RNN/MultiRNNCell/Cell0/rnn/lstm_cell/bias:0 from checkpoint b'/home/kuznetsov/models_env/yahoo-sber-questions_elmo/models/mod_from_git/hubs/yahooo-sber-questions_epoches_n_9/variables/variables' with bilm/RNN_0/RNN/MultiRNNCell/Cell0/rnn/lstm_cell/bias\n",
      "2018-11-16 11:55:54.253 DEBUG in 'tensorflow'['tf_logging'] at line 100: Initialize variable module/bilm/RNN_0/RNN/MultiRNNCell/Cell0/rnn/lstm_cell/kernel:0 from checkpoint b'/home/kuznetsov/models_env/yahoo-sber-questions_elmo/models/mod_from_git/hubs/yahooo-sber-questions_epoches_n_9/variables/variables' with bilm/RNN_0/RNN/MultiRNNCell/Cell0/rnn/lstm_cell/kernel\n"
     ]
    },
    {
     "name": "stderr",
     "output_type": "stream",
     "text": [
      "2018-11-16 11:55:54.263 DEBUG in 'tensorflow'['tf_logging'] at line 100: Initialize variable module/bilm/RNN_0/RNN/MultiRNNCell/Cell0/rnn/lstm_cell/projection/kernel:0 from checkpoint b'/home/kuznetsov/models_env/yahoo-sber-questions_elmo/models/mod_from_git/hubs/yahooo-sber-questions_epoches_n_9/variables/variables' with bilm/RNN_0/RNN/MultiRNNCell/Cell0/rnn/lstm_cell/projection/kernel\n",
      "2018-11-16 11:55:54.272 DEBUG in 'tensorflow'['tf_logging'] at line 100: Initialize variable module/bilm/RNN_0/RNN/MultiRNNCell/Cell1/rnn/lstm_cell/bias:0 from checkpoint b'/home/kuznetsov/models_env/yahoo-sber-questions_elmo/models/mod_from_git/hubs/yahooo-sber-questions_epoches_n_9/variables/variables' with bilm/RNN_0/RNN/MultiRNNCell/Cell1/rnn/lstm_cell/bias\n",
      "2018-11-16 11:55:54.284 DEBUG in 'tensorflow'['tf_logging'] at line 100: Initialize variable module/bilm/RNN_0/RNN/MultiRNNCell/Cell1/rnn/lstm_cell/kernel:0 from checkpoint b'/home/kuznetsov/models_env/yahoo-sber-questions_elmo/models/mod_from_git/hubs/yahooo-sber-questions_epoches_n_9/variables/variables' with bilm/RNN_0/RNN/MultiRNNCell/Cell1/rnn/lstm_cell/kernel\n",
      "2018-11-16 11:55:54.295 DEBUG in 'tensorflow'['tf_logging'] at line 100: Initialize variable module/bilm/RNN_0/RNN/MultiRNNCell/Cell1/rnn/lstm_cell/projection/kernel:0 from checkpoint b'/home/kuznetsov/models_env/yahoo-sber-questions_elmo/models/mod_from_git/hubs/yahooo-sber-questions_epoches_n_9/variables/variables' with bilm/RNN_0/RNN/MultiRNNCell/Cell1/rnn/lstm_cell/projection/kernel\n",
      "2018-11-16 11:55:54.305 DEBUG in 'tensorflow'['tf_logging'] at line 100: Initialize variable module/bilm/RNN_1/RNN/MultiRNNCell/Cell0/rnn/lstm_cell/bias:0 from checkpoint b'/home/kuznetsov/models_env/yahoo-sber-questions_elmo/models/mod_from_git/hubs/yahooo-sber-questions_epoches_n_9/variables/variables' with bilm/RNN_1/RNN/MultiRNNCell/Cell0/rnn/lstm_cell/bias\n",
      "2018-11-16 11:55:54.314 DEBUG in 'tensorflow'['tf_logging'] at line 100: Initialize variable module/bilm/RNN_1/RNN/MultiRNNCell/Cell0/rnn/lstm_cell/kernel:0 from checkpoint b'/home/kuznetsov/models_env/yahoo-sber-questions_elmo/models/mod_from_git/hubs/yahooo-sber-questions_epoches_n_9/variables/variables' with bilm/RNN_1/RNN/MultiRNNCell/Cell0/rnn/lstm_cell/kernel\n",
      "2018-11-16 11:55:54.325 DEBUG in 'tensorflow'['tf_logging'] at line 100: Initialize variable module/bilm/RNN_1/RNN/MultiRNNCell/Cell0/rnn/lstm_cell/projection/kernel:0 from checkpoint b'/home/kuznetsov/models_env/yahoo-sber-questions_elmo/models/mod_from_git/hubs/yahooo-sber-questions_epoches_n_9/variables/variables' with bilm/RNN_1/RNN/MultiRNNCell/Cell0/rnn/lstm_cell/projection/kernel\n",
      "2018-11-16 11:55:54.334 DEBUG in 'tensorflow'['tf_logging'] at line 100: Initialize variable module/bilm/RNN_1/RNN/MultiRNNCell/Cell1/rnn/lstm_cell/bias:0 from checkpoint b'/home/kuznetsov/models_env/yahoo-sber-questions_elmo/models/mod_from_git/hubs/yahooo-sber-questions_epoches_n_9/variables/variables' with bilm/RNN_1/RNN/MultiRNNCell/Cell1/rnn/lstm_cell/bias\n",
      "2018-11-16 11:55:54.344 DEBUG in 'tensorflow'['tf_logging'] at line 100: Initialize variable module/bilm/RNN_1/RNN/MultiRNNCell/Cell1/rnn/lstm_cell/kernel:0 from checkpoint b'/home/kuznetsov/models_env/yahoo-sber-questions_elmo/models/mod_from_git/hubs/yahooo-sber-questions_epoches_n_9/variables/variables' with bilm/RNN_1/RNN/MultiRNNCell/Cell1/rnn/lstm_cell/kernel\n",
      "2018-11-16 11:55:54.353 DEBUG in 'tensorflow'['tf_logging'] at line 100: Initialize variable module/bilm/RNN_1/RNN/MultiRNNCell/Cell1/rnn/lstm_cell/projection/kernel:0 from checkpoint b'/home/kuznetsov/models_env/yahoo-sber-questions_elmo/models/mod_from_git/hubs/yahooo-sber-questions_epoches_n_9/variables/variables' with bilm/RNN_1/RNN/MultiRNNCell/Cell1/rnn/lstm_cell/projection/kernel\n",
      "2018-11-16 11:55:54.363 DEBUG in 'tensorflow'['tf_logging'] at line 100: Initialize variable module/bilm/Variable:0 from checkpoint b'/home/kuznetsov/models_env/yahoo-sber-questions_elmo/models/mod_from_git/hubs/yahooo-sber-questions_epoches_n_9/variables/variables' with bilm/Variable\n",
      "2018-11-16 11:55:54.375 DEBUG in 'tensorflow'['tf_logging'] at line 100: Initialize variable module/bilm/Variable_1:0 from checkpoint b'/home/kuznetsov/models_env/yahoo-sber-questions_elmo/models/mod_from_git/hubs/yahooo-sber-questions_epoches_n_9/variables/variables' with bilm/Variable_1\n",
      "2018-11-16 11:55:54.386 DEBUG in 'tensorflow'['tf_logging'] at line 100: Initialize variable module/bilm/Variable_2:0 from checkpoint b'/home/kuznetsov/models_env/yahoo-sber-questions_elmo/models/mod_from_git/hubs/yahooo-sber-questions_epoches_n_9/variables/variables' with bilm/Variable_2\n",
      "2018-11-16 11:55:54.396 DEBUG in 'tensorflow'['tf_logging'] at line 100: Initialize variable module/bilm/Variable_3:0 from checkpoint b'/home/kuznetsov/models_env/yahoo-sber-questions_elmo/models/mod_from_git/hubs/yahooo-sber-questions_epoches_n_9/variables/variables' with bilm/Variable_3\n",
      "2018-11-16 11:55:54.409 DEBUG in 'tensorflow'['tf_logging'] at line 100: Initialize variable module/bilm/Variable_4:0 from checkpoint b'/home/kuznetsov/models_env/yahoo-sber-questions_elmo/models/mod_from_git/hubs/yahooo-sber-questions_epoches_n_9/variables/variables' with bilm/Variable_4\n",
      "2018-11-16 11:55:54.420 DEBUG in 'tensorflow'['tf_logging'] at line 100: Initialize variable module/bilm/Variable_5:0 from checkpoint b'/home/kuznetsov/models_env/yahoo-sber-questions_elmo/models/mod_from_git/hubs/yahooo-sber-questions_epoches_n_9/variables/variables' with bilm/Variable_5\n",
      "2018-11-16 11:55:54.431 DEBUG in 'tensorflow'['tf_logging'] at line 100: Initialize variable module/bilm/Variable_6:0 from checkpoint b'/home/kuznetsov/models_env/yahoo-sber-questions_elmo/models/mod_from_git/hubs/yahooo-sber-questions_epoches_n_9/variables/variables' with bilm/Variable_6\n",
      "2018-11-16 11:55:54.443 DEBUG in 'tensorflow'['tf_logging'] at line 100: Initialize variable module/bilm/Variable_7:0 from checkpoint b'/home/kuznetsov/models_env/yahoo-sber-questions_elmo/models/mod_from_git/hubs/yahooo-sber-questions_epoches_n_9/variables/variables' with bilm/Variable_7\n",
      "2018-11-16 11:55:54.456 DEBUG in 'tensorflow'['tf_logging'] at line 100: Initialize variable module/bilm/char_embed:0 from checkpoint b'/home/kuznetsov/models_env/yahoo-sber-questions_elmo/models/mod_from_git/hubs/yahooo-sber-questions_epoches_n_9/variables/variables' with bilm/char_embed\n",
      "2018-11-16 11:55:55.914 DEBUG in 'tensorflow'['tf_logging'] at line 100: Initialize variable module/bilm_1/Variable:0 from checkpoint b'/home/kuznetsov/models_env/yahoo-sber-questions_elmo/models/mod_from_git/hubs/yahooo-sber-questions_epoches_n_9/variables/variables' with bilm_1/Variable\n",
      "2018-11-16 11:55:55.923 DEBUG in 'tensorflow'['tf_logging'] at line 100: Initialize variable module/bilm_1/Variable_1:0 from checkpoint b'/home/kuznetsov/models_env/yahoo-sber-questions_elmo/models/mod_from_git/hubs/yahooo-sber-questions_epoches_n_9/variables/variables' with bilm_1/Variable_1\n",
      "2018-11-16 11:55:55.933 DEBUG in 'tensorflow'['tf_logging'] at line 100: Initialize variable module/bilm_1/Variable_2:0 from checkpoint b'/home/kuznetsov/models_env/yahoo-sber-questions_elmo/models/mod_from_git/hubs/yahooo-sber-questions_epoches_n_9/variables/variables' with bilm_1/Variable_2\n",
      "2018-11-16 11:55:55.943 DEBUG in 'tensorflow'['tf_logging'] at line 100: Initialize variable module/bilm_1/Variable_3:0 from checkpoint b'/home/kuznetsov/models_env/yahoo-sber-questions_elmo/models/mod_from_git/hubs/yahooo-sber-questions_epoches_n_9/variables/variables' with bilm_1/Variable_3\n",
      "2018-11-16 11:55:55.953 DEBUG in 'tensorflow'['tf_logging'] at line 100: Initialize variable module/bilm_1/Variable_4:0 from checkpoint b'/home/kuznetsov/models_env/yahoo-sber-questions_elmo/models/mod_from_git/hubs/yahooo-sber-questions_epoches_n_9/variables/variables' with bilm_1/Variable_4\n",
      "2018-11-16 11:55:55.962 DEBUG in 'tensorflow'['tf_logging'] at line 100: Initialize variable module/bilm_1/Variable_5:0 from checkpoint b'/home/kuznetsov/models_env/yahoo-sber-questions_elmo/models/mod_from_git/hubs/yahooo-sber-questions_epoches_n_9/variables/variables' with bilm_1/Variable_5\n",
      "2018-11-16 11:55:55.972 DEBUG in 'tensorflow'['tf_logging'] at line 100: Initialize variable module/bilm_1/Variable_6:0 from checkpoint b'/home/kuznetsov/models_env/yahoo-sber-questions_elmo/models/mod_from_git/hubs/yahooo-sber-questions_epoches_n_9/variables/variables' with bilm_1/Variable_6\n"
     ]
    },
    {
     "name": "stderr",
     "output_type": "stream",
     "text": [
      "2018-11-16 11:55:55.981 DEBUG in 'tensorflow'['tf_logging'] at line 100: Initialize variable module/bilm_1/Variable_7:0 from checkpoint b'/home/kuznetsov/models_env/yahoo-sber-questions_elmo/models/mod_from_git/hubs/yahooo-sber-questions_epoches_n_9/variables/variables' with bilm_1/Variable_7\n",
      "2018-11-16 11:55:57.904 INFO in 'tensorflow'['tf_logging'] at line 115: Saver not created because there are no variables in the graph to restore\n",
      "2018-11-16 11:55:58.570 INFO in 'deeppavlov.models.classifiers.keras_classification_model'['keras_classification_model'] at line 291: [initializing `KerasClassificationModel` from saved]\n",
      "2018-11-16 11:55:59.705 INFO in 'deeppavlov.models.classifiers.keras_classification_model'['keras_classification_model'] at line 301: [loading weights from model.h5]\n",
      "2018-11-16 11:56:00.763 INFO in 'deeppavlov.models.classifiers.keras_classification_model'['keras_classification_model'] at line 135: Model was successfully initialized!\n",
      "Model summary:\n",
      "__________________________________________________________________________________________________\n",
      "Layer (type)                    Output Shape         Param #     Connected to                     \n",
      "==================================================================================================\n",
      "input_1 (InputLayer)            (None, 20, 1024)     0                                            \n",
      "__________________________________________________________________________________________________\n",
      "dropout_1 (Dropout)             (None, 20, 1024)     0           input_1[0][0]                    \n",
      "__________________________________________________________________________________________________\n",
      "bidirectional_1 (Bidirectional) [(None, 20, 512), (N 1967616     dropout_1[0][0]                  \n",
      "__________________________________________________________________________________________________\n",
      "global_max_pooling1d_1 (GlobalM (None, 512)          0           bidirectional_1[0][0]            \n",
      "__________________________________________________________________________________________________\n",
      "global_average_pooling1d_1 (Glo (None, 512)          0           bidirectional_1[0][0]            \n",
      "__________________________________________________________________________________________________\n",
      "concatenate_1 (Concatenate)     (None, 1536)         0           global_max_pooling1d_1[0][0]     \n",
      "                                                                 global_average_pooling1d_1[0][0] \n",
      "                                                                 bidirectional_1[0][1]            \n",
      "                                                                 bidirectional_1[0][2]            \n",
      "__________________________________________________________________________________________________\n",
      "dropout_2 (Dropout)             (None, 1536)         0           concatenate_1[0][0]              \n",
      "__________________________________________________________________________________________________\n",
      "dense_1 (Dense)                 (None, 100)          153700      dropout_2[0][0]                  \n",
      "__________________________________________________________________________________________________\n",
      "activation_1 (Activation)       (None, 100)          0           dense_1[0][0]                    \n",
      "__________________________________________________________________________________________________\n",
      "dropout_3 (Dropout)             (None, 100)          0           activation_1[0][0]               \n",
      "__________________________________________________________________________________________________\n",
      "dense_2 (Dense)                 (None, 2)            202         dropout_3[0][0]                  \n",
      "__________________________________________________________________________________________________\n",
      "activation_2 (Activation)       (None, 2)            0           dense_2[0][0]                    \n",
      "==================================================================================================\n",
      "Total params: 2,121,518\n",
      "Trainable params: 2,121,518\n",
      "Non-trainable params: 0\n",
      "__________________________________________________________________________________________________\n",
      "2018-11-16 11:56:00.765 INFO in 'deeppavlov.core.data.simple_vocab'['simple_vocab'] at line 100: [loading vocabulary from /cephfs/home/dilyara.baymurzina/GitHub/reserve/DeepPavlov/download/YahooAnswers/models/model_v39/yahoo_answers_classes.dict]\n"
     ]
    },
    {
     "name": "stdout",
     "output_type": "stream",
     "text": [
      "Iteration 1: add 1152 samples to train dataset\n"
     ]
    },
    {
     "name": "stderr",
     "output_type": "stream",
     "text": [
      "/home/dilyara.baymurzina/anaconda3/envs/deeppavlov36_reserve/lib/python3.6/site-packages/ipykernel_launcher.py:13: DeprecationWarning: in the future out of bounds indices will raise an error instead of being ignored by `numpy.delete`.\n",
      "  del sys.path[0]\n",
      "2018-11-16 12:01:03.536 INFO in 'deeppavlov.core.data.simple_vocab'['simple_vocab'] at line 100: [loading vocabulary from /cephfs/home/dilyara.baymurzina/GitHub/reserve/DeepPavlov/download/YahooAnswers/models/model_v39/yahoo_answers_classes.dict]\n",
      "2018-11-16 12:01:03.558 INFO in 'deeppavlov.core.data.simple_vocab'['simple_vocab'] at line 89: [saving vocabulary to /cephfs/home/dilyara.baymurzina/GitHub/reserve/DeepPavlov/download/YahooAnswers/models/model_v39/yahoo_answers_classes.dict]\n",
      "2018-11-16 12:01:06.471 DEBUG in 'tensorflow'['tf_logging'] at line 100: Initialize variable module/aggregation/elmo_output_ELMo_W:0 from checkpoint b'/home/kuznetsov/models_env/yahoo-sber-questions_elmo/models/mod_from_git/hubs/yahooo-sber-questions_epoches_n_9/variables/variables' with aggregation/elmo_output_ELMo_W\n",
      "2018-11-16 12:01:06.477 DEBUG in 'tensorflow'['tf_logging'] at line 100: Initialize variable module/aggregation/elmo_output_ELMo_gamma:0 from checkpoint b'/home/kuznetsov/models_env/yahoo-sber-questions_elmo/models/mod_from_git/hubs/yahooo-sber-questions_epoches_n_9/variables/variables' with aggregation/elmo_output_ELMo_gamma\n",
      "2018-11-16 12:01:06.483 DEBUG in 'tensorflow'['tf_logging'] at line 100: Initialize variable module/bilm/CNN/W_cnn_0:0 from checkpoint b'/home/kuznetsov/models_env/yahoo-sber-questions_elmo/models/mod_from_git/hubs/yahooo-sber-questions_epoches_n_9/variables/variables' with bilm/CNN/W_cnn_0\n",
      "2018-11-16 12:01:06.490 DEBUG in 'tensorflow'['tf_logging'] at line 100: Initialize variable module/bilm/CNN/W_cnn_1:0 from checkpoint b'/home/kuznetsov/models_env/yahoo-sber-questions_elmo/models/mod_from_git/hubs/yahooo-sber-questions_epoches_n_9/variables/variables' with bilm/CNN/W_cnn_1\n",
      "2018-11-16 12:01:06.496 DEBUG in 'tensorflow'['tf_logging'] at line 100: Initialize variable module/bilm/CNN/W_cnn_2:0 from checkpoint b'/home/kuznetsov/models_env/yahoo-sber-questions_elmo/models/mod_from_git/hubs/yahooo-sber-questions_epoches_n_9/variables/variables' with bilm/CNN/W_cnn_2\n",
      "2018-11-16 12:01:06.503 DEBUG in 'tensorflow'['tf_logging'] at line 100: Initialize variable module/bilm/CNN/W_cnn_3:0 from checkpoint b'/home/kuznetsov/models_env/yahoo-sber-questions_elmo/models/mod_from_git/hubs/yahooo-sber-questions_epoches_n_9/variables/variables' with bilm/CNN/W_cnn_3\n",
      "2018-11-16 12:01:06.509 DEBUG in 'tensorflow'['tf_logging'] at line 100: Initialize variable module/bilm/CNN/W_cnn_4:0 from checkpoint b'/home/kuznetsov/models_env/yahoo-sber-questions_elmo/models/mod_from_git/hubs/yahooo-sber-questions_epoches_n_9/variables/variables' with bilm/CNN/W_cnn_4\n",
      "2018-11-16 12:01:06.515 DEBUG in 'tensorflow'['tf_logging'] at line 100: Initialize variable module/bilm/CNN/W_cnn_5:0 from checkpoint b'/home/kuznetsov/models_env/yahoo-sber-questions_elmo/models/mod_from_git/hubs/yahooo-sber-questions_epoches_n_9/variables/variables' with bilm/CNN/W_cnn_5\n",
      "2018-11-16 12:01:06.521 DEBUG in 'tensorflow'['tf_logging'] at line 100: Initialize variable module/bilm/CNN/W_cnn_6:0 from checkpoint b'/home/kuznetsov/models_env/yahoo-sber-questions_elmo/models/mod_from_git/hubs/yahooo-sber-questions_epoches_n_9/variables/variables' with bilm/CNN/W_cnn_6\n",
      "2018-11-16 12:01:06.528 DEBUG in 'tensorflow'['tf_logging'] at line 100: Initialize variable module/bilm/CNN/b_cnn_0:0 from checkpoint b'/home/kuznetsov/models_env/yahoo-sber-questions_elmo/models/mod_from_git/hubs/yahooo-sber-questions_epoches_n_9/variables/variables' with bilm/CNN/b_cnn_0\n",
      "2018-11-16 12:01:06.535 DEBUG in 'tensorflow'['tf_logging'] at line 100: Initialize variable module/bilm/CNN/b_cnn_1:0 from checkpoint b'/home/kuznetsov/models_env/yahoo-sber-questions_elmo/models/mod_from_git/hubs/yahooo-sber-questions_epoches_n_9/variables/variables' with bilm/CNN/b_cnn_1\n",
      "2018-11-16 12:01:06.541 DEBUG in 'tensorflow'['tf_logging'] at line 100: Initialize variable module/bilm/CNN/b_cnn_2:0 from checkpoint b'/home/kuznetsov/models_env/yahoo-sber-questions_elmo/models/mod_from_git/hubs/yahooo-sber-questions_epoches_n_9/variables/variables' with bilm/CNN/b_cnn_2\n",
      "2018-11-16 12:01:06.548 DEBUG in 'tensorflow'['tf_logging'] at line 100: Initialize variable module/bilm/CNN/b_cnn_3:0 from checkpoint b'/home/kuznetsov/models_env/yahoo-sber-questions_elmo/models/mod_from_git/hubs/yahooo-sber-questions_epoches_n_9/variables/variables' with bilm/CNN/b_cnn_3\n",
      "2018-11-16 12:01:06.554 DEBUG in 'tensorflow'['tf_logging'] at line 100: Initialize variable module/bilm/CNN/b_cnn_4:0 from checkpoint b'/home/kuznetsov/models_env/yahoo-sber-questions_elmo/models/mod_from_git/hubs/yahooo-sber-questions_epoches_n_9/variables/variables' with bilm/CNN/b_cnn_4\n",
      "2018-11-16 12:01:06.561 DEBUG in 'tensorflow'['tf_logging'] at line 100: Initialize variable module/bilm/CNN/b_cnn_5:0 from checkpoint b'/home/kuznetsov/models_env/yahoo-sber-questions_elmo/models/mod_from_git/hubs/yahooo-sber-questions_epoches_n_9/variables/variables' with bilm/CNN/b_cnn_5\n",
      "2018-11-16 12:01:06.567 DEBUG in 'tensorflow'['tf_logging'] at line 100: Initialize variable module/bilm/CNN/b_cnn_6:0 from checkpoint b'/home/kuznetsov/models_env/yahoo-sber-questions_elmo/models/mod_from_git/hubs/yahooo-sber-questions_epoches_n_9/variables/variables' with bilm/CNN/b_cnn_6\n",
      "2018-11-16 12:01:06.572 DEBUG in 'tensorflow'['tf_logging'] at line 100: Initialize variable module/bilm/CNN_high_0/W_carry:0 from checkpoint b'/home/kuznetsov/models_env/yahoo-sber-questions_elmo/models/mod_from_git/hubs/yahooo-sber-questions_epoches_n_9/variables/variables' with bilm/CNN_high_0/W_carry\n",
      "2018-11-16 12:01:06.578 DEBUG in 'tensorflow'['tf_logging'] at line 100: Initialize variable module/bilm/CNN_high_0/W_transform:0 from checkpoint b'/home/kuznetsov/models_env/yahoo-sber-questions_elmo/models/mod_from_git/hubs/yahooo-sber-questions_epoches_n_9/variables/variables' with bilm/CNN_high_0/W_transform\n",
      "2018-11-16 12:01:06.584 DEBUG in 'tensorflow'['tf_logging'] at line 100: Initialize variable module/bilm/CNN_high_0/b_carry:0 from checkpoint b'/home/kuznetsov/models_env/yahoo-sber-questions_elmo/models/mod_from_git/hubs/yahooo-sber-questions_epoches_n_9/variables/variables' with bilm/CNN_high_0/b_carry\n",
      "2018-11-16 12:01:06.590 DEBUG in 'tensorflow'['tf_logging'] at line 100: Initialize variable module/bilm/CNN_high_0/b_transform:0 from checkpoint b'/home/kuznetsov/models_env/yahoo-sber-questions_elmo/models/mod_from_git/hubs/yahooo-sber-questions_epoches_n_9/variables/variables' with bilm/CNN_high_0/b_transform\n",
      "2018-11-16 12:01:06.596 DEBUG in 'tensorflow'['tf_logging'] at line 100: Initialize variable module/bilm/CNN_high_1/W_carry:0 from checkpoint b'/home/kuznetsov/models_env/yahoo-sber-questions_elmo/models/mod_from_git/hubs/yahooo-sber-questions_epoches_n_9/variables/variables' with bilm/CNN_high_1/W_carry\n",
      "2018-11-16 12:01:06.603 DEBUG in 'tensorflow'['tf_logging'] at line 100: Initialize variable module/bilm/CNN_high_1/W_transform:0 from checkpoint b'/home/kuznetsov/models_env/yahoo-sber-questions_elmo/models/mod_from_git/hubs/yahooo-sber-questions_epoches_n_9/variables/variables' with bilm/CNN_high_1/W_transform\n",
      "2018-11-16 12:01:06.609 DEBUG in 'tensorflow'['tf_logging'] at line 100: Initialize variable module/bilm/CNN_high_1/b_carry:0 from checkpoint b'/home/kuznetsov/models_env/yahoo-sber-questions_elmo/models/mod_from_git/hubs/yahooo-sber-questions_epoches_n_9/variables/variables' with bilm/CNN_high_1/b_carry\n",
      "2018-11-16 12:01:06.615 DEBUG in 'tensorflow'['tf_logging'] at line 100: Initialize variable module/bilm/CNN_high_1/b_transform:0 from checkpoint b'/home/kuznetsov/models_env/yahoo-sber-questions_elmo/models/mod_from_git/hubs/yahooo-sber-questions_epoches_n_9/variables/variables' with bilm/CNN_high_1/b_transform\n",
      "2018-11-16 12:01:06.620 DEBUG in 'tensorflow'['tf_logging'] at line 100: Initialize variable module/bilm/CNN_proj/W_proj:0 from checkpoint b'/home/kuznetsov/models_env/yahoo-sber-questions_elmo/models/mod_from_git/hubs/yahooo-sber-questions_epoches_n_9/variables/variables' with bilm/CNN_proj/W_proj\n"
     ]
    },
    {
     "name": "stderr",
     "output_type": "stream",
     "text": [
      "2018-11-16 12:01:06.627 DEBUG in 'tensorflow'['tf_logging'] at line 100: Initialize variable module/bilm/CNN_proj/b_proj:0 from checkpoint b'/home/kuznetsov/models_env/yahoo-sber-questions_elmo/models/mod_from_git/hubs/yahooo-sber-questions_epoches_n_9/variables/variables' with bilm/CNN_proj/b_proj\n",
      "2018-11-16 12:01:06.633 DEBUG in 'tensorflow'['tf_logging'] at line 100: Initialize variable module/bilm/RNN_0/RNN/MultiRNNCell/Cell0/rnn/lstm_cell/bias:0 from checkpoint b'/home/kuznetsov/models_env/yahoo-sber-questions_elmo/models/mod_from_git/hubs/yahooo-sber-questions_epoches_n_9/variables/variables' with bilm/RNN_0/RNN/MultiRNNCell/Cell0/rnn/lstm_cell/bias\n",
      "2018-11-16 12:01:06.639 DEBUG in 'tensorflow'['tf_logging'] at line 100: Initialize variable module/bilm/RNN_0/RNN/MultiRNNCell/Cell0/rnn/lstm_cell/kernel:0 from checkpoint b'/home/kuznetsov/models_env/yahoo-sber-questions_elmo/models/mod_from_git/hubs/yahooo-sber-questions_epoches_n_9/variables/variables' with bilm/RNN_0/RNN/MultiRNNCell/Cell0/rnn/lstm_cell/kernel\n",
      "2018-11-16 12:01:06.645 DEBUG in 'tensorflow'['tf_logging'] at line 100: Initialize variable module/bilm/RNN_0/RNN/MultiRNNCell/Cell0/rnn/lstm_cell/projection/kernel:0 from checkpoint b'/home/kuznetsov/models_env/yahoo-sber-questions_elmo/models/mod_from_git/hubs/yahooo-sber-questions_epoches_n_9/variables/variables' with bilm/RNN_0/RNN/MultiRNNCell/Cell0/rnn/lstm_cell/projection/kernel\n",
      "2018-11-16 12:01:06.651 DEBUG in 'tensorflow'['tf_logging'] at line 100: Initialize variable module/bilm/RNN_0/RNN/MultiRNNCell/Cell1/rnn/lstm_cell/bias:0 from checkpoint b'/home/kuznetsov/models_env/yahoo-sber-questions_elmo/models/mod_from_git/hubs/yahooo-sber-questions_epoches_n_9/variables/variables' with bilm/RNN_0/RNN/MultiRNNCell/Cell1/rnn/lstm_cell/bias\n",
      "2018-11-16 12:01:06.658 DEBUG in 'tensorflow'['tf_logging'] at line 100: Initialize variable module/bilm/RNN_0/RNN/MultiRNNCell/Cell1/rnn/lstm_cell/kernel:0 from checkpoint b'/home/kuznetsov/models_env/yahoo-sber-questions_elmo/models/mod_from_git/hubs/yahooo-sber-questions_epoches_n_9/variables/variables' with bilm/RNN_0/RNN/MultiRNNCell/Cell1/rnn/lstm_cell/kernel\n",
      "2018-11-16 12:01:06.664 DEBUG in 'tensorflow'['tf_logging'] at line 100: Initialize variable module/bilm/RNN_0/RNN/MultiRNNCell/Cell1/rnn/lstm_cell/projection/kernel:0 from checkpoint b'/home/kuznetsov/models_env/yahoo-sber-questions_elmo/models/mod_from_git/hubs/yahooo-sber-questions_epoches_n_9/variables/variables' with bilm/RNN_0/RNN/MultiRNNCell/Cell1/rnn/lstm_cell/projection/kernel\n",
      "2018-11-16 12:01:06.671 DEBUG in 'tensorflow'['tf_logging'] at line 100: Initialize variable module/bilm/RNN_1/RNN/MultiRNNCell/Cell0/rnn/lstm_cell/bias:0 from checkpoint b'/home/kuznetsov/models_env/yahoo-sber-questions_elmo/models/mod_from_git/hubs/yahooo-sber-questions_epoches_n_9/variables/variables' with bilm/RNN_1/RNN/MultiRNNCell/Cell0/rnn/lstm_cell/bias\n",
      "2018-11-16 12:01:06.677 DEBUG in 'tensorflow'['tf_logging'] at line 100: Initialize variable module/bilm/RNN_1/RNN/MultiRNNCell/Cell0/rnn/lstm_cell/kernel:0 from checkpoint b'/home/kuznetsov/models_env/yahoo-sber-questions_elmo/models/mod_from_git/hubs/yahooo-sber-questions_epoches_n_9/variables/variables' with bilm/RNN_1/RNN/MultiRNNCell/Cell0/rnn/lstm_cell/kernel\n",
      "2018-11-16 12:01:06.685 DEBUG in 'tensorflow'['tf_logging'] at line 100: Initialize variable module/bilm/RNN_1/RNN/MultiRNNCell/Cell0/rnn/lstm_cell/projection/kernel:0 from checkpoint b'/home/kuznetsov/models_env/yahoo-sber-questions_elmo/models/mod_from_git/hubs/yahooo-sber-questions_epoches_n_9/variables/variables' with bilm/RNN_1/RNN/MultiRNNCell/Cell0/rnn/lstm_cell/projection/kernel\n",
      "2018-11-16 12:01:06.695 DEBUG in 'tensorflow'['tf_logging'] at line 100: Initialize variable module/bilm/RNN_1/RNN/MultiRNNCell/Cell1/rnn/lstm_cell/bias:0 from checkpoint b'/home/kuznetsov/models_env/yahoo-sber-questions_elmo/models/mod_from_git/hubs/yahooo-sber-questions_epoches_n_9/variables/variables' with bilm/RNN_1/RNN/MultiRNNCell/Cell1/rnn/lstm_cell/bias\n",
      "2018-11-16 12:01:06.705 DEBUG in 'tensorflow'['tf_logging'] at line 100: Initialize variable module/bilm/RNN_1/RNN/MultiRNNCell/Cell1/rnn/lstm_cell/kernel:0 from checkpoint b'/home/kuznetsov/models_env/yahoo-sber-questions_elmo/models/mod_from_git/hubs/yahooo-sber-questions_epoches_n_9/variables/variables' with bilm/RNN_1/RNN/MultiRNNCell/Cell1/rnn/lstm_cell/kernel\n",
      "2018-11-16 12:01:06.714 DEBUG in 'tensorflow'['tf_logging'] at line 100: Initialize variable module/bilm/RNN_1/RNN/MultiRNNCell/Cell1/rnn/lstm_cell/projection/kernel:0 from checkpoint b'/home/kuznetsov/models_env/yahoo-sber-questions_elmo/models/mod_from_git/hubs/yahooo-sber-questions_epoches_n_9/variables/variables' with bilm/RNN_1/RNN/MultiRNNCell/Cell1/rnn/lstm_cell/projection/kernel\n",
      "2018-11-16 12:01:06.724 DEBUG in 'tensorflow'['tf_logging'] at line 100: Initialize variable module/bilm/Variable:0 from checkpoint b'/home/kuznetsov/models_env/yahoo-sber-questions_elmo/models/mod_from_git/hubs/yahooo-sber-questions_epoches_n_9/variables/variables' with bilm/Variable\n",
      "2018-11-16 12:01:06.733 DEBUG in 'tensorflow'['tf_logging'] at line 100: Initialize variable module/bilm/Variable_1:0 from checkpoint b'/home/kuznetsov/models_env/yahoo-sber-questions_elmo/models/mod_from_git/hubs/yahooo-sber-questions_epoches_n_9/variables/variables' with bilm/Variable_1\n",
      "2018-11-16 12:01:06.743 DEBUG in 'tensorflow'['tf_logging'] at line 100: Initialize variable module/bilm/Variable_2:0 from checkpoint b'/home/kuznetsov/models_env/yahoo-sber-questions_elmo/models/mod_from_git/hubs/yahooo-sber-questions_epoches_n_9/variables/variables' with bilm/Variable_2\n",
      "2018-11-16 12:01:06.753 DEBUG in 'tensorflow'['tf_logging'] at line 100: Initialize variable module/bilm/Variable_3:0 from checkpoint b'/home/kuznetsov/models_env/yahoo-sber-questions_elmo/models/mod_from_git/hubs/yahooo-sber-questions_epoches_n_9/variables/variables' with bilm/Variable_3\n",
      "2018-11-16 12:01:06.764 DEBUG in 'tensorflow'['tf_logging'] at line 100: Initialize variable module/bilm/Variable_4:0 from checkpoint b'/home/kuznetsov/models_env/yahoo-sber-questions_elmo/models/mod_from_git/hubs/yahooo-sber-questions_epoches_n_9/variables/variables' with bilm/Variable_4\n",
      "2018-11-16 12:01:06.774 DEBUG in 'tensorflow'['tf_logging'] at line 100: Initialize variable module/bilm/Variable_5:0 from checkpoint b'/home/kuznetsov/models_env/yahoo-sber-questions_elmo/models/mod_from_git/hubs/yahooo-sber-questions_epoches_n_9/variables/variables' with bilm/Variable_5\n",
      "2018-11-16 12:01:06.783 DEBUG in 'tensorflow'['tf_logging'] at line 100: Initialize variable module/bilm/Variable_6:0 from checkpoint b'/home/kuznetsov/models_env/yahoo-sber-questions_elmo/models/mod_from_git/hubs/yahooo-sber-questions_epoches_n_9/variables/variables' with bilm/Variable_6\n",
      "2018-11-16 12:01:06.796 DEBUG in 'tensorflow'['tf_logging'] at line 100: Initialize variable module/bilm/Variable_7:0 from checkpoint b'/home/kuznetsov/models_env/yahoo-sber-questions_elmo/models/mod_from_git/hubs/yahooo-sber-questions_epoches_n_9/variables/variables' with bilm/Variable_7\n",
      "2018-11-16 12:01:06.807 DEBUG in 'tensorflow'['tf_logging'] at line 100: Initialize variable module/bilm/char_embed:0 from checkpoint b'/home/kuznetsov/models_env/yahoo-sber-questions_elmo/models/mod_from_git/hubs/yahooo-sber-questions_epoches_n_9/variables/variables' with bilm/char_embed\n",
      "2018-11-16 12:01:06.817 DEBUG in 'tensorflow'['tf_logging'] at line 100: Initialize variable module/bilm_1/Variable:0 from checkpoint b'/home/kuznetsov/models_env/yahoo-sber-questions_elmo/models/mod_from_git/hubs/yahooo-sber-questions_epoches_n_9/variables/variables' with bilm_1/Variable\n",
      "2018-11-16 12:01:06.829 DEBUG in 'tensorflow'['tf_logging'] at line 100: Initialize variable module/bilm_1/Variable_1:0 from checkpoint b'/home/kuznetsov/models_env/yahoo-sber-questions_elmo/models/mod_from_git/hubs/yahooo-sber-questions_epoches_n_9/variables/variables' with bilm_1/Variable_1\n",
      "2018-11-16 12:01:06.840 DEBUG in 'tensorflow'['tf_logging'] at line 100: Initialize variable module/bilm_1/Variable_2:0 from checkpoint b'/home/kuznetsov/models_env/yahoo-sber-questions_elmo/models/mod_from_git/hubs/yahooo-sber-questions_epoches_n_9/variables/variables' with bilm_1/Variable_2\n"
     ]
    },
    {
     "name": "stderr",
     "output_type": "stream",
     "text": [
      "2018-11-16 12:01:06.847 DEBUG in 'tensorflow'['tf_logging'] at line 100: Initialize variable module/bilm_1/Variable_3:0 from checkpoint b'/home/kuznetsov/models_env/yahoo-sber-questions_elmo/models/mod_from_git/hubs/yahooo-sber-questions_epoches_n_9/variables/variables' with bilm_1/Variable_3\n",
      "2018-11-16 12:01:06.854 DEBUG in 'tensorflow'['tf_logging'] at line 100: Initialize variable module/bilm_1/Variable_4:0 from checkpoint b'/home/kuznetsov/models_env/yahoo-sber-questions_elmo/models/mod_from_git/hubs/yahooo-sber-questions_epoches_n_9/variables/variables' with bilm_1/Variable_4\n",
      "2018-11-16 12:01:06.860 DEBUG in 'tensorflow'['tf_logging'] at line 100: Initialize variable module/bilm_1/Variable_5:0 from checkpoint b'/home/kuznetsov/models_env/yahoo-sber-questions_elmo/models/mod_from_git/hubs/yahooo-sber-questions_epoches_n_9/variables/variables' with bilm_1/Variable_5\n",
      "2018-11-16 12:01:06.872 DEBUG in 'tensorflow'['tf_logging'] at line 100: Initialize variable module/bilm_1/Variable_6:0 from checkpoint b'/home/kuznetsov/models_env/yahoo-sber-questions_elmo/models/mod_from_git/hubs/yahooo-sber-questions_epoches_n_9/variables/variables' with bilm_1/Variable_6\n",
      "2018-11-16 12:01:06.882 DEBUG in 'tensorflow'['tf_logging'] at line 100: Initialize variable module/bilm_1/Variable_7:0 from checkpoint b'/home/kuznetsov/models_env/yahoo-sber-questions_elmo/models/mod_from_git/hubs/yahooo-sber-questions_epoches_n_9/variables/variables' with bilm_1/Variable_7\n",
      "2018-11-16 12:01:10.133 INFO in 'tensorflow'['tf_logging'] at line 115: Saver not created because there are no variables in the graph to restore\n",
      "2018-11-16 12:01:11.670 INFO in 'deeppavlov.models.classifiers.keras_classification_model'['keras_classification_model'] at line 291: [initializing `KerasClassificationModel` from saved]\n",
      "2018-11-16 12:01:12.698 INFO in 'deeppavlov.models.classifiers.keras_classification_model'['keras_classification_model'] at line 301: [loading weights from model.h5]\n",
      "2018-11-16 12:01:12.875 INFO in 'deeppavlov.models.classifiers.keras_classification_model'['keras_classification_model'] at line 135: Model was successfully initialized!\n",
      "Model summary:\n",
      "__________________________________________________________________________________________________\n",
      "Layer (type)                    Output Shape         Param #     Connected to                     \n",
      "==================================================================================================\n",
      "input_1 (InputLayer)            (None, 20, 1024)     0                                            \n",
      "__________________________________________________________________________________________________\n",
      "dropout_1 (Dropout)             (None, 20, 1024)     0           input_1[0][0]                    \n",
      "__________________________________________________________________________________________________\n",
      "bidirectional_1 (Bidirectional) [(None, 20, 512), (N 1967616     dropout_1[0][0]                  \n",
      "__________________________________________________________________________________________________\n",
      "global_max_pooling1d_1 (GlobalM (None, 512)          0           bidirectional_1[0][0]            \n",
      "__________________________________________________________________________________________________\n",
      "global_average_pooling1d_1 (Glo (None, 512)          0           bidirectional_1[0][0]            \n",
      "__________________________________________________________________________________________________\n",
      "concatenate_1 (Concatenate)     (None, 1536)         0           global_max_pooling1d_1[0][0]     \n",
      "                                                                 global_average_pooling1d_1[0][0] \n",
      "                                                                 bidirectional_1[0][1]            \n",
      "                                                                 bidirectional_1[0][2]            \n",
      "__________________________________________________________________________________________________\n",
      "dropout_2 (Dropout)             (None, 1536)         0           concatenate_1[0][0]              \n",
      "__________________________________________________________________________________________________\n",
      "dense_1 (Dense)                 (None, 100)          153700      dropout_2[0][0]                  \n",
      "__________________________________________________________________________________________________\n",
      "activation_1 (Activation)       (None, 100)          0           dense_1[0][0]                    \n",
      "__________________________________________________________________________________________________\n",
      "dropout_3 (Dropout)             (None, 100)          0           activation_1[0][0]               \n",
      "__________________________________________________________________________________________________\n",
      "dense_2 (Dense)                 (None, 2)            202         dropout_3[0][0]                  \n",
      "__________________________________________________________________________________________________\n",
      "activation_2 (Activation)       (None, 2)            0           dense_2[0][0]                    \n",
      "==================================================================================================\n",
      "Total params: 2,121,518\n",
      "Trainable params: 2,121,518\n",
      "Non-trainable params: 0\n",
      "__________________________________________________________________________________________________\n",
      "2018-11-16 12:01:19.308 INFO in 'deeppavlov.core.commands.train'['train'] at line 360: New best roc_auc of 0.9341\n",
      "2018-11-16 12:01:19.310 INFO in 'deeppavlov.core.commands.train'['train'] at line 362: Saving model\n",
      "2018-11-16 12:01:19.311 INFO in 'deeppavlov.models.classifiers.keras_classification_model'['keras_classification_model'] at line 375: [saving model to /cephfs/home/dilyara.baymurzina/GitHub/reserve/DeepPavlov/download/YahooAnswers/models/model_v39/model_opt.json]\n"
     ]
    },
    {
     "name": "stdout",
     "output_type": "stream",
     "text": [
      "{\"valid\": {\"eval_examples_count\": 403, \"metrics\": {\"roc_auc\": 0.9341, \"sets_accuracy\": 0.8586, \"f1_macro\": 0.8572}, \"time_spent\": \"0:00:07\", \"epochs_done\": 0, \"batches_seen\": 0, \"train_examples_seen\": 0, \"impatience\": 0, \"patience_limit\": 5}}\n",
      "{\"train\": {\"epochs_done\": 1, \"batches_seen\": 6, \"train_examples_seen\": 5928, \"metrics\": {\"roc_auc\": 0.978, \"sets_accuracy\": 0.9258, \"f1_macro\": 0.9246}, \"time_spent\": \"0:05:31\", \"loss\": 0.3854766736427943}}\n"
     ]
    },
    {
     "name": "stderr",
     "output_type": "stream",
     "text": [
      "2018-11-16 12:06:48.794 INFO in 'deeppavlov.core.commands.train'['train'] at line 525: Did not improve on the roc_auc of 0.9341\n"
     ]
    },
    {
     "name": "stdout",
     "output_type": "stream",
     "text": [
      "{\"valid\": {\"eval_examples_count\": 403, \"metrics\": {\"roc_auc\": 0.9259, \"sets_accuracy\": 0.8164, \"f1_macro\": 0.8065}, \"time_spent\": \"0:05:36\", \"epochs_done\": 1, \"batches_seen\": 6, \"train_examples_seen\": 5928, \"impatience\": 1, \"patience_limit\": 5}}\n",
      "{\"train\": {\"epochs_done\": 2, \"batches_seen\": 12, \"train_examples_seen\": 11856, \"metrics\": {\"roc_auc\": 0.9866, \"sets_accuracy\": 0.9263, \"f1_macro\": 0.9244}, \"time_spent\": \"0:10:50\", \"loss\": 0.3452497919400533}}\n"
     ]
    },
    {
     "name": "stderr",
     "output_type": "stream",
     "text": [
      "2018-11-16 12:12:07.452 INFO in 'deeppavlov.core.commands.train'['train'] at line 525: Did not improve on the roc_auc of 0.9341\n"
     ]
    },
    {
     "name": "stdout",
     "output_type": "stream",
     "text": [
      "{\"valid\": {\"eval_examples_count\": 403, \"metrics\": {\"roc_auc\": 0.9266, \"sets_accuracy\": 0.8511, \"f1_macro\": 0.8474}, \"time_spent\": \"0:10:55\", \"epochs_done\": 2, \"batches_seen\": 12, \"train_examples_seen\": 11856, \"impatience\": 2, \"patience_limit\": 5}}\n",
      "{\"train\": {\"epochs_done\": 3, \"batches_seen\": 18, \"train_examples_seen\": 17784, \"metrics\": {\"roc_auc\": 0.9875, \"sets_accuracy\": 0.9354, \"f1_macro\": 0.9341}, \"time_spent\": \"0:16:11\", \"loss\": 0.3234322965145111}}\n"
     ]
    },
    {
     "name": "stderr",
     "output_type": "stream",
     "text": [
      "2018-11-16 12:17:28.583 INFO in 'deeppavlov.core.commands.train'['train'] at line 525: Did not improve on the roc_auc of 0.9341\n"
     ]
    },
    {
     "name": "stdout",
     "output_type": "stream",
     "text": [
      "{\"valid\": {\"eval_examples_count\": 403, \"metrics\": {\"roc_auc\": 0.9281, \"sets_accuracy\": 0.8586, \"f1_macro\": 0.8551}, \"time_spent\": \"0:16:16\", \"epochs_done\": 3, \"batches_seen\": 18, \"train_examples_seen\": 17784, \"impatience\": 3, \"patience_limit\": 5}}\n",
      "{\"train\": {\"epochs_done\": 4, \"batches_seen\": 24, \"train_examples_seen\": 23712, \"metrics\": {\"roc_auc\": 0.9846, \"sets_accuracy\": 0.9322, \"f1_macro\": 0.9311}, \"time_spent\": \"0:21:33\", \"loss\": 0.34795886774857837}}\n"
     ]
    },
    {
     "name": "stderr",
     "output_type": "stream",
     "text": [
      "2018-11-16 12:22:51.360 INFO in 'deeppavlov.core.commands.train'['train'] at line 525: Did not improve on the roc_auc of 0.9341\n"
     ]
    },
    {
     "name": "stdout",
     "output_type": "stream",
     "text": [
      "{\"valid\": {\"eval_examples_count\": 403, \"metrics\": {\"roc_auc\": 0.9313, \"sets_accuracy\": 0.8561, \"f1_macro\": 0.852}, \"time_spent\": \"0:21:39\", \"epochs_done\": 4, \"batches_seen\": 24, \"train_examples_seen\": 23712, \"impatience\": 4, \"patience_limit\": 5}}\n",
      "{\"train\": {\"epochs_done\": 5, \"batches_seen\": 30, \"train_examples_seen\": 29640, \"metrics\": {\"roc_auc\": 0.9896, \"sets_accuracy\": 0.9344, \"f1_macro\": 0.9327}, \"time_spent\": \"0:26:55\", \"loss\": 0.30929868916670483}}\n"
     ]
    },
    {
     "name": "stderr",
     "output_type": "stream",
     "text": [
      "2018-11-16 12:28:13.297 INFO in 'deeppavlov.core.commands.train'['train'] at line 525: Did not improve on the roc_auc of 0.9341\n",
      "2018-11-16 12:28:13.299 INFO in 'deeppavlov.core.commands.train'['train'] at line 536: Ran out of patience\n",
      "2018-11-16 12:28:13.304 INFO in 'deeppavlov.core.data.simple_vocab'['simple_vocab'] at line 100: [loading vocabulary from /cephfs/home/dilyara.baymurzina/GitHub/reserve/DeepPavlov/download/YahooAnswers/models/model_v39/yahoo_answers_classes.dict]\n"
     ]
    },
    {
     "name": "stdout",
     "output_type": "stream",
     "text": [
      "{\"valid\": {\"eval_examples_count\": 403, \"metrics\": {\"roc_auc\": 0.9303, \"sets_accuracy\": 0.8462, \"f1_macro\": 0.8445}, \"time_spent\": \"0:27:01\", \"epochs_done\": 5, \"batches_seen\": 30, \"train_examples_seen\": 29640, \"impatience\": 5, \"patience_limit\": 5}}\n"
     ]
    },
    {
     "name": "stderr",
     "output_type": "stream",
     "text": [
      "2018-11-16 12:28:16.865 DEBUG in 'tensorflow'['tf_logging'] at line 100: Initialize variable module/aggregation/elmo_output_ELMo_W:0 from checkpoint b'/home/kuznetsov/models_env/yahoo-sber-questions_elmo/models/mod_from_git/hubs/yahooo-sber-questions_epoches_n_9/variables/variables' with aggregation/elmo_output_ELMo_W\n",
      "2018-11-16 12:28:16.872 DEBUG in 'tensorflow'['tf_logging'] at line 100: Initialize variable module/aggregation/elmo_output_ELMo_gamma:0 from checkpoint b'/home/kuznetsov/models_env/yahoo-sber-questions_elmo/models/mod_from_git/hubs/yahooo-sber-questions_epoches_n_9/variables/variables' with aggregation/elmo_output_ELMo_gamma\n",
      "2018-11-16 12:28:16.878 DEBUG in 'tensorflow'['tf_logging'] at line 100: Initialize variable module/bilm/CNN/W_cnn_0:0 from checkpoint b'/home/kuznetsov/models_env/yahoo-sber-questions_elmo/models/mod_from_git/hubs/yahooo-sber-questions_epoches_n_9/variables/variables' with bilm/CNN/W_cnn_0\n",
      "2018-11-16 12:28:16.885 DEBUG in 'tensorflow'['tf_logging'] at line 100: Initialize variable module/bilm/CNN/W_cnn_1:0 from checkpoint b'/home/kuznetsov/models_env/yahoo-sber-questions_elmo/models/mod_from_git/hubs/yahooo-sber-questions_epoches_n_9/variables/variables' with bilm/CNN/W_cnn_1\n",
      "2018-11-16 12:28:16.894 DEBUG in 'tensorflow'['tf_logging'] at line 100: Initialize variable module/bilm/CNN/W_cnn_2:0 from checkpoint b'/home/kuznetsov/models_env/yahoo-sber-questions_elmo/models/mod_from_git/hubs/yahooo-sber-questions_epoches_n_9/variables/variables' with bilm/CNN/W_cnn_2\n",
      "2018-11-16 12:28:16.903 DEBUG in 'tensorflow'['tf_logging'] at line 100: Initialize variable module/bilm/CNN/W_cnn_3:0 from checkpoint b'/home/kuznetsov/models_env/yahoo-sber-questions_elmo/models/mod_from_git/hubs/yahooo-sber-questions_epoches_n_9/variables/variables' with bilm/CNN/W_cnn_3\n",
      "2018-11-16 12:28:16.912 DEBUG in 'tensorflow'['tf_logging'] at line 100: Initialize variable module/bilm/CNN/W_cnn_4:0 from checkpoint b'/home/kuznetsov/models_env/yahoo-sber-questions_elmo/models/mod_from_git/hubs/yahooo-sber-questions_epoches_n_9/variables/variables' with bilm/CNN/W_cnn_4\n",
      "2018-11-16 12:28:16.921 DEBUG in 'tensorflow'['tf_logging'] at line 100: Initialize variable module/bilm/CNN/W_cnn_5:0 from checkpoint b'/home/kuznetsov/models_env/yahoo-sber-questions_elmo/models/mod_from_git/hubs/yahooo-sber-questions_epoches_n_9/variables/variables' with bilm/CNN/W_cnn_5\n",
      "2018-11-16 12:28:16.930 DEBUG in 'tensorflow'['tf_logging'] at line 100: Initialize variable module/bilm/CNN/W_cnn_6:0 from checkpoint b'/home/kuznetsov/models_env/yahoo-sber-questions_elmo/models/mod_from_git/hubs/yahooo-sber-questions_epoches_n_9/variables/variables' with bilm/CNN/W_cnn_6\n",
      "2018-11-16 12:28:16.939 DEBUG in 'tensorflow'['tf_logging'] at line 100: Initialize variable module/bilm/CNN/b_cnn_0:0 from checkpoint b'/home/kuznetsov/models_env/yahoo-sber-questions_elmo/models/mod_from_git/hubs/yahooo-sber-questions_epoches_n_9/variables/variables' with bilm/CNN/b_cnn_0\n",
      "2018-11-16 12:28:16.947 DEBUG in 'tensorflow'['tf_logging'] at line 100: Initialize variable module/bilm/CNN/b_cnn_1:0 from checkpoint b'/home/kuznetsov/models_env/yahoo-sber-questions_elmo/models/mod_from_git/hubs/yahooo-sber-questions_epoches_n_9/variables/variables' with bilm/CNN/b_cnn_1\n",
      "2018-11-16 12:28:16.956 DEBUG in 'tensorflow'['tf_logging'] at line 100: Initialize variable module/bilm/CNN/b_cnn_2:0 from checkpoint b'/home/kuznetsov/models_env/yahoo-sber-questions_elmo/models/mod_from_git/hubs/yahooo-sber-questions_epoches_n_9/variables/variables' with bilm/CNN/b_cnn_2\n",
      "2018-11-16 12:28:16.966 DEBUG in 'tensorflow'['tf_logging'] at line 100: Initialize variable module/bilm/CNN/b_cnn_3:0 from checkpoint b'/home/kuznetsov/models_env/yahoo-sber-questions_elmo/models/mod_from_git/hubs/yahooo-sber-questions_epoches_n_9/variables/variables' with bilm/CNN/b_cnn_3\n",
      "2018-11-16 12:28:16.976 DEBUG in 'tensorflow'['tf_logging'] at line 100: Initialize variable module/bilm/CNN/b_cnn_4:0 from checkpoint b'/home/kuznetsov/models_env/yahoo-sber-questions_elmo/models/mod_from_git/hubs/yahooo-sber-questions_epoches_n_9/variables/variables' with bilm/CNN/b_cnn_4\n",
      "2018-11-16 12:28:16.986 DEBUG in 'tensorflow'['tf_logging'] at line 100: Initialize variable module/bilm/CNN/b_cnn_5:0 from checkpoint b'/home/kuznetsov/models_env/yahoo-sber-questions_elmo/models/mod_from_git/hubs/yahooo-sber-questions_epoches_n_9/variables/variables' with bilm/CNN/b_cnn_5\n",
      "2018-11-16 12:28:16.997 DEBUG in 'tensorflow'['tf_logging'] at line 100: Initialize variable module/bilm/CNN/b_cnn_6:0 from checkpoint b'/home/kuznetsov/models_env/yahoo-sber-questions_elmo/models/mod_from_git/hubs/yahooo-sber-questions_epoches_n_9/variables/variables' with bilm/CNN/b_cnn_6\n",
      "2018-11-16 12:28:17.7 DEBUG in 'tensorflow'['tf_logging'] at line 100: Initialize variable module/bilm/CNN_high_0/W_carry:0 from checkpoint b'/home/kuznetsov/models_env/yahoo-sber-questions_elmo/models/mod_from_git/hubs/yahooo-sber-questions_epoches_n_9/variables/variables' with bilm/CNN_high_0/W_carry\n",
      "2018-11-16 12:28:17.15 DEBUG in 'tensorflow'['tf_logging'] at line 100: Initialize variable module/bilm/CNN_high_0/W_transform:0 from checkpoint b'/home/kuznetsov/models_env/yahoo-sber-questions_elmo/models/mod_from_git/hubs/yahooo-sber-questions_epoches_n_9/variables/variables' with bilm/CNN_high_0/W_transform\n",
      "2018-11-16 12:28:17.24 DEBUG in 'tensorflow'['tf_logging'] at line 100: Initialize variable module/bilm/CNN_high_0/b_carry:0 from checkpoint b'/home/kuznetsov/models_env/yahoo-sber-questions_elmo/models/mod_from_git/hubs/yahooo-sber-questions_epoches_n_9/variables/variables' with bilm/CNN_high_0/b_carry\n",
      "2018-11-16 12:28:17.32 DEBUG in 'tensorflow'['tf_logging'] at line 100: Initialize variable module/bilm/CNN_high_0/b_transform:0 from checkpoint b'/home/kuznetsov/models_env/yahoo-sber-questions_elmo/models/mod_from_git/hubs/yahooo-sber-questions_epoches_n_9/variables/variables' with bilm/CNN_high_0/b_transform\n",
      "2018-11-16 12:28:17.40 DEBUG in 'tensorflow'['tf_logging'] at line 100: Initialize variable module/bilm/CNN_high_1/W_carry:0 from checkpoint b'/home/kuznetsov/models_env/yahoo-sber-questions_elmo/models/mod_from_git/hubs/yahooo-sber-questions_epoches_n_9/variables/variables' with bilm/CNN_high_1/W_carry\n",
      "2018-11-16 12:28:17.48 DEBUG in 'tensorflow'['tf_logging'] at line 100: Initialize variable module/bilm/CNN_high_1/W_transform:0 from checkpoint b'/home/kuznetsov/models_env/yahoo-sber-questions_elmo/models/mod_from_git/hubs/yahooo-sber-questions_epoches_n_9/variables/variables' with bilm/CNN_high_1/W_transform\n",
      "2018-11-16 12:28:17.58 DEBUG in 'tensorflow'['tf_logging'] at line 100: Initialize variable module/bilm/CNN_high_1/b_carry:0 from checkpoint b'/home/kuznetsov/models_env/yahoo-sber-questions_elmo/models/mod_from_git/hubs/yahooo-sber-questions_epoches_n_9/variables/variables' with bilm/CNN_high_1/b_carry\n",
      "2018-11-16 12:28:17.66 DEBUG in 'tensorflow'['tf_logging'] at line 100: Initialize variable module/bilm/CNN_high_1/b_transform:0 from checkpoint b'/home/kuznetsov/models_env/yahoo-sber-questions_elmo/models/mod_from_git/hubs/yahooo-sber-questions_epoches_n_9/variables/variables' with bilm/CNN_high_1/b_transform\n",
      "2018-11-16 12:28:17.76 DEBUG in 'tensorflow'['tf_logging'] at line 100: Initialize variable module/bilm/CNN_proj/W_proj:0 from checkpoint b'/home/kuznetsov/models_env/yahoo-sber-questions_elmo/models/mod_from_git/hubs/yahooo-sber-questions_epoches_n_9/variables/variables' with bilm/CNN_proj/W_proj\n",
      "2018-11-16 12:28:17.86 DEBUG in 'tensorflow'['tf_logging'] at line 100: Initialize variable module/bilm/CNN_proj/b_proj:0 from checkpoint b'/home/kuznetsov/models_env/yahoo-sber-questions_elmo/models/mod_from_git/hubs/yahooo-sber-questions_epoches_n_9/variables/variables' with bilm/CNN_proj/b_proj\n",
      "2018-11-16 12:28:17.95 DEBUG in 'tensorflow'['tf_logging'] at line 100: Initialize variable module/bilm/RNN_0/RNN/MultiRNNCell/Cell0/rnn/lstm_cell/bias:0 from checkpoint b'/home/kuznetsov/models_env/yahoo-sber-questions_elmo/models/mod_from_git/hubs/yahooo-sber-questions_epoches_n_9/variables/variables' with bilm/RNN_0/RNN/MultiRNNCell/Cell0/rnn/lstm_cell/bias\n",
      "2018-11-16 12:28:17.105 DEBUG in 'tensorflow'['tf_logging'] at line 100: Initialize variable module/bilm/RNN_0/RNN/MultiRNNCell/Cell0/rnn/lstm_cell/kernel:0 from checkpoint b'/home/kuznetsov/models_env/yahoo-sber-questions_elmo/models/mod_from_git/hubs/yahooo-sber-questions_epoches_n_9/variables/variables' with bilm/RNN_0/RNN/MultiRNNCell/Cell0/rnn/lstm_cell/kernel\n"
     ]
    },
    {
     "name": "stderr",
     "output_type": "stream",
     "text": [
      "2018-11-16 12:28:17.115 DEBUG in 'tensorflow'['tf_logging'] at line 100: Initialize variable module/bilm/RNN_0/RNN/MultiRNNCell/Cell0/rnn/lstm_cell/projection/kernel:0 from checkpoint b'/home/kuznetsov/models_env/yahoo-sber-questions_elmo/models/mod_from_git/hubs/yahooo-sber-questions_epoches_n_9/variables/variables' with bilm/RNN_0/RNN/MultiRNNCell/Cell0/rnn/lstm_cell/projection/kernel\n",
      "2018-11-16 12:28:17.125 DEBUG in 'tensorflow'['tf_logging'] at line 100: Initialize variable module/bilm/RNN_0/RNN/MultiRNNCell/Cell1/rnn/lstm_cell/bias:0 from checkpoint b'/home/kuznetsov/models_env/yahoo-sber-questions_elmo/models/mod_from_git/hubs/yahooo-sber-questions_epoches_n_9/variables/variables' with bilm/RNN_0/RNN/MultiRNNCell/Cell1/rnn/lstm_cell/bias\n",
      "2018-11-16 12:28:17.135 DEBUG in 'tensorflow'['tf_logging'] at line 100: Initialize variable module/bilm/RNN_0/RNN/MultiRNNCell/Cell1/rnn/lstm_cell/kernel:0 from checkpoint b'/home/kuznetsov/models_env/yahoo-sber-questions_elmo/models/mod_from_git/hubs/yahooo-sber-questions_epoches_n_9/variables/variables' with bilm/RNN_0/RNN/MultiRNNCell/Cell1/rnn/lstm_cell/kernel\n",
      "2018-11-16 12:28:17.145 DEBUG in 'tensorflow'['tf_logging'] at line 100: Initialize variable module/bilm/RNN_0/RNN/MultiRNNCell/Cell1/rnn/lstm_cell/projection/kernel:0 from checkpoint b'/home/kuznetsov/models_env/yahoo-sber-questions_elmo/models/mod_from_git/hubs/yahooo-sber-questions_epoches_n_9/variables/variables' with bilm/RNN_0/RNN/MultiRNNCell/Cell1/rnn/lstm_cell/projection/kernel\n",
      "2018-11-16 12:28:17.154 DEBUG in 'tensorflow'['tf_logging'] at line 100: Initialize variable module/bilm/RNN_1/RNN/MultiRNNCell/Cell0/rnn/lstm_cell/bias:0 from checkpoint b'/home/kuznetsov/models_env/yahoo-sber-questions_elmo/models/mod_from_git/hubs/yahooo-sber-questions_epoches_n_9/variables/variables' with bilm/RNN_1/RNN/MultiRNNCell/Cell0/rnn/lstm_cell/bias\n",
      "2018-11-16 12:28:17.164 DEBUG in 'tensorflow'['tf_logging'] at line 100: Initialize variable module/bilm/RNN_1/RNN/MultiRNNCell/Cell0/rnn/lstm_cell/kernel:0 from checkpoint b'/home/kuznetsov/models_env/yahoo-sber-questions_elmo/models/mod_from_git/hubs/yahooo-sber-questions_epoches_n_9/variables/variables' with bilm/RNN_1/RNN/MultiRNNCell/Cell0/rnn/lstm_cell/kernel\n",
      "2018-11-16 12:28:17.173 DEBUG in 'tensorflow'['tf_logging'] at line 100: Initialize variable module/bilm/RNN_1/RNN/MultiRNNCell/Cell0/rnn/lstm_cell/projection/kernel:0 from checkpoint b'/home/kuznetsov/models_env/yahoo-sber-questions_elmo/models/mod_from_git/hubs/yahooo-sber-questions_epoches_n_9/variables/variables' with bilm/RNN_1/RNN/MultiRNNCell/Cell0/rnn/lstm_cell/projection/kernel\n",
      "2018-11-16 12:28:17.183 DEBUG in 'tensorflow'['tf_logging'] at line 100: Initialize variable module/bilm/RNN_1/RNN/MultiRNNCell/Cell1/rnn/lstm_cell/bias:0 from checkpoint b'/home/kuznetsov/models_env/yahoo-sber-questions_elmo/models/mod_from_git/hubs/yahooo-sber-questions_epoches_n_9/variables/variables' with bilm/RNN_1/RNN/MultiRNNCell/Cell1/rnn/lstm_cell/bias\n",
      "2018-11-16 12:28:17.192 DEBUG in 'tensorflow'['tf_logging'] at line 100: Initialize variable module/bilm/RNN_1/RNN/MultiRNNCell/Cell1/rnn/lstm_cell/kernel:0 from checkpoint b'/home/kuznetsov/models_env/yahoo-sber-questions_elmo/models/mod_from_git/hubs/yahooo-sber-questions_epoches_n_9/variables/variables' with bilm/RNN_1/RNN/MultiRNNCell/Cell1/rnn/lstm_cell/kernel\n",
      "2018-11-16 12:28:17.202 DEBUG in 'tensorflow'['tf_logging'] at line 100: Initialize variable module/bilm/RNN_1/RNN/MultiRNNCell/Cell1/rnn/lstm_cell/projection/kernel:0 from checkpoint b'/home/kuznetsov/models_env/yahoo-sber-questions_elmo/models/mod_from_git/hubs/yahooo-sber-questions_epoches_n_9/variables/variables' with bilm/RNN_1/RNN/MultiRNNCell/Cell1/rnn/lstm_cell/projection/kernel\n",
      "2018-11-16 12:28:17.212 DEBUG in 'tensorflow'['tf_logging'] at line 100: Initialize variable module/bilm/Variable:0 from checkpoint b'/home/kuznetsov/models_env/yahoo-sber-questions_elmo/models/mod_from_git/hubs/yahooo-sber-questions_epoches_n_9/variables/variables' with bilm/Variable\n",
      "2018-11-16 12:28:17.222 DEBUG in 'tensorflow'['tf_logging'] at line 100: Initialize variable module/bilm/Variable_1:0 from checkpoint b'/home/kuznetsov/models_env/yahoo-sber-questions_elmo/models/mod_from_git/hubs/yahooo-sber-questions_epoches_n_9/variables/variables' with bilm/Variable_1\n",
      "2018-11-16 12:28:17.232 DEBUG in 'tensorflow'['tf_logging'] at line 100: Initialize variable module/bilm/Variable_2:0 from checkpoint b'/home/kuznetsov/models_env/yahoo-sber-questions_elmo/models/mod_from_git/hubs/yahooo-sber-questions_epoches_n_9/variables/variables' with bilm/Variable_2\n",
      "2018-11-16 12:28:17.242 DEBUG in 'tensorflow'['tf_logging'] at line 100: Initialize variable module/bilm/Variable_3:0 from checkpoint b'/home/kuznetsov/models_env/yahoo-sber-questions_elmo/models/mod_from_git/hubs/yahooo-sber-questions_epoches_n_9/variables/variables' with bilm/Variable_3\n",
      "2018-11-16 12:28:17.252 DEBUG in 'tensorflow'['tf_logging'] at line 100: Initialize variable module/bilm/Variable_4:0 from checkpoint b'/home/kuznetsov/models_env/yahoo-sber-questions_elmo/models/mod_from_git/hubs/yahooo-sber-questions_epoches_n_9/variables/variables' with bilm/Variable_4\n",
      "2018-11-16 12:28:17.261 DEBUG in 'tensorflow'['tf_logging'] at line 100: Initialize variable module/bilm/Variable_5:0 from checkpoint b'/home/kuznetsov/models_env/yahoo-sber-questions_elmo/models/mod_from_git/hubs/yahooo-sber-questions_epoches_n_9/variables/variables' with bilm/Variable_5\n",
      "2018-11-16 12:28:17.270 DEBUG in 'tensorflow'['tf_logging'] at line 100: Initialize variable module/bilm/Variable_6:0 from checkpoint b'/home/kuznetsov/models_env/yahoo-sber-questions_elmo/models/mod_from_git/hubs/yahooo-sber-questions_epoches_n_9/variables/variables' with bilm/Variable_6\n",
      "2018-11-16 12:28:17.278 DEBUG in 'tensorflow'['tf_logging'] at line 100: Initialize variable module/bilm/Variable_7:0 from checkpoint b'/home/kuznetsov/models_env/yahoo-sber-questions_elmo/models/mod_from_git/hubs/yahooo-sber-questions_epoches_n_9/variables/variables' with bilm/Variable_7\n",
      "2018-11-16 12:28:17.285 DEBUG in 'tensorflow'['tf_logging'] at line 100: Initialize variable module/bilm/char_embed:0 from checkpoint b'/home/kuznetsov/models_env/yahoo-sber-questions_elmo/models/mod_from_git/hubs/yahooo-sber-questions_epoches_n_9/variables/variables' with bilm/char_embed\n",
      "2018-11-16 12:28:17.292 DEBUG in 'tensorflow'['tf_logging'] at line 100: Initialize variable module/bilm_1/Variable:0 from checkpoint b'/home/kuznetsov/models_env/yahoo-sber-questions_elmo/models/mod_from_git/hubs/yahooo-sber-questions_epoches_n_9/variables/variables' with bilm_1/Variable\n",
      "2018-11-16 12:28:17.299 DEBUG in 'tensorflow'['tf_logging'] at line 100: Initialize variable module/bilm_1/Variable_1:0 from checkpoint b'/home/kuznetsov/models_env/yahoo-sber-questions_elmo/models/mod_from_git/hubs/yahooo-sber-questions_epoches_n_9/variables/variables' with bilm_1/Variable_1\n",
      "2018-11-16 12:28:17.305 DEBUG in 'tensorflow'['tf_logging'] at line 100: Initialize variable module/bilm_1/Variable_2:0 from checkpoint b'/home/kuznetsov/models_env/yahoo-sber-questions_elmo/models/mod_from_git/hubs/yahooo-sber-questions_epoches_n_9/variables/variables' with bilm_1/Variable_2\n",
      "2018-11-16 12:28:17.313 DEBUG in 'tensorflow'['tf_logging'] at line 100: Initialize variable module/bilm_1/Variable_3:0 from checkpoint b'/home/kuznetsov/models_env/yahoo-sber-questions_elmo/models/mod_from_git/hubs/yahooo-sber-questions_epoches_n_9/variables/variables' with bilm_1/Variable_3\n",
      "2018-11-16 12:28:17.321 DEBUG in 'tensorflow'['tf_logging'] at line 100: Initialize variable module/bilm_1/Variable_4:0 from checkpoint b'/home/kuznetsov/models_env/yahoo-sber-questions_elmo/models/mod_from_git/hubs/yahooo-sber-questions_epoches_n_9/variables/variables' with bilm_1/Variable_4\n",
      "2018-11-16 12:28:17.327 DEBUG in 'tensorflow'['tf_logging'] at line 100: Initialize variable module/bilm_1/Variable_5:0 from checkpoint b'/home/kuznetsov/models_env/yahoo-sber-questions_elmo/models/mod_from_git/hubs/yahooo-sber-questions_epoches_n_9/variables/variables' with bilm_1/Variable_5\n",
      "2018-11-16 12:28:17.333 DEBUG in 'tensorflow'['tf_logging'] at line 100: Initialize variable module/bilm_1/Variable_6:0 from checkpoint b'/home/kuznetsov/models_env/yahoo-sber-questions_elmo/models/mod_from_git/hubs/yahooo-sber-questions_epoches_n_9/variables/variables' with bilm_1/Variable_6\n"
     ]
    },
    {
     "name": "stderr",
     "output_type": "stream",
     "text": [
      "2018-11-16 12:28:17.339 DEBUG in 'tensorflow'['tf_logging'] at line 100: Initialize variable module/bilm_1/Variable_7:0 from checkpoint b'/home/kuznetsov/models_env/yahoo-sber-questions_elmo/models/mod_from_git/hubs/yahooo-sber-questions_epoches_n_9/variables/variables' with bilm_1/Variable_7\n",
      "2018-11-16 12:28:19.91 INFO in 'tensorflow'['tf_logging'] at line 115: Saver not created because there are no variables in the graph to restore\n",
      "2018-11-16 12:28:20.749 INFO in 'deeppavlov.models.classifiers.keras_classification_model'['keras_classification_model'] at line 291: [initializing `KerasClassificationModel` from saved]\n",
      "2018-11-16 12:28:21.831 INFO in 'deeppavlov.models.classifiers.keras_classification_model'['keras_classification_model'] at line 301: [loading weights from model.h5]\n",
      "2018-11-16 12:28:22.56 INFO in 'deeppavlov.models.classifiers.keras_classification_model'['keras_classification_model'] at line 135: Model was successfully initialized!\n",
      "Model summary:\n",
      "__________________________________________________________________________________________________\n",
      "Layer (type)                    Output Shape         Param #     Connected to                     \n",
      "==================================================================================================\n",
      "input_1 (InputLayer)            (None, 20, 1024)     0                                            \n",
      "__________________________________________________________________________________________________\n",
      "dropout_1 (Dropout)             (None, 20, 1024)     0           input_1[0][0]                    \n",
      "__________________________________________________________________________________________________\n",
      "bidirectional_1 (Bidirectional) [(None, 20, 512), (N 1967616     dropout_1[0][0]                  \n",
      "__________________________________________________________________________________________________\n",
      "global_max_pooling1d_1 (GlobalM (None, 512)          0           bidirectional_1[0][0]            \n",
      "__________________________________________________________________________________________________\n",
      "global_average_pooling1d_1 (Glo (None, 512)          0           bidirectional_1[0][0]            \n",
      "__________________________________________________________________________________________________\n",
      "concatenate_1 (Concatenate)     (None, 1536)         0           global_max_pooling1d_1[0][0]     \n",
      "                                                                 global_average_pooling1d_1[0][0] \n",
      "                                                                 bidirectional_1[0][1]            \n",
      "                                                                 bidirectional_1[0][2]            \n",
      "__________________________________________________________________________________________________\n",
      "dropout_2 (Dropout)             (None, 1536)         0           concatenate_1[0][0]              \n",
      "__________________________________________________________________________________________________\n",
      "dense_1 (Dense)                 (None, 100)          153700      dropout_2[0][0]                  \n",
      "__________________________________________________________________________________________________\n",
      "activation_1 (Activation)       (None, 100)          0           dense_1[0][0]                    \n",
      "__________________________________________________________________________________________________\n",
      "dropout_3 (Dropout)             (None, 100)          0           activation_1[0][0]               \n",
      "__________________________________________________________________________________________________\n",
      "dense_2 (Dense)                 (None, 2)            202         dropout_3[0][0]                  \n",
      "__________________________________________________________________________________________________\n",
      "activation_2 (Activation)       (None, 2)            0           dense_2[0][0]                    \n",
      "==================================================================================================\n",
      "Total params: 2,121,518\n",
      "Trainable params: 2,121,518\n",
      "Non-trainable params: 0\n",
      "__________________________________________________________________________________________________\n",
      "2018-11-16 12:28:22.58 INFO in 'deeppavlov.core.commands.train'['train'] at line 221: Testing the best saved model\n"
     ]
    },
    {
     "name": "stdout",
     "output_type": "stream",
     "text": [
      "{\"valid\": {\"eval_examples_count\": 403, \"metrics\": {\"roc_auc\": 0.9341, \"sets_accuracy\": 0.8586, \"f1_macro\": 0.8572}, \"time_spent\": \"0:00:08\"}}\n"
     ]
    },
    {
     "name": "stderr",
     "output_type": "stream",
     "text": [
      "2018-11-16 12:28:30.626 INFO in 'deeppavlov.core.data.simple_vocab'['simple_vocab'] at line 100: [loading vocabulary from /cephfs/home/dilyara.baymurzina/GitHub/reserve/DeepPavlov/download/YahooAnswers/models/model_v39/yahoo_answers_classes.dict]\n"
     ]
    },
    {
     "name": "stdout",
     "output_type": "stream",
     "text": [
      "{\"test\": {\"eval_examples_count\": 100, \"metrics\": {\"roc_auc\": 0.8964, \"sets_accuracy\": 0.8, \"f1_macro\": 0.7933}, \"time_spent\": \"0:00:02\"}}\n"
     ]
    },
    {
     "name": "stderr",
     "output_type": "stream",
     "text": [
      "2018-11-16 12:28:34.461 DEBUG in 'tensorflow'['tf_logging'] at line 100: Initialize variable module/aggregation/elmo_output_ELMo_W:0 from checkpoint b'/home/kuznetsov/models_env/yahoo-sber-questions_elmo/models/mod_from_git/hubs/yahooo-sber-questions_epoches_n_9/variables/variables' with aggregation/elmo_output_ELMo_W\n",
      "2018-11-16 12:28:34.467 DEBUG in 'tensorflow'['tf_logging'] at line 100: Initialize variable module/aggregation/elmo_output_ELMo_gamma:0 from checkpoint b'/home/kuznetsov/models_env/yahoo-sber-questions_elmo/models/mod_from_git/hubs/yahooo-sber-questions_epoches_n_9/variables/variables' with aggregation/elmo_output_ELMo_gamma\n",
      "2018-11-16 12:28:34.474 DEBUG in 'tensorflow'['tf_logging'] at line 100: Initialize variable module/bilm/CNN/W_cnn_0:0 from checkpoint b'/home/kuznetsov/models_env/yahoo-sber-questions_elmo/models/mod_from_git/hubs/yahooo-sber-questions_epoches_n_9/variables/variables' with bilm/CNN/W_cnn_0\n",
      "2018-11-16 12:28:34.480 DEBUG in 'tensorflow'['tf_logging'] at line 100: Initialize variable module/bilm/CNN/W_cnn_1:0 from checkpoint b'/home/kuznetsov/models_env/yahoo-sber-questions_elmo/models/mod_from_git/hubs/yahooo-sber-questions_epoches_n_9/variables/variables' with bilm/CNN/W_cnn_1\n",
      "2018-11-16 12:28:34.486 DEBUG in 'tensorflow'['tf_logging'] at line 100: Initialize variable module/bilm/CNN/W_cnn_2:0 from checkpoint b'/home/kuznetsov/models_env/yahoo-sber-questions_elmo/models/mod_from_git/hubs/yahooo-sber-questions_epoches_n_9/variables/variables' with bilm/CNN/W_cnn_2\n",
      "2018-11-16 12:28:34.491 DEBUG in 'tensorflow'['tf_logging'] at line 100: Initialize variable module/bilm/CNN/W_cnn_3:0 from checkpoint b'/home/kuznetsov/models_env/yahoo-sber-questions_elmo/models/mod_from_git/hubs/yahooo-sber-questions_epoches_n_9/variables/variables' with bilm/CNN/W_cnn_3\n",
      "2018-11-16 12:28:34.497 DEBUG in 'tensorflow'['tf_logging'] at line 100: Initialize variable module/bilm/CNN/W_cnn_4:0 from checkpoint b'/home/kuznetsov/models_env/yahoo-sber-questions_elmo/models/mod_from_git/hubs/yahooo-sber-questions_epoches_n_9/variables/variables' with bilm/CNN/W_cnn_4\n",
      "2018-11-16 12:28:34.504 DEBUG in 'tensorflow'['tf_logging'] at line 100: Initialize variable module/bilm/CNN/W_cnn_5:0 from checkpoint b'/home/kuznetsov/models_env/yahoo-sber-questions_elmo/models/mod_from_git/hubs/yahooo-sber-questions_epoches_n_9/variables/variables' with bilm/CNN/W_cnn_5\n",
      "2018-11-16 12:28:34.511 DEBUG in 'tensorflow'['tf_logging'] at line 100: Initialize variable module/bilm/CNN/W_cnn_6:0 from checkpoint b'/home/kuznetsov/models_env/yahoo-sber-questions_elmo/models/mod_from_git/hubs/yahooo-sber-questions_epoches_n_9/variables/variables' with bilm/CNN/W_cnn_6\n",
      "2018-11-16 12:28:34.520 DEBUG in 'tensorflow'['tf_logging'] at line 100: Initialize variable module/bilm/CNN/b_cnn_0:0 from checkpoint b'/home/kuznetsov/models_env/yahoo-sber-questions_elmo/models/mod_from_git/hubs/yahooo-sber-questions_epoches_n_9/variables/variables' with bilm/CNN/b_cnn_0\n",
      "2018-11-16 12:28:34.529 DEBUG in 'tensorflow'['tf_logging'] at line 100: Initialize variable module/bilm/CNN/b_cnn_1:0 from checkpoint b'/home/kuznetsov/models_env/yahoo-sber-questions_elmo/models/mod_from_git/hubs/yahooo-sber-questions_epoches_n_9/variables/variables' with bilm/CNN/b_cnn_1\n",
      "2018-11-16 12:28:34.538 DEBUG in 'tensorflow'['tf_logging'] at line 100: Initialize variable module/bilm/CNN/b_cnn_2:0 from checkpoint b'/home/kuznetsov/models_env/yahoo-sber-questions_elmo/models/mod_from_git/hubs/yahooo-sber-questions_epoches_n_9/variables/variables' with bilm/CNN/b_cnn_2\n",
      "2018-11-16 12:28:34.546 DEBUG in 'tensorflow'['tf_logging'] at line 100: Initialize variable module/bilm/CNN/b_cnn_3:0 from checkpoint b'/home/kuznetsov/models_env/yahoo-sber-questions_elmo/models/mod_from_git/hubs/yahooo-sber-questions_epoches_n_9/variables/variables' with bilm/CNN/b_cnn_3\n",
      "2018-11-16 12:28:34.555 DEBUG in 'tensorflow'['tf_logging'] at line 100: Initialize variable module/bilm/CNN/b_cnn_4:0 from checkpoint b'/home/kuznetsov/models_env/yahoo-sber-questions_elmo/models/mod_from_git/hubs/yahooo-sber-questions_epoches_n_9/variables/variables' with bilm/CNN/b_cnn_4\n",
      "2018-11-16 12:28:34.564 DEBUG in 'tensorflow'['tf_logging'] at line 100: Initialize variable module/bilm/CNN/b_cnn_5:0 from checkpoint b'/home/kuznetsov/models_env/yahoo-sber-questions_elmo/models/mod_from_git/hubs/yahooo-sber-questions_epoches_n_9/variables/variables' with bilm/CNN/b_cnn_5\n",
      "2018-11-16 12:28:34.572 DEBUG in 'tensorflow'['tf_logging'] at line 100: Initialize variable module/bilm/CNN/b_cnn_6:0 from checkpoint b'/home/kuznetsov/models_env/yahoo-sber-questions_elmo/models/mod_from_git/hubs/yahooo-sber-questions_epoches_n_9/variables/variables' with bilm/CNN/b_cnn_6\n",
      "2018-11-16 12:28:34.581 DEBUG in 'tensorflow'['tf_logging'] at line 100: Initialize variable module/bilm/CNN_high_0/W_carry:0 from checkpoint b'/home/kuznetsov/models_env/yahoo-sber-questions_elmo/models/mod_from_git/hubs/yahooo-sber-questions_epoches_n_9/variables/variables' with bilm/CNN_high_0/W_carry\n",
      "2018-11-16 12:28:34.590 DEBUG in 'tensorflow'['tf_logging'] at line 100: Initialize variable module/bilm/CNN_high_0/W_transform:0 from checkpoint b'/home/kuznetsov/models_env/yahoo-sber-questions_elmo/models/mod_from_git/hubs/yahooo-sber-questions_epoches_n_9/variables/variables' with bilm/CNN_high_0/W_transform\n",
      "2018-11-16 12:28:34.599 DEBUG in 'tensorflow'['tf_logging'] at line 100: Initialize variable module/bilm/CNN_high_0/b_carry:0 from checkpoint b'/home/kuznetsov/models_env/yahoo-sber-questions_elmo/models/mod_from_git/hubs/yahooo-sber-questions_epoches_n_9/variables/variables' with bilm/CNN_high_0/b_carry\n",
      "2018-11-16 12:28:34.607 DEBUG in 'tensorflow'['tf_logging'] at line 100: Initialize variable module/bilm/CNN_high_0/b_transform:0 from checkpoint b'/home/kuznetsov/models_env/yahoo-sber-questions_elmo/models/mod_from_git/hubs/yahooo-sber-questions_epoches_n_9/variables/variables' with bilm/CNN_high_0/b_transform\n",
      "2018-11-16 12:28:34.616 DEBUG in 'tensorflow'['tf_logging'] at line 100: Initialize variable module/bilm/CNN_high_1/W_carry:0 from checkpoint b'/home/kuznetsov/models_env/yahoo-sber-questions_elmo/models/mod_from_git/hubs/yahooo-sber-questions_epoches_n_9/variables/variables' with bilm/CNN_high_1/W_carry\n",
      "2018-11-16 12:28:34.624 DEBUG in 'tensorflow'['tf_logging'] at line 100: Initialize variable module/bilm/CNN_high_1/W_transform:0 from checkpoint b'/home/kuznetsov/models_env/yahoo-sber-questions_elmo/models/mod_from_git/hubs/yahooo-sber-questions_epoches_n_9/variables/variables' with bilm/CNN_high_1/W_transform\n",
      "2018-11-16 12:28:34.631 DEBUG in 'tensorflow'['tf_logging'] at line 100: Initialize variable module/bilm/CNN_high_1/b_carry:0 from checkpoint b'/home/kuznetsov/models_env/yahoo-sber-questions_elmo/models/mod_from_git/hubs/yahooo-sber-questions_epoches_n_9/variables/variables' with bilm/CNN_high_1/b_carry\n",
      "2018-11-16 12:28:34.637 DEBUG in 'tensorflow'['tf_logging'] at line 100: Initialize variable module/bilm/CNN_high_1/b_transform:0 from checkpoint b'/home/kuznetsov/models_env/yahoo-sber-questions_elmo/models/mod_from_git/hubs/yahooo-sber-questions_epoches_n_9/variables/variables' with bilm/CNN_high_1/b_transform\n",
      "2018-11-16 12:28:34.643 DEBUG in 'tensorflow'['tf_logging'] at line 100: Initialize variable module/bilm/CNN_proj/W_proj:0 from checkpoint b'/home/kuznetsov/models_env/yahoo-sber-questions_elmo/models/mod_from_git/hubs/yahooo-sber-questions_epoches_n_9/variables/variables' with bilm/CNN_proj/W_proj\n",
      "2018-11-16 12:28:34.651 DEBUG in 'tensorflow'['tf_logging'] at line 100: Initialize variable module/bilm/CNN_proj/b_proj:0 from checkpoint b'/home/kuznetsov/models_env/yahoo-sber-questions_elmo/models/mod_from_git/hubs/yahooo-sber-questions_epoches_n_9/variables/variables' with bilm/CNN_proj/b_proj\n",
      "2018-11-16 12:28:34.657 DEBUG in 'tensorflow'['tf_logging'] at line 100: Initialize variable module/bilm/RNN_0/RNN/MultiRNNCell/Cell0/rnn/lstm_cell/bias:0 from checkpoint b'/home/kuznetsov/models_env/yahoo-sber-questions_elmo/models/mod_from_git/hubs/yahooo-sber-questions_epoches_n_9/variables/variables' with bilm/RNN_0/RNN/MultiRNNCell/Cell0/rnn/lstm_cell/bias\n",
      "2018-11-16 12:28:34.663 DEBUG in 'tensorflow'['tf_logging'] at line 100: Initialize variable module/bilm/RNN_0/RNN/MultiRNNCell/Cell0/rnn/lstm_cell/kernel:0 from checkpoint b'/home/kuznetsov/models_env/yahoo-sber-questions_elmo/models/mod_from_git/hubs/yahooo-sber-questions_epoches_n_9/variables/variables' with bilm/RNN_0/RNN/MultiRNNCell/Cell0/rnn/lstm_cell/kernel\n"
     ]
    },
    {
     "name": "stderr",
     "output_type": "stream",
     "text": [
      "2018-11-16 12:28:34.669 DEBUG in 'tensorflow'['tf_logging'] at line 100: Initialize variable module/bilm/RNN_0/RNN/MultiRNNCell/Cell0/rnn/lstm_cell/projection/kernel:0 from checkpoint b'/home/kuznetsov/models_env/yahoo-sber-questions_elmo/models/mod_from_git/hubs/yahooo-sber-questions_epoches_n_9/variables/variables' with bilm/RNN_0/RNN/MultiRNNCell/Cell0/rnn/lstm_cell/projection/kernel\n",
      "2018-11-16 12:28:34.675 DEBUG in 'tensorflow'['tf_logging'] at line 100: Initialize variable module/bilm/RNN_0/RNN/MultiRNNCell/Cell1/rnn/lstm_cell/bias:0 from checkpoint b'/home/kuznetsov/models_env/yahoo-sber-questions_elmo/models/mod_from_git/hubs/yahooo-sber-questions_epoches_n_9/variables/variables' with bilm/RNN_0/RNN/MultiRNNCell/Cell1/rnn/lstm_cell/bias\n",
      "2018-11-16 12:28:34.681 DEBUG in 'tensorflow'['tf_logging'] at line 100: Initialize variable module/bilm/RNN_0/RNN/MultiRNNCell/Cell1/rnn/lstm_cell/kernel:0 from checkpoint b'/home/kuznetsov/models_env/yahoo-sber-questions_elmo/models/mod_from_git/hubs/yahooo-sber-questions_epoches_n_9/variables/variables' with bilm/RNN_0/RNN/MultiRNNCell/Cell1/rnn/lstm_cell/kernel\n",
      "2018-11-16 12:28:34.688 DEBUG in 'tensorflow'['tf_logging'] at line 100: Initialize variable module/bilm/RNN_0/RNN/MultiRNNCell/Cell1/rnn/lstm_cell/projection/kernel:0 from checkpoint b'/home/kuznetsov/models_env/yahoo-sber-questions_elmo/models/mod_from_git/hubs/yahooo-sber-questions_epoches_n_9/variables/variables' with bilm/RNN_0/RNN/MultiRNNCell/Cell1/rnn/lstm_cell/projection/kernel\n",
      "2018-11-16 12:28:34.694 DEBUG in 'tensorflow'['tf_logging'] at line 100: Initialize variable module/bilm/RNN_1/RNN/MultiRNNCell/Cell0/rnn/lstm_cell/bias:0 from checkpoint b'/home/kuznetsov/models_env/yahoo-sber-questions_elmo/models/mod_from_git/hubs/yahooo-sber-questions_epoches_n_9/variables/variables' with bilm/RNN_1/RNN/MultiRNNCell/Cell0/rnn/lstm_cell/bias\n",
      "2018-11-16 12:28:34.700 DEBUG in 'tensorflow'['tf_logging'] at line 100: Initialize variable module/bilm/RNN_1/RNN/MultiRNNCell/Cell0/rnn/lstm_cell/kernel:0 from checkpoint b'/home/kuznetsov/models_env/yahoo-sber-questions_elmo/models/mod_from_git/hubs/yahooo-sber-questions_epoches_n_9/variables/variables' with bilm/RNN_1/RNN/MultiRNNCell/Cell0/rnn/lstm_cell/kernel\n",
      "2018-11-16 12:28:34.706 DEBUG in 'tensorflow'['tf_logging'] at line 100: Initialize variable module/bilm/RNN_1/RNN/MultiRNNCell/Cell0/rnn/lstm_cell/projection/kernel:0 from checkpoint b'/home/kuznetsov/models_env/yahoo-sber-questions_elmo/models/mod_from_git/hubs/yahooo-sber-questions_epoches_n_9/variables/variables' with bilm/RNN_1/RNN/MultiRNNCell/Cell0/rnn/lstm_cell/projection/kernel\n",
      "2018-11-16 12:28:34.712 DEBUG in 'tensorflow'['tf_logging'] at line 100: Initialize variable module/bilm/RNN_1/RNN/MultiRNNCell/Cell1/rnn/lstm_cell/bias:0 from checkpoint b'/home/kuznetsov/models_env/yahoo-sber-questions_elmo/models/mod_from_git/hubs/yahooo-sber-questions_epoches_n_9/variables/variables' with bilm/RNN_1/RNN/MultiRNNCell/Cell1/rnn/lstm_cell/bias\n",
      "2018-11-16 12:28:34.718 DEBUG in 'tensorflow'['tf_logging'] at line 100: Initialize variable module/bilm/RNN_1/RNN/MultiRNNCell/Cell1/rnn/lstm_cell/kernel:0 from checkpoint b'/home/kuznetsov/models_env/yahoo-sber-questions_elmo/models/mod_from_git/hubs/yahooo-sber-questions_epoches_n_9/variables/variables' with bilm/RNN_1/RNN/MultiRNNCell/Cell1/rnn/lstm_cell/kernel\n",
      "2018-11-16 12:28:34.724 DEBUG in 'tensorflow'['tf_logging'] at line 100: Initialize variable module/bilm/RNN_1/RNN/MultiRNNCell/Cell1/rnn/lstm_cell/projection/kernel:0 from checkpoint b'/home/kuznetsov/models_env/yahoo-sber-questions_elmo/models/mod_from_git/hubs/yahooo-sber-questions_epoches_n_9/variables/variables' with bilm/RNN_1/RNN/MultiRNNCell/Cell1/rnn/lstm_cell/projection/kernel\n",
      "2018-11-16 12:28:34.730 DEBUG in 'tensorflow'['tf_logging'] at line 100: Initialize variable module/bilm/Variable:0 from checkpoint b'/home/kuznetsov/models_env/yahoo-sber-questions_elmo/models/mod_from_git/hubs/yahooo-sber-questions_epoches_n_9/variables/variables' with bilm/Variable\n",
      "2018-11-16 12:28:34.737 DEBUG in 'tensorflow'['tf_logging'] at line 100: Initialize variable module/bilm/Variable_1:0 from checkpoint b'/home/kuznetsov/models_env/yahoo-sber-questions_elmo/models/mod_from_git/hubs/yahooo-sber-questions_epoches_n_9/variables/variables' with bilm/Variable_1\n",
      "2018-11-16 12:28:34.743 DEBUG in 'tensorflow'['tf_logging'] at line 100: Initialize variable module/bilm/Variable_2:0 from checkpoint b'/home/kuznetsov/models_env/yahoo-sber-questions_elmo/models/mod_from_git/hubs/yahooo-sber-questions_epoches_n_9/variables/variables' with bilm/Variable_2\n",
      "2018-11-16 12:28:34.749 DEBUG in 'tensorflow'['tf_logging'] at line 100: Initialize variable module/bilm/Variable_3:0 from checkpoint b'/home/kuznetsov/models_env/yahoo-sber-questions_elmo/models/mod_from_git/hubs/yahooo-sber-questions_epoches_n_9/variables/variables' with bilm/Variable_3\n",
      "2018-11-16 12:28:34.755 DEBUG in 'tensorflow'['tf_logging'] at line 100: Initialize variable module/bilm/Variable_4:0 from checkpoint b'/home/kuznetsov/models_env/yahoo-sber-questions_elmo/models/mod_from_git/hubs/yahooo-sber-questions_epoches_n_9/variables/variables' with bilm/Variable_4\n",
      "2018-11-16 12:28:34.761 DEBUG in 'tensorflow'['tf_logging'] at line 100: Initialize variable module/bilm/Variable_5:0 from checkpoint b'/home/kuznetsov/models_env/yahoo-sber-questions_elmo/models/mod_from_git/hubs/yahooo-sber-questions_epoches_n_9/variables/variables' with bilm/Variable_5\n",
      "2018-11-16 12:28:34.767 DEBUG in 'tensorflow'['tf_logging'] at line 100: Initialize variable module/bilm/Variable_6:0 from checkpoint b'/home/kuznetsov/models_env/yahoo-sber-questions_elmo/models/mod_from_git/hubs/yahooo-sber-questions_epoches_n_9/variables/variables' with bilm/Variable_6\n",
      "2018-11-16 12:28:34.773 DEBUG in 'tensorflow'['tf_logging'] at line 100: Initialize variable module/bilm/Variable_7:0 from checkpoint b'/home/kuznetsov/models_env/yahoo-sber-questions_elmo/models/mod_from_git/hubs/yahooo-sber-questions_epoches_n_9/variables/variables' with bilm/Variable_7\n",
      "2018-11-16 12:28:34.779 DEBUG in 'tensorflow'['tf_logging'] at line 100: Initialize variable module/bilm/char_embed:0 from checkpoint b'/home/kuznetsov/models_env/yahoo-sber-questions_elmo/models/mod_from_git/hubs/yahooo-sber-questions_epoches_n_9/variables/variables' with bilm/char_embed\n",
      "2018-11-16 12:28:34.785 DEBUG in 'tensorflow'['tf_logging'] at line 100: Initialize variable module/bilm_1/Variable:0 from checkpoint b'/home/kuznetsov/models_env/yahoo-sber-questions_elmo/models/mod_from_git/hubs/yahooo-sber-questions_epoches_n_9/variables/variables' with bilm_1/Variable\n",
      "2018-11-16 12:28:34.791 DEBUG in 'tensorflow'['tf_logging'] at line 100: Initialize variable module/bilm_1/Variable_1:0 from checkpoint b'/home/kuznetsov/models_env/yahoo-sber-questions_elmo/models/mod_from_git/hubs/yahooo-sber-questions_epoches_n_9/variables/variables' with bilm_1/Variable_1\n",
      "2018-11-16 12:28:34.797 DEBUG in 'tensorflow'['tf_logging'] at line 100: Initialize variable module/bilm_1/Variable_2:0 from checkpoint b'/home/kuznetsov/models_env/yahoo-sber-questions_elmo/models/mod_from_git/hubs/yahooo-sber-questions_epoches_n_9/variables/variables' with bilm_1/Variable_2\n",
      "2018-11-16 12:28:34.803 DEBUG in 'tensorflow'['tf_logging'] at line 100: Initialize variable module/bilm_1/Variable_3:0 from checkpoint b'/home/kuznetsov/models_env/yahoo-sber-questions_elmo/models/mod_from_git/hubs/yahooo-sber-questions_epoches_n_9/variables/variables' with bilm_1/Variable_3\n",
      "2018-11-16 12:28:34.810 DEBUG in 'tensorflow'['tf_logging'] at line 100: Initialize variable module/bilm_1/Variable_4:0 from checkpoint b'/home/kuznetsov/models_env/yahoo-sber-questions_elmo/models/mod_from_git/hubs/yahooo-sber-questions_epoches_n_9/variables/variables' with bilm_1/Variable_4\n",
      "2018-11-16 12:28:34.816 DEBUG in 'tensorflow'['tf_logging'] at line 100: Initialize variable module/bilm_1/Variable_5:0 from checkpoint b'/home/kuznetsov/models_env/yahoo-sber-questions_elmo/models/mod_from_git/hubs/yahooo-sber-questions_epoches_n_9/variables/variables' with bilm_1/Variable_5\n",
      "2018-11-16 12:28:34.823 DEBUG in 'tensorflow'['tf_logging'] at line 100: Initialize variable module/bilm_1/Variable_6:0 from checkpoint b'/home/kuznetsov/models_env/yahoo-sber-questions_elmo/models/mod_from_git/hubs/yahooo-sber-questions_epoches_n_9/variables/variables' with bilm_1/Variable_6\n"
     ]
    },
    {
     "name": "stderr",
     "output_type": "stream",
     "text": [
      "2018-11-16 12:28:34.829 DEBUG in 'tensorflow'['tf_logging'] at line 100: Initialize variable module/bilm_1/Variable_7:0 from checkpoint b'/home/kuznetsov/models_env/yahoo-sber-questions_elmo/models/mod_from_git/hubs/yahooo-sber-questions_epoches_n_9/variables/variables' with bilm_1/Variable_7\n",
      "2018-11-16 12:28:37.237 INFO in 'tensorflow'['tf_logging'] at line 115: Saver not created because there are no variables in the graph to restore\n",
      "2018-11-16 12:28:37.772 INFO in 'deeppavlov.models.classifiers.keras_classification_model'['keras_classification_model'] at line 291: [initializing `KerasClassificationModel` from saved]\n",
      "2018-11-16 12:28:39.321 INFO in 'deeppavlov.models.classifiers.keras_classification_model'['keras_classification_model'] at line 301: [loading weights from model.h5]\n",
      "2018-11-16 12:28:40.469 INFO in 'deeppavlov.models.classifiers.keras_classification_model'['keras_classification_model'] at line 135: Model was successfully initialized!\n",
      "Model summary:\n",
      "__________________________________________________________________________________________________\n",
      "Layer (type)                    Output Shape         Param #     Connected to                     \n",
      "==================================================================================================\n",
      "input_1 (InputLayer)            (None, 20, 1024)     0                                            \n",
      "__________________________________________________________________________________________________\n",
      "dropout_1 (Dropout)             (None, 20, 1024)     0           input_1[0][0]                    \n",
      "__________________________________________________________________________________________________\n",
      "bidirectional_1 (Bidirectional) [(None, 20, 512), (N 1967616     dropout_1[0][0]                  \n",
      "__________________________________________________________________________________________________\n",
      "global_max_pooling1d_1 (GlobalM (None, 512)          0           bidirectional_1[0][0]            \n",
      "__________________________________________________________________________________________________\n",
      "global_average_pooling1d_1 (Glo (None, 512)          0           bidirectional_1[0][0]            \n",
      "__________________________________________________________________________________________________\n",
      "concatenate_1 (Concatenate)     (None, 1536)         0           global_max_pooling1d_1[0][0]     \n",
      "                                                                 global_average_pooling1d_1[0][0] \n",
      "                                                                 bidirectional_1[0][1]            \n",
      "                                                                 bidirectional_1[0][2]            \n",
      "__________________________________________________________________________________________________\n",
      "dropout_2 (Dropout)             (None, 1536)         0           concatenate_1[0][0]              \n",
      "__________________________________________________________________________________________________\n",
      "dense_1 (Dense)                 (None, 100)          153700      dropout_2[0][0]                  \n",
      "__________________________________________________________________________________________________\n",
      "activation_1 (Activation)       (None, 100)          0           dense_1[0][0]                    \n",
      "__________________________________________________________________________________________________\n",
      "dropout_3 (Dropout)             (None, 100)          0           activation_1[0][0]               \n",
      "__________________________________________________________________________________________________\n",
      "dense_2 (Dense)                 (None, 2)            202         dropout_3[0][0]                  \n",
      "__________________________________________________________________________________________________\n",
      "activation_2 (Activation)       (None, 2)            0           dense_2[0][0]                    \n",
      "==================================================================================================\n",
      "Total params: 2,121,518\n",
      "Trainable params: 2,121,518\n",
      "Non-trainable params: 0\n",
      "__________________________________________________________________________________________________\n",
      "2018-11-16 12:28:40.471 INFO in 'deeppavlov.core.data.simple_vocab'['simple_vocab'] at line 100: [loading vocabulary from /cephfs/home/dilyara.baymurzina/GitHub/reserve/DeepPavlov/download/YahooAnswers/models/model_v39/yahoo_answers_classes.dict]\n"
     ]
    },
    {
     "name": "stdout",
     "output_type": "stream",
     "text": [
      "Iteration 2: add 1145 samples to train dataset\n"
     ]
    },
    {
     "name": "stderr",
     "output_type": "stream",
     "text": [
      "2018-11-16 12:33:30.224 INFO in 'deeppavlov.core.data.simple_vocab'['simple_vocab'] at line 100: [loading vocabulary from /cephfs/home/dilyara.baymurzina/GitHub/reserve/DeepPavlov/download/YahooAnswers/models/model_v39/yahoo_answers_classes.dict]\n",
      "2018-11-16 12:33:30.241 INFO in 'deeppavlov.core.data.simple_vocab'['simple_vocab'] at line 89: [saving vocabulary to /cephfs/home/dilyara.baymurzina/GitHub/reserve/DeepPavlov/download/YahooAnswers/models/model_v39/yahoo_answers_classes.dict]\n",
      "2018-11-16 12:33:33.175 DEBUG in 'tensorflow'['tf_logging'] at line 100: Initialize variable module/aggregation/elmo_output_ELMo_W:0 from checkpoint b'/home/kuznetsov/models_env/yahoo-sber-questions_elmo/models/mod_from_git/hubs/yahooo-sber-questions_epoches_n_9/variables/variables' with aggregation/elmo_output_ELMo_W\n",
      "2018-11-16 12:33:33.181 DEBUG in 'tensorflow'['tf_logging'] at line 100: Initialize variable module/aggregation/elmo_output_ELMo_gamma:0 from checkpoint b'/home/kuznetsov/models_env/yahoo-sber-questions_elmo/models/mod_from_git/hubs/yahooo-sber-questions_epoches_n_9/variables/variables' with aggregation/elmo_output_ELMo_gamma\n",
      "2018-11-16 12:33:33.187 DEBUG in 'tensorflow'['tf_logging'] at line 100: Initialize variable module/bilm/CNN/W_cnn_0:0 from checkpoint b'/home/kuznetsov/models_env/yahoo-sber-questions_elmo/models/mod_from_git/hubs/yahooo-sber-questions_epoches_n_9/variables/variables' with bilm/CNN/W_cnn_0\n",
      "2018-11-16 12:33:33.194 DEBUG in 'tensorflow'['tf_logging'] at line 100: Initialize variable module/bilm/CNN/W_cnn_1:0 from checkpoint b'/home/kuznetsov/models_env/yahoo-sber-questions_elmo/models/mod_from_git/hubs/yahooo-sber-questions_epoches_n_9/variables/variables' with bilm/CNN/W_cnn_1\n",
      "2018-11-16 12:33:33.200 DEBUG in 'tensorflow'['tf_logging'] at line 100: Initialize variable module/bilm/CNN/W_cnn_2:0 from checkpoint b'/home/kuznetsov/models_env/yahoo-sber-questions_elmo/models/mod_from_git/hubs/yahooo-sber-questions_epoches_n_9/variables/variables' with bilm/CNN/W_cnn_2\n",
      "2018-11-16 12:33:33.207 DEBUG in 'tensorflow'['tf_logging'] at line 100: Initialize variable module/bilm/CNN/W_cnn_3:0 from checkpoint b'/home/kuznetsov/models_env/yahoo-sber-questions_elmo/models/mod_from_git/hubs/yahooo-sber-questions_epoches_n_9/variables/variables' with bilm/CNN/W_cnn_3\n",
      "2018-11-16 12:33:33.213 DEBUG in 'tensorflow'['tf_logging'] at line 100: Initialize variable module/bilm/CNN/W_cnn_4:0 from checkpoint b'/home/kuznetsov/models_env/yahoo-sber-questions_elmo/models/mod_from_git/hubs/yahooo-sber-questions_epoches_n_9/variables/variables' with bilm/CNN/W_cnn_4\n",
      "2018-11-16 12:33:33.219 DEBUG in 'tensorflow'['tf_logging'] at line 100: Initialize variable module/bilm/CNN/W_cnn_5:0 from checkpoint b'/home/kuznetsov/models_env/yahoo-sber-questions_elmo/models/mod_from_git/hubs/yahooo-sber-questions_epoches_n_9/variables/variables' with bilm/CNN/W_cnn_5\n",
      "2018-11-16 12:33:33.224 DEBUG in 'tensorflow'['tf_logging'] at line 100: Initialize variable module/bilm/CNN/W_cnn_6:0 from checkpoint b'/home/kuznetsov/models_env/yahoo-sber-questions_elmo/models/mod_from_git/hubs/yahooo-sber-questions_epoches_n_9/variables/variables' with bilm/CNN/W_cnn_6\n",
      "2018-11-16 12:33:33.230 DEBUG in 'tensorflow'['tf_logging'] at line 100: Initialize variable module/bilm/CNN/b_cnn_0:0 from checkpoint b'/home/kuznetsov/models_env/yahoo-sber-questions_elmo/models/mod_from_git/hubs/yahooo-sber-questions_epoches_n_9/variables/variables' with bilm/CNN/b_cnn_0\n",
      "2018-11-16 12:33:33.236 DEBUG in 'tensorflow'['tf_logging'] at line 100: Initialize variable module/bilm/CNN/b_cnn_1:0 from checkpoint b'/home/kuznetsov/models_env/yahoo-sber-questions_elmo/models/mod_from_git/hubs/yahooo-sber-questions_epoches_n_9/variables/variables' with bilm/CNN/b_cnn_1\n",
      "2018-11-16 12:33:33.243 DEBUG in 'tensorflow'['tf_logging'] at line 100: Initialize variable module/bilm/CNN/b_cnn_2:0 from checkpoint b'/home/kuznetsov/models_env/yahoo-sber-questions_elmo/models/mod_from_git/hubs/yahooo-sber-questions_epoches_n_9/variables/variables' with bilm/CNN/b_cnn_2\n",
      "2018-11-16 12:33:33.250 DEBUG in 'tensorflow'['tf_logging'] at line 100: Initialize variable module/bilm/CNN/b_cnn_3:0 from checkpoint b'/home/kuznetsov/models_env/yahoo-sber-questions_elmo/models/mod_from_git/hubs/yahooo-sber-questions_epoches_n_9/variables/variables' with bilm/CNN/b_cnn_3\n",
      "2018-11-16 12:33:33.256 DEBUG in 'tensorflow'['tf_logging'] at line 100: Initialize variable module/bilm/CNN/b_cnn_4:0 from checkpoint b'/home/kuznetsov/models_env/yahoo-sber-questions_elmo/models/mod_from_git/hubs/yahooo-sber-questions_epoches_n_9/variables/variables' with bilm/CNN/b_cnn_4\n",
      "2018-11-16 12:33:33.262 DEBUG in 'tensorflow'['tf_logging'] at line 100: Initialize variable module/bilm/CNN/b_cnn_5:0 from checkpoint b'/home/kuznetsov/models_env/yahoo-sber-questions_elmo/models/mod_from_git/hubs/yahooo-sber-questions_epoches_n_9/variables/variables' with bilm/CNN/b_cnn_5\n",
      "2018-11-16 12:33:33.269 DEBUG in 'tensorflow'['tf_logging'] at line 100: Initialize variable module/bilm/CNN/b_cnn_6:0 from checkpoint b'/home/kuznetsov/models_env/yahoo-sber-questions_elmo/models/mod_from_git/hubs/yahooo-sber-questions_epoches_n_9/variables/variables' with bilm/CNN/b_cnn_6\n",
      "2018-11-16 12:33:33.276 DEBUG in 'tensorflow'['tf_logging'] at line 100: Initialize variable module/bilm/CNN_high_0/W_carry:0 from checkpoint b'/home/kuznetsov/models_env/yahoo-sber-questions_elmo/models/mod_from_git/hubs/yahooo-sber-questions_epoches_n_9/variables/variables' with bilm/CNN_high_0/W_carry\n",
      "2018-11-16 12:33:33.284 DEBUG in 'tensorflow'['tf_logging'] at line 100: Initialize variable module/bilm/CNN_high_0/W_transform:0 from checkpoint b'/home/kuznetsov/models_env/yahoo-sber-questions_elmo/models/mod_from_git/hubs/yahooo-sber-questions_epoches_n_9/variables/variables' with bilm/CNN_high_0/W_transform\n",
      "2018-11-16 12:33:33.293 DEBUG in 'tensorflow'['tf_logging'] at line 100: Initialize variable module/bilm/CNN_high_0/b_carry:0 from checkpoint b'/home/kuznetsov/models_env/yahoo-sber-questions_elmo/models/mod_from_git/hubs/yahooo-sber-questions_epoches_n_9/variables/variables' with bilm/CNN_high_0/b_carry\n",
      "2018-11-16 12:33:33.302 DEBUG in 'tensorflow'['tf_logging'] at line 100: Initialize variable module/bilm/CNN_high_0/b_transform:0 from checkpoint b'/home/kuznetsov/models_env/yahoo-sber-questions_elmo/models/mod_from_git/hubs/yahooo-sber-questions_epoches_n_9/variables/variables' with bilm/CNN_high_0/b_transform\n",
      "2018-11-16 12:33:33.311 DEBUG in 'tensorflow'['tf_logging'] at line 100: Initialize variable module/bilm/CNN_high_1/W_carry:0 from checkpoint b'/home/kuznetsov/models_env/yahoo-sber-questions_elmo/models/mod_from_git/hubs/yahooo-sber-questions_epoches_n_9/variables/variables' with bilm/CNN_high_1/W_carry\n",
      "2018-11-16 12:33:33.320 DEBUG in 'tensorflow'['tf_logging'] at line 100: Initialize variable module/bilm/CNN_high_1/W_transform:0 from checkpoint b'/home/kuznetsov/models_env/yahoo-sber-questions_elmo/models/mod_from_git/hubs/yahooo-sber-questions_epoches_n_9/variables/variables' with bilm/CNN_high_1/W_transform\n",
      "2018-11-16 12:33:33.328 DEBUG in 'tensorflow'['tf_logging'] at line 100: Initialize variable module/bilm/CNN_high_1/b_carry:0 from checkpoint b'/home/kuznetsov/models_env/yahoo-sber-questions_elmo/models/mod_from_git/hubs/yahooo-sber-questions_epoches_n_9/variables/variables' with bilm/CNN_high_1/b_carry\n",
      "2018-11-16 12:33:33.337 DEBUG in 'tensorflow'['tf_logging'] at line 100: Initialize variable module/bilm/CNN_high_1/b_transform:0 from checkpoint b'/home/kuznetsov/models_env/yahoo-sber-questions_elmo/models/mod_from_git/hubs/yahooo-sber-questions_epoches_n_9/variables/variables' with bilm/CNN_high_1/b_transform\n",
      "2018-11-16 12:33:33.346 DEBUG in 'tensorflow'['tf_logging'] at line 100: Initialize variable module/bilm/CNN_proj/W_proj:0 from checkpoint b'/home/kuznetsov/models_env/yahoo-sber-questions_elmo/models/mod_from_git/hubs/yahooo-sber-questions_epoches_n_9/variables/variables' with bilm/CNN_proj/W_proj\n",
      "2018-11-16 12:33:33.355 DEBUG in 'tensorflow'['tf_logging'] at line 100: Initialize variable module/bilm/CNN_proj/b_proj:0 from checkpoint b'/home/kuznetsov/models_env/yahoo-sber-questions_elmo/models/mod_from_git/hubs/yahooo-sber-questions_epoches_n_9/variables/variables' with bilm/CNN_proj/b_proj\n"
     ]
    },
    {
     "name": "stderr",
     "output_type": "stream",
     "text": [
      "2018-11-16 12:33:33.365 DEBUG in 'tensorflow'['tf_logging'] at line 100: Initialize variable module/bilm/RNN_0/RNN/MultiRNNCell/Cell0/rnn/lstm_cell/bias:0 from checkpoint b'/home/kuznetsov/models_env/yahoo-sber-questions_elmo/models/mod_from_git/hubs/yahooo-sber-questions_epoches_n_9/variables/variables' with bilm/RNN_0/RNN/MultiRNNCell/Cell0/rnn/lstm_cell/bias\n",
      "2018-11-16 12:33:33.376 DEBUG in 'tensorflow'['tf_logging'] at line 100: Initialize variable module/bilm/RNN_0/RNN/MultiRNNCell/Cell0/rnn/lstm_cell/kernel:0 from checkpoint b'/home/kuznetsov/models_env/yahoo-sber-questions_elmo/models/mod_from_git/hubs/yahooo-sber-questions_epoches_n_9/variables/variables' with bilm/RNN_0/RNN/MultiRNNCell/Cell0/rnn/lstm_cell/kernel\n",
      "2018-11-16 12:33:33.386 DEBUG in 'tensorflow'['tf_logging'] at line 100: Initialize variable module/bilm/RNN_0/RNN/MultiRNNCell/Cell0/rnn/lstm_cell/projection/kernel:0 from checkpoint b'/home/kuznetsov/models_env/yahoo-sber-questions_elmo/models/mod_from_git/hubs/yahooo-sber-questions_epoches_n_9/variables/variables' with bilm/RNN_0/RNN/MultiRNNCell/Cell0/rnn/lstm_cell/projection/kernel\n",
      "2018-11-16 12:33:33.397 DEBUG in 'tensorflow'['tf_logging'] at line 100: Initialize variable module/bilm/RNN_0/RNN/MultiRNNCell/Cell1/rnn/lstm_cell/bias:0 from checkpoint b'/home/kuznetsov/models_env/yahoo-sber-questions_elmo/models/mod_from_git/hubs/yahooo-sber-questions_epoches_n_9/variables/variables' with bilm/RNN_0/RNN/MultiRNNCell/Cell1/rnn/lstm_cell/bias\n",
      "2018-11-16 12:33:33.408 DEBUG in 'tensorflow'['tf_logging'] at line 100: Initialize variable module/bilm/RNN_0/RNN/MultiRNNCell/Cell1/rnn/lstm_cell/kernel:0 from checkpoint b'/home/kuznetsov/models_env/yahoo-sber-questions_elmo/models/mod_from_git/hubs/yahooo-sber-questions_epoches_n_9/variables/variables' with bilm/RNN_0/RNN/MultiRNNCell/Cell1/rnn/lstm_cell/kernel\n",
      "2018-11-16 12:33:33.417 DEBUG in 'tensorflow'['tf_logging'] at line 100: Initialize variable module/bilm/RNN_0/RNN/MultiRNNCell/Cell1/rnn/lstm_cell/projection/kernel:0 from checkpoint b'/home/kuznetsov/models_env/yahoo-sber-questions_elmo/models/mod_from_git/hubs/yahooo-sber-questions_epoches_n_9/variables/variables' with bilm/RNN_0/RNN/MultiRNNCell/Cell1/rnn/lstm_cell/projection/kernel\n",
      "2018-11-16 12:33:33.428 DEBUG in 'tensorflow'['tf_logging'] at line 100: Initialize variable module/bilm/RNN_1/RNN/MultiRNNCell/Cell0/rnn/lstm_cell/bias:0 from checkpoint b'/home/kuznetsov/models_env/yahoo-sber-questions_elmo/models/mod_from_git/hubs/yahooo-sber-questions_epoches_n_9/variables/variables' with bilm/RNN_1/RNN/MultiRNNCell/Cell0/rnn/lstm_cell/bias\n",
      "2018-11-16 12:33:33.438 DEBUG in 'tensorflow'['tf_logging'] at line 100: Initialize variable module/bilm/RNN_1/RNN/MultiRNNCell/Cell0/rnn/lstm_cell/kernel:0 from checkpoint b'/home/kuznetsov/models_env/yahoo-sber-questions_elmo/models/mod_from_git/hubs/yahooo-sber-questions_epoches_n_9/variables/variables' with bilm/RNN_1/RNN/MultiRNNCell/Cell0/rnn/lstm_cell/kernel\n",
      "2018-11-16 12:33:33.447 DEBUG in 'tensorflow'['tf_logging'] at line 100: Initialize variable module/bilm/RNN_1/RNN/MultiRNNCell/Cell0/rnn/lstm_cell/projection/kernel:0 from checkpoint b'/home/kuznetsov/models_env/yahoo-sber-questions_elmo/models/mod_from_git/hubs/yahooo-sber-questions_epoches_n_9/variables/variables' with bilm/RNN_1/RNN/MultiRNNCell/Cell0/rnn/lstm_cell/projection/kernel\n",
      "2018-11-16 12:33:33.455 DEBUG in 'tensorflow'['tf_logging'] at line 100: Initialize variable module/bilm/RNN_1/RNN/MultiRNNCell/Cell1/rnn/lstm_cell/bias:0 from checkpoint b'/home/kuznetsov/models_env/yahoo-sber-questions_elmo/models/mod_from_git/hubs/yahooo-sber-questions_epoches_n_9/variables/variables' with bilm/RNN_1/RNN/MultiRNNCell/Cell1/rnn/lstm_cell/bias\n",
      "2018-11-16 12:33:33.462 DEBUG in 'tensorflow'['tf_logging'] at line 100: Initialize variable module/bilm/RNN_1/RNN/MultiRNNCell/Cell1/rnn/lstm_cell/kernel:0 from checkpoint b'/home/kuznetsov/models_env/yahoo-sber-questions_elmo/models/mod_from_git/hubs/yahooo-sber-questions_epoches_n_9/variables/variables' with bilm/RNN_1/RNN/MultiRNNCell/Cell1/rnn/lstm_cell/kernel\n",
      "2018-11-16 12:33:33.471 DEBUG in 'tensorflow'['tf_logging'] at line 100: Initialize variable module/bilm/RNN_1/RNN/MultiRNNCell/Cell1/rnn/lstm_cell/projection/kernel:0 from checkpoint b'/home/kuznetsov/models_env/yahoo-sber-questions_elmo/models/mod_from_git/hubs/yahooo-sber-questions_epoches_n_9/variables/variables' with bilm/RNN_1/RNN/MultiRNNCell/Cell1/rnn/lstm_cell/projection/kernel\n",
      "2018-11-16 12:33:33.480 DEBUG in 'tensorflow'['tf_logging'] at line 100: Initialize variable module/bilm/Variable:0 from checkpoint b'/home/kuznetsov/models_env/yahoo-sber-questions_elmo/models/mod_from_git/hubs/yahooo-sber-questions_epoches_n_9/variables/variables' with bilm/Variable\n",
      "2018-11-16 12:33:33.489 DEBUG in 'tensorflow'['tf_logging'] at line 100: Initialize variable module/bilm/Variable_1:0 from checkpoint b'/home/kuznetsov/models_env/yahoo-sber-questions_elmo/models/mod_from_git/hubs/yahooo-sber-questions_epoches_n_9/variables/variables' with bilm/Variable_1\n",
      "2018-11-16 12:33:33.498 DEBUG in 'tensorflow'['tf_logging'] at line 100: Initialize variable module/bilm/Variable_2:0 from checkpoint b'/home/kuznetsov/models_env/yahoo-sber-questions_elmo/models/mod_from_git/hubs/yahooo-sber-questions_epoches_n_9/variables/variables' with bilm/Variable_2\n",
      "2018-11-16 12:33:33.505 DEBUG in 'tensorflow'['tf_logging'] at line 100: Initialize variable module/bilm/Variable_3:0 from checkpoint b'/home/kuznetsov/models_env/yahoo-sber-questions_elmo/models/mod_from_git/hubs/yahooo-sber-questions_epoches_n_9/variables/variables' with bilm/Variable_3\n",
      "2018-11-16 12:33:33.511 DEBUG in 'tensorflow'['tf_logging'] at line 100: Initialize variable module/bilm/Variable_4:0 from checkpoint b'/home/kuznetsov/models_env/yahoo-sber-questions_elmo/models/mod_from_git/hubs/yahooo-sber-questions_epoches_n_9/variables/variables' with bilm/Variable_4\n",
      "2018-11-16 12:33:33.518 DEBUG in 'tensorflow'['tf_logging'] at line 100: Initialize variable module/bilm/Variable_5:0 from checkpoint b'/home/kuznetsov/models_env/yahoo-sber-questions_elmo/models/mod_from_git/hubs/yahooo-sber-questions_epoches_n_9/variables/variables' with bilm/Variable_5\n",
      "2018-11-16 12:33:33.524 DEBUG in 'tensorflow'['tf_logging'] at line 100: Initialize variable module/bilm/Variable_6:0 from checkpoint b'/home/kuznetsov/models_env/yahoo-sber-questions_elmo/models/mod_from_git/hubs/yahooo-sber-questions_epoches_n_9/variables/variables' with bilm/Variable_6\n",
      "2018-11-16 12:33:33.530 DEBUG in 'tensorflow'['tf_logging'] at line 100: Initialize variable module/bilm/Variable_7:0 from checkpoint b'/home/kuznetsov/models_env/yahoo-sber-questions_elmo/models/mod_from_git/hubs/yahooo-sber-questions_epoches_n_9/variables/variables' with bilm/Variable_7\n",
      "2018-11-16 12:33:33.536 DEBUG in 'tensorflow'['tf_logging'] at line 100: Initialize variable module/bilm/char_embed:0 from checkpoint b'/home/kuznetsov/models_env/yahoo-sber-questions_elmo/models/mod_from_git/hubs/yahooo-sber-questions_epoches_n_9/variables/variables' with bilm/char_embed\n",
      "2018-11-16 12:33:33.543 DEBUG in 'tensorflow'['tf_logging'] at line 100: Initialize variable module/bilm_1/Variable:0 from checkpoint b'/home/kuznetsov/models_env/yahoo-sber-questions_elmo/models/mod_from_git/hubs/yahooo-sber-questions_epoches_n_9/variables/variables' with bilm_1/Variable\n",
      "2018-11-16 12:33:33.549 DEBUG in 'tensorflow'['tf_logging'] at line 100: Initialize variable module/bilm_1/Variable_1:0 from checkpoint b'/home/kuznetsov/models_env/yahoo-sber-questions_elmo/models/mod_from_git/hubs/yahooo-sber-questions_epoches_n_9/variables/variables' with bilm_1/Variable_1\n",
      "2018-11-16 12:33:33.555 DEBUG in 'tensorflow'['tf_logging'] at line 100: Initialize variable module/bilm_1/Variable_2:0 from checkpoint b'/home/kuznetsov/models_env/yahoo-sber-questions_elmo/models/mod_from_git/hubs/yahooo-sber-questions_epoches_n_9/variables/variables' with bilm_1/Variable_2\n",
      "2018-11-16 12:33:33.561 DEBUG in 'tensorflow'['tf_logging'] at line 100: Initialize variable module/bilm_1/Variable_3:0 from checkpoint b'/home/kuznetsov/models_env/yahoo-sber-questions_elmo/models/mod_from_git/hubs/yahooo-sber-questions_epoches_n_9/variables/variables' with bilm_1/Variable_3\n"
     ]
    },
    {
     "name": "stderr",
     "output_type": "stream",
     "text": [
      "2018-11-16 12:33:33.567 DEBUG in 'tensorflow'['tf_logging'] at line 100: Initialize variable module/bilm_1/Variable_4:0 from checkpoint b'/home/kuznetsov/models_env/yahoo-sber-questions_elmo/models/mod_from_git/hubs/yahooo-sber-questions_epoches_n_9/variables/variables' with bilm_1/Variable_4\n",
      "2018-11-16 12:33:33.574 DEBUG in 'tensorflow'['tf_logging'] at line 100: Initialize variable module/bilm_1/Variable_5:0 from checkpoint b'/home/kuznetsov/models_env/yahoo-sber-questions_elmo/models/mod_from_git/hubs/yahooo-sber-questions_epoches_n_9/variables/variables' with bilm_1/Variable_5\n",
      "2018-11-16 12:33:33.581 DEBUG in 'tensorflow'['tf_logging'] at line 100: Initialize variable module/bilm_1/Variable_6:0 from checkpoint b'/home/kuznetsov/models_env/yahoo-sber-questions_elmo/models/mod_from_git/hubs/yahooo-sber-questions_epoches_n_9/variables/variables' with bilm_1/Variable_6\n",
      "2018-11-16 12:33:33.587 DEBUG in 'tensorflow'['tf_logging'] at line 100: Initialize variable module/bilm_1/Variable_7:0 from checkpoint b'/home/kuznetsov/models_env/yahoo-sber-questions_elmo/models/mod_from_git/hubs/yahooo-sber-questions_epoches_n_9/variables/variables' with bilm_1/Variable_7\n",
      "2018-11-16 12:33:36.563 INFO in 'tensorflow'['tf_logging'] at line 115: Saver not created because there are no variables in the graph to restore\n",
      "2018-11-16 12:33:37.402 INFO in 'deeppavlov.models.classifiers.keras_classification_model'['keras_classification_model'] at line 291: [initializing `KerasClassificationModel` from saved]\n",
      "2018-11-16 12:33:38.453 INFO in 'deeppavlov.models.classifiers.keras_classification_model'['keras_classification_model'] at line 301: [loading weights from model.h5]\n",
      "2018-11-16 12:33:38.700 INFO in 'deeppavlov.models.classifiers.keras_classification_model'['keras_classification_model'] at line 135: Model was successfully initialized!\n",
      "Model summary:\n",
      "__________________________________________________________________________________________________\n",
      "Layer (type)                    Output Shape         Param #     Connected to                     \n",
      "==================================================================================================\n",
      "input_1 (InputLayer)            (None, 20, 1024)     0                                            \n",
      "__________________________________________________________________________________________________\n",
      "dropout_1 (Dropout)             (None, 20, 1024)     0           input_1[0][0]                    \n",
      "__________________________________________________________________________________________________\n",
      "bidirectional_1 (Bidirectional) [(None, 20, 512), (N 1967616     dropout_1[0][0]                  \n",
      "__________________________________________________________________________________________________\n",
      "global_max_pooling1d_1 (GlobalM (None, 512)          0           bidirectional_1[0][0]            \n",
      "__________________________________________________________________________________________________\n",
      "global_average_pooling1d_1 (Glo (None, 512)          0           bidirectional_1[0][0]            \n",
      "__________________________________________________________________________________________________\n",
      "concatenate_1 (Concatenate)     (None, 1536)         0           global_max_pooling1d_1[0][0]     \n",
      "                                                                 global_average_pooling1d_1[0][0] \n",
      "                                                                 bidirectional_1[0][1]            \n",
      "                                                                 bidirectional_1[0][2]            \n",
      "__________________________________________________________________________________________________\n",
      "dropout_2 (Dropout)             (None, 1536)         0           concatenate_1[0][0]              \n",
      "__________________________________________________________________________________________________\n",
      "dense_1 (Dense)                 (None, 100)          153700      dropout_2[0][0]                  \n",
      "__________________________________________________________________________________________________\n",
      "activation_1 (Activation)       (None, 100)          0           dense_1[0][0]                    \n",
      "__________________________________________________________________________________________________\n",
      "dropout_3 (Dropout)             (None, 100)          0           activation_1[0][0]               \n",
      "__________________________________________________________________________________________________\n",
      "dense_2 (Dense)                 (None, 2)            202         dropout_3[0][0]                  \n",
      "__________________________________________________________________________________________________\n",
      "activation_2 (Activation)       (None, 2)            0           dense_2[0][0]                    \n",
      "==================================================================================================\n",
      "Total params: 2,121,518\n",
      "Trainable params: 2,121,518\n",
      "Non-trainable params: 0\n",
      "__________________________________________________________________________________________________\n",
      "2018-11-16 12:33:47.153 INFO in 'deeppavlov.core.commands.train'['train'] at line 360: New best roc_auc of 0.9341\n",
      "2018-11-16 12:33:47.155 INFO in 'deeppavlov.core.commands.train'['train'] at line 362: Saving model\n",
      "2018-11-16 12:33:47.156 INFO in 'deeppavlov.models.classifiers.keras_classification_model'['keras_classification_model'] at line 375: [saving model to /cephfs/home/dilyara.baymurzina/GitHub/reserve/DeepPavlov/download/YahooAnswers/models/model_v39/model_opt.json]\n"
     ]
    },
    {
     "name": "stdout",
     "output_type": "stream",
     "text": [
      "{\"valid\": {\"eval_examples_count\": 403, \"metrics\": {\"roc_auc\": 0.9341, \"sets_accuracy\": 0.8586, \"f1_macro\": 0.8572}, \"time_spent\": \"0:00:09\", \"epochs_done\": 0, \"batches_seen\": 0, \"train_examples_seen\": 0, \"impatience\": 0, \"patience_limit\": 5}}\n",
      "{\"train\": {\"epochs_done\": 1, \"batches_seen\": 7, \"train_examples_seen\": 7073, \"metrics\": {\"roc_auc\": 0.9859, \"sets_accuracy\": 0.9434, \"f1_macro\": 0.9426}, \"time_spent\": \"0:07:18\", \"loss\": 0.34561287079538616}}\n"
     ]
    },
    {
     "name": "stderr",
     "output_type": "stream",
     "text": [
      "2018-11-16 12:41:02.355 INFO in 'deeppavlov.core.commands.train'['train'] at line 525: Did not improve on the roc_auc of 0.9341\n"
     ]
    },
    {
     "name": "stdout",
     "output_type": "stream",
     "text": [
      "{\"valid\": {\"eval_examples_count\": 403, \"metrics\": {\"roc_auc\": 0.9261, \"sets_accuracy\": 0.8362, \"f1_macro\": 0.8336}, \"time_spent\": \"0:07:24\", \"epochs_done\": 1, \"batches_seen\": 7, \"train_examples_seen\": 7073, \"impatience\": 1, \"patience_limit\": 5}}\n",
      "{\"train\": {\"epochs_done\": 2, \"batches_seen\": 14, \"train_examples_seen\": 14146, \"metrics\": {\"roc_auc\": 0.9898, \"sets_accuracy\": 0.9457, \"f1_macro\": 0.9448}, \"time_spent\": \"0:14:26\", \"loss\": 0.30767020157405306}}\n"
     ]
    },
    {
     "name": "stderr",
     "output_type": "stream",
     "text": [
      "2018-11-16 12:48:09.996 INFO in 'deeppavlov.core.commands.train'['train'] at line 525: Did not improve on the roc_auc of 0.9341\n"
     ]
    },
    {
     "name": "stdout",
     "output_type": "stream",
     "text": [
      "{\"valid\": {\"eval_examples_count\": 403, \"metrics\": {\"roc_auc\": 0.9235, \"sets_accuracy\": 0.8387, \"f1_macro\": 0.836}, \"time_spent\": \"0:14:32\", \"epochs_done\": 2, \"batches_seen\": 14, \"train_examples_seen\": 14146, \"impatience\": 2, \"patience_limit\": 5}}\n",
      "{\"train\": {\"epochs_done\": 3, \"batches_seen\": 21, \"train_examples_seen\": 21219, \"metrics\": {\"roc_auc\": 0.991, \"sets_accuracy\": 0.948, \"f1_macro\": 0.947}, \"time_spent\": \"0:21:29\", \"loss\": 0.29631106768335613}}\n"
     ]
    },
    {
     "name": "stderr",
     "output_type": "stream",
     "text": [
      "2018-11-16 12:55:12.433 INFO in 'deeppavlov.core.commands.train'['train'] at line 525: Did not improve on the roc_auc of 0.9341\n"
     ]
    },
    {
     "name": "stdout",
     "output_type": "stream",
     "text": [
      "{\"valid\": {\"eval_examples_count\": 403, \"metrics\": {\"roc_auc\": 0.9225, \"sets_accuracy\": 0.8437, \"f1_macro\": 0.8416}, \"time_spent\": \"0:21:34\", \"epochs_done\": 3, \"batches_seen\": 21, \"train_examples_seen\": 21219, \"impatience\": 3, \"patience_limit\": 5}}\n",
      "{\"train\": {\"epochs_done\": 4, \"batches_seen\": 28, \"train_examples_seen\": 28292, \"metrics\": {\"roc_auc\": 0.9892, \"sets_accuracy\": 0.9401, \"f1_macro\": 0.9392}, \"time_spent\": \"0:28:31\", \"loss\": 0.3088225083691733}}\n"
     ]
    },
    {
     "name": "stderr",
     "output_type": "stream",
     "text": [
      "2018-11-16 13:02:14.728 INFO in 'deeppavlov.core.commands.train'['train'] at line 525: Did not improve on the roc_auc of 0.9341\n"
     ]
    },
    {
     "name": "stdout",
     "output_type": "stream",
     "text": [
      "{\"valid\": {\"eval_examples_count\": 403, \"metrics\": {\"roc_auc\": 0.9218, \"sets_accuracy\": 0.8337, \"f1_macro\": 0.8324}, \"time_spent\": \"0:28:37\", \"epochs_done\": 4, \"batches_seen\": 28, \"train_examples_seen\": 28292, \"impatience\": 4, \"patience_limit\": 5}}\n",
      "{\"train\": {\"epochs_done\": 5, \"batches_seen\": 35, \"train_examples_seen\": 35365, \"metrics\": {\"roc_auc\": 0.9915, \"sets_accuracy\": 0.9498, \"f1_macro\": 0.949}, \"time_spent\": \"0:35:34\", \"loss\": 0.2862990030220577}}\n"
     ]
    },
    {
     "name": "stderr",
     "output_type": "stream",
     "text": [
      "2018-11-16 13:09:17.371 INFO in 'deeppavlov.core.commands.train'['train'] at line 525: Did not improve on the roc_auc of 0.9341\n",
      "2018-11-16 13:09:17.373 INFO in 'deeppavlov.core.commands.train'['train'] at line 536: Ran out of patience\n",
      "2018-11-16 13:09:17.379 INFO in 'deeppavlov.core.data.simple_vocab'['simple_vocab'] at line 100: [loading vocabulary from /cephfs/home/dilyara.baymurzina/GitHub/reserve/DeepPavlov/download/YahooAnswers/models/model_v39/yahoo_answers_classes.dict]\n"
     ]
    },
    {
     "name": "stdout",
     "output_type": "stream",
     "text": [
      "{\"valid\": {\"eval_examples_count\": 403, \"metrics\": {\"roc_auc\": 0.9253, \"sets_accuracy\": 0.8412, \"f1_macro\": 0.8382}, \"time_spent\": \"0:35:39\", \"epochs_done\": 5, \"batches_seen\": 35, \"train_examples_seen\": 35365, \"impatience\": 5, \"patience_limit\": 5}}\n"
     ]
    },
    {
     "name": "stderr",
     "output_type": "stream",
     "text": [
      "2018-11-16 13:09:20.126 DEBUG in 'tensorflow'['tf_logging'] at line 100: Initialize variable module/aggregation/elmo_output_ELMo_W:0 from checkpoint b'/home/kuznetsov/models_env/yahoo-sber-questions_elmo/models/mod_from_git/hubs/yahooo-sber-questions_epoches_n_9/variables/variables' with aggregation/elmo_output_ELMo_W\n",
      "2018-11-16 13:09:20.132 DEBUG in 'tensorflow'['tf_logging'] at line 100: Initialize variable module/aggregation/elmo_output_ELMo_gamma:0 from checkpoint b'/home/kuznetsov/models_env/yahoo-sber-questions_elmo/models/mod_from_git/hubs/yahooo-sber-questions_epoches_n_9/variables/variables' with aggregation/elmo_output_ELMo_gamma\n",
      "2018-11-16 13:09:20.138 DEBUG in 'tensorflow'['tf_logging'] at line 100: Initialize variable module/bilm/CNN/W_cnn_0:0 from checkpoint b'/home/kuznetsov/models_env/yahoo-sber-questions_elmo/models/mod_from_git/hubs/yahooo-sber-questions_epoches_n_9/variables/variables' with bilm/CNN/W_cnn_0\n",
      "2018-11-16 13:09:20.145 DEBUG in 'tensorflow'['tf_logging'] at line 100: Initialize variable module/bilm/CNN/W_cnn_1:0 from checkpoint b'/home/kuznetsov/models_env/yahoo-sber-questions_elmo/models/mod_from_git/hubs/yahooo-sber-questions_epoches_n_9/variables/variables' with bilm/CNN/W_cnn_1\n",
      "2018-11-16 13:09:20.152 DEBUG in 'tensorflow'['tf_logging'] at line 100: Initialize variable module/bilm/CNN/W_cnn_2:0 from checkpoint b'/home/kuznetsov/models_env/yahoo-sber-questions_elmo/models/mod_from_git/hubs/yahooo-sber-questions_epoches_n_9/variables/variables' with bilm/CNN/W_cnn_2\n",
      "2018-11-16 13:09:20.158 DEBUG in 'tensorflow'['tf_logging'] at line 100: Initialize variable module/bilm/CNN/W_cnn_3:0 from checkpoint b'/home/kuznetsov/models_env/yahoo-sber-questions_elmo/models/mod_from_git/hubs/yahooo-sber-questions_epoches_n_9/variables/variables' with bilm/CNN/W_cnn_3\n",
      "2018-11-16 13:09:20.165 DEBUG in 'tensorflow'['tf_logging'] at line 100: Initialize variable module/bilm/CNN/W_cnn_4:0 from checkpoint b'/home/kuznetsov/models_env/yahoo-sber-questions_elmo/models/mod_from_git/hubs/yahooo-sber-questions_epoches_n_9/variables/variables' with bilm/CNN/W_cnn_4\n",
      "2018-11-16 13:09:20.171 DEBUG in 'tensorflow'['tf_logging'] at line 100: Initialize variable module/bilm/CNN/W_cnn_5:0 from checkpoint b'/home/kuznetsov/models_env/yahoo-sber-questions_elmo/models/mod_from_git/hubs/yahooo-sber-questions_epoches_n_9/variables/variables' with bilm/CNN/W_cnn_5\n",
      "2018-11-16 13:09:20.179 DEBUG in 'tensorflow'['tf_logging'] at line 100: Initialize variable module/bilm/CNN/W_cnn_6:0 from checkpoint b'/home/kuznetsov/models_env/yahoo-sber-questions_elmo/models/mod_from_git/hubs/yahooo-sber-questions_epoches_n_9/variables/variables' with bilm/CNN/W_cnn_6\n",
      "2018-11-16 13:09:20.185 DEBUG in 'tensorflow'['tf_logging'] at line 100: Initialize variable module/bilm/CNN/b_cnn_0:0 from checkpoint b'/home/kuznetsov/models_env/yahoo-sber-questions_elmo/models/mod_from_git/hubs/yahooo-sber-questions_epoches_n_9/variables/variables' with bilm/CNN/b_cnn_0\n",
      "2018-11-16 13:09:20.192 DEBUG in 'tensorflow'['tf_logging'] at line 100: Initialize variable module/bilm/CNN/b_cnn_1:0 from checkpoint b'/home/kuznetsov/models_env/yahoo-sber-questions_elmo/models/mod_from_git/hubs/yahooo-sber-questions_epoches_n_9/variables/variables' with bilm/CNN/b_cnn_1\n",
      "2018-11-16 13:09:20.199 DEBUG in 'tensorflow'['tf_logging'] at line 100: Initialize variable module/bilm/CNN/b_cnn_2:0 from checkpoint b'/home/kuznetsov/models_env/yahoo-sber-questions_elmo/models/mod_from_git/hubs/yahooo-sber-questions_epoches_n_9/variables/variables' with bilm/CNN/b_cnn_2\n",
      "2018-11-16 13:09:20.205 DEBUG in 'tensorflow'['tf_logging'] at line 100: Initialize variable module/bilm/CNN/b_cnn_3:0 from checkpoint b'/home/kuznetsov/models_env/yahoo-sber-questions_elmo/models/mod_from_git/hubs/yahooo-sber-questions_epoches_n_9/variables/variables' with bilm/CNN/b_cnn_3\n",
      "2018-11-16 13:09:20.212 DEBUG in 'tensorflow'['tf_logging'] at line 100: Initialize variable module/bilm/CNN/b_cnn_4:0 from checkpoint b'/home/kuznetsov/models_env/yahoo-sber-questions_elmo/models/mod_from_git/hubs/yahooo-sber-questions_epoches_n_9/variables/variables' with bilm/CNN/b_cnn_4\n",
      "2018-11-16 13:09:20.218 DEBUG in 'tensorflow'['tf_logging'] at line 100: Initialize variable module/bilm/CNN/b_cnn_5:0 from checkpoint b'/home/kuznetsov/models_env/yahoo-sber-questions_elmo/models/mod_from_git/hubs/yahooo-sber-questions_epoches_n_9/variables/variables' with bilm/CNN/b_cnn_5\n",
      "2018-11-16 13:09:20.225 DEBUG in 'tensorflow'['tf_logging'] at line 100: Initialize variable module/bilm/CNN/b_cnn_6:0 from checkpoint b'/home/kuznetsov/models_env/yahoo-sber-questions_elmo/models/mod_from_git/hubs/yahooo-sber-questions_epoches_n_9/variables/variables' with bilm/CNN/b_cnn_6\n",
      "2018-11-16 13:09:20.231 DEBUG in 'tensorflow'['tf_logging'] at line 100: Initialize variable module/bilm/CNN_high_0/W_carry:0 from checkpoint b'/home/kuznetsov/models_env/yahoo-sber-questions_elmo/models/mod_from_git/hubs/yahooo-sber-questions_epoches_n_9/variables/variables' with bilm/CNN_high_0/W_carry\n",
      "2018-11-16 13:09:20.238 DEBUG in 'tensorflow'['tf_logging'] at line 100: Initialize variable module/bilm/CNN_high_0/W_transform:0 from checkpoint b'/home/kuznetsov/models_env/yahoo-sber-questions_elmo/models/mod_from_git/hubs/yahooo-sber-questions_epoches_n_9/variables/variables' with bilm/CNN_high_0/W_transform\n",
      "2018-11-16 13:09:20.244 DEBUG in 'tensorflow'['tf_logging'] at line 100: Initialize variable module/bilm/CNN_high_0/b_carry:0 from checkpoint b'/home/kuznetsov/models_env/yahoo-sber-questions_elmo/models/mod_from_git/hubs/yahooo-sber-questions_epoches_n_9/variables/variables' with bilm/CNN_high_0/b_carry\n",
      "2018-11-16 13:09:20.250 DEBUG in 'tensorflow'['tf_logging'] at line 100: Initialize variable module/bilm/CNN_high_0/b_transform:0 from checkpoint b'/home/kuznetsov/models_env/yahoo-sber-questions_elmo/models/mod_from_git/hubs/yahooo-sber-questions_epoches_n_9/variables/variables' with bilm/CNN_high_0/b_transform\n",
      "2018-11-16 13:09:20.257 DEBUG in 'tensorflow'['tf_logging'] at line 100: Initialize variable module/bilm/CNN_high_1/W_carry:0 from checkpoint b'/home/kuznetsov/models_env/yahoo-sber-questions_elmo/models/mod_from_git/hubs/yahooo-sber-questions_epoches_n_9/variables/variables' with bilm/CNN_high_1/W_carry\n",
      "2018-11-16 13:09:20.263 DEBUG in 'tensorflow'['tf_logging'] at line 100: Initialize variable module/bilm/CNN_high_1/W_transform:0 from checkpoint b'/home/kuznetsov/models_env/yahoo-sber-questions_elmo/models/mod_from_git/hubs/yahooo-sber-questions_epoches_n_9/variables/variables' with bilm/CNN_high_1/W_transform\n",
      "2018-11-16 13:09:20.271 DEBUG in 'tensorflow'['tf_logging'] at line 100: Initialize variable module/bilm/CNN_high_1/b_carry:0 from checkpoint b'/home/kuznetsov/models_env/yahoo-sber-questions_elmo/models/mod_from_git/hubs/yahooo-sber-questions_epoches_n_9/variables/variables' with bilm/CNN_high_1/b_carry\n",
      "2018-11-16 13:09:20.277 DEBUG in 'tensorflow'['tf_logging'] at line 100: Initialize variable module/bilm/CNN_high_1/b_transform:0 from checkpoint b'/home/kuznetsov/models_env/yahoo-sber-questions_elmo/models/mod_from_git/hubs/yahooo-sber-questions_epoches_n_9/variables/variables' with bilm/CNN_high_1/b_transform\n",
      "2018-11-16 13:09:20.283 DEBUG in 'tensorflow'['tf_logging'] at line 100: Initialize variable module/bilm/CNN_proj/W_proj:0 from checkpoint b'/home/kuznetsov/models_env/yahoo-sber-questions_elmo/models/mod_from_git/hubs/yahooo-sber-questions_epoches_n_9/variables/variables' with bilm/CNN_proj/W_proj\n",
      "2018-11-16 13:09:20.290 DEBUG in 'tensorflow'['tf_logging'] at line 100: Initialize variable module/bilm/CNN_proj/b_proj:0 from checkpoint b'/home/kuznetsov/models_env/yahoo-sber-questions_elmo/models/mod_from_git/hubs/yahooo-sber-questions_epoches_n_9/variables/variables' with bilm/CNN_proj/b_proj\n",
      "2018-11-16 13:09:20.296 DEBUG in 'tensorflow'['tf_logging'] at line 100: Initialize variable module/bilm/RNN_0/RNN/MultiRNNCell/Cell0/rnn/lstm_cell/bias:0 from checkpoint b'/home/kuznetsov/models_env/yahoo-sber-questions_elmo/models/mod_from_git/hubs/yahooo-sber-questions_epoches_n_9/variables/variables' with bilm/RNN_0/RNN/MultiRNNCell/Cell0/rnn/lstm_cell/bias\n",
      "2018-11-16 13:09:20.302 DEBUG in 'tensorflow'['tf_logging'] at line 100: Initialize variable module/bilm/RNN_0/RNN/MultiRNNCell/Cell0/rnn/lstm_cell/kernel:0 from checkpoint b'/home/kuznetsov/models_env/yahoo-sber-questions_elmo/models/mod_from_git/hubs/yahooo-sber-questions_epoches_n_9/variables/variables' with bilm/RNN_0/RNN/MultiRNNCell/Cell0/rnn/lstm_cell/kernel\n"
     ]
    },
    {
     "name": "stderr",
     "output_type": "stream",
     "text": [
      "2018-11-16 13:09:20.307 DEBUG in 'tensorflow'['tf_logging'] at line 100: Initialize variable module/bilm/RNN_0/RNN/MultiRNNCell/Cell0/rnn/lstm_cell/projection/kernel:0 from checkpoint b'/home/kuznetsov/models_env/yahoo-sber-questions_elmo/models/mod_from_git/hubs/yahooo-sber-questions_epoches_n_9/variables/variables' with bilm/RNN_0/RNN/MultiRNNCell/Cell0/rnn/lstm_cell/projection/kernel\n",
      "2018-11-16 13:09:20.313 DEBUG in 'tensorflow'['tf_logging'] at line 100: Initialize variable module/bilm/RNN_0/RNN/MultiRNNCell/Cell1/rnn/lstm_cell/bias:0 from checkpoint b'/home/kuznetsov/models_env/yahoo-sber-questions_elmo/models/mod_from_git/hubs/yahooo-sber-questions_epoches_n_9/variables/variables' with bilm/RNN_0/RNN/MultiRNNCell/Cell1/rnn/lstm_cell/bias\n",
      "2018-11-16 13:09:20.320 DEBUG in 'tensorflow'['tf_logging'] at line 100: Initialize variable module/bilm/RNN_0/RNN/MultiRNNCell/Cell1/rnn/lstm_cell/kernel:0 from checkpoint b'/home/kuznetsov/models_env/yahoo-sber-questions_elmo/models/mod_from_git/hubs/yahooo-sber-questions_epoches_n_9/variables/variables' with bilm/RNN_0/RNN/MultiRNNCell/Cell1/rnn/lstm_cell/kernel\n",
      "2018-11-16 13:09:20.327 DEBUG in 'tensorflow'['tf_logging'] at line 100: Initialize variable module/bilm/RNN_0/RNN/MultiRNNCell/Cell1/rnn/lstm_cell/projection/kernel:0 from checkpoint b'/home/kuznetsov/models_env/yahoo-sber-questions_elmo/models/mod_from_git/hubs/yahooo-sber-questions_epoches_n_9/variables/variables' with bilm/RNN_0/RNN/MultiRNNCell/Cell1/rnn/lstm_cell/projection/kernel\n",
      "2018-11-16 13:09:20.333 DEBUG in 'tensorflow'['tf_logging'] at line 100: Initialize variable module/bilm/RNN_1/RNN/MultiRNNCell/Cell0/rnn/lstm_cell/bias:0 from checkpoint b'/home/kuznetsov/models_env/yahoo-sber-questions_elmo/models/mod_from_git/hubs/yahooo-sber-questions_epoches_n_9/variables/variables' with bilm/RNN_1/RNN/MultiRNNCell/Cell0/rnn/lstm_cell/bias\n",
      "2018-11-16 13:09:20.340 DEBUG in 'tensorflow'['tf_logging'] at line 100: Initialize variable module/bilm/RNN_1/RNN/MultiRNNCell/Cell0/rnn/lstm_cell/kernel:0 from checkpoint b'/home/kuznetsov/models_env/yahoo-sber-questions_elmo/models/mod_from_git/hubs/yahooo-sber-questions_epoches_n_9/variables/variables' with bilm/RNN_1/RNN/MultiRNNCell/Cell0/rnn/lstm_cell/kernel\n",
      "2018-11-16 13:09:20.346 DEBUG in 'tensorflow'['tf_logging'] at line 100: Initialize variable module/bilm/RNN_1/RNN/MultiRNNCell/Cell0/rnn/lstm_cell/projection/kernel:0 from checkpoint b'/home/kuznetsov/models_env/yahoo-sber-questions_elmo/models/mod_from_git/hubs/yahooo-sber-questions_epoches_n_9/variables/variables' with bilm/RNN_1/RNN/MultiRNNCell/Cell0/rnn/lstm_cell/projection/kernel\n",
      "2018-11-16 13:09:20.352 DEBUG in 'tensorflow'['tf_logging'] at line 100: Initialize variable module/bilm/RNN_1/RNN/MultiRNNCell/Cell1/rnn/lstm_cell/bias:0 from checkpoint b'/home/kuznetsov/models_env/yahoo-sber-questions_elmo/models/mod_from_git/hubs/yahooo-sber-questions_epoches_n_9/variables/variables' with bilm/RNN_1/RNN/MultiRNNCell/Cell1/rnn/lstm_cell/bias\n",
      "2018-11-16 13:09:20.358 DEBUG in 'tensorflow'['tf_logging'] at line 100: Initialize variable module/bilm/RNN_1/RNN/MultiRNNCell/Cell1/rnn/lstm_cell/kernel:0 from checkpoint b'/home/kuznetsov/models_env/yahoo-sber-questions_elmo/models/mod_from_git/hubs/yahooo-sber-questions_epoches_n_9/variables/variables' with bilm/RNN_1/RNN/MultiRNNCell/Cell1/rnn/lstm_cell/kernel\n",
      "2018-11-16 13:09:20.365 DEBUG in 'tensorflow'['tf_logging'] at line 100: Initialize variable module/bilm/RNN_1/RNN/MultiRNNCell/Cell1/rnn/lstm_cell/projection/kernel:0 from checkpoint b'/home/kuznetsov/models_env/yahoo-sber-questions_elmo/models/mod_from_git/hubs/yahooo-sber-questions_epoches_n_9/variables/variables' with bilm/RNN_1/RNN/MultiRNNCell/Cell1/rnn/lstm_cell/projection/kernel\n",
      "2018-11-16 13:09:20.372 DEBUG in 'tensorflow'['tf_logging'] at line 100: Initialize variable module/bilm/Variable:0 from checkpoint b'/home/kuznetsov/models_env/yahoo-sber-questions_elmo/models/mod_from_git/hubs/yahooo-sber-questions_epoches_n_9/variables/variables' with bilm/Variable\n",
      "2018-11-16 13:09:20.378 DEBUG in 'tensorflow'['tf_logging'] at line 100: Initialize variable module/bilm/Variable_1:0 from checkpoint b'/home/kuznetsov/models_env/yahoo-sber-questions_elmo/models/mod_from_git/hubs/yahooo-sber-questions_epoches_n_9/variables/variables' with bilm/Variable_1\n",
      "2018-11-16 13:09:20.385 DEBUG in 'tensorflow'['tf_logging'] at line 100: Initialize variable module/bilm/Variable_2:0 from checkpoint b'/home/kuznetsov/models_env/yahoo-sber-questions_elmo/models/mod_from_git/hubs/yahooo-sber-questions_epoches_n_9/variables/variables' with bilm/Variable_2\n",
      "2018-11-16 13:09:20.391 DEBUG in 'tensorflow'['tf_logging'] at line 100: Initialize variable module/bilm/Variable_3:0 from checkpoint b'/home/kuznetsov/models_env/yahoo-sber-questions_elmo/models/mod_from_git/hubs/yahooo-sber-questions_epoches_n_9/variables/variables' with bilm/Variable_3\n",
      "2018-11-16 13:09:20.398 DEBUG in 'tensorflow'['tf_logging'] at line 100: Initialize variable module/bilm/Variable_4:0 from checkpoint b'/home/kuznetsov/models_env/yahoo-sber-questions_elmo/models/mod_from_git/hubs/yahooo-sber-questions_epoches_n_9/variables/variables' with bilm/Variable_4\n",
      "2018-11-16 13:09:20.404 DEBUG in 'tensorflow'['tf_logging'] at line 100: Initialize variable module/bilm/Variable_5:0 from checkpoint b'/home/kuznetsov/models_env/yahoo-sber-questions_elmo/models/mod_from_git/hubs/yahooo-sber-questions_epoches_n_9/variables/variables' with bilm/Variable_5\n",
      "2018-11-16 13:09:20.411 DEBUG in 'tensorflow'['tf_logging'] at line 100: Initialize variable module/bilm/Variable_6:0 from checkpoint b'/home/kuznetsov/models_env/yahoo-sber-questions_elmo/models/mod_from_git/hubs/yahooo-sber-questions_epoches_n_9/variables/variables' with bilm/Variable_6\n",
      "2018-11-16 13:09:20.418 DEBUG in 'tensorflow'['tf_logging'] at line 100: Initialize variable module/bilm/Variable_7:0 from checkpoint b'/home/kuznetsov/models_env/yahoo-sber-questions_elmo/models/mod_from_git/hubs/yahooo-sber-questions_epoches_n_9/variables/variables' with bilm/Variable_7\n",
      "2018-11-16 13:09:20.425 DEBUG in 'tensorflow'['tf_logging'] at line 100: Initialize variable module/bilm/char_embed:0 from checkpoint b'/home/kuznetsov/models_env/yahoo-sber-questions_elmo/models/mod_from_git/hubs/yahooo-sber-questions_epoches_n_9/variables/variables' with bilm/char_embed\n",
      "2018-11-16 13:09:20.431 DEBUG in 'tensorflow'['tf_logging'] at line 100: Initialize variable module/bilm_1/Variable:0 from checkpoint b'/home/kuznetsov/models_env/yahoo-sber-questions_elmo/models/mod_from_git/hubs/yahooo-sber-questions_epoches_n_9/variables/variables' with bilm_1/Variable\n",
      "2018-11-16 13:09:20.438 DEBUG in 'tensorflow'['tf_logging'] at line 100: Initialize variable module/bilm_1/Variable_1:0 from checkpoint b'/home/kuznetsov/models_env/yahoo-sber-questions_elmo/models/mod_from_git/hubs/yahooo-sber-questions_epoches_n_9/variables/variables' with bilm_1/Variable_1\n",
      "2018-11-16 13:09:20.446 DEBUG in 'tensorflow'['tf_logging'] at line 100: Initialize variable module/bilm_1/Variable_2:0 from checkpoint b'/home/kuznetsov/models_env/yahoo-sber-questions_elmo/models/mod_from_git/hubs/yahooo-sber-questions_epoches_n_9/variables/variables' with bilm_1/Variable_2\n",
      "2018-11-16 13:09:20.453 DEBUG in 'tensorflow'['tf_logging'] at line 100: Initialize variable module/bilm_1/Variable_3:0 from checkpoint b'/home/kuznetsov/models_env/yahoo-sber-questions_elmo/models/mod_from_git/hubs/yahooo-sber-questions_epoches_n_9/variables/variables' with bilm_1/Variable_3\n",
      "2018-11-16 13:09:20.460 DEBUG in 'tensorflow'['tf_logging'] at line 100: Initialize variable module/bilm_1/Variable_4:0 from checkpoint b'/home/kuznetsov/models_env/yahoo-sber-questions_elmo/models/mod_from_git/hubs/yahooo-sber-questions_epoches_n_9/variables/variables' with bilm_1/Variable_4\n",
      "2018-11-16 13:09:20.467 DEBUG in 'tensorflow'['tf_logging'] at line 100: Initialize variable module/bilm_1/Variable_5:0 from checkpoint b'/home/kuznetsov/models_env/yahoo-sber-questions_elmo/models/mod_from_git/hubs/yahooo-sber-questions_epoches_n_9/variables/variables' with bilm_1/Variable_5\n",
      "2018-11-16 13:09:20.473 DEBUG in 'tensorflow'['tf_logging'] at line 100: Initialize variable module/bilm_1/Variable_6:0 from checkpoint b'/home/kuznetsov/models_env/yahoo-sber-questions_elmo/models/mod_from_git/hubs/yahooo-sber-questions_epoches_n_9/variables/variables' with bilm_1/Variable_6\n"
     ]
    },
    {
     "name": "stderr",
     "output_type": "stream",
     "text": [
      "2018-11-16 13:09:20.479 DEBUG in 'tensorflow'['tf_logging'] at line 100: Initialize variable module/bilm_1/Variable_7:0 from checkpoint b'/home/kuznetsov/models_env/yahoo-sber-questions_elmo/models/mod_from_git/hubs/yahooo-sber-questions_epoches_n_9/variables/variables' with bilm_1/Variable_7\n",
      "2018-11-16 13:09:22.338 INFO in 'tensorflow'['tf_logging'] at line 115: Saver not created because there are no variables in the graph to restore\n",
      "2018-11-16 13:09:22.816 INFO in 'deeppavlov.models.classifiers.keras_classification_model'['keras_classification_model'] at line 291: [initializing `KerasClassificationModel` from saved]\n",
      "2018-11-16 13:09:23.795 INFO in 'deeppavlov.models.classifiers.keras_classification_model'['keras_classification_model'] at line 301: [loading weights from model.h5]\n",
      "2018-11-16 13:09:23.961 INFO in 'deeppavlov.models.classifiers.keras_classification_model'['keras_classification_model'] at line 135: Model was successfully initialized!\n",
      "Model summary:\n",
      "__________________________________________________________________________________________________\n",
      "Layer (type)                    Output Shape         Param #     Connected to                     \n",
      "==================================================================================================\n",
      "input_1 (InputLayer)            (None, 20, 1024)     0                                            \n",
      "__________________________________________________________________________________________________\n",
      "dropout_1 (Dropout)             (None, 20, 1024)     0           input_1[0][0]                    \n",
      "__________________________________________________________________________________________________\n",
      "bidirectional_1 (Bidirectional) [(None, 20, 512), (N 1967616     dropout_1[0][0]                  \n",
      "__________________________________________________________________________________________________\n",
      "global_max_pooling1d_1 (GlobalM (None, 512)          0           bidirectional_1[0][0]            \n",
      "__________________________________________________________________________________________________\n",
      "global_average_pooling1d_1 (Glo (None, 512)          0           bidirectional_1[0][0]            \n",
      "__________________________________________________________________________________________________\n",
      "concatenate_1 (Concatenate)     (None, 1536)         0           global_max_pooling1d_1[0][0]     \n",
      "                                                                 global_average_pooling1d_1[0][0] \n",
      "                                                                 bidirectional_1[0][1]            \n",
      "                                                                 bidirectional_1[0][2]            \n",
      "__________________________________________________________________________________________________\n",
      "dropout_2 (Dropout)             (None, 1536)         0           concatenate_1[0][0]              \n",
      "__________________________________________________________________________________________________\n",
      "dense_1 (Dense)                 (None, 100)          153700      dropout_2[0][0]                  \n",
      "__________________________________________________________________________________________________\n",
      "activation_1 (Activation)       (None, 100)          0           dense_1[0][0]                    \n",
      "__________________________________________________________________________________________________\n",
      "dropout_3 (Dropout)             (None, 100)          0           activation_1[0][0]               \n",
      "__________________________________________________________________________________________________\n",
      "dense_2 (Dense)                 (None, 2)            202         dropout_3[0][0]                  \n",
      "__________________________________________________________________________________________________\n",
      "activation_2 (Activation)       (None, 2)            0           dense_2[0][0]                    \n",
      "==================================================================================================\n",
      "Total params: 2,121,518\n",
      "Trainable params: 2,121,518\n",
      "Non-trainable params: 0\n",
      "__________________________________________________________________________________________________\n",
      "2018-11-16 13:09:23.963 INFO in 'deeppavlov.core.commands.train'['train'] at line 221: Testing the best saved model\n"
     ]
    },
    {
     "name": "stdout",
     "output_type": "stream",
     "text": [
      "{\"valid\": {\"eval_examples_count\": 403, \"metrics\": {\"roc_auc\": 0.9341, \"sets_accuracy\": 0.8586, \"f1_macro\": 0.8572}, \"time_spent\": \"0:00:07\"}}\n"
     ]
    },
    {
     "name": "stderr",
     "output_type": "stream",
     "text": [
      "2018-11-16 13:09:31.391 INFO in 'deeppavlov.core.data.simple_vocab'['simple_vocab'] at line 100: [loading vocabulary from /cephfs/home/dilyara.baymurzina/GitHub/reserve/DeepPavlov/download/YahooAnswers/models/model_v39/yahoo_answers_classes.dict]\n"
     ]
    },
    {
     "name": "stdout",
     "output_type": "stream",
     "text": [
      "{\"test\": {\"eval_examples_count\": 100, \"metrics\": {\"roc_auc\": 0.8964, \"sets_accuracy\": 0.8, \"f1_macro\": 0.7933}, \"time_spent\": \"0:00:02\"}}\n"
     ]
    },
    {
     "name": "stderr",
     "output_type": "stream",
     "text": [
      "2018-11-16 13:09:34.987 DEBUG in 'tensorflow'['tf_logging'] at line 100: Initialize variable module/aggregation/elmo_output_ELMo_W:0 from checkpoint b'/home/kuznetsov/models_env/yahoo-sber-questions_elmo/models/mod_from_git/hubs/yahooo-sber-questions_epoches_n_9/variables/variables' with aggregation/elmo_output_ELMo_W\n",
      "2018-11-16 13:09:34.994 DEBUG in 'tensorflow'['tf_logging'] at line 100: Initialize variable module/aggregation/elmo_output_ELMo_gamma:0 from checkpoint b'/home/kuznetsov/models_env/yahoo-sber-questions_elmo/models/mod_from_git/hubs/yahooo-sber-questions_epoches_n_9/variables/variables' with aggregation/elmo_output_ELMo_gamma\n",
      "2018-11-16 13:09:35.0 DEBUG in 'tensorflow'['tf_logging'] at line 100: Initialize variable module/bilm/CNN/W_cnn_0:0 from checkpoint b'/home/kuznetsov/models_env/yahoo-sber-questions_elmo/models/mod_from_git/hubs/yahooo-sber-questions_epoches_n_9/variables/variables' with bilm/CNN/W_cnn_0\n",
      "2018-11-16 13:09:35.5 DEBUG in 'tensorflow'['tf_logging'] at line 100: Initialize variable module/bilm/CNN/W_cnn_1:0 from checkpoint b'/home/kuznetsov/models_env/yahoo-sber-questions_elmo/models/mod_from_git/hubs/yahooo-sber-questions_epoches_n_9/variables/variables' with bilm/CNN/W_cnn_1\n",
      "2018-11-16 13:09:35.11 DEBUG in 'tensorflow'['tf_logging'] at line 100: Initialize variable module/bilm/CNN/W_cnn_2:0 from checkpoint b'/home/kuznetsov/models_env/yahoo-sber-questions_elmo/models/mod_from_git/hubs/yahooo-sber-questions_epoches_n_9/variables/variables' with bilm/CNN/W_cnn_2\n",
      "2018-11-16 13:09:35.17 DEBUG in 'tensorflow'['tf_logging'] at line 100: Initialize variable module/bilm/CNN/W_cnn_3:0 from checkpoint b'/home/kuznetsov/models_env/yahoo-sber-questions_elmo/models/mod_from_git/hubs/yahooo-sber-questions_epoches_n_9/variables/variables' with bilm/CNN/W_cnn_3\n",
      "2018-11-16 13:09:35.23 DEBUG in 'tensorflow'['tf_logging'] at line 100: Initialize variable module/bilm/CNN/W_cnn_4:0 from checkpoint b'/home/kuznetsov/models_env/yahoo-sber-questions_elmo/models/mod_from_git/hubs/yahooo-sber-questions_epoches_n_9/variables/variables' with bilm/CNN/W_cnn_4\n",
      "2018-11-16 13:09:35.29 DEBUG in 'tensorflow'['tf_logging'] at line 100: Initialize variable module/bilm/CNN/W_cnn_5:0 from checkpoint b'/home/kuznetsov/models_env/yahoo-sber-questions_elmo/models/mod_from_git/hubs/yahooo-sber-questions_epoches_n_9/variables/variables' with bilm/CNN/W_cnn_5\n",
      "2018-11-16 13:09:35.34 DEBUG in 'tensorflow'['tf_logging'] at line 100: Initialize variable module/bilm/CNN/W_cnn_6:0 from checkpoint b'/home/kuznetsov/models_env/yahoo-sber-questions_elmo/models/mod_from_git/hubs/yahooo-sber-questions_epoches_n_9/variables/variables' with bilm/CNN/W_cnn_6\n",
      "2018-11-16 13:09:35.41 DEBUG in 'tensorflow'['tf_logging'] at line 100: Initialize variable module/bilm/CNN/b_cnn_0:0 from checkpoint b'/home/kuznetsov/models_env/yahoo-sber-questions_elmo/models/mod_from_git/hubs/yahooo-sber-questions_epoches_n_9/variables/variables' with bilm/CNN/b_cnn_0\n",
      "2018-11-16 13:09:35.46 DEBUG in 'tensorflow'['tf_logging'] at line 100: Initialize variable module/bilm/CNN/b_cnn_1:0 from checkpoint b'/home/kuznetsov/models_env/yahoo-sber-questions_elmo/models/mod_from_git/hubs/yahooo-sber-questions_epoches_n_9/variables/variables' with bilm/CNN/b_cnn_1\n",
      "2018-11-16 13:09:35.52 DEBUG in 'tensorflow'['tf_logging'] at line 100: Initialize variable module/bilm/CNN/b_cnn_2:0 from checkpoint b'/home/kuznetsov/models_env/yahoo-sber-questions_elmo/models/mod_from_git/hubs/yahooo-sber-questions_epoches_n_9/variables/variables' with bilm/CNN/b_cnn_2\n",
      "2018-11-16 13:09:35.57 DEBUG in 'tensorflow'['tf_logging'] at line 100: Initialize variable module/bilm/CNN/b_cnn_3:0 from checkpoint b'/home/kuznetsov/models_env/yahoo-sber-questions_elmo/models/mod_from_git/hubs/yahooo-sber-questions_epoches_n_9/variables/variables' with bilm/CNN/b_cnn_3\n",
      "2018-11-16 13:09:35.64 DEBUG in 'tensorflow'['tf_logging'] at line 100: Initialize variable module/bilm/CNN/b_cnn_4:0 from checkpoint b'/home/kuznetsov/models_env/yahoo-sber-questions_elmo/models/mod_from_git/hubs/yahooo-sber-questions_epoches_n_9/variables/variables' with bilm/CNN/b_cnn_4\n",
      "2018-11-16 13:09:35.70 DEBUG in 'tensorflow'['tf_logging'] at line 100: Initialize variable module/bilm/CNN/b_cnn_5:0 from checkpoint b'/home/kuznetsov/models_env/yahoo-sber-questions_elmo/models/mod_from_git/hubs/yahooo-sber-questions_epoches_n_9/variables/variables' with bilm/CNN/b_cnn_5\n",
      "2018-11-16 13:09:35.76 DEBUG in 'tensorflow'['tf_logging'] at line 100: Initialize variable module/bilm/CNN/b_cnn_6:0 from checkpoint b'/home/kuznetsov/models_env/yahoo-sber-questions_elmo/models/mod_from_git/hubs/yahooo-sber-questions_epoches_n_9/variables/variables' with bilm/CNN/b_cnn_6\n",
      "2018-11-16 13:09:35.82 DEBUG in 'tensorflow'['tf_logging'] at line 100: Initialize variable module/bilm/CNN_high_0/W_carry:0 from checkpoint b'/home/kuznetsov/models_env/yahoo-sber-questions_elmo/models/mod_from_git/hubs/yahooo-sber-questions_epoches_n_9/variables/variables' with bilm/CNN_high_0/W_carry\n",
      "2018-11-16 13:09:35.88 DEBUG in 'tensorflow'['tf_logging'] at line 100: Initialize variable module/bilm/CNN_high_0/W_transform:0 from checkpoint b'/home/kuznetsov/models_env/yahoo-sber-questions_elmo/models/mod_from_git/hubs/yahooo-sber-questions_epoches_n_9/variables/variables' with bilm/CNN_high_0/W_transform\n",
      "2018-11-16 13:09:35.94 DEBUG in 'tensorflow'['tf_logging'] at line 100: Initialize variable module/bilm/CNN_high_0/b_carry:0 from checkpoint b'/home/kuznetsov/models_env/yahoo-sber-questions_elmo/models/mod_from_git/hubs/yahooo-sber-questions_epoches_n_9/variables/variables' with bilm/CNN_high_0/b_carry\n",
      "2018-11-16 13:09:35.100 DEBUG in 'tensorflow'['tf_logging'] at line 100: Initialize variable module/bilm/CNN_high_0/b_transform:0 from checkpoint b'/home/kuznetsov/models_env/yahoo-sber-questions_elmo/models/mod_from_git/hubs/yahooo-sber-questions_epoches_n_9/variables/variables' with bilm/CNN_high_0/b_transform\n",
      "2018-11-16 13:09:35.106 DEBUG in 'tensorflow'['tf_logging'] at line 100: Initialize variable module/bilm/CNN_high_1/W_carry:0 from checkpoint b'/home/kuznetsov/models_env/yahoo-sber-questions_elmo/models/mod_from_git/hubs/yahooo-sber-questions_epoches_n_9/variables/variables' with bilm/CNN_high_1/W_carry\n",
      "2018-11-16 13:09:35.111 DEBUG in 'tensorflow'['tf_logging'] at line 100: Initialize variable module/bilm/CNN_high_1/W_transform:0 from checkpoint b'/home/kuznetsov/models_env/yahoo-sber-questions_elmo/models/mod_from_git/hubs/yahooo-sber-questions_epoches_n_9/variables/variables' with bilm/CNN_high_1/W_transform\n",
      "2018-11-16 13:09:35.117 DEBUG in 'tensorflow'['tf_logging'] at line 100: Initialize variable module/bilm/CNN_high_1/b_carry:0 from checkpoint b'/home/kuznetsov/models_env/yahoo-sber-questions_elmo/models/mod_from_git/hubs/yahooo-sber-questions_epoches_n_9/variables/variables' with bilm/CNN_high_1/b_carry\n",
      "2018-11-16 13:09:35.123 DEBUG in 'tensorflow'['tf_logging'] at line 100: Initialize variable module/bilm/CNN_high_1/b_transform:0 from checkpoint b'/home/kuznetsov/models_env/yahoo-sber-questions_elmo/models/mod_from_git/hubs/yahooo-sber-questions_epoches_n_9/variables/variables' with bilm/CNN_high_1/b_transform\n",
      "2018-11-16 13:09:35.129 DEBUG in 'tensorflow'['tf_logging'] at line 100: Initialize variable module/bilm/CNN_proj/W_proj:0 from checkpoint b'/home/kuznetsov/models_env/yahoo-sber-questions_elmo/models/mod_from_git/hubs/yahooo-sber-questions_epoches_n_9/variables/variables' with bilm/CNN_proj/W_proj\n",
      "2018-11-16 13:09:35.135 DEBUG in 'tensorflow'['tf_logging'] at line 100: Initialize variable module/bilm/CNN_proj/b_proj:0 from checkpoint b'/home/kuznetsov/models_env/yahoo-sber-questions_elmo/models/mod_from_git/hubs/yahooo-sber-questions_epoches_n_9/variables/variables' with bilm/CNN_proj/b_proj\n",
      "2018-11-16 13:09:35.141 DEBUG in 'tensorflow'['tf_logging'] at line 100: Initialize variable module/bilm/RNN_0/RNN/MultiRNNCell/Cell0/rnn/lstm_cell/bias:0 from checkpoint b'/home/kuznetsov/models_env/yahoo-sber-questions_elmo/models/mod_from_git/hubs/yahooo-sber-questions_epoches_n_9/variables/variables' with bilm/RNN_0/RNN/MultiRNNCell/Cell0/rnn/lstm_cell/bias\n",
      "2018-11-16 13:09:35.147 DEBUG in 'tensorflow'['tf_logging'] at line 100: Initialize variable module/bilm/RNN_0/RNN/MultiRNNCell/Cell0/rnn/lstm_cell/kernel:0 from checkpoint b'/home/kuznetsov/models_env/yahoo-sber-questions_elmo/models/mod_from_git/hubs/yahooo-sber-questions_epoches_n_9/variables/variables' with bilm/RNN_0/RNN/MultiRNNCell/Cell0/rnn/lstm_cell/kernel\n"
     ]
    },
    {
     "name": "stderr",
     "output_type": "stream",
     "text": [
      "2018-11-16 13:09:35.153 DEBUG in 'tensorflow'['tf_logging'] at line 100: Initialize variable module/bilm/RNN_0/RNN/MultiRNNCell/Cell0/rnn/lstm_cell/projection/kernel:0 from checkpoint b'/home/kuznetsov/models_env/yahoo-sber-questions_elmo/models/mod_from_git/hubs/yahooo-sber-questions_epoches_n_9/variables/variables' with bilm/RNN_0/RNN/MultiRNNCell/Cell0/rnn/lstm_cell/projection/kernel\n",
      "2018-11-16 13:09:35.159 DEBUG in 'tensorflow'['tf_logging'] at line 100: Initialize variable module/bilm/RNN_0/RNN/MultiRNNCell/Cell1/rnn/lstm_cell/bias:0 from checkpoint b'/home/kuznetsov/models_env/yahoo-sber-questions_elmo/models/mod_from_git/hubs/yahooo-sber-questions_epoches_n_9/variables/variables' with bilm/RNN_0/RNN/MultiRNNCell/Cell1/rnn/lstm_cell/bias\n",
      "2018-11-16 13:09:35.164 DEBUG in 'tensorflow'['tf_logging'] at line 100: Initialize variable module/bilm/RNN_0/RNN/MultiRNNCell/Cell1/rnn/lstm_cell/kernel:0 from checkpoint b'/home/kuznetsov/models_env/yahoo-sber-questions_elmo/models/mod_from_git/hubs/yahooo-sber-questions_epoches_n_9/variables/variables' with bilm/RNN_0/RNN/MultiRNNCell/Cell1/rnn/lstm_cell/kernel\n",
      "2018-11-16 13:09:35.170 DEBUG in 'tensorflow'['tf_logging'] at line 100: Initialize variable module/bilm/RNN_0/RNN/MultiRNNCell/Cell1/rnn/lstm_cell/projection/kernel:0 from checkpoint b'/home/kuznetsov/models_env/yahoo-sber-questions_elmo/models/mod_from_git/hubs/yahooo-sber-questions_epoches_n_9/variables/variables' with bilm/RNN_0/RNN/MultiRNNCell/Cell1/rnn/lstm_cell/projection/kernel\n",
      "2018-11-16 13:09:35.176 DEBUG in 'tensorflow'['tf_logging'] at line 100: Initialize variable module/bilm/RNN_1/RNN/MultiRNNCell/Cell0/rnn/lstm_cell/bias:0 from checkpoint b'/home/kuznetsov/models_env/yahoo-sber-questions_elmo/models/mod_from_git/hubs/yahooo-sber-questions_epoches_n_9/variables/variables' with bilm/RNN_1/RNN/MultiRNNCell/Cell0/rnn/lstm_cell/bias\n",
      "2018-11-16 13:09:35.181 DEBUG in 'tensorflow'['tf_logging'] at line 100: Initialize variable module/bilm/RNN_1/RNN/MultiRNNCell/Cell0/rnn/lstm_cell/kernel:0 from checkpoint b'/home/kuznetsov/models_env/yahoo-sber-questions_elmo/models/mod_from_git/hubs/yahooo-sber-questions_epoches_n_9/variables/variables' with bilm/RNN_1/RNN/MultiRNNCell/Cell0/rnn/lstm_cell/kernel\n",
      "2018-11-16 13:09:35.187 DEBUG in 'tensorflow'['tf_logging'] at line 100: Initialize variable module/bilm/RNN_1/RNN/MultiRNNCell/Cell0/rnn/lstm_cell/projection/kernel:0 from checkpoint b'/home/kuznetsov/models_env/yahoo-sber-questions_elmo/models/mod_from_git/hubs/yahooo-sber-questions_epoches_n_9/variables/variables' with bilm/RNN_1/RNN/MultiRNNCell/Cell0/rnn/lstm_cell/projection/kernel\n",
      "2018-11-16 13:09:35.193 DEBUG in 'tensorflow'['tf_logging'] at line 100: Initialize variable module/bilm/RNN_1/RNN/MultiRNNCell/Cell1/rnn/lstm_cell/bias:0 from checkpoint b'/home/kuznetsov/models_env/yahoo-sber-questions_elmo/models/mod_from_git/hubs/yahooo-sber-questions_epoches_n_9/variables/variables' with bilm/RNN_1/RNN/MultiRNNCell/Cell1/rnn/lstm_cell/bias\n",
      "2018-11-16 13:09:35.199 DEBUG in 'tensorflow'['tf_logging'] at line 100: Initialize variable module/bilm/RNN_1/RNN/MultiRNNCell/Cell1/rnn/lstm_cell/kernel:0 from checkpoint b'/home/kuznetsov/models_env/yahoo-sber-questions_elmo/models/mod_from_git/hubs/yahooo-sber-questions_epoches_n_9/variables/variables' with bilm/RNN_1/RNN/MultiRNNCell/Cell1/rnn/lstm_cell/kernel\n",
      "2018-11-16 13:09:35.205 DEBUG in 'tensorflow'['tf_logging'] at line 100: Initialize variable module/bilm/RNN_1/RNN/MultiRNNCell/Cell1/rnn/lstm_cell/projection/kernel:0 from checkpoint b'/home/kuznetsov/models_env/yahoo-sber-questions_elmo/models/mod_from_git/hubs/yahooo-sber-questions_epoches_n_9/variables/variables' with bilm/RNN_1/RNN/MultiRNNCell/Cell1/rnn/lstm_cell/projection/kernel\n",
      "2018-11-16 13:09:35.211 DEBUG in 'tensorflow'['tf_logging'] at line 100: Initialize variable module/bilm/Variable:0 from checkpoint b'/home/kuznetsov/models_env/yahoo-sber-questions_elmo/models/mod_from_git/hubs/yahooo-sber-questions_epoches_n_9/variables/variables' with bilm/Variable\n",
      "2018-11-16 13:09:35.217 DEBUG in 'tensorflow'['tf_logging'] at line 100: Initialize variable module/bilm/Variable_1:0 from checkpoint b'/home/kuznetsov/models_env/yahoo-sber-questions_elmo/models/mod_from_git/hubs/yahooo-sber-questions_epoches_n_9/variables/variables' with bilm/Variable_1\n",
      "2018-11-16 13:09:35.223 DEBUG in 'tensorflow'['tf_logging'] at line 100: Initialize variable module/bilm/Variable_2:0 from checkpoint b'/home/kuznetsov/models_env/yahoo-sber-questions_elmo/models/mod_from_git/hubs/yahooo-sber-questions_epoches_n_9/variables/variables' with bilm/Variable_2\n",
      "2018-11-16 13:09:35.229 DEBUG in 'tensorflow'['tf_logging'] at line 100: Initialize variable module/bilm/Variable_3:0 from checkpoint b'/home/kuznetsov/models_env/yahoo-sber-questions_elmo/models/mod_from_git/hubs/yahooo-sber-questions_epoches_n_9/variables/variables' with bilm/Variable_3\n",
      "2018-11-16 13:09:35.235 DEBUG in 'tensorflow'['tf_logging'] at line 100: Initialize variable module/bilm/Variable_4:0 from checkpoint b'/home/kuznetsov/models_env/yahoo-sber-questions_elmo/models/mod_from_git/hubs/yahooo-sber-questions_epoches_n_9/variables/variables' with bilm/Variable_4\n",
      "2018-11-16 13:09:35.241 DEBUG in 'tensorflow'['tf_logging'] at line 100: Initialize variable module/bilm/Variable_5:0 from checkpoint b'/home/kuznetsov/models_env/yahoo-sber-questions_elmo/models/mod_from_git/hubs/yahooo-sber-questions_epoches_n_9/variables/variables' with bilm/Variable_5\n",
      "2018-11-16 13:09:35.248 DEBUG in 'tensorflow'['tf_logging'] at line 100: Initialize variable module/bilm/Variable_6:0 from checkpoint b'/home/kuznetsov/models_env/yahoo-sber-questions_elmo/models/mod_from_git/hubs/yahooo-sber-questions_epoches_n_9/variables/variables' with bilm/Variable_6\n",
      "2018-11-16 13:09:35.254 DEBUG in 'tensorflow'['tf_logging'] at line 100: Initialize variable module/bilm/Variable_7:0 from checkpoint b'/home/kuznetsov/models_env/yahoo-sber-questions_elmo/models/mod_from_git/hubs/yahooo-sber-questions_epoches_n_9/variables/variables' with bilm/Variable_7\n",
      "2018-11-16 13:09:35.260 DEBUG in 'tensorflow'['tf_logging'] at line 100: Initialize variable module/bilm/char_embed:0 from checkpoint b'/home/kuznetsov/models_env/yahoo-sber-questions_elmo/models/mod_from_git/hubs/yahooo-sber-questions_epoches_n_9/variables/variables' with bilm/char_embed\n",
      "2018-11-16 13:09:35.266 DEBUG in 'tensorflow'['tf_logging'] at line 100: Initialize variable module/bilm_1/Variable:0 from checkpoint b'/home/kuznetsov/models_env/yahoo-sber-questions_elmo/models/mod_from_git/hubs/yahooo-sber-questions_epoches_n_9/variables/variables' with bilm_1/Variable\n",
      "2018-11-16 13:09:35.272 DEBUG in 'tensorflow'['tf_logging'] at line 100: Initialize variable module/bilm_1/Variable_1:0 from checkpoint b'/home/kuznetsov/models_env/yahoo-sber-questions_elmo/models/mod_from_git/hubs/yahooo-sber-questions_epoches_n_9/variables/variables' with bilm_1/Variable_1\n",
      "2018-11-16 13:09:35.278 DEBUG in 'tensorflow'['tf_logging'] at line 100: Initialize variable module/bilm_1/Variable_2:0 from checkpoint b'/home/kuznetsov/models_env/yahoo-sber-questions_elmo/models/mod_from_git/hubs/yahooo-sber-questions_epoches_n_9/variables/variables' with bilm_1/Variable_2\n",
      "2018-11-16 13:09:35.288 DEBUG in 'tensorflow'['tf_logging'] at line 100: Initialize variable module/bilm_1/Variable_3:0 from checkpoint b'/home/kuznetsov/models_env/yahoo-sber-questions_elmo/models/mod_from_git/hubs/yahooo-sber-questions_epoches_n_9/variables/variables' with bilm_1/Variable_3\n",
      "2018-11-16 13:09:35.299 DEBUG in 'tensorflow'['tf_logging'] at line 100: Initialize variable module/bilm_1/Variable_4:0 from checkpoint b'/home/kuznetsov/models_env/yahoo-sber-questions_elmo/models/mod_from_git/hubs/yahooo-sber-questions_epoches_n_9/variables/variables' with bilm_1/Variable_4\n",
      "2018-11-16 13:09:35.307 DEBUG in 'tensorflow'['tf_logging'] at line 100: Initialize variable module/bilm_1/Variable_5:0 from checkpoint b'/home/kuznetsov/models_env/yahoo-sber-questions_elmo/models/mod_from_git/hubs/yahooo-sber-questions_epoches_n_9/variables/variables' with bilm_1/Variable_5\n"
     ]
    },
    {
     "name": "stderr",
     "output_type": "stream",
     "text": [
      "2018-11-16 13:09:35.317 DEBUG in 'tensorflow'['tf_logging'] at line 100: Initialize variable module/bilm_1/Variable_6:0 from checkpoint b'/home/kuznetsov/models_env/yahoo-sber-questions_elmo/models/mod_from_git/hubs/yahooo-sber-questions_epoches_n_9/variables/variables' with bilm_1/Variable_6\n",
      "2018-11-16 13:09:35.327 DEBUG in 'tensorflow'['tf_logging'] at line 100: Initialize variable module/bilm_1/Variable_7:0 from checkpoint b'/home/kuznetsov/models_env/yahoo-sber-questions_elmo/models/mod_from_git/hubs/yahooo-sber-questions_epoches_n_9/variables/variables' with bilm_1/Variable_7\n",
      "2018-11-16 13:09:37.447 INFO in 'tensorflow'['tf_logging'] at line 115: Saver not created because there are no variables in the graph to restore\n",
      "2018-11-16 13:09:38.368 INFO in 'deeppavlov.models.classifiers.keras_classification_model'['keras_classification_model'] at line 291: [initializing `KerasClassificationModel` from saved]\n",
      "2018-11-16 13:09:39.240 INFO in 'deeppavlov.models.classifiers.keras_classification_model'['keras_classification_model'] at line 301: [loading weights from model.h5]\n",
      "2018-11-16 13:09:39.397 INFO in 'deeppavlov.models.classifiers.keras_classification_model'['keras_classification_model'] at line 135: Model was successfully initialized!\n",
      "Model summary:\n",
      "__________________________________________________________________________________________________\n",
      "Layer (type)                    Output Shape         Param #     Connected to                     \n",
      "==================================================================================================\n",
      "input_1 (InputLayer)            (None, 20, 1024)     0                                            \n",
      "__________________________________________________________________________________________________\n",
      "dropout_1 (Dropout)             (None, 20, 1024)     0           input_1[0][0]                    \n",
      "__________________________________________________________________________________________________\n",
      "bidirectional_1 (Bidirectional) [(None, 20, 512), (N 1967616     dropout_1[0][0]                  \n",
      "__________________________________________________________________________________________________\n",
      "global_max_pooling1d_1 (GlobalM (None, 512)          0           bidirectional_1[0][0]            \n",
      "__________________________________________________________________________________________________\n",
      "global_average_pooling1d_1 (Glo (None, 512)          0           bidirectional_1[0][0]            \n",
      "__________________________________________________________________________________________________\n",
      "concatenate_1 (Concatenate)     (None, 1536)         0           global_max_pooling1d_1[0][0]     \n",
      "                                                                 global_average_pooling1d_1[0][0] \n",
      "                                                                 bidirectional_1[0][1]            \n",
      "                                                                 bidirectional_1[0][2]            \n",
      "__________________________________________________________________________________________________\n",
      "dropout_2 (Dropout)             (None, 1536)         0           concatenate_1[0][0]              \n",
      "__________________________________________________________________________________________________\n",
      "dense_1 (Dense)                 (None, 100)          153700      dropout_2[0][0]                  \n",
      "__________________________________________________________________________________________________\n",
      "activation_1 (Activation)       (None, 100)          0           dense_1[0][0]                    \n",
      "__________________________________________________________________________________________________\n",
      "dropout_3 (Dropout)             (None, 100)          0           activation_1[0][0]               \n",
      "__________________________________________________________________________________________________\n",
      "dense_2 (Dense)                 (None, 2)            202         dropout_3[0][0]                  \n",
      "__________________________________________________________________________________________________\n",
      "activation_2 (Activation)       (None, 2)            0           dense_2[0][0]                    \n",
      "==================================================================================================\n",
      "Total params: 2,121,518\n",
      "Trainable params: 2,121,518\n",
      "Non-trainable params: 0\n",
      "__________________________________________________________________________________________________\n",
      "2018-11-16 13:09:39.399 INFO in 'deeppavlov.core.data.simple_vocab'['simple_vocab'] at line 100: [loading vocabulary from /cephfs/home/dilyara.baymurzina/GitHub/reserve/DeepPavlov/download/YahooAnswers/models/model_v39/yahoo_answers_classes.dict]\n"
     ]
    },
    {
     "name": "stdout",
     "output_type": "stream",
     "text": [
      "Iteration 3: add 1195 samples to train dataset\n"
     ]
    },
    {
     "name": "stderr",
     "output_type": "stream",
     "text": [
      "2018-11-16 13:14:33.43 INFO in 'deeppavlov.core.data.simple_vocab'['simple_vocab'] at line 100: [loading vocabulary from /cephfs/home/dilyara.baymurzina/GitHub/reserve/DeepPavlov/download/YahooAnswers/models/model_v39/yahoo_answers_classes.dict]\n",
      "2018-11-16 13:14:33.57 INFO in 'deeppavlov.core.data.simple_vocab'['simple_vocab'] at line 89: [saving vocabulary to /cephfs/home/dilyara.baymurzina/GitHub/reserve/DeepPavlov/download/YahooAnswers/models/model_v39/yahoo_answers_classes.dict]\n",
      "2018-11-16 13:14:36.642 DEBUG in 'tensorflow'['tf_logging'] at line 100: Initialize variable module/aggregation/elmo_output_ELMo_W:0 from checkpoint b'/home/kuznetsov/models_env/yahoo-sber-questions_elmo/models/mod_from_git/hubs/yahooo-sber-questions_epoches_n_9/variables/variables' with aggregation/elmo_output_ELMo_W\n",
      "2018-11-16 13:14:36.648 DEBUG in 'tensorflow'['tf_logging'] at line 100: Initialize variable module/aggregation/elmo_output_ELMo_gamma:0 from checkpoint b'/home/kuznetsov/models_env/yahoo-sber-questions_elmo/models/mod_from_git/hubs/yahooo-sber-questions_epoches_n_9/variables/variables' with aggregation/elmo_output_ELMo_gamma\n",
      "2018-11-16 13:14:36.654 DEBUG in 'tensorflow'['tf_logging'] at line 100: Initialize variable module/bilm/CNN/W_cnn_0:0 from checkpoint b'/home/kuznetsov/models_env/yahoo-sber-questions_elmo/models/mod_from_git/hubs/yahooo-sber-questions_epoches_n_9/variables/variables' with bilm/CNN/W_cnn_0\n",
      "2018-11-16 13:14:36.659 DEBUG in 'tensorflow'['tf_logging'] at line 100: Initialize variable module/bilm/CNN/W_cnn_1:0 from checkpoint b'/home/kuznetsov/models_env/yahoo-sber-questions_elmo/models/mod_from_git/hubs/yahooo-sber-questions_epoches_n_9/variables/variables' with bilm/CNN/W_cnn_1\n",
      "2018-11-16 13:14:36.665 DEBUG in 'tensorflow'['tf_logging'] at line 100: Initialize variable module/bilm/CNN/W_cnn_2:0 from checkpoint b'/home/kuznetsov/models_env/yahoo-sber-questions_elmo/models/mod_from_git/hubs/yahooo-sber-questions_epoches_n_9/variables/variables' with bilm/CNN/W_cnn_2\n",
      "2018-11-16 13:14:36.670 DEBUG in 'tensorflow'['tf_logging'] at line 100: Initialize variable module/bilm/CNN/W_cnn_3:0 from checkpoint b'/home/kuznetsov/models_env/yahoo-sber-questions_elmo/models/mod_from_git/hubs/yahooo-sber-questions_epoches_n_9/variables/variables' with bilm/CNN/W_cnn_3\n",
      "2018-11-16 13:14:36.676 DEBUG in 'tensorflow'['tf_logging'] at line 100: Initialize variable module/bilm/CNN/W_cnn_4:0 from checkpoint b'/home/kuznetsov/models_env/yahoo-sber-questions_elmo/models/mod_from_git/hubs/yahooo-sber-questions_epoches_n_9/variables/variables' with bilm/CNN/W_cnn_4\n",
      "2018-11-16 13:14:36.682 DEBUG in 'tensorflow'['tf_logging'] at line 100: Initialize variable module/bilm/CNN/W_cnn_5:0 from checkpoint b'/home/kuznetsov/models_env/yahoo-sber-questions_elmo/models/mod_from_git/hubs/yahooo-sber-questions_epoches_n_9/variables/variables' with bilm/CNN/W_cnn_5\n",
      "2018-11-16 13:14:36.687 DEBUG in 'tensorflow'['tf_logging'] at line 100: Initialize variable module/bilm/CNN/W_cnn_6:0 from checkpoint b'/home/kuznetsov/models_env/yahoo-sber-questions_elmo/models/mod_from_git/hubs/yahooo-sber-questions_epoches_n_9/variables/variables' with bilm/CNN/W_cnn_6\n",
      "2018-11-16 13:14:36.693 DEBUG in 'tensorflow'['tf_logging'] at line 100: Initialize variable module/bilm/CNN/b_cnn_0:0 from checkpoint b'/home/kuznetsov/models_env/yahoo-sber-questions_elmo/models/mod_from_git/hubs/yahooo-sber-questions_epoches_n_9/variables/variables' with bilm/CNN/b_cnn_0\n",
      "2018-11-16 13:14:36.698 DEBUG in 'tensorflow'['tf_logging'] at line 100: Initialize variable module/bilm/CNN/b_cnn_1:0 from checkpoint b'/home/kuznetsov/models_env/yahoo-sber-questions_elmo/models/mod_from_git/hubs/yahooo-sber-questions_epoches_n_9/variables/variables' with bilm/CNN/b_cnn_1\n",
      "2018-11-16 13:14:36.704 DEBUG in 'tensorflow'['tf_logging'] at line 100: Initialize variable module/bilm/CNN/b_cnn_2:0 from checkpoint b'/home/kuznetsov/models_env/yahoo-sber-questions_elmo/models/mod_from_git/hubs/yahooo-sber-questions_epoches_n_9/variables/variables' with bilm/CNN/b_cnn_2\n",
      "2018-11-16 13:14:36.710 DEBUG in 'tensorflow'['tf_logging'] at line 100: Initialize variable module/bilm/CNN/b_cnn_3:0 from checkpoint b'/home/kuznetsov/models_env/yahoo-sber-questions_elmo/models/mod_from_git/hubs/yahooo-sber-questions_epoches_n_9/variables/variables' with bilm/CNN/b_cnn_3\n",
      "2018-11-16 13:14:36.716 DEBUG in 'tensorflow'['tf_logging'] at line 100: Initialize variable module/bilm/CNN/b_cnn_4:0 from checkpoint b'/home/kuznetsov/models_env/yahoo-sber-questions_elmo/models/mod_from_git/hubs/yahooo-sber-questions_epoches_n_9/variables/variables' with bilm/CNN/b_cnn_4\n",
      "2018-11-16 13:14:36.721 DEBUG in 'tensorflow'['tf_logging'] at line 100: Initialize variable module/bilm/CNN/b_cnn_5:0 from checkpoint b'/home/kuznetsov/models_env/yahoo-sber-questions_elmo/models/mod_from_git/hubs/yahooo-sber-questions_epoches_n_9/variables/variables' with bilm/CNN/b_cnn_5\n",
      "2018-11-16 13:14:36.727 DEBUG in 'tensorflow'['tf_logging'] at line 100: Initialize variable module/bilm/CNN/b_cnn_6:0 from checkpoint b'/home/kuznetsov/models_env/yahoo-sber-questions_elmo/models/mod_from_git/hubs/yahooo-sber-questions_epoches_n_9/variables/variables' with bilm/CNN/b_cnn_6\n",
      "2018-11-16 13:14:36.732 DEBUG in 'tensorflow'['tf_logging'] at line 100: Initialize variable module/bilm/CNN_high_0/W_carry:0 from checkpoint b'/home/kuznetsov/models_env/yahoo-sber-questions_elmo/models/mod_from_git/hubs/yahooo-sber-questions_epoches_n_9/variables/variables' with bilm/CNN_high_0/W_carry\n",
      "2018-11-16 13:14:36.738 DEBUG in 'tensorflow'['tf_logging'] at line 100: Initialize variable module/bilm/CNN_high_0/W_transform:0 from checkpoint b'/home/kuznetsov/models_env/yahoo-sber-questions_elmo/models/mod_from_git/hubs/yahooo-sber-questions_epoches_n_9/variables/variables' with bilm/CNN_high_0/W_transform\n",
      "2018-11-16 13:14:36.744 DEBUG in 'tensorflow'['tf_logging'] at line 100: Initialize variable module/bilm/CNN_high_0/b_carry:0 from checkpoint b'/home/kuznetsov/models_env/yahoo-sber-questions_elmo/models/mod_from_git/hubs/yahooo-sber-questions_epoches_n_9/variables/variables' with bilm/CNN_high_0/b_carry\n",
      "2018-11-16 13:14:36.750 DEBUG in 'tensorflow'['tf_logging'] at line 100: Initialize variable module/bilm/CNN_high_0/b_transform:0 from checkpoint b'/home/kuznetsov/models_env/yahoo-sber-questions_elmo/models/mod_from_git/hubs/yahooo-sber-questions_epoches_n_9/variables/variables' with bilm/CNN_high_0/b_transform\n",
      "2018-11-16 13:14:36.755 DEBUG in 'tensorflow'['tf_logging'] at line 100: Initialize variable module/bilm/CNN_high_1/W_carry:0 from checkpoint b'/home/kuznetsov/models_env/yahoo-sber-questions_elmo/models/mod_from_git/hubs/yahooo-sber-questions_epoches_n_9/variables/variables' with bilm/CNN_high_1/W_carry\n",
      "2018-11-16 13:14:36.761 DEBUG in 'tensorflow'['tf_logging'] at line 100: Initialize variable module/bilm/CNN_high_1/W_transform:0 from checkpoint b'/home/kuznetsov/models_env/yahoo-sber-questions_elmo/models/mod_from_git/hubs/yahooo-sber-questions_epoches_n_9/variables/variables' with bilm/CNN_high_1/W_transform\n",
      "2018-11-16 13:14:36.767 DEBUG in 'tensorflow'['tf_logging'] at line 100: Initialize variable module/bilm/CNN_high_1/b_carry:0 from checkpoint b'/home/kuznetsov/models_env/yahoo-sber-questions_elmo/models/mod_from_git/hubs/yahooo-sber-questions_epoches_n_9/variables/variables' with bilm/CNN_high_1/b_carry\n",
      "2018-11-16 13:14:36.773 DEBUG in 'tensorflow'['tf_logging'] at line 100: Initialize variable module/bilm/CNN_high_1/b_transform:0 from checkpoint b'/home/kuznetsov/models_env/yahoo-sber-questions_elmo/models/mod_from_git/hubs/yahooo-sber-questions_epoches_n_9/variables/variables' with bilm/CNN_high_1/b_transform\n",
      "2018-11-16 13:14:36.779 DEBUG in 'tensorflow'['tf_logging'] at line 100: Initialize variable module/bilm/CNN_proj/W_proj:0 from checkpoint b'/home/kuznetsov/models_env/yahoo-sber-questions_elmo/models/mod_from_git/hubs/yahooo-sber-questions_epoches_n_9/variables/variables' with bilm/CNN_proj/W_proj\n",
      "2018-11-16 13:14:36.784 DEBUG in 'tensorflow'['tf_logging'] at line 100: Initialize variable module/bilm/CNN_proj/b_proj:0 from checkpoint b'/home/kuznetsov/models_env/yahoo-sber-questions_elmo/models/mod_from_git/hubs/yahooo-sber-questions_epoches_n_9/variables/variables' with bilm/CNN_proj/b_proj\n"
     ]
    },
    {
     "name": "stderr",
     "output_type": "stream",
     "text": [
      "2018-11-16 13:14:36.790 DEBUG in 'tensorflow'['tf_logging'] at line 100: Initialize variable module/bilm/RNN_0/RNN/MultiRNNCell/Cell0/rnn/lstm_cell/bias:0 from checkpoint b'/home/kuznetsov/models_env/yahoo-sber-questions_elmo/models/mod_from_git/hubs/yahooo-sber-questions_epoches_n_9/variables/variables' with bilm/RNN_0/RNN/MultiRNNCell/Cell0/rnn/lstm_cell/bias\n",
      "2018-11-16 13:14:36.796 DEBUG in 'tensorflow'['tf_logging'] at line 100: Initialize variable module/bilm/RNN_0/RNN/MultiRNNCell/Cell0/rnn/lstm_cell/kernel:0 from checkpoint b'/home/kuznetsov/models_env/yahoo-sber-questions_elmo/models/mod_from_git/hubs/yahooo-sber-questions_epoches_n_9/variables/variables' with bilm/RNN_0/RNN/MultiRNNCell/Cell0/rnn/lstm_cell/kernel\n",
      "2018-11-16 13:14:36.802 DEBUG in 'tensorflow'['tf_logging'] at line 100: Initialize variable module/bilm/RNN_0/RNN/MultiRNNCell/Cell0/rnn/lstm_cell/projection/kernel:0 from checkpoint b'/home/kuznetsov/models_env/yahoo-sber-questions_elmo/models/mod_from_git/hubs/yahooo-sber-questions_epoches_n_9/variables/variables' with bilm/RNN_0/RNN/MultiRNNCell/Cell0/rnn/lstm_cell/projection/kernel\n",
      "2018-11-16 13:14:36.807 DEBUG in 'tensorflow'['tf_logging'] at line 100: Initialize variable module/bilm/RNN_0/RNN/MultiRNNCell/Cell1/rnn/lstm_cell/bias:0 from checkpoint b'/home/kuznetsov/models_env/yahoo-sber-questions_elmo/models/mod_from_git/hubs/yahooo-sber-questions_epoches_n_9/variables/variables' with bilm/RNN_0/RNN/MultiRNNCell/Cell1/rnn/lstm_cell/bias\n",
      "2018-11-16 13:14:36.813 DEBUG in 'tensorflow'['tf_logging'] at line 100: Initialize variable module/bilm/RNN_0/RNN/MultiRNNCell/Cell1/rnn/lstm_cell/kernel:0 from checkpoint b'/home/kuznetsov/models_env/yahoo-sber-questions_elmo/models/mod_from_git/hubs/yahooo-sber-questions_epoches_n_9/variables/variables' with bilm/RNN_0/RNN/MultiRNNCell/Cell1/rnn/lstm_cell/kernel\n",
      "2018-11-16 13:14:36.819 DEBUG in 'tensorflow'['tf_logging'] at line 100: Initialize variable module/bilm/RNN_0/RNN/MultiRNNCell/Cell1/rnn/lstm_cell/projection/kernel:0 from checkpoint b'/home/kuznetsov/models_env/yahoo-sber-questions_elmo/models/mod_from_git/hubs/yahooo-sber-questions_epoches_n_9/variables/variables' with bilm/RNN_0/RNN/MultiRNNCell/Cell1/rnn/lstm_cell/projection/kernel\n",
      "2018-11-16 13:14:36.825 DEBUG in 'tensorflow'['tf_logging'] at line 100: Initialize variable module/bilm/RNN_1/RNN/MultiRNNCell/Cell0/rnn/lstm_cell/bias:0 from checkpoint b'/home/kuznetsov/models_env/yahoo-sber-questions_elmo/models/mod_from_git/hubs/yahooo-sber-questions_epoches_n_9/variables/variables' with bilm/RNN_1/RNN/MultiRNNCell/Cell0/rnn/lstm_cell/bias\n",
      "2018-11-16 13:14:36.831 DEBUG in 'tensorflow'['tf_logging'] at line 100: Initialize variable module/bilm/RNN_1/RNN/MultiRNNCell/Cell0/rnn/lstm_cell/kernel:0 from checkpoint b'/home/kuznetsov/models_env/yahoo-sber-questions_elmo/models/mod_from_git/hubs/yahooo-sber-questions_epoches_n_9/variables/variables' with bilm/RNN_1/RNN/MultiRNNCell/Cell0/rnn/lstm_cell/kernel\n",
      "2018-11-16 13:14:36.836 DEBUG in 'tensorflow'['tf_logging'] at line 100: Initialize variable module/bilm/RNN_1/RNN/MultiRNNCell/Cell0/rnn/lstm_cell/projection/kernel:0 from checkpoint b'/home/kuznetsov/models_env/yahoo-sber-questions_elmo/models/mod_from_git/hubs/yahooo-sber-questions_epoches_n_9/variables/variables' with bilm/RNN_1/RNN/MultiRNNCell/Cell0/rnn/lstm_cell/projection/kernel\n",
      "2018-11-16 13:14:36.842 DEBUG in 'tensorflow'['tf_logging'] at line 100: Initialize variable module/bilm/RNN_1/RNN/MultiRNNCell/Cell1/rnn/lstm_cell/bias:0 from checkpoint b'/home/kuznetsov/models_env/yahoo-sber-questions_elmo/models/mod_from_git/hubs/yahooo-sber-questions_epoches_n_9/variables/variables' with bilm/RNN_1/RNN/MultiRNNCell/Cell1/rnn/lstm_cell/bias\n",
      "2018-11-16 13:14:36.848 DEBUG in 'tensorflow'['tf_logging'] at line 100: Initialize variable module/bilm/RNN_1/RNN/MultiRNNCell/Cell1/rnn/lstm_cell/kernel:0 from checkpoint b'/home/kuznetsov/models_env/yahoo-sber-questions_elmo/models/mod_from_git/hubs/yahooo-sber-questions_epoches_n_9/variables/variables' with bilm/RNN_1/RNN/MultiRNNCell/Cell1/rnn/lstm_cell/kernel\n",
      "2018-11-16 13:14:36.854 DEBUG in 'tensorflow'['tf_logging'] at line 100: Initialize variable module/bilm/RNN_1/RNN/MultiRNNCell/Cell1/rnn/lstm_cell/projection/kernel:0 from checkpoint b'/home/kuznetsov/models_env/yahoo-sber-questions_elmo/models/mod_from_git/hubs/yahooo-sber-questions_epoches_n_9/variables/variables' with bilm/RNN_1/RNN/MultiRNNCell/Cell1/rnn/lstm_cell/projection/kernel\n",
      "2018-11-16 13:14:36.860 DEBUG in 'tensorflow'['tf_logging'] at line 100: Initialize variable module/bilm/Variable:0 from checkpoint b'/home/kuznetsov/models_env/yahoo-sber-questions_elmo/models/mod_from_git/hubs/yahooo-sber-questions_epoches_n_9/variables/variables' with bilm/Variable\n",
      "2018-11-16 13:14:36.866 DEBUG in 'tensorflow'['tf_logging'] at line 100: Initialize variable module/bilm/Variable_1:0 from checkpoint b'/home/kuznetsov/models_env/yahoo-sber-questions_elmo/models/mod_from_git/hubs/yahooo-sber-questions_epoches_n_9/variables/variables' with bilm/Variable_1\n",
      "2018-11-16 13:14:36.872 DEBUG in 'tensorflow'['tf_logging'] at line 100: Initialize variable module/bilm/Variable_2:0 from checkpoint b'/home/kuznetsov/models_env/yahoo-sber-questions_elmo/models/mod_from_git/hubs/yahooo-sber-questions_epoches_n_9/variables/variables' with bilm/Variable_2\n",
      "2018-11-16 13:14:36.877 DEBUG in 'tensorflow'['tf_logging'] at line 100: Initialize variable module/bilm/Variable_3:0 from checkpoint b'/home/kuznetsov/models_env/yahoo-sber-questions_elmo/models/mod_from_git/hubs/yahooo-sber-questions_epoches_n_9/variables/variables' with bilm/Variable_3\n",
      "2018-11-16 13:14:36.883 DEBUG in 'tensorflow'['tf_logging'] at line 100: Initialize variable module/bilm/Variable_4:0 from checkpoint b'/home/kuznetsov/models_env/yahoo-sber-questions_elmo/models/mod_from_git/hubs/yahooo-sber-questions_epoches_n_9/variables/variables' with bilm/Variable_4\n",
      "2018-11-16 13:14:36.889 DEBUG in 'tensorflow'['tf_logging'] at line 100: Initialize variable module/bilm/Variable_5:0 from checkpoint b'/home/kuznetsov/models_env/yahoo-sber-questions_elmo/models/mod_from_git/hubs/yahooo-sber-questions_epoches_n_9/variables/variables' with bilm/Variable_5\n",
      "2018-11-16 13:14:36.895 DEBUG in 'tensorflow'['tf_logging'] at line 100: Initialize variable module/bilm/Variable_6:0 from checkpoint b'/home/kuznetsov/models_env/yahoo-sber-questions_elmo/models/mod_from_git/hubs/yahooo-sber-questions_epoches_n_9/variables/variables' with bilm/Variable_6\n",
      "2018-11-16 13:14:36.902 DEBUG in 'tensorflow'['tf_logging'] at line 100: Initialize variable module/bilm/Variable_7:0 from checkpoint b'/home/kuznetsov/models_env/yahoo-sber-questions_elmo/models/mod_from_git/hubs/yahooo-sber-questions_epoches_n_9/variables/variables' with bilm/Variable_7\n",
      "2018-11-16 13:14:36.908 DEBUG in 'tensorflow'['tf_logging'] at line 100: Initialize variable module/bilm/char_embed:0 from checkpoint b'/home/kuznetsov/models_env/yahoo-sber-questions_elmo/models/mod_from_git/hubs/yahooo-sber-questions_epoches_n_9/variables/variables' with bilm/char_embed\n",
      "2018-11-16 13:14:36.914 DEBUG in 'tensorflow'['tf_logging'] at line 100: Initialize variable module/bilm_1/Variable:0 from checkpoint b'/home/kuznetsov/models_env/yahoo-sber-questions_elmo/models/mod_from_git/hubs/yahooo-sber-questions_epoches_n_9/variables/variables' with bilm_1/Variable\n",
      "2018-11-16 13:14:36.920 DEBUG in 'tensorflow'['tf_logging'] at line 100: Initialize variable module/bilm_1/Variable_1:0 from checkpoint b'/home/kuznetsov/models_env/yahoo-sber-questions_elmo/models/mod_from_git/hubs/yahooo-sber-questions_epoches_n_9/variables/variables' with bilm_1/Variable_1\n",
      "2018-11-16 13:14:36.926 DEBUG in 'tensorflow'['tf_logging'] at line 100: Initialize variable module/bilm_1/Variable_2:0 from checkpoint b'/home/kuznetsov/models_env/yahoo-sber-questions_elmo/models/mod_from_git/hubs/yahooo-sber-questions_epoches_n_9/variables/variables' with bilm_1/Variable_2\n",
      "2018-11-16 13:14:36.932 DEBUG in 'tensorflow'['tf_logging'] at line 100: Initialize variable module/bilm_1/Variable_3:0 from checkpoint b'/home/kuznetsov/models_env/yahoo-sber-questions_elmo/models/mod_from_git/hubs/yahooo-sber-questions_epoches_n_9/variables/variables' with bilm_1/Variable_3\n"
     ]
    },
    {
     "name": "stderr",
     "output_type": "stream",
     "text": [
      "2018-11-16 13:14:36.938 DEBUG in 'tensorflow'['tf_logging'] at line 100: Initialize variable module/bilm_1/Variable_4:0 from checkpoint b'/home/kuznetsov/models_env/yahoo-sber-questions_elmo/models/mod_from_git/hubs/yahooo-sber-questions_epoches_n_9/variables/variables' with bilm_1/Variable_4\n",
      "2018-11-16 13:14:36.943 DEBUG in 'tensorflow'['tf_logging'] at line 100: Initialize variable module/bilm_1/Variable_5:0 from checkpoint b'/home/kuznetsov/models_env/yahoo-sber-questions_elmo/models/mod_from_git/hubs/yahooo-sber-questions_epoches_n_9/variables/variables' with bilm_1/Variable_5\n",
      "2018-11-16 13:14:36.949 DEBUG in 'tensorflow'['tf_logging'] at line 100: Initialize variable module/bilm_1/Variable_6:0 from checkpoint b'/home/kuznetsov/models_env/yahoo-sber-questions_elmo/models/mod_from_git/hubs/yahooo-sber-questions_epoches_n_9/variables/variables' with bilm_1/Variable_6\n",
      "2018-11-16 13:14:36.955 DEBUG in 'tensorflow'['tf_logging'] at line 100: Initialize variable module/bilm_1/Variable_7:0 from checkpoint b'/home/kuznetsov/models_env/yahoo-sber-questions_elmo/models/mod_from_git/hubs/yahooo-sber-questions_epoches_n_9/variables/variables' with bilm_1/Variable_7\n",
      "2018-11-16 13:14:38.814 INFO in 'tensorflow'['tf_logging'] at line 115: Saver not created because there are no variables in the graph to restore\n",
      "2018-11-16 13:14:39.678 INFO in 'deeppavlov.models.classifiers.keras_classification_model'['keras_classification_model'] at line 291: [initializing `KerasClassificationModel` from saved]\n",
      "2018-11-16 13:14:40.710 INFO in 'deeppavlov.models.classifiers.keras_classification_model'['keras_classification_model'] at line 301: [loading weights from model.h5]\n",
      "2018-11-16 13:14:40.882 INFO in 'deeppavlov.models.classifiers.keras_classification_model'['keras_classification_model'] at line 135: Model was successfully initialized!\n",
      "Model summary:\n",
      "__________________________________________________________________________________________________\n",
      "Layer (type)                    Output Shape         Param #     Connected to                     \n",
      "==================================================================================================\n",
      "input_1 (InputLayer)            (None, 20, 1024)     0                                            \n",
      "__________________________________________________________________________________________________\n",
      "dropout_1 (Dropout)             (None, 20, 1024)     0           input_1[0][0]                    \n",
      "__________________________________________________________________________________________________\n",
      "bidirectional_1 (Bidirectional) [(None, 20, 512), (N 1967616     dropout_1[0][0]                  \n",
      "__________________________________________________________________________________________________\n",
      "global_max_pooling1d_1 (GlobalM (None, 512)          0           bidirectional_1[0][0]            \n",
      "__________________________________________________________________________________________________\n",
      "global_average_pooling1d_1 (Glo (None, 512)          0           bidirectional_1[0][0]            \n",
      "__________________________________________________________________________________________________\n",
      "concatenate_1 (Concatenate)     (None, 1536)         0           global_max_pooling1d_1[0][0]     \n",
      "                                                                 global_average_pooling1d_1[0][0] \n",
      "                                                                 bidirectional_1[0][1]            \n",
      "                                                                 bidirectional_1[0][2]            \n",
      "__________________________________________________________________________________________________\n",
      "dropout_2 (Dropout)             (None, 1536)         0           concatenate_1[0][0]              \n",
      "__________________________________________________________________________________________________\n",
      "dense_1 (Dense)                 (None, 100)          153700      dropout_2[0][0]                  \n",
      "__________________________________________________________________________________________________\n",
      "activation_1 (Activation)       (None, 100)          0           dense_1[0][0]                    \n",
      "__________________________________________________________________________________________________\n",
      "dropout_3 (Dropout)             (None, 100)          0           activation_1[0][0]               \n",
      "__________________________________________________________________________________________________\n",
      "dense_2 (Dense)                 (None, 2)            202         dropout_3[0][0]                  \n",
      "__________________________________________________________________________________________________\n",
      "activation_2 (Activation)       (None, 2)            0           dense_2[0][0]                    \n",
      "==================================================================================================\n",
      "Total params: 2,121,518\n",
      "Trainable params: 2,121,518\n",
      "Non-trainable params: 0\n",
      "__________________________________________________________________________________________________\n",
      "2018-11-16 13:14:47.316 INFO in 'deeppavlov.core.commands.train'['train'] at line 360: New best roc_auc of 0.9341\n",
      "2018-11-16 13:14:47.318 INFO in 'deeppavlov.core.commands.train'['train'] at line 362: Saving model\n",
      "2018-11-16 13:14:47.319 INFO in 'deeppavlov.models.classifiers.keras_classification_model'['keras_classification_model'] at line 375: [saving model to /cephfs/home/dilyara.baymurzina/GitHub/reserve/DeepPavlov/download/YahooAnswers/models/model_v39/model_opt.json]\n"
     ]
    },
    {
     "name": "stdout",
     "output_type": "stream",
     "text": [
      "{\"valid\": {\"eval_examples_count\": 403, \"metrics\": {\"roc_auc\": 0.9341, \"sets_accuracy\": 0.8586, \"f1_macro\": 0.8572}, \"time_spent\": \"0:00:07\", \"epochs_done\": 0, \"batches_seen\": 0, \"train_examples_seen\": 0, \"impatience\": 0, \"patience_limit\": 5}}\n",
      "{\"train\": {\"epochs_done\": 1, \"batches_seen\": 9, \"train_examples_seen\": 8268, \"metrics\": {\"roc_auc\": 0.9834, \"sets_accuracy\": 0.9332, \"f1_macro\": 0.9321}, \"time_spent\": \"0:08:37\", \"loss\": 0.3765716817643907}}\n"
     ]
    },
    {
     "name": "stderr",
     "output_type": "stream",
     "text": [
      "2018-11-16 13:23:22.860 INFO in 'deeppavlov.core.commands.train'['train'] at line 525: Did not improve on the roc_auc of 0.9341\n"
     ]
    },
    {
     "name": "stdout",
     "output_type": "stream",
     "text": [
      "{\"valid\": {\"eval_examples_count\": 403, \"metrics\": {\"roc_auc\": 0.9233, \"sets_accuracy\": 0.8337, \"f1_macro\": 0.8326}, \"time_spent\": \"0:08:42\", \"epochs_done\": 1, \"batches_seen\": 9, \"train_examples_seen\": 8268, \"impatience\": 1, \"patience_limit\": 5}}\n",
      "{\"train\": {\"epochs_done\": 2, \"batches_seen\": 18, \"train_examples_seen\": 16536, \"metrics\": {\"roc_auc\": 0.9898, \"sets_accuracy\": 0.9469, \"f1_macro\": 0.9459}, \"time_spent\": \"0:17:06\", \"loss\": 0.29652762081887984}}\n"
     ]
    },
    {
     "name": "stderr",
     "output_type": "stream",
     "text": [
      "2018-11-16 13:31:52.328 INFO in 'deeppavlov.core.commands.train'['train'] at line 525: Did not improve on the roc_auc of 0.9341\n"
     ]
    },
    {
     "name": "stdout",
     "output_type": "stream",
     "text": [
      "{\"valid\": {\"eval_examples_count\": 403, \"metrics\": {\"roc_auc\": 0.923, \"sets_accuracy\": 0.8238, \"f1_macro\": 0.8196}, \"time_spent\": \"0:17:12\", \"epochs_done\": 2, \"batches_seen\": 18, \"train_examples_seen\": 16536, \"impatience\": 2, \"patience_limit\": 5}}\n",
      "{\"train\": {\"epochs_done\": 3, \"batches_seen\": 27, \"train_examples_seen\": 24804, \"metrics\": {\"roc_auc\": 0.991, \"sets_accuracy\": 0.9505, \"f1_macro\": 0.9499}, \"time_spent\": \"0:25:33\", \"loss\": 0.27737905581792194}}\n"
     ]
    },
    {
     "name": "stderr",
     "output_type": "stream",
     "text": [
      "2018-11-16 13:40:19.159 INFO in 'deeppavlov.core.commands.train'['train'] at line 525: Did not improve on the roc_auc of 0.9341\n"
     ]
    },
    {
     "name": "stdout",
     "output_type": "stream",
     "text": [
      "{\"valid\": {\"eval_examples_count\": 403, \"metrics\": {\"roc_auc\": 0.9274, \"sets_accuracy\": 0.8462, \"f1_macro\": 0.8418}, \"time_spent\": \"0:25:39\", \"epochs_done\": 3, \"batches_seen\": 27, \"train_examples_seen\": 24804, \"impatience\": 3, \"patience_limit\": 5}}\n",
      "{\"train\": {\"epochs_done\": 4, \"batches_seen\": 36, \"train_examples_seen\": 33072, \"metrics\": {\"roc_auc\": 0.9924, \"sets_accuracy\": 0.9531, \"f1_macro\": 0.9522}, \"time_spent\": \"0:34:04\", \"loss\": 0.2761544817023807}}\n"
     ]
    },
    {
     "name": "stderr",
     "output_type": "stream",
     "text": [
      "2018-11-16 13:48:50.360 INFO in 'deeppavlov.core.commands.train'['train'] at line 525: Did not improve on the roc_auc of 0.9341\n"
     ]
    },
    {
     "name": "stdout",
     "output_type": "stream",
     "text": [
      "{\"valid\": {\"eval_examples_count\": 403, \"metrics\": {\"roc_auc\": 0.9253, \"sets_accuracy\": 0.8437, \"f1_macro\": 0.8406}, \"time_spent\": \"0:34:10\", \"epochs_done\": 4, \"batches_seen\": 36, \"train_examples_seen\": 33072, \"impatience\": 4, \"patience_limit\": 5}}\n",
      "{\"train\": {\"epochs_done\": 5, \"batches_seen\": 45, \"train_examples_seen\": 41340, \"metrics\": {\"roc_auc\": 0.9933, \"sets_accuracy\": 0.9566, \"f1_macro\": 0.9558}, \"time_spent\": \"0:42:56\", \"loss\": 0.27692553400993347}}\n"
     ]
    },
    {
     "name": "stderr",
     "output_type": "stream",
     "text": [
      "2018-11-16 13:57:42.8 INFO in 'deeppavlov.core.commands.train'['train'] at line 525: Did not improve on the roc_auc of 0.9341\n",
      "2018-11-16 13:57:42.12 INFO in 'deeppavlov.core.commands.train'['train'] at line 536: Ran out of patience\n",
      "2018-11-16 13:57:42.17 INFO in 'deeppavlov.core.data.simple_vocab'['simple_vocab'] at line 100: [loading vocabulary from /cephfs/home/dilyara.baymurzina/GitHub/reserve/DeepPavlov/download/YahooAnswers/models/model_v39/yahoo_answers_classes.dict]\n"
     ]
    },
    {
     "name": "stdout",
     "output_type": "stream",
     "text": [
      "{\"valid\": {\"eval_examples_count\": 403, \"metrics\": {\"roc_auc\": 0.924, \"sets_accuracy\": 0.8313, \"f1_macro\": 0.8268}, \"time_spent\": \"0:43:02\", \"epochs_done\": 5, \"batches_seen\": 45, \"train_examples_seen\": 41340, \"impatience\": 5, \"patience_limit\": 5}}\n"
     ]
    },
    {
     "name": "stderr",
     "output_type": "stream",
     "text": [
      "2018-11-16 13:57:44.849 DEBUG in 'tensorflow'['tf_logging'] at line 100: Initialize variable module/aggregation/elmo_output_ELMo_W:0 from checkpoint b'/home/kuznetsov/models_env/yahoo-sber-questions_elmo/models/mod_from_git/hubs/yahooo-sber-questions_epoches_n_9/variables/variables' with aggregation/elmo_output_ELMo_W\n",
      "2018-11-16 13:57:44.856 DEBUG in 'tensorflow'['tf_logging'] at line 100: Initialize variable module/aggregation/elmo_output_ELMo_gamma:0 from checkpoint b'/home/kuznetsov/models_env/yahoo-sber-questions_elmo/models/mod_from_git/hubs/yahooo-sber-questions_epoches_n_9/variables/variables' with aggregation/elmo_output_ELMo_gamma\n",
      "2018-11-16 13:57:44.865 DEBUG in 'tensorflow'['tf_logging'] at line 100: Initialize variable module/bilm/CNN/W_cnn_0:0 from checkpoint b'/home/kuznetsov/models_env/yahoo-sber-questions_elmo/models/mod_from_git/hubs/yahooo-sber-questions_epoches_n_9/variables/variables' with bilm/CNN/W_cnn_0\n",
      "2018-11-16 13:57:44.874 DEBUG in 'tensorflow'['tf_logging'] at line 100: Initialize variable module/bilm/CNN/W_cnn_1:0 from checkpoint b'/home/kuznetsov/models_env/yahoo-sber-questions_elmo/models/mod_from_git/hubs/yahooo-sber-questions_epoches_n_9/variables/variables' with bilm/CNN/W_cnn_1\n",
      "2018-11-16 13:57:44.885 DEBUG in 'tensorflow'['tf_logging'] at line 100: Initialize variable module/bilm/CNN/W_cnn_2:0 from checkpoint b'/home/kuznetsov/models_env/yahoo-sber-questions_elmo/models/mod_from_git/hubs/yahooo-sber-questions_epoches_n_9/variables/variables' with bilm/CNN/W_cnn_2\n",
      "2018-11-16 13:57:44.894 DEBUG in 'tensorflow'['tf_logging'] at line 100: Initialize variable module/bilm/CNN/W_cnn_3:0 from checkpoint b'/home/kuznetsov/models_env/yahoo-sber-questions_elmo/models/mod_from_git/hubs/yahooo-sber-questions_epoches_n_9/variables/variables' with bilm/CNN/W_cnn_3\n",
      "2018-11-16 13:57:44.903 DEBUG in 'tensorflow'['tf_logging'] at line 100: Initialize variable module/bilm/CNN/W_cnn_4:0 from checkpoint b'/home/kuznetsov/models_env/yahoo-sber-questions_elmo/models/mod_from_git/hubs/yahooo-sber-questions_epoches_n_9/variables/variables' with bilm/CNN/W_cnn_4\n",
      "2018-11-16 13:57:44.913 DEBUG in 'tensorflow'['tf_logging'] at line 100: Initialize variable module/bilm/CNN/W_cnn_5:0 from checkpoint b'/home/kuznetsov/models_env/yahoo-sber-questions_elmo/models/mod_from_git/hubs/yahooo-sber-questions_epoches_n_9/variables/variables' with bilm/CNN/W_cnn_5\n",
      "2018-11-16 13:57:44.922 DEBUG in 'tensorflow'['tf_logging'] at line 100: Initialize variable module/bilm/CNN/W_cnn_6:0 from checkpoint b'/home/kuznetsov/models_env/yahoo-sber-questions_elmo/models/mod_from_git/hubs/yahooo-sber-questions_epoches_n_9/variables/variables' with bilm/CNN/W_cnn_6\n",
      "2018-11-16 13:57:44.931 DEBUG in 'tensorflow'['tf_logging'] at line 100: Initialize variable module/bilm/CNN/b_cnn_0:0 from checkpoint b'/home/kuznetsov/models_env/yahoo-sber-questions_elmo/models/mod_from_git/hubs/yahooo-sber-questions_epoches_n_9/variables/variables' with bilm/CNN/b_cnn_0\n",
      "2018-11-16 13:57:44.940 DEBUG in 'tensorflow'['tf_logging'] at line 100: Initialize variable module/bilm/CNN/b_cnn_1:0 from checkpoint b'/home/kuznetsov/models_env/yahoo-sber-questions_elmo/models/mod_from_git/hubs/yahooo-sber-questions_epoches_n_9/variables/variables' with bilm/CNN/b_cnn_1\n",
      "2018-11-16 13:57:44.950 DEBUG in 'tensorflow'['tf_logging'] at line 100: Initialize variable module/bilm/CNN/b_cnn_2:0 from checkpoint b'/home/kuznetsov/models_env/yahoo-sber-questions_elmo/models/mod_from_git/hubs/yahooo-sber-questions_epoches_n_9/variables/variables' with bilm/CNN/b_cnn_2\n",
      "2018-11-16 13:57:44.958 DEBUG in 'tensorflow'['tf_logging'] at line 100: Initialize variable module/bilm/CNN/b_cnn_3:0 from checkpoint b'/home/kuznetsov/models_env/yahoo-sber-questions_elmo/models/mod_from_git/hubs/yahooo-sber-questions_epoches_n_9/variables/variables' with bilm/CNN/b_cnn_3\n",
      "2018-11-16 13:57:44.966 DEBUG in 'tensorflow'['tf_logging'] at line 100: Initialize variable module/bilm/CNN/b_cnn_4:0 from checkpoint b'/home/kuznetsov/models_env/yahoo-sber-questions_elmo/models/mod_from_git/hubs/yahooo-sber-questions_epoches_n_9/variables/variables' with bilm/CNN/b_cnn_4\n",
      "2018-11-16 13:57:44.974 DEBUG in 'tensorflow'['tf_logging'] at line 100: Initialize variable module/bilm/CNN/b_cnn_5:0 from checkpoint b'/home/kuznetsov/models_env/yahoo-sber-questions_elmo/models/mod_from_git/hubs/yahooo-sber-questions_epoches_n_9/variables/variables' with bilm/CNN/b_cnn_5\n",
      "2018-11-16 13:57:44.983 DEBUG in 'tensorflow'['tf_logging'] at line 100: Initialize variable module/bilm/CNN/b_cnn_6:0 from checkpoint b'/home/kuznetsov/models_env/yahoo-sber-questions_elmo/models/mod_from_git/hubs/yahooo-sber-questions_epoches_n_9/variables/variables' with bilm/CNN/b_cnn_6\n",
      "2018-11-16 13:57:44.992 DEBUG in 'tensorflow'['tf_logging'] at line 100: Initialize variable module/bilm/CNN_high_0/W_carry:0 from checkpoint b'/home/kuznetsov/models_env/yahoo-sber-questions_elmo/models/mod_from_git/hubs/yahooo-sber-questions_epoches_n_9/variables/variables' with bilm/CNN_high_0/W_carry\n",
      "2018-11-16 13:57:45.0 DEBUG in 'tensorflow'['tf_logging'] at line 100: Initialize variable module/bilm/CNN_high_0/W_transform:0 from checkpoint b'/home/kuznetsov/models_env/yahoo-sber-questions_elmo/models/mod_from_git/hubs/yahooo-sber-questions_epoches_n_9/variables/variables' with bilm/CNN_high_0/W_transform\n",
      "2018-11-16 13:57:45.12 DEBUG in 'tensorflow'['tf_logging'] at line 100: Initialize variable module/bilm/CNN_high_0/b_carry:0 from checkpoint b'/home/kuznetsov/models_env/yahoo-sber-questions_elmo/models/mod_from_git/hubs/yahooo-sber-questions_epoches_n_9/variables/variables' with bilm/CNN_high_0/b_carry\n",
      "2018-11-16 13:57:45.23 DEBUG in 'tensorflow'['tf_logging'] at line 100: Initialize variable module/bilm/CNN_high_0/b_transform:0 from checkpoint b'/home/kuznetsov/models_env/yahoo-sber-questions_elmo/models/mod_from_git/hubs/yahooo-sber-questions_epoches_n_9/variables/variables' with bilm/CNN_high_0/b_transform\n",
      "2018-11-16 13:57:45.35 DEBUG in 'tensorflow'['tf_logging'] at line 100: Initialize variable module/bilm/CNN_high_1/W_carry:0 from checkpoint b'/home/kuznetsov/models_env/yahoo-sber-questions_elmo/models/mod_from_git/hubs/yahooo-sber-questions_epoches_n_9/variables/variables' with bilm/CNN_high_1/W_carry\n",
      "2018-11-16 13:57:45.45 DEBUG in 'tensorflow'['tf_logging'] at line 100: Initialize variable module/bilm/CNN_high_1/W_transform:0 from checkpoint b'/home/kuznetsov/models_env/yahoo-sber-questions_elmo/models/mod_from_git/hubs/yahooo-sber-questions_epoches_n_9/variables/variables' with bilm/CNN_high_1/W_transform\n",
      "2018-11-16 13:57:45.54 DEBUG in 'tensorflow'['tf_logging'] at line 100: Initialize variable module/bilm/CNN_high_1/b_carry:0 from checkpoint b'/home/kuznetsov/models_env/yahoo-sber-questions_elmo/models/mod_from_git/hubs/yahooo-sber-questions_epoches_n_9/variables/variables' with bilm/CNN_high_1/b_carry\n",
      "2018-11-16 13:57:45.64 DEBUG in 'tensorflow'['tf_logging'] at line 100: Initialize variable module/bilm/CNN_high_1/b_transform:0 from checkpoint b'/home/kuznetsov/models_env/yahoo-sber-questions_elmo/models/mod_from_git/hubs/yahooo-sber-questions_epoches_n_9/variables/variables' with bilm/CNN_high_1/b_transform\n",
      "2018-11-16 13:57:45.73 DEBUG in 'tensorflow'['tf_logging'] at line 100: Initialize variable module/bilm/CNN_proj/W_proj:0 from checkpoint b'/home/kuznetsov/models_env/yahoo-sber-questions_elmo/models/mod_from_git/hubs/yahooo-sber-questions_epoches_n_9/variables/variables' with bilm/CNN_proj/W_proj\n",
      "2018-11-16 13:57:45.82 DEBUG in 'tensorflow'['tf_logging'] at line 100: Initialize variable module/bilm/CNN_proj/b_proj:0 from checkpoint b'/home/kuznetsov/models_env/yahoo-sber-questions_elmo/models/mod_from_git/hubs/yahooo-sber-questions_epoches_n_9/variables/variables' with bilm/CNN_proj/b_proj\n",
      "2018-11-16 13:57:45.91 DEBUG in 'tensorflow'['tf_logging'] at line 100: Initialize variable module/bilm/RNN_0/RNN/MultiRNNCell/Cell0/rnn/lstm_cell/bias:0 from checkpoint b'/home/kuznetsov/models_env/yahoo-sber-questions_elmo/models/mod_from_git/hubs/yahooo-sber-questions_epoches_n_9/variables/variables' with bilm/RNN_0/RNN/MultiRNNCell/Cell0/rnn/lstm_cell/bias\n",
      "2018-11-16 13:57:45.103 DEBUG in 'tensorflow'['tf_logging'] at line 100: Initialize variable module/bilm/RNN_0/RNN/MultiRNNCell/Cell0/rnn/lstm_cell/kernel:0 from checkpoint b'/home/kuznetsov/models_env/yahoo-sber-questions_elmo/models/mod_from_git/hubs/yahooo-sber-questions_epoches_n_9/variables/variables' with bilm/RNN_0/RNN/MultiRNNCell/Cell0/rnn/lstm_cell/kernel\n"
     ]
    },
    {
     "name": "stderr",
     "output_type": "stream",
     "text": [
      "2018-11-16 13:57:45.115 DEBUG in 'tensorflow'['tf_logging'] at line 100: Initialize variable module/bilm/RNN_0/RNN/MultiRNNCell/Cell0/rnn/lstm_cell/projection/kernel:0 from checkpoint b'/home/kuznetsov/models_env/yahoo-sber-questions_elmo/models/mod_from_git/hubs/yahooo-sber-questions_epoches_n_9/variables/variables' with bilm/RNN_0/RNN/MultiRNNCell/Cell0/rnn/lstm_cell/projection/kernel\n",
      "2018-11-16 13:57:45.125 DEBUG in 'tensorflow'['tf_logging'] at line 100: Initialize variable module/bilm/RNN_0/RNN/MultiRNNCell/Cell1/rnn/lstm_cell/bias:0 from checkpoint b'/home/kuznetsov/models_env/yahoo-sber-questions_elmo/models/mod_from_git/hubs/yahooo-sber-questions_epoches_n_9/variables/variables' with bilm/RNN_0/RNN/MultiRNNCell/Cell1/rnn/lstm_cell/bias\n",
      "2018-11-16 13:57:45.134 DEBUG in 'tensorflow'['tf_logging'] at line 100: Initialize variable module/bilm/RNN_0/RNN/MultiRNNCell/Cell1/rnn/lstm_cell/kernel:0 from checkpoint b'/home/kuznetsov/models_env/yahoo-sber-questions_elmo/models/mod_from_git/hubs/yahooo-sber-questions_epoches_n_9/variables/variables' with bilm/RNN_0/RNN/MultiRNNCell/Cell1/rnn/lstm_cell/kernel\n",
      "2018-11-16 13:57:45.143 DEBUG in 'tensorflow'['tf_logging'] at line 100: Initialize variable module/bilm/RNN_0/RNN/MultiRNNCell/Cell1/rnn/lstm_cell/projection/kernel:0 from checkpoint b'/home/kuznetsov/models_env/yahoo-sber-questions_elmo/models/mod_from_git/hubs/yahooo-sber-questions_epoches_n_9/variables/variables' with bilm/RNN_0/RNN/MultiRNNCell/Cell1/rnn/lstm_cell/projection/kernel\n",
      "2018-11-16 13:57:45.152 DEBUG in 'tensorflow'['tf_logging'] at line 100: Initialize variable module/bilm/RNN_1/RNN/MultiRNNCell/Cell0/rnn/lstm_cell/bias:0 from checkpoint b'/home/kuznetsov/models_env/yahoo-sber-questions_elmo/models/mod_from_git/hubs/yahooo-sber-questions_epoches_n_9/variables/variables' with bilm/RNN_1/RNN/MultiRNNCell/Cell0/rnn/lstm_cell/bias\n",
      "2018-11-16 13:57:45.160 DEBUG in 'tensorflow'['tf_logging'] at line 100: Initialize variable module/bilm/RNN_1/RNN/MultiRNNCell/Cell0/rnn/lstm_cell/kernel:0 from checkpoint b'/home/kuznetsov/models_env/yahoo-sber-questions_elmo/models/mod_from_git/hubs/yahooo-sber-questions_epoches_n_9/variables/variables' with bilm/RNN_1/RNN/MultiRNNCell/Cell0/rnn/lstm_cell/kernel\n",
      "2018-11-16 13:57:45.167 DEBUG in 'tensorflow'['tf_logging'] at line 100: Initialize variable module/bilm/RNN_1/RNN/MultiRNNCell/Cell0/rnn/lstm_cell/projection/kernel:0 from checkpoint b'/home/kuznetsov/models_env/yahoo-sber-questions_elmo/models/mod_from_git/hubs/yahooo-sber-questions_epoches_n_9/variables/variables' with bilm/RNN_1/RNN/MultiRNNCell/Cell0/rnn/lstm_cell/projection/kernel\n",
      "2018-11-16 13:57:45.174 DEBUG in 'tensorflow'['tf_logging'] at line 100: Initialize variable module/bilm/RNN_1/RNN/MultiRNNCell/Cell1/rnn/lstm_cell/bias:0 from checkpoint b'/home/kuznetsov/models_env/yahoo-sber-questions_elmo/models/mod_from_git/hubs/yahooo-sber-questions_epoches_n_9/variables/variables' with bilm/RNN_1/RNN/MultiRNNCell/Cell1/rnn/lstm_cell/bias\n",
      "2018-11-16 13:57:45.179 DEBUG in 'tensorflow'['tf_logging'] at line 100: Initialize variable module/bilm/RNN_1/RNN/MultiRNNCell/Cell1/rnn/lstm_cell/kernel:0 from checkpoint b'/home/kuznetsov/models_env/yahoo-sber-questions_elmo/models/mod_from_git/hubs/yahooo-sber-questions_epoches_n_9/variables/variables' with bilm/RNN_1/RNN/MultiRNNCell/Cell1/rnn/lstm_cell/kernel\n",
      "2018-11-16 13:57:45.185 DEBUG in 'tensorflow'['tf_logging'] at line 100: Initialize variable module/bilm/RNN_1/RNN/MultiRNNCell/Cell1/rnn/lstm_cell/projection/kernel:0 from checkpoint b'/home/kuznetsov/models_env/yahoo-sber-questions_elmo/models/mod_from_git/hubs/yahooo-sber-questions_epoches_n_9/variables/variables' with bilm/RNN_1/RNN/MultiRNNCell/Cell1/rnn/lstm_cell/projection/kernel\n",
      "2018-11-16 13:57:45.192 DEBUG in 'tensorflow'['tf_logging'] at line 100: Initialize variable module/bilm/Variable:0 from checkpoint b'/home/kuznetsov/models_env/yahoo-sber-questions_elmo/models/mod_from_git/hubs/yahooo-sber-questions_epoches_n_9/variables/variables' with bilm/Variable\n",
      "2018-11-16 13:57:45.198 DEBUG in 'tensorflow'['tf_logging'] at line 100: Initialize variable module/bilm/Variable_1:0 from checkpoint b'/home/kuznetsov/models_env/yahoo-sber-questions_elmo/models/mod_from_git/hubs/yahooo-sber-questions_epoches_n_9/variables/variables' with bilm/Variable_1\n",
      "2018-11-16 13:57:45.204 DEBUG in 'tensorflow'['tf_logging'] at line 100: Initialize variable module/bilm/Variable_2:0 from checkpoint b'/home/kuznetsov/models_env/yahoo-sber-questions_elmo/models/mod_from_git/hubs/yahooo-sber-questions_epoches_n_9/variables/variables' with bilm/Variable_2\n",
      "2018-11-16 13:57:45.211 DEBUG in 'tensorflow'['tf_logging'] at line 100: Initialize variable module/bilm/Variable_3:0 from checkpoint b'/home/kuznetsov/models_env/yahoo-sber-questions_elmo/models/mod_from_git/hubs/yahooo-sber-questions_epoches_n_9/variables/variables' with bilm/Variable_3\n",
      "2018-11-16 13:57:45.217 DEBUG in 'tensorflow'['tf_logging'] at line 100: Initialize variable module/bilm/Variable_4:0 from checkpoint b'/home/kuznetsov/models_env/yahoo-sber-questions_elmo/models/mod_from_git/hubs/yahooo-sber-questions_epoches_n_9/variables/variables' with bilm/Variable_4\n",
      "2018-11-16 13:57:45.223 DEBUG in 'tensorflow'['tf_logging'] at line 100: Initialize variable module/bilm/Variable_5:0 from checkpoint b'/home/kuznetsov/models_env/yahoo-sber-questions_elmo/models/mod_from_git/hubs/yahooo-sber-questions_epoches_n_9/variables/variables' with bilm/Variable_5\n",
      "2018-11-16 13:57:45.229 DEBUG in 'tensorflow'['tf_logging'] at line 100: Initialize variable module/bilm/Variable_6:0 from checkpoint b'/home/kuznetsov/models_env/yahoo-sber-questions_elmo/models/mod_from_git/hubs/yahooo-sber-questions_epoches_n_9/variables/variables' with bilm/Variable_6\n",
      "2018-11-16 13:57:45.235 DEBUG in 'tensorflow'['tf_logging'] at line 100: Initialize variable module/bilm/Variable_7:0 from checkpoint b'/home/kuznetsov/models_env/yahoo-sber-questions_elmo/models/mod_from_git/hubs/yahooo-sber-questions_epoches_n_9/variables/variables' with bilm/Variable_7\n",
      "2018-11-16 13:57:45.241 DEBUG in 'tensorflow'['tf_logging'] at line 100: Initialize variable module/bilm/char_embed:0 from checkpoint b'/home/kuznetsov/models_env/yahoo-sber-questions_elmo/models/mod_from_git/hubs/yahooo-sber-questions_epoches_n_9/variables/variables' with bilm/char_embed\n",
      "2018-11-16 13:57:45.247 DEBUG in 'tensorflow'['tf_logging'] at line 100: Initialize variable module/bilm_1/Variable:0 from checkpoint b'/home/kuznetsov/models_env/yahoo-sber-questions_elmo/models/mod_from_git/hubs/yahooo-sber-questions_epoches_n_9/variables/variables' with bilm_1/Variable\n",
      "2018-11-16 13:57:45.253 DEBUG in 'tensorflow'['tf_logging'] at line 100: Initialize variable module/bilm_1/Variable_1:0 from checkpoint b'/home/kuznetsov/models_env/yahoo-sber-questions_elmo/models/mod_from_git/hubs/yahooo-sber-questions_epoches_n_9/variables/variables' with bilm_1/Variable_1\n",
      "2018-11-16 13:57:45.259 DEBUG in 'tensorflow'['tf_logging'] at line 100: Initialize variable module/bilm_1/Variable_2:0 from checkpoint b'/home/kuznetsov/models_env/yahoo-sber-questions_elmo/models/mod_from_git/hubs/yahooo-sber-questions_epoches_n_9/variables/variables' with bilm_1/Variable_2\n",
      "2018-11-16 13:57:45.266 DEBUG in 'tensorflow'['tf_logging'] at line 100: Initialize variable module/bilm_1/Variable_3:0 from checkpoint b'/home/kuznetsov/models_env/yahoo-sber-questions_elmo/models/mod_from_git/hubs/yahooo-sber-questions_epoches_n_9/variables/variables' with bilm_1/Variable_3\n",
      "2018-11-16 13:57:45.272 DEBUG in 'tensorflow'['tf_logging'] at line 100: Initialize variable module/bilm_1/Variable_4:0 from checkpoint b'/home/kuznetsov/models_env/yahoo-sber-questions_elmo/models/mod_from_git/hubs/yahooo-sber-questions_epoches_n_9/variables/variables' with bilm_1/Variable_4\n",
      "2018-11-16 13:57:45.278 DEBUG in 'tensorflow'['tf_logging'] at line 100: Initialize variable module/bilm_1/Variable_5:0 from checkpoint b'/home/kuznetsov/models_env/yahoo-sber-questions_elmo/models/mod_from_git/hubs/yahooo-sber-questions_epoches_n_9/variables/variables' with bilm_1/Variable_5\n",
      "2018-11-16 13:57:45.284 DEBUG in 'tensorflow'['tf_logging'] at line 100: Initialize variable module/bilm_1/Variable_6:0 from checkpoint b'/home/kuznetsov/models_env/yahoo-sber-questions_elmo/models/mod_from_git/hubs/yahooo-sber-questions_epoches_n_9/variables/variables' with bilm_1/Variable_6\n"
     ]
    },
    {
     "name": "stderr",
     "output_type": "stream",
     "text": [
      "2018-11-16 13:57:45.290 DEBUG in 'tensorflow'['tf_logging'] at line 100: Initialize variable module/bilm_1/Variable_7:0 from checkpoint b'/home/kuznetsov/models_env/yahoo-sber-questions_elmo/models/mod_from_git/hubs/yahooo-sber-questions_epoches_n_9/variables/variables' with bilm_1/Variable_7\n",
      "2018-11-16 13:57:47.97 INFO in 'tensorflow'['tf_logging'] at line 115: Saver not created because there are no variables in the graph to restore\n",
      "2018-11-16 13:57:47.581 INFO in 'deeppavlov.models.classifiers.keras_classification_model'['keras_classification_model'] at line 291: [initializing `KerasClassificationModel` from saved]\n",
      "2018-11-16 13:57:48.751 INFO in 'deeppavlov.models.classifiers.keras_classification_model'['keras_classification_model'] at line 301: [loading weights from model.h5]\n",
      "2018-11-16 13:57:48.993 INFO in 'deeppavlov.models.classifiers.keras_classification_model'['keras_classification_model'] at line 135: Model was successfully initialized!\n",
      "Model summary:\n",
      "__________________________________________________________________________________________________\n",
      "Layer (type)                    Output Shape         Param #     Connected to                     \n",
      "==================================================================================================\n",
      "input_1 (InputLayer)            (None, 20, 1024)     0                                            \n",
      "__________________________________________________________________________________________________\n",
      "dropout_1 (Dropout)             (None, 20, 1024)     0           input_1[0][0]                    \n",
      "__________________________________________________________________________________________________\n",
      "bidirectional_1 (Bidirectional) [(None, 20, 512), (N 1967616     dropout_1[0][0]                  \n",
      "__________________________________________________________________________________________________\n",
      "global_max_pooling1d_1 (GlobalM (None, 512)          0           bidirectional_1[0][0]            \n",
      "__________________________________________________________________________________________________\n",
      "global_average_pooling1d_1 (Glo (None, 512)          0           bidirectional_1[0][0]            \n",
      "__________________________________________________________________________________________________\n",
      "concatenate_1 (Concatenate)     (None, 1536)         0           global_max_pooling1d_1[0][0]     \n",
      "                                                                 global_average_pooling1d_1[0][0] \n",
      "                                                                 bidirectional_1[0][1]            \n",
      "                                                                 bidirectional_1[0][2]            \n",
      "__________________________________________________________________________________________________\n",
      "dropout_2 (Dropout)             (None, 1536)         0           concatenate_1[0][0]              \n",
      "__________________________________________________________________________________________________\n",
      "dense_1 (Dense)                 (None, 100)          153700      dropout_2[0][0]                  \n",
      "__________________________________________________________________________________________________\n",
      "activation_1 (Activation)       (None, 100)          0           dense_1[0][0]                    \n",
      "__________________________________________________________________________________________________\n",
      "dropout_3 (Dropout)             (None, 100)          0           activation_1[0][0]               \n",
      "__________________________________________________________________________________________________\n",
      "dense_2 (Dense)                 (None, 2)            202         dropout_3[0][0]                  \n",
      "__________________________________________________________________________________________________\n",
      "activation_2 (Activation)       (None, 2)            0           dense_2[0][0]                    \n",
      "==================================================================================================\n",
      "Total params: 2,121,518\n",
      "Trainable params: 2,121,518\n",
      "Non-trainable params: 0\n",
      "__________________________________________________________________________________________________\n",
      "2018-11-16 13:57:48.994 INFO in 'deeppavlov.core.commands.train'['train'] at line 221: Testing the best saved model\n"
     ]
    },
    {
     "name": "stdout",
     "output_type": "stream",
     "text": [
      "{\"valid\": {\"eval_examples_count\": 403, \"metrics\": {\"roc_auc\": 0.9341, \"sets_accuracy\": 0.8586, \"f1_macro\": 0.8572}, \"time_spent\": \"0:00:09\"}}\n"
     ]
    },
    {
     "name": "stderr",
     "output_type": "stream",
     "text": [
      "2018-11-16 13:57:59.98 INFO in 'deeppavlov.core.data.simple_vocab'['simple_vocab'] at line 100: [loading vocabulary from /cephfs/home/dilyara.baymurzina/GitHub/reserve/DeepPavlov/download/YahooAnswers/models/model_v39/yahoo_answers_classes.dict]\n"
     ]
    },
    {
     "name": "stdout",
     "output_type": "stream",
     "text": [
      "{\"test\": {\"eval_examples_count\": 100, \"metrics\": {\"roc_auc\": 0.8964, \"sets_accuracy\": 0.8, \"f1_macro\": 0.7933}, \"time_spent\": \"0:00:02\"}}\n"
     ]
    },
    {
     "name": "stderr",
     "output_type": "stream",
     "text": [
      "2018-11-16 13:58:02.791 DEBUG in 'tensorflow'['tf_logging'] at line 100: Initialize variable module/aggregation/elmo_output_ELMo_W:0 from checkpoint b'/home/kuznetsov/models_env/yahoo-sber-questions_elmo/models/mod_from_git/hubs/yahooo-sber-questions_epoches_n_9/variables/variables' with aggregation/elmo_output_ELMo_W\n",
      "2018-11-16 13:58:02.798 DEBUG in 'tensorflow'['tf_logging'] at line 100: Initialize variable module/aggregation/elmo_output_ELMo_gamma:0 from checkpoint b'/home/kuznetsov/models_env/yahoo-sber-questions_elmo/models/mod_from_git/hubs/yahooo-sber-questions_epoches_n_9/variables/variables' with aggregation/elmo_output_ELMo_gamma\n",
      "2018-11-16 13:58:02.803 DEBUG in 'tensorflow'['tf_logging'] at line 100: Initialize variable module/bilm/CNN/W_cnn_0:0 from checkpoint b'/home/kuznetsov/models_env/yahoo-sber-questions_elmo/models/mod_from_git/hubs/yahooo-sber-questions_epoches_n_9/variables/variables' with bilm/CNN/W_cnn_0\n",
      "2018-11-16 13:58:02.809 DEBUG in 'tensorflow'['tf_logging'] at line 100: Initialize variable module/bilm/CNN/W_cnn_1:0 from checkpoint b'/home/kuznetsov/models_env/yahoo-sber-questions_elmo/models/mod_from_git/hubs/yahooo-sber-questions_epoches_n_9/variables/variables' with bilm/CNN/W_cnn_1\n",
      "2018-11-16 13:58:02.815 DEBUG in 'tensorflow'['tf_logging'] at line 100: Initialize variable module/bilm/CNN/W_cnn_2:0 from checkpoint b'/home/kuznetsov/models_env/yahoo-sber-questions_elmo/models/mod_from_git/hubs/yahooo-sber-questions_epoches_n_9/variables/variables' with bilm/CNN/W_cnn_2\n",
      "2018-11-16 13:58:02.820 DEBUG in 'tensorflow'['tf_logging'] at line 100: Initialize variable module/bilm/CNN/W_cnn_3:0 from checkpoint b'/home/kuznetsov/models_env/yahoo-sber-questions_elmo/models/mod_from_git/hubs/yahooo-sber-questions_epoches_n_9/variables/variables' with bilm/CNN/W_cnn_3\n",
      "2018-11-16 13:58:02.826 DEBUG in 'tensorflow'['tf_logging'] at line 100: Initialize variable module/bilm/CNN/W_cnn_4:0 from checkpoint b'/home/kuznetsov/models_env/yahoo-sber-questions_elmo/models/mod_from_git/hubs/yahooo-sber-questions_epoches_n_9/variables/variables' with bilm/CNN/W_cnn_4\n",
      "2018-11-16 13:58:02.832 DEBUG in 'tensorflow'['tf_logging'] at line 100: Initialize variable module/bilm/CNN/W_cnn_5:0 from checkpoint b'/home/kuznetsov/models_env/yahoo-sber-questions_elmo/models/mod_from_git/hubs/yahooo-sber-questions_epoches_n_9/variables/variables' with bilm/CNN/W_cnn_5\n",
      "2018-11-16 13:58:02.838 DEBUG in 'tensorflow'['tf_logging'] at line 100: Initialize variable module/bilm/CNN/W_cnn_6:0 from checkpoint b'/home/kuznetsov/models_env/yahoo-sber-questions_elmo/models/mod_from_git/hubs/yahooo-sber-questions_epoches_n_9/variables/variables' with bilm/CNN/W_cnn_6\n",
      "2018-11-16 13:58:02.844 DEBUG in 'tensorflow'['tf_logging'] at line 100: Initialize variable module/bilm/CNN/b_cnn_0:0 from checkpoint b'/home/kuznetsov/models_env/yahoo-sber-questions_elmo/models/mod_from_git/hubs/yahooo-sber-questions_epoches_n_9/variables/variables' with bilm/CNN/b_cnn_0\n",
      "2018-11-16 13:58:02.853 DEBUG in 'tensorflow'['tf_logging'] at line 100: Initialize variable module/bilm/CNN/b_cnn_1:0 from checkpoint b'/home/kuznetsov/models_env/yahoo-sber-questions_elmo/models/mod_from_git/hubs/yahooo-sber-questions_epoches_n_9/variables/variables' with bilm/CNN/b_cnn_1\n",
      "2018-11-16 13:58:02.862 DEBUG in 'tensorflow'['tf_logging'] at line 100: Initialize variable module/bilm/CNN/b_cnn_2:0 from checkpoint b'/home/kuznetsov/models_env/yahoo-sber-questions_elmo/models/mod_from_git/hubs/yahooo-sber-questions_epoches_n_9/variables/variables' with bilm/CNN/b_cnn_2\n",
      "2018-11-16 13:58:02.871 DEBUG in 'tensorflow'['tf_logging'] at line 100: Initialize variable module/bilm/CNN/b_cnn_3:0 from checkpoint b'/home/kuznetsov/models_env/yahoo-sber-questions_elmo/models/mod_from_git/hubs/yahooo-sber-questions_epoches_n_9/variables/variables' with bilm/CNN/b_cnn_3\n",
      "2018-11-16 13:58:02.879 DEBUG in 'tensorflow'['tf_logging'] at line 100: Initialize variable module/bilm/CNN/b_cnn_4:0 from checkpoint b'/home/kuznetsov/models_env/yahoo-sber-questions_elmo/models/mod_from_git/hubs/yahooo-sber-questions_epoches_n_9/variables/variables' with bilm/CNN/b_cnn_4\n",
      "2018-11-16 13:58:02.888 DEBUG in 'tensorflow'['tf_logging'] at line 100: Initialize variable module/bilm/CNN/b_cnn_5:0 from checkpoint b'/home/kuznetsov/models_env/yahoo-sber-questions_elmo/models/mod_from_git/hubs/yahooo-sber-questions_epoches_n_9/variables/variables' with bilm/CNN/b_cnn_5\n",
      "2018-11-16 13:58:02.896 DEBUG in 'tensorflow'['tf_logging'] at line 100: Initialize variable module/bilm/CNN/b_cnn_6:0 from checkpoint b'/home/kuznetsov/models_env/yahoo-sber-questions_elmo/models/mod_from_git/hubs/yahooo-sber-questions_epoches_n_9/variables/variables' with bilm/CNN/b_cnn_6\n",
      "2018-11-16 13:58:02.904 DEBUG in 'tensorflow'['tf_logging'] at line 100: Initialize variable module/bilm/CNN_high_0/W_carry:0 from checkpoint b'/home/kuznetsov/models_env/yahoo-sber-questions_elmo/models/mod_from_git/hubs/yahooo-sber-questions_epoches_n_9/variables/variables' with bilm/CNN_high_0/W_carry\n",
      "2018-11-16 13:58:02.912 DEBUG in 'tensorflow'['tf_logging'] at line 100: Initialize variable module/bilm/CNN_high_0/W_transform:0 from checkpoint b'/home/kuznetsov/models_env/yahoo-sber-questions_elmo/models/mod_from_git/hubs/yahooo-sber-questions_epoches_n_9/variables/variables' with bilm/CNN_high_0/W_transform\n",
      "2018-11-16 13:58:02.921 DEBUG in 'tensorflow'['tf_logging'] at line 100: Initialize variable module/bilm/CNN_high_0/b_carry:0 from checkpoint b'/home/kuznetsov/models_env/yahoo-sber-questions_elmo/models/mod_from_git/hubs/yahooo-sber-questions_epoches_n_9/variables/variables' with bilm/CNN_high_0/b_carry\n",
      "2018-11-16 13:58:02.929 DEBUG in 'tensorflow'['tf_logging'] at line 100: Initialize variable module/bilm/CNN_high_0/b_transform:0 from checkpoint b'/home/kuznetsov/models_env/yahoo-sber-questions_elmo/models/mod_from_git/hubs/yahooo-sber-questions_epoches_n_9/variables/variables' with bilm/CNN_high_0/b_transform\n",
      "2018-11-16 13:58:02.938 DEBUG in 'tensorflow'['tf_logging'] at line 100: Initialize variable module/bilm/CNN_high_1/W_carry:0 from checkpoint b'/home/kuznetsov/models_env/yahoo-sber-questions_elmo/models/mod_from_git/hubs/yahooo-sber-questions_epoches_n_9/variables/variables' with bilm/CNN_high_1/W_carry\n",
      "2018-11-16 13:58:02.946 DEBUG in 'tensorflow'['tf_logging'] at line 100: Initialize variable module/bilm/CNN_high_1/W_transform:0 from checkpoint b'/home/kuznetsov/models_env/yahoo-sber-questions_elmo/models/mod_from_git/hubs/yahooo-sber-questions_epoches_n_9/variables/variables' with bilm/CNN_high_1/W_transform\n",
      "2018-11-16 13:58:02.954 DEBUG in 'tensorflow'['tf_logging'] at line 100: Initialize variable module/bilm/CNN_high_1/b_carry:0 from checkpoint b'/home/kuznetsov/models_env/yahoo-sber-questions_elmo/models/mod_from_git/hubs/yahooo-sber-questions_epoches_n_9/variables/variables' with bilm/CNN_high_1/b_carry\n",
      "2018-11-16 13:58:02.963 DEBUG in 'tensorflow'['tf_logging'] at line 100: Initialize variable module/bilm/CNN_high_1/b_transform:0 from checkpoint b'/home/kuznetsov/models_env/yahoo-sber-questions_elmo/models/mod_from_git/hubs/yahooo-sber-questions_epoches_n_9/variables/variables' with bilm/CNN_high_1/b_transform\n",
      "2018-11-16 13:58:02.972 DEBUG in 'tensorflow'['tf_logging'] at line 100: Initialize variable module/bilm/CNN_proj/W_proj:0 from checkpoint b'/home/kuznetsov/models_env/yahoo-sber-questions_elmo/models/mod_from_git/hubs/yahooo-sber-questions_epoches_n_9/variables/variables' with bilm/CNN_proj/W_proj\n",
      "2018-11-16 13:58:02.982 DEBUG in 'tensorflow'['tf_logging'] at line 100: Initialize variable module/bilm/CNN_proj/b_proj:0 from checkpoint b'/home/kuznetsov/models_env/yahoo-sber-questions_elmo/models/mod_from_git/hubs/yahooo-sber-questions_epoches_n_9/variables/variables' with bilm/CNN_proj/b_proj\n",
      "2018-11-16 13:58:02.990 DEBUG in 'tensorflow'['tf_logging'] at line 100: Initialize variable module/bilm/RNN_0/RNN/MultiRNNCell/Cell0/rnn/lstm_cell/bias:0 from checkpoint b'/home/kuznetsov/models_env/yahoo-sber-questions_elmo/models/mod_from_git/hubs/yahooo-sber-questions_epoches_n_9/variables/variables' with bilm/RNN_0/RNN/MultiRNNCell/Cell0/rnn/lstm_cell/bias\n",
      "2018-11-16 13:58:02.999 DEBUG in 'tensorflow'['tf_logging'] at line 100: Initialize variable module/bilm/RNN_0/RNN/MultiRNNCell/Cell0/rnn/lstm_cell/kernel:0 from checkpoint b'/home/kuznetsov/models_env/yahoo-sber-questions_elmo/models/mod_from_git/hubs/yahooo-sber-questions_epoches_n_9/variables/variables' with bilm/RNN_0/RNN/MultiRNNCell/Cell0/rnn/lstm_cell/kernel\n"
     ]
    },
    {
     "name": "stderr",
     "output_type": "stream",
     "text": [
      "2018-11-16 13:58:03.8 DEBUG in 'tensorflow'['tf_logging'] at line 100: Initialize variable module/bilm/RNN_0/RNN/MultiRNNCell/Cell0/rnn/lstm_cell/projection/kernel:0 from checkpoint b'/home/kuznetsov/models_env/yahoo-sber-questions_elmo/models/mod_from_git/hubs/yahooo-sber-questions_epoches_n_9/variables/variables' with bilm/RNN_0/RNN/MultiRNNCell/Cell0/rnn/lstm_cell/projection/kernel\n",
      "2018-11-16 13:58:03.18 DEBUG in 'tensorflow'['tf_logging'] at line 100: Initialize variable module/bilm/RNN_0/RNN/MultiRNNCell/Cell1/rnn/lstm_cell/bias:0 from checkpoint b'/home/kuznetsov/models_env/yahoo-sber-questions_elmo/models/mod_from_git/hubs/yahooo-sber-questions_epoches_n_9/variables/variables' with bilm/RNN_0/RNN/MultiRNNCell/Cell1/rnn/lstm_cell/bias\n",
      "2018-11-16 13:58:03.27 DEBUG in 'tensorflow'['tf_logging'] at line 100: Initialize variable module/bilm/RNN_0/RNN/MultiRNNCell/Cell1/rnn/lstm_cell/kernel:0 from checkpoint b'/home/kuznetsov/models_env/yahoo-sber-questions_elmo/models/mod_from_git/hubs/yahooo-sber-questions_epoches_n_9/variables/variables' with bilm/RNN_0/RNN/MultiRNNCell/Cell1/rnn/lstm_cell/kernel\n",
      "2018-11-16 13:58:03.36 DEBUG in 'tensorflow'['tf_logging'] at line 100: Initialize variable module/bilm/RNN_0/RNN/MultiRNNCell/Cell1/rnn/lstm_cell/projection/kernel:0 from checkpoint b'/home/kuznetsov/models_env/yahoo-sber-questions_elmo/models/mod_from_git/hubs/yahooo-sber-questions_epoches_n_9/variables/variables' with bilm/RNN_0/RNN/MultiRNNCell/Cell1/rnn/lstm_cell/projection/kernel\n",
      "2018-11-16 13:58:03.46 DEBUG in 'tensorflow'['tf_logging'] at line 100: Initialize variable module/bilm/RNN_1/RNN/MultiRNNCell/Cell0/rnn/lstm_cell/bias:0 from checkpoint b'/home/kuznetsov/models_env/yahoo-sber-questions_elmo/models/mod_from_git/hubs/yahooo-sber-questions_epoches_n_9/variables/variables' with bilm/RNN_1/RNN/MultiRNNCell/Cell0/rnn/lstm_cell/bias\n",
      "2018-11-16 13:58:03.56 DEBUG in 'tensorflow'['tf_logging'] at line 100: Initialize variable module/bilm/RNN_1/RNN/MultiRNNCell/Cell0/rnn/lstm_cell/kernel:0 from checkpoint b'/home/kuznetsov/models_env/yahoo-sber-questions_elmo/models/mod_from_git/hubs/yahooo-sber-questions_epoches_n_9/variables/variables' with bilm/RNN_1/RNN/MultiRNNCell/Cell0/rnn/lstm_cell/kernel\n",
      "2018-11-16 13:58:03.66 DEBUG in 'tensorflow'['tf_logging'] at line 100: Initialize variable module/bilm/RNN_1/RNN/MultiRNNCell/Cell0/rnn/lstm_cell/projection/kernel:0 from checkpoint b'/home/kuznetsov/models_env/yahoo-sber-questions_elmo/models/mod_from_git/hubs/yahooo-sber-questions_epoches_n_9/variables/variables' with bilm/RNN_1/RNN/MultiRNNCell/Cell0/rnn/lstm_cell/projection/kernel\n",
      "2018-11-16 13:58:03.76 DEBUG in 'tensorflow'['tf_logging'] at line 100: Initialize variable module/bilm/RNN_1/RNN/MultiRNNCell/Cell1/rnn/lstm_cell/bias:0 from checkpoint b'/home/kuznetsov/models_env/yahoo-sber-questions_elmo/models/mod_from_git/hubs/yahooo-sber-questions_epoches_n_9/variables/variables' with bilm/RNN_1/RNN/MultiRNNCell/Cell1/rnn/lstm_cell/bias\n",
      "2018-11-16 13:58:03.85 DEBUG in 'tensorflow'['tf_logging'] at line 100: Initialize variable module/bilm/RNN_1/RNN/MultiRNNCell/Cell1/rnn/lstm_cell/kernel:0 from checkpoint b'/home/kuznetsov/models_env/yahoo-sber-questions_elmo/models/mod_from_git/hubs/yahooo-sber-questions_epoches_n_9/variables/variables' with bilm/RNN_1/RNN/MultiRNNCell/Cell1/rnn/lstm_cell/kernel\n",
      "2018-11-16 13:58:03.95 DEBUG in 'tensorflow'['tf_logging'] at line 100: Initialize variable module/bilm/RNN_1/RNN/MultiRNNCell/Cell1/rnn/lstm_cell/projection/kernel:0 from checkpoint b'/home/kuznetsov/models_env/yahoo-sber-questions_elmo/models/mod_from_git/hubs/yahooo-sber-questions_epoches_n_9/variables/variables' with bilm/RNN_1/RNN/MultiRNNCell/Cell1/rnn/lstm_cell/projection/kernel\n",
      "2018-11-16 13:58:03.105 DEBUG in 'tensorflow'['tf_logging'] at line 100: Initialize variable module/bilm/Variable:0 from checkpoint b'/home/kuznetsov/models_env/yahoo-sber-questions_elmo/models/mod_from_git/hubs/yahooo-sber-questions_epoches_n_9/variables/variables' with bilm/Variable\n",
      "2018-11-16 13:58:03.115 DEBUG in 'tensorflow'['tf_logging'] at line 100: Initialize variable module/bilm/Variable_1:0 from checkpoint b'/home/kuznetsov/models_env/yahoo-sber-questions_elmo/models/mod_from_git/hubs/yahooo-sber-questions_epoches_n_9/variables/variables' with bilm/Variable_1\n",
      "2018-11-16 13:58:03.124 DEBUG in 'tensorflow'['tf_logging'] at line 100: Initialize variable module/bilm/Variable_2:0 from checkpoint b'/home/kuznetsov/models_env/yahoo-sber-questions_elmo/models/mod_from_git/hubs/yahooo-sber-questions_epoches_n_9/variables/variables' with bilm/Variable_2\n",
      "2018-11-16 13:58:03.134 DEBUG in 'tensorflow'['tf_logging'] at line 100: Initialize variable module/bilm/Variable_3:0 from checkpoint b'/home/kuznetsov/models_env/yahoo-sber-questions_elmo/models/mod_from_git/hubs/yahooo-sber-questions_epoches_n_9/variables/variables' with bilm/Variable_3\n",
      "2018-11-16 13:58:03.144 DEBUG in 'tensorflow'['tf_logging'] at line 100: Initialize variable module/bilm/Variable_4:0 from checkpoint b'/home/kuznetsov/models_env/yahoo-sber-questions_elmo/models/mod_from_git/hubs/yahooo-sber-questions_epoches_n_9/variables/variables' with bilm/Variable_4\n",
      "2018-11-16 13:58:03.154 DEBUG in 'tensorflow'['tf_logging'] at line 100: Initialize variable module/bilm/Variable_5:0 from checkpoint b'/home/kuznetsov/models_env/yahoo-sber-questions_elmo/models/mod_from_git/hubs/yahooo-sber-questions_epoches_n_9/variables/variables' with bilm/Variable_5\n",
      "2018-11-16 13:58:03.164 DEBUG in 'tensorflow'['tf_logging'] at line 100: Initialize variable module/bilm/Variable_6:0 from checkpoint b'/home/kuznetsov/models_env/yahoo-sber-questions_elmo/models/mod_from_git/hubs/yahooo-sber-questions_epoches_n_9/variables/variables' with bilm/Variable_6\n",
      "2018-11-16 13:58:03.174 DEBUG in 'tensorflow'['tf_logging'] at line 100: Initialize variable module/bilm/Variable_7:0 from checkpoint b'/home/kuznetsov/models_env/yahoo-sber-questions_elmo/models/mod_from_git/hubs/yahooo-sber-questions_epoches_n_9/variables/variables' with bilm/Variable_7\n",
      "2018-11-16 13:58:03.183 DEBUG in 'tensorflow'['tf_logging'] at line 100: Initialize variable module/bilm/char_embed:0 from checkpoint b'/home/kuznetsov/models_env/yahoo-sber-questions_elmo/models/mod_from_git/hubs/yahooo-sber-questions_epoches_n_9/variables/variables' with bilm/char_embed\n",
      "2018-11-16 13:58:03.193 DEBUG in 'tensorflow'['tf_logging'] at line 100: Initialize variable module/bilm_1/Variable:0 from checkpoint b'/home/kuznetsov/models_env/yahoo-sber-questions_elmo/models/mod_from_git/hubs/yahooo-sber-questions_epoches_n_9/variables/variables' with bilm_1/Variable\n",
      "2018-11-16 13:58:03.201 DEBUG in 'tensorflow'['tf_logging'] at line 100: Initialize variable module/bilm_1/Variable_1:0 from checkpoint b'/home/kuznetsov/models_env/yahoo-sber-questions_elmo/models/mod_from_git/hubs/yahooo-sber-questions_epoches_n_9/variables/variables' with bilm_1/Variable_1\n",
      "2018-11-16 13:58:03.210 DEBUG in 'tensorflow'['tf_logging'] at line 100: Initialize variable module/bilm_1/Variable_2:0 from checkpoint b'/home/kuznetsov/models_env/yahoo-sber-questions_elmo/models/mod_from_git/hubs/yahooo-sber-questions_epoches_n_9/variables/variables' with bilm_1/Variable_2\n",
      "2018-11-16 13:58:03.217 DEBUG in 'tensorflow'['tf_logging'] at line 100: Initialize variable module/bilm_1/Variable_3:0 from checkpoint b'/home/kuznetsov/models_env/yahoo-sber-questions_elmo/models/mod_from_git/hubs/yahooo-sber-questions_epoches_n_9/variables/variables' with bilm_1/Variable_3\n",
      "2018-11-16 13:58:03.224 DEBUG in 'tensorflow'['tf_logging'] at line 100: Initialize variable module/bilm_1/Variable_4:0 from checkpoint b'/home/kuznetsov/models_env/yahoo-sber-questions_elmo/models/mod_from_git/hubs/yahooo-sber-questions_epoches_n_9/variables/variables' with bilm_1/Variable_4\n",
      "2018-11-16 13:58:03.231 DEBUG in 'tensorflow'['tf_logging'] at line 100: Initialize variable module/bilm_1/Variable_5:0 from checkpoint b'/home/kuznetsov/models_env/yahoo-sber-questions_elmo/models/mod_from_git/hubs/yahooo-sber-questions_epoches_n_9/variables/variables' with bilm_1/Variable_5\n",
      "2018-11-16 13:58:03.238 DEBUG in 'tensorflow'['tf_logging'] at line 100: Initialize variable module/bilm_1/Variable_6:0 from checkpoint b'/home/kuznetsov/models_env/yahoo-sber-questions_elmo/models/mod_from_git/hubs/yahooo-sber-questions_epoches_n_9/variables/variables' with bilm_1/Variable_6\n"
     ]
    },
    {
     "name": "stderr",
     "output_type": "stream",
     "text": [
      "2018-11-16 13:58:03.247 DEBUG in 'tensorflow'['tf_logging'] at line 100: Initialize variable module/bilm_1/Variable_7:0 from checkpoint b'/home/kuznetsov/models_env/yahoo-sber-questions_elmo/models/mod_from_git/hubs/yahooo-sber-questions_epoches_n_9/variables/variables' with bilm_1/Variable_7\n",
      "2018-11-16 13:58:04.968 INFO in 'tensorflow'['tf_logging'] at line 115: Saver not created because there are no variables in the graph to restore\n",
      "2018-11-16 13:58:06.383 INFO in 'deeppavlov.models.classifiers.keras_classification_model'['keras_classification_model'] at line 291: [initializing `KerasClassificationModel` from saved]\n",
      "2018-11-16 13:58:08.33 INFO in 'deeppavlov.models.classifiers.keras_classification_model'['keras_classification_model'] at line 301: [loading weights from model.h5]\n",
      "2018-11-16 13:58:08.246 INFO in 'deeppavlov.models.classifiers.keras_classification_model'['keras_classification_model'] at line 135: Model was successfully initialized!\n",
      "Model summary:\n",
      "__________________________________________________________________________________________________\n",
      "Layer (type)                    Output Shape         Param #     Connected to                     \n",
      "==================================================================================================\n",
      "input_1 (InputLayer)            (None, 20, 1024)     0                                            \n",
      "__________________________________________________________________________________________________\n",
      "dropout_1 (Dropout)             (None, 20, 1024)     0           input_1[0][0]                    \n",
      "__________________________________________________________________________________________________\n",
      "bidirectional_1 (Bidirectional) [(None, 20, 512), (N 1967616     dropout_1[0][0]                  \n",
      "__________________________________________________________________________________________________\n",
      "global_max_pooling1d_1 (GlobalM (None, 512)          0           bidirectional_1[0][0]            \n",
      "__________________________________________________________________________________________________\n",
      "global_average_pooling1d_1 (Glo (None, 512)          0           bidirectional_1[0][0]            \n",
      "__________________________________________________________________________________________________\n",
      "concatenate_1 (Concatenate)     (None, 1536)         0           global_max_pooling1d_1[0][0]     \n",
      "                                                                 global_average_pooling1d_1[0][0] \n",
      "                                                                 bidirectional_1[0][1]            \n",
      "                                                                 bidirectional_1[0][2]            \n",
      "__________________________________________________________________________________________________\n",
      "dropout_2 (Dropout)             (None, 1536)         0           concatenate_1[0][0]              \n",
      "__________________________________________________________________________________________________\n",
      "dense_1 (Dense)                 (None, 100)          153700      dropout_2[0][0]                  \n",
      "__________________________________________________________________________________________________\n",
      "activation_1 (Activation)       (None, 100)          0           dense_1[0][0]                    \n",
      "__________________________________________________________________________________________________\n",
      "dropout_3 (Dropout)             (None, 100)          0           activation_1[0][0]               \n",
      "__________________________________________________________________________________________________\n",
      "dense_2 (Dense)                 (None, 2)            202         dropout_3[0][0]                  \n",
      "__________________________________________________________________________________________________\n",
      "activation_2 (Activation)       (None, 2)            0           dense_2[0][0]                    \n",
      "==================================================================================================\n",
      "Total params: 2,121,518\n",
      "Trainable params: 2,121,518\n",
      "Non-trainable params: 0\n",
      "__________________________________________________________________________________________________\n",
      "2018-11-16 13:58:08.248 INFO in 'deeppavlov.core.data.simple_vocab'['simple_vocab'] at line 100: [loading vocabulary from /cephfs/home/dilyara.baymurzina/GitHub/reserve/DeepPavlov/download/YahooAnswers/models/model_v39/yahoo_answers_classes.dict]\n"
     ]
    },
    {
     "name": "stdout",
     "output_type": "stream",
     "text": [
      "Iteration 4: add 1165 samples to train dataset\n"
     ]
    },
    {
     "name": "stderr",
     "output_type": "stream",
     "text": [
      "2018-11-16 14:03:12.143 INFO in 'deeppavlov.core.data.simple_vocab'['simple_vocab'] at line 100: [loading vocabulary from /cephfs/home/dilyara.baymurzina/GitHub/reserve/DeepPavlov/download/YahooAnswers/models/model_v39/yahoo_answers_classes.dict]\n",
      "2018-11-16 14:03:12.162 INFO in 'deeppavlov.core.data.simple_vocab'['simple_vocab'] at line 89: [saving vocabulary to /cephfs/home/dilyara.baymurzina/GitHub/reserve/DeepPavlov/download/YahooAnswers/models/model_v39/yahoo_answers_classes.dict]\n",
      "2018-11-16 14:03:16.53 DEBUG in 'tensorflow'['tf_logging'] at line 100: Initialize variable module/aggregation/elmo_output_ELMo_W:0 from checkpoint b'/home/kuznetsov/models_env/yahoo-sber-questions_elmo/models/mod_from_git/hubs/yahooo-sber-questions_epoches_n_9/variables/variables' with aggregation/elmo_output_ELMo_W\n",
      "2018-11-16 14:03:16.61 DEBUG in 'tensorflow'['tf_logging'] at line 100: Initialize variable module/aggregation/elmo_output_ELMo_gamma:0 from checkpoint b'/home/kuznetsov/models_env/yahoo-sber-questions_elmo/models/mod_from_git/hubs/yahooo-sber-questions_epoches_n_9/variables/variables' with aggregation/elmo_output_ELMo_gamma\n",
      "2018-11-16 14:03:16.70 DEBUG in 'tensorflow'['tf_logging'] at line 100: Initialize variable module/bilm/CNN/W_cnn_0:0 from checkpoint b'/home/kuznetsov/models_env/yahoo-sber-questions_elmo/models/mod_from_git/hubs/yahooo-sber-questions_epoches_n_9/variables/variables' with bilm/CNN/W_cnn_0\n",
      "2018-11-16 14:03:16.79 DEBUG in 'tensorflow'['tf_logging'] at line 100: Initialize variable module/bilm/CNN/W_cnn_1:0 from checkpoint b'/home/kuznetsov/models_env/yahoo-sber-questions_elmo/models/mod_from_git/hubs/yahooo-sber-questions_epoches_n_9/variables/variables' with bilm/CNN/W_cnn_1\n",
      "2018-11-16 14:03:16.88 DEBUG in 'tensorflow'['tf_logging'] at line 100: Initialize variable module/bilm/CNN/W_cnn_2:0 from checkpoint b'/home/kuznetsov/models_env/yahoo-sber-questions_elmo/models/mod_from_git/hubs/yahooo-sber-questions_epoches_n_9/variables/variables' with bilm/CNN/W_cnn_2\n",
      "2018-11-16 14:03:16.97 DEBUG in 'tensorflow'['tf_logging'] at line 100: Initialize variable module/bilm/CNN/W_cnn_3:0 from checkpoint b'/home/kuznetsov/models_env/yahoo-sber-questions_elmo/models/mod_from_git/hubs/yahooo-sber-questions_epoches_n_9/variables/variables' with bilm/CNN/W_cnn_3\n",
      "2018-11-16 14:03:16.107 DEBUG in 'tensorflow'['tf_logging'] at line 100: Initialize variable module/bilm/CNN/W_cnn_4:0 from checkpoint b'/home/kuznetsov/models_env/yahoo-sber-questions_elmo/models/mod_from_git/hubs/yahooo-sber-questions_epoches_n_9/variables/variables' with bilm/CNN/W_cnn_4\n",
      "2018-11-16 14:03:16.116 DEBUG in 'tensorflow'['tf_logging'] at line 100: Initialize variable module/bilm/CNN/W_cnn_5:0 from checkpoint b'/home/kuznetsov/models_env/yahoo-sber-questions_elmo/models/mod_from_git/hubs/yahooo-sber-questions_epoches_n_9/variables/variables' with bilm/CNN/W_cnn_5\n",
      "2018-11-16 14:03:16.125 DEBUG in 'tensorflow'['tf_logging'] at line 100: Initialize variable module/bilm/CNN/W_cnn_6:0 from checkpoint b'/home/kuznetsov/models_env/yahoo-sber-questions_elmo/models/mod_from_git/hubs/yahooo-sber-questions_epoches_n_9/variables/variables' with bilm/CNN/W_cnn_6\n",
      "2018-11-16 14:03:16.134 DEBUG in 'tensorflow'['tf_logging'] at line 100: Initialize variable module/bilm/CNN/b_cnn_0:0 from checkpoint b'/home/kuznetsov/models_env/yahoo-sber-questions_elmo/models/mod_from_git/hubs/yahooo-sber-questions_epoches_n_9/variables/variables' with bilm/CNN/b_cnn_0\n",
      "2018-11-16 14:03:16.143 DEBUG in 'tensorflow'['tf_logging'] at line 100: Initialize variable module/bilm/CNN/b_cnn_1:0 from checkpoint b'/home/kuznetsov/models_env/yahoo-sber-questions_elmo/models/mod_from_git/hubs/yahooo-sber-questions_epoches_n_9/variables/variables' with bilm/CNN/b_cnn_1\n",
      "2018-11-16 14:03:16.151 DEBUG in 'tensorflow'['tf_logging'] at line 100: Initialize variable module/bilm/CNN/b_cnn_2:0 from checkpoint b'/home/kuznetsov/models_env/yahoo-sber-questions_elmo/models/mod_from_git/hubs/yahooo-sber-questions_epoches_n_9/variables/variables' with bilm/CNN/b_cnn_2\n",
      "2018-11-16 14:03:16.158 DEBUG in 'tensorflow'['tf_logging'] at line 100: Initialize variable module/bilm/CNN/b_cnn_3:0 from checkpoint b'/home/kuznetsov/models_env/yahoo-sber-questions_elmo/models/mod_from_git/hubs/yahooo-sber-questions_epoches_n_9/variables/variables' with bilm/CNN/b_cnn_3\n",
      "2018-11-16 14:03:16.166 DEBUG in 'tensorflow'['tf_logging'] at line 100: Initialize variable module/bilm/CNN/b_cnn_4:0 from checkpoint b'/home/kuznetsov/models_env/yahoo-sber-questions_elmo/models/mod_from_git/hubs/yahooo-sber-questions_epoches_n_9/variables/variables' with bilm/CNN/b_cnn_4\n",
      "2018-11-16 14:03:16.172 DEBUG in 'tensorflow'['tf_logging'] at line 100: Initialize variable module/bilm/CNN/b_cnn_5:0 from checkpoint b'/home/kuznetsov/models_env/yahoo-sber-questions_elmo/models/mod_from_git/hubs/yahooo-sber-questions_epoches_n_9/variables/variables' with bilm/CNN/b_cnn_5\n",
      "2018-11-16 14:03:16.181 DEBUG in 'tensorflow'['tf_logging'] at line 100: Initialize variable module/bilm/CNN/b_cnn_6:0 from checkpoint b'/home/kuznetsov/models_env/yahoo-sber-questions_elmo/models/mod_from_git/hubs/yahooo-sber-questions_epoches_n_9/variables/variables' with bilm/CNN/b_cnn_6\n",
      "2018-11-16 14:03:16.190 DEBUG in 'tensorflow'['tf_logging'] at line 100: Initialize variable module/bilm/CNN_high_0/W_carry:0 from checkpoint b'/home/kuznetsov/models_env/yahoo-sber-questions_elmo/models/mod_from_git/hubs/yahooo-sber-questions_epoches_n_9/variables/variables' with bilm/CNN_high_0/W_carry\n",
      "2018-11-16 14:03:16.199 DEBUG in 'tensorflow'['tf_logging'] at line 100: Initialize variable module/bilm/CNN_high_0/W_transform:0 from checkpoint b'/home/kuznetsov/models_env/yahoo-sber-questions_elmo/models/mod_from_git/hubs/yahooo-sber-questions_epoches_n_9/variables/variables' with bilm/CNN_high_0/W_transform\n",
      "2018-11-16 14:03:16.209 DEBUG in 'tensorflow'['tf_logging'] at line 100: Initialize variable module/bilm/CNN_high_0/b_carry:0 from checkpoint b'/home/kuznetsov/models_env/yahoo-sber-questions_elmo/models/mod_from_git/hubs/yahooo-sber-questions_epoches_n_9/variables/variables' with bilm/CNN_high_0/b_carry\n",
      "2018-11-16 14:03:16.218 DEBUG in 'tensorflow'['tf_logging'] at line 100: Initialize variable module/bilm/CNN_high_0/b_transform:0 from checkpoint b'/home/kuznetsov/models_env/yahoo-sber-questions_elmo/models/mod_from_git/hubs/yahooo-sber-questions_epoches_n_9/variables/variables' with bilm/CNN_high_0/b_transform\n",
      "2018-11-16 14:03:16.227 DEBUG in 'tensorflow'['tf_logging'] at line 100: Initialize variable module/bilm/CNN_high_1/W_carry:0 from checkpoint b'/home/kuznetsov/models_env/yahoo-sber-questions_elmo/models/mod_from_git/hubs/yahooo-sber-questions_epoches_n_9/variables/variables' with bilm/CNN_high_1/W_carry\n",
      "2018-11-16 14:03:16.236 DEBUG in 'tensorflow'['tf_logging'] at line 100: Initialize variable module/bilm/CNN_high_1/W_transform:0 from checkpoint b'/home/kuznetsov/models_env/yahoo-sber-questions_elmo/models/mod_from_git/hubs/yahooo-sber-questions_epoches_n_9/variables/variables' with bilm/CNN_high_1/W_transform\n",
      "2018-11-16 14:03:16.245 DEBUG in 'tensorflow'['tf_logging'] at line 100: Initialize variable module/bilm/CNN_high_1/b_carry:0 from checkpoint b'/home/kuznetsov/models_env/yahoo-sber-questions_elmo/models/mod_from_git/hubs/yahooo-sber-questions_epoches_n_9/variables/variables' with bilm/CNN_high_1/b_carry\n",
      "2018-11-16 14:03:16.254 DEBUG in 'tensorflow'['tf_logging'] at line 100: Initialize variable module/bilm/CNN_high_1/b_transform:0 from checkpoint b'/home/kuznetsov/models_env/yahoo-sber-questions_elmo/models/mod_from_git/hubs/yahooo-sber-questions_epoches_n_9/variables/variables' with bilm/CNN_high_1/b_transform\n",
      "2018-11-16 14:03:16.263 DEBUG in 'tensorflow'['tf_logging'] at line 100: Initialize variable module/bilm/CNN_proj/W_proj:0 from checkpoint b'/home/kuznetsov/models_env/yahoo-sber-questions_elmo/models/mod_from_git/hubs/yahooo-sber-questions_epoches_n_9/variables/variables' with bilm/CNN_proj/W_proj\n",
      "2018-11-16 14:03:16.272 DEBUG in 'tensorflow'['tf_logging'] at line 100: Initialize variable module/bilm/CNN_proj/b_proj:0 from checkpoint b'/home/kuznetsov/models_env/yahoo-sber-questions_elmo/models/mod_from_git/hubs/yahooo-sber-questions_epoches_n_9/variables/variables' with bilm/CNN_proj/b_proj\n"
     ]
    },
    {
     "name": "stderr",
     "output_type": "stream",
     "text": [
      "2018-11-16 14:03:16.280 DEBUG in 'tensorflow'['tf_logging'] at line 100: Initialize variable module/bilm/RNN_0/RNN/MultiRNNCell/Cell0/rnn/lstm_cell/bias:0 from checkpoint b'/home/kuznetsov/models_env/yahoo-sber-questions_elmo/models/mod_from_git/hubs/yahooo-sber-questions_epoches_n_9/variables/variables' with bilm/RNN_0/RNN/MultiRNNCell/Cell0/rnn/lstm_cell/bias\n",
      "2018-11-16 14:03:16.290 DEBUG in 'tensorflow'['tf_logging'] at line 100: Initialize variable module/bilm/RNN_0/RNN/MultiRNNCell/Cell0/rnn/lstm_cell/kernel:0 from checkpoint b'/home/kuznetsov/models_env/yahoo-sber-questions_elmo/models/mod_from_git/hubs/yahooo-sber-questions_epoches_n_9/variables/variables' with bilm/RNN_0/RNN/MultiRNNCell/Cell0/rnn/lstm_cell/kernel\n",
      "2018-11-16 14:03:16.299 DEBUG in 'tensorflow'['tf_logging'] at line 100: Initialize variable module/bilm/RNN_0/RNN/MultiRNNCell/Cell0/rnn/lstm_cell/projection/kernel:0 from checkpoint b'/home/kuznetsov/models_env/yahoo-sber-questions_elmo/models/mod_from_git/hubs/yahooo-sber-questions_epoches_n_9/variables/variables' with bilm/RNN_0/RNN/MultiRNNCell/Cell0/rnn/lstm_cell/projection/kernel\n",
      "2018-11-16 14:03:16.307 DEBUG in 'tensorflow'['tf_logging'] at line 100: Initialize variable module/bilm/RNN_0/RNN/MultiRNNCell/Cell1/rnn/lstm_cell/bias:0 from checkpoint b'/home/kuznetsov/models_env/yahoo-sber-questions_elmo/models/mod_from_git/hubs/yahooo-sber-questions_epoches_n_9/variables/variables' with bilm/RNN_0/RNN/MultiRNNCell/Cell1/rnn/lstm_cell/bias\n",
      "2018-11-16 14:03:16.315 DEBUG in 'tensorflow'['tf_logging'] at line 100: Initialize variable module/bilm/RNN_0/RNN/MultiRNNCell/Cell1/rnn/lstm_cell/kernel:0 from checkpoint b'/home/kuznetsov/models_env/yahoo-sber-questions_elmo/models/mod_from_git/hubs/yahooo-sber-questions_epoches_n_9/variables/variables' with bilm/RNN_0/RNN/MultiRNNCell/Cell1/rnn/lstm_cell/kernel\n",
      "2018-11-16 14:03:16.322 DEBUG in 'tensorflow'['tf_logging'] at line 100: Initialize variable module/bilm/RNN_0/RNN/MultiRNNCell/Cell1/rnn/lstm_cell/projection/kernel:0 from checkpoint b'/home/kuznetsov/models_env/yahoo-sber-questions_elmo/models/mod_from_git/hubs/yahooo-sber-questions_epoches_n_9/variables/variables' with bilm/RNN_0/RNN/MultiRNNCell/Cell1/rnn/lstm_cell/projection/kernel\n",
      "2018-11-16 14:03:16.328 DEBUG in 'tensorflow'['tf_logging'] at line 100: Initialize variable module/bilm/RNN_1/RNN/MultiRNNCell/Cell0/rnn/lstm_cell/bias:0 from checkpoint b'/home/kuznetsov/models_env/yahoo-sber-questions_elmo/models/mod_from_git/hubs/yahooo-sber-questions_epoches_n_9/variables/variables' with bilm/RNN_1/RNN/MultiRNNCell/Cell0/rnn/lstm_cell/bias\n",
      "2018-11-16 14:03:16.334 DEBUG in 'tensorflow'['tf_logging'] at line 100: Initialize variable module/bilm/RNN_1/RNN/MultiRNNCell/Cell0/rnn/lstm_cell/kernel:0 from checkpoint b'/home/kuznetsov/models_env/yahoo-sber-questions_elmo/models/mod_from_git/hubs/yahooo-sber-questions_epoches_n_9/variables/variables' with bilm/RNN_1/RNN/MultiRNNCell/Cell0/rnn/lstm_cell/kernel\n",
      "2018-11-16 14:03:16.341 DEBUG in 'tensorflow'['tf_logging'] at line 100: Initialize variable module/bilm/RNN_1/RNN/MultiRNNCell/Cell0/rnn/lstm_cell/projection/kernel:0 from checkpoint b'/home/kuznetsov/models_env/yahoo-sber-questions_elmo/models/mod_from_git/hubs/yahooo-sber-questions_epoches_n_9/variables/variables' with bilm/RNN_1/RNN/MultiRNNCell/Cell0/rnn/lstm_cell/projection/kernel\n",
      "2018-11-16 14:03:16.348 DEBUG in 'tensorflow'['tf_logging'] at line 100: Initialize variable module/bilm/RNN_1/RNN/MultiRNNCell/Cell1/rnn/lstm_cell/bias:0 from checkpoint b'/home/kuznetsov/models_env/yahoo-sber-questions_elmo/models/mod_from_git/hubs/yahooo-sber-questions_epoches_n_9/variables/variables' with bilm/RNN_1/RNN/MultiRNNCell/Cell1/rnn/lstm_cell/bias\n",
      "2018-11-16 14:03:16.358 DEBUG in 'tensorflow'['tf_logging'] at line 100: Initialize variable module/bilm/RNN_1/RNN/MultiRNNCell/Cell1/rnn/lstm_cell/kernel:0 from checkpoint b'/home/kuznetsov/models_env/yahoo-sber-questions_elmo/models/mod_from_git/hubs/yahooo-sber-questions_epoches_n_9/variables/variables' with bilm/RNN_1/RNN/MultiRNNCell/Cell1/rnn/lstm_cell/kernel\n",
      "2018-11-16 14:03:16.368 DEBUG in 'tensorflow'['tf_logging'] at line 100: Initialize variable module/bilm/RNN_1/RNN/MultiRNNCell/Cell1/rnn/lstm_cell/projection/kernel:0 from checkpoint b'/home/kuznetsov/models_env/yahoo-sber-questions_elmo/models/mod_from_git/hubs/yahooo-sber-questions_epoches_n_9/variables/variables' with bilm/RNN_1/RNN/MultiRNNCell/Cell1/rnn/lstm_cell/projection/kernel\n",
      "2018-11-16 14:03:16.378 DEBUG in 'tensorflow'['tf_logging'] at line 100: Initialize variable module/bilm/Variable:0 from checkpoint b'/home/kuznetsov/models_env/yahoo-sber-questions_elmo/models/mod_from_git/hubs/yahooo-sber-questions_epoches_n_9/variables/variables' with bilm/Variable\n",
      "2018-11-16 14:03:16.388 DEBUG in 'tensorflow'['tf_logging'] at line 100: Initialize variable module/bilm/Variable_1:0 from checkpoint b'/home/kuznetsov/models_env/yahoo-sber-questions_elmo/models/mod_from_git/hubs/yahooo-sber-questions_epoches_n_9/variables/variables' with bilm/Variable_1\n",
      "2018-11-16 14:03:16.397 DEBUG in 'tensorflow'['tf_logging'] at line 100: Initialize variable module/bilm/Variable_2:0 from checkpoint b'/home/kuznetsov/models_env/yahoo-sber-questions_elmo/models/mod_from_git/hubs/yahooo-sber-questions_epoches_n_9/variables/variables' with bilm/Variable_2\n",
      "2018-11-16 14:03:16.406 DEBUG in 'tensorflow'['tf_logging'] at line 100: Initialize variable module/bilm/Variable_3:0 from checkpoint b'/home/kuznetsov/models_env/yahoo-sber-questions_elmo/models/mod_from_git/hubs/yahooo-sber-questions_epoches_n_9/variables/variables' with bilm/Variable_3\n",
      "2018-11-16 14:03:16.416 DEBUG in 'tensorflow'['tf_logging'] at line 100: Initialize variable module/bilm/Variable_4:0 from checkpoint b'/home/kuznetsov/models_env/yahoo-sber-questions_elmo/models/mod_from_git/hubs/yahooo-sber-questions_epoches_n_9/variables/variables' with bilm/Variable_4\n",
      "2018-11-16 14:03:16.425 DEBUG in 'tensorflow'['tf_logging'] at line 100: Initialize variable module/bilm/Variable_5:0 from checkpoint b'/home/kuznetsov/models_env/yahoo-sber-questions_elmo/models/mod_from_git/hubs/yahooo-sber-questions_epoches_n_9/variables/variables' with bilm/Variable_5\n",
      "2018-11-16 14:03:16.434 DEBUG in 'tensorflow'['tf_logging'] at line 100: Initialize variable module/bilm/Variable_6:0 from checkpoint b'/home/kuznetsov/models_env/yahoo-sber-questions_elmo/models/mod_from_git/hubs/yahooo-sber-questions_epoches_n_9/variables/variables' with bilm/Variable_6\n",
      "2018-11-16 14:03:16.444 DEBUG in 'tensorflow'['tf_logging'] at line 100: Initialize variable module/bilm/Variable_7:0 from checkpoint b'/home/kuznetsov/models_env/yahoo-sber-questions_elmo/models/mod_from_git/hubs/yahooo-sber-questions_epoches_n_9/variables/variables' with bilm/Variable_7\n",
      "2018-11-16 14:03:16.453 DEBUG in 'tensorflow'['tf_logging'] at line 100: Initialize variable module/bilm/char_embed:0 from checkpoint b'/home/kuznetsov/models_env/yahoo-sber-questions_elmo/models/mod_from_git/hubs/yahooo-sber-questions_epoches_n_9/variables/variables' with bilm/char_embed\n",
      "2018-11-16 14:03:16.463 DEBUG in 'tensorflow'['tf_logging'] at line 100: Initialize variable module/bilm_1/Variable:0 from checkpoint b'/home/kuznetsov/models_env/yahoo-sber-questions_elmo/models/mod_from_git/hubs/yahooo-sber-questions_epoches_n_9/variables/variables' with bilm_1/Variable\n",
      "2018-11-16 14:03:16.473 DEBUG in 'tensorflow'['tf_logging'] at line 100: Initialize variable module/bilm_1/Variable_1:0 from checkpoint b'/home/kuznetsov/models_env/yahoo-sber-questions_elmo/models/mod_from_git/hubs/yahooo-sber-questions_epoches_n_9/variables/variables' with bilm_1/Variable_1\n",
      "2018-11-16 14:03:16.482 DEBUG in 'tensorflow'['tf_logging'] at line 100: Initialize variable module/bilm_1/Variable_2:0 from checkpoint b'/home/kuznetsov/models_env/yahoo-sber-questions_elmo/models/mod_from_git/hubs/yahooo-sber-questions_epoches_n_9/variables/variables' with bilm_1/Variable_2\n",
      "2018-11-16 14:03:16.492 DEBUG in 'tensorflow'['tf_logging'] at line 100: Initialize variable module/bilm_1/Variable_3:0 from checkpoint b'/home/kuznetsov/models_env/yahoo-sber-questions_elmo/models/mod_from_git/hubs/yahooo-sber-questions_epoches_n_9/variables/variables' with bilm_1/Variable_3\n"
     ]
    },
    {
     "name": "stderr",
     "output_type": "stream",
     "text": [
      "2018-11-16 14:03:16.501 DEBUG in 'tensorflow'['tf_logging'] at line 100: Initialize variable module/bilm_1/Variable_4:0 from checkpoint b'/home/kuznetsov/models_env/yahoo-sber-questions_elmo/models/mod_from_git/hubs/yahooo-sber-questions_epoches_n_9/variables/variables' with bilm_1/Variable_4\n",
      "2018-11-16 14:03:16.510 DEBUG in 'tensorflow'['tf_logging'] at line 100: Initialize variable module/bilm_1/Variable_5:0 from checkpoint b'/home/kuznetsov/models_env/yahoo-sber-questions_elmo/models/mod_from_git/hubs/yahooo-sber-questions_epoches_n_9/variables/variables' with bilm_1/Variable_5\n",
      "2018-11-16 14:03:16.518 DEBUG in 'tensorflow'['tf_logging'] at line 100: Initialize variable module/bilm_1/Variable_6:0 from checkpoint b'/home/kuznetsov/models_env/yahoo-sber-questions_elmo/models/mod_from_git/hubs/yahooo-sber-questions_epoches_n_9/variables/variables' with bilm_1/Variable_6\n",
      "2018-11-16 14:03:16.525 DEBUG in 'tensorflow'['tf_logging'] at line 100: Initialize variable module/bilm_1/Variable_7:0 from checkpoint b'/home/kuznetsov/models_env/yahoo-sber-questions_elmo/models/mod_from_git/hubs/yahooo-sber-questions_epoches_n_9/variables/variables' with bilm_1/Variable_7\n",
      "2018-11-16 14:03:18.245 INFO in 'tensorflow'['tf_logging'] at line 115: Saver not created because there are no variables in the graph to restore\n",
      "2018-11-16 14:03:19.975 INFO in 'deeppavlov.models.classifiers.keras_classification_model'['keras_classification_model'] at line 291: [initializing `KerasClassificationModel` from saved]\n",
      "2018-11-16 14:03:21.119 INFO in 'deeppavlov.models.classifiers.keras_classification_model'['keras_classification_model'] at line 301: [loading weights from model.h5]\n",
      "2018-11-16 14:03:21.377 INFO in 'deeppavlov.models.classifiers.keras_classification_model'['keras_classification_model'] at line 135: Model was successfully initialized!\n",
      "Model summary:\n",
      "__________________________________________________________________________________________________\n",
      "Layer (type)                    Output Shape         Param #     Connected to                     \n",
      "==================================================================================================\n",
      "input_1 (InputLayer)            (None, 20, 1024)     0                                            \n",
      "__________________________________________________________________________________________________\n",
      "dropout_1 (Dropout)             (None, 20, 1024)     0           input_1[0][0]                    \n",
      "__________________________________________________________________________________________________\n",
      "bidirectional_1 (Bidirectional) [(None, 20, 512), (N 1967616     dropout_1[0][0]                  \n",
      "__________________________________________________________________________________________________\n",
      "global_max_pooling1d_1 (GlobalM (None, 512)          0           bidirectional_1[0][0]            \n",
      "__________________________________________________________________________________________________\n",
      "global_average_pooling1d_1 (Glo (None, 512)          0           bidirectional_1[0][0]            \n",
      "__________________________________________________________________________________________________\n",
      "concatenate_1 (Concatenate)     (None, 1536)         0           global_max_pooling1d_1[0][0]     \n",
      "                                                                 global_average_pooling1d_1[0][0] \n",
      "                                                                 bidirectional_1[0][1]            \n",
      "                                                                 bidirectional_1[0][2]            \n",
      "__________________________________________________________________________________________________\n",
      "dropout_2 (Dropout)             (None, 1536)         0           concatenate_1[0][0]              \n",
      "__________________________________________________________________________________________________\n",
      "dense_1 (Dense)                 (None, 100)          153700      dropout_2[0][0]                  \n",
      "__________________________________________________________________________________________________\n",
      "activation_1 (Activation)       (None, 100)          0           dense_1[0][0]                    \n",
      "__________________________________________________________________________________________________\n",
      "dropout_3 (Dropout)             (None, 100)          0           activation_1[0][0]               \n",
      "__________________________________________________________________________________________________\n",
      "dense_2 (Dense)                 (None, 2)            202         dropout_3[0][0]                  \n",
      "__________________________________________________________________________________________________\n",
      "activation_2 (Activation)       (None, 2)            0           dense_2[0][0]                    \n",
      "==================================================================================================\n",
      "Total params: 2,121,518\n",
      "Trainable params: 2,121,518\n",
      "Non-trainable params: 0\n",
      "__________________________________________________________________________________________________\n",
      "2018-11-16 14:03:28.37 INFO in 'deeppavlov.core.commands.train'['train'] at line 360: New best roc_auc of 0.9341\n",
      "2018-11-16 14:03:28.38 INFO in 'deeppavlov.core.commands.train'['train'] at line 362: Saving model\n",
      "2018-11-16 14:03:28.39 INFO in 'deeppavlov.models.classifiers.keras_classification_model'['keras_classification_model'] at line 375: [saving model to /cephfs/home/dilyara.baymurzina/GitHub/reserve/DeepPavlov/download/YahooAnswers/models/model_v39/model_opt.json]\n"
     ]
    },
    {
     "name": "stdout",
     "output_type": "stream",
     "text": [
      "{\"valid\": {\"eval_examples_count\": 403, \"metrics\": {\"roc_auc\": 0.9341, \"sets_accuracy\": 0.8586, \"f1_macro\": 0.8572}, \"time_spent\": \"0:00:07\", \"epochs_done\": 0, \"batches_seen\": 0, \"train_examples_seen\": 0, \"impatience\": 0, \"patience_limit\": 5}}\n",
      "{\"train\": {\"epochs_done\": 1, \"batches_seen\": 10, \"train_examples_seen\": 9433, \"metrics\": {\"roc_auc\": 0.9818, \"sets_accuracy\": 0.9442, \"f1_macro\": 0.9431}, \"time_spent\": \"0:10:49\", \"loss\": 0.3778288632631302}}\n"
     ]
    },
    {
     "name": "stderr",
     "output_type": "stream",
     "text": [
      "2018-11-16 14:14:16.9 INFO in 'deeppavlov.core.commands.train'['train'] at line 525: Did not improve on the roc_auc of 0.9341\n"
     ]
    },
    {
     "name": "stdout",
     "output_type": "stream",
     "text": [
      "{\"valid\": {\"eval_examples_count\": 403, \"metrics\": {\"roc_auc\": 0.9247, \"sets_accuracy\": 0.8362, \"f1_macro\": 0.8351}, \"time_spent\": \"0:10:55\", \"epochs_done\": 1, \"batches_seen\": 10, \"train_examples_seen\": 9433, \"impatience\": 1, \"patience_limit\": 5}}\n",
      "{\"train\": {\"epochs_done\": 2, \"batches_seen\": 20, \"train_examples_seen\": 18866, \"metrics\": {\"roc_auc\": 0.9902, \"sets_accuracy\": 0.9534, \"f1_macro\": 0.9525}, \"time_spent\": \"0:21:38\", \"loss\": 0.30077518820762633}}\n"
     ]
    },
    {
     "name": "stderr",
     "output_type": "stream",
     "text": [
      "2018-11-16 14:25:04.160 INFO in 'deeppavlov.core.commands.train'['train'] at line 525: Did not improve on the roc_auc of 0.9341\n"
     ]
    },
    {
     "name": "stdout",
     "output_type": "stream",
     "text": [
      "{\"valid\": {\"eval_examples_count\": 403, \"metrics\": {\"roc_auc\": 0.9268, \"sets_accuracy\": 0.8387, \"f1_macro\": 0.8385}, \"time_spent\": \"0:21:43\", \"epochs_done\": 2, \"batches_seen\": 20, \"train_examples_seen\": 18866, \"impatience\": 2, \"patience_limit\": 5}}\n",
      "{\"train\": {\"epochs_done\": 3, \"batches_seen\": 30, \"train_examples_seen\": 28299, \"metrics\": {\"roc_auc\": 0.9925, \"sets_accuracy\": 0.9555, \"f1_macro\": 0.9546}, \"time_spent\": \"0:32:07\", \"loss\": 0.27009604275226595}}\n"
     ]
    },
    {
     "name": "stderr",
     "output_type": "stream",
     "text": [
      "2018-11-16 14:35:33.336 INFO in 'deeppavlov.core.commands.train'['train'] at line 525: Did not improve on the roc_auc of 0.9341\n"
     ]
    },
    {
     "name": "stdout",
     "output_type": "stream",
     "text": [
      "{\"valid\": {\"eval_examples_count\": 403, \"metrics\": {\"roc_auc\": 0.9263, \"sets_accuracy\": 0.8437, \"f1_macro\": 0.8429}, \"time_spent\": \"0:32:12\", \"epochs_done\": 3, \"batches_seen\": 30, \"train_examples_seen\": 28299, \"impatience\": 3, \"patience_limit\": 5}}\n",
      "{\"train\": {\"epochs_done\": 4, \"batches_seen\": 40, \"train_examples_seen\": 37732, \"metrics\": {\"roc_auc\": 0.994, \"sets_accuracy\": 0.9602, \"f1_macro\": 0.9596}, \"time_spent\": \"0:42:13\", \"loss\": 0.24559689313173294}}\n"
     ]
    },
    {
     "name": "stderr",
     "output_type": "stream",
     "text": [
      "2018-11-16 14:45:39.330 INFO in 'deeppavlov.core.commands.train'['train'] at line 525: Did not improve on the roc_auc of 0.9341\n"
     ]
    },
    {
     "name": "stdout",
     "output_type": "stream",
     "text": [
      "{\"valid\": {\"eval_examples_count\": 403, \"metrics\": {\"roc_auc\": 0.9259, \"sets_accuracy\": 0.8462, \"f1_macro\": 0.8447}, \"time_spent\": \"0:42:18\", \"epochs_done\": 4, \"batches_seen\": 40, \"train_examples_seen\": 37732, \"impatience\": 4, \"patience_limit\": 5}}\n",
      "{\"train\": {\"epochs_done\": 5, \"batches_seen\": 50, \"train_examples_seen\": 47165, \"metrics\": {\"roc_auc\": 0.9946, \"sets_accuracy\": 0.9606, \"f1_macro\": 0.9597}, \"time_spent\": \"0:52:30\", \"loss\": 0.24731320291757583}}\n"
     ]
    },
    {
     "name": "stderr",
     "output_type": "stream",
     "text": [
      "2018-11-16 14:55:56.343 INFO in 'deeppavlov.core.commands.train'['train'] at line 525: Did not improve on the roc_auc of 0.9341\n",
      "2018-11-16 14:55:56.346 INFO in 'deeppavlov.core.commands.train'['train'] at line 536: Ran out of patience\n",
      "2018-11-16 14:55:56.350 INFO in 'deeppavlov.core.data.simple_vocab'['simple_vocab'] at line 100: [loading vocabulary from /cephfs/home/dilyara.baymurzina/GitHub/reserve/DeepPavlov/download/YahooAnswers/models/model_v39/yahoo_answers_classes.dict]\n"
     ]
    },
    {
     "name": "stdout",
     "output_type": "stream",
     "text": [
      "{\"valid\": {\"eval_examples_count\": 403, \"metrics\": {\"roc_auc\": 0.9258, \"sets_accuracy\": 0.8462, \"f1_macro\": 0.8438}, \"time_spent\": \"0:52:35\", \"epochs_done\": 5, \"batches_seen\": 50, \"train_examples_seen\": 47165, \"impatience\": 5, \"patience_limit\": 5}}\n"
     ]
    },
    {
     "name": "stderr",
     "output_type": "stream",
     "text": [
      "2018-11-16 14:55:59.192 DEBUG in 'tensorflow'['tf_logging'] at line 100: Initialize variable module/aggregation/elmo_output_ELMo_W:0 from checkpoint b'/home/kuznetsov/models_env/yahoo-sber-questions_elmo/models/mod_from_git/hubs/yahooo-sber-questions_epoches_n_9/variables/variables' with aggregation/elmo_output_ELMo_W\n",
      "2018-11-16 14:55:59.199 DEBUG in 'tensorflow'['tf_logging'] at line 100: Initialize variable module/aggregation/elmo_output_ELMo_gamma:0 from checkpoint b'/home/kuznetsov/models_env/yahoo-sber-questions_elmo/models/mod_from_git/hubs/yahooo-sber-questions_epoches_n_9/variables/variables' with aggregation/elmo_output_ELMo_gamma\n",
      "2018-11-16 14:55:59.205 DEBUG in 'tensorflow'['tf_logging'] at line 100: Initialize variable module/bilm/CNN/W_cnn_0:0 from checkpoint b'/home/kuznetsov/models_env/yahoo-sber-questions_elmo/models/mod_from_git/hubs/yahooo-sber-questions_epoches_n_9/variables/variables' with bilm/CNN/W_cnn_0\n",
      "2018-11-16 14:55:59.216 DEBUG in 'tensorflow'['tf_logging'] at line 100: Initialize variable module/bilm/CNN/W_cnn_1:0 from checkpoint b'/home/kuznetsov/models_env/yahoo-sber-questions_elmo/models/mod_from_git/hubs/yahooo-sber-questions_epoches_n_9/variables/variables' with bilm/CNN/W_cnn_1\n",
      "2018-11-16 14:55:59.229 DEBUG in 'tensorflow'['tf_logging'] at line 100: Initialize variable module/bilm/CNN/W_cnn_2:0 from checkpoint b'/home/kuznetsov/models_env/yahoo-sber-questions_elmo/models/mod_from_git/hubs/yahooo-sber-questions_epoches_n_9/variables/variables' with bilm/CNN/W_cnn_2\n",
      "2018-11-16 14:55:59.239 DEBUG in 'tensorflow'['tf_logging'] at line 100: Initialize variable module/bilm/CNN/W_cnn_3:0 from checkpoint b'/home/kuznetsov/models_env/yahoo-sber-questions_elmo/models/mod_from_git/hubs/yahooo-sber-questions_epoches_n_9/variables/variables' with bilm/CNN/W_cnn_3\n",
      "2018-11-16 14:55:59.250 DEBUG in 'tensorflow'['tf_logging'] at line 100: Initialize variable module/bilm/CNN/W_cnn_4:0 from checkpoint b'/home/kuznetsov/models_env/yahoo-sber-questions_elmo/models/mod_from_git/hubs/yahooo-sber-questions_epoches_n_9/variables/variables' with bilm/CNN/W_cnn_4\n",
      "2018-11-16 14:55:59.260 DEBUG in 'tensorflow'['tf_logging'] at line 100: Initialize variable module/bilm/CNN/W_cnn_5:0 from checkpoint b'/home/kuznetsov/models_env/yahoo-sber-questions_elmo/models/mod_from_git/hubs/yahooo-sber-questions_epoches_n_9/variables/variables' with bilm/CNN/W_cnn_5\n",
      "2018-11-16 14:55:59.270 DEBUG in 'tensorflow'['tf_logging'] at line 100: Initialize variable module/bilm/CNN/W_cnn_6:0 from checkpoint b'/home/kuznetsov/models_env/yahoo-sber-questions_elmo/models/mod_from_git/hubs/yahooo-sber-questions_epoches_n_9/variables/variables' with bilm/CNN/W_cnn_6\n",
      "2018-11-16 14:55:59.281 DEBUG in 'tensorflow'['tf_logging'] at line 100: Initialize variable module/bilm/CNN/b_cnn_0:0 from checkpoint b'/home/kuznetsov/models_env/yahoo-sber-questions_elmo/models/mod_from_git/hubs/yahooo-sber-questions_epoches_n_9/variables/variables' with bilm/CNN/b_cnn_0\n",
      "2018-11-16 14:55:59.292 DEBUG in 'tensorflow'['tf_logging'] at line 100: Initialize variable module/bilm/CNN/b_cnn_1:0 from checkpoint b'/home/kuznetsov/models_env/yahoo-sber-questions_elmo/models/mod_from_git/hubs/yahooo-sber-questions_epoches_n_9/variables/variables' with bilm/CNN/b_cnn_1\n",
      "2018-11-16 14:55:59.300 DEBUG in 'tensorflow'['tf_logging'] at line 100: Initialize variable module/bilm/CNN/b_cnn_2:0 from checkpoint b'/home/kuznetsov/models_env/yahoo-sber-questions_elmo/models/mod_from_git/hubs/yahooo-sber-questions_epoches_n_9/variables/variables' with bilm/CNN/b_cnn_2\n",
      "2018-11-16 14:55:59.306 DEBUG in 'tensorflow'['tf_logging'] at line 100: Initialize variable module/bilm/CNN/b_cnn_3:0 from checkpoint b'/home/kuznetsov/models_env/yahoo-sber-questions_elmo/models/mod_from_git/hubs/yahooo-sber-questions_epoches_n_9/variables/variables' with bilm/CNN/b_cnn_3\n",
      "2018-11-16 14:55:59.312 DEBUG in 'tensorflow'['tf_logging'] at line 100: Initialize variable module/bilm/CNN/b_cnn_4:0 from checkpoint b'/home/kuznetsov/models_env/yahoo-sber-questions_elmo/models/mod_from_git/hubs/yahooo-sber-questions_epoches_n_9/variables/variables' with bilm/CNN/b_cnn_4\n",
      "2018-11-16 14:55:59.318 DEBUG in 'tensorflow'['tf_logging'] at line 100: Initialize variable module/bilm/CNN/b_cnn_5:0 from checkpoint b'/home/kuznetsov/models_env/yahoo-sber-questions_elmo/models/mod_from_git/hubs/yahooo-sber-questions_epoches_n_9/variables/variables' with bilm/CNN/b_cnn_5\n",
      "2018-11-16 14:55:59.325 DEBUG in 'tensorflow'['tf_logging'] at line 100: Initialize variable module/bilm/CNN/b_cnn_6:0 from checkpoint b'/home/kuznetsov/models_env/yahoo-sber-questions_elmo/models/mod_from_git/hubs/yahooo-sber-questions_epoches_n_9/variables/variables' with bilm/CNN/b_cnn_6\n",
      "2018-11-16 14:55:59.331 DEBUG in 'tensorflow'['tf_logging'] at line 100: Initialize variable module/bilm/CNN_high_0/W_carry:0 from checkpoint b'/home/kuznetsov/models_env/yahoo-sber-questions_elmo/models/mod_from_git/hubs/yahooo-sber-questions_epoches_n_9/variables/variables' with bilm/CNN_high_0/W_carry\n",
      "2018-11-16 14:55:59.337 DEBUG in 'tensorflow'['tf_logging'] at line 100: Initialize variable module/bilm/CNN_high_0/W_transform:0 from checkpoint b'/home/kuznetsov/models_env/yahoo-sber-questions_elmo/models/mod_from_git/hubs/yahooo-sber-questions_epoches_n_9/variables/variables' with bilm/CNN_high_0/W_transform\n",
      "2018-11-16 14:55:59.343 DEBUG in 'tensorflow'['tf_logging'] at line 100: Initialize variable module/bilm/CNN_high_0/b_carry:0 from checkpoint b'/home/kuznetsov/models_env/yahoo-sber-questions_elmo/models/mod_from_git/hubs/yahooo-sber-questions_epoches_n_9/variables/variables' with bilm/CNN_high_0/b_carry\n",
      "2018-11-16 14:55:59.350 DEBUG in 'tensorflow'['tf_logging'] at line 100: Initialize variable module/bilm/CNN_high_0/b_transform:0 from checkpoint b'/home/kuznetsov/models_env/yahoo-sber-questions_elmo/models/mod_from_git/hubs/yahooo-sber-questions_epoches_n_9/variables/variables' with bilm/CNN_high_0/b_transform\n",
      "2018-11-16 14:55:59.357 DEBUG in 'tensorflow'['tf_logging'] at line 100: Initialize variable module/bilm/CNN_high_1/W_carry:0 from checkpoint b'/home/kuznetsov/models_env/yahoo-sber-questions_elmo/models/mod_from_git/hubs/yahooo-sber-questions_epoches_n_9/variables/variables' with bilm/CNN_high_1/W_carry\n",
      "2018-11-16 14:55:59.363 DEBUG in 'tensorflow'['tf_logging'] at line 100: Initialize variable module/bilm/CNN_high_1/W_transform:0 from checkpoint b'/home/kuznetsov/models_env/yahoo-sber-questions_elmo/models/mod_from_git/hubs/yahooo-sber-questions_epoches_n_9/variables/variables' with bilm/CNN_high_1/W_transform\n",
      "2018-11-16 14:55:59.368 DEBUG in 'tensorflow'['tf_logging'] at line 100: Initialize variable module/bilm/CNN_high_1/b_carry:0 from checkpoint b'/home/kuznetsov/models_env/yahoo-sber-questions_elmo/models/mod_from_git/hubs/yahooo-sber-questions_epoches_n_9/variables/variables' with bilm/CNN_high_1/b_carry\n",
      "2018-11-16 14:55:59.375 DEBUG in 'tensorflow'['tf_logging'] at line 100: Initialize variable module/bilm/CNN_high_1/b_transform:0 from checkpoint b'/home/kuznetsov/models_env/yahoo-sber-questions_elmo/models/mod_from_git/hubs/yahooo-sber-questions_epoches_n_9/variables/variables' with bilm/CNN_high_1/b_transform\n",
      "2018-11-16 14:55:59.382 DEBUG in 'tensorflow'['tf_logging'] at line 100: Initialize variable module/bilm/CNN_proj/W_proj:0 from checkpoint b'/home/kuznetsov/models_env/yahoo-sber-questions_elmo/models/mod_from_git/hubs/yahooo-sber-questions_epoches_n_9/variables/variables' with bilm/CNN_proj/W_proj\n",
      "2018-11-16 14:55:59.388 DEBUG in 'tensorflow'['tf_logging'] at line 100: Initialize variable module/bilm/CNN_proj/b_proj:0 from checkpoint b'/home/kuznetsov/models_env/yahoo-sber-questions_elmo/models/mod_from_git/hubs/yahooo-sber-questions_epoches_n_9/variables/variables' with bilm/CNN_proj/b_proj\n",
      "2018-11-16 14:55:59.395 DEBUG in 'tensorflow'['tf_logging'] at line 100: Initialize variable module/bilm/RNN_0/RNN/MultiRNNCell/Cell0/rnn/lstm_cell/bias:0 from checkpoint b'/home/kuznetsov/models_env/yahoo-sber-questions_elmo/models/mod_from_git/hubs/yahooo-sber-questions_epoches_n_9/variables/variables' with bilm/RNN_0/RNN/MultiRNNCell/Cell0/rnn/lstm_cell/bias\n",
      "2018-11-16 14:55:59.401 DEBUG in 'tensorflow'['tf_logging'] at line 100: Initialize variable module/bilm/RNN_0/RNN/MultiRNNCell/Cell0/rnn/lstm_cell/kernel:0 from checkpoint b'/home/kuznetsov/models_env/yahoo-sber-questions_elmo/models/mod_from_git/hubs/yahooo-sber-questions_epoches_n_9/variables/variables' with bilm/RNN_0/RNN/MultiRNNCell/Cell0/rnn/lstm_cell/kernel\n"
     ]
    },
    {
     "name": "stderr",
     "output_type": "stream",
     "text": [
      "2018-11-16 14:55:59.408 DEBUG in 'tensorflow'['tf_logging'] at line 100: Initialize variable module/bilm/RNN_0/RNN/MultiRNNCell/Cell0/rnn/lstm_cell/projection/kernel:0 from checkpoint b'/home/kuznetsov/models_env/yahoo-sber-questions_elmo/models/mod_from_git/hubs/yahooo-sber-questions_epoches_n_9/variables/variables' with bilm/RNN_0/RNN/MultiRNNCell/Cell0/rnn/lstm_cell/projection/kernel\n",
      "2018-11-16 14:55:59.414 DEBUG in 'tensorflow'['tf_logging'] at line 100: Initialize variable module/bilm/RNN_0/RNN/MultiRNNCell/Cell1/rnn/lstm_cell/bias:0 from checkpoint b'/home/kuznetsov/models_env/yahoo-sber-questions_elmo/models/mod_from_git/hubs/yahooo-sber-questions_epoches_n_9/variables/variables' with bilm/RNN_0/RNN/MultiRNNCell/Cell1/rnn/lstm_cell/bias\n",
      "2018-11-16 14:55:59.420 DEBUG in 'tensorflow'['tf_logging'] at line 100: Initialize variable module/bilm/RNN_0/RNN/MultiRNNCell/Cell1/rnn/lstm_cell/kernel:0 from checkpoint b'/home/kuznetsov/models_env/yahoo-sber-questions_elmo/models/mod_from_git/hubs/yahooo-sber-questions_epoches_n_9/variables/variables' with bilm/RNN_0/RNN/MultiRNNCell/Cell1/rnn/lstm_cell/kernel\n",
      "2018-11-16 14:55:59.426 DEBUG in 'tensorflow'['tf_logging'] at line 100: Initialize variable module/bilm/RNN_0/RNN/MultiRNNCell/Cell1/rnn/lstm_cell/projection/kernel:0 from checkpoint b'/home/kuznetsov/models_env/yahoo-sber-questions_elmo/models/mod_from_git/hubs/yahooo-sber-questions_epoches_n_9/variables/variables' with bilm/RNN_0/RNN/MultiRNNCell/Cell1/rnn/lstm_cell/projection/kernel\n",
      "2018-11-16 14:55:59.432 DEBUG in 'tensorflow'['tf_logging'] at line 100: Initialize variable module/bilm/RNN_1/RNN/MultiRNNCell/Cell0/rnn/lstm_cell/bias:0 from checkpoint b'/home/kuznetsov/models_env/yahoo-sber-questions_elmo/models/mod_from_git/hubs/yahooo-sber-questions_epoches_n_9/variables/variables' with bilm/RNN_1/RNN/MultiRNNCell/Cell0/rnn/lstm_cell/bias\n",
      "2018-11-16 14:55:59.438 DEBUG in 'tensorflow'['tf_logging'] at line 100: Initialize variable module/bilm/RNN_1/RNN/MultiRNNCell/Cell0/rnn/lstm_cell/kernel:0 from checkpoint b'/home/kuznetsov/models_env/yahoo-sber-questions_elmo/models/mod_from_git/hubs/yahooo-sber-questions_epoches_n_9/variables/variables' with bilm/RNN_1/RNN/MultiRNNCell/Cell0/rnn/lstm_cell/kernel\n",
      "2018-11-16 14:55:59.445 DEBUG in 'tensorflow'['tf_logging'] at line 100: Initialize variable module/bilm/RNN_1/RNN/MultiRNNCell/Cell0/rnn/lstm_cell/projection/kernel:0 from checkpoint b'/home/kuznetsov/models_env/yahoo-sber-questions_elmo/models/mod_from_git/hubs/yahooo-sber-questions_epoches_n_9/variables/variables' with bilm/RNN_1/RNN/MultiRNNCell/Cell0/rnn/lstm_cell/projection/kernel\n",
      "2018-11-16 14:55:59.455 DEBUG in 'tensorflow'['tf_logging'] at line 100: Initialize variable module/bilm/RNN_1/RNN/MultiRNNCell/Cell1/rnn/lstm_cell/bias:0 from checkpoint b'/home/kuznetsov/models_env/yahoo-sber-questions_elmo/models/mod_from_git/hubs/yahooo-sber-questions_epoches_n_9/variables/variables' with bilm/RNN_1/RNN/MultiRNNCell/Cell1/rnn/lstm_cell/bias\n",
      "2018-11-16 14:55:59.465 DEBUG in 'tensorflow'['tf_logging'] at line 100: Initialize variable module/bilm/RNN_1/RNN/MultiRNNCell/Cell1/rnn/lstm_cell/kernel:0 from checkpoint b'/home/kuznetsov/models_env/yahoo-sber-questions_elmo/models/mod_from_git/hubs/yahooo-sber-questions_epoches_n_9/variables/variables' with bilm/RNN_1/RNN/MultiRNNCell/Cell1/rnn/lstm_cell/kernel\n",
      "2018-11-16 14:55:59.474 DEBUG in 'tensorflow'['tf_logging'] at line 100: Initialize variable module/bilm/RNN_1/RNN/MultiRNNCell/Cell1/rnn/lstm_cell/projection/kernel:0 from checkpoint b'/home/kuznetsov/models_env/yahoo-sber-questions_elmo/models/mod_from_git/hubs/yahooo-sber-questions_epoches_n_9/variables/variables' with bilm/RNN_1/RNN/MultiRNNCell/Cell1/rnn/lstm_cell/projection/kernel\n",
      "2018-11-16 14:55:59.487 DEBUG in 'tensorflow'['tf_logging'] at line 100: Initialize variable module/bilm/Variable:0 from checkpoint b'/home/kuznetsov/models_env/yahoo-sber-questions_elmo/models/mod_from_git/hubs/yahooo-sber-questions_epoches_n_9/variables/variables' with bilm/Variable\n",
      "2018-11-16 14:55:59.497 DEBUG in 'tensorflow'['tf_logging'] at line 100: Initialize variable module/bilm/Variable_1:0 from checkpoint b'/home/kuznetsov/models_env/yahoo-sber-questions_elmo/models/mod_from_git/hubs/yahooo-sber-questions_epoches_n_9/variables/variables' with bilm/Variable_1\n",
      "2018-11-16 14:55:59.508 DEBUG in 'tensorflow'['tf_logging'] at line 100: Initialize variable module/bilm/Variable_2:0 from checkpoint b'/home/kuznetsov/models_env/yahoo-sber-questions_elmo/models/mod_from_git/hubs/yahooo-sber-questions_epoches_n_9/variables/variables' with bilm/Variable_2\n",
      "2018-11-16 14:55:59.520 DEBUG in 'tensorflow'['tf_logging'] at line 100: Initialize variable module/bilm/Variable_3:0 from checkpoint b'/home/kuznetsov/models_env/yahoo-sber-questions_elmo/models/mod_from_git/hubs/yahooo-sber-questions_epoches_n_9/variables/variables' with bilm/Variable_3\n",
      "2018-11-16 14:55:59.527 DEBUG in 'tensorflow'['tf_logging'] at line 100: Initialize variable module/bilm/Variable_4:0 from checkpoint b'/home/kuznetsov/models_env/yahoo-sber-questions_elmo/models/mod_from_git/hubs/yahooo-sber-questions_epoches_n_9/variables/variables' with bilm/Variable_4\n",
      "2018-11-16 14:55:59.534 DEBUG in 'tensorflow'['tf_logging'] at line 100: Initialize variable module/bilm/Variable_5:0 from checkpoint b'/home/kuznetsov/models_env/yahoo-sber-questions_elmo/models/mod_from_git/hubs/yahooo-sber-questions_epoches_n_9/variables/variables' with bilm/Variable_5\n",
      "2018-11-16 14:55:59.541 DEBUG in 'tensorflow'['tf_logging'] at line 100: Initialize variable module/bilm/Variable_6:0 from checkpoint b'/home/kuznetsov/models_env/yahoo-sber-questions_elmo/models/mod_from_git/hubs/yahooo-sber-questions_epoches_n_9/variables/variables' with bilm/Variable_6\n",
      "2018-11-16 14:55:59.547 DEBUG in 'tensorflow'['tf_logging'] at line 100: Initialize variable module/bilm/Variable_7:0 from checkpoint b'/home/kuznetsov/models_env/yahoo-sber-questions_elmo/models/mod_from_git/hubs/yahooo-sber-questions_epoches_n_9/variables/variables' with bilm/Variable_7\n",
      "2018-11-16 14:55:59.553 DEBUG in 'tensorflow'['tf_logging'] at line 100: Initialize variable module/bilm/char_embed:0 from checkpoint b'/home/kuznetsov/models_env/yahoo-sber-questions_elmo/models/mod_from_git/hubs/yahooo-sber-questions_epoches_n_9/variables/variables' with bilm/char_embed\n",
      "2018-11-16 14:55:59.561 DEBUG in 'tensorflow'['tf_logging'] at line 100: Initialize variable module/bilm_1/Variable:0 from checkpoint b'/home/kuznetsov/models_env/yahoo-sber-questions_elmo/models/mod_from_git/hubs/yahooo-sber-questions_epoches_n_9/variables/variables' with bilm_1/Variable\n",
      "2018-11-16 14:55:59.572 DEBUG in 'tensorflow'['tf_logging'] at line 100: Initialize variable module/bilm_1/Variable_1:0 from checkpoint b'/home/kuznetsov/models_env/yahoo-sber-questions_elmo/models/mod_from_git/hubs/yahooo-sber-questions_epoches_n_9/variables/variables' with bilm_1/Variable_1\n",
      "2018-11-16 14:55:59.581 DEBUG in 'tensorflow'['tf_logging'] at line 100: Initialize variable module/bilm_1/Variable_2:0 from checkpoint b'/home/kuznetsov/models_env/yahoo-sber-questions_elmo/models/mod_from_git/hubs/yahooo-sber-questions_epoches_n_9/variables/variables' with bilm_1/Variable_2\n",
      "2018-11-16 14:55:59.594 DEBUG in 'tensorflow'['tf_logging'] at line 100: Initialize variable module/bilm_1/Variable_3:0 from checkpoint b'/home/kuznetsov/models_env/yahoo-sber-questions_elmo/models/mod_from_git/hubs/yahooo-sber-questions_epoches_n_9/variables/variables' with bilm_1/Variable_3\n",
      "2018-11-16 14:55:59.605 DEBUG in 'tensorflow'['tf_logging'] at line 100: Initialize variable module/bilm_1/Variable_4:0 from checkpoint b'/home/kuznetsov/models_env/yahoo-sber-questions_elmo/models/mod_from_git/hubs/yahooo-sber-questions_epoches_n_9/variables/variables' with bilm_1/Variable_4\n",
      "2018-11-16 14:55:59.615 DEBUG in 'tensorflow'['tf_logging'] at line 100: Initialize variable module/bilm_1/Variable_5:0 from checkpoint b'/home/kuznetsov/models_env/yahoo-sber-questions_elmo/models/mod_from_git/hubs/yahooo-sber-questions_epoches_n_9/variables/variables' with bilm_1/Variable_5\n",
      "2018-11-16 14:55:59.625 DEBUG in 'tensorflow'['tf_logging'] at line 100: Initialize variable module/bilm_1/Variable_6:0 from checkpoint b'/home/kuznetsov/models_env/yahoo-sber-questions_elmo/models/mod_from_git/hubs/yahooo-sber-questions_epoches_n_9/variables/variables' with bilm_1/Variable_6\n"
     ]
    },
    {
     "name": "stderr",
     "output_type": "stream",
     "text": [
      "2018-11-16 14:55:59.636 DEBUG in 'tensorflow'['tf_logging'] at line 100: Initialize variable module/bilm_1/Variable_7:0 from checkpoint b'/home/kuznetsov/models_env/yahoo-sber-questions_elmo/models/mod_from_git/hubs/yahooo-sber-questions_epoches_n_9/variables/variables' with bilm_1/Variable_7\n",
      "2018-11-16 14:56:02.350 INFO in 'tensorflow'['tf_logging'] at line 115: Saver not created because there are no variables in the graph to restore\n",
      "2018-11-16 14:56:03.230 INFO in 'deeppavlov.models.classifiers.keras_classification_model'['keras_classification_model'] at line 291: [initializing `KerasClassificationModel` from saved]\n",
      "2018-11-16 14:56:04.384 INFO in 'deeppavlov.models.classifiers.keras_classification_model'['keras_classification_model'] at line 301: [loading weights from model.h5]\n",
      "2018-11-16 14:56:04.690 INFO in 'deeppavlov.models.classifiers.keras_classification_model'['keras_classification_model'] at line 135: Model was successfully initialized!\n",
      "Model summary:\n",
      "__________________________________________________________________________________________________\n",
      "Layer (type)                    Output Shape         Param #     Connected to                     \n",
      "==================================================================================================\n",
      "input_1 (InputLayer)            (None, 20, 1024)     0                                            \n",
      "__________________________________________________________________________________________________\n",
      "dropout_1 (Dropout)             (None, 20, 1024)     0           input_1[0][0]                    \n",
      "__________________________________________________________________________________________________\n",
      "bidirectional_1 (Bidirectional) [(None, 20, 512), (N 1967616     dropout_1[0][0]                  \n",
      "__________________________________________________________________________________________________\n",
      "global_max_pooling1d_1 (GlobalM (None, 512)          0           bidirectional_1[0][0]            \n",
      "__________________________________________________________________________________________________\n",
      "global_average_pooling1d_1 (Glo (None, 512)          0           bidirectional_1[0][0]            \n",
      "__________________________________________________________________________________________________\n",
      "concatenate_1 (Concatenate)     (None, 1536)         0           global_max_pooling1d_1[0][0]     \n",
      "                                                                 global_average_pooling1d_1[0][0] \n",
      "                                                                 bidirectional_1[0][1]            \n",
      "                                                                 bidirectional_1[0][2]            \n",
      "__________________________________________________________________________________________________\n",
      "dropout_2 (Dropout)             (None, 1536)         0           concatenate_1[0][0]              \n",
      "__________________________________________________________________________________________________\n",
      "dense_1 (Dense)                 (None, 100)          153700      dropout_2[0][0]                  \n",
      "__________________________________________________________________________________________________\n",
      "activation_1 (Activation)       (None, 100)          0           dense_1[0][0]                    \n",
      "__________________________________________________________________________________________________\n",
      "dropout_3 (Dropout)             (None, 100)          0           activation_1[0][0]               \n",
      "__________________________________________________________________________________________________\n",
      "dense_2 (Dense)                 (None, 2)            202         dropout_3[0][0]                  \n",
      "__________________________________________________________________________________________________\n",
      "activation_2 (Activation)       (None, 2)            0           dense_2[0][0]                    \n",
      "==================================================================================================\n",
      "Total params: 2,121,518\n",
      "Trainable params: 2,121,518\n",
      "Non-trainable params: 0\n",
      "__________________________________________________________________________________________________\n",
      "2018-11-16 14:56:04.691 INFO in 'deeppavlov.core.commands.train'['train'] at line 221: Testing the best saved model\n"
     ]
    },
    {
     "name": "stdout",
     "output_type": "stream",
     "text": [
      "{\"valid\": {\"eval_examples_count\": 403, \"metrics\": {\"roc_auc\": 0.9341, \"sets_accuracy\": 0.8586, \"f1_macro\": 0.8572}, \"time_spent\": \"0:00:08\"}}\n"
     ]
    },
    {
     "name": "stderr",
     "output_type": "stream",
     "text": [
      "2018-11-16 14:56:13.341 INFO in 'deeppavlov.core.data.simple_vocab'['simple_vocab'] at line 100: [loading vocabulary from /cephfs/home/dilyara.baymurzina/GitHub/reserve/DeepPavlov/download/YahooAnswers/models/model_v39/yahoo_answers_classes.dict]\n"
     ]
    },
    {
     "name": "stdout",
     "output_type": "stream",
     "text": [
      "{\"test\": {\"eval_examples_count\": 100, \"metrics\": {\"roc_auc\": 0.8964, \"sets_accuracy\": 0.8, \"f1_macro\": 0.7933}, \"time_spent\": \"0:00:02\"}}\n"
     ]
    },
    {
     "name": "stderr",
     "output_type": "stream",
     "text": [
      "2018-11-16 14:56:16.20 DEBUG in 'tensorflow'['tf_logging'] at line 100: Initialize variable module/aggregation/elmo_output_ELMo_W:0 from checkpoint b'/home/kuznetsov/models_env/yahoo-sber-questions_elmo/models/mod_from_git/hubs/yahooo-sber-questions_epoches_n_9/variables/variables' with aggregation/elmo_output_ELMo_W\n",
      "2018-11-16 14:56:16.26 DEBUG in 'tensorflow'['tf_logging'] at line 100: Initialize variable module/aggregation/elmo_output_ELMo_gamma:0 from checkpoint b'/home/kuznetsov/models_env/yahoo-sber-questions_elmo/models/mod_from_git/hubs/yahooo-sber-questions_epoches_n_9/variables/variables' with aggregation/elmo_output_ELMo_gamma\n",
      "2018-11-16 14:56:16.32 DEBUG in 'tensorflow'['tf_logging'] at line 100: Initialize variable module/bilm/CNN/W_cnn_0:0 from checkpoint b'/home/kuznetsov/models_env/yahoo-sber-questions_elmo/models/mod_from_git/hubs/yahooo-sber-questions_epoches_n_9/variables/variables' with bilm/CNN/W_cnn_0\n",
      "2018-11-16 14:56:16.38 DEBUG in 'tensorflow'['tf_logging'] at line 100: Initialize variable module/bilm/CNN/W_cnn_1:0 from checkpoint b'/home/kuznetsov/models_env/yahoo-sber-questions_elmo/models/mod_from_git/hubs/yahooo-sber-questions_epoches_n_9/variables/variables' with bilm/CNN/W_cnn_1\n",
      "2018-11-16 14:56:16.44 DEBUG in 'tensorflow'['tf_logging'] at line 100: Initialize variable module/bilm/CNN/W_cnn_2:0 from checkpoint b'/home/kuznetsov/models_env/yahoo-sber-questions_elmo/models/mod_from_git/hubs/yahooo-sber-questions_epoches_n_9/variables/variables' with bilm/CNN/W_cnn_2\n",
      "2018-11-16 14:56:16.50 DEBUG in 'tensorflow'['tf_logging'] at line 100: Initialize variable module/bilm/CNN/W_cnn_3:0 from checkpoint b'/home/kuznetsov/models_env/yahoo-sber-questions_elmo/models/mod_from_git/hubs/yahooo-sber-questions_epoches_n_9/variables/variables' with bilm/CNN/W_cnn_3\n",
      "2018-11-16 14:56:16.56 DEBUG in 'tensorflow'['tf_logging'] at line 100: Initialize variable module/bilm/CNN/W_cnn_4:0 from checkpoint b'/home/kuznetsov/models_env/yahoo-sber-questions_elmo/models/mod_from_git/hubs/yahooo-sber-questions_epoches_n_9/variables/variables' with bilm/CNN/W_cnn_4\n",
      "2018-11-16 14:56:16.62 DEBUG in 'tensorflow'['tf_logging'] at line 100: Initialize variable module/bilm/CNN/W_cnn_5:0 from checkpoint b'/home/kuznetsov/models_env/yahoo-sber-questions_elmo/models/mod_from_git/hubs/yahooo-sber-questions_epoches_n_9/variables/variables' with bilm/CNN/W_cnn_5\n",
      "2018-11-16 14:56:16.67 DEBUG in 'tensorflow'['tf_logging'] at line 100: Initialize variable module/bilm/CNN/W_cnn_6:0 from checkpoint b'/home/kuznetsov/models_env/yahoo-sber-questions_elmo/models/mod_from_git/hubs/yahooo-sber-questions_epoches_n_9/variables/variables' with bilm/CNN/W_cnn_6\n",
      "2018-11-16 14:56:16.76 DEBUG in 'tensorflow'['tf_logging'] at line 100: Initialize variable module/bilm/CNN/b_cnn_0:0 from checkpoint b'/home/kuznetsov/models_env/yahoo-sber-questions_elmo/models/mod_from_git/hubs/yahooo-sber-questions_epoches_n_9/variables/variables' with bilm/CNN/b_cnn_0\n",
      "2018-11-16 14:56:16.85 DEBUG in 'tensorflow'['tf_logging'] at line 100: Initialize variable module/bilm/CNN/b_cnn_1:0 from checkpoint b'/home/kuznetsov/models_env/yahoo-sber-questions_elmo/models/mod_from_git/hubs/yahooo-sber-questions_epoches_n_9/variables/variables' with bilm/CNN/b_cnn_1\n",
      "2018-11-16 14:56:16.93 DEBUG in 'tensorflow'['tf_logging'] at line 100: Initialize variable module/bilm/CNN/b_cnn_2:0 from checkpoint b'/home/kuznetsov/models_env/yahoo-sber-questions_elmo/models/mod_from_git/hubs/yahooo-sber-questions_epoches_n_9/variables/variables' with bilm/CNN/b_cnn_2\n",
      "2018-11-16 14:56:16.102 DEBUG in 'tensorflow'['tf_logging'] at line 100: Initialize variable module/bilm/CNN/b_cnn_3:0 from checkpoint b'/home/kuznetsov/models_env/yahoo-sber-questions_elmo/models/mod_from_git/hubs/yahooo-sber-questions_epoches_n_9/variables/variables' with bilm/CNN/b_cnn_3\n",
      "2018-11-16 14:56:16.112 DEBUG in 'tensorflow'['tf_logging'] at line 100: Initialize variable module/bilm/CNN/b_cnn_4:0 from checkpoint b'/home/kuznetsov/models_env/yahoo-sber-questions_elmo/models/mod_from_git/hubs/yahooo-sber-questions_epoches_n_9/variables/variables' with bilm/CNN/b_cnn_4\n",
      "2018-11-16 14:56:16.123 DEBUG in 'tensorflow'['tf_logging'] at line 100: Initialize variable module/bilm/CNN/b_cnn_5:0 from checkpoint b'/home/kuznetsov/models_env/yahoo-sber-questions_elmo/models/mod_from_git/hubs/yahooo-sber-questions_epoches_n_9/variables/variables' with bilm/CNN/b_cnn_5\n",
      "2018-11-16 14:56:16.133 DEBUG in 'tensorflow'['tf_logging'] at line 100: Initialize variable module/bilm/CNN/b_cnn_6:0 from checkpoint b'/home/kuznetsov/models_env/yahoo-sber-questions_elmo/models/mod_from_git/hubs/yahooo-sber-questions_epoches_n_9/variables/variables' with bilm/CNN/b_cnn_6\n",
      "2018-11-16 14:56:16.143 DEBUG in 'tensorflow'['tf_logging'] at line 100: Initialize variable module/bilm/CNN_high_0/W_carry:0 from checkpoint b'/home/kuznetsov/models_env/yahoo-sber-questions_elmo/models/mod_from_git/hubs/yahooo-sber-questions_epoches_n_9/variables/variables' with bilm/CNN_high_0/W_carry\n",
      "2018-11-16 14:56:16.153 DEBUG in 'tensorflow'['tf_logging'] at line 100: Initialize variable module/bilm/CNN_high_0/W_transform:0 from checkpoint b'/home/kuznetsov/models_env/yahoo-sber-questions_elmo/models/mod_from_git/hubs/yahooo-sber-questions_epoches_n_9/variables/variables' with bilm/CNN_high_0/W_transform\n",
      "2018-11-16 14:56:16.163 DEBUG in 'tensorflow'['tf_logging'] at line 100: Initialize variable module/bilm/CNN_high_0/b_carry:0 from checkpoint b'/home/kuznetsov/models_env/yahoo-sber-questions_elmo/models/mod_from_git/hubs/yahooo-sber-questions_epoches_n_9/variables/variables' with bilm/CNN_high_0/b_carry\n",
      "2018-11-16 14:56:16.175 DEBUG in 'tensorflow'['tf_logging'] at line 100: Initialize variable module/bilm/CNN_high_0/b_transform:0 from checkpoint b'/home/kuznetsov/models_env/yahoo-sber-questions_elmo/models/mod_from_git/hubs/yahooo-sber-questions_epoches_n_9/variables/variables' with bilm/CNN_high_0/b_transform\n",
      "2018-11-16 14:56:16.187 DEBUG in 'tensorflow'['tf_logging'] at line 100: Initialize variable module/bilm/CNN_high_1/W_carry:0 from checkpoint b'/home/kuznetsov/models_env/yahoo-sber-questions_elmo/models/mod_from_git/hubs/yahooo-sber-questions_epoches_n_9/variables/variables' with bilm/CNN_high_1/W_carry\n",
      "2018-11-16 14:56:16.193 DEBUG in 'tensorflow'['tf_logging'] at line 100: Initialize variable module/bilm/CNN_high_1/W_transform:0 from checkpoint b'/home/kuznetsov/models_env/yahoo-sber-questions_elmo/models/mod_from_git/hubs/yahooo-sber-questions_epoches_n_9/variables/variables' with bilm/CNN_high_1/W_transform\n",
      "2018-11-16 14:56:16.202 DEBUG in 'tensorflow'['tf_logging'] at line 100: Initialize variable module/bilm/CNN_high_1/b_carry:0 from checkpoint b'/home/kuznetsov/models_env/yahoo-sber-questions_elmo/models/mod_from_git/hubs/yahooo-sber-questions_epoches_n_9/variables/variables' with bilm/CNN_high_1/b_carry\n",
      "2018-11-16 14:56:16.212 DEBUG in 'tensorflow'['tf_logging'] at line 100: Initialize variable module/bilm/CNN_high_1/b_transform:0 from checkpoint b'/home/kuznetsov/models_env/yahoo-sber-questions_elmo/models/mod_from_git/hubs/yahooo-sber-questions_epoches_n_9/variables/variables' with bilm/CNN_high_1/b_transform\n",
      "2018-11-16 14:56:16.219 DEBUG in 'tensorflow'['tf_logging'] at line 100: Initialize variable module/bilm/CNN_proj/W_proj:0 from checkpoint b'/home/kuznetsov/models_env/yahoo-sber-questions_elmo/models/mod_from_git/hubs/yahooo-sber-questions_epoches_n_9/variables/variables' with bilm/CNN_proj/W_proj\n",
      "2018-11-16 14:56:16.227 DEBUG in 'tensorflow'['tf_logging'] at line 100: Initialize variable module/bilm/CNN_proj/b_proj:0 from checkpoint b'/home/kuznetsov/models_env/yahoo-sber-questions_elmo/models/mod_from_git/hubs/yahooo-sber-questions_epoches_n_9/variables/variables' with bilm/CNN_proj/b_proj\n",
      "2018-11-16 14:56:16.233 DEBUG in 'tensorflow'['tf_logging'] at line 100: Initialize variable module/bilm/RNN_0/RNN/MultiRNNCell/Cell0/rnn/lstm_cell/bias:0 from checkpoint b'/home/kuznetsov/models_env/yahoo-sber-questions_elmo/models/mod_from_git/hubs/yahooo-sber-questions_epoches_n_9/variables/variables' with bilm/RNN_0/RNN/MultiRNNCell/Cell0/rnn/lstm_cell/bias\n",
      "2018-11-16 14:56:16.240 DEBUG in 'tensorflow'['tf_logging'] at line 100: Initialize variable module/bilm/RNN_0/RNN/MultiRNNCell/Cell0/rnn/lstm_cell/kernel:0 from checkpoint b'/home/kuznetsov/models_env/yahoo-sber-questions_elmo/models/mod_from_git/hubs/yahooo-sber-questions_epoches_n_9/variables/variables' with bilm/RNN_0/RNN/MultiRNNCell/Cell0/rnn/lstm_cell/kernel\n"
     ]
    },
    {
     "name": "stderr",
     "output_type": "stream",
     "text": [
      "2018-11-16 14:56:16.248 DEBUG in 'tensorflow'['tf_logging'] at line 100: Initialize variable module/bilm/RNN_0/RNN/MultiRNNCell/Cell0/rnn/lstm_cell/projection/kernel:0 from checkpoint b'/home/kuznetsov/models_env/yahoo-sber-questions_elmo/models/mod_from_git/hubs/yahooo-sber-questions_epoches_n_9/variables/variables' with bilm/RNN_0/RNN/MultiRNNCell/Cell0/rnn/lstm_cell/projection/kernel\n",
      "2018-11-16 14:56:16.255 DEBUG in 'tensorflow'['tf_logging'] at line 100: Initialize variable module/bilm/RNN_0/RNN/MultiRNNCell/Cell1/rnn/lstm_cell/bias:0 from checkpoint b'/home/kuznetsov/models_env/yahoo-sber-questions_elmo/models/mod_from_git/hubs/yahooo-sber-questions_epoches_n_9/variables/variables' with bilm/RNN_0/RNN/MultiRNNCell/Cell1/rnn/lstm_cell/bias\n",
      "2018-11-16 14:56:16.262 DEBUG in 'tensorflow'['tf_logging'] at line 100: Initialize variable module/bilm/RNN_0/RNN/MultiRNNCell/Cell1/rnn/lstm_cell/kernel:0 from checkpoint b'/home/kuznetsov/models_env/yahoo-sber-questions_elmo/models/mod_from_git/hubs/yahooo-sber-questions_epoches_n_9/variables/variables' with bilm/RNN_0/RNN/MultiRNNCell/Cell1/rnn/lstm_cell/kernel\n",
      "2018-11-16 14:56:16.268 DEBUG in 'tensorflow'['tf_logging'] at line 100: Initialize variable module/bilm/RNN_0/RNN/MultiRNNCell/Cell1/rnn/lstm_cell/projection/kernel:0 from checkpoint b'/home/kuznetsov/models_env/yahoo-sber-questions_elmo/models/mod_from_git/hubs/yahooo-sber-questions_epoches_n_9/variables/variables' with bilm/RNN_0/RNN/MultiRNNCell/Cell1/rnn/lstm_cell/projection/kernel\n",
      "2018-11-16 14:56:16.274 DEBUG in 'tensorflow'['tf_logging'] at line 100: Initialize variable module/bilm/RNN_1/RNN/MultiRNNCell/Cell0/rnn/lstm_cell/bias:0 from checkpoint b'/home/kuznetsov/models_env/yahoo-sber-questions_elmo/models/mod_from_git/hubs/yahooo-sber-questions_epoches_n_9/variables/variables' with bilm/RNN_1/RNN/MultiRNNCell/Cell0/rnn/lstm_cell/bias\n",
      "2018-11-16 14:56:16.280 DEBUG in 'tensorflow'['tf_logging'] at line 100: Initialize variable module/bilm/RNN_1/RNN/MultiRNNCell/Cell0/rnn/lstm_cell/kernel:0 from checkpoint b'/home/kuznetsov/models_env/yahoo-sber-questions_elmo/models/mod_from_git/hubs/yahooo-sber-questions_epoches_n_9/variables/variables' with bilm/RNN_1/RNN/MultiRNNCell/Cell0/rnn/lstm_cell/kernel\n",
      "2018-11-16 14:56:16.287 DEBUG in 'tensorflow'['tf_logging'] at line 100: Initialize variable module/bilm/RNN_1/RNN/MultiRNNCell/Cell0/rnn/lstm_cell/projection/kernel:0 from checkpoint b'/home/kuznetsov/models_env/yahoo-sber-questions_elmo/models/mod_from_git/hubs/yahooo-sber-questions_epoches_n_9/variables/variables' with bilm/RNN_1/RNN/MultiRNNCell/Cell0/rnn/lstm_cell/projection/kernel\n",
      "2018-11-16 14:56:16.293 DEBUG in 'tensorflow'['tf_logging'] at line 100: Initialize variable module/bilm/RNN_1/RNN/MultiRNNCell/Cell1/rnn/lstm_cell/bias:0 from checkpoint b'/home/kuznetsov/models_env/yahoo-sber-questions_elmo/models/mod_from_git/hubs/yahooo-sber-questions_epoches_n_9/variables/variables' with bilm/RNN_1/RNN/MultiRNNCell/Cell1/rnn/lstm_cell/bias\n",
      "2018-11-16 14:56:16.300 DEBUG in 'tensorflow'['tf_logging'] at line 100: Initialize variable module/bilm/RNN_1/RNN/MultiRNNCell/Cell1/rnn/lstm_cell/kernel:0 from checkpoint b'/home/kuznetsov/models_env/yahoo-sber-questions_elmo/models/mod_from_git/hubs/yahooo-sber-questions_epoches_n_9/variables/variables' with bilm/RNN_1/RNN/MultiRNNCell/Cell1/rnn/lstm_cell/kernel\n",
      "2018-11-16 14:56:16.312 DEBUG in 'tensorflow'['tf_logging'] at line 100: Initialize variable module/bilm/RNN_1/RNN/MultiRNNCell/Cell1/rnn/lstm_cell/projection/kernel:0 from checkpoint b'/home/kuznetsov/models_env/yahoo-sber-questions_elmo/models/mod_from_git/hubs/yahooo-sber-questions_epoches_n_9/variables/variables' with bilm/RNN_1/RNN/MultiRNNCell/Cell1/rnn/lstm_cell/projection/kernel\n",
      "2018-11-16 14:56:16.323 DEBUG in 'tensorflow'['tf_logging'] at line 100: Initialize variable module/bilm/Variable:0 from checkpoint b'/home/kuznetsov/models_env/yahoo-sber-questions_elmo/models/mod_from_git/hubs/yahooo-sber-questions_epoches_n_9/variables/variables' with bilm/Variable\n",
      "2018-11-16 14:56:16.330 DEBUG in 'tensorflow'['tf_logging'] at line 100: Initialize variable module/bilm/Variable_1:0 from checkpoint b'/home/kuznetsov/models_env/yahoo-sber-questions_elmo/models/mod_from_git/hubs/yahooo-sber-questions_epoches_n_9/variables/variables' with bilm/Variable_1\n",
      "2018-11-16 14:56:16.336 DEBUG in 'tensorflow'['tf_logging'] at line 100: Initialize variable module/bilm/Variable_2:0 from checkpoint b'/home/kuznetsov/models_env/yahoo-sber-questions_elmo/models/mod_from_git/hubs/yahooo-sber-questions_epoches_n_9/variables/variables' with bilm/Variable_2\n",
      "2018-11-16 14:56:16.346 DEBUG in 'tensorflow'['tf_logging'] at line 100: Initialize variable module/bilm/Variable_3:0 from checkpoint b'/home/kuznetsov/models_env/yahoo-sber-questions_elmo/models/mod_from_git/hubs/yahooo-sber-questions_epoches_n_9/variables/variables' with bilm/Variable_3\n",
      "2018-11-16 14:56:16.356 DEBUG in 'tensorflow'['tf_logging'] at line 100: Initialize variable module/bilm/Variable_4:0 from checkpoint b'/home/kuznetsov/models_env/yahoo-sber-questions_elmo/models/mod_from_git/hubs/yahooo-sber-questions_epoches_n_9/variables/variables' with bilm/Variable_4\n",
      "2018-11-16 14:56:16.365 DEBUG in 'tensorflow'['tf_logging'] at line 100: Initialize variable module/bilm/Variable_5:0 from checkpoint b'/home/kuznetsov/models_env/yahoo-sber-questions_elmo/models/mod_from_git/hubs/yahooo-sber-questions_epoches_n_9/variables/variables' with bilm/Variable_5\n",
      "2018-11-16 14:56:16.377 DEBUG in 'tensorflow'['tf_logging'] at line 100: Initialize variable module/bilm/Variable_6:0 from checkpoint b'/home/kuznetsov/models_env/yahoo-sber-questions_elmo/models/mod_from_git/hubs/yahooo-sber-questions_epoches_n_9/variables/variables' with bilm/Variable_6\n",
      "2018-11-16 14:56:16.389 DEBUG in 'tensorflow'['tf_logging'] at line 100: Initialize variable module/bilm/Variable_7:0 from checkpoint b'/home/kuznetsov/models_env/yahoo-sber-questions_elmo/models/mod_from_git/hubs/yahooo-sber-questions_epoches_n_9/variables/variables' with bilm/Variable_7\n",
      "2018-11-16 14:56:16.399 DEBUG in 'tensorflow'['tf_logging'] at line 100: Initialize variable module/bilm/char_embed:0 from checkpoint b'/home/kuznetsov/models_env/yahoo-sber-questions_elmo/models/mod_from_git/hubs/yahooo-sber-questions_epoches_n_9/variables/variables' with bilm/char_embed\n",
      "2018-11-16 14:56:16.409 DEBUG in 'tensorflow'['tf_logging'] at line 100: Initialize variable module/bilm_1/Variable:0 from checkpoint b'/home/kuznetsov/models_env/yahoo-sber-questions_elmo/models/mod_from_git/hubs/yahooo-sber-questions_epoches_n_9/variables/variables' with bilm_1/Variable\n",
      "2018-11-16 14:56:16.418 DEBUG in 'tensorflow'['tf_logging'] at line 100: Initialize variable module/bilm_1/Variable_1:0 from checkpoint b'/home/kuznetsov/models_env/yahoo-sber-questions_elmo/models/mod_from_git/hubs/yahooo-sber-questions_epoches_n_9/variables/variables' with bilm_1/Variable_1\n",
      "2018-11-16 14:56:16.436 DEBUG in 'tensorflow'['tf_logging'] at line 100: Initialize variable module/bilm_1/Variable_2:0 from checkpoint b'/home/kuznetsov/models_env/yahoo-sber-questions_elmo/models/mod_from_git/hubs/yahooo-sber-questions_epoches_n_9/variables/variables' with bilm_1/Variable_2\n",
      "2018-11-16 14:56:16.446 DEBUG in 'tensorflow'['tf_logging'] at line 100: Initialize variable module/bilm_1/Variable_3:0 from checkpoint b'/home/kuznetsov/models_env/yahoo-sber-questions_elmo/models/mod_from_git/hubs/yahooo-sber-questions_epoches_n_9/variables/variables' with bilm_1/Variable_3\n",
      "2018-11-16 14:56:16.456 DEBUG in 'tensorflow'['tf_logging'] at line 100: Initialize variable module/bilm_1/Variable_4:0 from checkpoint b'/home/kuznetsov/models_env/yahoo-sber-questions_elmo/models/mod_from_git/hubs/yahooo-sber-questions_epoches_n_9/variables/variables' with bilm_1/Variable_4\n",
      "2018-11-16 14:56:16.468 DEBUG in 'tensorflow'['tf_logging'] at line 100: Initialize variable module/bilm_1/Variable_5:0 from checkpoint b'/home/kuznetsov/models_env/yahoo-sber-questions_elmo/models/mod_from_git/hubs/yahooo-sber-questions_epoches_n_9/variables/variables' with bilm_1/Variable_5\n",
      "2018-11-16 14:56:16.482 DEBUG in 'tensorflow'['tf_logging'] at line 100: Initialize variable module/bilm_1/Variable_6:0 from checkpoint b'/home/kuznetsov/models_env/yahoo-sber-questions_elmo/models/mod_from_git/hubs/yahooo-sber-questions_epoches_n_9/variables/variables' with bilm_1/Variable_6\n"
     ]
    },
    {
     "name": "stderr",
     "output_type": "stream",
     "text": [
      "2018-11-16 14:56:16.492 DEBUG in 'tensorflow'['tf_logging'] at line 100: Initialize variable module/bilm_1/Variable_7:0 from checkpoint b'/home/kuznetsov/models_env/yahoo-sber-questions_elmo/models/mod_from_git/hubs/yahooo-sber-questions_epoches_n_9/variables/variables' with bilm_1/Variable_7\n",
      "2018-11-16 14:56:18.445 INFO in 'tensorflow'['tf_logging'] at line 115: Saver not created because there are no variables in the graph to restore\n",
      "2018-11-16 14:56:19.194 INFO in 'deeppavlov.models.classifiers.keras_classification_model'['keras_classification_model'] at line 291: [initializing `KerasClassificationModel` from saved]\n",
      "2018-11-16 14:56:23.86 INFO in 'deeppavlov.models.classifiers.keras_classification_model'['keras_classification_model'] at line 301: [loading weights from model.h5]\n",
      "2018-11-16 14:56:23.681 INFO in 'deeppavlov.models.classifiers.keras_classification_model'['keras_classification_model'] at line 135: Model was successfully initialized!\n",
      "Model summary:\n",
      "__________________________________________________________________________________________________\n",
      "Layer (type)                    Output Shape         Param #     Connected to                     \n",
      "==================================================================================================\n",
      "input_1 (InputLayer)            (None, 20, 1024)     0                                            \n",
      "__________________________________________________________________________________________________\n",
      "dropout_1 (Dropout)             (None, 20, 1024)     0           input_1[0][0]                    \n",
      "__________________________________________________________________________________________________\n",
      "bidirectional_1 (Bidirectional) [(None, 20, 512), (N 1967616     dropout_1[0][0]                  \n",
      "__________________________________________________________________________________________________\n",
      "global_max_pooling1d_1 (GlobalM (None, 512)          0           bidirectional_1[0][0]            \n",
      "__________________________________________________________________________________________________\n",
      "global_average_pooling1d_1 (Glo (None, 512)          0           bidirectional_1[0][0]            \n",
      "__________________________________________________________________________________________________\n",
      "concatenate_1 (Concatenate)     (None, 1536)         0           global_max_pooling1d_1[0][0]     \n",
      "                                                                 global_average_pooling1d_1[0][0] \n",
      "                                                                 bidirectional_1[0][1]            \n",
      "                                                                 bidirectional_1[0][2]            \n",
      "__________________________________________________________________________________________________\n",
      "dropout_2 (Dropout)             (None, 1536)         0           concatenate_1[0][0]              \n",
      "__________________________________________________________________________________________________\n",
      "dense_1 (Dense)                 (None, 100)          153700      dropout_2[0][0]                  \n",
      "__________________________________________________________________________________________________\n",
      "activation_1 (Activation)       (None, 100)          0           dense_1[0][0]                    \n",
      "__________________________________________________________________________________________________\n",
      "dropout_3 (Dropout)             (None, 100)          0           activation_1[0][0]               \n",
      "__________________________________________________________________________________________________\n",
      "dense_2 (Dense)                 (None, 2)            202         dropout_3[0][0]                  \n",
      "__________________________________________________________________________________________________\n",
      "activation_2 (Activation)       (None, 2)            0           dense_2[0][0]                    \n",
      "==================================================================================================\n",
      "Total params: 2,121,518\n",
      "Trainable params: 2,121,518\n",
      "Non-trainable params: 0\n",
      "__________________________________________________________________________________________________\n",
      "2018-11-16 14:56:23.683 INFO in 'deeppavlov.core.data.simple_vocab'['simple_vocab'] at line 100: [loading vocabulary from /cephfs/home/dilyara.baymurzina/GitHub/reserve/DeepPavlov/download/YahooAnswers/models/model_v39/yahoo_answers_classes.dict]\n"
     ]
    },
    {
     "name": "stdout",
     "output_type": "stream",
     "text": [
      "Iteration 5: add 1170 samples to train dataset\n"
     ]
    },
    {
     "name": "stderr",
     "output_type": "stream",
     "text": [
      "2018-11-16 15:01:34.856 INFO in 'deeppavlov.core.data.simple_vocab'['simple_vocab'] at line 100: [loading vocabulary from /cephfs/home/dilyara.baymurzina/GitHub/reserve/DeepPavlov/download/YahooAnswers/models/model_v39/yahoo_answers_classes.dict]\n",
      "2018-11-16 15:01:34.878 INFO in 'deeppavlov.core.data.simple_vocab'['simple_vocab'] at line 89: [saving vocabulary to /cephfs/home/dilyara.baymurzina/GitHub/reserve/DeepPavlov/download/YahooAnswers/models/model_v39/yahoo_answers_classes.dict]\n",
      "2018-11-16 15:01:37.734 DEBUG in 'tensorflow'['tf_logging'] at line 100: Initialize variable module/aggregation/elmo_output_ELMo_W:0 from checkpoint b'/home/kuznetsov/models_env/yahoo-sber-questions_elmo/models/mod_from_git/hubs/yahooo-sber-questions_epoches_n_9/variables/variables' with aggregation/elmo_output_ELMo_W\n",
      "2018-11-16 15:01:37.740 DEBUG in 'tensorflow'['tf_logging'] at line 100: Initialize variable module/aggregation/elmo_output_ELMo_gamma:0 from checkpoint b'/home/kuznetsov/models_env/yahoo-sber-questions_elmo/models/mod_from_git/hubs/yahooo-sber-questions_epoches_n_9/variables/variables' with aggregation/elmo_output_ELMo_gamma\n",
      "2018-11-16 15:01:37.747 DEBUG in 'tensorflow'['tf_logging'] at line 100: Initialize variable module/bilm/CNN/W_cnn_0:0 from checkpoint b'/home/kuznetsov/models_env/yahoo-sber-questions_elmo/models/mod_from_git/hubs/yahooo-sber-questions_epoches_n_9/variables/variables' with bilm/CNN/W_cnn_0\n",
      "2018-11-16 15:01:37.756 DEBUG in 'tensorflow'['tf_logging'] at line 100: Initialize variable module/bilm/CNN/W_cnn_1:0 from checkpoint b'/home/kuznetsov/models_env/yahoo-sber-questions_elmo/models/mod_from_git/hubs/yahooo-sber-questions_epoches_n_9/variables/variables' with bilm/CNN/W_cnn_1\n",
      "2018-11-16 15:01:37.770 DEBUG in 'tensorflow'['tf_logging'] at line 100: Initialize variable module/bilm/CNN/W_cnn_2:0 from checkpoint b'/home/kuznetsov/models_env/yahoo-sber-questions_elmo/models/mod_from_git/hubs/yahooo-sber-questions_epoches_n_9/variables/variables' with bilm/CNN/W_cnn_2\n",
      "2018-11-16 15:01:37.780 DEBUG in 'tensorflow'['tf_logging'] at line 100: Initialize variable module/bilm/CNN/W_cnn_3:0 from checkpoint b'/home/kuznetsov/models_env/yahoo-sber-questions_elmo/models/mod_from_git/hubs/yahooo-sber-questions_epoches_n_9/variables/variables' with bilm/CNN/W_cnn_3\n",
      "2018-11-16 15:01:37.790 DEBUG in 'tensorflow'['tf_logging'] at line 100: Initialize variable module/bilm/CNN/W_cnn_4:0 from checkpoint b'/home/kuznetsov/models_env/yahoo-sber-questions_elmo/models/mod_from_git/hubs/yahooo-sber-questions_epoches_n_9/variables/variables' with bilm/CNN/W_cnn_4\n",
      "2018-11-16 15:01:37.800 DEBUG in 'tensorflow'['tf_logging'] at line 100: Initialize variable module/bilm/CNN/W_cnn_5:0 from checkpoint b'/home/kuznetsov/models_env/yahoo-sber-questions_elmo/models/mod_from_git/hubs/yahooo-sber-questions_epoches_n_9/variables/variables' with bilm/CNN/W_cnn_5\n",
      "2018-11-16 15:01:37.810 DEBUG in 'tensorflow'['tf_logging'] at line 100: Initialize variable module/bilm/CNN/W_cnn_6:0 from checkpoint b'/home/kuznetsov/models_env/yahoo-sber-questions_elmo/models/mod_from_git/hubs/yahooo-sber-questions_epoches_n_9/variables/variables' with bilm/CNN/W_cnn_6\n",
      "2018-11-16 15:01:37.820 DEBUG in 'tensorflow'['tf_logging'] at line 100: Initialize variable module/bilm/CNN/b_cnn_0:0 from checkpoint b'/home/kuznetsov/models_env/yahoo-sber-questions_elmo/models/mod_from_git/hubs/yahooo-sber-questions_epoches_n_9/variables/variables' with bilm/CNN/b_cnn_0\n",
      "2018-11-16 15:01:37.829 DEBUG in 'tensorflow'['tf_logging'] at line 100: Initialize variable module/bilm/CNN/b_cnn_1:0 from checkpoint b'/home/kuznetsov/models_env/yahoo-sber-questions_elmo/models/mod_from_git/hubs/yahooo-sber-questions_epoches_n_9/variables/variables' with bilm/CNN/b_cnn_1\n",
      "2018-11-16 15:01:37.839 DEBUG in 'tensorflow'['tf_logging'] at line 100: Initialize variable module/bilm/CNN/b_cnn_2:0 from checkpoint b'/home/kuznetsov/models_env/yahoo-sber-questions_elmo/models/mod_from_git/hubs/yahooo-sber-questions_epoches_n_9/variables/variables' with bilm/CNN/b_cnn_2\n",
      "2018-11-16 15:01:37.848 DEBUG in 'tensorflow'['tf_logging'] at line 100: Initialize variable module/bilm/CNN/b_cnn_3:0 from checkpoint b'/home/kuznetsov/models_env/yahoo-sber-questions_elmo/models/mod_from_git/hubs/yahooo-sber-questions_epoches_n_9/variables/variables' with bilm/CNN/b_cnn_3\n",
      "2018-11-16 15:01:37.858 DEBUG in 'tensorflow'['tf_logging'] at line 100: Initialize variable module/bilm/CNN/b_cnn_4:0 from checkpoint b'/home/kuznetsov/models_env/yahoo-sber-questions_elmo/models/mod_from_git/hubs/yahooo-sber-questions_epoches_n_9/variables/variables' with bilm/CNN/b_cnn_4\n",
      "2018-11-16 15:01:37.867 DEBUG in 'tensorflow'['tf_logging'] at line 100: Initialize variable module/bilm/CNN/b_cnn_5:0 from checkpoint b'/home/kuznetsov/models_env/yahoo-sber-questions_elmo/models/mod_from_git/hubs/yahooo-sber-questions_epoches_n_9/variables/variables' with bilm/CNN/b_cnn_5\n",
      "2018-11-16 15:01:37.875 DEBUG in 'tensorflow'['tf_logging'] at line 100: Initialize variable module/bilm/CNN/b_cnn_6:0 from checkpoint b'/home/kuznetsov/models_env/yahoo-sber-questions_elmo/models/mod_from_git/hubs/yahooo-sber-questions_epoches_n_9/variables/variables' with bilm/CNN/b_cnn_6\n",
      "2018-11-16 15:01:37.883 DEBUG in 'tensorflow'['tf_logging'] at line 100: Initialize variable module/bilm/CNN_high_0/W_carry:0 from checkpoint b'/home/kuznetsov/models_env/yahoo-sber-questions_elmo/models/mod_from_git/hubs/yahooo-sber-questions_epoches_n_9/variables/variables' with bilm/CNN_high_0/W_carry\n",
      "2018-11-16 15:01:37.890 DEBUG in 'tensorflow'['tf_logging'] at line 100: Initialize variable module/bilm/CNN_high_0/W_transform:0 from checkpoint b'/home/kuznetsov/models_env/yahoo-sber-questions_elmo/models/mod_from_git/hubs/yahooo-sber-questions_epoches_n_9/variables/variables' with bilm/CNN_high_0/W_transform\n",
      "2018-11-16 15:01:37.897 DEBUG in 'tensorflow'['tf_logging'] at line 100: Initialize variable module/bilm/CNN_high_0/b_carry:0 from checkpoint b'/home/kuznetsov/models_env/yahoo-sber-questions_elmo/models/mod_from_git/hubs/yahooo-sber-questions_epoches_n_9/variables/variables' with bilm/CNN_high_0/b_carry\n",
      "2018-11-16 15:01:37.905 DEBUG in 'tensorflow'['tf_logging'] at line 100: Initialize variable module/bilm/CNN_high_0/b_transform:0 from checkpoint b'/home/kuznetsov/models_env/yahoo-sber-questions_elmo/models/mod_from_git/hubs/yahooo-sber-questions_epoches_n_9/variables/variables' with bilm/CNN_high_0/b_transform\n",
      "2018-11-16 15:01:37.913 DEBUG in 'tensorflow'['tf_logging'] at line 100: Initialize variable module/bilm/CNN_high_1/W_carry:0 from checkpoint b'/home/kuznetsov/models_env/yahoo-sber-questions_elmo/models/mod_from_git/hubs/yahooo-sber-questions_epoches_n_9/variables/variables' with bilm/CNN_high_1/W_carry\n",
      "2018-11-16 15:01:37.922 DEBUG in 'tensorflow'['tf_logging'] at line 100: Initialize variable module/bilm/CNN_high_1/W_transform:0 from checkpoint b'/home/kuznetsov/models_env/yahoo-sber-questions_elmo/models/mod_from_git/hubs/yahooo-sber-questions_epoches_n_9/variables/variables' with bilm/CNN_high_1/W_transform\n",
      "2018-11-16 15:01:37.931 DEBUG in 'tensorflow'['tf_logging'] at line 100: Initialize variable module/bilm/CNN_high_1/b_carry:0 from checkpoint b'/home/kuznetsov/models_env/yahoo-sber-questions_elmo/models/mod_from_git/hubs/yahooo-sber-questions_epoches_n_9/variables/variables' with bilm/CNN_high_1/b_carry\n",
      "2018-11-16 15:01:37.938 DEBUG in 'tensorflow'['tf_logging'] at line 100: Initialize variable module/bilm/CNN_high_1/b_transform:0 from checkpoint b'/home/kuznetsov/models_env/yahoo-sber-questions_elmo/models/mod_from_git/hubs/yahooo-sber-questions_epoches_n_9/variables/variables' with bilm/CNN_high_1/b_transform\n",
      "2018-11-16 15:01:37.944 DEBUG in 'tensorflow'['tf_logging'] at line 100: Initialize variable module/bilm/CNN_proj/W_proj:0 from checkpoint b'/home/kuznetsov/models_env/yahoo-sber-questions_elmo/models/mod_from_git/hubs/yahooo-sber-questions_epoches_n_9/variables/variables' with bilm/CNN_proj/W_proj\n",
      "2018-11-16 15:01:37.950 DEBUG in 'tensorflow'['tf_logging'] at line 100: Initialize variable module/bilm/CNN_proj/b_proj:0 from checkpoint b'/home/kuznetsov/models_env/yahoo-sber-questions_elmo/models/mod_from_git/hubs/yahooo-sber-questions_epoches_n_9/variables/variables' with bilm/CNN_proj/b_proj\n"
     ]
    },
    {
     "name": "stderr",
     "output_type": "stream",
     "text": [
      "2018-11-16 15:01:37.955 DEBUG in 'tensorflow'['tf_logging'] at line 100: Initialize variable module/bilm/RNN_0/RNN/MultiRNNCell/Cell0/rnn/lstm_cell/bias:0 from checkpoint b'/home/kuznetsov/models_env/yahoo-sber-questions_elmo/models/mod_from_git/hubs/yahooo-sber-questions_epoches_n_9/variables/variables' with bilm/RNN_0/RNN/MultiRNNCell/Cell0/rnn/lstm_cell/bias\n",
      "2018-11-16 15:01:37.963 DEBUG in 'tensorflow'['tf_logging'] at line 100: Initialize variable module/bilm/RNN_0/RNN/MultiRNNCell/Cell0/rnn/lstm_cell/kernel:0 from checkpoint b'/home/kuznetsov/models_env/yahoo-sber-questions_elmo/models/mod_from_git/hubs/yahooo-sber-questions_epoches_n_9/variables/variables' with bilm/RNN_0/RNN/MultiRNNCell/Cell0/rnn/lstm_cell/kernel\n",
      "2018-11-16 15:01:37.968 DEBUG in 'tensorflow'['tf_logging'] at line 100: Initialize variable module/bilm/RNN_0/RNN/MultiRNNCell/Cell0/rnn/lstm_cell/projection/kernel:0 from checkpoint b'/home/kuznetsov/models_env/yahoo-sber-questions_elmo/models/mod_from_git/hubs/yahooo-sber-questions_epoches_n_9/variables/variables' with bilm/RNN_0/RNN/MultiRNNCell/Cell0/rnn/lstm_cell/projection/kernel\n",
      "2018-11-16 15:01:37.977 DEBUG in 'tensorflow'['tf_logging'] at line 100: Initialize variable module/bilm/RNN_0/RNN/MultiRNNCell/Cell1/rnn/lstm_cell/bias:0 from checkpoint b'/home/kuznetsov/models_env/yahoo-sber-questions_elmo/models/mod_from_git/hubs/yahooo-sber-questions_epoches_n_9/variables/variables' with bilm/RNN_0/RNN/MultiRNNCell/Cell1/rnn/lstm_cell/bias\n",
      "2018-11-16 15:01:37.986 DEBUG in 'tensorflow'['tf_logging'] at line 100: Initialize variable module/bilm/RNN_0/RNN/MultiRNNCell/Cell1/rnn/lstm_cell/kernel:0 from checkpoint b'/home/kuznetsov/models_env/yahoo-sber-questions_elmo/models/mod_from_git/hubs/yahooo-sber-questions_epoches_n_9/variables/variables' with bilm/RNN_0/RNN/MultiRNNCell/Cell1/rnn/lstm_cell/kernel\n",
      "2018-11-16 15:01:37.995 DEBUG in 'tensorflow'['tf_logging'] at line 100: Initialize variable module/bilm/RNN_0/RNN/MultiRNNCell/Cell1/rnn/lstm_cell/projection/kernel:0 from checkpoint b'/home/kuznetsov/models_env/yahoo-sber-questions_elmo/models/mod_from_git/hubs/yahooo-sber-questions_epoches_n_9/variables/variables' with bilm/RNN_0/RNN/MultiRNNCell/Cell1/rnn/lstm_cell/projection/kernel\n",
      "2018-11-16 15:01:38.4 DEBUG in 'tensorflow'['tf_logging'] at line 100: Initialize variable module/bilm/RNN_1/RNN/MultiRNNCell/Cell0/rnn/lstm_cell/bias:0 from checkpoint b'/home/kuznetsov/models_env/yahoo-sber-questions_elmo/models/mod_from_git/hubs/yahooo-sber-questions_epoches_n_9/variables/variables' with bilm/RNN_1/RNN/MultiRNNCell/Cell0/rnn/lstm_cell/bias\n",
      "2018-11-16 15:01:38.13 DEBUG in 'tensorflow'['tf_logging'] at line 100: Initialize variable module/bilm/RNN_1/RNN/MultiRNNCell/Cell0/rnn/lstm_cell/kernel:0 from checkpoint b'/home/kuznetsov/models_env/yahoo-sber-questions_elmo/models/mod_from_git/hubs/yahooo-sber-questions_epoches_n_9/variables/variables' with bilm/RNN_1/RNN/MultiRNNCell/Cell0/rnn/lstm_cell/kernel\n",
      "2018-11-16 15:01:38.21 DEBUG in 'tensorflow'['tf_logging'] at line 100: Initialize variable module/bilm/RNN_1/RNN/MultiRNNCell/Cell0/rnn/lstm_cell/projection/kernel:0 from checkpoint b'/home/kuznetsov/models_env/yahoo-sber-questions_elmo/models/mod_from_git/hubs/yahooo-sber-questions_epoches_n_9/variables/variables' with bilm/RNN_1/RNN/MultiRNNCell/Cell0/rnn/lstm_cell/projection/kernel\n",
      "2018-11-16 15:01:38.29 DEBUG in 'tensorflow'['tf_logging'] at line 100: Initialize variable module/bilm/RNN_1/RNN/MultiRNNCell/Cell1/rnn/lstm_cell/bias:0 from checkpoint b'/home/kuznetsov/models_env/yahoo-sber-questions_elmo/models/mod_from_git/hubs/yahooo-sber-questions_epoches_n_9/variables/variables' with bilm/RNN_1/RNN/MultiRNNCell/Cell1/rnn/lstm_cell/bias\n",
      "2018-11-16 15:01:38.38 DEBUG in 'tensorflow'['tf_logging'] at line 100: Initialize variable module/bilm/RNN_1/RNN/MultiRNNCell/Cell1/rnn/lstm_cell/kernel:0 from checkpoint b'/home/kuznetsov/models_env/yahoo-sber-questions_elmo/models/mod_from_git/hubs/yahooo-sber-questions_epoches_n_9/variables/variables' with bilm/RNN_1/RNN/MultiRNNCell/Cell1/rnn/lstm_cell/kernel\n",
      "2018-11-16 15:01:38.47 DEBUG in 'tensorflow'['tf_logging'] at line 100: Initialize variable module/bilm/RNN_1/RNN/MultiRNNCell/Cell1/rnn/lstm_cell/projection/kernel:0 from checkpoint b'/home/kuznetsov/models_env/yahoo-sber-questions_elmo/models/mod_from_git/hubs/yahooo-sber-questions_epoches_n_9/variables/variables' with bilm/RNN_1/RNN/MultiRNNCell/Cell1/rnn/lstm_cell/projection/kernel\n",
      "2018-11-16 15:01:38.57 DEBUG in 'tensorflow'['tf_logging'] at line 100: Initialize variable module/bilm/Variable:0 from checkpoint b'/home/kuznetsov/models_env/yahoo-sber-questions_elmo/models/mod_from_git/hubs/yahooo-sber-questions_epoches_n_9/variables/variables' with bilm/Variable\n",
      "2018-11-16 15:01:38.66 DEBUG in 'tensorflow'['tf_logging'] at line 100: Initialize variable module/bilm/Variable_1:0 from checkpoint b'/home/kuznetsov/models_env/yahoo-sber-questions_elmo/models/mod_from_git/hubs/yahooo-sber-questions_epoches_n_9/variables/variables' with bilm/Variable_1\n",
      "2018-11-16 15:01:38.75 DEBUG in 'tensorflow'['tf_logging'] at line 100: Initialize variable module/bilm/Variable_2:0 from checkpoint b'/home/kuznetsov/models_env/yahoo-sber-questions_elmo/models/mod_from_git/hubs/yahooo-sber-questions_epoches_n_9/variables/variables' with bilm/Variable_2\n",
      "2018-11-16 15:01:38.86 DEBUG in 'tensorflow'['tf_logging'] at line 100: Initialize variable module/bilm/Variable_3:0 from checkpoint b'/home/kuznetsov/models_env/yahoo-sber-questions_elmo/models/mod_from_git/hubs/yahooo-sber-questions_epoches_n_9/variables/variables' with bilm/Variable_3\n",
      "2018-11-16 15:01:38.96 DEBUG in 'tensorflow'['tf_logging'] at line 100: Initialize variable module/bilm/Variable_4:0 from checkpoint b'/home/kuznetsov/models_env/yahoo-sber-questions_elmo/models/mod_from_git/hubs/yahooo-sber-questions_epoches_n_9/variables/variables' with bilm/Variable_4\n",
      "2018-11-16 15:01:38.106 DEBUG in 'tensorflow'['tf_logging'] at line 100: Initialize variable module/bilm/Variable_5:0 from checkpoint b'/home/kuznetsov/models_env/yahoo-sber-questions_elmo/models/mod_from_git/hubs/yahooo-sber-questions_epoches_n_9/variables/variables' with bilm/Variable_5\n",
      "2018-11-16 15:01:38.116 DEBUG in 'tensorflow'['tf_logging'] at line 100: Initialize variable module/bilm/Variable_6:0 from checkpoint b'/home/kuznetsov/models_env/yahoo-sber-questions_elmo/models/mod_from_git/hubs/yahooo-sber-questions_epoches_n_9/variables/variables' with bilm/Variable_6\n",
      "2018-11-16 15:01:38.125 DEBUG in 'tensorflow'['tf_logging'] at line 100: Initialize variable module/bilm/Variable_7:0 from checkpoint b'/home/kuznetsov/models_env/yahoo-sber-questions_elmo/models/mod_from_git/hubs/yahooo-sber-questions_epoches_n_9/variables/variables' with bilm/Variable_7\n",
      "2018-11-16 15:01:38.135 DEBUG in 'tensorflow'['tf_logging'] at line 100: Initialize variable module/bilm/char_embed:0 from checkpoint b'/home/kuznetsov/models_env/yahoo-sber-questions_elmo/models/mod_from_git/hubs/yahooo-sber-questions_epoches_n_9/variables/variables' with bilm/char_embed\n",
      "2018-11-16 15:01:38.143 DEBUG in 'tensorflow'['tf_logging'] at line 100: Initialize variable module/bilm_1/Variable:0 from checkpoint b'/home/kuznetsov/models_env/yahoo-sber-questions_elmo/models/mod_from_git/hubs/yahooo-sber-questions_epoches_n_9/variables/variables' with bilm_1/Variable\n",
      "2018-11-16 15:01:38.153 DEBUG in 'tensorflow'['tf_logging'] at line 100: Initialize variable module/bilm_1/Variable_1:0 from checkpoint b'/home/kuznetsov/models_env/yahoo-sber-questions_elmo/models/mod_from_git/hubs/yahooo-sber-questions_epoches_n_9/variables/variables' with bilm_1/Variable_1\n",
      "2018-11-16 15:01:38.163 DEBUG in 'tensorflow'['tf_logging'] at line 100: Initialize variable module/bilm_1/Variable_2:0 from checkpoint b'/home/kuznetsov/models_env/yahoo-sber-questions_elmo/models/mod_from_git/hubs/yahooo-sber-questions_epoches_n_9/variables/variables' with bilm_1/Variable_2\n",
      "2018-11-16 15:01:38.172 DEBUG in 'tensorflow'['tf_logging'] at line 100: Initialize variable module/bilm_1/Variable_3:0 from checkpoint b'/home/kuznetsov/models_env/yahoo-sber-questions_elmo/models/mod_from_git/hubs/yahooo-sber-questions_epoches_n_9/variables/variables' with bilm_1/Variable_3\n"
     ]
    },
    {
     "name": "stderr",
     "output_type": "stream",
     "text": [
      "2018-11-16 15:01:38.181 DEBUG in 'tensorflow'['tf_logging'] at line 100: Initialize variable module/bilm_1/Variable_4:0 from checkpoint b'/home/kuznetsov/models_env/yahoo-sber-questions_elmo/models/mod_from_git/hubs/yahooo-sber-questions_epoches_n_9/variables/variables' with bilm_1/Variable_4\n",
      "2018-11-16 15:01:38.190 DEBUG in 'tensorflow'['tf_logging'] at line 100: Initialize variable module/bilm_1/Variable_5:0 from checkpoint b'/home/kuznetsov/models_env/yahoo-sber-questions_elmo/models/mod_from_git/hubs/yahooo-sber-questions_epoches_n_9/variables/variables' with bilm_1/Variable_5\n",
      "2018-11-16 15:01:38.199 DEBUG in 'tensorflow'['tf_logging'] at line 100: Initialize variable module/bilm_1/Variable_6:0 from checkpoint b'/home/kuznetsov/models_env/yahoo-sber-questions_elmo/models/mod_from_git/hubs/yahooo-sber-questions_epoches_n_9/variables/variables' with bilm_1/Variable_6\n",
      "2018-11-16 15:01:38.210 DEBUG in 'tensorflow'['tf_logging'] at line 100: Initialize variable module/bilm_1/Variable_7:0 from checkpoint b'/home/kuznetsov/models_env/yahoo-sber-questions_elmo/models/mod_from_git/hubs/yahooo-sber-questions_epoches_n_9/variables/variables' with bilm_1/Variable_7\n",
      "2018-11-16 15:01:41.454 INFO in 'tensorflow'['tf_logging'] at line 115: Saver not created because there are no variables in the graph to restore\n",
      "2018-11-16 15:01:42.645 INFO in 'deeppavlov.models.classifiers.keras_classification_model'['keras_classification_model'] at line 291: [initializing `KerasClassificationModel` from saved]\n",
      "2018-11-16 15:01:44.237 INFO in 'deeppavlov.models.classifiers.keras_classification_model'['keras_classification_model'] at line 301: [loading weights from model.h5]\n",
      "2018-11-16 15:01:44.515 INFO in 'deeppavlov.models.classifiers.keras_classification_model'['keras_classification_model'] at line 135: Model was successfully initialized!\n",
      "Model summary:\n",
      "__________________________________________________________________________________________________\n",
      "Layer (type)                    Output Shape         Param #     Connected to                     \n",
      "==================================================================================================\n",
      "input_1 (InputLayer)            (None, 20, 1024)     0                                            \n",
      "__________________________________________________________________________________________________\n",
      "dropout_1 (Dropout)             (None, 20, 1024)     0           input_1[0][0]                    \n",
      "__________________________________________________________________________________________________\n",
      "bidirectional_1 (Bidirectional) [(None, 20, 512), (N 1967616     dropout_1[0][0]                  \n",
      "__________________________________________________________________________________________________\n",
      "global_max_pooling1d_1 (GlobalM (None, 512)          0           bidirectional_1[0][0]            \n",
      "__________________________________________________________________________________________________\n",
      "global_average_pooling1d_1 (Glo (None, 512)          0           bidirectional_1[0][0]            \n",
      "__________________________________________________________________________________________________\n",
      "concatenate_1 (Concatenate)     (None, 1536)         0           global_max_pooling1d_1[0][0]     \n",
      "                                                                 global_average_pooling1d_1[0][0] \n",
      "                                                                 bidirectional_1[0][1]            \n",
      "                                                                 bidirectional_1[0][2]            \n",
      "__________________________________________________________________________________________________\n",
      "dropout_2 (Dropout)             (None, 1536)         0           concatenate_1[0][0]              \n",
      "__________________________________________________________________________________________________\n",
      "dense_1 (Dense)                 (None, 100)          153700      dropout_2[0][0]                  \n",
      "__________________________________________________________________________________________________\n",
      "activation_1 (Activation)       (None, 100)          0           dense_1[0][0]                    \n",
      "__________________________________________________________________________________________________\n",
      "dropout_3 (Dropout)             (None, 100)          0           activation_1[0][0]               \n",
      "__________________________________________________________________________________________________\n",
      "dense_2 (Dense)                 (None, 2)            202         dropout_3[0][0]                  \n",
      "__________________________________________________________________________________________________\n",
      "activation_2 (Activation)       (None, 2)            0           dense_2[0][0]                    \n",
      "==================================================================================================\n",
      "Total params: 2,121,518\n",
      "Trainable params: 2,121,518\n",
      "Non-trainable params: 0\n",
      "__________________________________________________________________________________________________\n",
      "2018-11-16 15:01:51.415 INFO in 'deeppavlov.core.commands.train'['train'] at line 360: New best roc_auc of 0.9341\n",
      "2018-11-16 15:01:51.416 INFO in 'deeppavlov.core.commands.train'['train'] at line 362: Saving model\n",
      "2018-11-16 15:01:51.418 INFO in 'deeppavlov.models.classifiers.keras_classification_model'['keras_classification_model'] at line 375: [saving model to /cephfs/home/dilyara.baymurzina/GitHub/reserve/DeepPavlov/download/YahooAnswers/models/model_v39/model_opt.json]\n"
     ]
    },
    {
     "name": "stdout",
     "output_type": "stream",
     "text": [
      "{\"valid\": {\"eval_examples_count\": 403, \"metrics\": {\"roc_auc\": 0.9341, \"sets_accuracy\": 0.8586, \"f1_macro\": 0.8572}, \"time_spent\": \"0:00:07\", \"epochs_done\": 0, \"batches_seen\": 0, \"train_examples_seen\": 0, \"impatience\": 0, \"patience_limit\": 5}}\n",
      "{\"train\": {\"epochs_done\": 1, \"batches_seen\": 11, \"train_examples_seen\": 10603, \"metrics\": {\"roc_auc\": 0.9838, \"sets_accuracy\": 0.9388, \"f1_macro\": 0.9376}, \"time_spent\": \"0:12:38\", \"loss\": 0.3586110770702362}}\n"
     ]
    },
    {
     "name": "stderr",
     "output_type": "stream",
     "text": [
      "2018-11-16 15:14:27.877 INFO in 'deeppavlov.core.commands.train'['train'] at line 525: Did not improve on the roc_auc of 0.9341\n"
     ]
    },
    {
     "name": "stdout",
     "output_type": "stream",
     "text": [
      "{\"valid\": {\"eval_examples_count\": 403, \"metrics\": {\"roc_auc\": 0.9237, \"sets_accuracy\": 0.8313, \"f1_macro\": 0.8262}, \"time_spent\": \"0:12:44\", \"epochs_done\": 1, \"batches_seen\": 11, \"train_examples_seen\": 10603, \"impatience\": 1, \"patience_limit\": 5}}\n",
      "{\"train\": {\"epochs_done\": 2, \"batches_seen\": 22, \"train_examples_seen\": 21206, \"metrics\": {\"roc_auc\": 0.9935, \"sets_accuracy\": 0.9609, \"f1_macro\": 0.9601}, \"time_spent\": \"0:25:22\", \"loss\": 0.25810219889337366}}\n"
     ]
    },
    {
     "name": "stderr",
     "output_type": "stream",
     "text": [
      "2018-11-16 15:27:11.766 INFO in 'deeppavlov.core.commands.train'['train'] at line 525: Did not improve on the roc_auc of 0.9341\n"
     ]
    },
    {
     "name": "stdout",
     "output_type": "stream",
     "text": [
      "{\"valid\": {\"eval_examples_count\": 403, \"metrics\": {\"roc_auc\": 0.9233, \"sets_accuracy\": 0.8263, \"f1_macro\": 0.8207}, \"time_spent\": \"0:25:28\", \"epochs_done\": 2, \"batches_seen\": 22, \"train_examples_seen\": 21206, \"impatience\": 2, \"patience_limit\": 5}}\n",
      "{\"train\": {\"epochs_done\": 3, \"batches_seen\": 33, \"train_examples_seen\": 31809, \"metrics\": {\"roc_auc\": 0.9941, \"sets_accuracy\": 0.9601, \"f1_macro\": 0.9594}, \"time_spent\": \"0:37:25\", \"loss\": 0.2510484050620686}}\n"
     ]
    },
    {
     "name": "stderr",
     "output_type": "stream",
     "text": [
      "2018-11-16 15:39:14.466 INFO in 'deeppavlov.core.commands.train'['train'] at line 525: Did not improve on the roc_auc of 0.9341\n"
     ]
    },
    {
     "name": "stdout",
     "output_type": "stream",
     "text": [
      "{\"valid\": {\"eval_examples_count\": 403, \"metrics\": {\"roc_auc\": 0.9213, \"sets_accuracy\": 0.8462, \"f1_macro\": 0.8425}, \"time_spent\": \"0:37:30\", \"epochs_done\": 3, \"batches_seen\": 33, \"train_examples_seen\": 31809, \"impatience\": 3, \"patience_limit\": 5}}\n",
      "{\"train\": {\"epochs_done\": 4, \"batches_seen\": 44, \"train_examples_seen\": 42412, \"metrics\": {\"roc_auc\": 0.9954, \"sets_accuracy\": 0.964, \"f1_macro\": 0.9632}, \"time_spent\": \"0:49:52\", \"loss\": 0.23277825117111206}}\n"
     ]
    },
    {
     "name": "stderr",
     "output_type": "stream",
     "text": [
      "2018-11-16 15:51:41.714 INFO in 'deeppavlov.core.commands.train'['train'] at line 525: Did not improve on the roc_auc of 0.9341\n"
     ]
    },
    {
     "name": "stdout",
     "output_type": "stream",
     "text": [
      "{\"valid\": {\"eval_examples_count\": 403, \"metrics\": {\"roc_auc\": 0.9214, \"sets_accuracy\": 0.8337, \"f1_macro\": 0.8311}, \"time_spent\": \"0:49:58\", \"epochs_done\": 4, \"batches_seen\": 44, \"train_examples_seen\": 42412, \"impatience\": 4, \"patience_limit\": 5}}\n",
      "{\"train\": {\"epochs_done\": 5, \"batches_seen\": 55, \"train_examples_seen\": 53015, \"metrics\": {\"roc_auc\": 0.9961, \"sets_accuracy\": 0.9677, \"f1_macro\": 0.967}, \"time_spent\": \"1:02:51\", \"loss\": 0.23655203933065588}}\n"
     ]
    },
    {
     "name": "stderr",
     "output_type": "stream",
     "text": [
      "2018-11-16 16:04:40.736 INFO in 'deeppavlov.core.commands.train'['train'] at line 525: Did not improve on the roc_auc of 0.9341\n",
      "2018-11-16 16:04:40.738 INFO in 'deeppavlov.core.commands.train'['train'] at line 536: Ran out of patience\n",
      "2018-11-16 16:04:40.744 INFO in 'deeppavlov.core.data.simple_vocab'['simple_vocab'] at line 100: [loading vocabulary from /cephfs/home/dilyara.baymurzina/GitHub/reserve/DeepPavlov/download/YahooAnswers/models/model_v39/yahoo_answers_classes.dict]\n"
     ]
    },
    {
     "name": "stdout",
     "output_type": "stream",
     "text": [
      "{\"valid\": {\"eval_examples_count\": 403, \"metrics\": {\"roc_auc\": 0.9236, \"sets_accuracy\": 0.8387, \"f1_macro\": 0.8355}, \"time_spent\": \"1:02:57\", \"epochs_done\": 5, \"batches_seen\": 55, \"train_examples_seen\": 53015, \"impatience\": 5, \"patience_limit\": 5}}\n"
     ]
    },
    {
     "name": "stderr",
     "output_type": "stream",
     "text": [
      "2018-11-16 16:04:44.73 DEBUG in 'tensorflow'['tf_logging'] at line 100: Initialize variable module/aggregation/elmo_output_ELMo_W:0 from checkpoint b'/home/kuznetsov/models_env/yahoo-sber-questions_elmo/models/mod_from_git/hubs/yahooo-sber-questions_epoches_n_9/variables/variables' with aggregation/elmo_output_ELMo_W\n",
      "2018-11-16 16:04:44.79 DEBUG in 'tensorflow'['tf_logging'] at line 100: Initialize variable module/aggregation/elmo_output_ELMo_gamma:0 from checkpoint b'/home/kuznetsov/models_env/yahoo-sber-questions_elmo/models/mod_from_git/hubs/yahooo-sber-questions_epoches_n_9/variables/variables' with aggregation/elmo_output_ELMo_gamma\n",
      "2018-11-16 16:04:44.85 DEBUG in 'tensorflow'['tf_logging'] at line 100: Initialize variable module/bilm/CNN/W_cnn_0:0 from checkpoint b'/home/kuznetsov/models_env/yahoo-sber-questions_elmo/models/mod_from_git/hubs/yahooo-sber-questions_epoches_n_9/variables/variables' with bilm/CNN/W_cnn_0\n",
      "2018-11-16 16:04:44.91 DEBUG in 'tensorflow'['tf_logging'] at line 100: Initialize variable module/bilm/CNN/W_cnn_1:0 from checkpoint b'/home/kuznetsov/models_env/yahoo-sber-questions_elmo/models/mod_from_git/hubs/yahooo-sber-questions_epoches_n_9/variables/variables' with bilm/CNN/W_cnn_1\n",
      "2018-11-16 16:04:44.97 DEBUG in 'tensorflow'['tf_logging'] at line 100: Initialize variable module/bilm/CNN/W_cnn_2:0 from checkpoint b'/home/kuznetsov/models_env/yahoo-sber-questions_elmo/models/mod_from_git/hubs/yahooo-sber-questions_epoches_n_9/variables/variables' with bilm/CNN/W_cnn_2\n",
      "2018-11-16 16:04:44.102 DEBUG in 'tensorflow'['tf_logging'] at line 100: Initialize variable module/bilm/CNN/W_cnn_3:0 from checkpoint b'/home/kuznetsov/models_env/yahoo-sber-questions_elmo/models/mod_from_git/hubs/yahooo-sber-questions_epoches_n_9/variables/variables' with bilm/CNN/W_cnn_3\n",
      "2018-11-16 16:04:44.108 DEBUG in 'tensorflow'['tf_logging'] at line 100: Initialize variable module/bilm/CNN/W_cnn_4:0 from checkpoint b'/home/kuznetsov/models_env/yahoo-sber-questions_elmo/models/mod_from_git/hubs/yahooo-sber-questions_epoches_n_9/variables/variables' with bilm/CNN/W_cnn_4\n",
      "2018-11-16 16:04:44.114 DEBUG in 'tensorflow'['tf_logging'] at line 100: Initialize variable module/bilm/CNN/W_cnn_5:0 from checkpoint b'/home/kuznetsov/models_env/yahoo-sber-questions_elmo/models/mod_from_git/hubs/yahooo-sber-questions_epoches_n_9/variables/variables' with bilm/CNN/W_cnn_5\n",
      "2018-11-16 16:04:44.119 DEBUG in 'tensorflow'['tf_logging'] at line 100: Initialize variable module/bilm/CNN/W_cnn_6:0 from checkpoint b'/home/kuznetsov/models_env/yahoo-sber-questions_elmo/models/mod_from_git/hubs/yahooo-sber-questions_epoches_n_9/variables/variables' with bilm/CNN/W_cnn_6\n",
      "2018-11-16 16:04:44.125 DEBUG in 'tensorflow'['tf_logging'] at line 100: Initialize variable module/bilm/CNN/b_cnn_0:0 from checkpoint b'/home/kuznetsov/models_env/yahoo-sber-questions_elmo/models/mod_from_git/hubs/yahooo-sber-questions_epoches_n_9/variables/variables' with bilm/CNN/b_cnn_0\n",
      "2018-11-16 16:04:44.130 DEBUG in 'tensorflow'['tf_logging'] at line 100: Initialize variable module/bilm/CNN/b_cnn_1:0 from checkpoint b'/home/kuznetsov/models_env/yahoo-sber-questions_elmo/models/mod_from_git/hubs/yahooo-sber-questions_epoches_n_9/variables/variables' with bilm/CNN/b_cnn_1\n",
      "2018-11-16 16:04:44.137 DEBUG in 'tensorflow'['tf_logging'] at line 100: Initialize variable module/bilm/CNN/b_cnn_2:0 from checkpoint b'/home/kuznetsov/models_env/yahoo-sber-questions_elmo/models/mod_from_git/hubs/yahooo-sber-questions_epoches_n_9/variables/variables' with bilm/CNN/b_cnn_2\n",
      "2018-11-16 16:04:44.143 DEBUG in 'tensorflow'['tf_logging'] at line 100: Initialize variable module/bilm/CNN/b_cnn_3:0 from checkpoint b'/home/kuznetsov/models_env/yahoo-sber-questions_elmo/models/mod_from_git/hubs/yahooo-sber-questions_epoches_n_9/variables/variables' with bilm/CNN/b_cnn_3\n",
      "2018-11-16 16:04:44.148 DEBUG in 'tensorflow'['tf_logging'] at line 100: Initialize variable module/bilm/CNN/b_cnn_4:0 from checkpoint b'/home/kuznetsov/models_env/yahoo-sber-questions_elmo/models/mod_from_git/hubs/yahooo-sber-questions_epoches_n_9/variables/variables' with bilm/CNN/b_cnn_4\n",
      "2018-11-16 16:04:44.154 DEBUG in 'tensorflow'['tf_logging'] at line 100: Initialize variable module/bilm/CNN/b_cnn_5:0 from checkpoint b'/home/kuznetsov/models_env/yahoo-sber-questions_elmo/models/mod_from_git/hubs/yahooo-sber-questions_epoches_n_9/variables/variables' with bilm/CNN/b_cnn_5\n",
      "2018-11-16 16:04:44.159 DEBUG in 'tensorflow'['tf_logging'] at line 100: Initialize variable module/bilm/CNN/b_cnn_6:0 from checkpoint b'/home/kuznetsov/models_env/yahoo-sber-questions_elmo/models/mod_from_git/hubs/yahooo-sber-questions_epoches_n_9/variables/variables' with bilm/CNN/b_cnn_6\n",
      "2018-11-16 16:04:44.164 DEBUG in 'tensorflow'['tf_logging'] at line 100: Initialize variable module/bilm/CNN_high_0/W_carry:0 from checkpoint b'/home/kuznetsov/models_env/yahoo-sber-questions_elmo/models/mod_from_git/hubs/yahooo-sber-questions_epoches_n_9/variables/variables' with bilm/CNN_high_0/W_carry\n",
      "2018-11-16 16:04:44.170 DEBUG in 'tensorflow'['tf_logging'] at line 100: Initialize variable module/bilm/CNN_high_0/W_transform:0 from checkpoint b'/home/kuznetsov/models_env/yahoo-sber-questions_elmo/models/mod_from_git/hubs/yahooo-sber-questions_epoches_n_9/variables/variables' with bilm/CNN_high_0/W_transform\n",
      "2018-11-16 16:04:44.176 DEBUG in 'tensorflow'['tf_logging'] at line 100: Initialize variable module/bilm/CNN_high_0/b_carry:0 from checkpoint b'/home/kuznetsov/models_env/yahoo-sber-questions_elmo/models/mod_from_git/hubs/yahooo-sber-questions_epoches_n_9/variables/variables' with bilm/CNN_high_0/b_carry\n",
      "2018-11-16 16:04:44.181 DEBUG in 'tensorflow'['tf_logging'] at line 100: Initialize variable module/bilm/CNN_high_0/b_transform:0 from checkpoint b'/home/kuznetsov/models_env/yahoo-sber-questions_elmo/models/mod_from_git/hubs/yahooo-sber-questions_epoches_n_9/variables/variables' with bilm/CNN_high_0/b_transform\n",
      "2018-11-16 16:04:44.187 DEBUG in 'tensorflow'['tf_logging'] at line 100: Initialize variable module/bilm/CNN_high_1/W_carry:0 from checkpoint b'/home/kuznetsov/models_env/yahoo-sber-questions_elmo/models/mod_from_git/hubs/yahooo-sber-questions_epoches_n_9/variables/variables' with bilm/CNN_high_1/W_carry\n",
      "2018-11-16 16:04:44.192 DEBUG in 'tensorflow'['tf_logging'] at line 100: Initialize variable module/bilm/CNN_high_1/W_transform:0 from checkpoint b'/home/kuznetsov/models_env/yahoo-sber-questions_elmo/models/mod_from_git/hubs/yahooo-sber-questions_epoches_n_9/variables/variables' with bilm/CNN_high_1/W_transform\n",
      "2018-11-16 16:04:44.199 DEBUG in 'tensorflow'['tf_logging'] at line 100: Initialize variable module/bilm/CNN_high_1/b_carry:0 from checkpoint b'/home/kuznetsov/models_env/yahoo-sber-questions_elmo/models/mod_from_git/hubs/yahooo-sber-questions_epoches_n_9/variables/variables' with bilm/CNN_high_1/b_carry\n",
      "2018-11-16 16:04:44.204 DEBUG in 'tensorflow'['tf_logging'] at line 100: Initialize variable module/bilm/CNN_high_1/b_transform:0 from checkpoint b'/home/kuznetsov/models_env/yahoo-sber-questions_elmo/models/mod_from_git/hubs/yahooo-sber-questions_epoches_n_9/variables/variables' with bilm/CNN_high_1/b_transform\n",
      "2018-11-16 16:04:44.209 DEBUG in 'tensorflow'['tf_logging'] at line 100: Initialize variable module/bilm/CNN_proj/W_proj:0 from checkpoint b'/home/kuznetsov/models_env/yahoo-sber-questions_elmo/models/mod_from_git/hubs/yahooo-sber-questions_epoches_n_9/variables/variables' with bilm/CNN_proj/W_proj\n",
      "2018-11-16 16:04:44.215 DEBUG in 'tensorflow'['tf_logging'] at line 100: Initialize variable module/bilm/CNN_proj/b_proj:0 from checkpoint b'/home/kuznetsov/models_env/yahoo-sber-questions_elmo/models/mod_from_git/hubs/yahooo-sber-questions_epoches_n_9/variables/variables' with bilm/CNN_proj/b_proj\n",
      "2018-11-16 16:04:44.221 DEBUG in 'tensorflow'['tf_logging'] at line 100: Initialize variable module/bilm/RNN_0/RNN/MultiRNNCell/Cell0/rnn/lstm_cell/bias:0 from checkpoint b'/home/kuznetsov/models_env/yahoo-sber-questions_elmo/models/mod_from_git/hubs/yahooo-sber-questions_epoches_n_9/variables/variables' with bilm/RNN_0/RNN/MultiRNNCell/Cell0/rnn/lstm_cell/bias\n",
      "2018-11-16 16:04:44.227 DEBUG in 'tensorflow'['tf_logging'] at line 100: Initialize variable module/bilm/RNN_0/RNN/MultiRNNCell/Cell0/rnn/lstm_cell/kernel:0 from checkpoint b'/home/kuznetsov/models_env/yahoo-sber-questions_elmo/models/mod_from_git/hubs/yahooo-sber-questions_epoches_n_9/variables/variables' with bilm/RNN_0/RNN/MultiRNNCell/Cell0/rnn/lstm_cell/kernel\n"
     ]
    },
    {
     "name": "stderr",
     "output_type": "stream",
     "text": [
      "2018-11-16 16:04:44.232 DEBUG in 'tensorflow'['tf_logging'] at line 100: Initialize variable module/bilm/RNN_0/RNN/MultiRNNCell/Cell0/rnn/lstm_cell/projection/kernel:0 from checkpoint b'/home/kuznetsov/models_env/yahoo-sber-questions_elmo/models/mod_from_git/hubs/yahooo-sber-questions_epoches_n_9/variables/variables' with bilm/RNN_0/RNN/MultiRNNCell/Cell0/rnn/lstm_cell/projection/kernel\n",
      "2018-11-16 16:04:44.237 DEBUG in 'tensorflow'['tf_logging'] at line 100: Initialize variable module/bilm/RNN_0/RNN/MultiRNNCell/Cell1/rnn/lstm_cell/bias:0 from checkpoint b'/home/kuznetsov/models_env/yahoo-sber-questions_elmo/models/mod_from_git/hubs/yahooo-sber-questions_epoches_n_9/variables/variables' with bilm/RNN_0/RNN/MultiRNNCell/Cell1/rnn/lstm_cell/bias\n",
      "2018-11-16 16:04:44.243 DEBUG in 'tensorflow'['tf_logging'] at line 100: Initialize variable module/bilm/RNN_0/RNN/MultiRNNCell/Cell1/rnn/lstm_cell/kernel:0 from checkpoint b'/home/kuznetsov/models_env/yahoo-sber-questions_elmo/models/mod_from_git/hubs/yahooo-sber-questions_epoches_n_9/variables/variables' with bilm/RNN_0/RNN/MultiRNNCell/Cell1/rnn/lstm_cell/kernel\n",
      "2018-11-16 16:04:44.249 DEBUG in 'tensorflow'['tf_logging'] at line 100: Initialize variable module/bilm/RNN_0/RNN/MultiRNNCell/Cell1/rnn/lstm_cell/projection/kernel:0 from checkpoint b'/home/kuznetsov/models_env/yahoo-sber-questions_elmo/models/mod_from_git/hubs/yahooo-sber-questions_epoches_n_9/variables/variables' with bilm/RNN_0/RNN/MultiRNNCell/Cell1/rnn/lstm_cell/projection/kernel\n",
      "2018-11-16 16:04:44.255 DEBUG in 'tensorflow'['tf_logging'] at line 100: Initialize variable module/bilm/RNN_1/RNN/MultiRNNCell/Cell0/rnn/lstm_cell/bias:0 from checkpoint b'/home/kuznetsov/models_env/yahoo-sber-questions_elmo/models/mod_from_git/hubs/yahooo-sber-questions_epoches_n_9/variables/variables' with bilm/RNN_1/RNN/MultiRNNCell/Cell0/rnn/lstm_cell/bias\n",
      "2018-11-16 16:04:44.260 DEBUG in 'tensorflow'['tf_logging'] at line 100: Initialize variable module/bilm/RNN_1/RNN/MultiRNNCell/Cell0/rnn/lstm_cell/kernel:0 from checkpoint b'/home/kuznetsov/models_env/yahoo-sber-questions_elmo/models/mod_from_git/hubs/yahooo-sber-questions_epoches_n_9/variables/variables' with bilm/RNN_1/RNN/MultiRNNCell/Cell0/rnn/lstm_cell/kernel\n",
      "2018-11-16 16:04:44.266 DEBUG in 'tensorflow'['tf_logging'] at line 100: Initialize variable module/bilm/RNN_1/RNN/MultiRNNCell/Cell0/rnn/lstm_cell/projection/kernel:0 from checkpoint b'/home/kuznetsov/models_env/yahoo-sber-questions_elmo/models/mod_from_git/hubs/yahooo-sber-questions_epoches_n_9/variables/variables' with bilm/RNN_1/RNN/MultiRNNCell/Cell0/rnn/lstm_cell/projection/kernel\n",
      "2018-11-16 16:04:44.272 DEBUG in 'tensorflow'['tf_logging'] at line 100: Initialize variable module/bilm/RNN_1/RNN/MultiRNNCell/Cell1/rnn/lstm_cell/bias:0 from checkpoint b'/home/kuznetsov/models_env/yahoo-sber-questions_elmo/models/mod_from_git/hubs/yahooo-sber-questions_epoches_n_9/variables/variables' with bilm/RNN_1/RNN/MultiRNNCell/Cell1/rnn/lstm_cell/bias\n",
      "2018-11-16 16:04:44.278 DEBUG in 'tensorflow'['tf_logging'] at line 100: Initialize variable module/bilm/RNN_1/RNN/MultiRNNCell/Cell1/rnn/lstm_cell/kernel:0 from checkpoint b'/home/kuznetsov/models_env/yahoo-sber-questions_elmo/models/mod_from_git/hubs/yahooo-sber-questions_epoches_n_9/variables/variables' with bilm/RNN_1/RNN/MultiRNNCell/Cell1/rnn/lstm_cell/kernel\n",
      "2018-11-16 16:04:44.283 DEBUG in 'tensorflow'['tf_logging'] at line 100: Initialize variable module/bilm/RNN_1/RNN/MultiRNNCell/Cell1/rnn/lstm_cell/projection/kernel:0 from checkpoint b'/home/kuznetsov/models_env/yahoo-sber-questions_elmo/models/mod_from_git/hubs/yahooo-sber-questions_epoches_n_9/variables/variables' with bilm/RNN_1/RNN/MultiRNNCell/Cell1/rnn/lstm_cell/projection/kernel\n",
      "2018-11-16 16:04:44.288 DEBUG in 'tensorflow'['tf_logging'] at line 100: Initialize variable module/bilm/Variable:0 from checkpoint b'/home/kuznetsov/models_env/yahoo-sber-questions_elmo/models/mod_from_git/hubs/yahooo-sber-questions_epoches_n_9/variables/variables' with bilm/Variable\n",
      "2018-11-16 16:04:44.294 DEBUG in 'tensorflow'['tf_logging'] at line 100: Initialize variable module/bilm/Variable_1:0 from checkpoint b'/home/kuznetsov/models_env/yahoo-sber-questions_elmo/models/mod_from_git/hubs/yahooo-sber-questions_epoches_n_9/variables/variables' with bilm/Variable_1\n",
      "2018-11-16 16:04:44.301 DEBUG in 'tensorflow'['tf_logging'] at line 100: Initialize variable module/bilm/Variable_2:0 from checkpoint b'/home/kuznetsov/models_env/yahoo-sber-questions_elmo/models/mod_from_git/hubs/yahooo-sber-questions_epoches_n_9/variables/variables' with bilm/Variable_2\n",
      "2018-11-16 16:04:44.308 DEBUG in 'tensorflow'['tf_logging'] at line 100: Initialize variable module/bilm/Variable_3:0 from checkpoint b'/home/kuznetsov/models_env/yahoo-sber-questions_elmo/models/mod_from_git/hubs/yahooo-sber-questions_epoches_n_9/variables/variables' with bilm/Variable_3\n",
      "2018-11-16 16:04:44.314 DEBUG in 'tensorflow'['tf_logging'] at line 100: Initialize variable module/bilm/Variable_4:0 from checkpoint b'/home/kuznetsov/models_env/yahoo-sber-questions_elmo/models/mod_from_git/hubs/yahooo-sber-questions_epoches_n_9/variables/variables' with bilm/Variable_4\n",
      "2018-11-16 16:04:44.320 DEBUG in 'tensorflow'['tf_logging'] at line 100: Initialize variable module/bilm/Variable_5:0 from checkpoint b'/home/kuznetsov/models_env/yahoo-sber-questions_elmo/models/mod_from_git/hubs/yahooo-sber-questions_epoches_n_9/variables/variables' with bilm/Variable_5\n",
      "2018-11-16 16:04:44.326 DEBUG in 'tensorflow'['tf_logging'] at line 100: Initialize variable module/bilm/Variable_6:0 from checkpoint b'/home/kuznetsov/models_env/yahoo-sber-questions_elmo/models/mod_from_git/hubs/yahooo-sber-questions_epoches_n_9/variables/variables' with bilm/Variable_6\n",
      "2018-11-16 16:04:44.333 DEBUG in 'tensorflow'['tf_logging'] at line 100: Initialize variable module/bilm/Variable_7:0 from checkpoint b'/home/kuznetsov/models_env/yahoo-sber-questions_elmo/models/mod_from_git/hubs/yahooo-sber-questions_epoches_n_9/variables/variables' with bilm/Variable_7\n",
      "2018-11-16 16:04:44.338 DEBUG in 'tensorflow'['tf_logging'] at line 100: Initialize variable module/bilm/char_embed:0 from checkpoint b'/home/kuznetsov/models_env/yahoo-sber-questions_elmo/models/mod_from_git/hubs/yahooo-sber-questions_epoches_n_9/variables/variables' with bilm/char_embed\n",
      "2018-11-16 16:04:44.344 DEBUG in 'tensorflow'['tf_logging'] at line 100: Initialize variable module/bilm_1/Variable:0 from checkpoint b'/home/kuznetsov/models_env/yahoo-sber-questions_elmo/models/mod_from_git/hubs/yahooo-sber-questions_epoches_n_9/variables/variables' with bilm_1/Variable\n",
      "2018-11-16 16:04:44.350 DEBUG in 'tensorflow'['tf_logging'] at line 100: Initialize variable module/bilm_1/Variable_1:0 from checkpoint b'/home/kuznetsov/models_env/yahoo-sber-questions_elmo/models/mod_from_git/hubs/yahooo-sber-questions_epoches_n_9/variables/variables' with bilm_1/Variable_1\n",
      "2018-11-16 16:04:44.356 DEBUG in 'tensorflow'['tf_logging'] at line 100: Initialize variable module/bilm_1/Variable_2:0 from checkpoint b'/home/kuznetsov/models_env/yahoo-sber-questions_elmo/models/mod_from_git/hubs/yahooo-sber-questions_epoches_n_9/variables/variables' with bilm_1/Variable_2\n",
      "2018-11-16 16:04:44.363 DEBUG in 'tensorflow'['tf_logging'] at line 100: Initialize variable module/bilm_1/Variable_3:0 from checkpoint b'/home/kuznetsov/models_env/yahoo-sber-questions_elmo/models/mod_from_git/hubs/yahooo-sber-questions_epoches_n_9/variables/variables' with bilm_1/Variable_3\n",
      "2018-11-16 16:04:44.369 DEBUG in 'tensorflow'['tf_logging'] at line 100: Initialize variable module/bilm_1/Variable_4:0 from checkpoint b'/home/kuznetsov/models_env/yahoo-sber-questions_elmo/models/mod_from_git/hubs/yahooo-sber-questions_epoches_n_9/variables/variables' with bilm_1/Variable_4\n",
      "2018-11-16 16:04:44.375 DEBUG in 'tensorflow'['tf_logging'] at line 100: Initialize variable module/bilm_1/Variable_5:0 from checkpoint b'/home/kuznetsov/models_env/yahoo-sber-questions_elmo/models/mod_from_git/hubs/yahooo-sber-questions_epoches_n_9/variables/variables' with bilm_1/Variable_5\n",
      "2018-11-16 16:04:44.383 DEBUG in 'tensorflow'['tf_logging'] at line 100: Initialize variable module/bilm_1/Variable_6:0 from checkpoint b'/home/kuznetsov/models_env/yahoo-sber-questions_elmo/models/mod_from_git/hubs/yahooo-sber-questions_epoches_n_9/variables/variables' with bilm_1/Variable_6\n"
     ]
    },
    {
     "name": "stderr",
     "output_type": "stream",
     "text": [
      "2018-11-16 16:04:44.392 DEBUG in 'tensorflow'['tf_logging'] at line 100: Initialize variable module/bilm_1/Variable_7:0 from checkpoint b'/home/kuznetsov/models_env/yahoo-sber-questions_elmo/models/mod_from_git/hubs/yahooo-sber-questions_epoches_n_9/variables/variables' with bilm_1/Variable_7\n",
      "2018-11-16 16:04:46.123 INFO in 'tensorflow'['tf_logging'] at line 115: Saver not created because there are no variables in the graph to restore\n",
      "2018-11-16 16:04:46.613 INFO in 'deeppavlov.models.classifiers.keras_classification_model'['keras_classification_model'] at line 291: [initializing `KerasClassificationModel` from saved]\n",
      "2018-11-16 16:04:47.675 INFO in 'deeppavlov.models.classifiers.keras_classification_model'['keras_classification_model'] at line 301: [loading weights from model.h5]\n",
      "2018-11-16 16:04:47.907 INFO in 'deeppavlov.models.classifiers.keras_classification_model'['keras_classification_model'] at line 135: Model was successfully initialized!\n",
      "Model summary:\n",
      "__________________________________________________________________________________________________\n",
      "Layer (type)                    Output Shape         Param #     Connected to                     \n",
      "==================================================================================================\n",
      "input_1 (InputLayer)            (None, 20, 1024)     0                                            \n",
      "__________________________________________________________________________________________________\n",
      "dropout_1 (Dropout)             (None, 20, 1024)     0           input_1[0][0]                    \n",
      "__________________________________________________________________________________________________\n",
      "bidirectional_1 (Bidirectional) [(None, 20, 512), (N 1967616     dropout_1[0][0]                  \n",
      "__________________________________________________________________________________________________\n",
      "global_max_pooling1d_1 (GlobalM (None, 512)          0           bidirectional_1[0][0]            \n",
      "__________________________________________________________________________________________________\n",
      "global_average_pooling1d_1 (Glo (None, 512)          0           bidirectional_1[0][0]            \n",
      "__________________________________________________________________________________________________\n",
      "concatenate_1 (Concatenate)     (None, 1536)         0           global_max_pooling1d_1[0][0]     \n",
      "                                                                 global_average_pooling1d_1[0][0] \n",
      "                                                                 bidirectional_1[0][1]            \n",
      "                                                                 bidirectional_1[0][2]            \n",
      "__________________________________________________________________________________________________\n",
      "dropout_2 (Dropout)             (None, 1536)         0           concatenate_1[0][0]              \n",
      "__________________________________________________________________________________________________\n",
      "dense_1 (Dense)                 (None, 100)          153700      dropout_2[0][0]                  \n",
      "__________________________________________________________________________________________________\n",
      "activation_1 (Activation)       (None, 100)          0           dense_1[0][0]                    \n",
      "__________________________________________________________________________________________________\n",
      "dropout_3 (Dropout)             (None, 100)          0           activation_1[0][0]               \n",
      "__________________________________________________________________________________________________\n",
      "dense_2 (Dense)                 (None, 2)            202         dropout_3[0][0]                  \n",
      "__________________________________________________________________________________________________\n",
      "activation_2 (Activation)       (None, 2)            0           dense_2[0][0]                    \n",
      "==================================================================================================\n",
      "Total params: 2,121,518\n",
      "Trainable params: 2,121,518\n",
      "Non-trainable params: 0\n",
      "__________________________________________________________________________________________________\n",
      "2018-11-16 16:04:47.909 INFO in 'deeppavlov.core.commands.train'['train'] at line 221: Testing the best saved model\n"
     ]
    },
    {
     "name": "stdout",
     "output_type": "stream",
     "text": [
      "{\"valid\": {\"eval_examples_count\": 403, \"metrics\": {\"roc_auc\": 0.9341, \"sets_accuracy\": 0.8586, \"f1_macro\": 0.8572}, \"time_spent\": \"0:00:07\"}}\n"
     ]
    },
    {
     "name": "stderr",
     "output_type": "stream",
     "text": [
      "2018-11-16 16:04:55.853 INFO in 'deeppavlov.core.data.simple_vocab'['simple_vocab'] at line 100: [loading vocabulary from /cephfs/home/dilyara.baymurzina/GitHub/reserve/DeepPavlov/download/YahooAnswers/models/model_v39/yahoo_answers_classes.dict]\n"
     ]
    },
    {
     "name": "stdout",
     "output_type": "stream",
     "text": [
      "{\"test\": {\"eval_examples_count\": 100, \"metrics\": {\"roc_auc\": 0.8964, \"sets_accuracy\": 0.8, \"f1_macro\": 0.7933}, \"time_spent\": \"0:00:02\"}}\n"
     ]
    },
    {
     "name": "stderr",
     "output_type": "stream",
     "text": [
      "2018-11-16 16:04:58.326 DEBUG in 'tensorflow'['tf_logging'] at line 100: Initialize variable module/aggregation/elmo_output_ELMo_W:0 from checkpoint b'/home/kuznetsov/models_env/yahoo-sber-questions_elmo/models/mod_from_git/hubs/yahooo-sber-questions_epoches_n_9/variables/variables' with aggregation/elmo_output_ELMo_W\n",
      "2018-11-16 16:04:58.331 DEBUG in 'tensorflow'['tf_logging'] at line 100: Initialize variable module/aggregation/elmo_output_ELMo_gamma:0 from checkpoint b'/home/kuznetsov/models_env/yahoo-sber-questions_elmo/models/mod_from_git/hubs/yahooo-sber-questions_epoches_n_9/variables/variables' with aggregation/elmo_output_ELMo_gamma\n",
      "2018-11-16 16:04:58.336 DEBUG in 'tensorflow'['tf_logging'] at line 100: Initialize variable module/bilm/CNN/W_cnn_0:0 from checkpoint b'/home/kuznetsov/models_env/yahoo-sber-questions_elmo/models/mod_from_git/hubs/yahooo-sber-questions_epoches_n_9/variables/variables' with bilm/CNN/W_cnn_0\n",
      "2018-11-16 16:04:58.341 DEBUG in 'tensorflow'['tf_logging'] at line 100: Initialize variable module/bilm/CNN/W_cnn_1:0 from checkpoint b'/home/kuznetsov/models_env/yahoo-sber-questions_elmo/models/mod_from_git/hubs/yahooo-sber-questions_epoches_n_9/variables/variables' with bilm/CNN/W_cnn_1\n",
      "2018-11-16 16:04:58.347 DEBUG in 'tensorflow'['tf_logging'] at line 100: Initialize variable module/bilm/CNN/W_cnn_2:0 from checkpoint b'/home/kuznetsov/models_env/yahoo-sber-questions_elmo/models/mod_from_git/hubs/yahooo-sber-questions_epoches_n_9/variables/variables' with bilm/CNN/W_cnn_2\n",
      "2018-11-16 16:04:58.353 DEBUG in 'tensorflow'['tf_logging'] at line 100: Initialize variable module/bilm/CNN/W_cnn_3:0 from checkpoint b'/home/kuznetsov/models_env/yahoo-sber-questions_elmo/models/mod_from_git/hubs/yahooo-sber-questions_epoches_n_9/variables/variables' with bilm/CNN/W_cnn_3\n",
      "2018-11-16 16:04:58.359 DEBUG in 'tensorflow'['tf_logging'] at line 100: Initialize variable module/bilm/CNN/W_cnn_4:0 from checkpoint b'/home/kuznetsov/models_env/yahoo-sber-questions_elmo/models/mod_from_git/hubs/yahooo-sber-questions_epoches_n_9/variables/variables' with bilm/CNN/W_cnn_4\n",
      "2018-11-16 16:04:58.364 DEBUG in 'tensorflow'['tf_logging'] at line 100: Initialize variable module/bilm/CNN/W_cnn_5:0 from checkpoint b'/home/kuznetsov/models_env/yahoo-sber-questions_elmo/models/mod_from_git/hubs/yahooo-sber-questions_epoches_n_9/variables/variables' with bilm/CNN/W_cnn_5\n",
      "2018-11-16 16:04:58.370 DEBUG in 'tensorflow'['tf_logging'] at line 100: Initialize variable module/bilm/CNN/W_cnn_6:0 from checkpoint b'/home/kuznetsov/models_env/yahoo-sber-questions_elmo/models/mod_from_git/hubs/yahooo-sber-questions_epoches_n_9/variables/variables' with bilm/CNN/W_cnn_6\n",
      "2018-11-16 16:04:58.376 DEBUG in 'tensorflow'['tf_logging'] at line 100: Initialize variable module/bilm/CNN/b_cnn_0:0 from checkpoint b'/home/kuznetsov/models_env/yahoo-sber-questions_elmo/models/mod_from_git/hubs/yahooo-sber-questions_epoches_n_9/variables/variables' with bilm/CNN/b_cnn_0\n",
      "2018-11-16 16:04:58.382 DEBUG in 'tensorflow'['tf_logging'] at line 100: Initialize variable module/bilm/CNN/b_cnn_1:0 from checkpoint b'/home/kuznetsov/models_env/yahoo-sber-questions_elmo/models/mod_from_git/hubs/yahooo-sber-questions_epoches_n_9/variables/variables' with bilm/CNN/b_cnn_1\n",
      "2018-11-16 16:04:58.388 DEBUG in 'tensorflow'['tf_logging'] at line 100: Initialize variable module/bilm/CNN/b_cnn_2:0 from checkpoint b'/home/kuznetsov/models_env/yahoo-sber-questions_elmo/models/mod_from_git/hubs/yahooo-sber-questions_epoches_n_9/variables/variables' with bilm/CNN/b_cnn_2\n",
      "2018-11-16 16:04:58.393 DEBUG in 'tensorflow'['tf_logging'] at line 100: Initialize variable module/bilm/CNN/b_cnn_3:0 from checkpoint b'/home/kuznetsov/models_env/yahoo-sber-questions_elmo/models/mod_from_git/hubs/yahooo-sber-questions_epoches_n_9/variables/variables' with bilm/CNN/b_cnn_3\n",
      "2018-11-16 16:04:58.399 DEBUG in 'tensorflow'['tf_logging'] at line 100: Initialize variable module/bilm/CNN/b_cnn_4:0 from checkpoint b'/home/kuznetsov/models_env/yahoo-sber-questions_elmo/models/mod_from_git/hubs/yahooo-sber-questions_epoches_n_9/variables/variables' with bilm/CNN/b_cnn_4\n",
      "2018-11-16 16:04:58.404 DEBUG in 'tensorflow'['tf_logging'] at line 100: Initialize variable module/bilm/CNN/b_cnn_5:0 from checkpoint b'/home/kuznetsov/models_env/yahoo-sber-questions_elmo/models/mod_from_git/hubs/yahooo-sber-questions_epoches_n_9/variables/variables' with bilm/CNN/b_cnn_5\n",
      "2018-11-16 16:04:58.410 DEBUG in 'tensorflow'['tf_logging'] at line 100: Initialize variable module/bilm/CNN/b_cnn_6:0 from checkpoint b'/home/kuznetsov/models_env/yahoo-sber-questions_elmo/models/mod_from_git/hubs/yahooo-sber-questions_epoches_n_9/variables/variables' with bilm/CNN/b_cnn_6\n",
      "2018-11-16 16:04:58.416 DEBUG in 'tensorflow'['tf_logging'] at line 100: Initialize variable module/bilm/CNN_high_0/W_carry:0 from checkpoint b'/home/kuznetsov/models_env/yahoo-sber-questions_elmo/models/mod_from_git/hubs/yahooo-sber-questions_epoches_n_9/variables/variables' with bilm/CNN_high_0/W_carry\n",
      "2018-11-16 16:04:58.421 DEBUG in 'tensorflow'['tf_logging'] at line 100: Initialize variable module/bilm/CNN_high_0/W_transform:0 from checkpoint b'/home/kuznetsov/models_env/yahoo-sber-questions_elmo/models/mod_from_git/hubs/yahooo-sber-questions_epoches_n_9/variables/variables' with bilm/CNN_high_0/W_transform\n",
      "2018-11-16 16:04:58.427 DEBUG in 'tensorflow'['tf_logging'] at line 100: Initialize variable module/bilm/CNN_high_0/b_carry:0 from checkpoint b'/home/kuznetsov/models_env/yahoo-sber-questions_elmo/models/mod_from_git/hubs/yahooo-sber-questions_epoches_n_9/variables/variables' with bilm/CNN_high_0/b_carry\n",
      "2018-11-16 16:04:58.432 DEBUG in 'tensorflow'['tf_logging'] at line 100: Initialize variable module/bilm/CNN_high_0/b_transform:0 from checkpoint b'/home/kuznetsov/models_env/yahoo-sber-questions_elmo/models/mod_from_git/hubs/yahooo-sber-questions_epoches_n_9/variables/variables' with bilm/CNN_high_0/b_transform\n",
      "2018-11-16 16:04:58.437 DEBUG in 'tensorflow'['tf_logging'] at line 100: Initialize variable module/bilm/CNN_high_1/W_carry:0 from checkpoint b'/home/kuznetsov/models_env/yahoo-sber-questions_elmo/models/mod_from_git/hubs/yahooo-sber-questions_epoches_n_9/variables/variables' with bilm/CNN_high_1/W_carry\n",
      "2018-11-16 16:04:58.443 DEBUG in 'tensorflow'['tf_logging'] at line 100: Initialize variable module/bilm/CNN_high_1/W_transform:0 from checkpoint b'/home/kuznetsov/models_env/yahoo-sber-questions_elmo/models/mod_from_git/hubs/yahooo-sber-questions_epoches_n_9/variables/variables' with bilm/CNN_high_1/W_transform\n",
      "2018-11-16 16:04:58.449 DEBUG in 'tensorflow'['tf_logging'] at line 100: Initialize variable module/bilm/CNN_high_1/b_carry:0 from checkpoint b'/home/kuznetsov/models_env/yahoo-sber-questions_elmo/models/mod_from_git/hubs/yahooo-sber-questions_epoches_n_9/variables/variables' with bilm/CNN_high_1/b_carry\n",
      "2018-11-16 16:04:58.454 DEBUG in 'tensorflow'['tf_logging'] at line 100: Initialize variable module/bilm/CNN_high_1/b_transform:0 from checkpoint b'/home/kuznetsov/models_env/yahoo-sber-questions_elmo/models/mod_from_git/hubs/yahooo-sber-questions_epoches_n_9/variables/variables' with bilm/CNN_high_1/b_transform\n",
      "2018-11-16 16:04:58.459 DEBUG in 'tensorflow'['tf_logging'] at line 100: Initialize variable module/bilm/CNN_proj/W_proj:0 from checkpoint b'/home/kuznetsov/models_env/yahoo-sber-questions_elmo/models/mod_from_git/hubs/yahooo-sber-questions_epoches_n_9/variables/variables' with bilm/CNN_proj/W_proj\n",
      "2018-11-16 16:04:58.465 DEBUG in 'tensorflow'['tf_logging'] at line 100: Initialize variable module/bilm/CNN_proj/b_proj:0 from checkpoint b'/home/kuznetsov/models_env/yahoo-sber-questions_elmo/models/mod_from_git/hubs/yahooo-sber-questions_epoches_n_9/variables/variables' with bilm/CNN_proj/b_proj\n",
      "2018-11-16 16:04:58.470 DEBUG in 'tensorflow'['tf_logging'] at line 100: Initialize variable module/bilm/RNN_0/RNN/MultiRNNCell/Cell0/rnn/lstm_cell/bias:0 from checkpoint b'/home/kuznetsov/models_env/yahoo-sber-questions_elmo/models/mod_from_git/hubs/yahooo-sber-questions_epoches_n_9/variables/variables' with bilm/RNN_0/RNN/MultiRNNCell/Cell0/rnn/lstm_cell/bias\n",
      "2018-11-16 16:04:58.476 DEBUG in 'tensorflow'['tf_logging'] at line 100: Initialize variable module/bilm/RNN_0/RNN/MultiRNNCell/Cell0/rnn/lstm_cell/kernel:0 from checkpoint b'/home/kuznetsov/models_env/yahoo-sber-questions_elmo/models/mod_from_git/hubs/yahooo-sber-questions_epoches_n_9/variables/variables' with bilm/RNN_0/RNN/MultiRNNCell/Cell0/rnn/lstm_cell/kernel\n"
     ]
    },
    {
     "name": "stderr",
     "output_type": "stream",
     "text": [
      "2018-11-16 16:04:58.482 DEBUG in 'tensorflow'['tf_logging'] at line 100: Initialize variable module/bilm/RNN_0/RNN/MultiRNNCell/Cell0/rnn/lstm_cell/projection/kernel:0 from checkpoint b'/home/kuznetsov/models_env/yahoo-sber-questions_elmo/models/mod_from_git/hubs/yahooo-sber-questions_epoches_n_9/variables/variables' with bilm/RNN_0/RNN/MultiRNNCell/Cell0/rnn/lstm_cell/projection/kernel\n",
      "2018-11-16 16:04:58.487 DEBUG in 'tensorflow'['tf_logging'] at line 100: Initialize variable module/bilm/RNN_0/RNN/MultiRNNCell/Cell1/rnn/lstm_cell/bias:0 from checkpoint b'/home/kuznetsov/models_env/yahoo-sber-questions_elmo/models/mod_from_git/hubs/yahooo-sber-questions_epoches_n_9/variables/variables' with bilm/RNN_0/RNN/MultiRNNCell/Cell1/rnn/lstm_cell/bias\n",
      "2018-11-16 16:04:58.493 DEBUG in 'tensorflow'['tf_logging'] at line 100: Initialize variable module/bilm/RNN_0/RNN/MultiRNNCell/Cell1/rnn/lstm_cell/kernel:0 from checkpoint b'/home/kuznetsov/models_env/yahoo-sber-questions_elmo/models/mod_from_git/hubs/yahooo-sber-questions_epoches_n_9/variables/variables' with bilm/RNN_0/RNN/MultiRNNCell/Cell1/rnn/lstm_cell/kernel\n",
      "2018-11-16 16:04:58.498 DEBUG in 'tensorflow'['tf_logging'] at line 100: Initialize variable module/bilm/RNN_0/RNN/MultiRNNCell/Cell1/rnn/lstm_cell/projection/kernel:0 from checkpoint b'/home/kuznetsov/models_env/yahoo-sber-questions_elmo/models/mod_from_git/hubs/yahooo-sber-questions_epoches_n_9/variables/variables' with bilm/RNN_0/RNN/MultiRNNCell/Cell1/rnn/lstm_cell/projection/kernel\n",
      "2018-11-16 16:04:58.504 DEBUG in 'tensorflow'['tf_logging'] at line 100: Initialize variable module/bilm/RNN_1/RNN/MultiRNNCell/Cell0/rnn/lstm_cell/bias:0 from checkpoint b'/home/kuznetsov/models_env/yahoo-sber-questions_elmo/models/mod_from_git/hubs/yahooo-sber-questions_epoches_n_9/variables/variables' with bilm/RNN_1/RNN/MultiRNNCell/Cell0/rnn/lstm_cell/bias\n",
      "2018-11-16 16:04:58.509 DEBUG in 'tensorflow'['tf_logging'] at line 100: Initialize variable module/bilm/RNN_1/RNN/MultiRNNCell/Cell0/rnn/lstm_cell/kernel:0 from checkpoint b'/home/kuznetsov/models_env/yahoo-sber-questions_elmo/models/mod_from_git/hubs/yahooo-sber-questions_epoches_n_9/variables/variables' with bilm/RNN_1/RNN/MultiRNNCell/Cell0/rnn/lstm_cell/kernel\n",
      "2018-11-16 16:04:58.515 DEBUG in 'tensorflow'['tf_logging'] at line 100: Initialize variable module/bilm/RNN_1/RNN/MultiRNNCell/Cell0/rnn/lstm_cell/projection/kernel:0 from checkpoint b'/home/kuznetsov/models_env/yahoo-sber-questions_elmo/models/mod_from_git/hubs/yahooo-sber-questions_epoches_n_9/variables/variables' with bilm/RNN_1/RNN/MultiRNNCell/Cell0/rnn/lstm_cell/projection/kernel\n",
      "2018-11-16 16:04:58.521 DEBUG in 'tensorflow'['tf_logging'] at line 100: Initialize variable module/bilm/RNN_1/RNN/MultiRNNCell/Cell1/rnn/lstm_cell/bias:0 from checkpoint b'/home/kuznetsov/models_env/yahoo-sber-questions_elmo/models/mod_from_git/hubs/yahooo-sber-questions_epoches_n_9/variables/variables' with bilm/RNN_1/RNN/MultiRNNCell/Cell1/rnn/lstm_cell/bias\n",
      "2018-11-16 16:04:58.527 DEBUG in 'tensorflow'['tf_logging'] at line 100: Initialize variable module/bilm/RNN_1/RNN/MultiRNNCell/Cell1/rnn/lstm_cell/kernel:0 from checkpoint b'/home/kuznetsov/models_env/yahoo-sber-questions_elmo/models/mod_from_git/hubs/yahooo-sber-questions_epoches_n_9/variables/variables' with bilm/RNN_1/RNN/MultiRNNCell/Cell1/rnn/lstm_cell/kernel\n",
      "2018-11-16 16:04:58.533 DEBUG in 'tensorflow'['tf_logging'] at line 100: Initialize variable module/bilm/RNN_1/RNN/MultiRNNCell/Cell1/rnn/lstm_cell/projection/kernel:0 from checkpoint b'/home/kuznetsov/models_env/yahoo-sber-questions_elmo/models/mod_from_git/hubs/yahooo-sber-questions_epoches_n_9/variables/variables' with bilm/RNN_1/RNN/MultiRNNCell/Cell1/rnn/lstm_cell/projection/kernel\n",
      "2018-11-16 16:04:58.540 DEBUG in 'tensorflow'['tf_logging'] at line 100: Initialize variable module/bilm/Variable:0 from checkpoint b'/home/kuznetsov/models_env/yahoo-sber-questions_elmo/models/mod_from_git/hubs/yahooo-sber-questions_epoches_n_9/variables/variables' with bilm/Variable\n",
      "2018-11-16 16:04:58.547 DEBUG in 'tensorflow'['tf_logging'] at line 100: Initialize variable module/bilm/Variable_1:0 from checkpoint b'/home/kuznetsov/models_env/yahoo-sber-questions_elmo/models/mod_from_git/hubs/yahooo-sber-questions_epoches_n_9/variables/variables' with bilm/Variable_1\n",
      "2018-11-16 16:04:58.553 DEBUG in 'tensorflow'['tf_logging'] at line 100: Initialize variable module/bilm/Variable_2:0 from checkpoint b'/home/kuznetsov/models_env/yahoo-sber-questions_elmo/models/mod_from_git/hubs/yahooo-sber-questions_epoches_n_9/variables/variables' with bilm/Variable_2\n",
      "2018-11-16 16:04:58.559 DEBUG in 'tensorflow'['tf_logging'] at line 100: Initialize variable module/bilm/Variable_3:0 from checkpoint b'/home/kuznetsov/models_env/yahoo-sber-questions_elmo/models/mod_from_git/hubs/yahooo-sber-questions_epoches_n_9/variables/variables' with bilm/Variable_3\n",
      "2018-11-16 16:04:58.565 DEBUG in 'tensorflow'['tf_logging'] at line 100: Initialize variable module/bilm/Variable_4:0 from checkpoint b'/home/kuznetsov/models_env/yahoo-sber-questions_elmo/models/mod_from_git/hubs/yahooo-sber-questions_epoches_n_9/variables/variables' with bilm/Variable_4\n",
      "2018-11-16 16:04:58.571 DEBUG in 'tensorflow'['tf_logging'] at line 100: Initialize variable module/bilm/Variable_5:0 from checkpoint b'/home/kuznetsov/models_env/yahoo-sber-questions_elmo/models/mod_from_git/hubs/yahooo-sber-questions_epoches_n_9/variables/variables' with bilm/Variable_5\n",
      "2018-11-16 16:04:58.577 DEBUG in 'tensorflow'['tf_logging'] at line 100: Initialize variable module/bilm/Variable_6:0 from checkpoint b'/home/kuznetsov/models_env/yahoo-sber-questions_elmo/models/mod_from_git/hubs/yahooo-sber-questions_epoches_n_9/variables/variables' with bilm/Variable_6\n",
      "2018-11-16 16:04:58.583 DEBUG in 'tensorflow'['tf_logging'] at line 100: Initialize variable module/bilm/Variable_7:0 from checkpoint b'/home/kuznetsov/models_env/yahoo-sber-questions_elmo/models/mod_from_git/hubs/yahooo-sber-questions_epoches_n_9/variables/variables' with bilm/Variable_7\n",
      "2018-11-16 16:04:58.588 DEBUG in 'tensorflow'['tf_logging'] at line 100: Initialize variable module/bilm/char_embed:0 from checkpoint b'/home/kuznetsov/models_env/yahoo-sber-questions_elmo/models/mod_from_git/hubs/yahooo-sber-questions_epoches_n_9/variables/variables' with bilm/char_embed\n",
      "2018-11-16 16:04:58.594 DEBUG in 'tensorflow'['tf_logging'] at line 100: Initialize variable module/bilm_1/Variable:0 from checkpoint b'/home/kuznetsov/models_env/yahoo-sber-questions_elmo/models/mod_from_git/hubs/yahooo-sber-questions_epoches_n_9/variables/variables' with bilm_1/Variable\n",
      "2018-11-16 16:04:58.600 DEBUG in 'tensorflow'['tf_logging'] at line 100: Initialize variable module/bilm_1/Variable_1:0 from checkpoint b'/home/kuznetsov/models_env/yahoo-sber-questions_elmo/models/mod_from_git/hubs/yahooo-sber-questions_epoches_n_9/variables/variables' with bilm_1/Variable_1\n",
      "2018-11-16 16:04:58.607 DEBUG in 'tensorflow'['tf_logging'] at line 100: Initialize variable module/bilm_1/Variable_2:0 from checkpoint b'/home/kuznetsov/models_env/yahoo-sber-questions_elmo/models/mod_from_git/hubs/yahooo-sber-questions_epoches_n_9/variables/variables' with bilm_1/Variable_2\n",
      "2018-11-16 16:04:58.612 DEBUG in 'tensorflow'['tf_logging'] at line 100: Initialize variable module/bilm_1/Variable_3:0 from checkpoint b'/home/kuznetsov/models_env/yahoo-sber-questions_elmo/models/mod_from_git/hubs/yahooo-sber-questions_epoches_n_9/variables/variables' with bilm_1/Variable_3\n",
      "2018-11-16 16:04:58.618 DEBUG in 'tensorflow'['tf_logging'] at line 100: Initialize variable module/bilm_1/Variable_4:0 from checkpoint b'/home/kuznetsov/models_env/yahoo-sber-questions_elmo/models/mod_from_git/hubs/yahooo-sber-questions_epoches_n_9/variables/variables' with bilm_1/Variable_4\n",
      "2018-11-16 16:04:58.624 DEBUG in 'tensorflow'['tf_logging'] at line 100: Initialize variable module/bilm_1/Variable_5:0 from checkpoint b'/home/kuznetsov/models_env/yahoo-sber-questions_elmo/models/mod_from_git/hubs/yahooo-sber-questions_epoches_n_9/variables/variables' with bilm_1/Variable_5\n",
      "2018-11-16 16:04:58.631 DEBUG in 'tensorflow'['tf_logging'] at line 100: Initialize variable module/bilm_1/Variable_6:0 from checkpoint b'/home/kuznetsov/models_env/yahoo-sber-questions_elmo/models/mod_from_git/hubs/yahooo-sber-questions_epoches_n_9/variables/variables' with bilm_1/Variable_6\n"
     ]
    },
    {
     "name": "stderr",
     "output_type": "stream",
     "text": [
      "2018-11-16 16:04:58.637 DEBUG in 'tensorflow'['tf_logging'] at line 100: Initialize variable module/bilm_1/Variable_7:0 from checkpoint b'/home/kuznetsov/models_env/yahoo-sber-questions_elmo/models/mod_from_git/hubs/yahooo-sber-questions_epoches_n_9/variables/variables' with bilm_1/Variable_7\n",
      "2018-11-16 16:05:01.90 INFO in 'tensorflow'['tf_logging'] at line 115: Saver not created because there are no variables in the graph to restore\n",
      "2018-11-16 16:05:01.590 INFO in 'deeppavlov.models.classifiers.keras_classification_model'['keras_classification_model'] at line 291: [initializing `KerasClassificationModel` from saved]\n",
      "2018-11-16 16:05:02.719 INFO in 'deeppavlov.models.classifiers.keras_classification_model'['keras_classification_model'] at line 301: [loading weights from model.h5]\n",
      "2018-11-16 16:05:02.944 INFO in 'deeppavlov.models.classifiers.keras_classification_model'['keras_classification_model'] at line 135: Model was successfully initialized!\n",
      "Model summary:\n",
      "__________________________________________________________________________________________________\n",
      "Layer (type)                    Output Shape         Param #     Connected to                     \n",
      "==================================================================================================\n",
      "input_1 (InputLayer)            (None, 20, 1024)     0                                            \n",
      "__________________________________________________________________________________________________\n",
      "dropout_1 (Dropout)             (None, 20, 1024)     0           input_1[0][0]                    \n",
      "__________________________________________________________________________________________________\n",
      "bidirectional_1 (Bidirectional) [(None, 20, 512), (N 1967616     dropout_1[0][0]                  \n",
      "__________________________________________________________________________________________________\n",
      "global_max_pooling1d_1 (GlobalM (None, 512)          0           bidirectional_1[0][0]            \n",
      "__________________________________________________________________________________________________\n",
      "global_average_pooling1d_1 (Glo (None, 512)          0           bidirectional_1[0][0]            \n",
      "__________________________________________________________________________________________________\n",
      "concatenate_1 (Concatenate)     (None, 1536)         0           global_max_pooling1d_1[0][0]     \n",
      "                                                                 global_average_pooling1d_1[0][0] \n",
      "                                                                 bidirectional_1[0][1]            \n",
      "                                                                 bidirectional_1[0][2]            \n",
      "__________________________________________________________________________________________________\n",
      "dropout_2 (Dropout)             (None, 1536)         0           concatenate_1[0][0]              \n",
      "__________________________________________________________________________________________________\n",
      "dense_1 (Dense)                 (None, 100)          153700      dropout_2[0][0]                  \n",
      "__________________________________________________________________________________________________\n",
      "activation_1 (Activation)       (None, 100)          0           dense_1[0][0]                    \n",
      "__________________________________________________________________________________________________\n",
      "dropout_3 (Dropout)             (None, 100)          0           activation_1[0][0]               \n",
      "__________________________________________________________________________________________________\n",
      "dense_2 (Dense)                 (None, 2)            202         dropout_3[0][0]                  \n",
      "__________________________________________________________________________________________________\n",
      "activation_2 (Activation)       (None, 2)            0           dense_2[0][0]                    \n",
      "==================================================================================================\n",
      "Total params: 2,121,518\n",
      "Trainable params: 2,121,518\n",
      "Non-trainable params: 0\n",
      "__________________________________________________________________________________________________\n",
      "2018-11-16 16:05:02.946 INFO in 'deeppavlov.core.data.simple_vocab'['simple_vocab'] at line 100: [loading vocabulary from /cephfs/home/dilyara.baymurzina/GitHub/reserve/DeepPavlov/download/YahooAnswers/models/model_v39/yahoo_answers_classes.dict]\n"
     ]
    },
    {
     "name": "stdout",
     "output_type": "stream",
     "text": [
      "Iteration 6: add 1128 samples to train dataset\n"
     ]
    },
    {
     "name": "stderr",
     "output_type": "stream",
     "text": [
      "2018-11-16 16:10:13.97 INFO in 'deeppavlov.core.data.simple_vocab'['simple_vocab'] at line 100: [loading vocabulary from /cephfs/home/dilyara.baymurzina/GitHub/reserve/DeepPavlov/download/YahooAnswers/models/model_v39/yahoo_answers_classes.dict]\n",
      "2018-11-16 16:10:13.121 INFO in 'deeppavlov.core.data.simple_vocab'['simple_vocab'] at line 89: [saving vocabulary to /cephfs/home/dilyara.baymurzina/GitHub/reserve/DeepPavlov/download/YahooAnswers/models/model_v39/yahoo_answers_classes.dict]\n",
      "2018-11-16 16:10:15.709 DEBUG in 'tensorflow'['tf_logging'] at line 100: Initialize variable module/aggregation/elmo_output_ELMo_W:0 from checkpoint b'/home/kuznetsov/models_env/yahoo-sber-questions_elmo/models/mod_from_git/hubs/yahooo-sber-questions_epoches_n_9/variables/variables' with aggregation/elmo_output_ELMo_W\n",
      "2018-11-16 16:10:15.715 DEBUG in 'tensorflow'['tf_logging'] at line 100: Initialize variable module/aggregation/elmo_output_ELMo_gamma:0 from checkpoint b'/home/kuznetsov/models_env/yahoo-sber-questions_elmo/models/mod_from_git/hubs/yahooo-sber-questions_epoches_n_9/variables/variables' with aggregation/elmo_output_ELMo_gamma\n",
      "2018-11-16 16:10:15.722 DEBUG in 'tensorflow'['tf_logging'] at line 100: Initialize variable module/bilm/CNN/W_cnn_0:0 from checkpoint b'/home/kuznetsov/models_env/yahoo-sber-questions_elmo/models/mod_from_git/hubs/yahooo-sber-questions_epoches_n_9/variables/variables' with bilm/CNN/W_cnn_0\n",
      "2018-11-16 16:10:15.727 DEBUG in 'tensorflow'['tf_logging'] at line 100: Initialize variable module/bilm/CNN/W_cnn_1:0 from checkpoint b'/home/kuznetsov/models_env/yahoo-sber-questions_elmo/models/mod_from_git/hubs/yahooo-sber-questions_epoches_n_9/variables/variables' with bilm/CNN/W_cnn_1\n",
      "2018-11-16 16:10:15.732 DEBUG in 'tensorflow'['tf_logging'] at line 100: Initialize variable module/bilm/CNN/W_cnn_2:0 from checkpoint b'/home/kuznetsov/models_env/yahoo-sber-questions_elmo/models/mod_from_git/hubs/yahooo-sber-questions_epoches_n_9/variables/variables' with bilm/CNN/W_cnn_2\n",
      "2018-11-16 16:10:15.738 DEBUG in 'tensorflow'['tf_logging'] at line 100: Initialize variable module/bilm/CNN/W_cnn_3:0 from checkpoint b'/home/kuznetsov/models_env/yahoo-sber-questions_elmo/models/mod_from_git/hubs/yahooo-sber-questions_epoches_n_9/variables/variables' with bilm/CNN/W_cnn_3\n",
      "2018-11-16 16:10:15.744 DEBUG in 'tensorflow'['tf_logging'] at line 100: Initialize variable module/bilm/CNN/W_cnn_4:0 from checkpoint b'/home/kuznetsov/models_env/yahoo-sber-questions_elmo/models/mod_from_git/hubs/yahooo-sber-questions_epoches_n_9/variables/variables' with bilm/CNN/W_cnn_4\n",
      "2018-11-16 16:10:15.749 DEBUG in 'tensorflow'['tf_logging'] at line 100: Initialize variable module/bilm/CNN/W_cnn_5:0 from checkpoint b'/home/kuznetsov/models_env/yahoo-sber-questions_elmo/models/mod_from_git/hubs/yahooo-sber-questions_epoches_n_9/variables/variables' with bilm/CNN/W_cnn_5\n",
      "2018-11-16 16:10:15.755 DEBUG in 'tensorflow'['tf_logging'] at line 100: Initialize variable module/bilm/CNN/W_cnn_6:0 from checkpoint b'/home/kuznetsov/models_env/yahoo-sber-questions_elmo/models/mod_from_git/hubs/yahooo-sber-questions_epoches_n_9/variables/variables' with bilm/CNN/W_cnn_6\n",
      "2018-11-16 16:10:15.761 DEBUG in 'tensorflow'['tf_logging'] at line 100: Initialize variable module/bilm/CNN/b_cnn_0:0 from checkpoint b'/home/kuznetsov/models_env/yahoo-sber-questions_elmo/models/mod_from_git/hubs/yahooo-sber-questions_epoches_n_9/variables/variables' with bilm/CNN/b_cnn_0\n",
      "2018-11-16 16:10:15.768 DEBUG in 'tensorflow'['tf_logging'] at line 100: Initialize variable module/bilm/CNN/b_cnn_1:0 from checkpoint b'/home/kuznetsov/models_env/yahoo-sber-questions_elmo/models/mod_from_git/hubs/yahooo-sber-questions_epoches_n_9/variables/variables' with bilm/CNN/b_cnn_1\n",
      "2018-11-16 16:10:15.773 DEBUG in 'tensorflow'['tf_logging'] at line 100: Initialize variable module/bilm/CNN/b_cnn_2:0 from checkpoint b'/home/kuznetsov/models_env/yahoo-sber-questions_elmo/models/mod_from_git/hubs/yahooo-sber-questions_epoches_n_9/variables/variables' with bilm/CNN/b_cnn_2\n",
      "2018-11-16 16:10:15.779 DEBUG in 'tensorflow'['tf_logging'] at line 100: Initialize variable module/bilm/CNN/b_cnn_3:0 from checkpoint b'/home/kuznetsov/models_env/yahoo-sber-questions_elmo/models/mod_from_git/hubs/yahooo-sber-questions_epoches_n_9/variables/variables' with bilm/CNN/b_cnn_3\n",
      "2018-11-16 16:10:15.785 DEBUG in 'tensorflow'['tf_logging'] at line 100: Initialize variable module/bilm/CNN/b_cnn_4:0 from checkpoint b'/home/kuznetsov/models_env/yahoo-sber-questions_elmo/models/mod_from_git/hubs/yahooo-sber-questions_epoches_n_9/variables/variables' with bilm/CNN/b_cnn_4\n",
      "2018-11-16 16:10:15.790 DEBUG in 'tensorflow'['tf_logging'] at line 100: Initialize variable module/bilm/CNN/b_cnn_5:0 from checkpoint b'/home/kuznetsov/models_env/yahoo-sber-questions_elmo/models/mod_from_git/hubs/yahooo-sber-questions_epoches_n_9/variables/variables' with bilm/CNN/b_cnn_5\n",
      "2018-11-16 16:10:15.796 DEBUG in 'tensorflow'['tf_logging'] at line 100: Initialize variable module/bilm/CNN/b_cnn_6:0 from checkpoint b'/home/kuznetsov/models_env/yahoo-sber-questions_elmo/models/mod_from_git/hubs/yahooo-sber-questions_epoches_n_9/variables/variables' with bilm/CNN/b_cnn_6\n",
      "2018-11-16 16:10:15.802 DEBUG in 'tensorflow'['tf_logging'] at line 100: Initialize variable module/bilm/CNN_high_0/W_carry:0 from checkpoint b'/home/kuznetsov/models_env/yahoo-sber-questions_elmo/models/mod_from_git/hubs/yahooo-sber-questions_epoches_n_9/variables/variables' with bilm/CNN_high_0/W_carry\n",
      "2018-11-16 16:10:15.808 DEBUG in 'tensorflow'['tf_logging'] at line 100: Initialize variable module/bilm/CNN_high_0/W_transform:0 from checkpoint b'/home/kuznetsov/models_env/yahoo-sber-questions_elmo/models/mod_from_git/hubs/yahooo-sber-questions_epoches_n_9/variables/variables' with bilm/CNN_high_0/W_transform\n",
      "2018-11-16 16:10:15.813 DEBUG in 'tensorflow'['tf_logging'] at line 100: Initialize variable module/bilm/CNN_high_0/b_carry:0 from checkpoint b'/home/kuznetsov/models_env/yahoo-sber-questions_elmo/models/mod_from_git/hubs/yahooo-sber-questions_epoches_n_9/variables/variables' with bilm/CNN_high_0/b_carry\n",
      "2018-11-16 16:10:15.819 DEBUG in 'tensorflow'['tf_logging'] at line 100: Initialize variable module/bilm/CNN_high_0/b_transform:0 from checkpoint b'/home/kuznetsov/models_env/yahoo-sber-questions_elmo/models/mod_from_git/hubs/yahooo-sber-questions_epoches_n_9/variables/variables' with bilm/CNN_high_0/b_transform\n",
      "2018-11-16 16:10:15.825 DEBUG in 'tensorflow'['tf_logging'] at line 100: Initialize variable module/bilm/CNN_high_1/W_carry:0 from checkpoint b'/home/kuznetsov/models_env/yahoo-sber-questions_elmo/models/mod_from_git/hubs/yahooo-sber-questions_epoches_n_9/variables/variables' with bilm/CNN_high_1/W_carry\n",
      "2018-11-16 16:10:15.831 DEBUG in 'tensorflow'['tf_logging'] at line 100: Initialize variable module/bilm/CNN_high_1/W_transform:0 from checkpoint b'/home/kuznetsov/models_env/yahoo-sber-questions_elmo/models/mod_from_git/hubs/yahooo-sber-questions_epoches_n_9/variables/variables' with bilm/CNN_high_1/W_transform\n",
      "2018-11-16 16:10:15.838 DEBUG in 'tensorflow'['tf_logging'] at line 100: Initialize variable module/bilm/CNN_high_1/b_carry:0 from checkpoint b'/home/kuznetsov/models_env/yahoo-sber-questions_elmo/models/mod_from_git/hubs/yahooo-sber-questions_epoches_n_9/variables/variables' with bilm/CNN_high_1/b_carry\n",
      "2018-11-16 16:10:15.843 DEBUG in 'tensorflow'['tf_logging'] at line 100: Initialize variable module/bilm/CNN_high_1/b_transform:0 from checkpoint b'/home/kuznetsov/models_env/yahoo-sber-questions_elmo/models/mod_from_git/hubs/yahooo-sber-questions_epoches_n_9/variables/variables' with bilm/CNN_high_1/b_transform\n",
      "2018-11-16 16:10:15.850 DEBUG in 'tensorflow'['tf_logging'] at line 100: Initialize variable module/bilm/CNN_proj/W_proj:0 from checkpoint b'/home/kuznetsov/models_env/yahoo-sber-questions_elmo/models/mod_from_git/hubs/yahooo-sber-questions_epoches_n_9/variables/variables' with bilm/CNN_proj/W_proj\n",
      "2018-11-16 16:10:15.856 DEBUG in 'tensorflow'['tf_logging'] at line 100: Initialize variable module/bilm/CNN_proj/b_proj:0 from checkpoint b'/home/kuznetsov/models_env/yahoo-sber-questions_elmo/models/mod_from_git/hubs/yahooo-sber-questions_epoches_n_9/variables/variables' with bilm/CNN_proj/b_proj\n"
     ]
    },
    {
     "name": "stderr",
     "output_type": "stream",
     "text": [
      "2018-11-16 16:10:15.862 DEBUG in 'tensorflow'['tf_logging'] at line 100: Initialize variable module/bilm/RNN_0/RNN/MultiRNNCell/Cell0/rnn/lstm_cell/bias:0 from checkpoint b'/home/kuznetsov/models_env/yahoo-sber-questions_elmo/models/mod_from_git/hubs/yahooo-sber-questions_epoches_n_9/variables/variables' with bilm/RNN_0/RNN/MultiRNNCell/Cell0/rnn/lstm_cell/bias\n",
      "2018-11-16 16:10:15.868 DEBUG in 'tensorflow'['tf_logging'] at line 100: Initialize variable module/bilm/RNN_0/RNN/MultiRNNCell/Cell0/rnn/lstm_cell/kernel:0 from checkpoint b'/home/kuznetsov/models_env/yahoo-sber-questions_elmo/models/mod_from_git/hubs/yahooo-sber-questions_epoches_n_9/variables/variables' with bilm/RNN_0/RNN/MultiRNNCell/Cell0/rnn/lstm_cell/kernel\n",
      "2018-11-16 16:10:15.874 DEBUG in 'tensorflow'['tf_logging'] at line 100: Initialize variable module/bilm/RNN_0/RNN/MultiRNNCell/Cell0/rnn/lstm_cell/projection/kernel:0 from checkpoint b'/home/kuznetsov/models_env/yahoo-sber-questions_elmo/models/mod_from_git/hubs/yahooo-sber-questions_epoches_n_9/variables/variables' with bilm/RNN_0/RNN/MultiRNNCell/Cell0/rnn/lstm_cell/projection/kernel\n",
      "2018-11-16 16:10:15.881 DEBUG in 'tensorflow'['tf_logging'] at line 100: Initialize variable module/bilm/RNN_0/RNN/MultiRNNCell/Cell1/rnn/lstm_cell/bias:0 from checkpoint b'/home/kuznetsov/models_env/yahoo-sber-questions_elmo/models/mod_from_git/hubs/yahooo-sber-questions_epoches_n_9/variables/variables' with bilm/RNN_0/RNN/MultiRNNCell/Cell1/rnn/lstm_cell/bias\n",
      "2018-11-16 16:10:15.887 DEBUG in 'tensorflow'['tf_logging'] at line 100: Initialize variable module/bilm/RNN_0/RNN/MultiRNNCell/Cell1/rnn/lstm_cell/kernel:0 from checkpoint b'/home/kuznetsov/models_env/yahoo-sber-questions_elmo/models/mod_from_git/hubs/yahooo-sber-questions_epoches_n_9/variables/variables' with bilm/RNN_0/RNN/MultiRNNCell/Cell1/rnn/lstm_cell/kernel\n",
      "2018-11-16 16:10:15.893 DEBUG in 'tensorflow'['tf_logging'] at line 100: Initialize variable module/bilm/RNN_0/RNN/MultiRNNCell/Cell1/rnn/lstm_cell/projection/kernel:0 from checkpoint b'/home/kuznetsov/models_env/yahoo-sber-questions_elmo/models/mod_from_git/hubs/yahooo-sber-questions_epoches_n_9/variables/variables' with bilm/RNN_0/RNN/MultiRNNCell/Cell1/rnn/lstm_cell/projection/kernel\n",
      "2018-11-16 16:10:15.898 DEBUG in 'tensorflow'['tf_logging'] at line 100: Initialize variable module/bilm/RNN_1/RNN/MultiRNNCell/Cell0/rnn/lstm_cell/bias:0 from checkpoint b'/home/kuznetsov/models_env/yahoo-sber-questions_elmo/models/mod_from_git/hubs/yahooo-sber-questions_epoches_n_9/variables/variables' with bilm/RNN_1/RNN/MultiRNNCell/Cell0/rnn/lstm_cell/bias\n",
      "2018-11-16 16:10:15.903 DEBUG in 'tensorflow'['tf_logging'] at line 100: Initialize variable module/bilm/RNN_1/RNN/MultiRNNCell/Cell0/rnn/lstm_cell/kernel:0 from checkpoint b'/home/kuznetsov/models_env/yahoo-sber-questions_elmo/models/mod_from_git/hubs/yahooo-sber-questions_epoches_n_9/variables/variables' with bilm/RNN_1/RNN/MultiRNNCell/Cell0/rnn/lstm_cell/kernel\n",
      "2018-11-16 16:10:15.909 DEBUG in 'tensorflow'['tf_logging'] at line 100: Initialize variable module/bilm/RNN_1/RNN/MultiRNNCell/Cell0/rnn/lstm_cell/projection/kernel:0 from checkpoint b'/home/kuznetsov/models_env/yahoo-sber-questions_elmo/models/mod_from_git/hubs/yahooo-sber-questions_epoches_n_9/variables/variables' with bilm/RNN_1/RNN/MultiRNNCell/Cell0/rnn/lstm_cell/projection/kernel\n",
      "2018-11-16 16:10:15.915 DEBUG in 'tensorflow'['tf_logging'] at line 100: Initialize variable module/bilm/RNN_1/RNN/MultiRNNCell/Cell1/rnn/lstm_cell/bias:0 from checkpoint b'/home/kuznetsov/models_env/yahoo-sber-questions_elmo/models/mod_from_git/hubs/yahooo-sber-questions_epoches_n_9/variables/variables' with bilm/RNN_1/RNN/MultiRNNCell/Cell1/rnn/lstm_cell/bias\n",
      "2018-11-16 16:10:15.921 DEBUG in 'tensorflow'['tf_logging'] at line 100: Initialize variable module/bilm/RNN_1/RNN/MultiRNNCell/Cell1/rnn/lstm_cell/kernel:0 from checkpoint b'/home/kuznetsov/models_env/yahoo-sber-questions_elmo/models/mod_from_git/hubs/yahooo-sber-questions_epoches_n_9/variables/variables' with bilm/RNN_1/RNN/MultiRNNCell/Cell1/rnn/lstm_cell/kernel\n",
      "2018-11-16 16:10:15.926 DEBUG in 'tensorflow'['tf_logging'] at line 100: Initialize variable module/bilm/RNN_1/RNN/MultiRNNCell/Cell1/rnn/lstm_cell/projection/kernel:0 from checkpoint b'/home/kuznetsov/models_env/yahoo-sber-questions_elmo/models/mod_from_git/hubs/yahooo-sber-questions_epoches_n_9/variables/variables' with bilm/RNN_1/RNN/MultiRNNCell/Cell1/rnn/lstm_cell/projection/kernel\n",
      "2018-11-16 16:10:15.932 DEBUG in 'tensorflow'['tf_logging'] at line 100: Initialize variable module/bilm/Variable:0 from checkpoint b'/home/kuznetsov/models_env/yahoo-sber-questions_elmo/models/mod_from_git/hubs/yahooo-sber-questions_epoches_n_9/variables/variables' with bilm/Variable\n",
      "2018-11-16 16:10:15.938 DEBUG in 'tensorflow'['tf_logging'] at line 100: Initialize variable module/bilm/Variable_1:0 from checkpoint b'/home/kuznetsov/models_env/yahoo-sber-questions_elmo/models/mod_from_git/hubs/yahooo-sber-questions_epoches_n_9/variables/variables' with bilm/Variable_1\n",
      "2018-11-16 16:10:15.945 DEBUG in 'tensorflow'['tf_logging'] at line 100: Initialize variable module/bilm/Variable_2:0 from checkpoint b'/home/kuznetsov/models_env/yahoo-sber-questions_elmo/models/mod_from_git/hubs/yahooo-sber-questions_epoches_n_9/variables/variables' with bilm/Variable_2\n",
      "2018-11-16 16:10:15.951 DEBUG in 'tensorflow'['tf_logging'] at line 100: Initialize variable module/bilm/Variable_3:0 from checkpoint b'/home/kuznetsov/models_env/yahoo-sber-questions_elmo/models/mod_from_git/hubs/yahooo-sber-questions_epoches_n_9/variables/variables' with bilm/Variable_3\n",
      "2018-11-16 16:10:15.957 DEBUG in 'tensorflow'['tf_logging'] at line 100: Initialize variable module/bilm/Variable_4:0 from checkpoint b'/home/kuznetsov/models_env/yahoo-sber-questions_elmo/models/mod_from_git/hubs/yahooo-sber-questions_epoches_n_9/variables/variables' with bilm/Variable_4\n",
      "2018-11-16 16:10:15.963 DEBUG in 'tensorflow'['tf_logging'] at line 100: Initialize variable module/bilm/Variable_5:0 from checkpoint b'/home/kuznetsov/models_env/yahoo-sber-questions_elmo/models/mod_from_git/hubs/yahooo-sber-questions_epoches_n_9/variables/variables' with bilm/Variable_5\n",
      "2018-11-16 16:10:15.969 DEBUG in 'tensorflow'['tf_logging'] at line 100: Initialize variable module/bilm/Variable_6:0 from checkpoint b'/home/kuznetsov/models_env/yahoo-sber-questions_elmo/models/mod_from_git/hubs/yahooo-sber-questions_epoches_n_9/variables/variables' with bilm/Variable_6\n",
      "2018-11-16 16:10:15.975 DEBUG in 'tensorflow'['tf_logging'] at line 100: Initialize variable module/bilm/Variable_7:0 from checkpoint b'/home/kuznetsov/models_env/yahoo-sber-questions_elmo/models/mod_from_git/hubs/yahooo-sber-questions_epoches_n_9/variables/variables' with bilm/Variable_7\n",
      "2018-11-16 16:10:15.982 DEBUG in 'tensorflow'['tf_logging'] at line 100: Initialize variable module/bilm/char_embed:0 from checkpoint b'/home/kuznetsov/models_env/yahoo-sber-questions_elmo/models/mod_from_git/hubs/yahooo-sber-questions_epoches_n_9/variables/variables' with bilm/char_embed\n",
      "2018-11-16 16:10:15.988 DEBUG in 'tensorflow'['tf_logging'] at line 100: Initialize variable module/bilm_1/Variable:0 from checkpoint b'/home/kuznetsov/models_env/yahoo-sber-questions_elmo/models/mod_from_git/hubs/yahooo-sber-questions_epoches_n_9/variables/variables' with bilm_1/Variable\n",
      "2018-11-16 16:10:15.994 DEBUG in 'tensorflow'['tf_logging'] at line 100: Initialize variable module/bilm_1/Variable_1:0 from checkpoint b'/home/kuznetsov/models_env/yahoo-sber-questions_elmo/models/mod_from_git/hubs/yahooo-sber-questions_epoches_n_9/variables/variables' with bilm_1/Variable_1\n",
      "2018-11-16 16:10:16.0 DEBUG in 'tensorflow'['tf_logging'] at line 100: Initialize variable module/bilm_1/Variable_2:0 from checkpoint b'/home/kuznetsov/models_env/yahoo-sber-questions_elmo/models/mod_from_git/hubs/yahooo-sber-questions_epoches_n_9/variables/variables' with bilm_1/Variable_2\n",
      "2018-11-16 16:10:16.7 DEBUG in 'tensorflow'['tf_logging'] at line 100: Initialize variable module/bilm_1/Variable_3:0 from checkpoint b'/home/kuznetsov/models_env/yahoo-sber-questions_elmo/models/mod_from_git/hubs/yahooo-sber-questions_epoches_n_9/variables/variables' with bilm_1/Variable_3\n"
     ]
    },
    {
     "name": "stderr",
     "output_type": "stream",
     "text": [
      "2018-11-16 16:10:16.13 DEBUG in 'tensorflow'['tf_logging'] at line 100: Initialize variable module/bilm_1/Variable_4:0 from checkpoint b'/home/kuznetsov/models_env/yahoo-sber-questions_elmo/models/mod_from_git/hubs/yahooo-sber-questions_epoches_n_9/variables/variables' with bilm_1/Variable_4\n",
      "2018-11-16 16:10:16.19 DEBUG in 'tensorflow'['tf_logging'] at line 100: Initialize variable module/bilm_1/Variable_5:0 from checkpoint b'/home/kuznetsov/models_env/yahoo-sber-questions_elmo/models/mod_from_git/hubs/yahooo-sber-questions_epoches_n_9/variables/variables' with bilm_1/Variable_5\n",
      "2018-11-16 16:10:16.25 DEBUG in 'tensorflow'['tf_logging'] at line 100: Initialize variable module/bilm_1/Variable_6:0 from checkpoint b'/home/kuznetsov/models_env/yahoo-sber-questions_elmo/models/mod_from_git/hubs/yahooo-sber-questions_epoches_n_9/variables/variables' with bilm_1/Variable_6\n",
      "2018-11-16 16:10:16.30 DEBUG in 'tensorflow'['tf_logging'] at line 100: Initialize variable module/bilm_1/Variable_7:0 from checkpoint b'/home/kuznetsov/models_env/yahoo-sber-questions_elmo/models/mod_from_git/hubs/yahooo-sber-questions_epoches_n_9/variables/variables' with bilm_1/Variable_7\n",
      "2018-11-16 16:10:18.731 INFO in 'tensorflow'['tf_logging'] at line 115: Saver not created because there are no variables in the graph to restore\n",
      "2018-11-16 16:10:19.245 INFO in 'deeppavlov.models.classifiers.keras_classification_model'['keras_classification_model'] at line 291: [initializing `KerasClassificationModel` from saved]\n",
      "2018-11-16 16:10:20.242 INFO in 'deeppavlov.models.classifiers.keras_classification_model'['keras_classification_model'] at line 301: [loading weights from model.h5]\n",
      "2018-11-16 16:10:20.469 INFO in 'deeppavlov.models.classifiers.keras_classification_model'['keras_classification_model'] at line 135: Model was successfully initialized!\n",
      "Model summary:\n",
      "__________________________________________________________________________________________________\n",
      "Layer (type)                    Output Shape         Param #     Connected to                     \n",
      "==================================================================================================\n",
      "input_1 (InputLayer)            (None, 20, 1024)     0                                            \n",
      "__________________________________________________________________________________________________\n",
      "dropout_1 (Dropout)             (None, 20, 1024)     0           input_1[0][0]                    \n",
      "__________________________________________________________________________________________________\n",
      "bidirectional_1 (Bidirectional) [(None, 20, 512), (N 1967616     dropout_1[0][0]                  \n",
      "__________________________________________________________________________________________________\n",
      "global_max_pooling1d_1 (GlobalM (None, 512)          0           bidirectional_1[0][0]            \n",
      "__________________________________________________________________________________________________\n",
      "global_average_pooling1d_1 (Glo (None, 512)          0           bidirectional_1[0][0]            \n",
      "__________________________________________________________________________________________________\n",
      "concatenate_1 (Concatenate)     (None, 1536)         0           global_max_pooling1d_1[0][0]     \n",
      "                                                                 global_average_pooling1d_1[0][0] \n",
      "                                                                 bidirectional_1[0][1]            \n",
      "                                                                 bidirectional_1[0][2]            \n",
      "__________________________________________________________________________________________________\n",
      "dropout_2 (Dropout)             (None, 1536)         0           concatenate_1[0][0]              \n",
      "__________________________________________________________________________________________________\n",
      "dense_1 (Dense)                 (None, 100)          153700      dropout_2[0][0]                  \n",
      "__________________________________________________________________________________________________\n",
      "activation_1 (Activation)       (None, 100)          0           dense_1[0][0]                    \n",
      "__________________________________________________________________________________________________\n",
      "dropout_3 (Dropout)             (None, 100)          0           activation_1[0][0]               \n",
      "__________________________________________________________________________________________________\n",
      "dense_2 (Dense)                 (None, 2)            202         dropout_3[0][0]                  \n",
      "__________________________________________________________________________________________________\n",
      "activation_2 (Activation)       (None, 2)            0           dense_2[0][0]                    \n",
      "==================================================================================================\n",
      "Total params: 2,121,518\n",
      "Trainable params: 2,121,518\n",
      "Non-trainable params: 0\n",
      "__________________________________________________________________________________________________\n",
      "2018-11-16 16:10:27.363 INFO in 'deeppavlov.core.commands.train'['train'] at line 360: New best roc_auc of 0.9341\n",
      "2018-11-16 16:10:27.364 INFO in 'deeppavlov.core.commands.train'['train'] at line 362: Saving model\n",
      "2018-11-16 16:10:27.366 INFO in 'deeppavlov.models.classifiers.keras_classification_model'['keras_classification_model'] at line 375: [saving model to /cephfs/home/dilyara.baymurzina/GitHub/reserve/DeepPavlov/download/YahooAnswers/models/model_v39/model_opt.json]\n"
     ]
    },
    {
     "name": "stdout",
     "output_type": "stream",
     "text": [
      "{\"valid\": {\"eval_examples_count\": 403, \"metrics\": {\"roc_auc\": 0.9341, \"sets_accuracy\": 0.8586, \"f1_macro\": 0.8572}, \"time_spent\": \"0:00:07\", \"epochs_done\": 0, \"batches_seen\": 0, \"train_examples_seen\": 0, \"impatience\": 0, \"patience_limit\": 5}}\n"
     ]
    }
   ],
   "source": [
    "available_unlabelled_ids = np.arange(len(unlabelled_data))\n",
    "\n",
    "np.random.seed(42)\n",
    "\n",
    "for i in range(N_ITERATIONS):\n",
    "    samples = []\n",
    "    labels = []\n",
    "    \n",
    "    ids_to_label = available_unlabelled_ids[\n",
    "        np.random.randint(low=0, \n",
    "                          high=len(available_unlabelled_ids), \n",
    "                          size=ONE_ITERATION_PORTION)]\n",
    "    available_unlabelled_ids = np.delete(available_unlabelled_ids, ids_to_label)\n",
    "    train_evaluate_model_from_config(deepcopy(config_pl))\n",
    "    model = build_model_from_config(deepcopy(config_pl))\n",
    "    classes = np.array(list(from_params(\n",
    "        deepcopy(config_pl[\"chainer\"][\"pipe\"][CLASSES_VOCAB_ID_IN_PIPE])).keys()))\n",
    "\n",
    "    for j, sample_id in enumerate(ids_to_label):\n",
    "        prediction = model([unlabelled_data[sample_id]])[0]\n",
    "        if len(np.where(np.array(prediction) > CONFIDENT_PROBA)[0]):\n",
    "            samples.append(unlabelled_data[sample_id])\n",
    "            labels.append(classes[np.where(np.array(prediction) > CONFIDENT_PROBA)])\n",
    "    \n",
    "    print(\"Iteration {}: add {} samples to train dataset\".format(i, len(samples)))\n",
    "    save_extended_data(config_pl, samples, labels)"
   ]
  },
  {
   "cell_type": "code",
   "execution_count": null,
   "metadata": {
    "collapsed": true
   },
   "outputs": [],
   "source": []
  }
 ],
 "metadata": {
  "kernelspec": {
   "display_name": "Deep36Reserve",
   "language": "python",
   "name": "deeppavlov36_reserve"
  },
  "language_info": {
   "codemirror_mode": {
    "name": "ipython",
    "version": 3
   },
   "file_extension": ".py",
   "mimetype": "text/x-python",
   "name": "python",
   "nbconvert_exporter": "python",
   "pygments_lexer": "ipython3",
   "version": "3.6.7"
  }
 },
 "nbformat": 4,
 "nbformat_minor": 2
}
